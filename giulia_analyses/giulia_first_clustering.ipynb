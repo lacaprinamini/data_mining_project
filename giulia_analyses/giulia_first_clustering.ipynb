{
 "cells": [
  {
   "cell_type": "code",
   "execution_count": 1,
   "id": "41213c22",
   "metadata": {},
   "outputs": [
    {
     "name": "stderr",
     "output_type": "stream",
     "text": [
      "C:\\Users\\Giulia\\AppData\\Local\\Temp\\ipykernel_5684\\673120910.py:7: DeprecationWarning: Please use `pearsonr` from the `scipy.stats` namespace, the `scipy.stats.stats` namespace is deprecated.\n",
      "  from scipy.stats.stats import pearsonr\n"
     ]
    }
   ],
   "source": [
    "import math\n",
    "import numpy as np\n",
    "import pandas as pd\n",
    "import scipy.stats as stats\n",
    "import matplotlib.pyplot as plt\n",
    "from collections import defaultdict\n",
    "from scipy.stats.stats import pearsonr\n",
    "from sklearn.preprocessing import StandardScaler, MinMaxScaler\n",
    "from scipy.cluster.hierarchy import linkage, dendrogram\n",
    "import seaborn as sns"
   ]
  },
  {
   "cell_type": "code",
   "execution_count": 2,
   "id": "e0d12886",
   "metadata": {},
   "outputs": [
    {
     "data": {
      "text/html": [
       "<div>\n",
       "<style scoped>\n",
       "    .dataframe tbody tr th:only-of-type {\n",
       "        vertical-align: middle;\n",
       "    }\n",
       "\n",
       "    .dataframe tbody tr th {\n",
       "        vertical-align: top;\n",
       "    }\n",
       "\n",
       "    .dataframe thead th {\n",
       "        text-align: right;\n",
       "    }\n",
       "</style>\n",
       "<table border=\"1\" class=\"dataframe\">\n",
       "  <thead>\n",
       "    <tr style=\"text-align: right;\">\n",
       "      <th></th>\n",
       "      <th>name</th>\n",
       "      <th>duration_ms</th>\n",
       "      <th>explicit</th>\n",
       "      <th>popularity</th>\n",
       "      <th>artists</th>\n",
       "      <th>album_name</th>\n",
       "      <th>danceability</th>\n",
       "      <th>energy</th>\n",
       "      <th>key</th>\n",
       "      <th>loudness</th>\n",
       "      <th>...</th>\n",
       "      <th>liveness</th>\n",
       "      <th>valence</th>\n",
       "      <th>tempo</th>\n",
       "      <th>features_duration_ms</th>\n",
       "      <th>time_signature</th>\n",
       "      <th>n_beats</th>\n",
       "      <th>n_bars</th>\n",
       "      <th>popularity_confidence</th>\n",
       "      <th>processing</th>\n",
       "      <th>genre</th>\n",
       "    </tr>\n",
       "  </thead>\n",
       "  <tbody>\n",
       "    <tr>\n",
       "      <th>0</th>\n",
       "      <td>Long Road</td>\n",
       "      <td>241760</td>\n",
       "      <td>False</td>\n",
       "      <td>46</td>\n",
       "      <td>Funki Porcini</td>\n",
       "      <td>Hed Phone Sex</td>\n",
       "      <td>0.690</td>\n",
       "      <td>0.513</td>\n",
       "      <td>5</td>\n",
       "      <td>-12.529</td>\n",
       "      <td>...</td>\n",
       "      <td>0.2810</td>\n",
       "      <td>0.6350</td>\n",
       "      <td>142.221</td>\n",
       "      <td>241760</td>\n",
       "      <td>4.0</td>\n",
       "      <td>567.0</td>\n",
       "      <td>141.0</td>\n",
       "      <td>NaN</td>\n",
       "      <td>1.279305</td>\n",
       "      <td>j-dance</td>\n",
       "    </tr>\n",
       "    <tr>\n",
       "      <th>1</th>\n",
       "      <td>Daniâl My Son, Where Did You Vanish?</td>\n",
       "      <td>444000</td>\n",
       "      <td>False</td>\n",
       "      <td>0</td>\n",
       "      <td>Siavash Amini</td>\n",
       "      <td>A Trail of Laughters</td>\n",
       "      <td>0.069</td>\n",
       "      <td>0.196</td>\n",
       "      <td>1</td>\n",
       "      <td>-24.801</td>\n",
       "      <td>...</td>\n",
       "      <td>0.3600</td>\n",
       "      <td>0.0336</td>\n",
       "      <td>75.596</td>\n",
       "      <td>444000</td>\n",
       "      <td>4.0</td>\n",
       "      <td>617.0</td>\n",
       "      <td>155.0</td>\n",
       "      <td>NaN</td>\n",
       "      <td>2.367412</td>\n",
       "      <td>iranian</td>\n",
       "    </tr>\n",
       "    <tr>\n",
       "      <th>2</th>\n",
       "      <td>Ondskapens Galakse</td>\n",
       "      <td>333506</td>\n",
       "      <td>False</td>\n",
       "      <td>3</td>\n",
       "      <td>Kvelertak</td>\n",
       "      <td>Nattesferd</td>\n",
       "      <td>0.363</td>\n",
       "      <td>0.854</td>\n",
       "      <td>2</td>\n",
       "      <td>-7.445</td>\n",
       "      <td>...</td>\n",
       "      <td>0.2620</td>\n",
       "      <td>0.4890</td>\n",
       "      <td>116.628</td>\n",
       "      <td>333507</td>\n",
       "      <td>4.0</td>\n",
       "      <td>652.0</td>\n",
       "      <td>162.0</td>\n",
       "      <td>NaN</td>\n",
       "      <td>3.700483</td>\n",
       "      <td>black-metal</td>\n",
       "    </tr>\n",
       "    <tr>\n",
       "      <th>3</th>\n",
       "      <td>Can't Look Away</td>\n",
       "      <td>269800</td>\n",
       "      <td>False</td>\n",
       "      <td>23</td>\n",
       "      <td>The Wood Brothers</td>\n",
       "      <td>One Drop of Truth</td>\n",
       "      <td>0.523</td>\n",
       "      <td>0.585</td>\n",
       "      <td>5</td>\n",
       "      <td>-5.607</td>\n",
       "      <td>...</td>\n",
       "      <td>0.1170</td>\n",
       "      <td>0.3850</td>\n",
       "      <td>140.880</td>\n",
       "      <td>269800</td>\n",
       "      <td>4.0</td>\n",
       "      <td>619.0</td>\n",
       "      <td>155.0</td>\n",
       "      <td>0.469</td>\n",
       "      <td>1.279305</td>\n",
       "      <td>bluegrass</td>\n",
       "    </tr>\n",
       "    <tr>\n",
       "      <th>4</th>\n",
       "      <td>Thunderground</td>\n",
       "      <td>307651</td>\n",
       "      <td>False</td>\n",
       "      <td>25</td>\n",
       "      <td>The Darkraver;DJ Vince</td>\n",
       "      <td>Happy Hardcore Top 100</td>\n",
       "      <td>0.643</td>\n",
       "      <td>0.687</td>\n",
       "      <td>7</td>\n",
       "      <td>-11.340</td>\n",
       "      <td>...</td>\n",
       "      <td>0.2990</td>\n",
       "      <td>0.6370</td>\n",
       "      <td>143.956</td>\n",
       "      <td>307652</td>\n",
       "      <td>4.0</td>\n",
       "      <td>733.0</td>\n",
       "      <td>183.0</td>\n",
       "      <td>NaN</td>\n",
       "      <td>4.067086</td>\n",
       "      <td>happy</td>\n",
       "    </tr>\n",
       "    <tr>\n",
       "      <th>...</th>\n",
       "      <td>...</td>\n",
       "      <td>...</td>\n",
       "      <td>...</td>\n",
       "      <td>...</td>\n",
       "      <td>...</td>\n",
       "      <td>...</td>\n",
       "      <td>...</td>\n",
       "      <td>...</td>\n",
       "      <td>...</td>\n",
       "      <td>...</td>\n",
       "      <td>...</td>\n",
       "      <td>...</td>\n",
       "      <td>...</td>\n",
       "      <td>...</td>\n",
       "      <td>...</td>\n",
       "      <td>...</td>\n",
       "      <td>...</td>\n",
       "      <td>...</td>\n",
       "      <td>...</td>\n",
       "      <td>...</td>\n",
       "      <td>...</td>\n",
       "    </tr>\n",
       "    <tr>\n",
       "      <th>14995</th>\n",
       "      <td>Outpt</td>\n",
       "      <td>432026</td>\n",
       "      <td>False</td>\n",
       "      <td>0</td>\n",
       "      <td>Autechre</td>\n",
       "      <td>EP7</td>\n",
       "      <td>0.554</td>\n",
       "      <td>0.657</td>\n",
       "      <td>1</td>\n",
       "      <td>-14.232</td>\n",
       "      <td>...</td>\n",
       "      <td>0.1320</td>\n",
       "      <td>0.0335</td>\n",
       "      <td>117.319</td>\n",
       "      <td>432027</td>\n",
       "      <td>NaN</td>\n",
       "      <td>837.0</td>\n",
       "      <td>212.0</td>\n",
       "      <td>NaN</td>\n",
       "      <td>2.367412</td>\n",
       "      <td>idm</td>\n",
       "    </tr>\n",
       "    <tr>\n",
       "      <th>14996</th>\n",
       "      <td>Natural Environment Sounds: To Improve Sleep a...</td>\n",
       "      <td>182746</td>\n",
       "      <td>False</td>\n",
       "      <td>44</td>\n",
       "      <td>Natural White Noise Relaxation</td>\n",
       "      <td>Baby Sleep White Noise: Ultimate Album to Help...</td>\n",
       "      <td>0.103</td>\n",
       "      <td>0.860</td>\n",
       "      <td>1</td>\n",
       "      <td>-19.627</td>\n",
       "      <td>...</td>\n",
       "      <td>0.1230</td>\n",
       "      <td>0.0016</td>\n",
       "      <td>92.323</td>\n",
       "      <td>182747</td>\n",
       "      <td>3.0</td>\n",
       "      <td>277.0</td>\n",
       "      <td>92.0</td>\n",
       "      <td>NaN</td>\n",
       "      <td>2.367412</td>\n",
       "      <td>sleep</td>\n",
       "    </tr>\n",
       "    <tr>\n",
       "      <th>14997</th>\n",
       "      <td>Psychological Attack</td>\n",
       "      <td>400091</td>\n",
       "      <td>False</td>\n",
       "      <td>43</td>\n",
       "      <td>Droplex</td>\n",
       "      <td>Psychological Attack</td>\n",
       "      <td>0.799</td>\n",
       "      <td>0.535</td>\n",
       "      <td>1</td>\n",
       "      <td>-9.103</td>\n",
       "      <td>...</td>\n",
       "      <td>0.0713</td>\n",
       "      <td>0.0708</td>\n",
       "      <td>126.000</td>\n",
       "      <td>400091</td>\n",
       "      <td>4.0</td>\n",
       "      <td>837.0</td>\n",
       "      <td>209.0</td>\n",
       "      <td>NaN</td>\n",
       "      <td>2.367412</td>\n",
       "      <td>techno</td>\n",
       "    </tr>\n",
       "    <tr>\n",
       "      <th>14998</th>\n",
       "      <td>Don't Hate The 808 (feat. Lafa Taylor)</td>\n",
       "      <td>197250</td>\n",
       "      <td>False</td>\n",
       "      <td>37</td>\n",
       "      <td>Bassnectar;Lafa Taylor</td>\n",
       "      <td>Noise vs Beauty</td>\n",
       "      <td>0.511</td>\n",
       "      <td>0.970</td>\n",
       "      <td>5</td>\n",
       "      <td>-2.299</td>\n",
       "      <td>...</td>\n",
       "      <td>0.4020</td>\n",
       "      <td>0.2700</td>\n",
       "      <td>160.044</td>\n",
       "      <td>197250</td>\n",
       "      <td>4.0</td>\n",
       "      <td>513.0</td>\n",
       "      <td>130.0</td>\n",
       "      <td>NaN</td>\n",
       "      <td>1.279305</td>\n",
       "      <td>breakbeat</td>\n",
       "    </tr>\n",
       "    <tr>\n",
       "      <th>14999</th>\n",
       "      <td>Parchaiyon Mein</td>\n",
       "      <td>198409</td>\n",
       "      <td>False</td>\n",
       "      <td>36</td>\n",
       "      <td>Ashwin Adwani</td>\n",
       "      <td>Parchaiyon Mein</td>\n",
       "      <td>0.678</td>\n",
       "      <td>0.518</td>\n",
       "      <td>6</td>\n",
       "      <td>-7.790</td>\n",
       "      <td>...</td>\n",
       "      <td>0.0880</td>\n",
       "      <td>0.7840</td>\n",
       "      <td>88.003</td>\n",
       "      <td>198409</td>\n",
       "      <td>4.0</td>\n",
       "      <td>286.0</td>\n",
       "      <td>72.0</td>\n",
       "      <td>NaN</td>\n",
       "      <td>1.170953</td>\n",
       "      <td>indian</td>\n",
       "    </tr>\n",
       "  </tbody>\n",
       "</table>\n",
       "<p>15000 rows × 24 columns</p>\n",
       "</div>"
      ],
      "text/plain": [
       "                                                    name  duration_ms  \\\n",
       "0                                              Long Road       241760   \n",
       "1                   Daniâl My Son, Where Did You Vanish?       444000   \n",
       "2                                     Ondskapens Galakse       333506   \n",
       "3                                        Can't Look Away       269800   \n",
       "4                                          Thunderground       307651   \n",
       "...                                                  ...          ...   \n",
       "14995                                              Outpt       432026   \n",
       "14996  Natural Environment Sounds: To Improve Sleep a...       182746   \n",
       "14997                               Psychological Attack       400091   \n",
       "14998             Don't Hate The 808 (feat. Lafa Taylor)       197250   \n",
       "14999                                    Parchaiyon Mein       198409   \n",
       "\n",
       "       explicit  popularity                         artists  \\\n",
       "0         False          46                   Funki Porcini   \n",
       "1         False           0                   Siavash Amini   \n",
       "2         False           3                       Kvelertak   \n",
       "3         False          23               The Wood Brothers   \n",
       "4         False          25          The Darkraver;DJ Vince   \n",
       "...         ...         ...                             ...   \n",
       "14995     False           0                        Autechre   \n",
       "14996     False          44  Natural White Noise Relaxation   \n",
       "14997     False          43                         Droplex   \n",
       "14998     False          37          Bassnectar;Lafa Taylor   \n",
       "14999     False          36                   Ashwin Adwani   \n",
       "\n",
       "                                              album_name  danceability  \\\n",
       "0                                          Hed Phone Sex         0.690   \n",
       "1                                   A Trail of Laughters         0.069   \n",
       "2                                             Nattesferd         0.363   \n",
       "3                                      One Drop of Truth         0.523   \n",
       "4                                 Happy Hardcore Top 100         0.643   \n",
       "...                                                  ...           ...   \n",
       "14995                                                EP7         0.554   \n",
       "14996  Baby Sleep White Noise: Ultimate Album to Help...         0.103   \n",
       "14997                               Psychological Attack         0.799   \n",
       "14998                                    Noise vs Beauty         0.511   \n",
       "14999                                    Parchaiyon Mein         0.678   \n",
       "\n",
       "       energy  key  loudness  ...  liveness  valence    tempo  \\\n",
       "0       0.513    5   -12.529  ...    0.2810   0.6350  142.221   \n",
       "1       0.196    1   -24.801  ...    0.3600   0.0336   75.596   \n",
       "2       0.854    2    -7.445  ...    0.2620   0.4890  116.628   \n",
       "3       0.585    5    -5.607  ...    0.1170   0.3850  140.880   \n",
       "4       0.687    7   -11.340  ...    0.2990   0.6370  143.956   \n",
       "...       ...  ...       ...  ...       ...      ...      ...   \n",
       "14995   0.657    1   -14.232  ...    0.1320   0.0335  117.319   \n",
       "14996   0.860    1   -19.627  ...    0.1230   0.0016   92.323   \n",
       "14997   0.535    1    -9.103  ...    0.0713   0.0708  126.000   \n",
       "14998   0.970    5    -2.299  ...    0.4020   0.2700  160.044   \n",
       "14999   0.518    6    -7.790  ...    0.0880   0.7840   88.003   \n",
       "\n",
       "       features_duration_ms  time_signature  n_beats  n_bars  \\\n",
       "0                    241760             4.0    567.0   141.0   \n",
       "1                    444000             4.0    617.0   155.0   \n",
       "2                    333507             4.0    652.0   162.0   \n",
       "3                    269800             4.0    619.0   155.0   \n",
       "4                    307652             4.0    733.0   183.0   \n",
       "...                     ...             ...      ...     ...   \n",
       "14995                432027             NaN    837.0   212.0   \n",
       "14996                182747             3.0    277.0    92.0   \n",
       "14997                400091             4.0    837.0   209.0   \n",
       "14998                197250             4.0    513.0   130.0   \n",
       "14999                198409             4.0    286.0    72.0   \n",
       "\n",
       "       popularity_confidence  processing        genre  \n",
       "0                        NaN    1.279305      j-dance  \n",
       "1                        NaN    2.367412      iranian  \n",
       "2                        NaN    3.700483  black-metal  \n",
       "3                      0.469    1.279305    bluegrass  \n",
       "4                        NaN    4.067086        happy  \n",
       "...                      ...         ...          ...  \n",
       "14995                    NaN    2.367412          idm  \n",
       "14996                    NaN    2.367412        sleep  \n",
       "14997                    NaN    2.367412       techno  \n",
       "14998                    NaN    1.279305    breakbeat  \n",
       "14999                    NaN    1.170953       indian  \n",
       "\n",
       "[15000 rows x 24 columns]"
      ]
     },
     "execution_count": 2,
     "metadata": {},
     "output_type": "execute_result"
    }
   ],
   "source": [
    "# import dataset\n",
    "df = pd.read_csv(\"dataset-progetto/train.csv\", skipinitialspace=True)\n",
    "df"
   ]
  },
  {
   "cell_type": "code",
   "execution_count": 3,
   "id": "7b7ae46a",
   "metadata": {},
   "outputs": [
    {
     "name": "stdout",
     "output_type": "stream",
     "text": [
      "<class 'pandas.core.frame.DataFrame'>\n",
      "RangeIndex: 15000 entries, 0 to 14999\n",
      "Data columns (total 24 columns):\n",
      " #   Column                 Non-Null Count  Dtype  \n",
      "---  ------                 --------------  -----  \n",
      " 0   name                   15000 non-null  object \n",
      " 1   duration_ms            15000 non-null  int64  \n",
      " 2   explicit               15000 non-null  bool   \n",
      " 3   popularity             15000 non-null  int64  \n",
      " 4   artists                15000 non-null  object \n",
      " 5   album_name             15000 non-null  object \n",
      " 6   danceability           15000 non-null  float64\n",
      " 7   energy                 15000 non-null  float64\n",
      " 8   key                    15000 non-null  int64  \n",
      " 9   loudness               15000 non-null  float64\n",
      " 10  mode                   10550 non-null  float64\n",
      " 11  speechiness            15000 non-null  float64\n",
      " 12  acousticness           15000 non-null  float64\n",
      " 13  instrumentalness       15000 non-null  float64\n",
      " 14  liveness               15000 non-null  float64\n",
      " 15  valence                15000 non-null  float64\n",
      " 16  tempo                  15000 non-null  float64\n",
      " 17  features_duration_ms   15000 non-null  int64  \n",
      " 18  time_signature         12938 non-null  float64\n",
      " 19  n_beats                15000 non-null  float64\n",
      " 20  n_bars                 15000 non-null  float64\n",
      " 21  popularity_confidence  2217 non-null   float64\n",
      " 22  processing             15000 non-null  float64\n",
      " 23  genre                  15000 non-null  object \n",
      "dtypes: bool(1), float64(15), int64(4), object(4)\n",
      "memory usage: 2.6+ MB\n"
     ]
    }
   ],
   "source": [
    "df.info()"
   ]
  },
  {
   "cell_type": "code",
   "execution_count": 4,
   "id": "fb9a4b6a",
   "metadata": {},
   "outputs": [
    {
     "data": {
      "text/plain": [
       "name          object\n",
       "artists       object\n",
       "album_name    object\n",
       "genre         object\n",
       "dtype: object"
      ]
     },
     "execution_count": 4,
     "metadata": {},
     "output_type": "execute_result"
    }
   ],
   "source": [
    "df.dtypes[df.dtypes.map(lambda x: x == 'object')]"
   ]
  },
  {
   "cell_type": "code",
   "execution_count": 5,
   "id": "34b2a44e",
   "metadata": {},
   "outputs": [
    {
     "data": {
      "text/plain": [
       "array(['j-dance', 'iranian', 'black-metal', 'bluegrass', 'happy',\n",
       "       'industrial', 'j-idol', 'spanish', 'sleep', 'techno', 'mandopop',\n",
       "       'afrobeat', 'disney', 'study', 'indian', 'idm', 'forro',\n",
       "       'chicago-house', 'brazil', 'breakbeat'], dtype=object)"
      ]
     },
     "execution_count": 5,
     "metadata": {},
     "output_type": "execute_result"
    }
   ],
   "source": [
    "df['genre'].unique()"
   ]
  },
  {
   "cell_type": "code",
   "execution_count": 6,
   "id": "f78768d4",
   "metadata": {},
   "outputs": [
    {
     "data": {
      "text/plain": [
       "20"
      ]
     },
     "execution_count": 6,
     "metadata": {},
     "output_type": "execute_result"
    }
   ],
   "source": [
    "len(df['genre'].unique())"
   ]
  },
  {
   "cell_type": "code",
   "execution_count": 7,
   "id": "5bdb39f4",
   "metadata": {},
   "outputs": [
    {
     "data": {
      "text/plain": [
       "9820"
      ]
     },
     "execution_count": 7,
     "metadata": {},
     "output_type": "execute_result"
    }
   ],
   "source": [
    "len(df['album_name'].unique())"
   ]
  },
  {
   "cell_type": "code",
   "execution_count": 8,
   "id": "a3e0ae4c",
   "metadata": {},
   "outputs": [
    {
     "data": {
      "text/plain": [
       "6257"
      ]
     },
     "execution_count": 8,
     "metadata": {},
     "output_type": "execute_result"
    }
   ],
   "source": [
    "len(df['artists'].unique())"
   ]
  },
  {
   "cell_type": "code",
   "execution_count": 9,
   "id": "9f664959",
   "metadata": {},
   "outputs": [
    {
     "data": {
      "text/plain": [
       "15000"
      ]
     },
     "execution_count": 9,
     "metadata": {},
     "output_type": "execute_result"
    }
   ],
   "source": [
    "len(df['name'].unique())\n",
    "\n",
    "#ovviamente le canzoni(i 15000 records) sono tutte diverse hanno tutti nomi diversi"
   ]
  },
  {
   "cell_type": "code",
   "execution_count": 10,
   "id": "c7dfe08a",
   "metadata": {},
   "outputs": [],
   "source": [
    "#questi quattro attributi categorici cosa faccimao? è impossibile trasformarli in numerical\n",
    "#li eliminiamo per il clustering?"
   ]
  },
  {
   "cell_type": "code",
   "execution_count": 11,
   "id": "cfb90a32",
   "metadata": {},
   "outputs": [],
   "source": [
    "###i missing values:"
   ]
  },
  {
   "cell_type": "code",
   "execution_count": 12,
   "id": "90d05336",
   "metadata": {},
   "outputs": [
    {
     "data": {
      "text/plain": [
       "name                         0\n",
       "duration_ms                  0\n",
       "explicit                     0\n",
       "popularity                   0\n",
       "artists                      0\n",
       "album_name                   0\n",
       "danceability                 0\n",
       "energy                       0\n",
       "key                          0\n",
       "loudness                     0\n",
       "mode                      4450\n",
       "speechiness                  0\n",
       "acousticness                 0\n",
       "instrumentalness             0\n",
       "liveness                     0\n",
       "valence                      0\n",
       "tempo                        0\n",
       "features_duration_ms         0\n",
       "time_signature            2062\n",
       "n_beats                      0\n",
       "n_bars                       0\n",
       "popularity_confidence    12783\n",
       "processing                   0\n",
       "genre                        0\n",
       "dtype: int64"
      ]
     },
     "execution_count": 12,
     "metadata": {},
     "output_type": "execute_result"
    }
   ],
   "source": [
    "df.isnull().sum()"
   ]
  },
  {
   "cell_type": "code",
   "execution_count": 13,
   "id": "eabd9642",
   "metadata": {},
   "outputs": [],
   "source": [
    "##abbiamo detto che popularity confidence lo eliminiamo\n",
    "##e per il momento eliminiamo anche time_signature e mode* pero poi dovremmo capire come riempire i Nan\n",
    "\n",
    "#*mode:\n",
    "#questa variabile assume solo due valori o 0 o 1\n",
    "# lo zero è assegnato a canzoni con tonalità minori (più cupe)\n",
    "# l'1 è assegnato a canzoni con tonalità maggiori (più allegre)\n",
    "\n",
    "#ci sarebbe da torvare uno o due attributi che mi possano aiutare ad inferire quqesti nan di mode\n",
    "#es con valence e energy"
   ]
  },
  {
   "cell_type": "code",
   "execution_count": 14,
   "id": "9cb65af1",
   "metadata": {},
   "outputs": [],
   "source": [
    "##ma elimino anche i CATEGORICAL Name, Album_name, Artists e Genre* perchè non saprei come renderli numerical\n",
    "\n",
    "#*Genre\n",
    "#lui avrebbe 20 generi diversi, avrebbe senso renderli \n",
    "#numerical assegnangoli magari un numero d 1 a 20? boh per ora lo elimino"
   ]
  },
  {
   "cell_type": "code",
   "execution_count": 15,
   "id": "13059ae9",
   "metadata": {},
   "outputs": [],
   "source": [
    "#alla fine ne elimino 12 di attributi \n",
    "#elimino:\n",
    "# name, artists,album_name e genre perchè sono categorical \n",
    "# explicit perchè è bool e non so se puo dar noia nel clustering \n",
    "# mode e time_signature al momento le elimino perchè non so ancora come riempire i nan\n",
    "# features_duration_ms lo elimino perchè ho gia duration_ms\n",
    "#popularity_confidence lo elimino perchè ha troppo Nan\n",
    "#n_beats e n_bars li elimino perchè c'è gia tempo che esprime i BPM\n",
    "# processing perchè non so cosa sia e gli altri dataset non lo considerano \n",
    "\n",
    "#ma prima trasformo duration_ms in duration_m \n",
    "#e quindi poii dovrò eliminare anche duration_ms \n",
    "\n"
   ]
  },
  {
   "cell_type": "code",
   "execution_count": 16,
   "id": "f8e5efba",
   "metadata": {},
   "outputs": [
    {
     "data": {
      "text/html": [
       "<div>\n",
       "<style scoped>\n",
       "    .dataframe tbody tr th:only-of-type {\n",
       "        vertical-align: middle;\n",
       "    }\n",
       "\n",
       "    .dataframe tbody tr th {\n",
       "        vertical-align: top;\n",
       "    }\n",
       "\n",
       "    .dataframe thead th {\n",
       "        text-align: right;\n",
       "    }\n",
       "</style>\n",
       "<table border=\"1\" class=\"dataframe\">\n",
       "  <thead>\n",
       "    <tr style=\"text-align: right;\">\n",
       "      <th></th>\n",
       "      <th>name</th>\n",
       "      <th>explicit</th>\n",
       "      <th>popularity</th>\n",
       "      <th>artists</th>\n",
       "      <th>album_name</th>\n",
       "      <th>danceability</th>\n",
       "      <th>energy</th>\n",
       "      <th>key</th>\n",
       "      <th>loudness</th>\n",
       "      <th>mode</th>\n",
       "      <th>...</th>\n",
       "      <th>valence</th>\n",
       "      <th>tempo</th>\n",
       "      <th>features_duration_ms</th>\n",
       "      <th>time_signature</th>\n",
       "      <th>n_beats</th>\n",
       "      <th>n_bars</th>\n",
       "      <th>popularity_confidence</th>\n",
       "      <th>processing</th>\n",
       "      <th>genre</th>\n",
       "      <th>duration_m</th>\n",
       "    </tr>\n",
       "  </thead>\n",
       "  <tbody>\n",
       "    <tr>\n",
       "      <th>0</th>\n",
       "      <td>Long Road</td>\n",
       "      <td>False</td>\n",
       "      <td>46</td>\n",
       "      <td>Funki Porcini</td>\n",
       "      <td>Hed Phone Sex</td>\n",
       "      <td>0.690</td>\n",
       "      <td>0.513</td>\n",
       "      <td>5</td>\n",
       "      <td>-12.529</td>\n",
       "      <td>1.0</td>\n",
       "      <td>...</td>\n",
       "      <td>0.6350</td>\n",
       "      <td>142.221</td>\n",
       "      <td>241760</td>\n",
       "      <td>4.0</td>\n",
       "      <td>567.0</td>\n",
       "      <td>141.0</td>\n",
       "      <td>NaN</td>\n",
       "      <td>1.279305</td>\n",
       "      <td>j-dance</td>\n",
       "      <td>4.0</td>\n",
       "    </tr>\n",
       "    <tr>\n",
       "      <th>1</th>\n",
       "      <td>Daniâl My Son, Where Did You Vanish?</td>\n",
       "      <td>False</td>\n",
       "      <td>0</td>\n",
       "      <td>Siavash Amini</td>\n",
       "      <td>A Trail of Laughters</td>\n",
       "      <td>0.069</td>\n",
       "      <td>0.196</td>\n",
       "      <td>1</td>\n",
       "      <td>-24.801</td>\n",
       "      <td>0.0</td>\n",
       "      <td>...</td>\n",
       "      <td>0.0336</td>\n",
       "      <td>75.596</td>\n",
       "      <td>444000</td>\n",
       "      <td>4.0</td>\n",
       "      <td>617.0</td>\n",
       "      <td>155.0</td>\n",
       "      <td>NaN</td>\n",
       "      <td>2.367412</td>\n",
       "      <td>iranian</td>\n",
       "      <td>7.5</td>\n",
       "    </tr>\n",
       "    <tr>\n",
       "      <th>2</th>\n",
       "      <td>Ondskapens Galakse</td>\n",
       "      <td>False</td>\n",
       "      <td>3</td>\n",
       "      <td>Kvelertak</td>\n",
       "      <td>Nattesferd</td>\n",
       "      <td>0.363</td>\n",
       "      <td>0.854</td>\n",
       "      <td>2</td>\n",
       "      <td>-7.445</td>\n",
       "      <td>NaN</td>\n",
       "      <td>...</td>\n",
       "      <td>0.4890</td>\n",
       "      <td>116.628</td>\n",
       "      <td>333507</td>\n",
       "      <td>4.0</td>\n",
       "      <td>652.0</td>\n",
       "      <td>162.0</td>\n",
       "      <td>NaN</td>\n",
       "      <td>3.700483</td>\n",
       "      <td>black-metal</td>\n",
       "      <td>5.5</td>\n",
       "    </tr>\n",
       "    <tr>\n",
       "      <th>3</th>\n",
       "      <td>Can't Look Away</td>\n",
       "      <td>False</td>\n",
       "      <td>23</td>\n",
       "      <td>The Wood Brothers</td>\n",
       "      <td>One Drop of Truth</td>\n",
       "      <td>0.523</td>\n",
       "      <td>0.585</td>\n",
       "      <td>5</td>\n",
       "      <td>-5.607</td>\n",
       "      <td>1.0</td>\n",
       "      <td>...</td>\n",
       "      <td>0.3850</td>\n",
       "      <td>140.880</td>\n",
       "      <td>269800</td>\n",
       "      <td>4.0</td>\n",
       "      <td>619.0</td>\n",
       "      <td>155.0</td>\n",
       "      <td>0.469</td>\n",
       "      <td>1.279305</td>\n",
       "      <td>bluegrass</td>\n",
       "      <td>4.5</td>\n",
       "    </tr>\n",
       "    <tr>\n",
       "      <th>4</th>\n",
       "      <td>Thunderground</td>\n",
       "      <td>False</td>\n",
       "      <td>25</td>\n",
       "      <td>The Darkraver;DJ Vince</td>\n",
       "      <td>Happy Hardcore Top 100</td>\n",
       "      <td>0.643</td>\n",
       "      <td>0.687</td>\n",
       "      <td>7</td>\n",
       "      <td>-11.340</td>\n",
       "      <td>1.0</td>\n",
       "      <td>...</td>\n",
       "      <td>0.6370</td>\n",
       "      <td>143.956</td>\n",
       "      <td>307652</td>\n",
       "      <td>4.0</td>\n",
       "      <td>733.0</td>\n",
       "      <td>183.0</td>\n",
       "      <td>NaN</td>\n",
       "      <td>4.067086</td>\n",
       "      <td>happy</td>\n",
       "      <td>5.0</td>\n",
       "    </tr>\n",
       "  </tbody>\n",
       "</table>\n",
       "<p>5 rows × 24 columns</p>\n",
       "</div>"
      ],
      "text/plain": [
       "                                   name  explicit  popularity  \\\n",
       "0                             Long Road     False          46   \n",
       "1  Daniâl My Son, Where Did You Vanish?     False           0   \n",
       "2                    Ondskapens Galakse     False           3   \n",
       "3                       Can't Look Away     False          23   \n",
       "4                         Thunderground     False          25   \n",
       "\n",
       "                  artists              album_name  danceability  energy  key  \\\n",
       "0           Funki Porcini           Hed Phone Sex         0.690   0.513    5   \n",
       "1           Siavash Amini    A Trail of Laughters         0.069   0.196    1   \n",
       "2               Kvelertak              Nattesferd         0.363   0.854    2   \n",
       "3       The Wood Brothers       One Drop of Truth         0.523   0.585    5   \n",
       "4  The Darkraver;DJ Vince  Happy Hardcore Top 100         0.643   0.687    7   \n",
       "\n",
       "   loudness  mode  ...  valence    tempo  features_duration_ms  \\\n",
       "0   -12.529   1.0  ...   0.6350  142.221                241760   \n",
       "1   -24.801   0.0  ...   0.0336   75.596                444000   \n",
       "2    -7.445   NaN  ...   0.4890  116.628                333507   \n",
       "3    -5.607   1.0  ...   0.3850  140.880                269800   \n",
       "4   -11.340   1.0  ...   0.6370  143.956                307652   \n",
       "\n",
       "   time_signature  n_beats  n_bars  popularity_confidence  processing  \\\n",
       "0             4.0    567.0   141.0                    NaN    1.279305   \n",
       "1             4.0    617.0   155.0                    NaN    2.367412   \n",
       "2             4.0    652.0   162.0                    NaN    3.700483   \n",
       "3             4.0    619.0   155.0                  0.469    1.279305   \n",
       "4             4.0    733.0   183.0                    NaN    4.067086   \n",
       "\n",
       "         genre  duration_m  \n",
       "0      j-dance         4.0  \n",
       "1      iranian         7.5  \n",
       "2  black-metal         5.5  \n",
       "3    bluegrass         4.5  \n",
       "4        happy         5.0  \n",
       "\n",
       "[5 rows x 24 columns]"
      ]
     },
     "execution_count": 16,
     "metadata": {},
     "output_type": "execute_result"
    }
   ],
   "source": [
    "df_copy = df.copy()\n",
    "df_copy[\"duration_m\"] = df_copy[\"duration_ms\"] / (60 * 1000)  # Converti da millisecondi a minuti\n",
    "df_copy[\"duration_m\"] = (df_copy[\"duration_m\"] * 2).round() / 2\n",
    "del df_copy['duration_ms']\n",
    "df_copy.head()\n",
    "\n",
    "#creo un df_copy che ha duration_m al posto di duration_ms "
   ]
  },
  {
   "cell_type": "code",
   "execution_count": 17,
   "id": "bda37e34",
   "metadata": {},
   "outputs": [
    {
     "name": "stdout",
     "output_type": "stream",
     "text": [
      "<class 'pandas.core.frame.DataFrame'>\n",
      "RangeIndex: 15000 entries, 0 to 14999\n",
      "Data columns (total 24 columns):\n",
      " #   Column                 Non-Null Count  Dtype  \n",
      "---  ------                 --------------  -----  \n",
      " 0   name                   15000 non-null  object \n",
      " 1   explicit               15000 non-null  bool   \n",
      " 2   popularity             15000 non-null  int64  \n",
      " 3   artists                15000 non-null  object \n",
      " 4   album_name             15000 non-null  object \n",
      " 5   danceability           15000 non-null  float64\n",
      " 6   energy                 15000 non-null  float64\n",
      " 7   key                    15000 non-null  int64  \n",
      " 8   loudness               15000 non-null  float64\n",
      " 9   mode                   10550 non-null  float64\n",
      " 10  speechiness            15000 non-null  float64\n",
      " 11  acousticness           15000 non-null  float64\n",
      " 12  instrumentalness       15000 non-null  float64\n",
      " 13  liveness               15000 non-null  float64\n",
      " 14  valence                15000 non-null  float64\n",
      " 15  tempo                  15000 non-null  float64\n",
      " 16  features_duration_ms   15000 non-null  int64  \n",
      " 17  time_signature         12938 non-null  float64\n",
      " 18  n_beats                15000 non-null  float64\n",
      " 19  n_bars                 15000 non-null  float64\n",
      " 20  popularity_confidence  2217 non-null   float64\n",
      " 21  processing             15000 non-null  float64\n",
      " 22  genre                  15000 non-null  object \n",
      " 23  duration_m             15000 non-null  float64\n",
      "dtypes: bool(1), float64(16), int64(3), object(4)\n",
      "memory usage: 2.6+ MB\n"
     ]
    }
   ],
   "source": [
    "df_copy.info()"
   ]
  },
  {
   "cell_type": "code",
   "execution_count": 18,
   "id": "c5519725",
   "metadata": {},
   "outputs": [],
   "source": [
    "#creo il df_clust eliminando da df_copy quei 12 attributi "
   ]
  },
  {
   "cell_type": "code",
   "execution_count": 19,
   "id": "b1fadb06",
   "metadata": {},
   "outputs": [
    {
     "name": "stdout",
     "output_type": "stream",
     "text": [
      "<class 'pandas.core.frame.DataFrame'>\n",
      "RangeIndex: 15000 entries, 0 to 14999\n",
      "Data columns (total 12 columns):\n",
      " #   Column            Non-Null Count  Dtype  \n",
      "---  ------            --------------  -----  \n",
      " 0   popularity        15000 non-null  int64  \n",
      " 1   danceability      15000 non-null  float64\n",
      " 2   energy            15000 non-null  float64\n",
      " 3   key               15000 non-null  int64  \n",
      " 4   loudness          15000 non-null  float64\n",
      " 5   speechiness       15000 non-null  float64\n",
      " 6   acousticness      15000 non-null  float64\n",
      " 7   instrumentalness  15000 non-null  float64\n",
      " 8   liveness          15000 non-null  float64\n",
      " 9   valence           15000 non-null  float64\n",
      " 10  tempo             15000 non-null  float64\n",
      " 11  duration_m        15000 non-null  float64\n",
      "dtypes: float64(10), int64(2)\n",
      "memory usage: 1.4 MB\n"
     ]
    }
   ],
   "source": [
    "df_clust = df_copy.drop(['name','explicit', 'artists','album_name', 'mode','features_duration_ms','time_signature','n_beats','n_bars','popularity_confidence','processing','genre'], axis=1)\n",
    "df_clust.info()"
   ]
  },
  {
   "cell_type": "code",
   "execution_count": 20,
   "id": "17eaa308",
   "metadata": {},
   "outputs": [
    {
     "data": {
      "text/plain": [
       "Series([], dtype: object)"
      ]
     },
     "execution_count": 20,
     "metadata": {},
     "output_type": "execute_result"
    }
   ],
   "source": [
    "df_clust.dtypes[df_clust.dtypes.map(lambda x: x == 'object')]\n",
    "#controllo di non avere piu categorical"
   ]
  },
  {
   "cell_type": "code",
   "execution_count": 21,
   "id": "2688ed2c",
   "metadata": {},
   "outputs": [
    {
     "data": {
      "text/plain": [
       "popularity          0\n",
       "danceability        0\n",
       "energy              0\n",
       "key                 0\n",
       "loudness            0\n",
       "speechiness         0\n",
       "acousticness        0\n",
       "instrumentalness    0\n",
       "liveness            0\n",
       "valence             0\n",
       "tempo               0\n",
       "duration_m          0\n",
       "dtype: int64"
      ]
     },
     "execution_count": 21,
     "metadata": {},
     "output_type": "execute_result"
    }
   ],
   "source": [
    "df_clust.isnull().sum()\n",
    "#controllo di non avere piu nan"
   ]
  },
  {
   "cell_type": "code",
   "execution_count": 22,
   "id": "23dcac19",
   "metadata": {},
   "outputs": [
    {
     "data": {
      "text/plain": [
       "Index(['popularity', 'danceability', 'energy', 'key', 'loudness',\n",
       "       'speechiness', 'acousticness', 'instrumentalness', 'liveness',\n",
       "       'valence', 'tempo', 'duration_m'],\n",
       "      dtype='object')"
      ]
     },
     "execution_count": 22,
     "metadata": {},
     "output_type": "execute_result"
    }
   ],
   "source": [
    "df_clust.columns"
   ]
  },
  {
   "cell_type": "markdown",
   "id": "f70728c0",
   "metadata": {},
   "source": [
    "popularity: INT\n",
    "The popularity of a track is a value between 0 and 100, with 100 being the most popular.\n",
    "\n",
    "danceability: FLOAT Danceability describes how suitable a track is for dancing. A value of 0.0 is least danceable and 1.0 is most danceable\n",
    "\n",
    "energy: FLOAT Energy is a measure from 0.0 to 1.0 and represents a perceptual measure of intensity and activity.\n",
    "\n",
    "*key: INT\n",
    "The key the track is in. Integers map to pitches using standard Pitch Class notation.\n",
    "\n",
    "loudness: FLOAT\n",
    "The overall loudness of a track in decibels (dB)\n",
    "\n",
    "speechiness: FLOAT\n",
    "Speechiness detects the presence of spoken words in a track.\n",
    "\n",
    "*acousticness: FLOAT\n",
    "A confidence measure from 0.0 to 1.0 of whether the track is acoustic. 1.0 represents high confidence the track is acoustic\n",
    "\n",
    "instrumentalness: FLOAT Predicts whether a track contains no vocals. The closer the instrumentalness value is to 1.0\n",
    "\n",
    "liveness: FLOAT  Detects the presence of an audience in the recording.\n",
    "\n",
    "valence: FLOAT A measure from 0.0 to 1.0 describing the musical positiveness conveyed by a track.\n",
    "\n",
    "tempo: FLOAT The overall estimated tempo of a track in beats per minute (BPM).\n",
    "\n",
    "duration_m: FLOAT\n",
    "The track length in minutes\n",
    "\n",
    "\n",
    "*' da rivedere "
   ]
  },
  {
   "cell_type": "code",
   "execution_count": 23,
   "id": "1fc884b5",
   "metadata": {},
   "outputs": [],
   "source": [
    "#forse dovremmo rivedere anche quegli attributi che sono float o int ma che come significato dovrebbero essere bool"
   ]
  },
  {
   "cell_type": "markdown",
   "id": "e51525f1",
   "metadata": {},
   "source": [
    "#### normalizzazione minmax scaler\n",
    "L'obiettivo di tale normalizzazione è quello di portare tutte le features a una scala comune, evitando che alcune caratteristiche con valori numerici più elevati abbiano un peso sproporzionato rispetto ad altre con valori numerici più bassi. Questo è particolarmente importante per algoritmi come K-Means, dove la distanza e la scala dei dati possono influenzare notevolmente i risultati del clustering.\n",
    "\n",
    "\n",
    "MinMaxScaler è un trasformatore di Scikit-learn che ridimensiona le feature in modo che siano comprese tra un determinato intervallo, di solito 0 e 1.\n",
    "Questo avviene utilizzando la seguente formula: **Xscala = (X-Xmin)/(XMax-Xmin)**\n",
    "normalizzazione Min-Max: dove X è il valore originale, Xmin è il valore minimo nella feature, XMax è il valore max della feature, e Xscala è il valore normalizzato\n",
    "\n",
    "\n",
    "\n"
   ]
  },
  {
   "cell_type": "code",
   "execution_count": 24,
   "id": "a2998648",
   "metadata": {},
   "outputs": [],
   "source": [
    "scaler = MinMaxScaler()\n",
    "train_data = scaler.fit_transform(df_clust)\n",
    "\n",
    "#train_data è il nome del df pronto per il clustering e normalizzato"
   ]
  },
  {
   "cell_type": "code",
   "execution_count": 25,
   "id": "9779fa66",
   "metadata": {},
   "outputs": [],
   "source": [
    "#forse 12 attributi sono troppi per fare il clustering"
   ]
  },
  {
   "cell_type": "code",
   "execution_count": 26,
   "id": "f8d66bb5",
   "metadata": {},
   "outputs": [],
   "source": [
    "from sklearn.metrics import *\n",
    "from sklearn.cluster import KMeans, DBSCAN, AgglomerativeClustering\n",
    "from sklearn.neighbors import kneighbors_graph"
   ]
  },
  {
   "cell_type": "code",
   "execution_count": 27,
   "id": "7e5c570d",
   "metadata": {},
   "outputs": [
    {
     "name": "stdout",
     "output_type": "stream",
     "text": [
      "Wall time: 4min 54s\n"
     ]
    }
   ],
   "source": [
    "%%time\n",
    "sse_list = []\n",
    "sil_list = []\n",
    "\n",
    "for k in range(2, 51):\n",
    "    kmeans = KMeans(init='k-means++', n_clusters=k, n_init=10, max_iter=100)\n",
    "    kmeans.fit(train_data)\n",
    "    sse_list.append(kmeans.inertia_)\n",
    "    sil_list.append(silhouette_score(train_data, kmeans.labels_))"
   ]
  },
  {
   "cell_type": "code",
   "execution_count": 28,
   "id": "bf22b3a3",
   "metadata": {},
   "outputs": [
    {
     "data": {
      "image/png": "[encoded data removed]",
      "text/plain": [
       "<Figure size 640x480 with 2 Axes>"
      ]
     },
     "metadata": {},
     "output_type": "display_data"
    }
   ],
   "source": [
    "fig, axs = plt.subplots(2) \n",
    "\n",
    "sns.lineplot(x=range(len(sse_list)), y=sse_list, marker='o', ax=axs[0])\n",
    "axs[0].set(xlabel='k', ylabel='SSE')\n",
    "\n",
    "sns.lineplot(x=range(len(sil_list)), y=sil_list, marker='o', ax=axs[1])\n",
    "axs[1].set(xlabel='k', ylabel='Silhouette')\n",
    "\n",
    "plt.tight_layout() # Adjust the padding between and around subplots"
   ]
  },
  {
   "cell_type": "code",
   "execution_count": null,
   "id": "bde0d3f3",
   "metadata": {},
   "outputs": [],
   "source": []
  }
 ],
 "metadata": {
  "kernelspec": {
   "display_name": "Python 3 (ipykernel)",
   "language": "python",
   "name": "python3"
  },
  "language_info": {
   "codemirror_mode": {
    "name": "ipython",
    "version": 3
   },
   "file_extension": ".py",
   "mimetype": "text/x-python",
   "name": "python",
   "nbconvert_exporter": "python",
   "pygments_lexer": "ipython3",
   "version": "3.9.13"
  }
 },
 "nbformat": 4,
 "nbformat_minor": 5
}
