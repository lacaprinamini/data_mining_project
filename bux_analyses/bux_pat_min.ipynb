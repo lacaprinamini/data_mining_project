{
 "cells": [
  {
   "cell_type": "code",
   "execution_count": 1,
   "metadata": {},
   "outputs": [],
   "source": [
    "import numpy as np\n",
    "import pandas as pd\n",
    "import matplotlib.pyplot as plt\n",
    "import seaborn as sns"
   ]
  },
  {
   "cell_type": "code",
   "execution_count": 2,
   "metadata": {},
   "outputs": [],
   "source": [
    "df = pd.read_csv(\"../our_analyses/dataset_prepared.csv\")\n",
    "# remove useless variables\n",
    "column2drop = ['genre','name','artists','album_name']\n",
    "df.drop(column2drop, axis=1, inplace=True)"
   ]
  },
  {
   "cell_type": "code",
   "execution_count": 3,
   "metadata": {},
   "outputs": [
    {
     "name": "stdout",
     "output_type": "stream",
     "text": [
      "<class 'pandas.core.frame.DataFrame'>\n",
      "RangeIndex: 15000 entries, 0 to 14999\n",
      "Data columns (total 16 columns):\n",
      " #   Column            Non-Null Count  Dtype  \n",
      "---  ------            --------------  -----  \n",
      " 0   duration_ms       15000 non-null  int64  \n",
      " 1   explicit          15000 non-null  bool   \n",
      " 2   popularity        15000 non-null  int64  \n",
      " 3   danceability      15000 non-null  float64\n",
      " 4   energy            15000 non-null  float64\n",
      " 5   key               15000 non-null  int64  \n",
      " 6   loudness          15000 non-null  float64\n",
      " 7   mode              15000 non-null  int64  \n",
      " 8   speechiness       15000 non-null  float64\n",
      " 9   acousticness      15000 non-null  float64\n",
      " 10  instrumentalness  15000 non-null  float64\n",
      " 11  liveness          15000 non-null  float64\n",
      " 12  valence           15000 non-null  float64\n",
      " 13  tempo             15000 non-null  float64\n",
      " 14  time_signature    15000 non-null  float64\n",
      " 15  n_beats           15000 non-null  float64\n",
      "dtypes: bool(1), float64(11), int64(4)\n",
      "memory usage: 1.7 MB\n"
     ]
    }
   ],
   "source": [
    "df.info()"
   ]
  },
  {
   "cell_type": "code",
   "execution_count": 4,
   "metadata": {},
   "outputs": [
    {
     "data": {
      "text/plain": [
       "<bound method Series.info of 0        50\n",
       "1        52\n",
       "2        22\n",
       "3        20\n",
       "4        22\n",
       "         ..\n",
       "14995    15\n",
       "14996    18\n",
       "14997    54\n",
       "14998    56\n",
       "14999    43\n",
       "Name: popularity, Length: 15000, dtype: int64>"
      ]
     },
     "execution_count": 4,
     "metadata": {},
     "output_type": "execute_result"
    }
   ],
   "source": [
    "df['popularity'].info     "
   ]
  },
  {
   "cell_type": "markdown",
   "metadata": {},
   "source": [
    "# Pattern mining preprocessing"
   ]
  },
  {
   "cell_type": "code",
   "execution_count": 5,
   "metadata": {},
   "outputs": [],
   "source": [
    "df[\"PopularityBin\"] = pd.qcut(df[\"popularity\"], 3) # divido in 3 non pop , medio e alta pop\n",
    "df[\"duration_msBin\"] = pd.qcut(df[\"duration_ms\"], 2)\n",
    "\n",
    "df.drop([\"popularity\", \"duration_ms\"], axis=1, inplace=True)"
   ]
  },
  {
   "cell_type": "code",
   "execution_count": 6,
   "metadata": {},
   "outputs": [
    {
     "data": {
      "text/html": [
       "<div>\n",
       "<style scoped>\n",
       "    .dataframe tbody tr th:only-of-type {\n",
       "        vertical-align: middle;\n",
       "    }\n",
       "\n",
       "    .dataframe tbody tr th {\n",
       "        vertical-align: top;\n",
       "    }\n",
       "\n",
       "    .dataframe thead th {\n",
       "        text-align: right;\n",
       "    }\n",
       "</style>\n",
       "<table border=\"1\" class=\"dataframe\">\n",
       "  <thead>\n",
       "    <tr style=\"text-align: right;\">\n",
       "      <th></th>\n",
       "      <th>explicit</th>\n",
       "      <th>danceability</th>\n",
       "      <th>energy</th>\n",
       "      <th>key</th>\n",
       "      <th>loudness</th>\n",
       "      <th>mode</th>\n",
       "      <th>speechiness</th>\n",
       "      <th>acousticness</th>\n",
       "      <th>instrumentalness</th>\n",
       "      <th>liveness</th>\n",
       "      <th>valence</th>\n",
       "      <th>tempo</th>\n",
       "      <th>time_signature</th>\n",
       "      <th>n_beats</th>\n",
       "      <th>PopularityBin</th>\n",
       "      <th>duration_msBin</th>\n",
       "    </tr>\n",
       "  </thead>\n",
       "  <tbody>\n",
       "    <tr>\n",
       "      <th>0</th>\n",
       "      <td>False</td>\n",
       "      <td>0.401</td>\n",
       "      <td>0.683</td>\n",
       "      <td>8</td>\n",
       "      <td>-5.722</td>\n",
       "      <td>1</td>\n",
       "      <td>0.0401</td>\n",
       "      <td>0.181</td>\n",
       "      <td>0.000000</td>\n",
       "      <td>0.0837</td>\n",
       "      <td>0.226</td>\n",
       "      <td>135.951</td>\n",
       "      <td>4.0</td>\n",
       "      <td>654.0</td>\n",
       "      <td>(35.0, 94.0]</td>\n",
       "      <td>(227826.0, 4120258.0]</td>\n",
       "    </tr>\n",
       "    <tr>\n",
       "      <th>1</th>\n",
       "      <td>False</td>\n",
       "      <td>0.672</td>\n",
       "      <td>0.858</td>\n",
       "      <td>3</td>\n",
       "      <td>-5.233</td>\n",
       "      <td>1</td>\n",
       "      <td>0.1450</td>\n",
       "      <td>0.456</td>\n",
       "      <td>0.811000</td>\n",
       "      <td>0.1040</td>\n",
       "      <td>0.963</td>\n",
       "      <td>166.689</td>\n",
       "      <td>4.0</td>\n",
       "      <td>537.0</td>\n",
       "      <td>(35.0, 94.0]</td>\n",
       "      <td>(8585.999, 227826.0]</td>\n",
       "    </tr>\n",
       "    <tr>\n",
       "      <th>2</th>\n",
       "      <td>False</td>\n",
       "      <td>0.636</td>\n",
       "      <td>0.826</td>\n",
       "      <td>3</td>\n",
       "      <td>-7.486</td>\n",
       "      <td>1</td>\n",
       "      <td>0.0585</td>\n",
       "      <td>0.461</td>\n",
       "      <td>0.271000</td>\n",
       "      <td>0.1410</td>\n",
       "      <td>0.731</td>\n",
       "      <td>102.809</td>\n",
       "      <td>4.0</td>\n",
       "      <td>304.0</td>\n",
       "      <td>(18.0, 35.0]</td>\n",
       "      <td>(8585.999, 227826.0]</td>\n",
       "    </tr>\n",
       "    <tr>\n",
       "      <th>3</th>\n",
       "      <td>False</td>\n",
       "      <td>0.733</td>\n",
       "      <td>0.862</td>\n",
       "      <td>7</td>\n",
       "      <td>-5.813</td>\n",
       "      <td>1</td>\n",
       "      <td>0.0604</td>\n",
       "      <td>0.287</td>\n",
       "      <td>0.000532</td>\n",
       "      <td>0.4660</td>\n",
       "      <td>0.745</td>\n",
       "      <td>107.981</td>\n",
       "      <td>4.0</td>\n",
       "      <td>427.0</td>\n",
       "      <td>(18.0, 35.0]</td>\n",
       "      <td>(227826.0, 4120258.0]</td>\n",
       "    </tr>\n",
       "    <tr>\n",
       "      <th>4</th>\n",
       "      <td>False</td>\n",
       "      <td>0.712</td>\n",
       "      <td>0.225</td>\n",
       "      <td>5</td>\n",
       "      <td>-10.017</td>\n",
       "      <td>1</td>\n",
       "      <td>0.0533</td>\n",
       "      <td>0.930</td>\n",
       "      <td>0.001000</td>\n",
       "      <td>0.1230</td>\n",
       "      <td>0.429</td>\n",
       "      <td>87.520</td>\n",
       "      <td>4.0</td>\n",
       "      <td>317.0</td>\n",
       "      <td>(18.0, 35.0]</td>\n",
       "      <td>(8585.999, 227826.0]</td>\n",
       "    </tr>\n",
       "  </tbody>\n",
       "</table>\n",
       "</div>"
      ],
      "text/plain": [
       "   explicit  danceability  energy  key  loudness  mode  speechiness  \\\n",
       "0     False         0.401   0.683    8    -5.722     1       0.0401   \n",
       "1     False         0.672   0.858    3    -5.233     1       0.1450   \n",
       "2     False         0.636   0.826    3    -7.486     1       0.0585   \n",
       "3     False         0.733   0.862    7    -5.813     1       0.0604   \n",
       "4     False         0.712   0.225    5   -10.017     1       0.0533   \n",
       "\n",
       "   acousticness  instrumentalness  liveness  valence    tempo  time_signature  \\\n",
       "0         0.181          0.000000    0.0837    0.226  135.951             4.0   \n",
       "1         0.456          0.811000    0.1040    0.963  166.689             4.0   \n",
       "2         0.461          0.271000    0.1410    0.731  102.809             4.0   \n",
       "3         0.287          0.000532    0.4660    0.745  107.981             4.0   \n",
       "4         0.930          0.001000    0.1230    0.429   87.520             4.0   \n",
       "\n",
       "   n_beats PopularityBin         duration_msBin  \n",
       "0    654.0  (35.0, 94.0]  (227826.0, 4120258.0]  \n",
       "1    537.0  (35.0, 94.0]   (8585.999, 227826.0]  \n",
       "2    304.0  (18.0, 35.0]   (8585.999, 227826.0]  \n",
       "3    427.0  (18.0, 35.0]  (227826.0, 4120258.0]  \n",
       "4    317.0  (18.0, 35.0]   (8585.999, 227826.0]  "
      ]
     },
     "execution_count": 6,
     "metadata": {},
     "output_type": "execute_result"
    }
   ],
   "source": [
    "df.head()"
   ]
  },
  {
   "cell_type": "code",
   "execution_count": 7,
   "metadata": {},
   "outputs": [
    {
     "data": {
      "text/plain": [
       "[False,\n",
       " 0.401,\n",
       " 0.683,\n",
       " 8,\n",
       " -5.722,\n",
       " 1,\n",
       " 0.0401,\n",
       " 0.181,\n",
       " 0.0,\n",
       " 0.0837,\n",
       " 0.226,\n",
       " 135.951,\n",
       " 4.0,\n",
       " 654.0,\n",
       " Interval(35.0, 94.0, closed='right'),\n",
       " Interval(227826.0, 4120258.0, closed='right')]"
      ]
     },
     "execution_count": 7,
     "metadata": {},
     "output_type": "execute_result"
    }
   ],
   "source": [
    "X = df.values.tolist()\n",
    "X[0]"
   ]
  },
  {
   "cell_type": "markdown",
   "metadata": {},
   "source": [
    "# Pattern Mining"
   ]
  },
  {
   "cell_type": "markdown",
   "metadata": {},
   "source": [
    "## Apriori"
   ]
  },
  {
   "cell_type": "code",
   "execution_count": 8,
   "metadata": {},
   "outputs": [
    {
     "ename": "ModuleNotFoundError",
     "evalue": "No module named 'fim'",
     "output_type": "error",
     "traceback": [
      "\u001b[1;31m---------------------------------------------------------------------------\u001b[0m",
      "\u001b[1;31mModuleNotFoundError\u001b[0m                       Traceback (most recent call last)",
      "Cell \u001b[1;32mIn[8], line 1\u001b[0m\n\u001b[1;32m----> 1\u001b[0m \u001b[38;5;28;01mfrom\u001b[39;00m \u001b[38;5;21;01mfim\u001b[39;00m \u001b[38;5;28;01mimport\u001b[39;00m apriori\n",
      "\u001b[1;31mModuleNotFoundError\u001b[0m: No module named 'fim'"
     ]
    }
   ],
   "source": [
    "from fim import apriori"
   ]
  },
  {
   "cell_type": "markdown",
   "metadata": {},
   "source": [
    "### Frequent Itemset"
   ]
  },
  {
   "cell_type": "code",
   "execution_count": null,
   "metadata": {},
   "outputs": [
    {
     "name": "stdout",
     "output_type": "stream",
     "text": [
      "                antecedents              consequents  antecedent support  \\\n",
      "0            (danceability)                 (energy)            0.660800   \n",
      "1                  (energy)           (danceability)            0.727733   \n",
      "2                 (valence)           (danceability)            0.411467   \n",
      "3            (danceability)                (valence)            0.660800   \n",
      "4                 (valence)                 (energy)            0.411467   \n",
      "5                  (energy)                (valence)            0.727733   \n",
      "6   (valence, danceability)                 (energy)            0.361600   \n",
      "7         (valence, energy)           (danceability)            0.356200   \n",
      "8    (danceability, energy)                (valence)            0.521067   \n",
      "9                 (valence)   (danceability, energy)            0.411467   \n",
      "10           (danceability)        (valence, energy)            0.660800   \n",
      "11                 (energy)  (valence, danceability)            0.727733   \n",
      "\n",
      "    consequent support   support  confidence      lift  leverage  conviction  \\\n",
      "0             0.727733  0.521067    0.788539  1.083555  0.040180    1.287551   \n",
      "1             0.660800  0.521067    0.716013  1.083555  0.040180    1.194422   \n",
      "2             0.660800  0.361600    0.878808  1.329915  0.089703    2.798853   \n",
      "3             0.411467  0.361600    0.547215  1.329915  0.089703    1.299809   \n",
      "4             0.727733  0.356200    0.865684  1.189562  0.056762    2.027057   \n",
      "5             0.411467  0.356200    0.489465  1.189562  0.056762    1.152778   \n",
      "6             0.727733  0.313733    0.867625  1.192230  0.050585    2.056789   \n",
      "7             0.660800  0.313733    0.880779  1.332897  0.078356    2.845127   \n",
      "8             0.411467  0.313733    0.602098  1.463298  0.099332    1.479092   \n",
      "9             0.521067  0.313733    0.762476  1.463298  0.099332    2.016355   \n",
      "10            0.356200  0.313733    0.474778  1.332897  0.078356    1.225767   \n",
      "11            0.361600  0.313733    0.431110  1.192230  0.050585    1.122186   \n",
      "\n",
      "    zhangs_metric  \n",
      "0        0.227335  \n",
      "1        0.283222  \n",
      "2        0.421509  \n",
      "3        0.731344  \n",
      "4        0.270765  \n",
      "5        0.585287  \n",
      "6        0.252562  \n",
      "7        0.387938  \n",
      "8        0.661078  \n",
      "9        0.537968  \n",
      "10       0.736305  \n",
      "11       0.592197  \n"
     ]
    },
    {
     "name": "stderr",
     "output_type": "stream",
     "text": [
      "C:\\Users\\lollo\\AppData\\Local\\Temp\\ipykernel_21416\\766029108.py:16: FutureWarning: DataFrame.applymap has been deprecated. Use DataFrame.map instead.\n",
      "  subset_data = subset_data.applymap(lambda x: 1 if x >= threshold else 0)\n",
      "C:\\Users\\lollo\\AppData\\Local\\Packages\\PythonSoftwareFoundation.Python.3.11_qbz5n2kfra8p0\\LocalCache\\local-packages\\Python311\\site-packages\\mlxtend\\frequent_patterns\\fpcommon.py:109: DeprecationWarning: DataFrames with non-bool types result in worse computationalperformance and their support might be discontinued in the future.Please use a DataFrame with bool type\n",
      "  warnings.warn(\n"
     ]
    }
   ],
   "source": [
    "# supp = 2  # 2%\n",
    "supp = 20  # 20%\n",
    "zmin = 2  # minimum number of items per item set\n",
    "\n",
    "itemsets = apriori(X, target=\"s\", supp=supp, zmin=zmin, report=\"S\")\n",
    "pd.DataFrame(itemsets, columns=[\"frequent_itemset\", \"support\"])\n"
   ]
  },
  {
   "cell_type": "markdown",
   "metadata": {},
   "source": [
    "### Closed Itemsets"
   ]
  },
  {
   "cell_type": "code",
   "execution_count": null,
   "metadata": {},
   "outputs": [],
   "source": [
    "# supp = 2  # 2%\n",
    "supp = 20  # 20%\n",
    "zmin = 2  # minimum number of items per item set\n",
    "\n",
    "itemsets = apriori(X, target=\"c\", supp=supp, zmin=zmin, report=\"S\")\n",
    "pd.DataFrame(itemsets, columns=[\"closed_itemset\", \"support\"])"
   ]
  },
  {
   "cell_type": "markdown",
   "metadata": {},
   "source": [
    "### Maximal Itemsets"
   ]
  },
  {
   "cell_type": "code",
   "execution_count": null,
   "metadata": {},
   "outputs": [],
   "source": [
    "itemsets = apriori(X, target=\"m\", supp=supp, zmin=zmin, report=\"S\")\n",
    "pd.DataFrame(itemsets, columns=[\"maximal_itemset\", \"support\"])"
   ]
  },
  {
   "cell_type": "markdown",
   "metadata": {},
   "source": [
    "### PLOTS"
   ]
  },
  {
   "cell_type": "code",
   "execution_count": null,
   "metadata": {},
   "outputs": [],
   "source": [
    "len_max_it = []\n",
    "len_cl_it = []\n",
    "max_supp = 25\n",
    "for i in range(2, max_supp):\n",
    "    max_itemsets = apriori(X, target=\"m\", supp=i, zmin=zmin)\n",
    "    cl_itemsets = apriori(X, target=\"c\", supp=i, zmin=zmin)\n",
    "    len_max_it.append(len(max_itemsets))\n",
    "    len_cl_it.append(len(cl_itemsets))\n",
    "\n",
    "plt.plot(np.arange(2, max_supp), len_max_it, label=\"maximal\")\n",
    "plt.plot(np.arange(2, max_supp), len_cl_it, label=\"closed\")\n",
    "plt.legend()\n",
    "plt.xlabel(\"%support\")\n",
    "plt.ylabel(\"itemsets\")\n",
    "\n",
    "plt.show()"
   ]
  },
  {
   "cell_type": "markdown",
   "metadata": {},
   "source": [
    "#### Support vs number of itemset for explicit / not explicit"
   ]
  },
  {
   "cell_type": "code",
   "execution_count": null,
   "metadata": {},
   "outputs": [],
   "source": [
    "filter_1 = []\n",
    "filter_2 = []\n",
    "for i in range(2, max_supp):\n",
    "    max_itemsets = apriori(X, target=\"m\", supp=i, zmin=zmin)\n",
    "    filter_1.append(len([item for item in max_itemsets if \"explicit\" in item[0]]))\n",
    "    filter_2.append(len([item for item in max_itemsets if \"Not explicit\" in item[0]]))\n",
    "\n",
    "plt.plot(np.arange(2, max_supp), filter_1, label=\"w/ explicit\")\n",
    "plt.plot(np.arange(2, max_supp), filter_2, label=\"w/ Not explicit\")\n",
    "plt.legend()\n",
    "plt.xticks()\n",
    "plt.xlabel(\"%support\")\n",
    "plt.ylabel(\"itemsets\")\n",
    "\n",
    "plt.show()"
   ]
  },
  {
   "cell_type": "code",
   "execution_count": null,
   "metadata": {},
   "outputs": [],
   "source": [
    "conf = 60\n",
    "rules = apriori(X, target=\"r\", supp=supp, zmin=zmin, conf=conf, report=\"aScl\")\n",
    "rules_df = pd.DataFrame(\n",
    "    rules,\n",
    "    columns=[\n",
    "        \"consequent\",\n",
    "        \"antecedent\",\n",
    "        \"abs_support\",\n",
    "        \"%_support\",\n",
    "        \"confidence\",\n",
    "        \"lift\",\n",
    "    ],\n",
    ")\n",
    "rules_df.sort_values(by=\"lift\", axis=0, ascending=False)"
   ]
  },
  {
   "cell_type": "code",
   "execution_count": null,
   "metadata": {},
   "outputs": [],
   "source": [
    "rules_df[rules_df[\"consequent\"] == \"explicit\"]"
   ]
  },
  {
   "cell_type": "code",
   "execution_count": null,
   "metadata": {},
   "outputs": [],
   "source": [
    "print(\"to_predict:\", [r for r in rules if r[0] == \"explicit\"][0][0])\n",
    "print(\"how?\", [r for r in rules if r[0] == \"explicit\"][0][1])"
   ]
  }
 ],
 "metadata": {
  "kernelspec": {
   "display_name": "Python 3",
   "language": "python",
   "name": "python3"
  },
  "language_info": {
   "codemirror_mode": {
    "name": "ipython",
    "version": 3
   },
   "file_extension": ".py",
   "mimetype": "text/x-python",
   "name": "python",
   "nbconvert_exporter": "python",
   "pygments_lexer": "ipython3",
   "version": "3.11.5"
  }
 },
 "nbformat": 4,
 "nbformat_minor": 2
}
