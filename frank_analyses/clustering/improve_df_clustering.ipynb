{
 "cells": [
  {
   "cell_type": "code",
   "execution_count": 8,
   "metadata": {},
   "outputs": [],
   "source": [
    "import numpy as np\n",
    "import pandas as pd\n",
    "import seaborn as sns\n",
    "import matplotlib.pyplot as plt"
   ]
  },
  {
   "cell_type": "code",
   "execution_count": 9,
   "metadata": {},
   "outputs": [],
   "source": [
    "df = pd.read_csv(\"../../our_analyses/dataset_prepared.csv\")"
   ]
  },
  {
   "cell_type": "code",
   "execution_count": 10,
   "metadata": {},
   "outputs": [],
   "source": [
    "from sklearn.preprocessing import LabelEncoder\n",
    "\n",
    "df=df.drop(['name', 'artists', 'album_name'], axis=1)\n",
    "df['genre'] = pd.factorize(df['genre'])[0]\n",
    "\n",
    "le = LabelEncoder()\n",
    "df['explicit'] = le.fit_transform(df['explicit'])"
   ]
  },
  {
   "cell_type": "markdown",
   "metadata": {},
   "source": [
    "# tempo=0"
   ]
  },
  {
   "cell_type": "code",
   "execution_count": 11,
   "metadata": {},
   "outputs": [
    {
     "name": "stdout",
     "output_type": "stream",
     "text": [
      "16    84\n",
      "12     5\n",
      "0      1\n",
      "7      1\n",
      "Name: genre, dtype: int64\n"
     ]
    }
   ],
   "source": [
    "df_tempo = df[df['tempo'] == 0.0]\n",
    "\n",
    "# Conta le occorrenze per ciascun gruppo di genere\n",
    "occurrences_by_genre_group = df_tempo['genre'].value_counts()\n",
    "\n",
    "print(occurrences_by_genre_group)"
   ]
  },
  {
   "cell_type": "markdown",
   "metadata": {},
   "source": [
    "# Relation between acousctiness and energy"
   ]
  },
  {
   "cell_type": "code",
   "execution_count": 14,
   "metadata": {},
   "outputs": [
    {
     "name": "stdout",
     "output_type": "stream",
     "text": [
      "16    55\n",
      "7     31\n",
      "17    13\n",
      "0     10\n",
      "2     10\n",
      "13     8\n",
      "12     7\n",
      "14     6\n",
      "9      5\n",
      "3      4\n",
      "10     4\n",
      "6      3\n",
      "18     3\n",
      "19     2\n",
      "15     1\n",
      "Name: genre, dtype: int64\n"
     ]
    }
   ],
   "source": [
    "rows_with_time_zero = df[df['acousticness']>0.7]\n",
    "rows_with_energy=rows_with_time_zero[rows_with_time_zero['energy']>0.7]\n",
    "conteggio_per_genere = rows_with_energy['genre'].value_counts()\n",
    "\n",
    "print(conteggio_per_genere)"
   ]
  },
  {
   "cell_type": "code",
   "execution_count": 13,
   "metadata": {},
   "outputs": [
    {
     "name": "stdout",
     "output_type": "stream",
     "text": [
      "16    70\n",
      "12    29\n",
      "18    26\n",
      "9     15\n",
      "10     5\n",
      "15     5\n",
      "1      4\n",
      "2      4\n",
      "0      3\n",
      "19     3\n",
      "3      2\n",
      "5      2\n",
      "6      2\n",
      "7      1\n",
      "11     1\n",
      "Name: genre, dtype: int64\n"
     ]
    }
   ],
   "source": [
    "rows_with_time_zero = df[df['acousticness']<0.3]\n",
    "rows_with_energy=rows_with_time_zero[rows_with_time_zero['energy']<0.3]\n",
    "conteggio_per_genere = rows_with_energy['genre'].value_counts()\n",
    "\n",
    "print(conteggio_per_genere)"
   ]
  }
 ],
 "metadata": {
  "kernelspec": {
   "display_name": "base",
   "language": "python",
   "name": "python3"
  },
  "language_info": {
   "codemirror_mode": {
    "name": "ipython",
    "version": 3
   },
   "file_extension": ".py",
   "mimetype": "text/x-python",
   "name": "python",
   "nbconvert_exporter": "python",
   "pygments_lexer": "ipython3",
   "version": "3.9.18"
  }
 },
 "nbformat": 4,
 "nbformat_minor": 2
}
