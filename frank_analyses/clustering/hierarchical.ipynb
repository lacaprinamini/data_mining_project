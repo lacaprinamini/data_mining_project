{
 "cells": [
  {
   "cell_type": "code",
   "execution_count": null,
   "metadata": {},
   "outputs": [],
   "source": [
    "import numpy as np\n",
    "import pandas as pd\n",
    "import matplotlib.pyplot as plt \n",
    "import seaborn as sns"
   ]
  },
  {
   "cell_type": "code",
   "execution_count": null,
   "metadata": {},
   "outputs": [],
   "source": [
    "#scaling, normalization\n",
    "from sklearn.preprocessing import StandardScaler, MinMaxScaler\n",
    "#kmeans, dbscan, hierarchical (sklearn)\n",
    "from sklearn.cluster import KMeans, DBSCAN, AgglomerativeClustering\n",
    "#evaluation\n",
    "from sklearn.metrics import silhouette_score\n",
    "#import dataset\n",
    "from sklearn.datasets import load_iris\n",
    "\n",
    "#distance matrix (dbscan elbow, hierarchical)\n",
    "from scipy.spatial.distance import pdist, squareform\n",
    "# hierarchical (scipy)\n",
    "from scipy.cluster.hierarchy import linkage, dendrogram, fcluster"
   ]
  },
  {
   "cell_type": "code",
   "execution_count": null,
   "metadata": {},
   "outputs": [],
   "source": [
    "df = pd.read_csv(\"../../our_analyses/dataset_prepared.csv\")"
   ]
  },
  {
   "cell_type": "code",
   "execution_count": null,
   "metadata": {},
   "outputs": [],
   "source": [
    "def get_linkage_matrix(model):\n",
    "    # Create linkage matrix \n",
    "    \n",
    "    # create the counts of samples under each node\n",
    "    counts = np.zeros(model.children_.shape[0])\n",
    "    n_samples = len(model.labels_)\n",
    "    for i, merge in enumerate(model.children_):\n",
    "        current_count = 0\n",
    "        for child_idx in merge:\n",
    "            if child_idx < n_samples:\n",
    "                current_count += 1  # leaf node\n",
    "            else:\n",
    "                current_count += counts[child_idx - n_samples]\n",
    "        counts[i] = current_count\n",
    "\n",
    "    linkage_matrix = np.column_stack(\n",
    "        [model.children_, model.distances_, counts]\n",
    "    ).astype(float)\n",
    "\n",
    "    return linkage_matrix\n",
    "\n",
    "def plot_dendrogram(model, **kwargs):\n",
    "    linkage_matrix = get_linkage_matrix(model)\n",
    "    dendrogram(linkage_matrix, **kwargs)"
   ]
  },
  {
   "cell_type": "code",
   "execution_count": null,
   "metadata": {},
   "outputs": [],
   "source": [
    "\n",
    "# # Parametri da esplorare\n",
    "# distance_thresholds = [0.01, 0.05, 0.1, 0.2]\n",
    "# linkage_types = ['ward', 'complete', 'average', 'single']\n",
    "# metrics = ['euclidean', 'manhattan', 'cosine']\n",
    "\n",
    "# best_silhouette_score = -1\n",
    "# best_params = {}\n",
    "\n",
    "# for threshold in distance_thresholds:\n",
    "#     for linkage in linkage_types:\n",
    "#         for metric in metrics:\n",
    "#             # Verifica la compatibilità di metric e linkage\n",
    "#             valid_combination = (metric != 'manhattan' or linkage != 'ward')\n",
    "#             if valid_combination:\n",
    "#                 model = AgglomerativeClustering(distance_threshold=threshold, n_clusters=None, metric=metric, linkage=linkage)\n",
    "#                 clusters = model.fit_predict(X)\n",
    "\n",
    "#                 # Controllo sul numero di cluster generati\n",
    "#                 num_clusters = len(np.unique(clusters))\n",
    "#                 if 2 <= num_clusters <= len(X) - 1:\n",
    "#                     # Calcolo del punteggio di Silhouette\n",
    "#                     silhouette_avg = silhouette_score(X, clusters)\n",
    "\n",
    "#                     # Aggiorna i migliori parametri se necessario\n",
    "#                     if silhouette_avg > best_silhouette_score:\n",
    "#                         best_silhouette_score = silhouette_avg\n",
    "#                         best_params = {\n",
    "#                             'distance_threshold': threshold,\n",
    "#                             'linkage': linkage,\n",
    "#                             'metric': metric,\n",
    "#                             'num_clusters': num_clusters\n",
    "#                         }\n",
    "\n",
    "# print(\"Migliori parametri:\")\n",
    "# print(best_params)"
   ]
  },
  {
   "cell_type": "code",
   "execution_count": null,
   "metadata": {},
   "outputs": [],
   "source": [
    "model = AgglomerativeClustering(distance_threshold=0, n_clusters=None, \n",
    "                                metric='euclidean', linkage='complete')\n",
    "model = model.fit(X_minmax)"
   ]
  },
  {
   "cell_type": "code",
   "execution_count": null,
   "metadata": {},
   "outputs": [],
   "source": [
    "#EUCLIDEAN METHOD\n",
    "import matplotlib.pyplot as plt\n",
    "from scipy.cluster.hierarchy import dendrogram, linkage\n",
    "from sklearn.preprocessing import MinMaxScaler\n",
    "import pandas as pd\n",
    "from sklearn.cluster import AgglomerativeClustering\n",
    "\n",
    "# Supponendo che df_prepared sia il tuo DataFrame\n",
    "'''scaler = MinMaxScaler()\n",
    "df_normalized = pd.DataFrame(scaler.fit_transform(df_prepared), columns=df_prepared.columns)'''\n",
    "\n",
    "# Supponendo 'hier.labels_' sia una serie o un array con le etichette del clustering\n",
    "linkage_types = ['ward', 'complete']\n",
    "linkage_matrices = {}\n",
    "\n",
    "# Calcola la matrice di linkage per ciascun tipo di linkage\n",
    "for linkage_type in linkage_types:\n",
    "    linkage_matrix = linkage(X, method=linkage_type)\n",
    "    linkage_matrices[linkage_type] = linkage_matrix\n",
    "\n",
    "# Plotta i dendrogrammi per ciascun tipo di linkage\n",
    "plt.figure(figsize=(18, 10))\n",
    "\n",
    "for i, linkage_type in enumerate(linkage_types, 1):\n",
    "    plt.subplot(2, 2, i)\n",
    "    \n",
    "    # Imposta distance_threshold=None per calcolare l'albero completo.\n",
    "    model = AgglomerativeClustering(distance_threshold=5, n_clusters=None, affinity='euclidean', linkage=linkage_type)\n",
    "    labels = model.fit_predict(X)\n",
    "    \n",
    "    plt.title(f\"Hierarchical Clustering Dendrogram ({linkage_type.capitalize()} Linkage)\")\n",
    "    dendrogram(linkage_matrices[linkage_type], truncate_mode=\"lastp\", p=30, leaf_rotation=90., leaf_font_size=8., show_contracted=True)\n",
    "    plt.xlabel(\"Number of points in node (or index of point if no parenthesis).\")\n",
    "    plt.ylabel(\"Distance\")\n",
    "    \n",
    "plt.tight_layout()\n",
    "plt.show()\n"
   ]
  },
  {
   "cell_type": "code",
   "execution_count": null,
   "metadata": {},
   "outputs": [],
   "source": [
    "Z = get_linkage_matrix(model)\n",
    "labels = fcluster(Z, t=1.4, criterion='distance')"
   ]
  },
  {
   "cell_type": "code",
   "execution_count": null,
   "metadata": {},
   "outputs": [],
   "source": [
    "print('Silhouette', silhouette_score(X_minmax, labels))"
   ]
  }
 ],
 "metadata": {
  "language_info": {
   "name": "python"
  }
 },
 "nbformat": 4,
 "nbformat_minor": 2
}
