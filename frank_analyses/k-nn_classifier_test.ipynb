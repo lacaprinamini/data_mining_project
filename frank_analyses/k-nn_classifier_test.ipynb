{
 "cells": [
  {
   "cell_type": "code",
   "execution_count": 2,
   "metadata": {},
   "outputs": [],
   "source": [
    "import numpy as np\n",
    "import matplotlib.pyplot as plt\n",
    "import seaborn as sns\n",
    "import pandas as pd"
   ]
  },
  {
   "cell_type": "code",
   "execution_count": 3,
   "metadata": {},
   "outputs": [],
   "source": [
    "from sklearn.metrics import (\n",
    "    accuracy_score, \n",
    "    f1_score, \n",
    "    classification_report, \n",
    "    confusion_matrix, \n",
    "    roc_auc_score, \n",
    "    precision_score, \n",
    "    recall_score,\n",
    ")\n",
    "from scikitplot.metrics import plot_roc\n",
    "from scikitplot.metrics import plot_precision_recall"
   ]
  },
  {
   "cell_type": "code",
   "execution_count": 4,
   "metadata": {},
   "outputs": [],
   "source": [
    "df = pd.read_csv(\"../our_analyses/dataset_prepared.csv\")\n",
    "df_test= pd.read_csv(\"../our_analyses/dataset_test_prepared.csv\")"
   ]
  },
  {
   "cell_type": "code",
   "execution_count": 5,
   "metadata": {},
   "outputs": [
    {
     "name": "stdout",
     "output_type": "stream",
     "text": [
      "[4 1 2 3 0 5 6]\n"
     ]
    }
   ],
   "source": [
    "from sklearn.preprocessing import LabelEncoder\n",
    "\n",
    "df=df.drop(['name', 'artists', 'album_name'], axis=1)\n",
    "df_test=df_test.drop(['name', 'artists', 'album_name'], axis=1)\n",
    "\n",
    "genre_groups = {\n",
    "    'j-dance': 0, 'techno': 0, 'mandopop': 0, 'idm': 0, 'chicago-house': 0, 'breakbeat': 0,  # Elettronica/Dance\n",
    "    'black-metal': 1,  # Metal/Rock\n",
    "    'bluegrass': 2,  # Country/Folk\n",
    "    'j-idol': 3, 'spanish': 3, 'disney': 3, 'brazil': 3,  # Pop/Commerciale\n",
    "    'iranian': 4, 'afrobeat': 4, 'indian': 4, 'forro': 4,  # World\n",
    "    'happy': 5, 'sleep': 5, 'study': 5,  # Ambient/New Age\n",
    "    'industrial': 6  # Other\n",
    "}\n",
    "\n",
    "# Mappatura dei generi del dataframe ai gruppi di generi\n",
    "df['genre_group'] = df['genre'].map(genre_groups).astype(int)\n",
    "df_test['genre_group'] = df_test['genre'].map(genre_groups).astype(int)\n",
    "\n",
    "# Stampa del mapping dei generi ai numeri corrispondenti\n",
    "print(df['genre_group'].unique())\n",
    "\n",
    "le = LabelEncoder()\n",
    "df['explicit'] = le.fit_transform(df['explicit'])\n",
    "df_test['explicit'] = le.fit_transform(df_test['explicit'])\n"
   ]
  },
  {
   "cell_type": "code",
   "execution_count": 6,
   "metadata": {},
   "outputs": [],
   "source": [
    "X = df.values\n",
    "y = np.array(df['genre_group'])\n",
    "X = df.drop('genre_group', axis=1)\n",
    "X = df.drop('genre', axis=1)\n",
    "\n",
    "Z = df_test.values\n",
    "t = np.array(df_test['genre_group'])\n",
    "Z = df_test.drop('genre_group', axis=1)\n",
    "Z = df_test.drop('genre', axis=1)"
   ]
  },
  {
   "cell_type": "code",
   "execution_count": 7,
   "metadata": {},
   "outputs": [],
   "source": [
    "from sklearn.model_selection import train_test_split\n",
    "\n",
    "random_state = 0\n",
    "\n",
    "X_train, X_test, y_train, y_test = train_test_split(\n",
    "    X, y, test_size=0.4, stratify=y, random_state=random_state\n",
    ")\n",
    "\n",
    "Z_train, Z_test, t_train, t_test = train_test_split(\n",
    "    Z, t, test_size=0.4, stratify=t, random_state=random_state\n",
    ")"
   ]
  },
  {
   "cell_type": "code",
   "execution_count": 15,
   "metadata": {},
   "outputs": [],
   "source": [
    "from sklearn.preprocessing import StandardScaler\n",
    "\n",
    "norm = StandardScaler()\n",
    "norm = StandardScaler()\n",
    "norm.fit(X_train)\n",
    "\n",
    "X_train_norm = norm.transform(X_train)\n",
    "X_test_norm = norm.transform(X_test)\n",
    "\n",
    "norm.fit(Z_train)\n",
    "\n",
    "Z_norm = norm.transform(Z)\n",
    "\n",
    "Z_train_norm = norm.transform(Z_train)\n",
    "Z_test_norm = norm.transform(Z_test)"
   ]
  },
  {
   "cell_type": "code",
   "execution_count": 16,
   "metadata": {},
   "outputs": [
    {
     "name": "stdout",
     "output_type": "stream",
     "text": [
      "Accuracy: 0.9003333333333333\n",
      "Accuracy: 0.8975\n"
     ]
    }
   ],
   "source": [
    "from sklearn.neighbors import KNeighborsClassifier\n",
    "\n",
    "clf = KNeighborsClassifier(n_neighbors=14, metric=\"cityblock\", weights=\"uniform\")\n",
    "clf.fit(X_train_norm, y_train)\n",
    "\n",
    "y_test_pred = clf.predict(X_test_norm)\n",
    "print(\"Accuracy:\", accuracy_score(y_test, y_test_pred))\n",
    "\n",
    "\n",
    "t_test_pred = clf.predict(Z_test_norm)\n",
    "print(\"Accuracy:\", accuracy_score(t_test, t_test_pred))"
   ]
  },
  {
   "cell_type": "code",
   "execution_count": 10,
   "metadata": {},
   "outputs": [
    {
     "ename": "NameError",
     "evalue": "name 'clf_test' is not defined",
     "output_type": "error",
     "traceback": [
      "\u001b[0;31m---------------------------------------------------------------------------\u001b[0m",
      "\u001b[0;31mNameError\u001b[0m                                 Traceback (most recent call last)",
      "\u001b[1;32m/Users/francescocapria/Library/CloudStorage/OneDrive-UniversityofPisa/progetto-data-mining/data_mining_project/frank_analyses/k-nn_classifier_test.ipynb Cella 9\u001b[0m line \u001b[0;36m2\n\u001b[1;32m     <a href='vscode-notebook-cell:/Users/francescocapria/Library/CloudStorage/OneDrive-UniversityofPisa/progetto-data-mining/data_mining_project/frank_analyses/k-nn_classifier_test.ipynb#X11sZmlsZQ%3D%3D?line=21'>22</a>\u001b[0m test_std \u001b[39m=\u001b[39m np\u001b[39m.\u001b[39mstd(test_scores, axis\u001b[39m=\u001b[39m\u001b[39m1\u001b[39m)\n\u001b[1;32m     <a href='vscode-notebook-cell:/Users/francescocapria/Library/CloudStorage/OneDrive-UniversityofPisa/progetto-data-mining/data_mining_project/frank_analyses/k-nn_classifier_test.ipynb#X11sZmlsZQ%3D%3D?line=23'>24</a>\u001b[0m \u001b[39m# Genera la curva di apprendimento per il secondo classificatore clf_test\u001b[39;00m\n\u001b[1;32m     <a href='vscode-notebook-cell:/Users/francescocapria/Library/CloudStorage/OneDrive-UniversityofPisa/progetto-data-mining/data_mining_project/frank_analyses/k-nn_classifier_test.ipynb#X11sZmlsZQ%3D%3D?line=24'>25</a>\u001b[0m train_sizes_test, train_scores_test, test_scores_test \u001b[39m=\u001b[39m learning_curve(\n\u001b[0;32m---> <a href='vscode-notebook-cell:/Users/francescocapria/Library/CloudStorage/OneDrive-UniversityofPisa/progetto-data-mining/data_mining_project/frank_analyses/k-nn_classifier_test.ipynb#X11sZmlsZQ%3D%3D?line=25'>26</a>\u001b[0m     estimator\u001b[39m=\u001b[39mclf_test,\n\u001b[1;32m     <a href='vscode-notebook-cell:/Users/francescocapria/Library/CloudStorage/OneDrive-UniversityofPisa/progetto-data-mining/data_mining_project/frank_analyses/k-nn_classifier_test.ipynb#X11sZmlsZQ%3D%3D?line=26'>27</a>\u001b[0m     X\u001b[39m=\u001b[39mZ_train_norm,\n\u001b[1;32m     <a href='vscode-notebook-cell:/Users/francescocapria/Library/CloudStorage/OneDrive-UniversityofPisa/progetto-data-mining/data_mining_project/frank_analyses/k-nn_classifier_test.ipynb#X11sZmlsZQ%3D%3D?line=27'>28</a>\u001b[0m     y\u001b[39m=\u001b[39mt_train,\n\u001b[1;32m     <a href='vscode-notebook-cell:/Users/francescocapria/Library/CloudStorage/OneDrive-UniversityofPisa/progetto-data-mining/data_mining_project/frank_analyses/k-nn_classifier_test.ipynb#X11sZmlsZQ%3D%3D?line=28'>29</a>\u001b[0m     train_sizes\u001b[39m=\u001b[39mnp\u001b[39m.\u001b[39mlinspace(\u001b[39m0.1\u001b[39m, \u001b[39m1.0\u001b[39m, \u001b[39m10\u001b[39m),\n\u001b[1;32m     <a href='vscode-notebook-cell:/Users/francescocapria/Library/CloudStorage/OneDrive-UniversityofPisa/progetto-data-mining/data_mining_project/frank_analyses/k-nn_classifier_test.ipynb#X11sZmlsZQ%3D%3D?line=29'>30</a>\u001b[0m     cv\u001b[39m=\u001b[39m\u001b[39m10\u001b[39m,\n\u001b[1;32m     <a href='vscode-notebook-cell:/Users/francescocapria/Library/CloudStorage/OneDrive-UniversityofPisa/progetto-data-mining/data_mining_project/frank_analyses/k-nn_classifier_test.ipynb#X11sZmlsZQ%3D%3D?line=30'>31</a>\u001b[0m     scoring\u001b[39m=\u001b[39m\u001b[39m'\u001b[39m\u001b[39maccuracy\u001b[39m\u001b[39m'\u001b[39m,\n\u001b[1;32m     <a href='vscode-notebook-cell:/Users/francescocapria/Library/CloudStorage/OneDrive-UniversityofPisa/progetto-data-mining/data_mining_project/frank_analyses/k-nn_classifier_test.ipynb#X11sZmlsZQ%3D%3D?line=31'>32</a>\u001b[0m     n_jobs\u001b[39m=\u001b[39m\u001b[39m-\u001b[39m\u001b[39m1\u001b[39m,\n\u001b[1;32m     <a href='vscode-notebook-cell:/Users/francescocapria/Library/CloudStorage/OneDrive-UniversityofPisa/progetto-data-mining/data_mining_project/frank_analyses/k-nn_classifier_test.ipynb#X11sZmlsZQ%3D%3D?line=32'>33</a>\u001b[0m     shuffle\u001b[39m=\u001b[39m\u001b[39mTrue\u001b[39;00m,\n\u001b[1;32m     <a href='vscode-notebook-cell:/Users/francescocapria/Library/CloudStorage/OneDrive-UniversityofPisa/progetto-data-mining/data_mining_project/frank_analyses/k-nn_classifier_test.ipynb#X11sZmlsZQ%3D%3D?line=33'>34</a>\u001b[0m     random_state\u001b[39m=\u001b[39m\u001b[39m0\u001b[39m\n\u001b[1;32m     <a href='vscode-notebook-cell:/Users/francescocapria/Library/CloudStorage/OneDrive-UniversityofPisa/progetto-data-mining/data_mining_project/frank_analyses/k-nn_classifier_test.ipynb#X11sZmlsZQ%3D%3D?line=34'>35</a>\u001b[0m )\n\u001b[1;32m     <a href='vscode-notebook-cell:/Users/francescocapria/Library/CloudStorage/OneDrive-UniversityofPisa/progetto-data-mining/data_mining_project/frank_analyses/k-nn_classifier_test.ipynb#X11sZmlsZQ%3D%3D?line=36'>37</a>\u001b[0m \u001b[39m# Calcola la media e la deviazione standard per clf_test\u001b[39;00m\n\u001b[1;32m     <a href='vscode-notebook-cell:/Users/francescocapria/Library/CloudStorage/OneDrive-UniversityofPisa/progetto-data-mining/data_mining_project/frank_analyses/k-nn_classifier_test.ipynb#X11sZmlsZQ%3D%3D?line=37'>38</a>\u001b[0m train_mean_test \u001b[39m=\u001b[39m np\u001b[39m.\u001b[39mmean(train_scores_test, axis\u001b[39m=\u001b[39m\u001b[39m1\u001b[39m)\n",
      "\u001b[0;31mNameError\u001b[0m: name 'clf_test' is not defined"
     ]
    }
   ],
   "source": [
    "from sklearn.model_selection import learning_curve\n",
    "import numpy as np\n",
    "import matplotlib.pyplot as plt\n",
    "\n",
    "# Genera la curva di apprendimento per il primo classificatore clf\n",
    "train_sizes, train_scores, test_scores = learning_curve(\n",
    "    estimator=clf,\n",
    "    X=X_train_norm,\n",
    "    y=y_train,\n",
    "    train_sizes=np.linspace(0.1, 1.0, 10),\n",
    "    cv=10,\n",
    "    scoring='accuracy',\n",
    "    n_jobs=-1,\n",
    "    shuffle=True,\n",
    "    random_state=0\n",
    ")\n",
    "\n",
    "# Calcola la media e la deviazione standard per clf\n",
    "train_mean = np.mean(train_scores, axis=1)\n",
    "train_std = np.std(train_scores, axis=1)\n",
    "test_mean = np.mean(test_scores, axis=1)\n",
    "test_std = np.std(test_scores, axis=1)\n",
    "\n",
    "# Genera la curva di apprendimento per il secondo classificatore clf_test\n",
    "train_sizes_test, train_scores_test, test_scores_test = learning_curve(\n",
    "    estimator=clf_test,\n",
    "    X=Z_train_norm,\n",
    "    y=t_train,\n",
    "    train_sizes=np.linspace(0.1, 1.0, 10),\n",
    "    cv=10,\n",
    "    scoring='accuracy',\n",
    "    n_jobs=-1,\n",
    "    shuffle=True,\n",
    "    random_state=0\n",
    ")\n",
    "\n",
    "# Calcola la media e la deviazione standard per clf_test\n",
    "train_mean_test = np.mean(train_scores_test, axis=1)\n",
    "train_std_test = np.std(train_scores_test, axis=1)\n",
    "test_mean_test = np.mean(test_scores_test, axis=1)\n",
    "test_std_test = np.std(test_scores_test, axis=1)\n",
    "\n",
    "# Disegna la curva di apprendimento\n",
    "plt.figure(figsize=(10, 6))\n",
    "\n",
    "# Curva per clf\n",
    "plt.plot(train_sizes, train_mean, 'o-', color='blue', label='Training score (clf)')\n",
    "plt.plot(train_sizes, test_mean, 'o-', color='green', label='Cross-validation score (clf)')\n",
    "plt.fill_between(train_sizes, train_mean - train_std, train_mean + train_std, alpha=0.1, color='blue')\n",
    "plt.fill_between(train_sizes, test_mean - test_std, test_mean + test_std, alpha=0.1, color='green')\n",
    "\n",
    "# Curva per clf_test\n",
    "plt.plot(train_sizes_test, train_mean_test, 's--', color='red', label='Training score (clf_test)')\n",
    "plt.plot(train_sizes_test, test_mean_test, 's--', color='orange', label='Cross-validation score (clf_test)')\n",
    "plt.fill_between(train_sizes_test, train_mean_test - train_std_test, train_mean_test + train_std_test, alpha=0.1, color='red')\n",
    "plt.fill_between(train_sizes_test, test_mean_test - test_std_test, test_mean_test + test_std_test, alpha=0.1, color='orange')\n",
    "\n",
    "# Aggiungi titolo e assegnazioni\n",
    "plt.title('Learning Curve for k-NN Classifier')\n",
    "plt.xlabel('Training Data Size')\n",
    "plt.ylabel('Accuracy')\n",
    "plt.legend(loc='best')\n",
    "plt.grid(True)\n",
    "plt.show()\n"
   ]
  },
  {
   "cell_type": "code",
   "execution_count": null,
   "metadata": {},
   "outputs": [
    {
     "data": {
      "application/vnd.plotly.v1+json": {
       "config": {
        "plotlyServerURL": "https://plot.ly"
       },
       "data": [
        {
         "mode": "lines",
         "name": "Class 0 (AUC = 1.00)",
         "type": "scatter",
         "x": [
          0,
          0,
          0,
          0.0007142857142857143,
          0.0014285714285714286,
          0.004285714285714286,
          0.005714285714285714,
          0.008571428571428572,
          0.012857142857142857,
          0.023571428571428573,
          0.03642857142857143,
          0.055,
          0.09071428571428572,
          0.1692857142857143,
          0.3607142857142857,
          1
         ],
         "y": [
          0,
          0.38,
          0.5616666666666666,
          0.6833333333333333,
          0.7983333333333333,
          0.8783333333333333,
          0.9216666666666666,
          0.95,
          0.9683333333333334,
          0.98,
          0.9933333333333333,
          0.995,
          0.9983333333333333,
          1,
          1,
          1
         ]
        },
        {
         "mode": "lines",
         "name": "Class 1 (AUC = 0.97)",
         "type": "scatter",
         "x": [
          0,
          0,
          0,
          0,
          0,
          0,
          0.0010526315789473684,
          0.0015789473684210526,
          0.002631578947368421,
          0.005263157894736842,
          0.006842105263157895,
          0.014210526315789474,
          0.025789473684210525,
          0.05210526315789474,
          0.14105263157894737,
          1
         ],
         "y": [
          0,
          0.07,
          0.21,
          0.28,
          0.36,
          0.49,
          0.53,
          0.6,
          0.66,
          0.7,
          0.76,
          0.83,
          0.87,
          0.92,
          0.97,
          1
         ]
        },
        {
         "mode": "lines",
         "name": "Class 2 (AUC = 0.95)",
         "type": "scatter",
         "x": [
          0,
          0,
          0,
          0,
          0,
          0,
          0,
          0.0005263157894736842,
          0.002105263157894737,
          0.005263157894736842,
          0.019473684210526317,
          0.039473684210526314,
          0.07684210526315789,
          0.19263157894736843,
          1
         ],
         "y": [
          0,
          0.01,
          0.04,
          0.11,
          0.2,
          0.28,
          0.46,
          0.56,
          0.65,
          0.73,
          0.78,
          0.84,
          0.9,
          0.93,
          1
         ]
        },
        {
         "mode": "lines",
         "name": "Class 3 (AUC = 0.96)",
         "type": "scatter",
         "x": [
          0,
          0,
          0,
          0.000625,
          0.00125,
          0.0025,
          0.008125,
          0.01875,
          0.04,
          0.076875,
          0.126875,
          0.19125,
          0.276875,
          0.388125,
          0.573125,
          1
         ],
         "y": [
          0,
          0.03,
          0.08,
          0.165,
          0.285,
          0.4125,
          0.545,
          0.6875,
          0.7825,
          0.865,
          0.92,
          0.9625,
          0.985,
          0.995,
          0.995,
          1
         ]
        },
        {
         "mode": "lines",
         "name": "Class 4 (AUC = 0.97)",
         "type": "scatter",
         "x": [
          0,
          0,
          0,
          0,
          0.00125,
          0.001875,
          0.00625,
          0.0175,
          0.026875,
          0.048125,
          0.081875,
          0.135625,
          0.214375,
          0.33125,
          0.538125,
          1
         ],
         "y": [
          0,
          0.01,
          0.055,
          0.1575,
          0.2325,
          0.335,
          0.4475,
          0.5825,
          0.7075,
          0.82,
          0.9075,
          0.9525,
          0.97,
          0.9875,
          0.9975,
          1
         ]
        },
        {
         "mode": "lines",
         "name": "Class 5 (AUC = 0.98)",
         "type": "scatter",
         "x": [
          0,
          0,
          0.001176470588235294,
          0.001176470588235294,
          0.002352941176470588,
          0.0029411764705882353,
          0.006470588235294118,
          0.008823529411764706,
          0.014705882352941176,
          0.021176470588235293,
          0.03529411764705882,
          0.054705882352941174,
          0.0988235294117647,
          0.16058823529411764,
          0.3058823529411765,
          1
         ],
         "y": [
          0,
          0.17333333333333334,
          0.3466666666666667,
          0.44,
          0.54,
          0.6166666666666667,
          0.68,
          0.72,
          0.7866666666666666,
          0.86,
          0.9033333333333333,
          0.9333333333333333,
          0.96,
          0.98,
          1,
          1
         ]
        },
        {
         "mode": "lines",
         "name": "Class 6 (AUC = 0.99)",
         "type": "scatter",
         "x": [
          0,
          0,
          0,
          0,
          0.0010526315789473684,
          0.002105263157894737,
          0.003157894736842105,
          0.004736842105263158,
          0.008947368421052631,
          0.022105263157894735,
          0.05526315789473684,
          0.12,
          1
         ],
         "y": [
          0,
          0.04,
          0.1,
          0.32,
          0.41,
          0.59,
          0.71,
          0.83,
          0.9,
          0.94,
          0.97,
          1,
          1
         ]
        },
        {
         "line": {
          "dash": "dash"
         },
         "mode": "lines",
         "name": "Chance",
         "type": "scatter",
         "x": [
          0,
          1
         ],
         "y": [
          0,
          1
         ]
        }
       ],
       "layout": {
        "height": 800,
        "legend": {
         "orientation": "h",
         "x": 1,
         "xanchor": "right",
         "y": 1.02,
         "yanchor": "bottom"
        },
        "showlegend": true,
        "template": {
         "data": {
          "bar": [
           {
            "error_x": {
             "color": "#2a3f5f"
            },
            "error_y": {
             "color": "#2a3f5f"
            },
            "marker": {
             "line": {
              "color": "#E5ECF6",
              "width": 0.5
             },
             "pattern": {
              "fillmode": "overlay",
              "size": 10,
              "solidity": 0.2
             }
            },
            "type": "bar"
           }
          ],
          "barpolar": [
           {
            "marker": {
             "line": {
              "color": "#E5ECF6",
              "width": 0.5
             },
             "pattern": {
              "fillmode": "overlay",
              "size": 10,
              "solidity": 0.2
             }
            },
            "type": "barpolar"
           }
          ],
          "carpet": [
           {
            "aaxis": {
             "endlinecolor": "#2a3f5f",
             "gridcolor": "white",
             "linecolor": "white",
             "minorgridcolor": "white",
             "startlinecolor": "#2a3f5f"
            },
            "baxis": {
             "endlinecolor": "#2a3f5f",
             "gridcolor": "white",
             "linecolor": "white",
             "minorgridcolor": "white",
             "startlinecolor": "#2a3f5f"
            },
            "type": "carpet"
           }
          ],
          "choropleth": [
           {
            "colorbar": {
             "outlinewidth": 0,
             "ticks": ""
            },
            "type": "choropleth"
           }
          ],
          "contour": [
           {
            "colorbar": {
             "outlinewidth": 0,
             "ticks": ""
            },
            "colorscale": [
             [
              0,
              "#0d0887"
             ],
             [
              0.1111111111111111,
              "#46039f"
             ],
             [
              0.2222222222222222,
              "#7201a8"
             ],
             [
              0.3333333333333333,
              "#9c179e"
             ],
             [
              0.4444444444444444,
              "#bd3786"
             ],
             [
              0.5555555555555556,
              "#d8576b"
             ],
             [
              0.6666666666666666,
              "#ed7953"
             ],
             [
              0.7777777777777778,
              "#fb9f3a"
             ],
             [
              0.8888888888888888,
              "#fdca26"
             ],
             [
              1,
              "#f0f921"
             ]
            ],
            "type": "contour"
           }
          ],
          "contourcarpet": [
           {
            "colorbar": {
             "outlinewidth": 0,
             "ticks": ""
            },
            "type": "contourcarpet"
           }
          ],
          "heatmap": [
           {
            "colorbar": {
             "outlinewidth": 0,
             "ticks": ""
            },
            "colorscale": [
             [
              0,
              "#0d0887"
             ],
             [
              0.1111111111111111,
              "#46039f"
             ],
             [
              0.2222222222222222,
              "#7201a8"
             ],
             [
              0.3333333333333333,
              "#9c179e"
             ],
             [
              0.4444444444444444,
              "#bd3786"
             ],
             [
              0.5555555555555556,
              "#d8576b"
             ],
             [
              0.6666666666666666,
              "#ed7953"
             ],
             [
              0.7777777777777778,
              "#fb9f3a"
             ],
             [
              0.8888888888888888,
              "#fdca26"
             ],
             [
              1,
              "#f0f921"
             ]
            ],
            "type": "heatmap"
           }
          ],
          "heatmapgl": [
           {
            "colorbar": {
             "outlinewidth": 0,
             "ticks": ""
            },
            "colorscale": [
             [
              0,
              "#0d0887"
             ],
             [
              0.1111111111111111,
              "#46039f"
             ],
             [
              0.2222222222222222,
              "#7201a8"
             ],
             [
              0.3333333333333333,
              "#9c179e"
             ],
             [
              0.4444444444444444,
              "#bd3786"
             ],
             [
              0.5555555555555556,
              "#d8576b"
             ],
             [
              0.6666666666666666,
              "#ed7953"
             ],
             [
              0.7777777777777778,
              "#fb9f3a"
             ],
             [
              0.8888888888888888,
              "#fdca26"
             ],
             [
              1,
              "#f0f921"
             ]
            ],
            "type": "heatmapgl"
           }
          ],
          "histogram": [
           {
            "marker": {
             "pattern": {
              "fillmode": "overlay",
              "size": 10,
              "solidity": 0.2
             }
            },
            "type": "histogram"
           }
          ],
          "histogram2d": [
           {
            "colorbar": {
             "outlinewidth": 0,
             "ticks": ""
            },
            "colorscale": [
             [
              0,
              "#0d0887"
             ],
             [
              0.1111111111111111,
              "#46039f"
             ],
             [
              0.2222222222222222,
              "#7201a8"
             ],
             [
              0.3333333333333333,
              "#9c179e"
             ],
             [
              0.4444444444444444,
              "#bd3786"
             ],
             [
              0.5555555555555556,
              "#d8576b"
             ],
             [
              0.6666666666666666,
              "#ed7953"
             ],
             [
              0.7777777777777778,
              "#fb9f3a"
             ],
             [
              0.8888888888888888,
              "#fdca26"
             ],
             [
              1,
              "#f0f921"
             ]
            ],
            "type": "histogram2d"
           }
          ],
          "histogram2dcontour": [
           {
            "colorbar": {
             "outlinewidth": 0,
             "ticks": ""
            },
            "colorscale": [
             [
              0,
              "#0d0887"
             ],
             [
              0.1111111111111111,
              "#46039f"
             ],
             [
              0.2222222222222222,
              "#7201a8"
             ],
             [
              0.3333333333333333,
              "#9c179e"
             ],
             [
              0.4444444444444444,
              "#bd3786"
             ],
             [
              0.5555555555555556,
              "#d8576b"
             ],
             [
              0.6666666666666666,
              "#ed7953"
             ],
             [
              0.7777777777777778,
              "#fb9f3a"
             ],
             [
              0.8888888888888888,
              "#fdca26"
             ],
             [
              1,
              "#f0f921"
             ]
            ],
            "type": "histogram2dcontour"
           }
          ],
          "mesh3d": [
           {
            "colorbar": {
             "outlinewidth": 0,
             "ticks": ""
            },
            "type": "mesh3d"
           }
          ],
          "parcoords": [
           {
            "line": {
             "colorbar": {
              "outlinewidth": 0,
              "ticks": ""
             }
            },
            "type": "parcoords"
           }
          ],
          "pie": [
           {
            "automargin": true,
            "type": "pie"
           }
          ],
          "scatter": [
           {
            "fillpattern": {
             "fillmode": "overlay",
             "size": 10,
             "solidity": 0.2
            },
            "type": "scatter"
           }
          ],
          "scatter3d": [
           {
            "line": {
             "colorbar": {
              "outlinewidth": 0,
              "ticks": ""
             }
            },
            "marker": {
             "colorbar": {
              "outlinewidth": 0,
              "ticks": ""
             }
            },
            "type": "scatter3d"
           }
          ],
          "scattercarpet": [
           {
            "marker": {
             "colorbar": {
              "outlinewidth": 0,
              "ticks": ""
             }
            },
            "type": "scattercarpet"
           }
          ],
          "scattergeo": [
           {
            "marker": {
             "colorbar": {
              "outlinewidth": 0,
              "ticks": ""
             }
            },
            "type": "scattergeo"
           }
          ],
          "scattergl": [
           {
            "marker": {
             "colorbar": {
              "outlinewidth": 0,
              "ticks": ""
             }
            },
            "type": "scattergl"
           }
          ],
          "scattermapbox": [
           {
            "marker": {
             "colorbar": {
              "outlinewidth": 0,
              "ticks": ""
             }
            },
            "type": "scattermapbox"
           }
          ],
          "scatterpolar": [
           {
            "marker": {
             "colorbar": {
              "outlinewidth": 0,
              "ticks": ""
             }
            },
            "type": "scatterpolar"
           }
          ],
          "scatterpolargl": [
           {
            "marker": {
             "colorbar": {
              "outlinewidth": 0,
              "ticks": ""
             }
            },
            "type": "scatterpolargl"
           }
          ],
          "scatterternary": [
           {
            "marker": {
             "colorbar": {
              "outlinewidth": 0,
              "ticks": ""
             }
            },
            "type": "scatterternary"
           }
          ],
          "surface": [
           {
            "colorbar": {
             "outlinewidth": 0,
             "ticks": ""
            },
            "colorscale": [
             [
              0,
              "#0d0887"
             ],
             [
              0.1111111111111111,
              "#46039f"
             ],
             [
              0.2222222222222222,
              "#7201a8"
             ],
             [
              0.3333333333333333,
              "#9c179e"
             ],
             [
              0.4444444444444444,
              "#bd3786"
             ],
             [
              0.5555555555555556,
              "#d8576b"
             ],
             [
              0.6666666666666666,
              "#ed7953"
             ],
             [
              0.7777777777777778,
              "#fb9f3a"
             ],
             [
              0.8888888888888888,
              "#fdca26"
             ],
             [
              1,
              "#f0f921"
             ]
            ],
            "type": "surface"
           }
          ],
          "table": [
           {
            "cells": {
             "fill": {
              "color": "#EBF0F8"
             },
             "line": {
              "color": "white"
             }
            },
            "header": {
             "fill": {
              "color": "#C8D4E3"
             },
             "line": {
              "color": "white"
             }
            },
            "type": "table"
           }
          ]
         },
         "layout": {
          "annotationdefaults": {
           "arrowcolor": "#2a3f5f",
           "arrowhead": 0,
           "arrowwidth": 1
          },
          "autotypenumbers": "strict",
          "coloraxis": {
           "colorbar": {
            "outlinewidth": 0,
            "ticks": ""
           }
          },
          "colorscale": {
           "diverging": [
            [
             0,
             "#8e0152"
            ],
            [
             0.1,
             "#c51b7d"
            ],
            [
             0.2,
             "#de77ae"
            ],
            [
             0.3,
             "#f1b6da"
            ],
            [
             0.4,
             "#fde0ef"
            ],
            [
             0.5,
             "#f7f7f7"
            ],
            [
             0.6,
             "#e6f5d0"
            ],
            [
             0.7,
             "#b8e186"
            ],
            [
             0.8,
             "#7fbc41"
            ],
            [
             0.9,
             "#4d9221"
            ],
            [
             1,
             "#276419"
            ]
           ],
           "sequential": [
            [
             0,
             "#0d0887"
            ],
            [
             0.1111111111111111,
             "#46039f"
            ],
            [
             0.2222222222222222,
             "#7201a8"
            ],
            [
             0.3333333333333333,
             "#9c179e"
            ],
            [
             0.4444444444444444,
             "#bd3786"
            ],
            [
             0.5555555555555556,
             "#d8576b"
            ],
            [
             0.6666666666666666,
             "#ed7953"
            ],
            [
             0.7777777777777778,
             "#fb9f3a"
            ],
            [
             0.8888888888888888,
             "#fdca26"
            ],
            [
             1,
             "#f0f921"
            ]
           ],
           "sequentialminus": [
            [
             0,
             "#0d0887"
            ],
            [
             0.1111111111111111,
             "#46039f"
            ],
            [
             0.2222222222222222,
             "#7201a8"
            ],
            [
             0.3333333333333333,
             "#9c179e"
            ],
            [
             0.4444444444444444,
             "#bd3786"
            ],
            [
             0.5555555555555556,
             "#d8576b"
            ],
            [
             0.6666666666666666,
             "#ed7953"
            ],
            [
             0.7777777777777778,
             "#fb9f3a"
            ],
            [
             0.8888888888888888,
             "#fdca26"
            ],
            [
             1,
             "#f0f921"
            ]
           ]
          },
          "colorway": [
           "#636efa",
           "#EF553B",
           "#00cc96",
           "#ab63fa",
           "#FFA15A",
           "#19d3f3",
           "#FF6692",
           "#B6E880",
           "#FF97FF",
           "#FECB52"
          ],
          "font": {
           "color": "#2a3f5f"
          },
          "geo": {
           "bgcolor": "white",
           "lakecolor": "white",
           "landcolor": "#E5ECF6",
           "showlakes": true,
           "showland": true,
           "subunitcolor": "white"
          },
          "hoverlabel": {
           "align": "left"
          },
          "hovermode": "closest",
          "mapbox": {
           "style": "light"
          },
          "paper_bgcolor": "white",
          "plot_bgcolor": "#E5ECF6",
          "polar": {
           "angularaxis": {
            "gridcolor": "white",
            "linecolor": "white",
            "ticks": ""
           },
           "bgcolor": "#E5ECF6",
           "radialaxis": {
            "gridcolor": "white",
            "linecolor": "white",
            "ticks": ""
           }
          },
          "scene": {
           "xaxis": {
            "backgroundcolor": "#E5ECF6",
            "gridcolor": "white",
            "gridwidth": 2,
            "linecolor": "white",
            "showbackground": true,
            "ticks": "",
            "zerolinecolor": "white"
           },
           "yaxis": {
            "backgroundcolor": "#E5ECF6",
            "gridcolor": "white",
            "gridwidth": 2,
            "linecolor": "white",
            "showbackground": true,
            "ticks": "",
            "zerolinecolor": "white"
           },
           "zaxis": {
            "backgroundcolor": "#E5ECF6",
            "gridcolor": "white",
            "gridwidth": 2,
            "linecolor": "white",
            "showbackground": true,
            "ticks": "",
            "zerolinecolor": "white"
           }
          },
          "shapedefaults": {
           "line": {
            "color": "#2a3f5f"
           }
          },
          "ternary": {
           "aaxis": {
            "gridcolor": "white",
            "linecolor": "white",
            "ticks": ""
           },
           "baxis": {
            "gridcolor": "white",
            "linecolor": "white",
            "ticks": ""
           },
           "bgcolor": "#E5ECF6",
           "caxis": {
            "gridcolor": "white",
            "linecolor": "white",
            "ticks": ""
           }
          },
          "title": {
           "x": 0.05
          },
          "xaxis": {
           "automargin": true,
           "gridcolor": "white",
           "linecolor": "white",
           "ticks": "",
           "title": {
            "standoff": 15
           },
           "zerolinecolor": "white",
           "zerolinewidth": 2
          },
          "yaxis": {
           "automargin": true,
           "gridcolor": "white",
           "linecolor": "white",
           "ticks": "",
           "title": {
            "standoff": 15
           },
           "zerolinecolor": "white",
           "zerolinewidth": 2
          }
         }
        },
        "title": {
         "text": "Multiclass ROC Curve"
        },
        "width": 1000,
        "xaxis": {
         "title": {
          "text": "False Positive Rate"
         }
        },
        "yaxis": {
         "title": {
          "text": "True Positive Rate"
         }
        }
       }
      }
     },
     "metadata": {},
     "output_type": "display_data"
    }
   ],
   "source": [
    "import plotly.graph_objs as go\n",
    "from sklearn.metrics import roc_curve, auc\n",
    "from sklearn.preprocessing import label_binarize\n",
    "from sklearn.model_selection import train_test_split\n",
    "from sklearn.neighbors import KNeighborsClassifier\n",
    "import numpy as np\n",
    "\n",
    "# Assicurati che Z_train, Z_test, t_train, e t_test siano definiti e che i tuoi dati siano già preelaborati\n",
    "# Z_train, Z_test, t_train, t_test = ...\n",
    "\n",
    "# Previsione delle probabilità per il set di test\n",
    "t_score = clf_test.predict_proba(Z_test_norm)\n",
    "\n",
    "# Binarizza il vettore delle etichette in un formato \"one-vs-all\"\n",
    "t_test_binarize = label_binarize(t_test, classes=np.unique(t_train))\n",
    "\n",
    "# Calcola ROC curve e AUC per ciascuna classe\n",
    "fpr = dict()\n",
    "tpr = dict()\n",
    "roc_auc = dict()\n",
    "n_classes = t_score.shape[1]\n",
    "\n",
    "# Preparare i dati per il plot\n",
    "traces = []\n",
    "\n",
    "# Calcola la ROC curve per ogni classe\n",
    "for i in range(n_classes):\n",
    "    fpr[i], tpr[i], _ = roc_curve(t_test_binarize[:, i], t_score[:, i])\n",
    "    roc_auc[i] = auc(fpr[i], tpr[i])\n",
    "    traces.append(go.Scatter(x=fpr[i], y=tpr[i], mode='lines', \n",
    "                             name=f'Class {i} (AUC = {roc_auc[i]:.2f})'))\n",
    "\n",
    "# Aggiungi la linea diagonale che rappresenta il caso di \"indovinare casualmente\"\n",
    "traces.append(go.Scatter(x=[0, 1], y=[0, 1], mode='lines', name='Chance', \n",
    "                         line=dict(dash='dash')))\n",
    "\n",
    "# Crea il layout del plot\n",
    "layout = go.Layout(title='Multiclass ROC Curve',\n",
    "                   xaxis=dict(title='False Positive Rate'),\n",
    "                   yaxis=dict(title='True Positive Rate'),\n",
    "                   width=1000,\n",
    "                   height=800,\n",
    "                   showlegend=True,\n",
    "                   legend=dict(orientation=\"h\", yanchor=\"bottom\", y=1.02, xanchor=\"right\", x=1))\n",
    "\n",
    "fig = go.Figure(data=traces, layout=layout)\n",
    "fig.show()\n"
   ]
  },
  {
   "cell_type": "code",
   "execution_count": null,
   "metadata": {},
   "outputs": [],
   "source": [
    "from sklearn.naive_bayes import GaussianNB, CategoricalNB\n",
    "\n",
    "clf_gaussian = GaussianNB()\n",
    "clf_gaussian.fit(X_train, y_train)\n",
    "\n",
    "y_pred = clf.predict(X_test)\n",
    "y_pred\n"
   ]
  }
 ],
 "metadata": {
  "kernelspec": {
   "display_name": "base",
   "language": "python",
   "name": "python3"
  },
  "language_info": {
   "codemirror_mode": {
    "name": "ipython",
    "version": 3
   },
   "file_extension": ".py",
   "mimetype": "text/x-python",
   "name": "python",
   "nbconvert_exporter": "python",
   "pygments_lexer": "ipython3",
   "version": "3.9.18"
  }
 },
 "nbformat": 4,
 "nbformat_minor": 2
}
