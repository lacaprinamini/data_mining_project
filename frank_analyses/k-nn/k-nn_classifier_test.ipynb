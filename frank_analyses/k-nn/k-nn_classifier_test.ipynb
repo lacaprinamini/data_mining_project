{
 "cells": [
  {
   "cell_type": "code",
   "execution_count": 51,
   "metadata": {},
   "outputs": [],
   "source": [
    "import numpy as np\n",
    "import matplotlib.pyplot as plt\n",
    "import seaborn as sns\n",
    "import pandas as pd"
   ]
  },
  {
   "cell_type": "code",
   "execution_count": 52,
   "metadata": {},
   "outputs": [],
   "source": [
    "from sklearn.metrics import (\n",
    "    accuracy_score, \n",
    "    f1_score, \n",
    "    classification_report, \n",
    "    confusion_matrix, \n",
    "    roc_auc_score, \n",
    "    precision_score, \n",
    "    recall_score,\n",
    ")\n",
    "from scikitplot.metrics import plot_roc\n",
    "from scikitplot.metrics import plot_precision_recall\n",
    "from sklearn.neighbors import KNeighborsClassifier\n"
   ]
  },
  {
   "cell_type": "code",
   "execution_count": 53,
   "metadata": {},
   "outputs": [],
   "source": [
    "df = pd.read_csv(\"../../our_analyses/dataset_prepared.csv\")\n",
    "df_test= pd.read_csv(\"../../our_analyses/dataset_test_prepared.csv\")"
   ]
  },
  {
   "cell_type": "code",
   "execution_count": 54,
   "metadata": {},
   "outputs": [
    {
     "data": {
      "text/html": [
       "<div>\n",
       "<style scoped>\n",
       "    .dataframe tbody tr th:only-of-type {\n",
       "        vertical-align: middle;\n",
       "    }\n",
       "\n",
       "    .dataframe tbody tr th {\n",
       "        vertical-align: top;\n",
       "    }\n",
       "\n",
       "    .dataframe thead th {\n",
       "        text-align: right;\n",
       "    }\n",
       "</style>\n",
       "<table border=\"1\" class=\"dataframe\">\n",
       "  <thead>\n",
       "    <tr style=\"text-align: right;\">\n",
       "      <th></th>\n",
       "      <th>duration_ms</th>\n",
       "      <th>explicit</th>\n",
       "      <th>popularity</th>\n",
       "      <th>danceability</th>\n",
       "      <th>energy</th>\n",
       "      <th>key</th>\n",
       "      <th>loudness</th>\n",
       "      <th>mode</th>\n",
       "      <th>speechiness</th>\n",
       "      <th>acousticness</th>\n",
       "      <th>instrumentalness</th>\n",
       "      <th>liveness</th>\n",
       "      <th>valence</th>\n",
       "      <th>tempo</th>\n",
       "      <th>time_signature</th>\n",
       "      <th>n_beats</th>\n",
       "      <th>genre</th>\n",
       "      <th>genre_group</th>\n",
       "    </tr>\n",
       "  </thead>\n",
       "  <tbody>\n",
       "    <tr>\n",
       "      <th>3</th>\n",
       "      <td>238373</td>\n",
       "      <td>0</td>\n",
       "      <td>20</td>\n",
       "      <td>0.733</td>\n",
       "      <td>0.862</td>\n",
       "      <td>7</td>\n",
       "      <td>-5.813</td>\n",
       "      <td>1</td>\n",
       "      <td>0.0604</td>\n",
       "      <td>0.2870</td>\n",
       "      <td>0.000532</td>\n",
       "      <td>0.4660</td>\n",
       "      <td>0.745</td>\n",
       "      <td>107.981</td>\n",
       "      <td>4.0</td>\n",
       "      <td>427.0</td>\n",
       "      <td>afrobeat</td>\n",
       "      <td>3</td>\n",
       "    </tr>\n",
       "    <tr>\n",
       "      <th>7</th>\n",
       "      <td>347772</td>\n",
       "      <td>0</td>\n",
       "      <td>18</td>\n",
       "      <td>0.774</td>\n",
       "      <td>0.719</td>\n",
       "      <td>10</td>\n",
       "      <td>-8.976</td>\n",
       "      <td>0</td>\n",
       "      <td>0.0486</td>\n",
       "      <td>0.0181</td>\n",
       "      <td>0.128000</td>\n",
       "      <td>0.0781</td>\n",
       "      <td>0.890</td>\n",
       "      <td>132.025</td>\n",
       "      <td>4.0</td>\n",
       "      <td>763.0</td>\n",
       "      <td>afrobeat</td>\n",
       "      <td>3</td>\n",
       "    </tr>\n",
       "    <tr>\n",
       "      <th>8</th>\n",
       "      <td>219746</td>\n",
       "      <td>0</td>\n",
       "      <td>31</td>\n",
       "      <td>0.762</td>\n",
       "      <td>0.858</td>\n",
       "      <td>9</td>\n",
       "      <td>-4.589</td>\n",
       "      <td>0</td>\n",
       "      <td>0.0313</td>\n",
       "      <td>0.3210</td>\n",
       "      <td>0.062900</td>\n",
       "      <td>0.2760</td>\n",
       "      <td>0.836</td>\n",
       "      <td>126.005</td>\n",
       "      <td>4.0</td>\n",
       "      <td>458.0</td>\n",
       "      <td>afrobeat</td>\n",
       "      <td>3</td>\n",
       "    </tr>\n",
       "    <tr>\n",
       "      <th>17</th>\n",
       "      <td>257693</td>\n",
       "      <td>1</td>\n",
       "      <td>20</td>\n",
       "      <td>0.759</td>\n",
       "      <td>0.780</td>\n",
       "      <td>0</td>\n",
       "      <td>-8.007</td>\n",
       "      <td>1</td>\n",
       "      <td>0.0385</td>\n",
       "      <td>0.0024</td>\n",
       "      <td>0.050600</td>\n",
       "      <td>0.3210</td>\n",
       "      <td>0.510</td>\n",
       "      <td>125.050</td>\n",
       "      <td>4.0</td>\n",
       "      <td>530.0</td>\n",
       "      <td>afrobeat</td>\n",
       "      <td>3</td>\n",
       "    </tr>\n",
       "    <tr>\n",
       "      <th>26</th>\n",
       "      <td>175856</td>\n",
       "      <td>0</td>\n",
       "      <td>20</td>\n",
       "      <td>0.787</td>\n",
       "      <td>0.726</td>\n",
       "      <td>7</td>\n",
       "      <td>-5.637</td>\n",
       "      <td>1</td>\n",
       "      <td>0.1640</td>\n",
       "      <td>0.0719</td>\n",
       "      <td>0.003130</td>\n",
       "      <td>0.0870</td>\n",
       "      <td>0.407</td>\n",
       "      <td>107.024</td>\n",
       "      <td>4.0</td>\n",
       "      <td>303.0</td>\n",
       "      <td>afrobeat</td>\n",
       "      <td>3</td>\n",
       "    </tr>\n",
       "  </tbody>\n",
       "</table>\n",
       "</div>"
      ],
      "text/plain": [
       "    duration_ms  explicit  popularity  danceability  energy  key  loudness  \\\n",
       "3        238373         0          20         0.733   0.862    7    -5.813   \n",
       "7        347772         0          18         0.774   0.719   10    -8.976   \n",
       "8        219746         0          31         0.762   0.858    9    -4.589   \n",
       "17       257693         1          20         0.759   0.780    0    -8.007   \n",
       "26       175856         0          20         0.787   0.726    7    -5.637   \n",
       "\n",
       "    mode  speechiness  acousticness  instrumentalness  liveness  valence  \\\n",
       "3      1       0.0604        0.2870          0.000532    0.4660    0.745   \n",
       "7      0       0.0486        0.0181          0.128000    0.0781    0.890   \n",
       "8      0       0.0313        0.3210          0.062900    0.2760    0.836   \n",
       "17     1       0.0385        0.0024          0.050600    0.3210    0.510   \n",
       "26     1       0.1640        0.0719          0.003130    0.0870    0.407   \n",
       "\n",
       "      tempo  time_signature  n_beats     genre  genre_group  \n",
       "3   107.981             4.0    427.0  afrobeat            3  \n",
       "7   132.025             4.0    763.0  afrobeat            3  \n",
       "8   126.005             4.0    458.0  afrobeat            3  \n",
       "17  125.050             4.0    530.0  afrobeat            3  \n",
       "26  107.024             4.0    303.0  afrobeat            3  "
      ]
     },
     "execution_count": 54,
     "metadata": {},
     "output_type": "execute_result"
    }
   ],
   "source": [
    "def apply_pattern_rules(df):\n",
    "    \"\"\"\n",
    "    Apply the pattern rules to the DataFrame and filter out rows that do not conform to these rules.\n",
    "    \"\"\"\n",
    "    # World/Commercial Pop\n",
    "    df_wc_pop = df[(df['genre_group'] == 3) & \n",
    "                   (df['danceability'] > 0.695) & (df['danceability'] <= 0.98) & \n",
    "                   (df['energy'] > 0.709) & (df['energy'] <= 0.884)]\n",
    "\n",
    "    # Electronic/Dance\n",
    "    df_electronic_dance_1 = df[(df['genre_group'] == 0) & \n",
    "                               (df['valence'] > -0.001) & (df['valence'] <= 0.196) & \n",
    "                               (df['popularity'] > -0.001) & (df['popularity'] <= 14.0)]\n",
    "    df_electronic_dance_2 = df[(df['genre_group'] == 0) & \n",
    "                               (df['loudness'] > -49.532) & (df['loudness'] <= -10.636) & \n",
    "                               (df['popularity'] > -0.001) & (df['popularity'] <= 14.0)]\n",
    "\n",
    "    # Other\n",
    "    df_other_1 = df[(df['genre_group'] == 4) & \n",
    "                    (df['energy'] > -0.001) & (df['energy'] <= 0.48) & \n",
    "                    (df['acousticness'] > 0.573) & (df['acousticness'] <= 0.996) & \n",
    "                    (df['loudness'] > -49.532) & (df['loudness'] <= -10.636)]\n",
    "    df_other_2 = df[(df['genre_group'] == 4) & \n",
    "                    (df['acousticness'] > 0.573) & (df['acousticness'] <= 0.996) & \n",
    "                    (df['energy'] > -0.001) & (df['energy'] <= 0.48)]\n",
    "\n",
    "    # Country/Folk/Pop\n",
    "    df_country_folk_pop_1 = df[(df['genre_group'] == 2) & \n",
    "                               (df['energy'] > 0.884) & (df['energy'] <= 1.0) & \n",
    "                               (df['loudness'] > -5.101) & (df['loudness'] <= 3.156) & \n",
    "                               (df['instrumentalness'] > -0.001) & (df['instrumentalness'] <= 0.00313)]\n",
    "    df_country_folk_pop_2 = df[(df['genre_group'] == 2) & \n",
    "                               (df['loudness'] > -5.101) & (df['loudness'] <= 3.156) & \n",
    "                               (df['energy'] > 0.884) & (df['energy'] <= 1.0)]\n",
    "\n",
    "    # Metal/Rock\n",
    "    df_metal_rock_1 = df[(df['genre_group'] == 1) & \n",
    "                         (df['popularity'] > 14.0) & (df['popularity'] <= 24.0) & \n",
    "                         (df['acousticness'] > -0.001) & (df['acousticness'] <= 0.00974)]\n",
    "    df_metal_rock_2 = df[(df['genre_group'] == 1) & \n",
    "                         (df['energy'] > 0.884) & (df['energy'] <= 1.0) & \n",
    "                         (df['acousticness'] > -0.001) & (df['acousticness'] <= 0.00974)]\n",
    "\n",
    "    # Combine all filtered DataFrames\n",
    "    df_filtered = pd.concat([df_wc_pop, df_electronic_dance_1, df_electronic_dance_2, \n",
    "                             df_other_1, df_other_2, df_country_folk_pop_1, \n",
    "                             df_country_folk_pop_2, df_metal_rock_1, df_metal_rock_2])\n",
    "\n",
    "    return df_filtered\n",
    "from sklearn.preprocessing import LabelEncoder, StandardScaler\n",
    "\n",
    "\n",
    "df = df.drop(['name', 'artists', 'album_name'], axis=1)\n",
    "df_test = df_test.drop(['name', 'artists', 'album_name'], axis=1)\n",
    "\n",
    "genre_groups = {\n",
    "    'idm': 0, 'iranian': 0, 'study': 0,  # Electronic/Dance\n",
    "    'black-metal': 1, 'breakbeat': 1, 'techno': 1,  # Metal/Rock\n",
    "    'brazil': 2, 'forro': 2, 'happy': 2, 'spanish': 2, 'j-idol': 2,  # Country/Folk/Pop\n",
    "    'afrobeat': 3, 'chicago-house': 3, 'industrial': 3, 'j-dance': 3,  # World/Commercial Pop\n",
    "    'bluegrass': 4, 'disney': 4, 'indian': 4, 'mandopop': 4, 'sleep': 4  # Other\n",
    "}\n",
    "\n",
    "df['genre_group'] = df['genre'].map(genre_groups).astype(int)\n",
    "df_test['genre_group'] = df_test['genre'].map(genre_groups).astype(int)\n",
    "\n",
    "le = LabelEncoder()\n",
    "df['explicit'] = le.fit_transform(df['explicit'])\n",
    "df_test['explicit'] = le.transform(df_test['explicit'])\n",
    "\n",
    "# Apply the pattern rules to the datasets\n",
    "df= apply_pattern_rules(df)\n",
    "df_test = apply_pattern_rules(df_test)\n",
    "\n",
    "df.head()"
   ]
  },
  {
   "cell_type": "code",
   "execution_count": 55,
   "metadata": {},
   "outputs": [
    {
     "data": {
      "text/html": [
       "<div>\n",
       "<style scoped>\n",
       "    .dataframe tbody tr th:only-of-type {\n",
       "        vertical-align: middle;\n",
       "    }\n",
       "\n",
       "    .dataframe tbody tr th {\n",
       "        vertical-align: top;\n",
       "    }\n",
       "\n",
       "    .dataframe thead th {\n",
       "        text-align: right;\n",
       "    }\n",
       "</style>\n",
       "<table border=\"1\" class=\"dataframe\">\n",
       "  <thead>\n",
       "    <tr style=\"text-align: right;\">\n",
       "      <th></th>\n",
       "      <th>duration_ms</th>\n",
       "      <th>explicit</th>\n",
       "      <th>popularity</th>\n",
       "      <th>danceability</th>\n",
       "      <th>energy</th>\n",
       "      <th>key</th>\n",
       "      <th>loudness</th>\n",
       "      <th>mode</th>\n",
       "      <th>speechiness</th>\n",
       "      <th>acousticness</th>\n",
       "      <th>instrumentalness</th>\n",
       "      <th>liveness</th>\n",
       "      <th>valence</th>\n",
       "      <th>tempo</th>\n",
       "      <th>time_signature</th>\n",
       "      <th>n_beats</th>\n",
       "      <th>genre</th>\n",
       "      <th>genre_group</th>\n",
       "    </tr>\n",
       "  </thead>\n",
       "  <tbody>\n",
       "    <tr>\n",
       "      <th>3</th>\n",
       "      <td>238373</td>\n",
       "      <td>0</td>\n",
       "      <td>20</td>\n",
       "      <td>0.733</td>\n",
       "      <td>0.862</td>\n",
       "      <td>7</td>\n",
       "      <td>-5.813</td>\n",
       "      <td>1</td>\n",
       "      <td>0.0604</td>\n",
       "      <td>0.2870</td>\n",
       "      <td>0.000532</td>\n",
       "      <td>0.4660</td>\n",
       "      <td>0.745</td>\n",
       "      <td>107.981</td>\n",
       "      <td>4.0</td>\n",
       "      <td>427.0</td>\n",
       "      <td>afrobeat</td>\n",
       "      <td>3</td>\n",
       "    </tr>\n",
       "    <tr>\n",
       "      <th>7</th>\n",
       "      <td>347772</td>\n",
       "      <td>0</td>\n",
       "      <td>18</td>\n",
       "      <td>0.774</td>\n",
       "      <td>0.719</td>\n",
       "      <td>10</td>\n",
       "      <td>-8.976</td>\n",
       "      <td>0</td>\n",
       "      <td>0.0486</td>\n",
       "      <td>0.0181</td>\n",
       "      <td>0.128000</td>\n",
       "      <td>0.0781</td>\n",
       "      <td>0.890</td>\n",
       "      <td>132.025</td>\n",
       "      <td>4.0</td>\n",
       "      <td>763.0</td>\n",
       "      <td>afrobeat</td>\n",
       "      <td>3</td>\n",
       "    </tr>\n",
       "    <tr>\n",
       "      <th>8</th>\n",
       "      <td>219746</td>\n",
       "      <td>0</td>\n",
       "      <td>31</td>\n",
       "      <td>0.762</td>\n",
       "      <td>0.858</td>\n",
       "      <td>9</td>\n",
       "      <td>-4.589</td>\n",
       "      <td>0</td>\n",
       "      <td>0.0313</td>\n",
       "      <td>0.3210</td>\n",
       "      <td>0.062900</td>\n",
       "      <td>0.2760</td>\n",
       "      <td>0.836</td>\n",
       "      <td>126.005</td>\n",
       "      <td>4.0</td>\n",
       "      <td>458.0</td>\n",
       "      <td>afrobeat</td>\n",
       "      <td>3</td>\n",
       "    </tr>\n",
       "    <tr>\n",
       "      <th>17</th>\n",
       "      <td>257693</td>\n",
       "      <td>1</td>\n",
       "      <td>20</td>\n",
       "      <td>0.759</td>\n",
       "      <td>0.780</td>\n",
       "      <td>0</td>\n",
       "      <td>-8.007</td>\n",
       "      <td>1</td>\n",
       "      <td>0.0385</td>\n",
       "      <td>0.0024</td>\n",
       "      <td>0.050600</td>\n",
       "      <td>0.3210</td>\n",
       "      <td>0.510</td>\n",
       "      <td>125.050</td>\n",
       "      <td>4.0</td>\n",
       "      <td>530.0</td>\n",
       "      <td>afrobeat</td>\n",
       "      <td>3</td>\n",
       "    </tr>\n",
       "    <tr>\n",
       "      <th>26</th>\n",
       "      <td>175856</td>\n",
       "      <td>0</td>\n",
       "      <td>20</td>\n",
       "      <td>0.787</td>\n",
       "      <td>0.726</td>\n",
       "      <td>7</td>\n",
       "      <td>-5.637</td>\n",
       "      <td>1</td>\n",
       "      <td>0.1640</td>\n",
       "      <td>0.0719</td>\n",
       "      <td>0.003130</td>\n",
       "      <td>0.0870</td>\n",
       "      <td>0.407</td>\n",
       "      <td>107.024</td>\n",
       "      <td>4.0</td>\n",
       "      <td>303.0</td>\n",
       "      <td>afrobeat</td>\n",
       "      <td>3</td>\n",
       "    </tr>\n",
       "  </tbody>\n",
       "</table>\n",
       "</div>"
      ],
      "text/plain": [
       "    duration_ms  explicit  popularity  danceability  energy  key  loudness  \\\n",
       "3        238373         0          20         0.733   0.862    7    -5.813   \n",
       "7        347772         0          18         0.774   0.719   10    -8.976   \n",
       "8        219746         0          31         0.762   0.858    9    -4.589   \n",
       "17       257693         1          20         0.759   0.780    0    -8.007   \n",
       "26       175856         0          20         0.787   0.726    7    -5.637   \n",
       "\n",
       "    mode  speechiness  acousticness  instrumentalness  liveness  valence  \\\n",
       "3      1       0.0604        0.2870          0.000532    0.4660    0.745   \n",
       "7      0       0.0486        0.0181          0.128000    0.0781    0.890   \n",
       "8      0       0.0313        0.3210          0.062900    0.2760    0.836   \n",
       "17     1       0.0385        0.0024          0.050600    0.3210    0.510   \n",
       "26     1       0.1640        0.0719          0.003130    0.0870    0.407   \n",
       "\n",
       "      tempo  time_signature  n_beats     genre  genre_group  \n",
       "3   107.981             4.0    427.0  afrobeat            3  \n",
       "7   132.025             4.0    763.0  afrobeat            3  \n",
       "8   126.005             4.0    458.0  afrobeat            3  \n",
       "17  125.050             4.0    530.0  afrobeat            3  \n",
       "26  107.024             4.0    303.0  afrobeat            3  "
      ]
     },
     "execution_count": 55,
     "metadata": {},
     "output_type": "execute_result"
    }
   ],
   "source": [
    "df.head()"
   ]
  },
  {
   "cell_type": "code",
   "execution_count": 56,
   "metadata": {},
   "outputs": [],
   "source": [
    "# Separazione delle features e dei target\n",
    "X_train = df.drop(['genre_group', 'genre'], axis=1)\n",
    "y_train = df['genre_group'].values\n",
    "X_test = df_test.drop(['genre_group', 'genre'], axis=1)\n",
    "y_test = df_test['genre_group'].values\n",
    "\n",
    "y = np.array(df['genre_group'])\n",
    "\n",
    "# Rimozione delle colonne 'genre_group' e 'genre' per ottenere le feature\n",
    "X = df.drop(['genre_group', 'genre'], axis=1)\n",
    "\n",
    "y_test = np.array(df['genre_group'])\n",
    "\n",
    "X_test = df.drop(['genre_group', 'genre'], axis=1)\n"
   ]
  },
  {
   "cell_type": "code",
   "execution_count": 57,
   "metadata": {},
   "outputs": [],
   "source": [
    "scaler = StandardScaler()\n",
    "X_train_norm = scaler.fit_transform(X_train)\n",
    "X_test_norm = scaler.transform(X_test)"
   ]
  },
  {
   "cell_type": "code",
   "execution_count": 58,
   "metadata": {},
   "outputs": [
    {
     "name": "stdout",
     "output_type": "stream",
     "text": [
      "Accuracy sul set di addestramento: 0.9081101190476191\n",
      "Accuracy sul set di test: 0.9081101190476191\n",
      "              precision    recall  f1-score   support\n",
      "\n",
      "           0       0.91      0.88      0.89      1580\n",
      "           1       0.85      0.87      0.86      1486\n",
      "           2       0.87      0.94      0.91      1822\n",
      "           3       0.90      0.74      0.81       505\n",
      "           4       0.97      0.95      0.96      2671\n",
      "\n",
      "    accuracy                           0.91      8064\n",
      "   macro avg       0.90      0.88      0.89      8064\n",
      "weighted avg       0.91      0.91      0.91      8064\n",
      "\n"
     ]
    }
   ],
   "source": [
    "from sklearn.neighbors import KNeighborsClassifier\n",
    "\n",
    "# Addestramento del classificatore KNN\n",
    "clf = KNeighborsClassifier(n_neighbors=8, metric=\"cityblock\", weights=\"uniform\")\n",
    "clf.fit(X_train_norm, y_train)\n",
    "\n",
    "# Valutazione del classificatore sul set di addestramento\n",
    "y_train_pred = clf.predict(X_train_norm)\n",
    "print(\"Accuracy sul set di addestramento:\", accuracy_score(y_train, y_train_pred))\n",
    "\n",
    "# Valutazione del classificatore sul set di test\n",
    "y_test_pred = clf.predict(X_test_norm)\n",
    "print(\"Accuracy sul set di test:\", accuracy_score(y_test, y_test_pred))\n",
    "\n",
    "print(classification_report(y_test, y_test_pred))\n",
    "\n"
   ]
  },
  {
   "cell_type": "code",
   "execution_count": 59,
   "metadata": {},
   "outputs": [
    {
     "data": {
      "application/vnd.plotly.v1+json": {
       "config": {
        "plotlyServerURL": "https://plot.ly"
       },
       "data": [
        {
         "mode": "lines",
         "name": "Class 0 (AP=0.96)",
         "type": "scatter",
         "x": [
          1,
          1,
          0.9759493670886076,
          0.9151898734177215,
          0.8708860759493671,
          0.7645569620253164,
          0.7227848101265822,
          0.5392405063291139,
          0.4651898734177215,
          0
         ],
         "y": [
          0.19593253968253968,
          0.6661045531197302,
          0.7780020181634713,
          0.8898461538461538,
          0.9106551952349438,
          0.9556962025316456,
          0.962089300758214,
          1,
          1,
          1
         ]
        },
        {
         "mode": "lines",
         "name": "Class 1 (AP=0.93)",
         "type": "scatter",
         "x": [
          1,
          1,
          0.9764468371467026,
          0.9286675639300135,
          0.8660834454912517,
          0.7759084791386271,
          0.6884253028263796,
          0.5524899057873486,
          0.3936742934051144,
          0
         ],
         "y": [
          0.18427579365079366,
          0.5753000387146728,
          0.6726935558646268,
          0.7783417935702199,
          0.8455978975032852,
          0.9057344854673999,
          0.9481000926784059,
          0.9832335329341317,
          1,
          1
         ]
        },
        {
         "mode": "lines",
         "name": "Class 2 (AP=0.97)",
         "type": "scatter",
         "x": [
          1,
          1,
          0.9945115257958288,
          0.9763995609220637,
          0.9637760702524698,
          0.9237102085620198,
          0.8830954994511526,
          0.7574094401756312,
          0.6218441273326015,
          0
         ],
         "y": [
          0.22594246031746032,
          0.6625454545454545,
          0.718762395874653,
          0.7938420348058902,
          0.8377862595419847,
          0.8985584623598505,
          0.9409356725146198,
          0.9773371104815864,
          1,
          1
         ]
        },
        {
         "mode": "lines",
         "name": "Class 3 (AP=0.91)",
         "type": "scatter",
         "x": [
          1,
          1,
          0.9742574257425742,
          0.9188118811881189,
          0.8237623762376237,
          0.6831683168316832,
          0.5188118811881188,
          0.299009900990099,
          0.1801980198019802,
          0
         ],
         "y": [
          0.06262400793650794,
          0.49655850540806296,
          0.6786206896551724,
          0.7918088737201365,
          0.8648648648648649,
          0.9274193548387096,
          0.9632352941176471,
          0.9869281045751634,
          1,
          1
         ]
        },
        {
         "mode": "lines",
         "name": "Class 4 (AP=0.99)",
         "type": "scatter",
         "x": [
          1,
          1,
          1,
          0.9827779857731187,
          0.9801572444777237,
          0.9513290902283789,
          0.9449644327967054,
          0.8727068513665294,
          0.8375140396855111,
          0
         ],
         "y": [
          0.33122519841269843,
          0.8404657016991819,
          0.8530820824017885,
          0.923320436158987,
          0.9306789904017063,
          0.9698473282442748,
          0.9775367931835787,
          0.9961538461538462,
          1,
          1
         ]
        }
       ],
       "layout": {
        "height": 800,
        "legend": {
         "title": {
          "text": "Classes"
         }
        },
        "template": {
         "data": {
          "bar": [
           {
            "error_x": {
             "color": "#2a3f5f"
            },
            "error_y": {
             "color": "#2a3f5f"
            },
            "marker": {
             "line": {
              "color": "#E5ECF6",
              "width": 0.5
             },
             "pattern": {
              "fillmode": "overlay",
              "size": 10,
              "solidity": 0.2
             }
            },
            "type": "bar"
           }
          ],
          "barpolar": [
           {
            "marker": {
             "line": {
              "color": "#E5ECF6",
              "width": 0.5
             },
             "pattern": {
              "fillmode": "overlay",
              "size": 10,
              "solidity": 0.2
             }
            },
            "type": "barpolar"
           }
          ],
          "carpet": [
           {
            "aaxis": {
             "endlinecolor": "#2a3f5f",
             "gridcolor": "white",
             "linecolor": "white",
             "minorgridcolor": "white",
             "startlinecolor": "#2a3f5f"
            },
            "baxis": {
             "endlinecolor": "#2a3f5f",
             "gridcolor": "white",
             "linecolor": "white",
             "minorgridcolor": "white",
             "startlinecolor": "#2a3f5f"
            },
            "type": "carpet"
           }
          ],
          "choropleth": [
           {
            "colorbar": {
             "outlinewidth": 0,
             "ticks": ""
            },
            "type": "choropleth"
           }
          ],
          "contour": [
           {
            "colorbar": {
             "outlinewidth": 0,
             "ticks": ""
            },
            "colorscale": [
             [
              0,
              "#0d0887"
             ],
             [
              0.1111111111111111,
              "#46039f"
             ],
             [
              0.2222222222222222,
              "#7201a8"
             ],
             [
              0.3333333333333333,
              "#9c179e"
             ],
             [
              0.4444444444444444,
              "#bd3786"
             ],
             [
              0.5555555555555556,
              "#d8576b"
             ],
             [
              0.6666666666666666,
              "#ed7953"
             ],
             [
              0.7777777777777778,
              "#fb9f3a"
             ],
             [
              0.8888888888888888,
              "#fdca26"
             ],
             [
              1,
              "#f0f921"
             ]
            ],
            "type": "contour"
           }
          ],
          "contourcarpet": [
           {
            "colorbar": {
             "outlinewidth": 0,
             "ticks": ""
            },
            "type": "contourcarpet"
           }
          ],
          "heatmap": [
           {
            "colorbar": {
             "outlinewidth": 0,
             "ticks": ""
            },
            "colorscale": [
             [
              0,
              "#0d0887"
             ],
             [
              0.1111111111111111,
              "#46039f"
             ],
             [
              0.2222222222222222,
              "#7201a8"
             ],
             [
              0.3333333333333333,
              "#9c179e"
             ],
             [
              0.4444444444444444,
              "#bd3786"
             ],
             [
              0.5555555555555556,
              "#d8576b"
             ],
             [
              0.6666666666666666,
              "#ed7953"
             ],
             [
              0.7777777777777778,
              "#fb9f3a"
             ],
             [
              0.8888888888888888,
              "#fdca26"
             ],
             [
              1,
              "#f0f921"
             ]
            ],
            "type": "heatmap"
           }
          ],
          "heatmapgl": [
           {
            "colorbar": {
             "outlinewidth": 0,
             "ticks": ""
            },
            "colorscale": [
             [
              0,
              "#0d0887"
             ],
             [
              0.1111111111111111,
              "#46039f"
             ],
             [
              0.2222222222222222,
              "#7201a8"
             ],
             [
              0.3333333333333333,
              "#9c179e"
             ],
             [
              0.4444444444444444,
              "#bd3786"
             ],
             [
              0.5555555555555556,
              "#d8576b"
             ],
             [
              0.6666666666666666,
              "#ed7953"
             ],
             [
              0.7777777777777778,
              "#fb9f3a"
             ],
             [
              0.8888888888888888,
              "#fdca26"
             ],
             [
              1,
              "#f0f921"
             ]
            ],
            "type": "heatmapgl"
           }
          ],
          "histogram": [
           {
            "marker": {
             "pattern": {
              "fillmode": "overlay",
              "size": 10,
              "solidity": 0.2
             }
            },
            "type": "histogram"
           }
          ],
          "histogram2d": [
           {
            "colorbar": {
             "outlinewidth": 0,
             "ticks": ""
            },
            "colorscale": [
             [
              0,
              "#0d0887"
             ],
             [
              0.1111111111111111,
              "#46039f"
             ],
             [
              0.2222222222222222,
              "#7201a8"
             ],
             [
              0.3333333333333333,
              "#9c179e"
             ],
             [
              0.4444444444444444,
              "#bd3786"
             ],
             [
              0.5555555555555556,
              "#d8576b"
             ],
             [
              0.6666666666666666,
              "#ed7953"
             ],
             [
              0.7777777777777778,
              "#fb9f3a"
             ],
             [
              0.8888888888888888,
              "#fdca26"
             ],
             [
              1,
              "#f0f921"
             ]
            ],
            "type": "histogram2d"
           }
          ],
          "histogram2dcontour": [
           {
            "colorbar": {
             "outlinewidth": 0,
             "ticks": ""
            },
            "colorscale": [
             [
              0,
              "#0d0887"
             ],
             [
              0.1111111111111111,
              "#46039f"
             ],
             [
              0.2222222222222222,
              "#7201a8"
             ],
             [
              0.3333333333333333,
              "#9c179e"
             ],
             [
              0.4444444444444444,
              "#bd3786"
             ],
             [
              0.5555555555555556,
              "#d8576b"
             ],
             [
              0.6666666666666666,
              "#ed7953"
             ],
             [
              0.7777777777777778,
              "#fb9f3a"
             ],
             [
              0.8888888888888888,
              "#fdca26"
             ],
             [
              1,
              "#f0f921"
             ]
            ],
            "type": "histogram2dcontour"
           }
          ],
          "mesh3d": [
           {
            "colorbar": {
             "outlinewidth": 0,
             "ticks": ""
            },
            "type": "mesh3d"
           }
          ],
          "parcoords": [
           {
            "line": {
             "colorbar": {
              "outlinewidth": 0,
              "ticks": ""
             }
            },
            "type": "parcoords"
           }
          ],
          "pie": [
           {
            "automargin": true,
            "type": "pie"
           }
          ],
          "scatter": [
           {
            "fillpattern": {
             "fillmode": "overlay",
             "size": 10,
             "solidity": 0.2
            },
            "type": "scatter"
           }
          ],
          "scatter3d": [
           {
            "line": {
             "colorbar": {
              "outlinewidth": 0,
              "ticks": ""
             }
            },
            "marker": {
             "colorbar": {
              "outlinewidth": 0,
              "ticks": ""
             }
            },
            "type": "scatter3d"
           }
          ],
          "scattercarpet": [
           {
            "marker": {
             "colorbar": {
              "outlinewidth": 0,
              "ticks": ""
             }
            },
            "type": "scattercarpet"
           }
          ],
          "scattergeo": [
           {
            "marker": {
             "colorbar": {
              "outlinewidth": 0,
              "ticks": ""
             }
            },
            "type": "scattergeo"
           }
          ],
          "scattergl": [
           {
            "marker": {
             "colorbar": {
              "outlinewidth": 0,
              "ticks": ""
             }
            },
            "type": "scattergl"
           }
          ],
          "scattermapbox": [
           {
            "marker": {
             "colorbar": {
              "outlinewidth": 0,
              "ticks": ""
             }
            },
            "type": "scattermapbox"
           }
          ],
          "scatterpolar": [
           {
            "marker": {
             "colorbar": {
              "outlinewidth": 0,
              "ticks": ""
             }
            },
            "type": "scatterpolar"
           }
          ],
          "scatterpolargl": [
           {
            "marker": {
             "colorbar": {
              "outlinewidth": 0,
              "ticks": ""
             }
            },
            "type": "scatterpolargl"
           }
          ],
          "scatterternary": [
           {
            "marker": {
             "colorbar": {
              "outlinewidth": 0,
              "ticks": ""
             }
            },
            "type": "scatterternary"
           }
          ],
          "surface": [
           {
            "colorbar": {
             "outlinewidth": 0,
             "ticks": ""
            },
            "colorscale": [
             [
              0,
              "#0d0887"
             ],
             [
              0.1111111111111111,
              "#46039f"
             ],
             [
              0.2222222222222222,
              "#7201a8"
             ],
             [
              0.3333333333333333,
              "#9c179e"
             ],
             [
              0.4444444444444444,
              "#bd3786"
             ],
             [
              0.5555555555555556,
              "#d8576b"
             ],
             [
              0.6666666666666666,
              "#ed7953"
             ],
             [
              0.7777777777777778,
              "#fb9f3a"
             ],
             [
              0.8888888888888888,
              "#fdca26"
             ],
             [
              1,
              "#f0f921"
             ]
            ],
            "type": "surface"
           }
          ],
          "table": [
           {
            "cells": {
             "fill": {
              "color": "#EBF0F8"
             },
             "line": {
              "color": "white"
             }
            },
            "header": {
             "fill": {
              "color": "#C8D4E3"
             },
             "line": {
              "color": "white"
             }
            },
            "type": "table"
           }
          ]
         },
         "layout": {
          "annotationdefaults": {
           "arrowcolor": "#2a3f5f",
           "arrowhead": 0,
           "arrowwidth": 1
          },
          "autotypenumbers": "strict",
          "coloraxis": {
           "colorbar": {
            "outlinewidth": 0,
            "ticks": ""
           }
          },
          "colorscale": {
           "diverging": [
            [
             0,
             "#8e0152"
            ],
            [
             0.1,
             "#c51b7d"
            ],
            [
             0.2,
             "#de77ae"
            ],
            [
             0.3,
             "#f1b6da"
            ],
            [
             0.4,
             "#fde0ef"
            ],
            [
             0.5,
             "#f7f7f7"
            ],
            [
             0.6,
             "#e6f5d0"
            ],
            [
             0.7,
             "#b8e186"
            ],
            [
             0.8,
             "#7fbc41"
            ],
            [
             0.9,
             "#4d9221"
            ],
            [
             1,
             "#276419"
            ]
           ],
           "sequential": [
            [
             0,
             "#0d0887"
            ],
            [
             0.1111111111111111,
             "#46039f"
            ],
            [
             0.2222222222222222,
             "#7201a8"
            ],
            [
             0.3333333333333333,
             "#9c179e"
            ],
            [
             0.4444444444444444,
             "#bd3786"
            ],
            [
             0.5555555555555556,
             "#d8576b"
            ],
            [
             0.6666666666666666,
             "#ed7953"
            ],
            [
             0.7777777777777778,
             "#fb9f3a"
            ],
            [
             0.8888888888888888,
             "#fdca26"
            ],
            [
             1,
             "#f0f921"
            ]
           ],
           "sequentialminus": [
            [
             0,
             "#0d0887"
            ],
            [
             0.1111111111111111,
             "#46039f"
            ],
            [
             0.2222222222222222,
             "#7201a8"
            ],
            [
             0.3333333333333333,
             "#9c179e"
            ],
            [
             0.4444444444444444,
             "#bd3786"
            ],
            [
             0.5555555555555556,
             "#d8576b"
            ],
            [
             0.6666666666666666,
             "#ed7953"
            ],
            [
             0.7777777777777778,
             "#fb9f3a"
            ],
            [
             0.8888888888888888,
             "#fdca26"
            ],
            [
             1,
             "#f0f921"
            ]
           ]
          },
          "colorway": [
           "#636efa",
           "#EF553B",
           "#00cc96",
           "#ab63fa",
           "#FFA15A",
           "#19d3f3",
           "#FF6692",
           "#B6E880",
           "#FF97FF",
           "#FECB52"
          ],
          "font": {
           "color": "#2a3f5f"
          },
          "geo": {
           "bgcolor": "white",
           "lakecolor": "white",
           "landcolor": "#E5ECF6",
           "showlakes": true,
           "showland": true,
           "subunitcolor": "white"
          },
          "hoverlabel": {
           "align": "left"
          },
          "hovermode": "closest",
          "mapbox": {
           "style": "light"
          },
          "paper_bgcolor": "white",
          "plot_bgcolor": "#E5ECF6",
          "polar": {
           "angularaxis": {
            "gridcolor": "white",
            "linecolor": "white",
            "ticks": ""
           },
           "bgcolor": "#E5ECF6",
           "radialaxis": {
            "gridcolor": "white",
            "linecolor": "white",
            "ticks": ""
           }
          },
          "scene": {
           "xaxis": {
            "backgroundcolor": "#E5ECF6",
            "gridcolor": "white",
            "gridwidth": 2,
            "linecolor": "white",
            "showbackground": true,
            "ticks": "",
            "zerolinecolor": "white"
           },
           "yaxis": {
            "backgroundcolor": "#E5ECF6",
            "gridcolor": "white",
            "gridwidth": 2,
            "linecolor": "white",
            "showbackground": true,
            "ticks": "",
            "zerolinecolor": "white"
           },
           "zaxis": {
            "backgroundcolor": "#E5ECF6",
            "gridcolor": "white",
            "gridwidth": 2,
            "linecolor": "white",
            "showbackground": true,
            "ticks": "",
            "zerolinecolor": "white"
           }
          },
          "shapedefaults": {
           "line": {
            "color": "#2a3f5f"
           }
          },
          "ternary": {
           "aaxis": {
            "gridcolor": "white",
            "linecolor": "white",
            "ticks": ""
           },
           "baxis": {
            "gridcolor": "white",
            "linecolor": "white",
            "ticks": ""
           },
           "bgcolor": "#E5ECF6",
           "caxis": {
            "gridcolor": "white",
            "linecolor": "white",
            "ticks": ""
           }
          },
          "title": {
           "x": 0.05
          },
          "xaxis": {
           "automargin": true,
           "gridcolor": "white",
           "linecolor": "white",
           "ticks": "",
           "title": {
            "standoff": 15
           },
           "zerolinecolor": "white",
           "zerolinewidth": 2
          },
          "yaxis": {
           "automargin": true,
           "gridcolor": "white",
           "linecolor": "white",
           "ticks": "",
           "title": {
            "standoff": 15
           },
           "zerolinecolor": "white",
           "zerolinewidth": 2
          }
         }
        },
        "title": {
         "text": "Precision-Recall curve"
        },
        "width": 1000,
        "xaxis": {
         "title": {
          "text": "Recall"
         }
        },
        "yaxis": {
         "title": {
          "text": "Precision"
         }
        }
       }
      }
     },
     "metadata": {},
     "output_type": "display_data"
    }
   ],
   "source": [
    "import plotly.graph_objects as go\n",
    "from sklearn.preprocessing import label_binarize\n",
    "from sklearn.metrics import precision_recall_curve, average_precision_score\n",
    "\n",
    "# Binarizza le etichette in un formato one-vs-rest e calcola i punteggi di probabilità per le classi\n",
    "Y = label_binarize(y_test, classes=np.unique(y_test))\n",
    "y_scores = clf.predict_proba(X_test_norm)\n",
    "\n",
    "# Inizializza dizionari per precision e recall\n",
    "precision = dict()\n",
    "recall = dict()\n",
    "average_precision = dict()\n",
    "\n",
    "# Calcola precision e recall per ogni classe\n",
    "for i in range(len(np.unique(y_test))):\n",
    "    precision[i], recall[i], _ = precision_recall_curve(Y[:, i], y_scores[:, i])\n",
    "    average_precision[i] = average_precision_score(Y[:, i], y_scores[:, i])\n",
    "\n",
    "# Crea un grafico Plotly\n",
    "fig = go.Figure()\n",
    "\n",
    "# Aggiunge una linea per ogni classe\n",
    "for i, genre in enumerate(np.unique(y_test)):\n",
    "    fig.add_trace(go.Scatter(x=recall[i], y=precision[i], mode='lines', name=f'Class {i} (AP={average_precision[i]:0.2f})'))\n",
    "\n",
    "# Aggiorna il layout\n",
    "fig.update_layout(\n",
    "    title=\"Precision-Recall curve\",\n",
    "    xaxis_title=\"Recall\",\n",
    "     width=1000,  # Larghezza del plot\n",
    "    height=800,  \n",
    "    yaxis_title=\"Precision\",\n",
    "    legend_title=\"Classes\"\n",
    ")\n",
    "\n",
    "# Mostra il grafico\n",
    "fig.show()\n"
   ]
  },
  {
   "cell_type": "code",
   "execution_count": 60,
   "metadata": {},
   "outputs": [
    {
     "data": {
      "application/vnd.plotly.v1+json": {
       "config": {
        "plotlyServerURL": "https://plot.ly"
       },
       "data": [
        {
         "colorscale": [
          [
           0,
           "rgb(247,252,245)"
          ],
          [
           0.125,
           "rgb(229,245,224)"
          ],
          [
           0.25,
           "rgb(199,233,192)"
          ],
          [
           0.375,
           "rgb(161,217,155)"
          ],
          [
           0.5,
           "rgb(116,196,118)"
          ],
          [
           0.625,
           "rgb(65,171,93)"
          ],
          [
           0.75,
           "rgb(35,139,69)"
          ],
          [
           0.875,
           "rgb(0,109,44)"
          ],
          [
           1,
           "rgb(0,68,27)"
          ]
         ],
         "reversescale": false,
         "showscale": false,
         "type": "heatmap",
         "x": [
          "Dance/Electronic",
          "Ambient/Relaxing",
          "Global/Traditional",
          "Metal/Industrial",
          "Pop/World"
         ],
         "y": [
          "Dance/Electronic",
          "Ambient/Relaxing",
          "Global/Traditional",
          "Metal/Industrial",
          "Pop/World"
         ],
         "z": [
          [
           1392,
           77,
           16,
           12,
           83
          ],
          [
           12,
           1294,
           155,
           25,
           0
          ],
          [
           2,
           99,
           1717,
           4,
           0
          ],
          [
           4,
           43,
           84,
           374,
           0
          ],
          [
           122,
           1,
           0,
           2,
           2546
          ]
         ]
        }
       ],
       "layout": {
        "annotations": [
         {
          "font": {
           "color": "#FFFFFF"
          },
          "showarrow": false,
          "text": "1392",
          "x": "Dance/Electronic",
          "xref": "x",
          "y": "Dance/Electronic",
          "yref": "y"
         },
         {
          "font": {
           "color": "#000000"
          },
          "showarrow": false,
          "text": "77",
          "x": "Ambient/Relaxing",
          "xref": "x",
          "y": "Dance/Electronic",
          "yref": "y"
         },
         {
          "font": {
           "color": "#000000"
          },
          "showarrow": false,
          "text": "16",
          "x": "Global/Traditional",
          "xref": "x",
          "y": "Dance/Electronic",
          "yref": "y"
         },
         {
          "font": {
           "color": "#000000"
          },
          "showarrow": false,
          "text": "12",
          "x": "Metal/Industrial",
          "xref": "x",
          "y": "Dance/Electronic",
          "yref": "y"
         },
         {
          "font": {
           "color": "#000000"
          },
          "showarrow": false,
          "text": "83",
          "x": "Pop/World",
          "xref": "x",
          "y": "Dance/Electronic",
          "yref": "y"
         },
         {
          "font": {
           "color": "#000000"
          },
          "showarrow": false,
          "text": "12",
          "x": "Dance/Electronic",
          "xref": "x",
          "y": "Ambient/Relaxing",
          "yref": "y"
         },
         {
          "font": {
           "color": "#FFFFFF"
          },
          "showarrow": false,
          "text": "1294",
          "x": "Ambient/Relaxing",
          "xref": "x",
          "y": "Ambient/Relaxing",
          "yref": "y"
         },
         {
          "font": {
           "color": "#000000"
          },
          "showarrow": false,
          "text": "155",
          "x": "Global/Traditional",
          "xref": "x",
          "y": "Ambient/Relaxing",
          "yref": "y"
         },
         {
          "font": {
           "color": "#000000"
          },
          "showarrow": false,
          "text": "25",
          "x": "Metal/Industrial",
          "xref": "x",
          "y": "Ambient/Relaxing",
          "yref": "y"
         },
         {
          "font": {
           "color": "#000000"
          },
          "showarrow": false,
          "text": "0",
          "x": "Pop/World",
          "xref": "x",
          "y": "Ambient/Relaxing",
          "yref": "y"
         },
         {
          "font": {
           "color": "#000000"
          },
          "showarrow": false,
          "text": "2",
          "x": "Dance/Electronic",
          "xref": "x",
          "y": "Global/Traditional",
          "yref": "y"
         },
         {
          "font": {
           "color": "#000000"
          },
          "showarrow": false,
          "text": "99",
          "x": "Ambient/Relaxing",
          "xref": "x",
          "y": "Global/Traditional",
          "yref": "y"
         },
         {
          "font": {
           "color": "#FFFFFF"
          },
          "showarrow": false,
          "text": "1717",
          "x": "Global/Traditional",
          "xref": "x",
          "y": "Global/Traditional",
          "yref": "y"
         },
         {
          "font": {
           "color": "#000000"
          },
          "showarrow": false,
          "text": "4",
          "x": "Metal/Industrial",
          "xref": "x",
          "y": "Global/Traditional",
          "yref": "y"
         },
         {
          "font": {
           "color": "#000000"
          },
          "showarrow": false,
          "text": "0",
          "x": "Pop/World",
          "xref": "x",
          "y": "Global/Traditional",
          "yref": "y"
         },
         {
          "font": {
           "color": "#000000"
          },
          "showarrow": false,
          "text": "4",
          "x": "Dance/Electronic",
          "xref": "x",
          "y": "Metal/Industrial",
          "yref": "y"
         },
         {
          "font": {
           "color": "#000000"
          },
          "showarrow": false,
          "text": "43",
          "x": "Ambient/Relaxing",
          "xref": "x",
          "y": "Metal/Industrial",
          "yref": "y"
         },
         {
          "font": {
           "color": "#000000"
          },
          "showarrow": false,
          "text": "84",
          "x": "Global/Traditional",
          "xref": "x",
          "y": "Metal/Industrial",
          "yref": "y"
         },
         {
          "font": {
           "color": "#000000"
          },
          "showarrow": false,
          "text": "374",
          "x": "Metal/Industrial",
          "xref": "x",
          "y": "Metal/Industrial",
          "yref": "y"
         },
         {
          "font": {
           "color": "#000000"
          },
          "showarrow": false,
          "text": "0",
          "x": "Pop/World",
          "xref": "x",
          "y": "Metal/Industrial",
          "yref": "y"
         },
         {
          "font": {
           "color": "#000000"
          },
          "showarrow": false,
          "text": "122",
          "x": "Dance/Electronic",
          "xref": "x",
          "y": "Pop/World",
          "yref": "y"
         },
         {
          "font": {
           "color": "#000000"
          },
          "showarrow": false,
          "text": "1",
          "x": "Ambient/Relaxing",
          "xref": "x",
          "y": "Pop/World",
          "yref": "y"
         },
         {
          "font": {
           "color": "#000000"
          },
          "showarrow": false,
          "text": "0",
          "x": "Global/Traditional",
          "xref": "x",
          "y": "Pop/World",
          "yref": "y"
         },
         {
          "font": {
           "color": "#000000"
          },
          "showarrow": false,
          "text": "2",
          "x": "Metal/Industrial",
          "xref": "x",
          "y": "Pop/World",
          "yref": "y"
         },
         {
          "font": {
           "color": "#FFFFFF"
          },
          "showarrow": false,
          "text": "2546",
          "x": "Pop/World",
          "xref": "x",
          "y": "Pop/World",
          "yref": "y"
         }
        ],
        "template": {
         "data": {
          "bar": [
           {
            "error_x": {
             "color": "#2a3f5f"
            },
            "error_y": {
             "color": "#2a3f5f"
            },
            "marker": {
             "line": {
              "color": "#E5ECF6",
              "width": 0.5
             },
             "pattern": {
              "fillmode": "overlay",
              "size": 10,
              "solidity": 0.2
             }
            },
            "type": "bar"
           }
          ],
          "barpolar": [
           {
            "marker": {
             "line": {
              "color": "#E5ECF6",
              "width": 0.5
             },
             "pattern": {
              "fillmode": "overlay",
              "size": 10,
              "solidity": 0.2
             }
            },
            "type": "barpolar"
           }
          ],
          "carpet": [
           {
            "aaxis": {
             "endlinecolor": "#2a3f5f",
             "gridcolor": "white",
             "linecolor": "white",
             "minorgridcolor": "white",
             "startlinecolor": "#2a3f5f"
            },
            "baxis": {
             "endlinecolor": "#2a3f5f",
             "gridcolor": "white",
             "linecolor": "white",
             "minorgridcolor": "white",
             "startlinecolor": "#2a3f5f"
            },
            "type": "carpet"
           }
          ],
          "choropleth": [
           {
            "colorbar": {
             "outlinewidth": 0,
             "ticks": ""
            },
            "type": "choropleth"
           }
          ],
          "contour": [
           {
            "colorbar": {
             "outlinewidth": 0,
             "ticks": ""
            },
            "colorscale": [
             [
              0,
              "#0d0887"
             ],
             [
              0.1111111111111111,
              "#46039f"
             ],
             [
              0.2222222222222222,
              "#7201a8"
             ],
             [
              0.3333333333333333,
              "#9c179e"
             ],
             [
              0.4444444444444444,
              "#bd3786"
             ],
             [
              0.5555555555555556,
              "#d8576b"
             ],
             [
              0.6666666666666666,
              "#ed7953"
             ],
             [
              0.7777777777777778,
              "#fb9f3a"
             ],
             [
              0.8888888888888888,
              "#fdca26"
             ],
             [
              1,
              "#f0f921"
             ]
            ],
            "type": "contour"
           }
          ],
          "contourcarpet": [
           {
            "colorbar": {
             "outlinewidth": 0,
             "ticks": ""
            },
            "type": "contourcarpet"
           }
          ],
          "heatmap": [
           {
            "colorbar": {
             "outlinewidth": 0,
             "ticks": ""
            },
            "colorscale": [
             [
              0,
              "#0d0887"
             ],
             [
              0.1111111111111111,
              "#46039f"
             ],
             [
              0.2222222222222222,
              "#7201a8"
             ],
             [
              0.3333333333333333,
              "#9c179e"
             ],
             [
              0.4444444444444444,
              "#bd3786"
             ],
             [
              0.5555555555555556,
              "#d8576b"
             ],
             [
              0.6666666666666666,
              "#ed7953"
             ],
             [
              0.7777777777777778,
              "#fb9f3a"
             ],
             [
              0.8888888888888888,
              "#fdca26"
             ],
             [
              1,
              "#f0f921"
             ]
            ],
            "type": "heatmap"
           }
          ],
          "heatmapgl": [
           {
            "colorbar": {
             "outlinewidth": 0,
             "ticks": ""
            },
            "colorscale": [
             [
              0,
              "#0d0887"
             ],
             [
              0.1111111111111111,
              "#46039f"
             ],
             [
              0.2222222222222222,
              "#7201a8"
             ],
             [
              0.3333333333333333,
              "#9c179e"
             ],
             [
              0.4444444444444444,
              "#bd3786"
             ],
             [
              0.5555555555555556,
              "#d8576b"
             ],
             [
              0.6666666666666666,
              "#ed7953"
             ],
             [
              0.7777777777777778,
              "#fb9f3a"
             ],
             [
              0.8888888888888888,
              "#fdca26"
             ],
             [
              1,
              "#f0f921"
             ]
            ],
            "type": "heatmapgl"
           }
          ],
          "histogram": [
           {
            "marker": {
             "pattern": {
              "fillmode": "overlay",
              "size": 10,
              "solidity": 0.2
             }
            },
            "type": "histogram"
           }
          ],
          "histogram2d": [
           {
            "colorbar": {
             "outlinewidth": 0,
             "ticks": ""
            },
            "colorscale": [
             [
              0,
              "#0d0887"
             ],
             [
              0.1111111111111111,
              "#46039f"
             ],
             [
              0.2222222222222222,
              "#7201a8"
             ],
             [
              0.3333333333333333,
              "#9c179e"
             ],
             [
              0.4444444444444444,
              "#bd3786"
             ],
             [
              0.5555555555555556,
              "#d8576b"
             ],
             [
              0.6666666666666666,
              "#ed7953"
             ],
             [
              0.7777777777777778,
              "#fb9f3a"
             ],
             [
              0.8888888888888888,
              "#fdca26"
             ],
             [
              1,
              "#f0f921"
             ]
            ],
            "type": "histogram2d"
           }
          ],
          "histogram2dcontour": [
           {
            "colorbar": {
             "outlinewidth": 0,
             "ticks": ""
            },
            "colorscale": [
             [
              0,
              "#0d0887"
             ],
             [
              0.1111111111111111,
              "#46039f"
             ],
             [
              0.2222222222222222,
              "#7201a8"
             ],
             [
              0.3333333333333333,
              "#9c179e"
             ],
             [
              0.4444444444444444,
              "#bd3786"
             ],
             [
              0.5555555555555556,
              "#d8576b"
             ],
             [
              0.6666666666666666,
              "#ed7953"
             ],
             [
              0.7777777777777778,
              "#fb9f3a"
             ],
             [
              0.8888888888888888,
              "#fdca26"
             ],
             [
              1,
              "#f0f921"
             ]
            ],
            "type": "histogram2dcontour"
           }
          ],
          "mesh3d": [
           {
            "colorbar": {
             "outlinewidth": 0,
             "ticks": ""
            },
            "type": "mesh3d"
           }
          ],
          "parcoords": [
           {
            "line": {
             "colorbar": {
              "outlinewidth": 0,
              "ticks": ""
             }
            },
            "type": "parcoords"
           }
          ],
          "pie": [
           {
            "automargin": true,
            "type": "pie"
           }
          ],
          "scatter": [
           {
            "fillpattern": {
             "fillmode": "overlay",
             "size": 10,
             "solidity": 0.2
            },
            "type": "scatter"
           }
          ],
          "scatter3d": [
           {
            "line": {
             "colorbar": {
              "outlinewidth": 0,
              "ticks": ""
             }
            },
            "marker": {
             "colorbar": {
              "outlinewidth": 0,
              "ticks": ""
             }
            },
            "type": "scatter3d"
           }
          ],
          "scattercarpet": [
           {
            "marker": {
             "colorbar": {
              "outlinewidth": 0,
              "ticks": ""
             }
            },
            "type": "scattercarpet"
           }
          ],
          "scattergeo": [
           {
            "marker": {
             "colorbar": {
              "outlinewidth": 0,
              "ticks": ""
             }
            },
            "type": "scattergeo"
           }
          ],
          "scattergl": [
           {
            "marker": {
             "colorbar": {
              "outlinewidth": 0,
              "ticks": ""
             }
            },
            "type": "scattergl"
           }
          ],
          "scattermapbox": [
           {
            "marker": {
             "colorbar": {
              "outlinewidth": 0,
              "ticks": ""
             }
            },
            "type": "scattermapbox"
           }
          ],
          "scatterpolar": [
           {
            "marker": {
             "colorbar": {
              "outlinewidth": 0,
              "ticks": ""
             }
            },
            "type": "scatterpolar"
           }
          ],
          "scatterpolargl": [
           {
            "marker": {
             "colorbar": {
              "outlinewidth": 0,
              "ticks": ""
             }
            },
            "type": "scatterpolargl"
           }
          ],
          "scatterternary": [
           {
            "marker": {
             "colorbar": {
              "outlinewidth": 0,
              "ticks": ""
             }
            },
            "type": "scatterternary"
           }
          ],
          "surface": [
           {
            "colorbar": {
             "outlinewidth": 0,
             "ticks": ""
            },
            "colorscale": [
             [
              0,
              "#0d0887"
             ],
             [
              0.1111111111111111,
              "#46039f"
             ],
             [
              0.2222222222222222,
              "#7201a8"
             ],
             [
              0.3333333333333333,
              "#9c179e"
             ],
             [
              0.4444444444444444,
              "#bd3786"
             ],
             [
              0.5555555555555556,
              "#d8576b"
             ],
             [
              0.6666666666666666,
              "#ed7953"
             ],
             [
              0.7777777777777778,
              "#fb9f3a"
             ],
             [
              0.8888888888888888,
              "#fdca26"
             ],
             [
              1,
              "#f0f921"
             ]
            ],
            "type": "surface"
           }
          ],
          "table": [
           {
            "cells": {
             "fill": {
              "color": "#EBF0F8"
             },
             "line": {
              "color": "white"
             }
            },
            "header": {
             "fill": {
              "color": "#C8D4E3"
             },
             "line": {
              "color": "white"
             }
            },
            "type": "table"
           }
          ]
         },
         "layout": {
          "annotationdefaults": {
           "arrowcolor": "#2a3f5f",
           "arrowhead": 0,
           "arrowwidth": 1
          },
          "autotypenumbers": "strict",
          "coloraxis": {
           "colorbar": {
            "outlinewidth": 0,
            "ticks": ""
           }
          },
          "colorscale": {
           "diverging": [
            [
             0,
             "#8e0152"
            ],
            [
             0.1,
             "#c51b7d"
            ],
            [
             0.2,
             "#de77ae"
            ],
            [
             0.3,
             "#f1b6da"
            ],
            [
             0.4,
             "#fde0ef"
            ],
            [
             0.5,
             "#f7f7f7"
            ],
            [
             0.6,
             "#e6f5d0"
            ],
            [
             0.7,
             "#b8e186"
            ],
            [
             0.8,
             "#7fbc41"
            ],
            [
             0.9,
             "#4d9221"
            ],
            [
             1,
             "#276419"
            ]
           ],
           "sequential": [
            [
             0,
             "#0d0887"
            ],
            [
             0.1111111111111111,
             "#46039f"
            ],
            [
             0.2222222222222222,
             "#7201a8"
            ],
            [
             0.3333333333333333,
             "#9c179e"
            ],
            [
             0.4444444444444444,
             "#bd3786"
            ],
            [
             0.5555555555555556,
             "#d8576b"
            ],
            [
             0.6666666666666666,
             "#ed7953"
            ],
            [
             0.7777777777777778,
             "#fb9f3a"
            ],
            [
             0.8888888888888888,
             "#fdca26"
            ],
            [
             1,
             "#f0f921"
            ]
           ],
           "sequentialminus": [
            [
             0,
             "#0d0887"
            ],
            [
             0.1111111111111111,
             "#46039f"
            ],
            [
             0.2222222222222222,
             "#7201a8"
            ],
            [
             0.3333333333333333,
             "#9c179e"
            ],
            [
             0.4444444444444444,
             "#bd3786"
            ],
            [
             0.5555555555555556,
             "#d8576b"
            ],
            [
             0.6666666666666666,
             "#ed7953"
            ],
            [
             0.7777777777777778,
             "#fb9f3a"
            ],
            [
             0.8888888888888888,
             "#fdca26"
            ],
            [
             1,
             "#f0f921"
            ]
           ]
          },
          "colorway": [
           "#636efa",
           "#EF553B",
           "#00cc96",
           "#ab63fa",
           "#FFA15A",
           "#19d3f3",
           "#FF6692",
           "#B6E880",
           "#FF97FF",
           "#FECB52"
          ],
          "font": {
           "color": "#2a3f5f"
          },
          "geo": {
           "bgcolor": "white",
           "lakecolor": "white",
           "landcolor": "#E5ECF6",
           "showlakes": true,
           "showland": true,
           "subunitcolor": "white"
          },
          "hoverlabel": {
           "align": "left"
          },
          "hovermode": "closest",
          "mapbox": {
           "style": "light"
          },
          "paper_bgcolor": "white",
          "plot_bgcolor": "#E5ECF6",
          "polar": {
           "angularaxis": {
            "gridcolor": "white",
            "linecolor": "white",
            "ticks": ""
           },
           "bgcolor": "#E5ECF6",
           "radialaxis": {
            "gridcolor": "white",
            "linecolor": "white",
            "ticks": ""
           }
          },
          "scene": {
           "xaxis": {
            "backgroundcolor": "#E5ECF6",
            "gridcolor": "white",
            "gridwidth": 2,
            "linecolor": "white",
            "showbackground": true,
            "ticks": "",
            "zerolinecolor": "white"
           },
           "yaxis": {
            "backgroundcolor": "#E5ECF6",
            "gridcolor": "white",
            "gridwidth": 2,
            "linecolor": "white",
            "showbackground": true,
            "ticks": "",
            "zerolinecolor": "white"
           },
           "zaxis": {
            "backgroundcolor": "#E5ECF6",
            "gridcolor": "white",
            "gridwidth": 2,
            "linecolor": "white",
            "showbackground": true,
            "ticks": "",
            "zerolinecolor": "white"
           }
          },
          "shapedefaults": {
           "line": {
            "color": "#2a3f5f"
           }
          },
          "ternary": {
           "aaxis": {
            "gridcolor": "white",
            "linecolor": "white",
            "ticks": ""
           },
           "baxis": {
            "gridcolor": "white",
            "linecolor": "white",
            "ticks": ""
           },
           "bgcolor": "#E5ECF6",
           "caxis": {
            "gridcolor": "white",
            "linecolor": "white",
            "ticks": ""
           }
          },
          "title": {
           "x": 0.05
          },
          "xaxis": {
           "automargin": true,
           "gridcolor": "white",
           "linecolor": "white",
           "ticks": "",
           "title": {
            "standoff": 15
           },
           "zerolinecolor": "white",
           "zerolinewidth": 2
          },
          "yaxis": {
           "automargin": true,
           "gridcolor": "white",
           "linecolor": "white",
           "ticks": "",
           "title": {
            "standoff": 15
           },
           "zerolinecolor": "white",
           "zerolinewidth": 2
          }
         }
        },
        "title": {
         "text": "Confusion Matrix",
         "x": 0.5
        },
        "xaxis": {
         "dtick": 1,
         "gridcolor": "rgb(0, 0, 0)",
         "side": "top",
         "tickangle": 45,
         "ticks": "",
         "title": {
          "text": "Predicted Labels"
         }
        },
        "yaxis": {
         "autorange": "reversed",
         "dtick": 1,
         "tickmode": "array",
         "ticks": "",
         "ticksuffix": "  ",
         "ticktext": [
          "Dance/Electronic",
          "Ambient/Relaxing",
          "Global/Traditional",
          "Metal/Industrial",
          "Pop/World"
         ],
         "tickvals": [
          0,
          1,
          2,
          3,
          4
         ],
         "title": {
          "text": "True Labels"
         }
        }
       }
      }
     },
     "metadata": {},
     "output_type": "display_data"
    }
   ],
   "source": [
    "import plotly.figure_factory as ff\n",
    "from sklearn.metrics import confusion_matrix\n",
    "\n",
    "# Assumiamo che 'y_test' e 'y_test_pred' siano già definiti e contengano le etichette vere e predette dal tuo modello\n",
    "\n",
    "# Genera la matrice di confusione\n",
    "cf = confusion_matrix(y_test, y_test_pred)\n",
    "\n",
    "# Definisci le etichette per i generi in base ai raggruppamenti definiti\n",
    "genre_labels = ['Dance/Electronic', 'Ambient/Relaxing', 'Global/Traditional', 'Metal/Industrial', 'Pop/World']\n",
    "\n",
    "# Crea la heatmap usando plotly\n",
    "fig = ff.create_annotated_heatmap(z=cf, x=genre_labels, y=genre_labels,\n",
    "                                  annotation_text=cf.astype(str), colorscale='Greens')\n",
    "\n",
    "# Aggiorna il layout\n",
    "fig.update_layout(title_text='Confusion Matrix', title_x=0.5,\n",
    "                  xaxis=dict(title='Predicted Labels', tickangle=45),\n",
    "                  yaxis=dict(title='True Labels', tickmode='array', tickvals=list(range(len(genre_labels))), ticktext=genre_labels),\n",
    "                  yaxis_autorange='reversed')  # Reverse the y-axis to have the first class at the top\n",
    "\n",
    "# Mostra il grafico\n",
    "fig.show()\n"
   ]
  },
  {
   "cell_type": "code",
   "execution_count": null,
   "metadata": {},
   "outputs": [],
   "source": []
  },
  {
   "cell_type": "markdown",
   "metadata": {},
   "source": []
  },
  {
   "cell_type": "code",
   "execution_count": 61,
   "metadata": {},
   "outputs": [
    {
     "data": {
      "application/vnd.plotly.v1+json": {
       "config": {
        "plotlyServerURL": "https://plot.ly"
       },
       "data": [
        {
         "mode": "lines",
         "name": "Class 0 (AUC=0.99)",
         "type": "scatter",
         "x": [
          0,
          0,
          0,
          0.006940160394818013,
          0.00863664404688464,
          0.02082048118445404,
          0.027606415792720544,
          0.06785934608266501,
          0.12214682294879704,
          1
         ],
         "y": [
          0,
          0.4651898734177215,
          0.5392405063291139,
          0.7227848101265822,
          0.7645569620253164,
          0.8708860759493671,
          0.9151898734177215,
          0.9759493670886076,
          1,
          1
         ]
        },
        {
         "mode": "lines",
         "name": "Class 1 (AUC=0.99)",
         "type": "scatter",
         "x": [
          0,
          0,
          0.002128306476132563,
          0.008513225904530252,
          0.018242626938279112,
          0.03572514442079659,
          0.059744603222864096,
          0.10732745515354211,
          0.16676801459410154,
          1
         ],
         "y": [
          0,
          0.3936742934051144,
          0.5524899057873486,
          0.6884253028263796,
          0.7759084791386271,
          0.8660834454912517,
          0.9286675639300135,
          0.9764468371467026,
          1,
          1
         ]
        },
        {
         "mode": "lines",
         "name": "Class 2 (AUC=0.99)",
         "type": "scatter",
         "x": [
          0,
          0,
          0.00512656199935918,
          0.01618071131047741,
          0.03043896187119513,
          0.054469721243191285,
          0.07401473886574816,
          0.11358538929830182,
          0.1486702979814162,
          1
         ],
         "y": [
          0,
          0.6218441273326015,
          0.7574094401756312,
          0.8830954994511526,
          0.9237102085620198,
          0.9637760702524698,
          0.9763995609220637,
          0.9945115257958288,
          1,
          1
         ]
        },
        {
         "mode": "lines",
         "name": "Class 3 (AUC=0.99)",
         "type": "scatter",
         "x": [
          0,
          0,
          0.00026458526260087314,
          0.0013229263130043656,
          0.0035719010451117873,
          0.008599021034528377,
          0.016139701018653262,
          0.03082418309300172,
          0.06773382722582352,
          1
         ],
         "y": [
          0,
          0.1801980198019802,
          0.299009900990099,
          0.5188118811881188,
          0.6831683168316832,
          0.8237623762376237,
          0.9188118811881189,
          0.9742574257425742,
          1,
          1
         ]
        },
        {
         "mode": "lines",
         "name": "Class 4 (AUC=1.00)",
         "type": "scatter",
         "x": [
          0,
          0,
          0.0016688299647691451,
          0.010754681995178936,
          0.014648618579640274,
          0.036157982569998144,
          0.04042277025774152,
          0.08529575375486742,
          0.09401075468199518,
          1
         ],
         "y": [
          0,
          0.8375140396855111,
          0.8727068513665294,
          0.9449644327967054,
          0.9513290902283789,
          0.9801572444777237,
          0.9827779857731187,
          1,
          1,
          1
         ]
        },
        {
         "line": {
          "dash": "dash"
         },
         "mode": "lines",
         "name": "Random Guessing",
         "type": "scatter",
         "x": [
          0,
          1
         ],
         "y": [
          0,
          1
         ]
        }
       ],
       "layout": {
        "height": 800,
        "legend": {
         "title": {
          "text": "Classes"
         }
        },
        "template": {
         "data": {
          "bar": [
           {
            "error_x": {
             "color": "#2a3f5f"
            },
            "error_y": {
             "color": "#2a3f5f"
            },
            "marker": {
             "line": {
              "color": "#E5ECF6",
              "width": 0.5
             },
             "pattern": {
              "fillmode": "overlay",
              "size": 10,
              "solidity": 0.2
             }
            },
            "type": "bar"
           }
          ],
          "barpolar": [
           {
            "marker": {
             "line": {
              "color": "#E5ECF6",
              "width": 0.5
             },
             "pattern": {
              "fillmode": "overlay",
              "size": 10,
              "solidity": 0.2
             }
            },
            "type": "barpolar"
           }
          ],
          "carpet": [
           {
            "aaxis": {
             "endlinecolor": "#2a3f5f",
             "gridcolor": "white",
             "linecolor": "white",
             "minorgridcolor": "white",
             "startlinecolor": "#2a3f5f"
            },
            "baxis": {
             "endlinecolor": "#2a3f5f",
             "gridcolor": "white",
             "linecolor": "white",
             "minorgridcolor": "white",
             "startlinecolor": "#2a3f5f"
            },
            "type": "carpet"
           }
          ],
          "choropleth": [
           {
            "colorbar": {
             "outlinewidth": 0,
             "ticks": ""
            },
            "type": "choropleth"
           }
          ],
          "contour": [
           {
            "colorbar": {
             "outlinewidth": 0,
             "ticks": ""
            },
            "colorscale": [
             [
              0,
              "#0d0887"
             ],
             [
              0.1111111111111111,
              "#46039f"
             ],
             [
              0.2222222222222222,
              "#7201a8"
             ],
             [
              0.3333333333333333,
              "#9c179e"
             ],
             [
              0.4444444444444444,
              "#bd3786"
             ],
             [
              0.5555555555555556,
              "#d8576b"
             ],
             [
              0.6666666666666666,
              "#ed7953"
             ],
             [
              0.7777777777777778,
              "#fb9f3a"
             ],
             [
              0.8888888888888888,
              "#fdca26"
             ],
             [
              1,
              "#f0f921"
             ]
            ],
            "type": "contour"
           }
          ],
          "contourcarpet": [
           {
            "colorbar": {
             "outlinewidth": 0,
             "ticks": ""
            },
            "type": "contourcarpet"
           }
          ],
          "heatmap": [
           {
            "colorbar": {
             "outlinewidth": 0,
             "ticks": ""
            },
            "colorscale": [
             [
              0,
              "#0d0887"
             ],
             [
              0.1111111111111111,
              "#46039f"
             ],
             [
              0.2222222222222222,
              "#7201a8"
             ],
             [
              0.3333333333333333,
              "#9c179e"
             ],
             [
              0.4444444444444444,
              "#bd3786"
             ],
             [
              0.5555555555555556,
              "#d8576b"
             ],
             [
              0.6666666666666666,
              "#ed7953"
             ],
             [
              0.7777777777777778,
              "#fb9f3a"
             ],
             [
              0.8888888888888888,
              "#fdca26"
             ],
             [
              1,
              "#f0f921"
             ]
            ],
            "type": "heatmap"
           }
          ],
          "heatmapgl": [
           {
            "colorbar": {
             "outlinewidth": 0,
             "ticks": ""
            },
            "colorscale": [
             [
              0,
              "#0d0887"
             ],
             [
              0.1111111111111111,
              "#46039f"
             ],
             [
              0.2222222222222222,
              "#7201a8"
             ],
             [
              0.3333333333333333,
              "#9c179e"
             ],
             [
              0.4444444444444444,
              "#bd3786"
             ],
             [
              0.5555555555555556,
              "#d8576b"
             ],
             [
              0.6666666666666666,
              "#ed7953"
             ],
             [
              0.7777777777777778,
              "#fb9f3a"
             ],
             [
              0.8888888888888888,
              "#fdca26"
             ],
             [
              1,
              "#f0f921"
             ]
            ],
            "type": "heatmapgl"
           }
          ],
          "histogram": [
           {
            "marker": {
             "pattern": {
              "fillmode": "overlay",
              "size": 10,
              "solidity": 0.2
             }
            },
            "type": "histogram"
           }
          ],
          "histogram2d": [
           {
            "colorbar": {
             "outlinewidth": 0,
             "ticks": ""
            },
            "colorscale": [
             [
              0,
              "#0d0887"
             ],
             [
              0.1111111111111111,
              "#46039f"
             ],
             [
              0.2222222222222222,
              "#7201a8"
             ],
             [
              0.3333333333333333,
              "#9c179e"
             ],
             [
              0.4444444444444444,
              "#bd3786"
             ],
             [
              0.5555555555555556,
              "#d8576b"
             ],
             [
              0.6666666666666666,
              "#ed7953"
             ],
             [
              0.7777777777777778,
              "#fb9f3a"
             ],
             [
              0.8888888888888888,
              "#fdca26"
             ],
             [
              1,
              "#f0f921"
             ]
            ],
            "type": "histogram2d"
           }
          ],
          "histogram2dcontour": [
           {
            "colorbar": {
             "outlinewidth": 0,
             "ticks": ""
            },
            "colorscale": [
             [
              0,
              "#0d0887"
             ],
             [
              0.1111111111111111,
              "#46039f"
             ],
             [
              0.2222222222222222,
              "#7201a8"
             ],
             [
              0.3333333333333333,
              "#9c179e"
             ],
             [
              0.4444444444444444,
              "#bd3786"
             ],
             [
              0.5555555555555556,
              "#d8576b"
             ],
             [
              0.6666666666666666,
              "#ed7953"
             ],
             [
              0.7777777777777778,
              "#fb9f3a"
             ],
             [
              0.8888888888888888,
              "#fdca26"
             ],
             [
              1,
              "#f0f921"
             ]
            ],
            "type": "histogram2dcontour"
           }
          ],
          "mesh3d": [
           {
            "colorbar": {
             "outlinewidth": 0,
             "ticks": ""
            },
            "type": "mesh3d"
           }
          ],
          "parcoords": [
           {
            "line": {
             "colorbar": {
              "outlinewidth": 0,
              "ticks": ""
             }
            },
            "type": "parcoords"
           }
          ],
          "pie": [
           {
            "automargin": true,
            "type": "pie"
           }
          ],
          "scatter": [
           {
            "fillpattern": {
             "fillmode": "overlay",
             "size": 10,
             "solidity": 0.2
            },
            "type": "scatter"
           }
          ],
          "scatter3d": [
           {
            "line": {
             "colorbar": {
              "outlinewidth": 0,
              "ticks": ""
             }
            },
            "marker": {
             "colorbar": {
              "outlinewidth": 0,
              "ticks": ""
             }
            },
            "type": "scatter3d"
           }
          ],
          "scattercarpet": [
           {
            "marker": {
             "colorbar": {
              "outlinewidth": 0,
              "ticks": ""
             }
            },
            "type": "scattercarpet"
           }
          ],
          "scattergeo": [
           {
            "marker": {
             "colorbar": {
              "outlinewidth": 0,
              "ticks": ""
             }
            },
            "type": "scattergeo"
           }
          ],
          "scattergl": [
           {
            "marker": {
             "colorbar": {
              "outlinewidth": 0,
              "ticks": ""
             }
            },
            "type": "scattergl"
           }
          ],
          "scattermapbox": [
           {
            "marker": {
             "colorbar": {
              "outlinewidth": 0,
              "ticks": ""
             }
            },
            "type": "scattermapbox"
           }
          ],
          "scatterpolar": [
           {
            "marker": {
             "colorbar": {
              "outlinewidth": 0,
              "ticks": ""
             }
            },
            "type": "scatterpolar"
           }
          ],
          "scatterpolargl": [
           {
            "marker": {
             "colorbar": {
              "outlinewidth": 0,
              "ticks": ""
             }
            },
            "type": "scatterpolargl"
           }
          ],
          "scatterternary": [
           {
            "marker": {
             "colorbar": {
              "outlinewidth": 0,
              "ticks": ""
             }
            },
            "type": "scatterternary"
           }
          ],
          "surface": [
           {
            "colorbar": {
             "outlinewidth": 0,
             "ticks": ""
            },
            "colorscale": [
             [
              0,
              "#0d0887"
             ],
             [
              0.1111111111111111,
              "#46039f"
             ],
             [
              0.2222222222222222,
              "#7201a8"
             ],
             [
              0.3333333333333333,
              "#9c179e"
             ],
             [
              0.4444444444444444,
              "#bd3786"
             ],
             [
              0.5555555555555556,
              "#d8576b"
             ],
             [
              0.6666666666666666,
              "#ed7953"
             ],
             [
              0.7777777777777778,
              "#fb9f3a"
             ],
             [
              0.8888888888888888,
              "#fdca26"
             ],
             [
              1,
              "#f0f921"
             ]
            ],
            "type": "surface"
           }
          ],
          "table": [
           {
            "cells": {
             "fill": {
              "color": "#EBF0F8"
             },
             "line": {
              "color": "white"
             }
            },
            "header": {
             "fill": {
              "color": "#C8D4E3"
             },
             "line": {
              "color": "white"
             }
            },
            "type": "table"
           }
          ]
         },
         "layout": {
          "annotationdefaults": {
           "arrowcolor": "#2a3f5f",
           "arrowhead": 0,
           "arrowwidth": 1
          },
          "autotypenumbers": "strict",
          "coloraxis": {
           "colorbar": {
            "outlinewidth": 0,
            "ticks": ""
           }
          },
          "colorscale": {
           "diverging": [
            [
             0,
             "#8e0152"
            ],
            [
             0.1,
             "#c51b7d"
            ],
            [
             0.2,
             "#de77ae"
            ],
            [
             0.3,
             "#f1b6da"
            ],
            [
             0.4,
             "#fde0ef"
            ],
            [
             0.5,
             "#f7f7f7"
            ],
            [
             0.6,
             "#e6f5d0"
            ],
            [
             0.7,
             "#b8e186"
            ],
            [
             0.8,
             "#7fbc41"
            ],
            [
             0.9,
             "#4d9221"
            ],
            [
             1,
             "#276419"
            ]
           ],
           "sequential": [
            [
             0,
             "#0d0887"
            ],
            [
             0.1111111111111111,
             "#46039f"
            ],
            [
             0.2222222222222222,
             "#7201a8"
            ],
            [
             0.3333333333333333,
             "#9c179e"
            ],
            [
             0.4444444444444444,
             "#bd3786"
            ],
            [
             0.5555555555555556,
             "#d8576b"
            ],
            [
             0.6666666666666666,
             "#ed7953"
            ],
            [
             0.7777777777777778,
             "#fb9f3a"
            ],
            [
             0.8888888888888888,
             "#fdca26"
            ],
            [
             1,
             "#f0f921"
            ]
           ],
           "sequentialminus": [
            [
             0,
             "#0d0887"
            ],
            [
             0.1111111111111111,
             "#46039f"
            ],
            [
             0.2222222222222222,
             "#7201a8"
            ],
            [
             0.3333333333333333,
             "#9c179e"
            ],
            [
             0.4444444444444444,
             "#bd3786"
            ],
            [
             0.5555555555555556,
             "#d8576b"
            ],
            [
             0.6666666666666666,
             "#ed7953"
            ],
            [
             0.7777777777777778,
             "#fb9f3a"
            ],
            [
             0.8888888888888888,
             "#fdca26"
            ],
            [
             1,
             "#f0f921"
            ]
           ]
          },
          "colorway": [
           "#636efa",
           "#EF553B",
           "#00cc96",
           "#ab63fa",
           "#FFA15A",
           "#19d3f3",
           "#FF6692",
           "#B6E880",
           "#FF97FF",
           "#FECB52"
          ],
          "font": {
           "color": "#2a3f5f"
          },
          "geo": {
           "bgcolor": "white",
           "lakecolor": "white",
           "landcolor": "#E5ECF6",
           "showlakes": true,
           "showland": true,
           "subunitcolor": "white"
          },
          "hoverlabel": {
           "align": "left"
          },
          "hovermode": "closest",
          "mapbox": {
           "style": "light"
          },
          "paper_bgcolor": "white",
          "plot_bgcolor": "#E5ECF6",
          "polar": {
           "angularaxis": {
            "gridcolor": "white",
            "linecolor": "white",
            "ticks": ""
           },
           "bgcolor": "#E5ECF6",
           "radialaxis": {
            "gridcolor": "white",
            "linecolor": "white",
            "ticks": ""
           }
          },
          "scene": {
           "xaxis": {
            "backgroundcolor": "#E5ECF6",
            "gridcolor": "white",
            "gridwidth": 2,
            "linecolor": "white",
            "showbackground": true,
            "ticks": "",
            "zerolinecolor": "white"
           },
           "yaxis": {
            "backgroundcolor": "#E5ECF6",
            "gridcolor": "white",
            "gridwidth": 2,
            "linecolor": "white",
            "showbackground": true,
            "ticks": "",
            "zerolinecolor": "white"
           },
           "zaxis": {
            "backgroundcolor": "#E5ECF6",
            "gridcolor": "white",
            "gridwidth": 2,
            "linecolor": "white",
            "showbackground": true,
            "ticks": "",
            "zerolinecolor": "white"
           }
          },
          "shapedefaults": {
           "line": {
            "color": "#2a3f5f"
           }
          },
          "ternary": {
           "aaxis": {
            "gridcolor": "white",
            "linecolor": "white",
            "ticks": ""
           },
           "baxis": {
            "gridcolor": "white",
            "linecolor": "white",
            "ticks": ""
           },
           "bgcolor": "#E5ECF6",
           "caxis": {
            "gridcolor": "white",
            "linecolor": "white",
            "ticks": ""
           }
          },
          "title": {
           "x": 0.05
          },
          "xaxis": {
           "automargin": true,
           "gridcolor": "white",
           "linecolor": "white",
           "ticks": "",
           "title": {
            "standoff": 15
           },
           "zerolinecolor": "white",
           "zerolinewidth": 2
          },
          "yaxis": {
           "automargin": true,
           "gridcolor": "white",
           "linecolor": "white",
           "ticks": "",
           "title": {
            "standoff": 15
           },
           "zerolinecolor": "white",
           "zerolinewidth": 2
          }
         }
        },
        "title": {
         "text": "ROC curve per classe"
        },
        "width": 1000,
        "xaxis": {
         "title": {
          "text": "False Positive Rate"
         }
        },
        "yaxis": {
         "title": {
          "text": "True Positive Rate"
         }
        }
       }
      }
     },
     "metadata": {},
     "output_type": "display_data"
    }
   ],
   "source": [
    "from sklearn.metrics import roc_curve, auc\n",
    "import plotly.graph_objects as go\n",
    "\n",
    "# Calcola ROC curve e AUC per ogni classe\n",
    "fpr = dict()\n",
    "tpr = dict()\n",
    "roc_auc = dict()\n",
    "for i in range(len(np.unique(y_test))):\n",
    "    fpr[i], tpr[i], _ = roc_curve(Y[:, i], y_scores[:, i])\n",
    "    roc_auc[i] = auc(fpr[i], tpr[i])\n",
    "\n",
    "# Crea un grafico Plotly\n",
    "fig = go.Figure()\n",
    "\n",
    "# Aggiunge una linea per ogni classe\n",
    "for i, genre in enumerate(np.unique(y_test)):\n",
    "    fig.add_trace(go.Scatter(x=fpr[i], y=tpr[i], mode='lines', name=f'Class {i} (AUC={roc_auc[i]:0.2f})'))\n",
    "\n",
    "# Aggiunge la linea diagonale per il random guessing\n",
    "fig.add_trace(go.Scatter(x=[0, 1], y=[0, 1], mode='lines', name='Random Guessing', line=dict(dash='dash')))\n",
    "\n",
    "# Aggiorna il layout\n",
    "fig.update_layout(\n",
    "    title=\"ROC curve per classe\",\n",
    "    xaxis_title=\"False Positive Rate\",\n",
    "     width=1000,  # Larghezza del plot\n",
    "    height=800,  \n",
    "    yaxis_title=\"True Positive Rate\",\n",
    "    legend_title=\"Classes\"\n",
    ")\n",
    "\n",
    "# Mostra il grafico\n",
    "fig.show()\n"
   ]
  },
  {
   "cell_type": "code",
   "execution_count": null,
   "metadata": {},
   "outputs": [],
   "source": []
  }
 ],
 "metadata": {
  "kernelspec": {
   "display_name": "base",
   "language": "python",
   "name": "python3"
  },
  "language_info": {
   "codemirror_mode": {
    "name": "ipython",
    "version": 3
   },
   "file_extension": ".py",
   "mimetype": "text/x-python",
   "name": "python",
   "nbconvert_exporter": "python",
   "pygments_lexer": "ipython3",
   "version": "3.11.5"
  }
 },
 "nbformat": 4,
 "nbformat_minor": 2
}
