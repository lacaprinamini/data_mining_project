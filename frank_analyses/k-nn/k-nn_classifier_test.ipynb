{
 "cells": [
  {
   "cell_type": "code",
   "execution_count": 89,
   "metadata": {},
   "outputs": [],
   "source": [
    "import numpy as np\n",
    "import matplotlib.pyplot as plt\n",
    "import seaborn as sns\n",
    "import pandas as pd"
   ]
  },
  {
   "cell_type": "code",
   "execution_count": 90,
   "metadata": {},
   "outputs": [],
   "source": [
    "from sklearn.metrics import (\n",
    "    accuracy_score, \n",
    "    f1_score, \n",
    "    classification_report, \n",
    "    confusion_matrix, \n",
    "    roc_auc_score, \n",
    "    precision_score, \n",
    "    recall_score,\n",
    ")\n",
    "from scikitplot.metrics import plot_roc\n",
    "from scikitplot.metrics import plot_precision_recall"
   ]
  },
  {
   "cell_type": "code",
   "execution_count": 91,
   "metadata": {},
   "outputs": [],
   "source": [
    "df = pd.read_csv(\"../../our_analyses/dataset_prepared.csv\")\n",
    "df_test= pd.read_csv(\"../../our_analyses/dataset_test_prepared.csv\")"
   ]
  },
  {
   "cell_type": "code",
   "execution_count": 92,
   "metadata": {},
   "outputs": [],
   "source": [
    "\n",
    "from sklearn.preprocessing import LabelEncoder, StandardScaler\n",
    "\n",
    "df = df.drop(['name', 'artists', 'album_name'], axis=1)\n",
    "df_test = df_test.drop(['name', 'artists', 'album_name'], axis=1)\n",
    "\n",
    "genre_groups = {\n",
    "    'idm': 0, 'iranian': 0, 'study': 0,  # Electronic/Dance\n",
    "    'black-metal': 1, 'breakbeat': 1, 'techno': 1,  # Metal/Rock\n",
    "    'brazil': 2, 'forro': 2, 'happy': 2, 'spanish': 2, 'j-idol': 2,  # Country/Folk/Pop\n",
    "    'afrobeat': 3, 'chicago-house': 3, 'industrial': 3, 'j-dance': 3,  # World/Commercial Pop\n",
    "    'bluegrass': 4, 'disney': 4, 'indian': 4, 'mandopop': 4, 'sleep': 4  # Other\n",
    "}\n",
    "\n",
    "df['genre_group'] = df['genre'].map(genre_groups).astype(int)\n",
    "df_test['genre_group'] = df_test['genre'].map(genre_groups).astype(int)\n",
    "\n",
    "le = LabelEncoder()\n",
    "df['explicit'] = le.fit_transform(df['explicit'])\n",
    "df_test['explicit'] = le.transform(df_test['explicit'])"
   ]
  },
  {
   "cell_type": "code",
   "execution_count": 93,
   "metadata": {},
   "outputs": [],
   "source": [
    "# Separazione delle features e dei target\n",
    "X_train = df.drop(['genre_group', 'genre'], axis=1)\n",
    "y_train = df['genre_group'].values\n",
    "X_test = df_test.drop(['genre_group', 'genre'], axis=1)\n",
    "y_test = df_test['genre_group'].values\n",
    "\n",
    "y = np.array(df['genre_group'])\n",
    "\n",
    "# Rimozione delle colonne 'genre_group' e 'genre' per ottenere le feature\n",
    "X = df.drop(['genre_group', 'genre'], axis=1)\n",
    "\n",
    "y_test = np.array(df['genre_group'])\n",
    "\n",
    "X_test = df.drop(['genre_group', 'genre'], axis=1)\n"
   ]
  },
  {
   "cell_type": "code",
   "execution_count": 94,
   "metadata": {},
   "outputs": [],
   "source": [
    "scaler = StandardScaler()\n",
    "X_train_norm = scaler.fit_transform(X_train)\n",
    "X_test_norm = scaler.transform(X_test)"
   ]
  },
  {
   "cell_type": "code",
   "execution_count": 95,
   "metadata": {},
   "outputs": [
    {
     "name": "stdout",
     "output_type": "stream",
     "text": [
      "Accuracy sul set di addestramento: 0.7744\n",
      "Accuracy sul set di test: 0.7146\n",
      "              precision    recall  f1-score   support\n",
      "\n",
      "           0       0.70      0.72      0.71      1500\n",
      "           1       0.75      0.61      0.68      1000\n",
      "           2       0.73      0.82      0.77      1750\n",
      "           3       0.66      0.60      0.63       750\n",
      "\n",
      "    accuracy                           0.71      5000\n",
      "   macro avg       0.71      0.69      0.70      5000\n",
      "weighted avg       0.71      0.71      0.71      5000\n",
      "\n"
     ]
    }
   ],
   "source": [
    "from sklearn.neighbors import KNeighborsClassifier\n",
    "\n",
    "# Addestramento del classificatore KNN\n",
    "clf = KNeighborsClassifier(n_neighbors=8, metric=\"cityblock\", weights=\"uniform\")\n",
    "clf.fit(X_train_norm, y_train)\n",
    "\n",
    "# Valutazione del classificatore sul set di addestramento\n",
    "y_train_pred = clf.predict(X_train_norm)\n",
    "print(\"Accuracy sul set di addestramento:\", accuracy_score(y_train, y_train_pred))\n",
    "\n",
    "# Valutazione del classificatore sul set di test\n",
    "y_test_pred = clf.predict(X_test_norm)\n",
    "print(\"Accuracy sul set di test:\", accuracy_score(y_test, y_test_pred))\n",
    "\n",
    "print(classification_report(y_test, y_test_pred))"
   ]
  },
  {
   "cell_type": "code",
   "execution_count": 96,
   "metadata": {},
   "outputs": [
    {
     "ename": "PlotlyError",
     "evalue": "oops, the x list that you provided does not match the width of your z matrix ",
     "output_type": "error",
     "traceback": [
      "\u001b[0;31m---------------------------------------------------------------------------\u001b[0m",
      "\u001b[0;31mPlotlyError\u001b[0m                               Traceback (most recent call last)",
      "\u001b[1;32m/Users/francescocapria/Library/CloudStorage/OneDrive-UniversityofPisa/progetto-data-mining/data_mining_project/frank_analyses/k-nn/k-nn_classifier_test.ipynb Cella 8\u001b[0m line \u001b[0;36m1\n\u001b[1;32m     <a href='vscode-notebook-cell:/Users/francescocapria/Library/CloudStorage/OneDrive-UniversityofPisa/progetto-data-mining/data_mining_project/frank_analyses/k-nn/k-nn_classifier_test.ipynb#X10sZmlsZQ%3D%3D?line=9'>10</a>\u001b[0m genre_labels \u001b[39m=\u001b[39m [\u001b[39m'\u001b[39m\u001b[39mDance/Electronic\u001b[39m\u001b[39m'\u001b[39m, \u001b[39m'\u001b[39m\u001b[39mAmbient/Relaxing\u001b[39m\u001b[39m'\u001b[39m, \u001b[39m'\u001b[39m\u001b[39mGlobal/Traditional\u001b[39m\u001b[39m'\u001b[39m, \u001b[39m'\u001b[39m\u001b[39mMetal/Industrial\u001b[39m\u001b[39m'\u001b[39m, \u001b[39m'\u001b[39m\u001b[39mPop/World\u001b[39m\u001b[39m'\u001b[39m]\n\u001b[1;32m     <a href='vscode-notebook-cell:/Users/francescocapria/Library/CloudStorage/OneDrive-UniversityofPisa/progetto-data-mining/data_mining_project/frank_analyses/k-nn/k-nn_classifier_test.ipynb#X10sZmlsZQ%3D%3D?line=11'>12</a>\u001b[0m \u001b[39m# Crea la heatmap usando plotly\u001b[39;00m\n\u001b[0;32m---> <a href='vscode-notebook-cell:/Users/francescocapria/Library/CloudStorage/OneDrive-UniversityofPisa/progetto-data-mining/data_mining_project/frank_analyses/k-nn/k-nn_classifier_test.ipynb#X10sZmlsZQ%3D%3D?line=12'>13</a>\u001b[0m fig \u001b[39m=\u001b[39m ff\u001b[39m.\u001b[39;49mcreate_annotated_heatmap(z\u001b[39m=\u001b[39;49mcf, x\u001b[39m=\u001b[39;49mgenre_labels, y\u001b[39m=\u001b[39;49mgenre_labels,\n\u001b[1;32m     <a href='vscode-notebook-cell:/Users/francescocapria/Library/CloudStorage/OneDrive-UniversityofPisa/progetto-data-mining/data_mining_project/frank_analyses/k-nn/k-nn_classifier_test.ipynb#X10sZmlsZQ%3D%3D?line=13'>14</a>\u001b[0m                                   annotation_text\u001b[39m=\u001b[39;49mcf\u001b[39m.\u001b[39;49mastype(\u001b[39mstr\u001b[39;49m), colorscale\u001b[39m=\u001b[39;49m\u001b[39m'\u001b[39;49m\u001b[39mGreens\u001b[39;49m\u001b[39m'\u001b[39;49m)\n\u001b[1;32m     <a href='vscode-notebook-cell:/Users/francescocapria/Library/CloudStorage/OneDrive-UniversityofPisa/progetto-data-mining/data_mining_project/frank_analyses/k-nn/k-nn_classifier_test.ipynb#X10sZmlsZQ%3D%3D?line=15'>16</a>\u001b[0m \u001b[39m# Aggiorna il layout\u001b[39;00m\n\u001b[1;32m     <a href='vscode-notebook-cell:/Users/francescocapria/Library/CloudStorage/OneDrive-UniversityofPisa/progetto-data-mining/data_mining_project/frank_analyses/k-nn/k-nn_classifier_test.ipynb#X10sZmlsZQ%3D%3D?line=16'>17</a>\u001b[0m fig\u001b[39m.\u001b[39mupdate_layout(title_text\u001b[39m=\u001b[39m\u001b[39m'\u001b[39m\u001b[39mConfusion Matrix\u001b[39m\u001b[39m'\u001b[39m, title_x\u001b[39m=\u001b[39m\u001b[39m0.5\u001b[39m,\n\u001b[1;32m     <a href='vscode-notebook-cell:/Users/francescocapria/Library/CloudStorage/OneDrive-UniversityofPisa/progetto-data-mining/data_mining_project/frank_analyses/k-nn/k-nn_classifier_test.ipynb#X10sZmlsZQ%3D%3D?line=17'>18</a>\u001b[0m                   xaxis\u001b[39m=\u001b[39m\u001b[39mdict\u001b[39m(title\u001b[39m=\u001b[39m\u001b[39m'\u001b[39m\u001b[39mPredicted Labels\u001b[39m\u001b[39m'\u001b[39m, tickangle\u001b[39m=\u001b[39m\u001b[39m45\u001b[39m),\n\u001b[1;32m     <a href='vscode-notebook-cell:/Users/francescocapria/Library/CloudStorage/OneDrive-UniversityofPisa/progetto-data-mining/data_mining_project/frank_analyses/k-nn/k-nn_classifier_test.ipynb#X10sZmlsZQ%3D%3D?line=18'>19</a>\u001b[0m                   yaxis\u001b[39m=\u001b[39m\u001b[39mdict\u001b[39m(title\u001b[39m=\u001b[39m\u001b[39m'\u001b[39m\u001b[39mTrue Labels\u001b[39m\u001b[39m'\u001b[39m, tickmode\u001b[39m=\u001b[39m\u001b[39m'\u001b[39m\u001b[39marray\u001b[39m\u001b[39m'\u001b[39m, tickvals\u001b[39m=\u001b[39m\u001b[39mlist\u001b[39m(\u001b[39mrange\u001b[39m(\u001b[39mlen\u001b[39m(genre_labels))), ticktext\u001b[39m=\u001b[39mgenre_labels),\n\u001b[1;32m     <a href='vscode-notebook-cell:/Users/francescocapria/Library/CloudStorage/OneDrive-UniversityofPisa/progetto-data-mining/data_mining_project/frank_analyses/k-nn/k-nn_classifier_test.ipynb#X10sZmlsZQ%3D%3D?line=19'>20</a>\u001b[0m                   yaxis_autorange\u001b[39m=\u001b[39m\u001b[39m'\u001b[39m\u001b[39mreversed\u001b[39m\u001b[39m'\u001b[39m)  \u001b[39m# Reverse the y-axis to have the first class at the top\u001b[39;00m\n",
      "File \u001b[0;32m~/opt/anaconda3/lib/python3.9/site-packages/plotly/figure_factory/_annotated_heatmap.py:104\u001b[0m, in \u001b[0;36mcreate_annotated_heatmap\u001b[0;34m(z, x, y, annotation_text, colorscale, font_colors, showscale, reversescale, **kwargs)\u001b[0m\n\u001b[1;32m    102\u001b[0m \u001b[39m# Avoiding mutables in the call signature\u001b[39;00m\n\u001b[1;32m    103\u001b[0m font_colors \u001b[39m=\u001b[39m font_colors \u001b[39mif\u001b[39;00m font_colors \u001b[39mis\u001b[39;00m \u001b[39mnot\u001b[39;00m \u001b[39mNone\u001b[39;00m \u001b[39melse\u001b[39;00m []\n\u001b[0;32m--> 104\u001b[0m validate_annotated_heatmap(z, x, y, annotation_text)\n\u001b[1;32m    106\u001b[0m \u001b[39m# validate colorscale\u001b[39;00m\n\u001b[1;32m    107\u001b[0m colorscale_validator \u001b[39m=\u001b[39m ColorscaleValidator()\n",
      "File \u001b[0;32m~/opt/anaconda3/lib/python3.9/site-packages/plotly/figure_factory/_annotated_heatmap.py:35\u001b[0m, in \u001b[0;36mvalidate_annotated_heatmap\u001b[0;34m(z, x, y, annotation_text)\u001b[0m\n\u001b[1;32m     33\u001b[0m \u001b[39mif\u001b[39;00m x:\n\u001b[1;32m     34\u001b[0m     \u001b[39mif\u001b[39;00m \u001b[39mlen\u001b[39m(x) \u001b[39m!=\u001b[39m \u001b[39mlen\u001b[39m(z[\u001b[39m0\u001b[39m]):\n\u001b[0;32m---> 35\u001b[0m         \u001b[39mraise\u001b[39;00m exceptions\u001b[39m.\u001b[39mPlotlyError(\n\u001b[1;32m     36\u001b[0m             \u001b[39m\"\u001b[39m\u001b[39moops, the x list that you \u001b[39m\u001b[39m\"\u001b[39m\n\u001b[1;32m     37\u001b[0m             \u001b[39m\"\u001b[39m\u001b[39mprovided does not match the \u001b[39m\u001b[39m\"\u001b[39m\n\u001b[1;32m     38\u001b[0m             \u001b[39m\"\u001b[39m\u001b[39mwidth of your z matrix \u001b[39m\u001b[39m\"\u001b[39m\n\u001b[1;32m     39\u001b[0m         )\n\u001b[1;32m     41\u001b[0m \u001b[39mif\u001b[39;00m y:\n\u001b[1;32m     42\u001b[0m     \u001b[39mif\u001b[39;00m \u001b[39mlen\u001b[39m(y) \u001b[39m!=\u001b[39m \u001b[39mlen\u001b[39m(z):\n",
      "\u001b[0;31mPlotlyError\u001b[0m: oops, the x list that you provided does not match the width of your z matrix "
     ]
    }
   ],
   "source": [
    "import plotly.figure_factory as ff\n",
    "from sklearn.metrics import confusion_matrix\n",
    "\n",
    "# Assumiamo che 'y_test' e 'y_test_pred' siano già definiti e contengano le etichette vere e predette dal tuo modello\n",
    "\n",
    "# Genera la matrice di confusione\n",
    "cf = confusion_matrix(y_test, y_test_pred)\n",
    "\n",
    "# Definisci le etichette per i generi in base ai raggruppamenti definiti\n",
    "genre_labels = ['Dance/Electronic', 'Ambient/Relaxing', 'Global/Traditional', 'Metal/Industrial', 'Pop/World']\n",
    "\n",
    "# Crea la heatmap usando plotly\n",
    "fig = ff.create_annotated_heatmap(z=cf, x=genre_labels, y=genre_labels,\n",
    "                                  annotation_text=cf.astype(str), colorscale='Greens')\n",
    "\n",
    "# Aggiorna il layout\n",
    "fig.update_layout(title_text='Confusion Matrix', title_x=0.5,\n",
    "                  xaxis=dict(title='Predicted Labels', tickangle=45),\n",
    "                  yaxis=dict(title='True Labels', tickmode='array', tickvals=list(range(len(genre_labels))), ticktext=genre_labels),\n",
    "                  yaxis_autorange='reversed')  # Reverse the y-axis to have the first class at the top\n",
    "\n",
    "# Mostra il grafico\n",
    "fig.show()\n"
   ]
  },
  {
   "cell_type": "code",
   "execution_count": null,
   "metadata": {},
   "outputs": [
    {
     "ename": "KeyError",
     "evalue": "5",
     "output_type": "error",
     "traceback": [
      "\u001b[0;31m---------------------------------------------------------------------------\u001b[0m",
      "\u001b[0;31mKeyError\u001b[0m                                  Traceback (most recent call last)",
      "\u001b[1;32m/Users/francescocapria/Library/CloudStorage/OneDrive-UniversityofPisa/progetto-data-mining/data_mining_project/frank_analyses/k-nn/k-nn_classifier_test.ipynb Cella 9\u001b[0m line \u001b[0;36m2\n\u001b[1;32m     <a href='vscode-notebook-cell:/Users/francescocapria/Library/CloudStorage/OneDrive-UniversityofPisa/progetto-data-mining/data_mining_project/frank_analyses/k-nn/k-nn_classifier_test.ipynb#X11sZmlsZQ%3D%3D?line=21'>22</a>\u001b[0m \u001b[39m# Aggiungi una linea ROC per ogni classe\u001b[39;00m\n\u001b[1;32m     <a href='vscode-notebook-cell:/Users/francescocapria/Library/CloudStorage/OneDrive-UniversityofPisa/progetto-data-mining/data_mining_project/frank_analyses/k-nn/k-nn_classifier_test.ipynb#X11sZmlsZQ%3D%3D?line=22'>23</a>\u001b[0m \u001b[39mfor\u001b[39;00m i \u001b[39min\u001b[39;00m \u001b[39mrange\u001b[39m(\u001b[39m6\u001b[39m):\n\u001b[0;32m---> <a href='vscode-notebook-cell:/Users/francescocapria/Library/CloudStorage/OneDrive-UniversityofPisa/progetto-data-mining/data_mining_project/frank_analyses/k-nn/k-nn_classifier_test.ipynb#X11sZmlsZQ%3D%3D?line=23'>24</a>\u001b[0m     fig\u001b[39m.\u001b[39madd_trace(go\u001b[39m.\u001b[39mScatter(x\u001b[39m=\u001b[39mfpr[i], y\u001b[39m=\u001b[39mtpr[i], mode\u001b[39m=\u001b[39m\u001b[39m'\u001b[39m\u001b[39mlines\u001b[39m\u001b[39m'\u001b[39m, name\u001b[39m=\u001b[39m\u001b[39mf\u001b[39m\u001b[39m'\u001b[39m\u001b[39mROC curve (area = \u001b[39m\u001b[39m{\u001b[39;00mroc_auc[i]\u001b[39m:\u001b[39;00m\u001b[39m.2f\u001b[39m\u001b[39m}\u001b[39;00m\u001b[39m) for class \u001b[39m\u001b[39m{\u001b[39;00mi\u001b[39m}\u001b[39;00m\u001b[39m'\u001b[39m))\n\u001b[1;32m     <a href='vscode-notebook-cell:/Users/francescocapria/Library/CloudStorage/OneDrive-UniversityofPisa/progetto-data-mining/data_mining_project/frank_analyses/k-nn/k-nn_classifier_test.ipynb#X11sZmlsZQ%3D%3D?line=25'>26</a>\u001b[0m \u001b[39m# Aggiungi la linea di riferimento per una classificazione casuale\u001b[39;00m\n\u001b[1;32m     <a href='vscode-notebook-cell:/Users/francescocapria/Library/CloudStorage/OneDrive-UniversityofPisa/progetto-data-mining/data_mining_project/frank_analyses/k-nn/k-nn_classifier_test.ipynb#X11sZmlsZQ%3D%3D?line=26'>27</a>\u001b[0m fig\u001b[39m.\u001b[39madd_trace(go\u001b[39m.\u001b[39mScatter(x\u001b[39m=\u001b[39m[\u001b[39m0\u001b[39m, \u001b[39m1\u001b[39m], y\u001b[39m=\u001b[39m[\u001b[39m0\u001b[39m, \u001b[39m1\u001b[39m], mode\u001b[39m=\u001b[39m\u001b[39m'\u001b[39m\u001b[39mlines\u001b[39m\u001b[39m'\u001b[39m, name\u001b[39m=\u001b[39m\u001b[39m'\u001b[39m\u001b[39mRandom\u001b[39m\u001b[39m'\u001b[39m, line\u001b[39m=\u001b[39m\u001b[39mdict\u001b[39m(dash\u001b[39m=\u001b[39m\u001b[39m'\u001b[39m\u001b[39mdash\u001b[39m\u001b[39m'\u001b[39m)))\n",
      "\u001b[0;31mKeyError\u001b[0m: 5"
     ]
    }
   ],
   "source": [
    "import plotly.graph_objs as go\n",
    "from sklearn.metrics import roc_curve, auc\n",
    "from sklearn.preprocessing import label_binarize\n",
    "\n",
    "# Calcola i punteggi di probabilità\n",
    "y_prob = clf.predict_proba(X_test_norm)\n",
    "\n",
    "# Binarizza le etichette in un formato one-vs-all\n",
    "y_test_binarized = label_binarize(y_test, classes=[0, 1, 2, 3, 4])\n",
    "\n",
    "# Calcola la ROC curve e l'area sotto la curva (AUC) per ogni classe\n",
    "fpr = dict()\n",
    "tpr = dict()\n",
    "roc_auc = dict()\n",
    "for i in range(5):  # Numero di classi\n",
    "    fpr[i], tpr[i], _ = roc_curve(y_test_binarized[:, i], y_prob[:, i])\n",
    "    roc_auc[i] = auc(fpr[i], tpr[i])\n",
    "\n",
    "# Crea una figura per Plotly\n",
    "fig = go.Figure()\n",
    "\n",
    "# Aggiungi una linea ROC per ogni classe\n",
    "for i in range(6):\n",
    "    fig.add_trace(go.Scatter(x=fpr[i], y=tpr[i], mode='lines', name=f'ROC curve (area = {roc_auc[i]:.2f}) for class {i}'))\n",
    "\n",
    "# Aggiungi la linea di riferimento per una classificazione casuale\n",
    "fig.add_trace(go.Scatter(x=[0, 1], y=[0, 1], mode='lines', name='Random', line=dict(dash='dash')))\n",
    "\n",
    "# Aggiorna il layout\n",
    "fig.update_layout(title='Receiver Operating Characteristic (ROC) - Multi-Class',\n",
    "                  xaxis_title='False Positive Rate',\n",
    "                  yaxis_title='True Positive Rate',\n",
    "                  xaxis=dict(scaleanchor=\"y\", scaleratio=1),  # Questo assicura che l'asse x abbia lo stesso rapporto di scala dell'asse y\n",
    "                  yaxis=dict(constrain='domain'),  # Questo fa in modo che l'asse y sia proporzionato correttamente\n",
    "                  width=800,  # Larghezza della figura\n",
    "                  height=800)  # Altezza della figura (rendendola uguale alla larghezza, il grafico sarà quadrato)\n",
    "\n",
    "# Mostra il grafico\n",
    "fig.show()\n"
   ]
  },
  {
   "cell_type": "code",
   "execution_count": null,
   "metadata": {},
   "outputs": [
    {
     "data": {
      "application/vnd.plotly.v1+json": {
       "config": {
        "plotlyServerURL": "https://plot.ly"
       },
       "data": [
        {
         "colorscale": [
          [
           0,
           "rgb(247,252,245)"
          ],
          [
           0.125,
           "rgb(229,245,224)"
          ],
          [
           0.25,
           "rgb(199,233,192)"
          ],
          [
           0.375,
           "rgb(161,217,155)"
          ],
          [
           0.5,
           "rgb(116,196,118)"
          ],
          [
           0.625,
           "rgb(65,171,93)"
          ],
          [
           0.75,
           "rgb(35,139,69)"
          ],
          [
           0.875,
           "rgb(0,109,44)"
          ],
          [
           1,
           "rgb(0,68,27)"
          ]
         ],
         "reversescale": false,
         "showscale": false,
         "type": "heatmap",
         "x": [
          "Dance/Electronic",
          "Ambient/Relaxing",
          "Global/Traditional",
          "Metal/Industrial",
          "Pop/World",
          "Experimental/Electronic"
         ],
         "y": [
          "Dance/Electronic",
          "Ambient/Relaxing",
          "Global/Traditional",
          "Metal/Industrial",
          "Pop/World",
          "Experimental/Electronic"
         ],
         "z": [
          [
           718,
           52,
           93,
           56,
           71,
           10
          ],
          [
           101,
           652,
           148,
           34,
           57,
           8
          ],
          [
           77,
           80,
           1222,
           25,
           83,
           13
          ],
          [
           74,
           34,
           63,
           285,
           40,
           4
          ],
          [
           129,
           37,
           255,
           29,
           295,
           5
          ],
          [
           75,
           59,
           57,
           10,
           10,
           39
          ]
         ]
        }
       ],
       "layout": {
        "annotations": [
         {
          "font": {
           "color": "#FFFFFF"
          },
          "showarrow": false,
          "text": "718",
          "x": "Dance/Electronic",
          "xref": "x",
          "y": "Dance/Electronic",
          "yref": "y"
         },
         {
          "font": {
           "color": "#000000"
          },
          "showarrow": false,
          "text": "52",
          "x": "Ambient/Relaxing",
          "xref": "x",
          "y": "Dance/Electronic",
          "yref": "y"
         },
         {
          "font": {
           "color": "#000000"
          },
          "showarrow": false,
          "text": "93",
          "x": "Global/Traditional",
          "xref": "x",
          "y": "Dance/Electronic",
          "yref": "y"
         },
         {
          "font": {
           "color": "#000000"
          },
          "showarrow": false,
          "text": "56",
          "x": "Metal/Industrial",
          "xref": "x",
          "y": "Dance/Electronic",
          "yref": "y"
         },
         {
          "font": {
           "color": "#000000"
          },
          "showarrow": false,
          "text": "71",
          "x": "Pop/World",
          "xref": "x",
          "y": "Dance/Electronic",
          "yref": "y"
         },
         {
          "font": {
           "color": "#000000"
          },
          "showarrow": false,
          "text": "10",
          "x": "Experimental/Electronic",
          "xref": "x",
          "y": "Dance/Electronic",
          "yref": "y"
         },
         {
          "font": {
           "color": "#000000"
          },
          "showarrow": false,
          "text": "101",
          "x": "Dance/Electronic",
          "xref": "x",
          "y": "Ambient/Relaxing",
          "yref": "y"
         },
         {
          "font": {
           "color": "#FFFFFF"
          },
          "showarrow": false,
          "text": "652",
          "x": "Ambient/Relaxing",
          "xref": "x",
          "y": "Ambient/Relaxing",
          "yref": "y"
         },
         {
          "font": {
           "color": "#000000"
          },
          "showarrow": false,
          "text": "148",
          "x": "Global/Traditional",
          "xref": "x",
          "y": "Ambient/Relaxing",
          "yref": "y"
         },
         {
          "font": {
           "color": "#000000"
          },
          "showarrow": false,
          "text": "34",
          "x": "Metal/Industrial",
          "xref": "x",
          "y": "Ambient/Relaxing",
          "yref": "y"
         },
         {
          "font": {
           "color": "#000000"
          },
          "showarrow": false,
          "text": "57",
          "x": "Pop/World",
          "xref": "x",
          "y": "Ambient/Relaxing",
          "yref": "y"
         },
         {
          "font": {
           "color": "#000000"
          },
          "showarrow": false,
          "text": "8",
          "x": "Experimental/Electronic",
          "xref": "x",
          "y": "Ambient/Relaxing",
          "yref": "y"
         },
         {
          "font": {
           "color": "#000000"
          },
          "showarrow": false,
          "text": "77",
          "x": "Dance/Electronic",
          "xref": "x",
          "y": "Global/Traditional",
          "yref": "y"
         },
         {
          "font": {
           "color": "#000000"
          },
          "showarrow": false,
          "text": "80",
          "x": "Ambient/Relaxing",
          "xref": "x",
          "y": "Global/Traditional",
          "yref": "y"
         },
         {
          "font": {
           "color": "#FFFFFF"
          },
          "showarrow": false,
          "text": "1222",
          "x": "Global/Traditional",
          "xref": "x",
          "y": "Global/Traditional",
          "yref": "y"
         },
         {
          "font": {
           "color": "#000000"
          },
          "showarrow": false,
          "text": "25",
          "x": "Metal/Industrial",
          "xref": "x",
          "y": "Global/Traditional",
          "yref": "y"
         },
         {
          "font": {
           "color": "#000000"
          },
          "showarrow": false,
          "text": "83",
          "x": "Pop/World",
          "xref": "x",
          "y": "Global/Traditional",
          "yref": "y"
         },
         {
          "font": {
           "color": "#000000"
          },
          "showarrow": false,
          "text": "13",
          "x": "Experimental/Electronic",
          "xref": "x",
          "y": "Global/Traditional",
          "yref": "y"
         },
         {
          "font": {
           "color": "#000000"
          },
          "showarrow": false,
          "text": "74",
          "x": "Dance/Electronic",
          "xref": "x",
          "y": "Metal/Industrial",
          "yref": "y"
         },
         {
          "font": {
           "color": "#000000"
          },
          "showarrow": false,
          "text": "34",
          "x": "Ambient/Relaxing",
          "xref": "x",
          "y": "Metal/Industrial",
          "yref": "y"
         },
         {
          "font": {
           "color": "#000000"
          },
          "showarrow": false,
          "text": "63",
          "x": "Global/Traditional",
          "xref": "x",
          "y": "Metal/Industrial",
          "yref": "y"
         },
         {
          "font": {
           "color": "#000000"
          },
          "showarrow": false,
          "text": "285",
          "x": "Metal/Industrial",
          "xref": "x",
          "y": "Metal/Industrial",
          "yref": "y"
         },
         {
          "font": {
           "color": "#000000"
          },
          "showarrow": false,
          "text": "40",
          "x": "Pop/World",
          "xref": "x",
          "y": "Metal/Industrial",
          "yref": "y"
         },
         {
          "font": {
           "color": "#000000"
          },
          "showarrow": false,
          "text": "4",
          "x": "Experimental/Electronic",
          "xref": "x",
          "y": "Metal/Industrial",
          "yref": "y"
         },
         {
          "font": {
           "color": "#000000"
          },
          "showarrow": false,
          "text": "129",
          "x": "Dance/Electronic",
          "xref": "x",
          "y": "Pop/World",
          "yref": "y"
         },
         {
          "font": {
           "color": "#000000"
          },
          "showarrow": false,
          "text": "37",
          "x": "Ambient/Relaxing",
          "xref": "x",
          "y": "Pop/World",
          "yref": "y"
         },
         {
          "font": {
           "color": "#000000"
          },
          "showarrow": false,
          "text": "255",
          "x": "Global/Traditional",
          "xref": "x",
          "y": "Pop/World",
          "yref": "y"
         },
         {
          "font": {
           "color": "#000000"
          },
          "showarrow": false,
          "text": "29",
          "x": "Metal/Industrial",
          "xref": "x",
          "y": "Pop/World",
          "yref": "y"
         },
         {
          "font": {
           "color": "#000000"
          },
          "showarrow": false,
          "text": "295",
          "x": "Pop/World",
          "xref": "x",
          "y": "Pop/World",
          "yref": "y"
         },
         {
          "font": {
           "color": "#000000"
          },
          "showarrow": false,
          "text": "5",
          "x": "Experimental/Electronic",
          "xref": "x",
          "y": "Pop/World",
          "yref": "y"
         },
         {
          "font": {
           "color": "#000000"
          },
          "showarrow": false,
          "text": "75",
          "x": "Dance/Electronic",
          "xref": "x",
          "y": "Experimental/Electronic",
          "yref": "y"
         },
         {
          "font": {
           "color": "#000000"
          },
          "showarrow": false,
          "text": "59",
          "x": "Ambient/Relaxing",
          "xref": "x",
          "y": "Experimental/Electronic",
          "yref": "y"
         },
         {
          "font": {
           "color": "#000000"
          },
          "showarrow": false,
          "text": "57",
          "x": "Global/Traditional",
          "xref": "x",
          "y": "Experimental/Electronic",
          "yref": "y"
         },
         {
          "font": {
           "color": "#000000"
          },
          "showarrow": false,
          "text": "10",
          "x": "Metal/Industrial",
          "xref": "x",
          "y": "Experimental/Electronic",
          "yref": "y"
         },
         {
          "font": {
           "color": "#000000"
          },
          "showarrow": false,
          "text": "10",
          "x": "Pop/World",
          "xref": "x",
          "y": "Experimental/Electronic",
          "yref": "y"
         },
         {
          "font": {
           "color": "#000000"
          },
          "showarrow": false,
          "text": "39",
          "x": "Experimental/Electronic",
          "xref": "x",
          "y": "Experimental/Electronic",
          "yref": "y"
         }
        ],
        "template": {
         "data": {
          "bar": [
           {
            "error_x": {
             "color": "#2a3f5f"
            },
            "error_y": {
             "color": "#2a3f5f"
            },
            "marker": {
             "line": {
              "color": "#E5ECF6",
              "width": 0.5
             },
             "pattern": {
              "fillmode": "overlay",
              "size": 10,
              "solidity": 0.2
             }
            },
            "type": "bar"
           }
          ],
          "barpolar": [
           {
            "marker": {
             "line": {
              "color": "#E5ECF6",
              "width": 0.5
             },
             "pattern": {
              "fillmode": "overlay",
              "size": 10,
              "solidity": 0.2
             }
            },
            "type": "barpolar"
           }
          ],
          "carpet": [
           {
            "aaxis": {
             "endlinecolor": "#2a3f5f",
             "gridcolor": "white",
             "linecolor": "white",
             "minorgridcolor": "white",
             "startlinecolor": "#2a3f5f"
            },
            "baxis": {
             "endlinecolor": "#2a3f5f",
             "gridcolor": "white",
             "linecolor": "white",
             "minorgridcolor": "white",
             "startlinecolor": "#2a3f5f"
            },
            "type": "carpet"
           }
          ],
          "choropleth": [
           {
            "colorbar": {
             "outlinewidth": 0,
             "ticks": ""
            },
            "type": "choropleth"
           }
          ],
          "contour": [
           {
            "colorbar": {
             "outlinewidth": 0,
             "ticks": ""
            },
            "colorscale": [
             [
              0,
              "#0d0887"
             ],
             [
              0.1111111111111111,
              "#46039f"
             ],
             [
              0.2222222222222222,
              "#7201a8"
             ],
             [
              0.3333333333333333,
              "#9c179e"
             ],
             [
              0.4444444444444444,
              "#bd3786"
             ],
             [
              0.5555555555555556,
              "#d8576b"
             ],
             [
              0.6666666666666666,
              "#ed7953"
             ],
             [
              0.7777777777777778,
              "#fb9f3a"
             ],
             [
              0.8888888888888888,
              "#fdca26"
             ],
             [
              1,
              "#f0f921"
             ]
            ],
            "type": "contour"
           }
          ],
          "contourcarpet": [
           {
            "colorbar": {
             "outlinewidth": 0,
             "ticks": ""
            },
            "type": "contourcarpet"
           }
          ],
          "heatmap": [
           {
            "colorbar": {
             "outlinewidth": 0,
             "ticks": ""
            },
            "colorscale": [
             [
              0,
              "#0d0887"
             ],
             [
              0.1111111111111111,
              "#46039f"
             ],
             [
              0.2222222222222222,
              "#7201a8"
             ],
             [
              0.3333333333333333,
              "#9c179e"
             ],
             [
              0.4444444444444444,
              "#bd3786"
             ],
             [
              0.5555555555555556,
              "#d8576b"
             ],
             [
              0.6666666666666666,
              "#ed7953"
             ],
             [
              0.7777777777777778,
              "#fb9f3a"
             ],
             [
              0.8888888888888888,
              "#fdca26"
             ],
             [
              1,
              "#f0f921"
             ]
            ],
            "type": "heatmap"
           }
          ],
          "heatmapgl": [
           {
            "colorbar": {
             "outlinewidth": 0,
             "ticks": ""
            },
            "colorscale": [
             [
              0,
              "#0d0887"
             ],
             [
              0.1111111111111111,
              "#46039f"
             ],
             [
              0.2222222222222222,
              "#7201a8"
             ],
             [
              0.3333333333333333,
              "#9c179e"
             ],
             [
              0.4444444444444444,
              "#bd3786"
             ],
             [
              0.5555555555555556,
              "#d8576b"
             ],
             [
              0.6666666666666666,
              "#ed7953"
             ],
             [
              0.7777777777777778,
              "#fb9f3a"
             ],
             [
              0.8888888888888888,
              "#fdca26"
             ],
             [
              1,
              "#f0f921"
             ]
            ],
            "type": "heatmapgl"
           }
          ],
          "histogram": [
           {
            "marker": {
             "pattern": {
              "fillmode": "overlay",
              "size": 10,
              "solidity": 0.2
             }
            },
            "type": "histogram"
           }
          ],
          "histogram2d": [
           {
            "colorbar": {
             "outlinewidth": 0,
             "ticks": ""
            },
            "colorscale": [
             [
              0,
              "#0d0887"
             ],
             [
              0.1111111111111111,
              "#46039f"
             ],
             [
              0.2222222222222222,
              "#7201a8"
             ],
             [
              0.3333333333333333,
              "#9c179e"
             ],
             [
              0.4444444444444444,
              "#bd3786"
             ],
             [
              0.5555555555555556,
              "#d8576b"
             ],
             [
              0.6666666666666666,
              "#ed7953"
             ],
             [
              0.7777777777777778,
              "#fb9f3a"
             ],
             [
              0.8888888888888888,
              "#fdca26"
             ],
             [
              1,
              "#f0f921"
             ]
            ],
            "type": "histogram2d"
           }
          ],
          "histogram2dcontour": [
           {
            "colorbar": {
             "outlinewidth": 0,
             "ticks": ""
            },
            "colorscale": [
             [
              0,
              "#0d0887"
             ],
             [
              0.1111111111111111,
              "#46039f"
             ],
             [
              0.2222222222222222,
              "#7201a8"
             ],
             [
              0.3333333333333333,
              "#9c179e"
             ],
             [
              0.4444444444444444,
              "#bd3786"
             ],
             [
              0.5555555555555556,
              "#d8576b"
             ],
             [
              0.6666666666666666,
              "#ed7953"
             ],
             [
              0.7777777777777778,
              "#fb9f3a"
             ],
             [
              0.8888888888888888,
              "#fdca26"
             ],
             [
              1,
              "#f0f921"
             ]
            ],
            "type": "histogram2dcontour"
           }
          ],
          "mesh3d": [
           {
            "colorbar": {
             "outlinewidth": 0,
             "ticks": ""
            },
            "type": "mesh3d"
           }
          ],
          "parcoords": [
           {
            "line": {
             "colorbar": {
              "outlinewidth": 0,
              "ticks": ""
             }
            },
            "type": "parcoords"
           }
          ],
          "pie": [
           {
            "automargin": true,
            "type": "pie"
           }
          ],
          "scatter": [
           {
            "fillpattern": {
             "fillmode": "overlay",
             "size": 10,
             "solidity": 0.2
            },
            "type": "scatter"
           }
          ],
          "scatter3d": [
           {
            "line": {
             "colorbar": {
              "outlinewidth": 0,
              "ticks": ""
             }
            },
            "marker": {
             "colorbar": {
              "outlinewidth": 0,
              "ticks": ""
             }
            },
            "type": "scatter3d"
           }
          ],
          "scattercarpet": [
           {
            "marker": {
             "colorbar": {
              "outlinewidth": 0,
              "ticks": ""
             }
            },
            "type": "scattercarpet"
           }
          ],
          "scattergeo": [
           {
            "marker": {
             "colorbar": {
              "outlinewidth": 0,
              "ticks": ""
             }
            },
            "type": "scattergeo"
           }
          ],
          "scattergl": [
           {
            "marker": {
             "colorbar": {
              "outlinewidth": 0,
              "ticks": ""
             }
            },
            "type": "scattergl"
           }
          ],
          "scattermapbox": [
           {
            "marker": {
             "colorbar": {
              "outlinewidth": 0,
              "ticks": ""
             }
            },
            "type": "scattermapbox"
           }
          ],
          "scatterpolar": [
           {
            "marker": {
             "colorbar": {
              "outlinewidth": 0,
              "ticks": ""
             }
            },
            "type": "scatterpolar"
           }
          ],
          "scatterpolargl": [
           {
            "marker": {
             "colorbar": {
              "outlinewidth": 0,
              "ticks": ""
             }
            },
            "type": "scatterpolargl"
           }
          ],
          "scatterternary": [
           {
            "marker": {
             "colorbar": {
              "outlinewidth": 0,
              "ticks": ""
             }
            },
            "type": "scatterternary"
           }
          ],
          "surface": [
           {
            "colorbar": {
             "outlinewidth": 0,
             "ticks": ""
            },
            "colorscale": [
             [
              0,
              "#0d0887"
             ],
             [
              0.1111111111111111,
              "#46039f"
             ],
             [
              0.2222222222222222,
              "#7201a8"
             ],
             [
              0.3333333333333333,
              "#9c179e"
             ],
             [
              0.4444444444444444,
              "#bd3786"
             ],
             [
              0.5555555555555556,
              "#d8576b"
             ],
             [
              0.6666666666666666,
              "#ed7953"
             ],
             [
              0.7777777777777778,
              "#fb9f3a"
             ],
             [
              0.8888888888888888,
              "#fdca26"
             ],
             [
              1,
              "#f0f921"
             ]
            ],
            "type": "surface"
           }
          ],
          "table": [
           {
            "cells": {
             "fill": {
              "color": "#EBF0F8"
             },
             "line": {
              "color": "white"
             }
            },
            "header": {
             "fill": {
              "color": "#C8D4E3"
             },
             "line": {
              "color": "white"
             }
            },
            "type": "table"
           }
          ]
         },
         "layout": {
          "annotationdefaults": {
           "arrowcolor": "#2a3f5f",
           "arrowhead": 0,
           "arrowwidth": 1
          },
          "autotypenumbers": "strict",
          "coloraxis": {
           "colorbar": {
            "outlinewidth": 0,
            "ticks": ""
           }
          },
          "colorscale": {
           "diverging": [
            [
             0,
             "#8e0152"
            ],
            [
             0.1,
             "#c51b7d"
            ],
            [
             0.2,
             "#de77ae"
            ],
            [
             0.3,
             "#f1b6da"
            ],
            [
             0.4,
             "#fde0ef"
            ],
            [
             0.5,
             "#f7f7f7"
            ],
            [
             0.6,
             "#e6f5d0"
            ],
            [
             0.7,
             "#b8e186"
            ],
            [
             0.8,
             "#7fbc41"
            ],
            [
             0.9,
             "#4d9221"
            ],
            [
             1,
             "#276419"
            ]
           ],
           "sequential": [
            [
             0,
             "#0d0887"
            ],
            [
             0.1111111111111111,
             "#46039f"
            ],
            [
             0.2222222222222222,
             "#7201a8"
            ],
            [
             0.3333333333333333,
             "#9c179e"
            ],
            [
             0.4444444444444444,
             "#bd3786"
            ],
            [
             0.5555555555555556,
             "#d8576b"
            ],
            [
             0.6666666666666666,
             "#ed7953"
            ],
            [
             0.7777777777777778,
             "#fb9f3a"
            ],
            [
             0.8888888888888888,
             "#fdca26"
            ],
            [
             1,
             "#f0f921"
            ]
           ],
           "sequentialminus": [
            [
             0,
             "#0d0887"
            ],
            [
             0.1111111111111111,
             "#46039f"
            ],
            [
             0.2222222222222222,
             "#7201a8"
            ],
            [
             0.3333333333333333,
             "#9c179e"
            ],
            [
             0.4444444444444444,
             "#bd3786"
            ],
            [
             0.5555555555555556,
             "#d8576b"
            ],
            [
             0.6666666666666666,
             "#ed7953"
            ],
            [
             0.7777777777777778,
             "#fb9f3a"
            ],
            [
             0.8888888888888888,
             "#fdca26"
            ],
            [
             1,
             "#f0f921"
            ]
           ]
          },
          "colorway": [
           "#636efa",
           "#EF553B",
           "#00cc96",
           "#ab63fa",
           "#FFA15A",
           "#19d3f3",
           "#FF6692",
           "#B6E880",
           "#FF97FF",
           "#FECB52"
          ],
          "font": {
           "color": "#2a3f5f"
          },
          "geo": {
           "bgcolor": "white",
           "lakecolor": "white",
           "landcolor": "#E5ECF6",
           "showlakes": true,
           "showland": true,
           "subunitcolor": "white"
          },
          "hoverlabel": {
           "align": "left"
          },
          "hovermode": "closest",
          "mapbox": {
           "style": "light"
          },
          "paper_bgcolor": "white",
          "plot_bgcolor": "#E5ECF6",
          "polar": {
           "angularaxis": {
            "gridcolor": "white",
            "linecolor": "white",
            "ticks": ""
           },
           "bgcolor": "#E5ECF6",
           "radialaxis": {
            "gridcolor": "white",
            "linecolor": "white",
            "ticks": ""
           }
          },
          "scene": {
           "xaxis": {
            "backgroundcolor": "#E5ECF6",
            "gridcolor": "white",
            "gridwidth": 2,
            "linecolor": "white",
            "showbackground": true,
            "ticks": "",
            "zerolinecolor": "white"
           },
           "yaxis": {
            "backgroundcolor": "#E5ECF6",
            "gridcolor": "white",
            "gridwidth": 2,
            "linecolor": "white",
            "showbackground": true,
            "ticks": "",
            "zerolinecolor": "white"
           },
           "zaxis": {
            "backgroundcolor": "#E5ECF6",
            "gridcolor": "white",
            "gridwidth": 2,
            "linecolor": "white",
            "showbackground": true,
            "ticks": "",
            "zerolinecolor": "white"
           }
          },
          "shapedefaults": {
           "line": {
            "color": "#2a3f5f"
           }
          },
          "ternary": {
           "aaxis": {
            "gridcolor": "white",
            "linecolor": "white",
            "ticks": ""
           },
           "baxis": {
            "gridcolor": "white",
            "linecolor": "white",
            "ticks": ""
           },
           "bgcolor": "#E5ECF6",
           "caxis": {
            "gridcolor": "white",
            "linecolor": "white",
            "ticks": ""
           }
          },
          "title": {
           "x": 0.05
          },
          "xaxis": {
           "automargin": true,
           "gridcolor": "white",
           "linecolor": "white",
           "ticks": "",
           "title": {
            "standoff": 15
           },
           "zerolinecolor": "white",
           "zerolinewidth": 2
          },
          "yaxis": {
           "automargin": true,
           "gridcolor": "white",
           "linecolor": "white",
           "ticks": "",
           "title": {
            "standoff": 15
           },
           "zerolinecolor": "white",
           "zerolinewidth": 2
          }
         }
        },
        "title": {
         "text": "Confusion Matrix",
         "x": 0.5
        },
        "xaxis": {
         "dtick": 1,
         "gridcolor": "rgb(0, 0, 0)",
         "side": "top",
         "tickangle": 45,
         "ticks": "",
         "title": {
          "text": "Predicted Labels"
         }
        },
        "yaxis": {
         "autorange": "reversed",
         "dtick": 1,
         "tickmode": "array",
         "ticks": "",
         "ticksuffix": "  ",
         "ticktext": [
          "Dance/Electronic",
          "Ambient/Relaxing",
          "Global/Traditional",
          "Metal/Industrial",
          "Pop/World",
          "Experimental/Electronic"
         ],
         "tickvals": [
          0,
          1,
          2,
          3,
          4,
          5
         ],
         "title": {
          "text": "True Labels"
         }
        }
       }
      }
     },
     "metadata": {},
     "output_type": "display_data"
    }
   ],
   "source": []
  },
  {
   "cell_type": "code",
   "execution_count": null,
   "metadata": {},
   "outputs": [
    {
     "ename": "ValueError",
     "evalue": "\n    Invalid value of type 'builtins.str' received for the 'color' property of scatter.line\n        Received value: 'transparent'\n\n    The 'color' property is a color and may be specified as:\n      - A hex string (e.g. '#ff0000')\n      - An rgb/rgba string (e.g. 'rgb(255,0,0)')\n      - An hsl/hsla string (e.g. 'hsl(0,100%,50%)')\n      - An hsv/hsva string (e.g. 'hsv(0,100%,100%)')\n      - A named CSS color:\n            aliceblue, antiquewhite, aqua, aquamarine, azure,\n            beige, bisque, black, blanchedalmond, blue,\n            blueviolet, brown, burlywood, cadetblue,\n            chartreuse, chocolate, coral, cornflowerblue,\n            cornsilk, crimson, cyan, darkblue, darkcyan,\n            darkgoldenrod, darkgray, darkgrey, darkgreen,\n            darkkhaki, darkmagenta, darkolivegreen, darkorange,\n            darkorchid, darkred, darksalmon, darkseagreen,\n            darkslateblue, darkslategray, darkslategrey,\n            darkturquoise, darkviolet, deeppink, deepskyblue,\n            dimgray, dimgrey, dodgerblue, firebrick,\n            floralwhite, forestgreen, fuchsia, gainsboro,\n            ghostwhite, gold, goldenrod, gray, grey, green,\n            greenyellow, honeydew, hotpink, indianred, indigo,\n            ivory, khaki, lavender, lavenderblush, lawngreen,\n            lemonchiffon, lightblue, lightcoral, lightcyan,\n            lightgoldenrodyellow, lightgray, lightgrey,\n            lightgreen, lightpink, lightsalmon, lightseagreen,\n            lightskyblue, lightslategray, lightslategrey,\n            lightsteelblue, lightyellow, lime, limegreen,\n            linen, magenta, maroon, mediumaquamarine,\n            mediumblue, mediumorchid, mediumpurple,\n            mediumseagreen, mediumslateblue, mediumspringgreen,\n            mediumturquoise, mediumvioletred, midnightblue,\n            mintcream, mistyrose, moccasin, navajowhite, navy,\n            oldlace, olive, olivedrab, orange, orangered,\n            orchid, palegoldenrod, palegreen, paleturquoise,\n            palevioletred, papayawhip, peachpuff, peru, pink,\n            plum, powderblue, purple, red, rosybrown,\n            royalblue, rebeccapurple, saddlebrown, salmon,\n            sandybrown, seagreen, seashell, sienna, silver,\n            skyblue, slateblue, slategray, slategrey, snow,\n            springgreen, steelblue, tan, teal, thistle, tomato,\n            turquoise, violet, wheat, white, whitesmoke,\n            yellow, yellowgreen",
     "output_type": "error",
     "traceback": [
      "\u001b[0;31m---------------------------------------------------------------------------\u001b[0m\n",
      "\u001b[0;31mValueError\u001b[0m                                Traceback (most recent call last)\n",
      "\u001b[1;32m/Users/francescocapria/Library/CloudStorage/OneDrive-UniversityofPisa/progetto-data-mining/data_mining_project/frank_analyses/k-nn/k-nn_classifier_test.ipynb Cella 9\u001b[0m line \u001b[0;36m3\n",
      "\u001b[1;32m     <a href='vscode-notebook-cell:/Users/francescocapria/Library/CloudStorage/OneDrive-UniversityofPisa/progetto-data-mining/data_mining_project/frank_analyses/k-nn/k-nn_classifier_test.ipynb#X11sZmlsZQ%3D%3D?line=28'>29</a>\u001b[0m fig\u001b[39m.\u001b[39madd_trace(go\u001b[39m.\u001b[39mScatter(\n",
      "\u001b[1;32m     <a href='vscode-notebook-cell:/Users/francescocapria/Library/CloudStorage/OneDrive-UniversityofPisa/progetto-data-mining/data_mining_project/frank_analyses/k-nn/k-nn_classifier_test.ipynb#X11sZmlsZQ%3D%3D?line=29'>30</a>\u001b[0m     x\u001b[39m=\u001b[39mtrain_sizes, \n",
      "\u001b[1;32m     <a href='vscode-notebook-cell:/Users/francescocapria/Library/CloudStorage/OneDrive-UniversityofPisa/progetto-data-mining/data_mining_project/frank_analyses/k-nn/k-nn_classifier_test.ipynb#X11sZmlsZQ%3D%3D?line=30'>31</a>\u001b[0m     y\u001b[39m=\u001b[39mtrain_scores_mean, \n",
      "\u001b[0;32m   (...)\u001b[0m\n",
      "\u001b[1;32m     <a href='vscode-notebook-cell:/Users/francescocapria/Library/CloudStorage/OneDrive-UniversityofPisa/progetto-data-mining/data_mining_project/frank_analyses/k-nn/k-nn_classifier_test.ipynb#X11sZmlsZQ%3D%3D?line=33'>34</a>\u001b[0m     line\u001b[39m=\u001b[39m\u001b[39mdict\u001b[39m(color\u001b[39m=\u001b[39m\u001b[39m'\u001b[39m\u001b[39mblue\u001b[39m\u001b[39m'\u001b[39m)\n",
      "\u001b[1;32m     <a href='vscode-notebook-cell:/Users/francescocapria/Library/CloudStorage/OneDrive-UniversityofPisa/progetto-data-mining/data_mining_project/frank_analyses/k-nn/k-nn_classifier_test.ipynb#X11sZmlsZQ%3D%3D?line=34'>35</a>\u001b[0m ))\n",
      "\u001b[1;32m     <a href='vscode-notebook-cell:/Users/francescocapria/Library/CloudStorage/OneDrive-UniversityofPisa/progetto-data-mining/data_mining_project/frank_analyses/k-nn/k-nn_classifier_test.ipynb#X11sZmlsZQ%3D%3D?line=36'>37</a>\u001b[0m \u001b[39m# Aggiunta delle bande di confidenza per il training\u001b[39;00m\n",
      "\u001b[0;32m---> <a href='vscode-notebook-cell:/Users/francescocapria/Library/CloudStorage/OneDrive-UniversityofPisa/progetto-data-mining/data_mining_project/frank_analyses/k-nn/k-nn_classifier_test.ipynb#X11sZmlsZQ%3D%3D?line=37'>38</a>\u001b[0m fig\u001b[39m.\u001b[39madd_trace(go\u001b[39m.\u001b[39;49mScatter(\n",
      "\u001b[1;32m     <a href='vscode-notebook-cell:/Users/francescocapria/Library/CloudStorage/OneDrive-UniversityofPisa/progetto-data-mining/data_mining_project/frank_analyses/k-nn/k-nn_classifier_test.ipynb#X11sZmlsZQ%3D%3D?line=38'>39</a>\u001b[0m     x\u001b[39m=\u001b[39;49mnp\u001b[39m.\u001b[39;49mconcatenate([train_sizes, train_sizes[::\u001b[39m-\u001b[39;49m\u001b[39m1\u001b[39;49m]]),\n",
      "\u001b[1;32m     <a href='vscode-notebook-cell:/Users/francescocapria/Library/CloudStorage/OneDrive-UniversityofPisa/progetto-data-mining/data_mining_project/frank_analyses/k-nn/k-nn_classifier_test.ipynb#X11sZmlsZQ%3D%3D?line=39'>40</a>\u001b[0m     y\u001b[39m=\u001b[39;49mnp\u001b[39m.\u001b[39;49mconcatenate([train_scores_mean \u001b[39m-\u001b[39;49m train_scores_std,\n",
      "\u001b[1;32m     <a href='vscode-notebook-cell:/Users/francescocapria/Library/CloudStorage/OneDrive-UniversityofPisa/progetto-data-mining/data_mining_project/frank_analyses/k-nn/k-nn_classifier_test.ipynb#X11sZmlsZQ%3D%3D?line=40'>41</a>\u001b[0m                       (train_scores_mean \u001b[39m+\u001b[39;49m train_scores_std)[::\u001b[39m-\u001b[39;49m\u001b[39m1\u001b[39;49m]]),\n",
      "\u001b[1;32m     <a href='vscode-notebook-cell:/Users/francescocapria/Library/CloudStorage/OneDrive-UniversityofPisa/progetto-data-mining/data_mining_project/frank_analyses/k-nn/k-nn_classifier_test.ipynb#X11sZmlsZQ%3D%3D?line=41'>42</a>\u001b[0m     fill\u001b[39m=\u001b[39;49m\u001b[39m'\u001b[39;49m\u001b[39mtoself\u001b[39;49m\u001b[39m'\u001b[39;49m,\n",
      "\u001b[1;32m     <a href='vscode-notebook-cell:/Users/francescocapria/Library/CloudStorage/OneDrive-UniversityofPisa/progetto-data-mining/data_mining_project/frank_analyses/k-nn/k-nn_classifier_test.ipynb#X11sZmlsZQ%3D%3D?line=42'>43</a>\u001b[0m     fillcolor\u001b[39m=\u001b[39;49m\u001b[39m'\u001b[39;49m\u001b[39mrgba(0,0,255,0.2)\u001b[39;49m\u001b[39m'\u001b[39;49m,\n",
      "\u001b[1;32m     <a href='vscode-notebook-cell:/Users/francescocapria/Library/CloudStorage/OneDrive-UniversityofPisa/progetto-data-mining/data_mining_project/frank_analyses/k-nn/k-nn_classifier_test.ipynb#X11sZmlsZQ%3D%3D?line=43'>44</a>\u001b[0m     line\u001b[39m=\u001b[39;49m\u001b[39mdict\u001b[39;49m(color\u001b[39m=\u001b[39;49m\u001b[39m'\u001b[39;49m\u001b[39mtransparent\u001b[39;49m\u001b[39m'\u001b[39;49m),\n",
      "\u001b[1;32m     <a href='vscode-notebook-cell:/Users/francescocapria/Library/CloudStorage/OneDrive-UniversityofPisa/progetto-data-mining/data_mining_project/frank_analyses/k-nn/k-nn_classifier_test.ipynb#X11sZmlsZQ%3D%3D?line=44'>45</a>\u001b[0m     showlegend\u001b[39m=\u001b[39;49m\u001b[39mFalse\u001b[39;49;00m,\n",
      "\u001b[1;32m     <a href='vscode-notebook-cell:/Users/francescocapria/Library/CloudStorage/OneDrive-UniversityofPisa/progetto-data-mining/data_mining_project/frank_analyses/k-nn/k-nn_classifier_test.ipynb#X11sZmlsZQ%3D%3D?line=45'>46</a>\u001b[0m     name\u001b[39m=\u001b[39;49m\u001b[39m'\u001b[39;49m\u001b[39mTraining Confidence\u001b[39;49m\u001b[39m'\u001b[39;49m\n",
      "\u001b[1;32m     <a href='vscode-notebook-cell:/Users/francescocapria/Library/CloudStorage/OneDrive-UniversityofPisa/progetto-data-mining/data_mining_project/frank_analyses/k-nn/k-nn_classifier_test.ipynb#X11sZmlsZQ%3D%3D?line=46'>47</a>\u001b[0m ))\n",
      "\u001b[1;32m     <a href='vscode-notebook-cell:/Users/francescocapria/Library/CloudStorage/OneDrive-UniversityofPisa/progetto-data-mining/data_mining_project/frank_analyses/k-nn/k-nn_classifier_test.ipynb#X11sZmlsZQ%3D%3D?line=48'>49</a>\u001b[0m \u001b[39m# Aggiunta della linea per l'accuratezza di test\u001b[39;00m\n",
      "\u001b[1;32m     <a href='vscode-notebook-cell:/Users/francescocapria/Library/CloudStorage/OneDrive-UniversityofPisa/progetto-data-mining/data_mining_project/frank_analyses/k-nn/k-nn_classifier_test.ipynb#X11sZmlsZQ%3D%3D?line=49'>50</a>\u001b[0m fig\u001b[39m.\u001b[39madd_trace(go\u001b[39m.\u001b[39mScatter(\n",
      "\u001b[1;32m     <a href='vscode-notebook-cell:/Users/francescocapria/Library/CloudStorage/OneDrive-UniversityofPisa/progetto-data-mining/data_mining_project/frank_analyses/k-nn/k-nn_classifier_test.ipynb#X11sZmlsZQ%3D%3D?line=50'>51</a>\u001b[0m     x\u001b[39m=\u001b[39mtrain_sizes, \n",
      "\u001b[1;32m     <a href='vscode-notebook-cell:/Users/francescocapria/Library/CloudStorage/OneDrive-UniversityofPisa/progetto-data-mining/data_mining_project/frank_analyses/k-nn/k-nn_classifier_test.ipynb#X11sZmlsZQ%3D%3D?line=51'>52</a>\u001b[0m     y\u001b[39m=\u001b[39mtest_scores_mean, \n",
      "\u001b[0;32m   (...)\u001b[0m\n",
      "\u001b[1;32m     <a href='vscode-notebook-cell:/Users/francescocapria/Library/CloudStorage/OneDrive-UniversityofPisa/progetto-data-mining/data_mining_project/frank_analyses/k-nn/k-nn_classifier_test.ipynb#X11sZmlsZQ%3D%3D?line=54'>55</a>\u001b[0m     line\u001b[39m=\u001b[39m\u001b[39mdict\u001b[39m(color\u001b[39m=\u001b[39m\u001b[39m'\u001b[39m\u001b[39mgreen\u001b[39m\u001b[39m'\u001b[39m)\n",
      "\u001b[1;32m     <a href='vscode-notebook-cell:/Users/francescocapria/Library/CloudStorage/OneDrive-UniversityofPisa/progetto-data-mining/data_mining_project/frank_analyses/k-nn/k-nn_classifier_test.ipynb#X11sZmlsZQ%3D%3D?line=55'>56</a>\u001b[0m ))\n",
      "\n",
      "File \u001b[0;32m~/opt/anaconda3/lib/python3.9/site-packages/plotly/graph_objs/_scatter.py:3192\u001b[0m, in \u001b[0;36mScatter.__init__\u001b[0;34m(self, arg, cliponaxis, connectgaps, customdata, customdatasrc, dx, dy, error_x, error_y, fill, fillcolor, fillpattern, groupnorm, hoverinfo, hoverinfosrc, hoverlabel, hoveron, hovertemplate, hovertemplatesrc, hovertext, hovertextsrc, ids, idssrc, legendgroup, legendgrouptitle, legendrank, line, marker, meta, metasrc, mode, name, opacity, orientation, selected, selectedpoints, showlegend, stackgaps, stackgroup, stream, text, textfont, textposition, textpositionsrc, textsrc, texttemplate, texttemplatesrc, uid, uirevision, unselected, visible, x, x0, xaxis, xcalendar, xhoverformat, xperiod, xperiod0, xperiodalignment, xsrc, y, y0, yaxis, ycalendar, yhoverformat, yperiod, yperiod0, yperiodalignment, ysrc, **kwargs)\u001b[0m\n",
      "\u001b[1;32m   3190\u001b[0m _v \u001b[39m=\u001b[39m line \u001b[39mif\u001b[39;00m line \u001b[39mis\u001b[39;00m \u001b[39mnot\u001b[39;00m \u001b[39mNone\u001b[39;00m \u001b[39melse\u001b[39;00m _v\n",
      "\u001b[1;32m   3191\u001b[0m \u001b[39mif\u001b[39;00m _v \u001b[39mis\u001b[39;00m \u001b[39mnot\u001b[39;00m \u001b[39mNone\u001b[39;00m:\n",
      "\u001b[0;32m-> 3192\u001b[0m     \u001b[39mself\u001b[39m[\u001b[39m\"\u001b[39m\u001b[39mline\u001b[39m\u001b[39m\"\u001b[39m] \u001b[39m=\u001b[39m _v\n",
      "\u001b[1;32m   3193\u001b[0m _v \u001b[39m=\u001b[39m arg\u001b[39m.\u001b[39mpop(\u001b[39m\"\u001b[39m\u001b[39mmarker\u001b[39m\u001b[39m\"\u001b[39m, \u001b[39mNone\u001b[39;00m)\n",
      "\u001b[1;32m   3194\u001b[0m _v \u001b[39m=\u001b[39m marker \u001b[39mif\u001b[39;00m marker \u001b[39mis\u001b[39;00m \u001b[39mnot\u001b[39;00m \u001b[39mNone\u001b[39;00m \u001b[39melse\u001b[39;00m _v\n",
      "\n",
      "File \u001b[0;32m~/opt/anaconda3/lib/python3.9/site-packages/plotly/basedatatypes.py:4851\u001b[0m, in \u001b[0;36mBasePlotlyType.__setitem__\u001b[0;34m(self, prop, value)\u001b[0m\n",
      "\u001b[1;32m   4849\u001b[0m \u001b[39m# ### Handle compound property ###\u001b[39;00m\n",
      "\u001b[1;32m   4850\u001b[0m \u001b[39mif\u001b[39;00m \u001b[39misinstance\u001b[39m(validator, CompoundValidator):\n",
      "\u001b[0;32m-> 4851\u001b[0m     \u001b[39mself\u001b[39;49m\u001b[39m.\u001b[39;49m_set_compound_prop(prop, value)\n",
      "\u001b[1;32m   4853\u001b[0m \u001b[39m# ### Handle compound array property ###\u001b[39;00m\n",
      "\u001b[1;32m   4854\u001b[0m \u001b[39melif\u001b[39;00m \u001b[39misinstance\u001b[39m(validator, (CompoundArrayValidator, BaseDataValidator)):\n",
      "\n",
      "File \u001b[0;32m~/opt/anaconda3/lib/python3.9/site-packages/plotly/basedatatypes.py:5262\u001b[0m, in \u001b[0;36mBasePlotlyType._set_compound_prop\u001b[0;34m(self, prop, val)\u001b[0m\n",
      "\u001b[1;32m   5259\u001b[0m \u001b[39m# Import value\u001b[39;00m\n",
      "\u001b[1;32m   5260\u001b[0m \u001b[39m# ------------\u001b[39;00m\n",
      "\u001b[1;32m   5261\u001b[0m validator \u001b[39m=\u001b[39m \u001b[39mself\u001b[39m\u001b[39m.\u001b[39m_get_validator(prop)\n",
      "\u001b[0;32m-> 5262\u001b[0m val \u001b[39m=\u001b[39m validator\u001b[39m.\u001b[39;49mvalidate_coerce(val, skip_invalid\u001b[39m=\u001b[39;49m\u001b[39mself\u001b[39;49m\u001b[39m.\u001b[39;49m_skip_invalid)\n",
      "\u001b[1;32m   5264\u001b[0m \u001b[39m# Save deep copies of current and new states\u001b[39;00m\n",
      "\u001b[1;32m   5265\u001b[0m \u001b[39m# ------------------------------------------\u001b[39;00m\n",
      "\u001b[1;32m   5266\u001b[0m curr_val \u001b[39m=\u001b[39m \u001b[39mself\u001b[39m\u001b[39m.\u001b[39m_compound_props\u001b[39m.\u001b[39mget(prop, \u001b[39mNone\u001b[39;00m)\n",
      "\n",
      "File \u001b[0;32m~/opt/anaconda3/lib/python3.9/site-packages/_plotly_utils/basevalidators.py:2455\u001b[0m, in \u001b[0;36mCompoundValidator.validate_coerce\u001b[0;34m(self, v, skip_invalid, _validate)\u001b[0m\n",
      "\u001b[1;32m   2452\u001b[0m     v \u001b[39m=\u001b[39m \u001b[39mself\u001b[39m\u001b[39m.\u001b[39mdata_class()\n",
      "\u001b[1;32m   2454\u001b[0m \u001b[39melif\u001b[39;00m \u001b[39misinstance\u001b[39m(v, \u001b[39mdict\u001b[39m):\n",
      "\u001b[0;32m-> 2455\u001b[0m     v \u001b[39m=\u001b[39m \u001b[39mself\u001b[39;49m\u001b[39m.\u001b[39;49mdata_class(v, skip_invalid\u001b[39m=\u001b[39;49mskip_invalid, _validate\u001b[39m=\u001b[39;49m_validate)\n",
      "\u001b[1;32m   2457\u001b[0m \u001b[39melif\u001b[39;00m \u001b[39misinstance\u001b[39m(v, \u001b[39mself\u001b[39m\u001b[39m.\u001b[39mdata_class):\n",
      "\u001b[1;32m   2458\u001b[0m     \u001b[39m# Copy object\u001b[39;00m\n",
      "\u001b[1;32m   2459\u001b[0m     v \u001b[39m=\u001b[39m \u001b[39mself\u001b[39m\u001b[39m.\u001b[39mdata_class(v)\n",
      "\n",
      "File \u001b[0;32m~/opt/anaconda3/lib/python3.9/site-packages/plotly/graph_objs/scatter/_line.py:293\u001b[0m, in \u001b[0;36mLine.__init__\u001b[0;34m(self, arg, color, dash, shape, simplify, smoothing, width, **kwargs)\u001b[0m\n",
      "\u001b[1;32m    291\u001b[0m _v \u001b[39m=\u001b[39m color \u001b[39mif\u001b[39;00m color \u001b[39mis\u001b[39;00m \u001b[39mnot\u001b[39;00m \u001b[39mNone\u001b[39;00m \u001b[39melse\u001b[39;00m _v\n",
      "\u001b[1;32m    292\u001b[0m \u001b[39mif\u001b[39;00m _v \u001b[39mis\u001b[39;00m \u001b[39mnot\u001b[39;00m \u001b[39mNone\u001b[39;00m:\n",
      "\u001b[0;32m--> 293\u001b[0m     \u001b[39mself\u001b[39m[\u001b[39m\"\u001b[39m\u001b[39mcolor\u001b[39m\u001b[39m\"\u001b[39m] \u001b[39m=\u001b[39m _v\n",
      "\u001b[1;32m    294\u001b[0m _v \u001b[39m=\u001b[39m arg\u001b[39m.\u001b[39mpop(\u001b[39m\"\u001b[39m\u001b[39mdash\u001b[39m\u001b[39m\"\u001b[39m, \u001b[39mNone\u001b[39;00m)\n",
      "\u001b[1;32m    295\u001b[0m _v \u001b[39m=\u001b[39m dash \u001b[39mif\u001b[39;00m dash \u001b[39mis\u001b[39;00m \u001b[39mnot\u001b[39;00m \u001b[39mNone\u001b[39;00m \u001b[39melse\u001b[39;00m _v\n",
      "\n",
      "File \u001b[0;32m~/opt/anaconda3/lib/python3.9/site-packages/plotly/basedatatypes.py:4859\u001b[0m, in \u001b[0;36mBasePlotlyType.__setitem__\u001b[0;34m(self, prop, value)\u001b[0m\n",
      "\u001b[1;32m   4855\u001b[0m         \u001b[39mself\u001b[39m\u001b[39m.\u001b[39m_set_array_prop(prop, value)\n",
      "\u001b[1;32m   4857\u001b[0m     \u001b[39m# ### Handle simple property ###\u001b[39;00m\n",
      "\u001b[1;32m   4858\u001b[0m     \u001b[39melse\u001b[39;00m:\n",
      "\u001b[0;32m-> 4859\u001b[0m         \u001b[39mself\u001b[39;49m\u001b[39m.\u001b[39;49m_set_prop(prop, value)\n",
      "\u001b[1;32m   4860\u001b[0m \u001b[39melse\u001b[39;00m:\n",
      "\u001b[1;32m   4861\u001b[0m     \u001b[39m# Make sure properties dict is initialized\u001b[39;00m\n",
      "\u001b[1;32m   4862\u001b[0m     \u001b[39mself\u001b[39m\u001b[39m.\u001b[39m_init_props()\n",
      "\n",
      "File \u001b[0;32m~/opt/anaconda3/lib/python3.9/site-packages/plotly/basedatatypes.py:5203\u001b[0m, in \u001b[0;36mBasePlotlyType._set_prop\u001b[0;34m(self, prop, val)\u001b[0m\n",
      "\u001b[1;32m   5201\u001b[0m         \u001b[39mreturn\u001b[39;00m\n",
      "\u001b[1;32m   5202\u001b[0m     \u001b[39melse\u001b[39;00m:\n",
      "\u001b[0;32m-> 5203\u001b[0m         \u001b[39mraise\u001b[39;00m err\n",
      "\u001b[1;32m   5205\u001b[0m \u001b[39m# val is None\u001b[39;00m\n",
      "\u001b[1;32m   5206\u001b[0m \u001b[39m# -----------\u001b[39;00m\n",
      "\u001b[1;32m   5207\u001b[0m \u001b[39mif\u001b[39;00m val \u001b[39mis\u001b[39;00m \u001b[39mNone\u001b[39;00m:\n",
      "\u001b[1;32m   5208\u001b[0m     \u001b[39m# Check if we should send null update\u001b[39;00m\n",
      "\n",
      "File \u001b[0;32m~/opt/anaconda3/lib/python3.9/site-packages/plotly/basedatatypes.py:5198\u001b[0m, in \u001b[0;36mBasePlotlyType._set_prop\u001b[0;34m(self, prop, val)\u001b[0m\n",
      "\u001b[1;32m   5195\u001b[0m validator \u001b[39m=\u001b[39m \u001b[39mself\u001b[39m\u001b[39m.\u001b[39m_get_validator(prop)\n",
      "\u001b[1;32m   5197\u001b[0m \u001b[39mtry\u001b[39;00m:\n",
      "\u001b[0;32m-> 5198\u001b[0m     val \u001b[39m=\u001b[39m validator\u001b[39m.\u001b[39;49mvalidate_coerce(val)\n",
      "\u001b[1;32m   5199\u001b[0m \u001b[39mexcept\u001b[39;00m \u001b[39mValueError\u001b[39;00m \u001b[39mas\u001b[39;00m err:\n",
      "\u001b[1;32m   5200\u001b[0m     \u001b[39mif\u001b[39;00m \u001b[39mself\u001b[39m\u001b[39m.\u001b[39m_skip_invalid:\n",
      "\n",
      "File \u001b[0;32m~/opt/anaconda3/lib/python3.9/site-packages/_plotly_utils/basevalidators.py:1375\u001b[0m, in \u001b[0;36mColorValidator.validate_coerce\u001b[0;34m(self, v, should_raise)\u001b[0m\n",
      "\u001b[1;32m   1373\u001b[0m     validated_v \u001b[39m=\u001b[39m \u001b[39mself\u001b[39m\u001b[39m.\u001b[39mvc_scalar(v)\n",
      "\u001b[1;32m   1374\u001b[0m     \u001b[39mif\u001b[39;00m validated_v \u001b[39mis\u001b[39;00m \u001b[39mNone\u001b[39;00m \u001b[39mand\u001b[39;00m should_raise:\n",
      "\u001b[0;32m-> 1375\u001b[0m         \u001b[39mself\u001b[39;49m\u001b[39m.\u001b[39;49mraise_invalid_val(v)\n",
      "\u001b[1;32m   1377\u001b[0m     v \u001b[39m=\u001b[39m validated_v\n",
      "\u001b[1;32m   1379\u001b[0m \u001b[39mreturn\u001b[39;00m v\n",
      "\n",
      "File \u001b[0;32m~/opt/anaconda3/lib/python3.9/site-packages/_plotly_utils/basevalidators.py:288\u001b[0m, in \u001b[0;36mBaseValidator.raise_invalid_val\u001b[0;34m(self, v, inds)\u001b[0m\n",
      "\u001b[1;32m    285\u001b[0m             \u001b[39mfor\u001b[39;00m i \u001b[39min\u001b[39;00m inds:\n",
      "\u001b[1;32m    286\u001b[0m                 name \u001b[39m+\u001b[39m\u001b[39m=\u001b[39m \u001b[39m\"\u001b[39m\u001b[39m[\u001b[39m\u001b[39m\"\u001b[39m \u001b[39m+\u001b[39m \u001b[39mstr\u001b[39m(i) \u001b[39m+\u001b[39m \u001b[39m\"\u001b[39m\u001b[39m]\u001b[39m\u001b[39m\"\u001b[39m\n",
      "\u001b[0;32m--> 288\u001b[0m         \u001b[39mraise\u001b[39;00m \u001b[39mValueError\u001b[39;00m(\n",
      "\u001b[1;32m    289\u001b[0m \u001b[39m            \u001b[39m\u001b[39m\"\"\"\u001b[39;00m\n",
      "\u001b[1;32m    290\u001b[0m \u001b[39m    Invalid value of type {typ} received for the '{name}' property of {pname}\u001b[39;00m\n",
      "\u001b[1;32m    291\u001b[0m \u001b[39m        Received value: {v}\u001b[39;00m\n",
      "\u001b[1;32m    292\u001b[0m \n",
      "\u001b[1;32m    293\u001b[0m \u001b[39m{valid_clr_desc}\"\"\"\u001b[39;00m\u001b[39m.\u001b[39mformat(\n",
      "\u001b[1;32m    294\u001b[0m                 name\u001b[39m=\u001b[39mname,\n",
      "\u001b[1;32m    295\u001b[0m                 pname\u001b[39m=\u001b[39m\u001b[39mself\u001b[39m\u001b[39m.\u001b[39mparent_name,\n",
      "\u001b[1;32m    296\u001b[0m                 typ\u001b[39m=\u001b[39mtype_str(v),\n",
      "\u001b[1;32m    297\u001b[0m                 v\u001b[39m=\u001b[39m\u001b[39mrepr\u001b[39m(v),\n",
      "\u001b[1;32m    298\u001b[0m                 valid_clr_desc\u001b[39m=\u001b[39m\u001b[39mself\u001b[39m\u001b[39m.\u001b[39mdescription(),\n",
      "\u001b[1;32m    299\u001b[0m             )\n",
      "\u001b[1;32m    300\u001b[0m         )\n",
      "\n",
      "\u001b[0;31mValueError\u001b[0m: \n",
      "    Invalid value of type 'builtins.str' received for the 'color' property of scatter.line\n",
      "        Received value: 'transparent'\n",
      "\n",
      "    The 'color' property is a color and may be specified as:\n",
      "      - A hex string (e.g. '#ff0000')\n",
      "      - An rgb/rgba string (e.g. 'rgb(255,0,0)')\n",
      "      - An hsl/hsla string (e.g. 'hsl(0,100%,50%)')\n",
      "      - An hsv/hsva string (e.g. 'hsv(0,100%,100%)')\n",
      "      - A named CSS color:\n",
      "            aliceblue, antiquewhite, aqua, aquamarine, azure,\n",
      "            beige, bisque, black, blanchedalmond, blue,\n",
      "            blueviolet, brown, burlywood, cadetblue,\n",
      "            chartreuse, chocolate, coral, cornflowerblue,\n",
      "            cornsilk, crimson, cyan, darkblue, darkcyan,\n",
      "            darkgoldenrod, darkgray, darkgrey, darkgreen,\n",
      "            darkkhaki, darkmagenta, darkolivegreen, darkorange,\n",
      "            darkorchid, darkred, darksalmon, darkseagreen,\n",
      "            darkslateblue, darkslategray, darkslategrey,\n",
      "            darkturquoise, darkviolet, deeppink, deepskyblue,\n",
      "            dimgray, dimgrey, dodgerblue, firebrick,\n",
      "            floralwhite, forestgreen, fuchsia, gainsboro,\n",
      "            ghostwhite, gold, goldenrod, gray, grey, green,\n",
      "            greenyellow, honeydew, hotpink, indianred, indigo,\n",
      "            ivory, khaki, lavender, lavenderblush, lawngreen,\n",
      "            lemonchiffon, lightblue, lightcoral, lightcyan,\n",
      "            lightgoldenrodyellow, lightgray, lightgrey,\n",
      "            lightgreen, lightpink, lightsalmon, lightseagreen,\n",
      "            lightskyblue, lightslategray, lightslategrey,\n",
      "            lightsteelblue, lightyellow, lime, limegreen,\n",
      "            linen, magenta, maroon, mediumaquamarine,\n",
      "            mediumblue, mediumorchid, mediumpurple,\n",
      "            mediumseagreen, mediumslateblue, mediumspringgreen,\n",
      "            mediumturquoise, mediumvioletred, midnightblue,\n",
      "            mintcream, mistyrose, moccasin, navajowhite, navy,\n",
      "            oldlace, olive, olivedrab, orange, orangered,\n",
      "            orchid, palegoldenrod, palegreen, paleturquoise,\n",
      "            palevioletred, papayawhip, peachpuff, peru, pink,\n",
      "            plum, powderblue, purple, red, rosybrown,\n",
      "            royalblue, rebeccapurple, saddlebrown, salmon,\n",
      "            sandybrown, seagreen, seashell, sienna, silver,\n",
      "            skyblue, slateblue, slategray, slategrey, snow,\n",
      "            springgreen, steelblue, tan, teal, thistle, tomato,\n",
      "            turquoise, violet, wheat, white, whitesmoke,\n",
      "            yellow, yellowgreen"
     ]
    }
   ],
   "source": []
  },
  {
   "cell_type": "code",
   "execution_count": null,
   "metadata": {},
   "outputs": [
    {
     "data": {
      "application/vnd.plotly.v1+json": {
       "config": {
        "plotlyServerURL": "https://plot.ly"
       },
       "data": [
        {
         "mode": "lines",
         "name": "ROC curve (area = 0.88) for class 0",
         "type": "scatter",
         "x": [
          0,
          0.00125,
          0.00725,
          0.01725,
          0.0345,
          0.067,
          0.1205,
          0.2145,
          0.42375,
          1
         ],
         "y": [
          0,
          0.173,
          0.299,
          0.392,
          0.504,
          0.621,
          0.733,
          0.837,
          0.922,
          1
         ]
        },
        {
         "mode": "lines",
         "name": "ROC curve (area = 0.89) for class 1",
         "type": "scatter",
         "x": [
          0,
          0.00225,
          0.00625,
          0.011,
          0.01925,
          0.0385,
          0.079,
          0.1675,
          0.393,
          1
         ],
         "y": [
          0,
          0.212,
          0.33,
          0.432,
          0.511,
          0.606,
          0.692,
          0.802,
          0.923,
          1
         ]
        },
        {
         "mode": "lines",
         "name": "ROC curve (area = 0.90) for class 2",
         "type": "scatter",
         "x": [
          0,
          0.006285714285714286,
          0.024,
          0.054857142857142854,
          0.09771428571428571,
          0.14685714285714285,
          0.21428571428571427,
          0.30742857142857144,
          0.49885714285714283,
          1
         ],
         "y": [
          0,
          0.142,
          0.3333333333333333,
          0.522,
          0.6686666666666666,
          0.7726666666666666,
          0.874,
          0.94,
          0.982,
          1
         ]
        },
        {
         "mode": "lines",
         "name": "ROC curve (area = 0.90) for class 3",
         "type": "scatter",
         "x": [
          0,
          0.00022222222222222223,
          0.0008888888888888889,
          0.0028888888888888888,
          0.012,
          0.027555555555555555,
          0.05444444444444444,
          0.114,
          0.26066666666666666,
          1
         ],
         "y": [
          0,
          0.058,
          0.15,
          0.278,
          0.384,
          0.512,
          0.65,
          0.794,
          0.908,
          1
         ]
        },
        {
         "mode": "lines",
         "name": "ROC curve (area = 0.81) for class 4",
         "type": "scatter",
         "x": [
          0,
          0.00047058823529411766,
          0.0025882352941176473,
          0.007058823529411765,
          0.021411764705882352,
          0.050823529411764705,
          0.12,
          0.248,
          0.4908235294117647,
          1
         ],
         "y": [
          0,
          0.014666666666666666,
          0.06266666666666666,
          0.14,
          0.23866666666666667,
          0.38666666666666666,
          0.5666666666666667,
          0.744,
          0.896,
          1
         ]
        },
        {
         "mode": "lines",
         "name": "ROC curve (area = 0.82) for class 5",
         "type": "scatter",
         "x": [
          0,
          0.0006315789473684211,
          0.0025263157894736842,
          0.007157894736842105,
          0.02168421052631579,
          0.059789473684210524,
          0.17768421052631578,
          1
         ],
         "y": [
          0,
          0.012,
          0.048,
          0.184,
          0.328,
          0.512,
          0.76,
          1
         ]
        },
        {
         "line": {
          "dash": "dash"
         },
         "mode": "lines",
         "name": "Random",
         "type": "scatter",
         "x": [
          0,
          1
         ],
         "y": [
          0,
          1
         ]
        }
       ],
       "layout": {
        "height": 800,
        "template": {
         "data": {
          "bar": [
           {
            "error_x": {
             "color": "#2a3f5f"
            },
            "error_y": {
             "color": "#2a3f5f"
            },
            "marker": {
             "line": {
              "color": "#E5ECF6",
              "width": 0.5
             },
             "pattern": {
              "fillmode": "overlay",
              "size": 10,
              "solidity": 0.2
             }
            },
            "type": "bar"
           }
          ],
          "barpolar": [
           {
            "marker": {
             "line": {
              "color": "#E5ECF6",
              "width": 0.5
             },
             "pattern": {
              "fillmode": "overlay",
              "size": 10,
              "solidity": 0.2
             }
            },
            "type": "barpolar"
           }
          ],
          "carpet": [
           {
            "aaxis": {
             "endlinecolor": "#2a3f5f",
             "gridcolor": "white",
             "linecolor": "white",
             "minorgridcolor": "white",
             "startlinecolor": "#2a3f5f"
            },
            "baxis": {
             "endlinecolor": "#2a3f5f",
             "gridcolor": "white",
             "linecolor": "white",
             "minorgridcolor": "white",
             "startlinecolor": "#2a3f5f"
            },
            "type": "carpet"
           }
          ],
          "choropleth": [
           {
            "colorbar": {
             "outlinewidth": 0,
             "ticks": ""
            },
            "type": "choropleth"
           }
          ],
          "contour": [
           {
            "colorbar": {
             "outlinewidth": 0,
             "ticks": ""
            },
            "colorscale": [
             [
              0,
              "#0d0887"
             ],
             [
              0.1111111111111111,
              "#46039f"
             ],
             [
              0.2222222222222222,
              "#7201a8"
             ],
             [
              0.3333333333333333,
              "#9c179e"
             ],
             [
              0.4444444444444444,
              "#bd3786"
             ],
             [
              0.5555555555555556,
              "#d8576b"
             ],
             [
              0.6666666666666666,
              "#ed7953"
             ],
             [
              0.7777777777777778,
              "#fb9f3a"
             ],
             [
              0.8888888888888888,
              "#fdca26"
             ],
             [
              1,
              "#f0f921"
             ]
            ],
            "type": "contour"
           }
          ],
          "contourcarpet": [
           {
            "colorbar": {
             "outlinewidth": 0,
             "ticks": ""
            },
            "type": "contourcarpet"
           }
          ],
          "heatmap": [
           {
            "colorbar": {
             "outlinewidth": 0,
             "ticks": ""
            },
            "colorscale": [
             [
              0,
              "#0d0887"
             ],
             [
              0.1111111111111111,
              "#46039f"
             ],
             [
              0.2222222222222222,
              "#7201a8"
             ],
             [
              0.3333333333333333,
              "#9c179e"
             ],
             [
              0.4444444444444444,
              "#bd3786"
             ],
             [
              0.5555555555555556,
              "#d8576b"
             ],
             [
              0.6666666666666666,
              "#ed7953"
             ],
             [
              0.7777777777777778,
              "#fb9f3a"
             ],
             [
              0.8888888888888888,
              "#fdca26"
             ],
             [
              1,
              "#f0f921"
             ]
            ],
            "type": "heatmap"
           }
          ],
          "heatmapgl": [
           {
            "colorbar": {
             "outlinewidth": 0,
             "ticks": ""
            },
            "colorscale": [
             [
              0,
              "#0d0887"
             ],
             [
              0.1111111111111111,
              "#46039f"
             ],
             [
              0.2222222222222222,
              "#7201a8"
             ],
             [
              0.3333333333333333,
              "#9c179e"
             ],
             [
              0.4444444444444444,
              "#bd3786"
             ],
             [
              0.5555555555555556,
              "#d8576b"
             ],
             [
              0.6666666666666666,
              "#ed7953"
             ],
             [
              0.7777777777777778,
              "#fb9f3a"
             ],
             [
              0.8888888888888888,
              "#fdca26"
             ],
             [
              1,
              "#f0f921"
             ]
            ],
            "type": "heatmapgl"
           }
          ],
          "histogram": [
           {
            "marker": {
             "pattern": {
              "fillmode": "overlay",
              "size": 10,
              "solidity": 0.2
             }
            },
            "type": "histogram"
           }
          ],
          "histogram2d": [
           {
            "colorbar": {
             "outlinewidth": 0,
             "ticks": ""
            },
            "colorscale": [
             [
              0,
              "#0d0887"
             ],
             [
              0.1111111111111111,
              "#46039f"
             ],
             [
              0.2222222222222222,
              "#7201a8"
             ],
             [
              0.3333333333333333,
              "#9c179e"
             ],
             [
              0.4444444444444444,
              "#bd3786"
             ],
             [
              0.5555555555555556,
              "#d8576b"
             ],
             [
              0.6666666666666666,
              "#ed7953"
             ],
             [
              0.7777777777777778,
              "#fb9f3a"
             ],
             [
              0.8888888888888888,
              "#fdca26"
             ],
             [
              1,
              "#f0f921"
             ]
            ],
            "type": "histogram2d"
           }
          ],
          "histogram2dcontour": [
           {
            "colorbar": {
             "outlinewidth": 0,
             "ticks": ""
            },
            "colorscale": [
             [
              0,
              "#0d0887"
             ],
             [
              0.1111111111111111,
              "#46039f"
             ],
             [
              0.2222222222222222,
              "#7201a8"
             ],
             [
              0.3333333333333333,
              "#9c179e"
             ],
             [
              0.4444444444444444,
              "#bd3786"
             ],
             [
              0.5555555555555556,
              "#d8576b"
             ],
             [
              0.6666666666666666,
              "#ed7953"
             ],
             [
              0.7777777777777778,
              "#fb9f3a"
             ],
             [
              0.8888888888888888,
              "#fdca26"
             ],
             [
              1,
              "#f0f921"
             ]
            ],
            "type": "histogram2dcontour"
           }
          ],
          "mesh3d": [
           {
            "colorbar": {
             "outlinewidth": 0,
             "ticks": ""
            },
            "type": "mesh3d"
           }
          ],
          "parcoords": [
           {
            "line": {
             "colorbar": {
              "outlinewidth": 0,
              "ticks": ""
             }
            },
            "type": "parcoords"
           }
          ],
          "pie": [
           {
            "automargin": true,
            "type": "pie"
           }
          ],
          "scatter": [
           {
            "fillpattern": {
             "fillmode": "overlay",
             "size": 10,
             "solidity": 0.2
            },
            "type": "scatter"
           }
          ],
          "scatter3d": [
           {
            "line": {
             "colorbar": {
              "outlinewidth": 0,
              "ticks": ""
             }
            },
            "marker": {
             "colorbar": {
              "outlinewidth": 0,
              "ticks": ""
             }
            },
            "type": "scatter3d"
           }
          ],
          "scattercarpet": [
           {
            "marker": {
             "colorbar": {
              "outlinewidth": 0,
              "ticks": ""
             }
            },
            "type": "scattercarpet"
           }
          ],
          "scattergeo": [
           {
            "marker": {
             "colorbar": {
              "outlinewidth": 0,
              "ticks": ""
             }
            },
            "type": "scattergeo"
           }
          ],
          "scattergl": [
           {
            "marker": {
             "colorbar": {
              "outlinewidth": 0,
              "ticks": ""
             }
            },
            "type": "scattergl"
           }
          ],
          "scattermapbox": [
           {
            "marker": {
             "colorbar": {
              "outlinewidth": 0,
              "ticks": ""
             }
            },
            "type": "scattermapbox"
           }
          ],
          "scatterpolar": [
           {
            "marker": {
             "colorbar": {
              "outlinewidth": 0,
              "ticks": ""
             }
            },
            "type": "scatterpolar"
           }
          ],
          "scatterpolargl": [
           {
            "marker": {
             "colorbar": {
              "outlinewidth": 0,
              "ticks": ""
             }
            },
            "type": "scatterpolargl"
           }
          ],
          "scatterternary": [
           {
            "marker": {
             "colorbar": {
              "outlinewidth": 0,
              "ticks": ""
             }
            },
            "type": "scatterternary"
           }
          ],
          "surface": [
           {
            "colorbar": {
             "outlinewidth": 0,
             "ticks": ""
            },
            "colorscale": [
             [
              0,
              "#0d0887"
             ],
             [
              0.1111111111111111,
              "#46039f"
             ],
             [
              0.2222222222222222,
              "#7201a8"
             ],
             [
              0.3333333333333333,
              "#9c179e"
             ],
             [
              0.4444444444444444,
              "#bd3786"
             ],
             [
              0.5555555555555556,
              "#d8576b"
             ],
             [
              0.6666666666666666,
              "#ed7953"
             ],
             [
              0.7777777777777778,
              "#fb9f3a"
             ],
             [
              0.8888888888888888,
              "#fdca26"
             ],
             [
              1,
              "#f0f921"
             ]
            ],
            "type": "surface"
           }
          ],
          "table": [
           {
            "cells": {
             "fill": {
              "color": "#EBF0F8"
             },
             "line": {
              "color": "white"
             }
            },
            "header": {
             "fill": {
              "color": "#C8D4E3"
             },
             "line": {
              "color": "white"
             }
            },
            "type": "table"
           }
          ]
         },
         "layout": {
          "annotationdefaults": {
           "arrowcolor": "#2a3f5f",
           "arrowhead": 0,
           "arrowwidth": 1
          },
          "autotypenumbers": "strict",
          "coloraxis": {
           "colorbar": {
            "outlinewidth": 0,
            "ticks": ""
           }
          },
          "colorscale": {
           "diverging": [
            [
             0,
             "#8e0152"
            ],
            [
             0.1,
             "#c51b7d"
            ],
            [
             0.2,
             "#de77ae"
            ],
            [
             0.3,
             "#f1b6da"
            ],
            [
             0.4,
             "#fde0ef"
            ],
            [
             0.5,
             "#f7f7f7"
            ],
            [
             0.6,
             "#e6f5d0"
            ],
            [
             0.7,
             "#b8e186"
            ],
            [
             0.8,
             "#7fbc41"
            ],
            [
             0.9,
             "#4d9221"
            ],
            [
             1,
             "#276419"
            ]
           ],
           "sequential": [
            [
             0,
             "#0d0887"
            ],
            [
             0.1111111111111111,
             "#46039f"
            ],
            [
             0.2222222222222222,
             "#7201a8"
            ],
            [
             0.3333333333333333,
             "#9c179e"
            ],
            [
             0.4444444444444444,
             "#bd3786"
            ],
            [
             0.5555555555555556,
             "#d8576b"
            ],
            [
             0.6666666666666666,
             "#ed7953"
            ],
            [
             0.7777777777777778,
             "#fb9f3a"
            ],
            [
             0.8888888888888888,
             "#fdca26"
            ],
            [
             1,
             "#f0f921"
            ]
           ],
           "sequentialminus": [
            [
             0,
             "#0d0887"
            ],
            [
             0.1111111111111111,
             "#46039f"
            ],
            [
             0.2222222222222222,
             "#7201a8"
            ],
            [
             0.3333333333333333,
             "#9c179e"
            ],
            [
             0.4444444444444444,
             "#bd3786"
            ],
            [
             0.5555555555555556,
             "#d8576b"
            ],
            [
             0.6666666666666666,
             "#ed7953"
            ],
            [
             0.7777777777777778,
             "#fb9f3a"
            ],
            [
             0.8888888888888888,
             "#fdca26"
            ],
            [
             1,
             "#f0f921"
            ]
           ]
          },
          "colorway": [
           "#636efa",
           "#EF553B",
           "#00cc96",
           "#ab63fa",
           "#FFA15A",
           "#19d3f3",
           "#FF6692",
           "#B6E880",
           "#FF97FF",
           "#FECB52"
          ],
          "font": {
           "color": "#2a3f5f"
          },
          "geo": {
           "bgcolor": "white",
           "lakecolor": "white",
           "landcolor": "#E5ECF6",
           "showlakes": true,
           "showland": true,
           "subunitcolor": "white"
          },
          "hoverlabel": {
           "align": "left"
          },
          "hovermode": "closest",
          "mapbox": {
           "style": "light"
          },
          "paper_bgcolor": "white",
          "plot_bgcolor": "#E5ECF6",
          "polar": {
           "angularaxis": {
            "gridcolor": "white",
            "linecolor": "white",
            "ticks": ""
           },
           "bgcolor": "#E5ECF6",
           "radialaxis": {
            "gridcolor": "white",
            "linecolor": "white",
            "ticks": ""
           }
          },
          "scene": {
           "xaxis": {
            "backgroundcolor": "#E5ECF6",
            "gridcolor": "white",
            "gridwidth": 2,
            "linecolor": "white",
            "showbackground": true,
            "ticks": "",
            "zerolinecolor": "white"
           },
           "yaxis": {
            "backgroundcolor": "#E5ECF6",
            "gridcolor": "white",
            "gridwidth": 2,
            "linecolor": "white",
            "showbackground": true,
            "ticks": "",
            "zerolinecolor": "white"
           },
           "zaxis": {
            "backgroundcolor": "#E5ECF6",
            "gridcolor": "white",
            "gridwidth": 2,
            "linecolor": "white",
            "showbackground": true,
            "ticks": "",
            "zerolinecolor": "white"
           }
          },
          "shapedefaults": {
           "line": {
            "color": "#2a3f5f"
           }
          },
          "ternary": {
           "aaxis": {
            "gridcolor": "white",
            "linecolor": "white",
            "ticks": ""
           },
           "baxis": {
            "gridcolor": "white",
            "linecolor": "white",
            "ticks": ""
           },
           "bgcolor": "#E5ECF6",
           "caxis": {
            "gridcolor": "white",
            "linecolor": "white",
            "ticks": ""
           }
          },
          "title": {
           "x": 0.05
          },
          "xaxis": {
           "automargin": true,
           "gridcolor": "white",
           "linecolor": "white",
           "ticks": "",
           "title": {
            "standoff": 15
           },
           "zerolinecolor": "white",
           "zerolinewidth": 2
          },
          "yaxis": {
           "automargin": true,
           "gridcolor": "white",
           "linecolor": "white",
           "ticks": "",
           "title": {
            "standoff": 15
           },
           "zerolinecolor": "white",
           "zerolinewidth": 2
          }
         }
        },
        "title": {
         "text": "Receiver Operating Characteristic (ROC) - Multi-Class"
        },
        "width": 800,
        "xaxis": {
         "scaleanchor": "y",
         "scaleratio": 1,
         "title": {
          "text": "False Positive Rate"
         }
        },
        "yaxis": {
         "constrain": "domain",
         "title": {
          "text": "True Positive Rate"
         }
        }
       }
      }
     },
     "metadata": {},
     "output_type": "display_data"
    }
   ],
   "source": []
  },
  {
   "cell_type": "markdown",
   "metadata": {},
   "source": []
  },
  {
   "cell_type": "code",
   "execution_count": null,
   "metadata": {},
   "outputs": [],
   "source": []
  },
  {
   "cell_type": "code",
   "execution_count": null,
   "metadata": {},
   "outputs": [],
   "source": []
  }
 ],
 "metadata": {
  "kernelspec": {
   "display_name": "base",
   "language": "python",
   "name": "python3"
  },
  "language_info": {
   "codemirror_mode": {
    "name": "ipython",
    "version": 3
   },
   "file_extension": ".py",
   "mimetype": "text/x-python",
   "name": "python",
   "nbconvert_exporter": "python",
   "pygments_lexer": "ipython3",
   "version": "3.11.5"
  }
 },
 "nbformat": 4,
 "nbformat_minor": 2
}
