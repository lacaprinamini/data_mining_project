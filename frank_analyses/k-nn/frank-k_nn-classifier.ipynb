{
 "cells": [
  {
   "cell_type": "code",
   "execution_count": 214,
   "metadata": {},
   "outputs": [],
   "source": [
    "import numpy as np\n",
    "import matplotlib.pyplot as plt\n",
    "import seaborn as sns\n",
    "import pandas as pd"
   ]
  },
  {
   "cell_type": "code",
   "execution_count": 215,
   "metadata": {},
   "outputs": [],
   "source": [
    "from sklearn.metrics import (\n",
    "    accuracy_score, \n",
    "    f1_score, \n",
    "    classification_report, \n",
    "    confusion_matrix, \n",
    "    roc_auc_score, \n",
    "    precision_score, \n",
    "    recall_score,\n",
    ")\n",
    "from scikitplot.metrics import plot_roc\n",
    "from scikitplot.metrics import plot_precision_recall"
   ]
  },
  {
   "cell_type": "code",
   "execution_count": 216,
   "metadata": {},
   "outputs": [],
   "source": [
    "df = pd.read_csv(\"../../our_analyses/dataset_prepared.csv\")"
   ]
  },
  {
   "cell_type": "code",
   "execution_count": 217,
   "metadata": {},
   "outputs": [
    {
     "data": {
      "text/html": [
       "<div>\n",
       "<style scoped>\n",
       "    .dataframe tbody tr th:only-of-type {\n",
       "        vertical-align: middle;\n",
       "    }\n",
       "\n",
       "    .dataframe tbody tr th {\n",
       "        vertical-align: top;\n",
       "    }\n",
       "\n",
       "    .dataframe thead th {\n",
       "        text-align: right;\n",
       "    }\n",
       "</style>\n",
       "<table border=\"1\" class=\"dataframe\">\n",
       "  <thead>\n",
       "    <tr style=\"text-align: right;\">\n",
       "      <th></th>\n",
       "      <th>name</th>\n",
       "      <th>duration_ms</th>\n",
       "      <th>explicit</th>\n",
       "      <th>popularity</th>\n",
       "      <th>artists</th>\n",
       "      <th>album_name</th>\n",
       "      <th>danceability</th>\n",
       "      <th>energy</th>\n",
       "      <th>key</th>\n",
       "      <th>loudness</th>\n",
       "      <th>mode</th>\n",
       "      <th>speechiness</th>\n",
       "      <th>acousticness</th>\n",
       "      <th>instrumentalness</th>\n",
       "      <th>liveness</th>\n",
       "      <th>valence</th>\n",
       "      <th>tempo</th>\n",
       "      <th>time_signature</th>\n",
       "      <th>n_beats</th>\n",
       "      <th>genre</th>\n",
       "    </tr>\n",
       "  </thead>\n",
       "  <tbody>\n",
       "    <tr>\n",
       "      <th>0</th>\n",
       "      <td>Love Came Down</td>\n",
       "      <td>293106</td>\n",
       "      <td>False</td>\n",
       "      <td>50</td>\n",
       "      <td>Kari Jobe</td>\n",
       "      <td>Where I Find You</td>\n",
       "      <td>0.401</td>\n",
       "      <td>0.683</td>\n",
       "      <td>8</td>\n",
       "      <td>-5.722</td>\n",
       "      <td>1</td>\n",
       "      <td>0.0401</td>\n",
       "      <td>0.181</td>\n",
       "      <td>0.000000</td>\n",
       "      <td>0.0837</td>\n",
       "      <td>0.226</td>\n",
       "      <td>135.951</td>\n",
       "      <td>4.0</td>\n",
       "      <td>654.0</td>\n",
       "      <td>afrobeat</td>\n",
       "    </tr>\n",
       "    <tr>\n",
       "      <th>1</th>\n",
       "      <td>PIMP</td>\n",
       "      <td>194972</td>\n",
       "      <td>False</td>\n",
       "      <td>52</td>\n",
       "      <td>Bacao Rhythm &amp; Steel Band</td>\n",
       "      <td>55</td>\n",
       "      <td>0.672</td>\n",
       "      <td>0.858</td>\n",
       "      <td>3</td>\n",
       "      <td>-5.233</td>\n",
       "      <td>1</td>\n",
       "      <td>0.1450</td>\n",
       "      <td>0.456</td>\n",
       "      <td>0.811000</td>\n",
       "      <td>0.1040</td>\n",
       "      <td>0.963</td>\n",
       "      <td>166.689</td>\n",
       "      <td>4.0</td>\n",
       "      <td>537.0</td>\n",
       "      <td>afrobeat</td>\n",
       "    </tr>\n",
       "    <tr>\n",
       "      <th>2</th>\n",
       "      <td>Soul Saxes Meeting</td>\n",
       "      <td>178428</td>\n",
       "      <td>False</td>\n",
       "      <td>22</td>\n",
       "      <td>Manu Dibango</td>\n",
       "      <td>African Voodoo</td>\n",
       "      <td>0.636</td>\n",
       "      <td>0.826</td>\n",
       "      <td>3</td>\n",
       "      <td>-7.486</td>\n",
       "      <td>1</td>\n",
       "      <td>0.0585</td>\n",
       "      <td>0.461</td>\n",
       "      <td>0.271000</td>\n",
       "      <td>0.1410</td>\n",
       "      <td>0.731</td>\n",
       "      <td>102.809</td>\n",
       "      <td>4.0</td>\n",
       "      <td>304.0</td>\n",
       "      <td>afrobeat</td>\n",
       "    </tr>\n",
       "    <tr>\n",
       "      <th>3</th>\n",
       "      <td>Reino Animal</td>\n",
       "      <td>238373</td>\n",
       "      <td>False</td>\n",
       "      <td>20</td>\n",
       "      <td>Los Amigos Invisibles</td>\n",
       "      <td>Repeat After Me</td>\n",
       "      <td>0.733</td>\n",
       "      <td>0.862</td>\n",
       "      <td>7</td>\n",
       "      <td>-5.813</td>\n",
       "      <td>1</td>\n",
       "      <td>0.0604</td>\n",
       "      <td>0.287</td>\n",
       "      <td>0.000532</td>\n",
       "      <td>0.4660</td>\n",
       "      <td>0.745</td>\n",
       "      <td>107.981</td>\n",
       "      <td>4.0</td>\n",
       "      <td>427.0</td>\n",
       "      <td>afrobeat</td>\n",
       "    </tr>\n",
       "    <tr>\n",
       "      <th>4</th>\n",
       "      <td>La luna de espejos</td>\n",
       "      <td>221893</td>\n",
       "      <td>False</td>\n",
       "      <td>22</td>\n",
       "      <td>Jorge Drexler</td>\n",
       "      <td>Sus primeras grabaciones 1992-1994 (La luz que...</td>\n",
       "      <td>0.712</td>\n",
       "      <td>0.225</td>\n",
       "      <td>5</td>\n",
       "      <td>-10.017</td>\n",
       "      <td>1</td>\n",
       "      <td>0.0533</td>\n",
       "      <td>0.930</td>\n",
       "      <td>0.001000</td>\n",
       "      <td>0.1230</td>\n",
       "      <td>0.429</td>\n",
       "      <td>87.520</td>\n",
       "      <td>4.0</td>\n",
       "      <td>317.0</td>\n",
       "      <td>afrobeat</td>\n",
       "    </tr>\n",
       "  </tbody>\n",
       "</table>\n",
       "</div>"
      ],
      "text/plain": [
       "                 name  duration_ms  explicit  popularity  \\\n",
       "0      Love Came Down       293106     False          50   \n",
       "1                PIMP       194972     False          52   \n",
       "2  Soul Saxes Meeting       178428     False          22   \n",
       "3        Reino Animal       238373     False          20   \n",
       "4  La luna de espejos       221893     False          22   \n",
       "\n",
       "                     artists  \\\n",
       "0                  Kari Jobe   \n",
       "1  Bacao Rhythm & Steel Band   \n",
       "2               Manu Dibango   \n",
       "3      Los Amigos Invisibles   \n",
       "4              Jorge Drexler   \n",
       "\n",
       "                                          album_name  danceability  energy  \\\n",
       "0                                   Where I Find You         0.401   0.683   \n",
       "1                                                 55         0.672   0.858   \n",
       "2                                     African Voodoo         0.636   0.826   \n",
       "3                                    Repeat After Me         0.733   0.862   \n",
       "4  Sus primeras grabaciones 1992-1994 (La luz que...         0.712   0.225   \n",
       "\n",
       "   key  loudness  mode  speechiness  acousticness  instrumentalness  liveness  \\\n",
       "0    8    -5.722     1       0.0401         0.181          0.000000    0.0837   \n",
       "1    3    -5.233     1       0.1450         0.456          0.811000    0.1040   \n",
       "2    3    -7.486     1       0.0585         0.461          0.271000    0.1410   \n",
       "3    7    -5.813     1       0.0604         0.287          0.000532    0.4660   \n",
       "4    5   -10.017     1       0.0533         0.930          0.001000    0.1230   \n",
       "\n",
       "   valence    tempo  time_signature  n_beats     genre  \n",
       "0    0.226  135.951             4.0    654.0  afrobeat  \n",
       "1    0.963  166.689             4.0    537.0  afrobeat  \n",
       "2    0.731  102.809             4.0    304.0  afrobeat  \n",
       "3    0.745  107.981             4.0    427.0  afrobeat  \n",
       "4    0.429   87.520             4.0    317.0  afrobeat  "
      ]
     },
     "execution_count": 217,
     "metadata": {},
     "output_type": "execute_result"
    }
   ],
   "source": [
    "df.head()"
   ]
  },
  {
   "cell_type": "code",
   "execution_count": 218,
   "metadata": {},
   "outputs": [
    {
     "data": {
      "text/plain": [
       "array(['afrobeat', 'black-metal', 'bluegrass', 'brazil', 'breakbeat',\n",
       "       'chicago-house', 'disney', 'forro', 'happy', 'idm', 'indian',\n",
       "       'industrial', 'iranian', 'j-dance', 'j-idol', 'mandopop', 'sleep',\n",
       "       'spanish', 'study', 'techno'], dtype=object)"
      ]
     },
     "execution_count": 218,
     "metadata": {},
     "output_type": "execute_result"
    }
   ],
   "source": [
    "df[\"genre\"].unique()"
   ]
  },
  {
   "cell_type": "code",
   "execution_count": 219,
   "metadata": {},
   "outputs": [
    {
     "data": {
      "text/html": [
       "<div>\n",
       "<style scoped>\n",
       "    .dataframe tbody tr th:only-of-type {\n",
       "        vertical-align: middle;\n",
       "    }\n",
       "\n",
       "    .dataframe tbody tr th {\n",
       "        vertical-align: top;\n",
       "    }\n",
       "\n",
       "    .dataframe thead th {\n",
       "        text-align: right;\n",
       "    }\n",
       "</style>\n",
       "<table border=\"1\" class=\"dataframe\">\n",
       "  <thead>\n",
       "    <tr style=\"text-align: right;\">\n",
       "      <th></th>\n",
       "      <th>duration_ms</th>\n",
       "      <th>explicit</th>\n",
       "      <th>popularity</th>\n",
       "      <th>danceability</th>\n",
       "      <th>energy</th>\n",
       "      <th>key</th>\n",
       "      <th>loudness</th>\n",
       "      <th>mode</th>\n",
       "      <th>speechiness</th>\n",
       "      <th>acousticness</th>\n",
       "      <th>instrumentalness</th>\n",
       "      <th>liveness</th>\n",
       "      <th>valence</th>\n",
       "      <th>tempo</th>\n",
       "      <th>time_signature</th>\n",
       "      <th>n_beats</th>\n",
       "      <th>genre</th>\n",
       "      <th>genre_group</th>\n",
       "    </tr>\n",
       "  </thead>\n",
       "  <tbody>\n",
       "    <tr>\n",
       "      <th>3</th>\n",
       "      <td>238373</td>\n",
       "      <td>0</td>\n",
       "      <td>20</td>\n",
       "      <td>0.733</td>\n",
       "      <td>0.862</td>\n",
       "      <td>7</td>\n",
       "      <td>-5.813</td>\n",
       "      <td>1</td>\n",
       "      <td>0.0604</td>\n",
       "      <td>0.2870</td>\n",
       "      <td>0.000532</td>\n",
       "      <td>0.4660</td>\n",
       "      <td>0.745</td>\n",
       "      <td>107.981</td>\n",
       "      <td>4.0</td>\n",
       "      <td>427.0</td>\n",
       "      <td>afrobeat</td>\n",
       "      <td>3</td>\n",
       "    </tr>\n",
       "    <tr>\n",
       "      <th>7</th>\n",
       "      <td>347772</td>\n",
       "      <td>0</td>\n",
       "      <td>18</td>\n",
       "      <td>0.774</td>\n",
       "      <td>0.719</td>\n",
       "      <td>10</td>\n",
       "      <td>-8.976</td>\n",
       "      <td>0</td>\n",
       "      <td>0.0486</td>\n",
       "      <td>0.0181</td>\n",
       "      <td>0.128000</td>\n",
       "      <td>0.0781</td>\n",
       "      <td>0.890</td>\n",
       "      <td>132.025</td>\n",
       "      <td>4.0</td>\n",
       "      <td>763.0</td>\n",
       "      <td>afrobeat</td>\n",
       "      <td>3</td>\n",
       "    </tr>\n",
       "    <tr>\n",
       "      <th>8</th>\n",
       "      <td>219746</td>\n",
       "      <td>0</td>\n",
       "      <td>31</td>\n",
       "      <td>0.762</td>\n",
       "      <td>0.858</td>\n",
       "      <td>9</td>\n",
       "      <td>-4.589</td>\n",
       "      <td>0</td>\n",
       "      <td>0.0313</td>\n",
       "      <td>0.3210</td>\n",
       "      <td>0.062900</td>\n",
       "      <td>0.2760</td>\n",
       "      <td>0.836</td>\n",
       "      <td>126.005</td>\n",
       "      <td>4.0</td>\n",
       "      <td>458.0</td>\n",
       "      <td>afrobeat</td>\n",
       "      <td>3</td>\n",
       "    </tr>\n",
       "    <tr>\n",
       "      <th>17</th>\n",
       "      <td>257693</td>\n",
       "      <td>1</td>\n",
       "      <td>20</td>\n",
       "      <td>0.759</td>\n",
       "      <td>0.780</td>\n",
       "      <td>0</td>\n",
       "      <td>-8.007</td>\n",
       "      <td>1</td>\n",
       "      <td>0.0385</td>\n",
       "      <td>0.0024</td>\n",
       "      <td>0.050600</td>\n",
       "      <td>0.3210</td>\n",
       "      <td>0.510</td>\n",
       "      <td>125.050</td>\n",
       "      <td>4.0</td>\n",
       "      <td>530.0</td>\n",
       "      <td>afrobeat</td>\n",
       "      <td>3</td>\n",
       "    </tr>\n",
       "    <tr>\n",
       "      <th>26</th>\n",
       "      <td>175856</td>\n",
       "      <td>0</td>\n",
       "      <td>20</td>\n",
       "      <td>0.787</td>\n",
       "      <td>0.726</td>\n",
       "      <td>7</td>\n",
       "      <td>-5.637</td>\n",
       "      <td>1</td>\n",
       "      <td>0.1640</td>\n",
       "      <td>0.0719</td>\n",
       "      <td>0.003130</td>\n",
       "      <td>0.0870</td>\n",
       "      <td>0.407</td>\n",
       "      <td>107.024</td>\n",
       "      <td>4.0</td>\n",
       "      <td>303.0</td>\n",
       "      <td>afrobeat</td>\n",
       "      <td>3</td>\n",
       "    </tr>\n",
       "  </tbody>\n",
       "</table>\n",
       "</div>"
      ],
      "text/plain": [
       "    duration_ms  explicit  popularity  danceability  energy  key  loudness  \\\n",
       "3        238373         0          20         0.733   0.862    7    -5.813   \n",
       "7        347772         0          18         0.774   0.719   10    -8.976   \n",
       "8        219746         0          31         0.762   0.858    9    -4.589   \n",
       "17       257693         1          20         0.759   0.780    0    -8.007   \n",
       "26       175856         0          20         0.787   0.726    7    -5.637   \n",
       "\n",
       "    mode  speechiness  acousticness  instrumentalness  liveness  valence  \\\n",
       "3      1       0.0604        0.2870          0.000532    0.4660    0.745   \n",
       "7      0       0.0486        0.0181          0.128000    0.0781    0.890   \n",
       "8      0       0.0313        0.3210          0.062900    0.2760    0.836   \n",
       "17     1       0.0385        0.0024          0.050600    0.3210    0.510   \n",
       "26     1       0.1640        0.0719          0.003130    0.0870    0.407   \n",
       "\n",
       "      tempo  time_signature  n_beats     genre  genre_group  \n",
       "3   107.981             4.0    427.0  afrobeat            3  \n",
       "7   132.025             4.0    763.0  afrobeat            3  \n",
       "8   126.005             4.0    458.0  afrobeat            3  \n",
       "17  125.050             4.0    530.0  afrobeat            3  \n",
       "26  107.024             4.0    303.0  afrobeat            3  "
      ]
     },
     "execution_count": 219,
     "metadata": {},
     "output_type": "execute_result"
    }
   ],
   "source": [
    "def apply_pattern_rules(df):\n",
    "    \"\"\"\n",
    "    Apply the pattern rules to the DataFrame and filter out rows that do not conform to these rules.\n",
    "    \"\"\"\n",
    "    # World/Commercial Pop\n",
    "    df_wc_pop = df[(df['genre_group'] == 3) & \n",
    "                   (df['danceability'] > 0.695) & (df['danceability'] <= 0.98) & \n",
    "                   (df['energy'] > 0.709) & (df['energy'] <= 0.884)]\n",
    "\n",
    "    # Electronic/Dance\n",
    "    df_electronic_dance_1 = df[(df['genre_group'] == 0) & \n",
    "                               (df['valence'] > -0.001) & (df['valence'] <= 0.196) & \n",
    "                               (df['popularity'] > -0.001) & (df['popularity'] <= 14.0)]\n",
    "    df_electronic_dance_2 = df[(df['genre_group'] == 0) & \n",
    "                               (df['loudness'] > -49.532) & (df['loudness'] <= -10.636) & \n",
    "                               (df['popularity'] > -0.001) & (df['popularity'] <= 14.0)]\n",
    "\n",
    "    # Other\n",
    "    df_other_1 = df[(df['genre_group'] == 4) & \n",
    "                    (df['energy'] > -0.001) & (df['energy'] <= 0.48) & \n",
    "                    (df['acousticness'] > 0.573) & (df['acousticness'] <= 0.996) & \n",
    "                    (df['loudness'] > -49.532) & (df['loudness'] <= -10.636)]\n",
    "    df_other_2 = df[(df['genre_group'] == 4) & \n",
    "                    (df['acousticness'] > 0.573) & (df['acousticness'] <= 0.996) & \n",
    "                    (df['energy'] > -0.001) & (df['energy'] <= 0.48)]\n",
    "\n",
    "    # Country/Folk/Pop\n",
    "    df_country_folk_pop_1 = df[(df['genre_group'] == 2) & \n",
    "                               (df['energy'] > 0.884) & (df['energy'] <= 1.0) & \n",
    "                               (df['loudness'] > -5.101) & (df['loudness'] <= 3.156) & \n",
    "                               (df['instrumentalness'] > -0.001) & (df['instrumentalness'] <= 0.00313)]\n",
    "    df_country_folk_pop_2 = df[(df['genre_group'] == 2) & \n",
    "                               (df['loudness'] > -5.101) & (df['loudness'] <= 3.156) & \n",
    "                               (df['energy'] > 0.884) & (df['energy'] <= 1.0)]\n",
    "\n",
    "    # Metal/Rock\n",
    "    df_metal_rock_1 = df[(df['genre_group'] == 1) & \n",
    "                         (df['popularity'] > 14.0) & (df['popularity'] <= 24.0) & \n",
    "                         (df['acousticness'] > -0.001) & (df['acousticness'] <= 0.00974)]\n",
    "    df_metal_rock_2 = df[(df['genre_group'] == 1) & \n",
    "                         (df['energy'] > 0.884) & (df['energy'] <= 1.0) & \n",
    "                         (df['acousticness'] > -0.001) & (df['acousticness'] <= 0.00974)]\n",
    "\n",
    "    # Combine all filtered DataFrames\n",
    "    df_filtered = pd.concat([df_wc_pop, df_electronic_dance_1, df_electronic_dance_2, \n",
    "                             df_other_1, df_other_2, df_country_folk_pop_1, \n",
    "                             df_country_folk_pop_2, df_metal_rock_1, df_metal_rock_2])\n",
    "\n",
    "    return df_filtered\n",
    "from sklearn.preprocessing import LabelEncoder, StandardScaler\n",
    "\n",
    "\n",
    "df = df.drop(['name', 'artists', 'album_name'], axis=1)\n",
    "\n",
    "genre_groups = {\n",
    "    'idm': 0, 'iranian': 0, 'study': 0,  # Electronic/Dance\n",
    "    'black-metal': 1, 'breakbeat': 1, 'techno': 1,  # Metal/Rock\n",
    "    'brazil': 2, 'forro': 2, 'happy': 2, 'spanish': 2, 'j-idol': 2,  # Country/Folk/Pop\n",
    "    'afrobeat': 3, 'chicago-house': 3, 'industrial': 3, 'j-dance': 3,  # World/Commercial Pop\n",
    "    'bluegrass': 4, 'disney': 4, 'indian': 4, 'mandopop': 4, 'sleep': 4  # Other\n",
    "}\n",
    "\n",
    "df['genre_group'] = df['genre'].map(genre_groups).astype(int)\n",
    "\n",
    "le = LabelEncoder()\n",
    "df['explicit'] = le.fit_transform(df['explicit'])\n",
    "\n",
    "# Apply the pattern rules to the datasets\n",
    "df= apply_pattern_rules(df)\n",
    "\n",
    "df.head()"
   ]
  },
  {
   "cell_type": "code",
   "execution_count": 220,
   "metadata": {},
   "outputs": [
    {
     "data": {
      "text/html": [
       "<div>\n",
       "<style scoped>\n",
       "    .dataframe tbody tr th:only-of-type {\n",
       "        vertical-align: middle;\n",
       "    }\n",
       "\n",
       "    .dataframe tbody tr th {\n",
       "        vertical-align: top;\n",
       "    }\n",
       "\n",
       "    .dataframe thead th {\n",
       "        text-align: right;\n",
       "    }\n",
       "</style>\n",
       "<table border=\"1\" class=\"dataframe\">\n",
       "  <thead>\n",
       "    <tr style=\"text-align: right;\">\n",
       "      <th></th>\n",
       "      <th>duration_ms</th>\n",
       "      <th>explicit</th>\n",
       "      <th>popularity</th>\n",
       "      <th>danceability</th>\n",
       "      <th>energy</th>\n",
       "      <th>key</th>\n",
       "      <th>loudness</th>\n",
       "      <th>mode</th>\n",
       "      <th>speechiness</th>\n",
       "      <th>acousticness</th>\n",
       "      <th>instrumentalness</th>\n",
       "      <th>liveness</th>\n",
       "      <th>valence</th>\n",
       "      <th>tempo</th>\n",
       "      <th>time_signature</th>\n",
       "      <th>n_beats</th>\n",
       "      <th>genre</th>\n",
       "      <th>genre_group</th>\n",
       "    </tr>\n",
       "  </thead>\n",
       "  <tbody>\n",
       "    <tr>\n",
       "      <th>3</th>\n",
       "      <td>238373</td>\n",
       "      <td>0</td>\n",
       "      <td>20</td>\n",
       "      <td>0.733</td>\n",
       "      <td>0.862</td>\n",
       "      <td>7</td>\n",
       "      <td>-5.813</td>\n",
       "      <td>1</td>\n",
       "      <td>0.0604</td>\n",
       "      <td>0.2870</td>\n",
       "      <td>0.000532</td>\n",
       "      <td>0.4660</td>\n",
       "      <td>0.745</td>\n",
       "      <td>107.981</td>\n",
       "      <td>4.0</td>\n",
       "      <td>427.0</td>\n",
       "      <td>afrobeat</td>\n",
       "      <td>3</td>\n",
       "    </tr>\n",
       "    <tr>\n",
       "      <th>7</th>\n",
       "      <td>347772</td>\n",
       "      <td>0</td>\n",
       "      <td>18</td>\n",
       "      <td>0.774</td>\n",
       "      <td>0.719</td>\n",
       "      <td>10</td>\n",
       "      <td>-8.976</td>\n",
       "      <td>0</td>\n",
       "      <td>0.0486</td>\n",
       "      <td>0.0181</td>\n",
       "      <td>0.128000</td>\n",
       "      <td>0.0781</td>\n",
       "      <td>0.890</td>\n",
       "      <td>132.025</td>\n",
       "      <td>4.0</td>\n",
       "      <td>763.0</td>\n",
       "      <td>afrobeat</td>\n",
       "      <td>3</td>\n",
       "    </tr>\n",
       "    <tr>\n",
       "      <th>8</th>\n",
       "      <td>219746</td>\n",
       "      <td>0</td>\n",
       "      <td>31</td>\n",
       "      <td>0.762</td>\n",
       "      <td>0.858</td>\n",
       "      <td>9</td>\n",
       "      <td>-4.589</td>\n",
       "      <td>0</td>\n",
       "      <td>0.0313</td>\n",
       "      <td>0.3210</td>\n",
       "      <td>0.062900</td>\n",
       "      <td>0.2760</td>\n",
       "      <td>0.836</td>\n",
       "      <td>126.005</td>\n",
       "      <td>4.0</td>\n",
       "      <td>458.0</td>\n",
       "      <td>afrobeat</td>\n",
       "      <td>3</td>\n",
       "    </tr>\n",
       "    <tr>\n",
       "      <th>17</th>\n",
       "      <td>257693</td>\n",
       "      <td>1</td>\n",
       "      <td>20</td>\n",
       "      <td>0.759</td>\n",
       "      <td>0.780</td>\n",
       "      <td>0</td>\n",
       "      <td>-8.007</td>\n",
       "      <td>1</td>\n",
       "      <td>0.0385</td>\n",
       "      <td>0.0024</td>\n",
       "      <td>0.050600</td>\n",
       "      <td>0.3210</td>\n",
       "      <td>0.510</td>\n",
       "      <td>125.050</td>\n",
       "      <td>4.0</td>\n",
       "      <td>530.0</td>\n",
       "      <td>afrobeat</td>\n",
       "      <td>3</td>\n",
       "    </tr>\n",
       "    <tr>\n",
       "      <th>26</th>\n",
       "      <td>175856</td>\n",
       "      <td>0</td>\n",
       "      <td>20</td>\n",
       "      <td>0.787</td>\n",
       "      <td>0.726</td>\n",
       "      <td>7</td>\n",
       "      <td>-5.637</td>\n",
       "      <td>1</td>\n",
       "      <td>0.1640</td>\n",
       "      <td>0.0719</td>\n",
       "      <td>0.003130</td>\n",
       "      <td>0.0870</td>\n",
       "      <td>0.407</td>\n",
       "      <td>107.024</td>\n",
       "      <td>4.0</td>\n",
       "      <td>303.0</td>\n",
       "      <td>afrobeat</td>\n",
       "      <td>3</td>\n",
       "    </tr>\n",
       "  </tbody>\n",
       "</table>\n",
       "</div>"
      ],
      "text/plain": [
       "    duration_ms  explicit  popularity  danceability  energy  key  loudness  \\\n",
       "3        238373         0          20         0.733   0.862    7    -5.813   \n",
       "7        347772         0          18         0.774   0.719   10    -8.976   \n",
       "8        219746         0          31         0.762   0.858    9    -4.589   \n",
       "17       257693         1          20         0.759   0.780    0    -8.007   \n",
       "26       175856         0          20         0.787   0.726    7    -5.637   \n",
       "\n",
       "    mode  speechiness  acousticness  instrumentalness  liveness  valence  \\\n",
       "3      1       0.0604        0.2870          0.000532    0.4660    0.745   \n",
       "7      0       0.0486        0.0181          0.128000    0.0781    0.890   \n",
       "8      0       0.0313        0.3210          0.062900    0.2760    0.836   \n",
       "17     1       0.0385        0.0024          0.050600    0.3210    0.510   \n",
       "26     1       0.1640        0.0719          0.003130    0.0870    0.407   \n",
       "\n",
       "      tempo  time_signature  n_beats     genre  genre_group  \n",
       "3   107.981             4.0    427.0  afrobeat            3  \n",
       "7   132.025             4.0    763.0  afrobeat            3  \n",
       "8   126.005             4.0    458.0  afrobeat            3  \n",
       "17  125.050             4.0    530.0  afrobeat            3  \n",
       "26  107.024             4.0    303.0  afrobeat            3  "
      ]
     },
     "execution_count": 220,
     "metadata": {},
     "output_type": "execute_result"
    }
   ],
   "source": [
    "df.head()"
   ]
  },
  {
   "cell_type": "code",
   "execution_count": 221,
   "metadata": {},
   "outputs": [],
   "source": [
    "# Definizione di y come l'array delle etichette dei generi\n",
    "y = np.array(df['genre_group'])\n",
    "\n",
    "# Rimozione delle colonne 'genre_group' e 'genre' per ottenere le feature\n",
    "X = df.drop(['genre_group', 'genre', 'mode'], axis=1)\n"
   ]
  },
  {
   "cell_type": "markdown",
   "metadata": {},
   "source": [
    "## Partitioning"
   ]
  },
  {
   "cell_type": "code",
   "execution_count": 222,
   "metadata": {},
   "outputs": [],
   "source": [
    "from sklearn.model_selection import train_test_split\n",
    "\n",
    "random_state = 0"
   ]
  },
  {
   "cell_type": "code",
   "execution_count": 223,
   "metadata": {},
   "outputs": [
    {
     "name": "stdout",
     "output_type": "stream",
     "text": [
      "[0.19593254 0.18427579 0.22594246 0.06262401 0.3312252 ]\n",
      "[0.19596031 0.18426648 0.22590361 0.06272147 0.33114812]\n",
      "[0.19586777 0.18429752 0.22603306 0.06239669 0.33140496] \n",
      "\n",
      "(5644, 15) (2420, 15) (5644,) (2420,)\n"
     ]
    }
   ],
   "source": [
    "X_train, X_test, y_train, y_test = train_test_split(\n",
    "    X, y, test_size=0.3, stratify=y, random_state=random_state\n",
    ")\n",
    "\n",
    "print(np.unique(y, return_counts=True)[1] / len(y))\n",
    "print(np.unique(y_train, return_counts=True)[1] / len(y_train))\n",
    "print(np.unique(y_test, return_counts=True)[1] / len(y_test), (\"\\n\"))\n",
    "print(X_train.shape, X_test.shape, y_train.shape, y_test.shape)"
   ]
  },
  {
   "cell_type": "markdown",
   "metadata": {},
   "source": [
    "## normalization"
   ]
  },
  {
   "cell_type": "code",
   "execution_count": 224,
   "metadata": {},
   "outputs": [],
   "source": [
    "from sklearn.preprocessing import StandardScaler"
   ]
  },
  {
   "cell_type": "code",
   "execution_count": 225,
   "metadata": {},
   "outputs": [],
   "source": [
    "norm = StandardScaler()\n",
    "norm.fit(X_train)\n",
    "\n",
    "X_train_norm = norm.transform(X_train)\n",
    "X_test_norm = norm.transform(X_test)"
   ]
  },
  {
   "cell_type": "markdown",
   "metadata": {},
   "source": [
    "## K-NN"
   ]
  },
  {
   "cell_type": "code",
   "execution_count": 226,
   "metadata": {},
   "outputs": [],
   "source": [
    "from sklearn.neighbors import KNeighborsClassifier"
   ]
  },
  {
   "cell_type": "code",
   "execution_count": 227,
   "metadata": {},
   "outputs": [
    {
     "data": {
      "text/html": [
       "<style>#sk-container-id-6 {color: black;}#sk-container-id-6 pre{padding: 0;}#sk-container-id-6 div.sk-toggleable {background-color: white;}#sk-container-id-6 label.sk-toggleable__label {cursor: pointer;display: block;width: 100%;margin-bottom: 0;padding: 0.3em;box-sizing: border-box;text-align: center;}#sk-container-id-6 label.sk-toggleable__label-arrow:before {content: \"▸\";float: left;margin-right: 0.25em;color: #696969;}#sk-container-id-6 label.sk-toggleable__label-arrow:hover:before {color: black;}#sk-container-id-6 div.sk-estimator:hover label.sk-toggleable__label-arrow:before {color: black;}#sk-container-id-6 div.sk-toggleable__content {max-height: 0;max-width: 0;overflow: hidden;text-align: left;background-color: #f0f8ff;}#sk-container-id-6 div.sk-toggleable__content pre {margin: 0.2em;color: black;border-radius: 0.25em;background-color: #f0f8ff;}#sk-container-id-6 input.sk-toggleable__control:checked~div.sk-toggleable__content {max-height: 200px;max-width: 100%;overflow: auto;}#sk-container-id-6 input.sk-toggleable__control:checked~label.sk-toggleable__label-arrow:before {content: \"▾\";}#sk-container-id-6 div.sk-estimator input.sk-toggleable__control:checked~label.sk-toggleable__label {background-color: #d4ebff;}#sk-container-id-6 div.sk-label input.sk-toggleable__control:checked~label.sk-toggleable__label {background-color: #d4ebff;}#sk-container-id-6 input.sk-hidden--visually {border: 0;clip: rect(1px 1px 1px 1px);clip: rect(1px, 1px, 1px, 1px);height: 1px;margin: -1px;overflow: hidden;padding: 0;position: absolute;width: 1px;}#sk-container-id-6 div.sk-estimator {font-family: monospace;background-color: #f0f8ff;border: 1px dotted black;border-radius: 0.25em;box-sizing: border-box;margin-bottom: 0.5em;}#sk-container-id-6 div.sk-estimator:hover {background-color: #d4ebff;}#sk-container-id-6 div.sk-parallel-item::after {content: \"\";width: 100%;border-bottom: 1px solid gray;flex-grow: 1;}#sk-container-id-6 div.sk-label:hover label.sk-toggleable__label {background-color: #d4ebff;}#sk-container-id-6 div.sk-serial::before {content: \"\";position: absolute;border-left: 1px solid gray;box-sizing: border-box;top: 0;bottom: 0;left: 50%;z-index: 0;}#sk-container-id-6 div.sk-serial {display: flex;flex-direction: column;align-items: center;background-color: white;padding-right: 0.2em;padding-left: 0.2em;position: relative;}#sk-container-id-6 div.sk-item {position: relative;z-index: 1;}#sk-container-id-6 div.sk-parallel {display: flex;align-items: stretch;justify-content: center;background-color: white;position: relative;}#sk-container-id-6 div.sk-item::before, #sk-container-id-6 div.sk-parallel-item::before {content: \"\";position: absolute;border-left: 1px solid gray;box-sizing: border-box;top: 0;bottom: 0;left: 50%;z-index: -1;}#sk-container-id-6 div.sk-parallel-item {display: flex;flex-direction: column;z-index: 1;position: relative;background-color: white;}#sk-container-id-6 div.sk-parallel-item:first-child::after {align-self: flex-end;width: 50%;}#sk-container-id-6 div.sk-parallel-item:last-child::after {align-self: flex-start;width: 50%;}#sk-container-id-6 div.sk-parallel-item:only-child::after {width: 0;}#sk-container-id-6 div.sk-dashed-wrapped {border: 1px dashed gray;margin: 0 0.4em 0.5em 0.4em;box-sizing: border-box;padding-bottom: 0.4em;background-color: white;}#sk-container-id-6 div.sk-label label {font-family: monospace;font-weight: bold;display: inline-block;line-height: 1.2em;}#sk-container-id-6 div.sk-label-container {text-align: center;}#sk-container-id-6 div.sk-container {/* jupyter's `normalize.less` sets `[hidden] { display: none; }` but bootstrap.min.css set `[hidden] { display: none !important; }` so we also need the `!important` here to be able to override the default hidden behavior on the sphinx rendered scikit-learn.org. See: https://github.com/scikit-learn/scikit-learn/issues/21755 */display: inline-block !important;position: relative;}#sk-container-id-6 div.sk-text-repr-fallback {display: none;}</style><div id=\"sk-container-id-6\" class=\"sk-top-container\"><div class=\"sk-text-repr-fallback\"><pre>KNeighborsClassifier(metric=&#x27;cityblock&#x27;, n_neighbors=13, weights=&#x27;distance&#x27;)</pre><b>In a Jupyter environment, please rerun this cell to show the HTML representation or trust the notebook. <br />On GitHub, the HTML representation is unable to render, please try loading this page with nbviewer.org.</b></div><div class=\"sk-container\" hidden><div class=\"sk-item\"><div class=\"sk-estimator sk-toggleable\"><input class=\"sk-toggleable__control sk-hidden--visually\" id=\"sk-estimator-id-6\" type=\"checkbox\" checked><label for=\"sk-estimator-id-6\" class=\"sk-toggleable__label sk-toggleable__label-arrow\">KNeighborsClassifier</label><div class=\"sk-toggleable__content\"><pre>KNeighborsClassifier(metric=&#x27;cityblock&#x27;, n_neighbors=13, weights=&#x27;distance&#x27;)</pre></div></div></div></div></div>"
      ],
      "text/plain": [
       "KNeighborsClassifier(metric='cityblock', n_neighbors=13, weights='distance')"
      ]
     },
     "execution_count": 227,
     "metadata": {},
     "output_type": "execute_result"
    }
   ],
   "source": [
    "clf = KNeighborsClassifier(n_neighbors=13, metric=\"cityblock\", weights=\"distance\")\n",
    "clf.fit(X_train_norm, y_train)"
   ]
  },
  {
   "cell_type": "code",
   "execution_count": 228,
   "metadata": {},
   "outputs": [
    {
     "name": "stdout",
     "output_type": "stream",
     "text": [
      "Decision Tree train accuracy: 1.0\n",
      "Decision Tree test accuracy: 0.9086776859504132\n"
     ]
    }
   ],
   "source": [
    "dt_train_acc = clf.score(X_train_norm, y_train)\n",
    "dt_test_acc = clf.score(X_test_norm, y_test)\n",
    "print(f'Decision Tree train accuracy: {dt_train_acc}')\n",
    "print(f'Decision Tree test accuracy: {dt_test_acc}')"
   ]
  },
  {
   "cell_type": "code",
   "execution_count": 229,
   "metadata": {},
   "outputs": [
    {
     "data": {
      "text/plain": [
       "array([[0.        , 0.        , 0.06938534, 0.93061466, 0.        ],\n",
       "       [1.        , 0.        , 0.        , 0.        , 0.        ],\n",
       "       [0.        , 0.        , 1.        , 0.        , 0.        ],\n",
       "       [0.        , 1.        , 0.        , 0.        , 0.        ],\n",
       "       [0.        , 1.        , 0.        , 0.        , 0.        ],\n",
       "       [0.        , 0.        , 1.        , 0.        , 0.        ],\n",
       "       [0.        , 1.        , 0.        , 0.        , 0.        ],\n",
       "       [0.        , 0.        , 0.        , 0.        , 1.        ],\n",
       "       [0.        , 0.91713743, 0.        , 0.08286257, 0.        ],\n",
       "       [1.        , 0.        , 0.        , 0.        , 0.        ]])"
      ]
     },
     "execution_count": 229,
     "metadata": {},
     "output_type": "execute_result"
    }
   ],
   "source": [
    "y_test_pred = clf.predict(X_test_norm)\n",
    "y_test_pred\n",
    "y_test_pred_proba = clf.predict_proba(X_test_norm) \n",
    "y_test_pred_proba[0:10]"
   ]
  },
  {
   "cell_type": "code",
   "execution_count": 230,
   "metadata": {},
   "outputs": [
    {
     "data": {
      "application/vnd.plotly.v1+json": {
       "config": {
        "plotlyServerURL": "https://plot.ly"
       },
       "data": [
        {
         "colorscale": [
          [
           0,
           "rgb(247,252,245)"
          ],
          [
           0.125,
           "rgb(229,245,224)"
          ],
          [
           0.25,
           "rgb(199,233,192)"
          ],
          [
           0.375,
           "rgb(161,217,155)"
          ],
          [
           0.5,
           "rgb(116,196,118)"
          ],
          [
           0.625,
           "rgb(65,171,93)"
          ],
          [
           0.75,
           "rgb(35,139,69)"
          ],
          [
           0.875,
           "rgb(0,109,44)"
          ],
          [
           1,
           "rgb(0,68,27)"
          ]
         ],
         "reversescale": false,
         "showscale": false,
         "type": "heatmap",
         "x": [
          " Electronic/Dance",
          "Metal/Rock",
          "Country/Folk/Pop",
          "World/Commercial Pop",
          "Other"
         ],
         "y": [
          " Electronic/Dance",
          "Metal/Rock",
          "Country/Folk/Pop",
          "World/Commercial Pop",
          "Other"
         ],
         "z": [
          [
           403,
           33,
           2,
           8,
           28
          ],
          [
           4,
           380,
           54,
           8,
           0
          ],
          [
           1,
           27,
           514,
           5,
           0
          ],
          [
           1,
           13,
           26,
           111,
           0
          ],
          [
           9,
           1,
           0,
           1,
           791
          ]
         ]
        }
       ],
       "layout": {
        "annotations": [
         {
          "font": {
           "color": "#FFFFFF"
          },
          "showarrow": false,
          "text": "403",
          "x": " Electronic/Dance",
          "xref": "x",
          "y": " Electronic/Dance",
          "yref": "y"
         },
         {
          "font": {
           "color": "#000000"
          },
          "showarrow": false,
          "text": "33",
          "x": "Metal/Rock",
          "xref": "x",
          "y": " Electronic/Dance",
          "yref": "y"
         },
         {
          "font": {
           "color": "#000000"
          },
          "showarrow": false,
          "text": "2",
          "x": "Country/Folk/Pop",
          "xref": "x",
          "y": " Electronic/Dance",
          "yref": "y"
         },
         {
          "font": {
           "color": "#000000"
          },
          "showarrow": false,
          "text": "8",
          "x": "World/Commercial Pop",
          "xref": "x",
          "y": " Electronic/Dance",
          "yref": "y"
         },
         {
          "font": {
           "color": "#000000"
          },
          "showarrow": false,
          "text": "28",
          "x": "Other",
          "xref": "x",
          "y": " Electronic/Dance",
          "yref": "y"
         },
         {
          "font": {
           "color": "#000000"
          },
          "showarrow": false,
          "text": "4",
          "x": " Electronic/Dance",
          "xref": "x",
          "y": "Metal/Rock",
          "yref": "y"
         },
         {
          "font": {
           "color": "#000000"
          },
          "showarrow": false,
          "text": "380",
          "x": "Metal/Rock",
          "xref": "x",
          "y": "Metal/Rock",
          "yref": "y"
         },
         {
          "font": {
           "color": "#000000"
          },
          "showarrow": false,
          "text": "54",
          "x": "Country/Folk/Pop",
          "xref": "x",
          "y": "Metal/Rock",
          "yref": "y"
         },
         {
          "font": {
           "color": "#000000"
          },
          "showarrow": false,
          "text": "8",
          "x": "World/Commercial Pop",
          "xref": "x",
          "y": "Metal/Rock",
          "yref": "y"
         },
         {
          "font": {
           "color": "#000000"
          },
          "showarrow": false,
          "text": "0",
          "x": "Other",
          "xref": "x",
          "y": "Metal/Rock",
          "yref": "y"
         },
         {
          "font": {
           "color": "#000000"
          },
          "showarrow": false,
          "text": "1",
          "x": " Electronic/Dance",
          "xref": "x",
          "y": "Country/Folk/Pop",
          "yref": "y"
         },
         {
          "font": {
           "color": "#000000"
          },
          "showarrow": false,
          "text": "27",
          "x": "Metal/Rock",
          "xref": "x",
          "y": "Country/Folk/Pop",
          "yref": "y"
         },
         {
          "font": {
           "color": "#FFFFFF"
          },
          "showarrow": false,
          "text": "514",
          "x": "Country/Folk/Pop",
          "xref": "x",
          "y": "Country/Folk/Pop",
          "yref": "y"
         },
         {
          "font": {
           "color": "#000000"
          },
          "showarrow": false,
          "text": "5",
          "x": "World/Commercial Pop",
          "xref": "x",
          "y": "Country/Folk/Pop",
          "yref": "y"
         },
         {
          "font": {
           "color": "#000000"
          },
          "showarrow": false,
          "text": "0",
          "x": "Other",
          "xref": "x",
          "y": "Country/Folk/Pop",
          "yref": "y"
         },
         {
          "font": {
           "color": "#000000"
          },
          "showarrow": false,
          "text": "1",
          "x": " Electronic/Dance",
          "xref": "x",
          "y": "World/Commercial Pop",
          "yref": "y"
         },
         {
          "font": {
           "color": "#000000"
          },
          "showarrow": false,
          "text": "13",
          "x": "Metal/Rock",
          "xref": "x",
          "y": "World/Commercial Pop",
          "yref": "y"
         },
         {
          "font": {
           "color": "#000000"
          },
          "showarrow": false,
          "text": "26",
          "x": "Country/Folk/Pop",
          "xref": "x",
          "y": "World/Commercial Pop",
          "yref": "y"
         },
         {
          "font": {
           "color": "#000000"
          },
          "showarrow": false,
          "text": "111",
          "x": "World/Commercial Pop",
          "xref": "x",
          "y": "World/Commercial Pop",
          "yref": "y"
         },
         {
          "font": {
           "color": "#000000"
          },
          "showarrow": false,
          "text": "0",
          "x": "Other",
          "xref": "x",
          "y": "World/Commercial Pop",
          "yref": "y"
         },
         {
          "font": {
           "color": "#000000"
          },
          "showarrow": false,
          "text": "9",
          "x": " Electronic/Dance",
          "xref": "x",
          "y": "Other",
          "yref": "y"
         },
         {
          "font": {
           "color": "#000000"
          },
          "showarrow": false,
          "text": "1",
          "x": "Metal/Rock",
          "xref": "x",
          "y": "Other",
          "yref": "y"
         },
         {
          "font": {
           "color": "#000000"
          },
          "showarrow": false,
          "text": "0",
          "x": "Country/Folk/Pop",
          "xref": "x",
          "y": "Other",
          "yref": "y"
         },
         {
          "font": {
           "color": "#000000"
          },
          "showarrow": false,
          "text": "1",
          "x": "World/Commercial Pop",
          "xref": "x",
          "y": "Other",
          "yref": "y"
         },
         {
          "font": {
           "color": "#FFFFFF"
          },
          "showarrow": false,
          "text": "791",
          "x": "Other",
          "xref": "x",
          "y": "Other",
          "yref": "y"
         }
        ],
        "template": {
         "data": {
          "bar": [
           {
            "error_x": {
             "color": "#2a3f5f"
            },
            "error_y": {
             "color": "#2a3f5f"
            },
            "marker": {
             "line": {
              "color": "#E5ECF6",
              "width": 0.5
             },
             "pattern": {
              "fillmode": "overlay",
              "size": 10,
              "solidity": 0.2
             }
            },
            "type": "bar"
           }
          ],
          "barpolar": [
           {
            "marker": {
             "line": {
              "color": "#E5ECF6",
              "width": 0.5
             },
             "pattern": {
              "fillmode": "overlay",
              "size": 10,
              "solidity": 0.2
             }
            },
            "type": "barpolar"
           }
          ],
          "carpet": [
           {
            "aaxis": {
             "endlinecolor": "#2a3f5f",
             "gridcolor": "white",
             "linecolor": "white",
             "minorgridcolor": "white",
             "startlinecolor": "#2a3f5f"
            },
            "baxis": {
             "endlinecolor": "#2a3f5f",
             "gridcolor": "white",
             "linecolor": "white",
             "minorgridcolor": "white",
             "startlinecolor": "#2a3f5f"
            },
            "type": "carpet"
           }
          ],
          "choropleth": [
           {
            "colorbar": {
             "outlinewidth": 0,
             "ticks": ""
            },
            "type": "choropleth"
           }
          ],
          "contour": [
           {
            "colorbar": {
             "outlinewidth": 0,
             "ticks": ""
            },
            "colorscale": [
             [
              0,
              "#0d0887"
             ],
             [
              0.1111111111111111,
              "#46039f"
             ],
             [
              0.2222222222222222,
              "#7201a8"
             ],
             [
              0.3333333333333333,
              "#9c179e"
             ],
             [
              0.4444444444444444,
              "#bd3786"
             ],
             [
              0.5555555555555556,
              "#d8576b"
             ],
             [
              0.6666666666666666,
              "#ed7953"
             ],
             [
              0.7777777777777778,
              "#fb9f3a"
             ],
             [
              0.8888888888888888,
              "#fdca26"
             ],
             [
              1,
              "#f0f921"
             ]
            ],
            "type": "contour"
           }
          ],
          "contourcarpet": [
           {
            "colorbar": {
             "outlinewidth": 0,
             "ticks": ""
            },
            "type": "contourcarpet"
           }
          ],
          "heatmap": [
           {
            "colorbar": {
             "outlinewidth": 0,
             "ticks": ""
            },
            "colorscale": [
             [
              0,
              "#0d0887"
             ],
             [
              0.1111111111111111,
              "#46039f"
             ],
             [
              0.2222222222222222,
              "#7201a8"
             ],
             [
              0.3333333333333333,
              "#9c179e"
             ],
             [
              0.4444444444444444,
              "#bd3786"
             ],
             [
              0.5555555555555556,
              "#d8576b"
             ],
             [
              0.6666666666666666,
              "#ed7953"
             ],
             [
              0.7777777777777778,
              "#fb9f3a"
             ],
             [
              0.8888888888888888,
              "#fdca26"
             ],
             [
              1,
              "#f0f921"
             ]
            ],
            "type": "heatmap"
           }
          ],
          "heatmapgl": [
           {
            "colorbar": {
             "outlinewidth": 0,
             "ticks": ""
            },
            "colorscale": [
             [
              0,
              "#0d0887"
             ],
             [
              0.1111111111111111,
              "#46039f"
             ],
             [
              0.2222222222222222,
              "#7201a8"
             ],
             [
              0.3333333333333333,
              "#9c179e"
             ],
             [
              0.4444444444444444,
              "#bd3786"
             ],
             [
              0.5555555555555556,
              "#d8576b"
             ],
             [
              0.6666666666666666,
              "#ed7953"
             ],
             [
              0.7777777777777778,
              "#fb9f3a"
             ],
             [
              0.8888888888888888,
              "#fdca26"
             ],
             [
              1,
              "#f0f921"
             ]
            ],
            "type": "heatmapgl"
           }
          ],
          "histogram": [
           {
            "marker": {
             "pattern": {
              "fillmode": "overlay",
              "size": 10,
              "solidity": 0.2
             }
            },
            "type": "histogram"
           }
          ],
          "histogram2d": [
           {
            "colorbar": {
             "outlinewidth": 0,
             "ticks": ""
            },
            "colorscale": [
             [
              0,
              "#0d0887"
             ],
             [
              0.1111111111111111,
              "#46039f"
             ],
             [
              0.2222222222222222,
              "#7201a8"
             ],
             [
              0.3333333333333333,
              "#9c179e"
             ],
             [
              0.4444444444444444,
              "#bd3786"
             ],
             [
              0.5555555555555556,
              "#d8576b"
             ],
             [
              0.6666666666666666,
              "#ed7953"
             ],
             [
              0.7777777777777778,
              "#fb9f3a"
             ],
             [
              0.8888888888888888,
              "#fdca26"
             ],
             [
              1,
              "#f0f921"
             ]
            ],
            "type": "histogram2d"
           }
          ],
          "histogram2dcontour": [
           {
            "colorbar": {
             "outlinewidth": 0,
             "ticks": ""
            },
            "colorscale": [
             [
              0,
              "#0d0887"
             ],
             [
              0.1111111111111111,
              "#46039f"
             ],
             [
              0.2222222222222222,
              "#7201a8"
             ],
             [
              0.3333333333333333,
              "#9c179e"
             ],
             [
              0.4444444444444444,
              "#bd3786"
             ],
             [
              0.5555555555555556,
              "#d8576b"
             ],
             [
              0.6666666666666666,
              "#ed7953"
             ],
             [
              0.7777777777777778,
              "#fb9f3a"
             ],
             [
              0.8888888888888888,
              "#fdca26"
             ],
             [
              1,
              "#f0f921"
             ]
            ],
            "type": "histogram2dcontour"
           }
          ],
          "mesh3d": [
           {
            "colorbar": {
             "outlinewidth": 0,
             "ticks": ""
            },
            "type": "mesh3d"
           }
          ],
          "parcoords": [
           {
            "line": {
             "colorbar": {
              "outlinewidth": 0,
              "ticks": ""
             }
            },
            "type": "parcoords"
           }
          ],
          "pie": [
           {
            "automargin": true,
            "type": "pie"
           }
          ],
          "scatter": [
           {
            "fillpattern": {
             "fillmode": "overlay",
             "size": 10,
             "solidity": 0.2
            },
            "type": "scatter"
           }
          ],
          "scatter3d": [
           {
            "line": {
             "colorbar": {
              "outlinewidth": 0,
              "ticks": ""
             }
            },
            "marker": {
             "colorbar": {
              "outlinewidth": 0,
              "ticks": ""
             }
            },
            "type": "scatter3d"
           }
          ],
          "scattercarpet": [
           {
            "marker": {
             "colorbar": {
              "outlinewidth": 0,
              "ticks": ""
             }
            },
            "type": "scattercarpet"
           }
          ],
          "scattergeo": [
           {
            "marker": {
             "colorbar": {
              "outlinewidth": 0,
              "ticks": ""
             }
            },
            "type": "scattergeo"
           }
          ],
          "scattergl": [
           {
            "marker": {
             "colorbar": {
              "outlinewidth": 0,
              "ticks": ""
             }
            },
            "type": "scattergl"
           }
          ],
          "scattermapbox": [
           {
            "marker": {
             "colorbar": {
              "outlinewidth": 0,
              "ticks": ""
             }
            },
            "type": "scattermapbox"
           }
          ],
          "scatterpolar": [
           {
            "marker": {
             "colorbar": {
              "outlinewidth": 0,
              "ticks": ""
             }
            },
            "type": "scatterpolar"
           }
          ],
          "scatterpolargl": [
           {
            "marker": {
             "colorbar": {
              "outlinewidth": 0,
              "ticks": ""
             }
            },
            "type": "scatterpolargl"
           }
          ],
          "scatterternary": [
           {
            "marker": {
             "colorbar": {
              "outlinewidth": 0,
              "ticks": ""
             }
            },
            "type": "scatterternary"
           }
          ],
          "surface": [
           {
            "colorbar": {
             "outlinewidth": 0,
             "ticks": ""
            },
            "colorscale": [
             [
              0,
              "#0d0887"
             ],
             [
              0.1111111111111111,
              "#46039f"
             ],
             [
              0.2222222222222222,
              "#7201a8"
             ],
             [
              0.3333333333333333,
              "#9c179e"
             ],
             [
              0.4444444444444444,
              "#bd3786"
             ],
             [
              0.5555555555555556,
              "#d8576b"
             ],
             [
              0.6666666666666666,
              "#ed7953"
             ],
             [
              0.7777777777777778,
              "#fb9f3a"
             ],
             [
              0.8888888888888888,
              "#fdca26"
             ],
             [
              1,
              "#f0f921"
             ]
            ],
            "type": "surface"
           }
          ],
          "table": [
           {
            "cells": {
             "fill": {
              "color": "#EBF0F8"
             },
             "line": {
              "color": "white"
             }
            },
            "header": {
             "fill": {
              "color": "#C8D4E3"
             },
             "line": {
              "color": "white"
             }
            },
            "type": "table"
           }
          ]
         },
         "layout": {
          "annotationdefaults": {
           "arrowcolor": "#2a3f5f",
           "arrowhead": 0,
           "arrowwidth": 1
          },
          "autotypenumbers": "strict",
          "coloraxis": {
           "colorbar": {
            "outlinewidth": 0,
            "ticks": ""
           }
          },
          "colorscale": {
           "diverging": [
            [
             0,
             "#8e0152"
            ],
            [
             0.1,
             "#c51b7d"
            ],
            [
             0.2,
             "#de77ae"
            ],
            [
             0.3,
             "#f1b6da"
            ],
            [
             0.4,
             "#fde0ef"
            ],
            [
             0.5,
             "#f7f7f7"
            ],
            [
             0.6,
             "#e6f5d0"
            ],
            [
             0.7,
             "#b8e186"
            ],
            [
             0.8,
             "#7fbc41"
            ],
            [
             0.9,
             "#4d9221"
            ],
            [
             1,
             "#276419"
            ]
           ],
           "sequential": [
            [
             0,
             "#0d0887"
            ],
            [
             0.1111111111111111,
             "#46039f"
            ],
            [
             0.2222222222222222,
             "#7201a8"
            ],
            [
             0.3333333333333333,
             "#9c179e"
            ],
            [
             0.4444444444444444,
             "#bd3786"
            ],
            [
             0.5555555555555556,
             "#d8576b"
            ],
            [
             0.6666666666666666,
             "#ed7953"
            ],
            [
             0.7777777777777778,
             "#fb9f3a"
            ],
            [
             0.8888888888888888,
             "#fdca26"
            ],
            [
             1,
             "#f0f921"
            ]
           ],
           "sequentialminus": [
            [
             0,
             "#0d0887"
            ],
            [
             0.1111111111111111,
             "#46039f"
            ],
            [
             0.2222222222222222,
             "#7201a8"
            ],
            [
             0.3333333333333333,
             "#9c179e"
            ],
            [
             0.4444444444444444,
             "#bd3786"
            ],
            [
             0.5555555555555556,
             "#d8576b"
            ],
            [
             0.6666666666666666,
             "#ed7953"
            ],
            [
             0.7777777777777778,
             "#fb9f3a"
            ],
            [
             0.8888888888888888,
             "#fdca26"
            ],
            [
             1,
             "#f0f921"
            ]
           ]
          },
          "colorway": [
           "#636efa",
           "#EF553B",
           "#00cc96",
           "#ab63fa",
           "#FFA15A",
           "#19d3f3",
           "#FF6692",
           "#B6E880",
           "#FF97FF",
           "#FECB52"
          ],
          "font": {
           "color": "#2a3f5f"
          },
          "geo": {
           "bgcolor": "white",
           "lakecolor": "white",
           "landcolor": "#E5ECF6",
           "showlakes": true,
           "showland": true,
           "subunitcolor": "white"
          },
          "hoverlabel": {
           "align": "left"
          },
          "hovermode": "closest",
          "mapbox": {
           "style": "light"
          },
          "paper_bgcolor": "white",
          "plot_bgcolor": "#E5ECF6",
          "polar": {
           "angularaxis": {
            "gridcolor": "white",
            "linecolor": "white",
            "ticks": ""
           },
           "bgcolor": "#E5ECF6",
           "radialaxis": {
            "gridcolor": "white",
            "linecolor": "white",
            "ticks": ""
           }
          },
          "scene": {
           "xaxis": {
            "backgroundcolor": "#E5ECF6",
            "gridcolor": "white",
            "gridwidth": 2,
            "linecolor": "white",
            "showbackground": true,
            "ticks": "",
            "zerolinecolor": "white"
           },
           "yaxis": {
            "backgroundcolor": "#E5ECF6",
            "gridcolor": "white",
            "gridwidth": 2,
            "linecolor": "white",
            "showbackground": true,
            "ticks": "",
            "zerolinecolor": "white"
           },
           "zaxis": {
            "backgroundcolor": "#E5ECF6",
            "gridcolor": "white",
            "gridwidth": 2,
            "linecolor": "white",
            "showbackground": true,
            "ticks": "",
            "zerolinecolor": "white"
           }
          },
          "shapedefaults": {
           "line": {
            "color": "#2a3f5f"
           }
          },
          "ternary": {
           "aaxis": {
            "gridcolor": "white",
            "linecolor": "white",
            "ticks": ""
           },
           "baxis": {
            "gridcolor": "white",
            "linecolor": "white",
            "ticks": ""
           },
           "bgcolor": "#E5ECF6",
           "caxis": {
            "gridcolor": "white",
            "linecolor": "white",
            "ticks": ""
           }
          },
          "title": {
           "x": 0.05
          },
          "xaxis": {
           "automargin": true,
           "gridcolor": "white",
           "linecolor": "white",
           "ticks": "",
           "title": {
            "standoff": 15
           },
           "zerolinecolor": "white",
           "zerolinewidth": 2
          },
          "yaxis": {
           "automargin": true,
           "gridcolor": "white",
           "linecolor": "white",
           "ticks": "",
           "title": {
            "standoff": 15
           },
           "zerolinecolor": "white",
           "zerolinewidth": 2
          }
         }
        },
        "title": {
         "text": "Confusion Matrix",
         "x": 0.02
        },
        "xaxis": {
         "dtick": 1,
         "gridcolor": "rgb(0, 0, 0)",
         "side": "top",
         "tickangle": 45,
         "ticks": "",
         "title": {
          "text": "Predicted Labels"
         }
        },
        "yaxis": {
         "autorange": "reversed",
         "dtick": 1,
         "tickmode": "array",
         "ticks": "",
         "ticksuffix": "  ",
         "ticktext": [
          " Electronic/Dance",
          "Metal/Rock",
          "Country/Folk/Pop",
          "World/Commercial Pop",
          "Other"
         ],
         "tickvals": [
          0,
          1,
          2,
          3,
          4
         ],
         "title": {
          "text": "True Labels"
         }
        }
       }
      }
     },
     "metadata": {},
     "output_type": "display_data"
    }
   ],
   "source": [
    "import plotly.figure_factory as ff\n",
    "from sklearn.metrics import confusion_matrix\n",
    "\n",
    "# Assumiamo che 'y_test' e 'y_test_pred' siano già definiti e contengano le etichette vere e predette dal tuo modello\n",
    "\n",
    "# Genera la matrice di confusione\n",
    "cf = confusion_matrix(y_test, y_test_pred)\n",
    "\n",
    "# Definisci le etichette per i generi in base ai raggruppamenti definiti\n",
    "genre_labels = [' Electronic/Dance', 'Metal/Rock', 'Country/Folk/Pop', 'World/Commercial Pop', 'Other']\n",
    "\n",
    "# Crea la heatmap usando plotly\n",
    "fig = ff.create_annotated_heatmap(z=cf, x=genre_labels, y=genre_labels,\n",
    "                                  annotation_text=cf.astype(str), colorscale='Greens')\n",
    "\n",
    "# Aggiorna il layout\n",
    "fig.update_layout(title_text='Confusion Matrix', title_x=0.02,\n",
    "                  xaxis=dict(title='Predicted Labels', tickangle=45),\n",
    "                  yaxis=dict(title='True Labels', tickmode='array', tickvals=list(range(len(genre_labels))), ticktext=genre_labels),\n",
    "                  yaxis_autorange='reversed')  # Reverse the y-axis to have the first class at the top\n",
    "\n",
    "# Mostra il grafico\n",
    "fig.show()\n",
    "\n"
   ]
  },
  {
   "cell_type": "code",
   "execution_count": 231,
   "metadata": {},
   "outputs": [
    {
     "data": {
      "application/vnd.plotly.v1+json": {
       "config": {
        "plotlyServerURL": "https://plot.ly"
       },
       "data": [
        {
         "mode": "lines",
         "name": "Class 0 (AP=0.98)",
         "type": "scatter",
         "x": [
          1,
          0.9915611814345991,
          0.9915611814345991,
          0.9915611814345991,
          0.9915611814345991,
          0.9915611814345991,
          0.9915611814345991,
          0.9915611814345991,
          0.9915611814345991,
          0.9915611814345991,
          0.9915611814345991,
          0.9915611814345991,
          0.9915611814345991,
          0.9915611814345991,
          0.9915611814345991,
          0.989451476793249,
          0.989451476793249,
          0.989451476793249,
          0.989451476793249,
          0.989451476793249,
          0.989451476793249,
          0.989451476793249,
          0.989451476793249,
          0.989451476793249,
          0.989451476793249,
          0.989451476793249,
          0.989451476793249,
          0.989451476793249,
          0.989451476793249,
          0.989451476793249,
          0.989451476793249,
          0.989451476793249,
          0.989451476793249,
          0.989451476793249,
          0.989451476793249,
          0.989451476793249,
          0.989451476793249,
          0.9873417721518988,
          0.9873417721518988,
          0.9873417721518988,
          0.9873417721518988,
          0.9873417721518988,
          0.9873417721518988,
          0.9873417721518988,
          0.9873417721518988,
          0.9873417721518988,
          0.9873417721518988,
          0.9873417721518988,
          0.9873417721518988,
          0.9873417721518988,
          0.9873417721518988,
          0.9873417721518988,
          0.9873417721518988,
          0.9873417721518988,
          0.9873417721518988,
          0.9873417721518988,
          0.9852320675105485,
          0.9852320675105485,
          0.9852320675105485,
          0.9852320675105485,
          0.9831223628691983,
          0.9831223628691983,
          0.9831223628691983,
          0.9831223628691983,
          0.9831223628691983,
          0.9831223628691983,
          0.9810126582278481,
          0.9810126582278481,
          0.9810126582278481,
          0.9810126582278481,
          0.9810126582278481,
          0.9810126582278481,
          0.9810126582278481,
          0.9810126582278481,
          0.9810126582278481,
          0.9810126582278481,
          0.9810126582278481,
          0.9810126582278481,
          0.9810126582278481,
          0.9810126582278481,
          0.9810126582278481,
          0.9810126582278481,
          0.9789029535864979,
          0.9789029535864979,
          0.9789029535864979,
          0.9789029535864979,
          0.9789029535864979,
          0.9789029535864979,
          0.9789029535864979,
          0.9789029535864979,
          0.9789029535864979,
          0.9789029535864979,
          0.9767932489451476,
          0.9767932489451476,
          0.9767932489451476,
          0.9746835443037974,
          0.9746835443037974,
          0.9725738396624473,
          0.9704641350210971,
          0.9704641350210971,
          0.9704641350210971,
          0.9704641350210971,
          0.9704641350210971,
          0.9683544303797469,
          0.9662447257383966,
          0.9662447257383966,
          0.9662447257383966,
          0.9662447257383966,
          0.9662447257383966,
          0.9662447257383966,
          0.9662447257383966,
          0.9662447257383966,
          0.9620253164556962,
          0.9620253164556962,
          0.9620253164556962,
          0.9620253164556962,
          0.959915611814346,
          0.959915611814346,
          0.959915611814346,
          0.959915611814346,
          0.9578059071729957,
          0.9578059071729957,
          0.9578059071729957,
          0.9578059071729957,
          0.9556962025316456,
          0.9535864978902954,
          0.9535864978902954,
          0.9535864978902954,
          0.9514767932489452,
          0.9514767932489452,
          0.9514767932489452,
          0.9514767932489452,
          0.9493670886075949,
          0.9493670886075949,
          0.9493670886075949,
          0.9493670886075949,
          0.9493670886075949,
          0.9493670886075949,
          0.9472573839662447,
          0.9472573839662447,
          0.9472573839662447,
          0.9472573839662447,
          0.9451476793248945,
          0.9430379746835443,
          0.9430379746835443,
          0.9430379746835443,
          0.9409282700421941,
          0.9409282700421941,
          0.9409282700421941,
          0.9388185654008439,
          0.9367088607594937,
          0.9345991561181435,
          0.9345991561181435,
          0.9324894514767933,
          0.930379746835443,
          0.930379746835443,
          0.930379746835443,
          0.930379746835443,
          0.930379746835443,
          0.930379746835443,
          0.930379746835443,
          0.930379746835443,
          0.9282700421940928,
          0.9282700421940928,
          0.9240506329113924,
          0.9219409282700421,
          0.9219409282700421,
          0.919831223628692,
          0.919831223628692,
          0.9177215189873418,
          0.9156118143459916,
          0.9156118143459916,
          0.9156118143459916,
          0.9135021097046413,
          0.9135021097046413,
          0.9135021097046413,
          0.9113924050632911,
          0.9092827004219409,
          0.9071729957805907,
          0.9050632911392406,
          0.9050632911392406,
          0.9050632911392406,
          0.9029535864978903,
          0.9029535864978903,
          0.9008438818565401,
          0.9008438818565401,
          0.8966244725738397,
          0.8924050632911392,
          0.890295358649789,
          0.8881856540084389,
          0.8860759493670886,
          0.8839662447257384,
          0.8818565400843882,
          0.8776371308016878,
          0.8776371308016878,
          0.8755274261603375,
          0.8734177215189873,
          0.8713080168776371,
          0.869198312236287,
          0.8670886075949367,
          0.8649789029535865,
          0.8628691983122363,
          0.8607594936708861,
          0.8565400843881856,
          0.8565400843881856,
          0.8544303797468354,
          0.8523206751054853,
          0.8523206751054853,
          0.8481012658227848,
          0.8481012658227848,
          0.8459915611814346,
          0.8459915611814346,
          0.8438818565400844,
          0.8417721518987342,
          0.8375527426160337,
          0.8333333333333334,
          0.8312236286919831,
          0.8312236286919831,
          0.8291139240506329,
          0.8270042194092827,
          0.8270042194092827,
          0.8248945147679325,
          0.8227848101265823,
          0.8227848101265823,
          0.820675105485232,
          0.8185654008438819,
          0.8143459915611815,
          0.8122362869198312,
          0.810126582278481,
          0.8059071729957806,
          0.8037974683544303,
          0.8016877637130801,
          0.79957805907173,
          0.79957805907173,
          0.7974683544303798,
          0.7953586497890295,
          0.7911392405063291,
          0.7911392405063291,
          0.7890295358649789,
          0.7869198312236287,
          0.7848101265822784,
          0.7827004219409283,
          0.7805907172995781,
          0.7784810126582279,
          0.7742616033755274,
          0.770042194092827,
          0.7679324894514767,
          0.7658227848101266,
          0.7637130801687764,
          0.7616033755274262,
          0.7573839662447257,
          0.7552742616033755,
          0.7531645569620253,
          0.7531645569620253,
          0.7489451476793249,
          0.7468354430379747,
          0.7447257383966245,
          0.740506329113924,
          0.7383966244725738,
          0.7362869198312236,
          0.7320675105485233,
          0.729957805907173,
          0.7278481012658228,
          0.7257383966244726,
          0.7236286919831224,
          0.7194092827004219,
          0.7172995780590717,
          0.7130801687763713,
          0.7109704641350211,
          0.7067510548523207,
          0.7067510548523207,
          0.7046413502109705,
          0.70042194092827,
          0.6983122362869199,
          0.6940928270042194,
          0.6919831223628692,
          0.689873417721519,
          0.6877637130801688,
          0.6835443037974683,
          0.6814345991561181,
          0.679324894514768,
          0.6772151898734177,
          0.6751054852320675,
          0.6729957805907173,
          0.6708860759493671,
          0.6666666666666666,
          0.6645569620253164,
          0.6624472573839663,
          0.6582278481012658,
          0.6561181434599156,
          0.6540084388185654,
          0.6518987341772152,
          0.6476793248945147,
          0.6455696202531646,
          0.6413502109704642,
          0.6392405063291139,
          0.6371308016877637,
          0.6350210970464135,
          0.630801687763713,
          0.6286919831223629,
          0.6286919831223629,
          0.6244725738396625,
          0.6223628691983122,
          0.620253164556962,
          0.6181434599156118,
          0.6160337552742616,
          0.6139240506329114,
          0.6118143459915611,
          0.6075949367088608,
          0.6075949367088608,
          0.6054852320675106,
          0.6033755274261603,
          0.6012658227848101,
          0
         ],
         "y": [
          0.19586776859504132,
          0.7004470938897168,
          0.70254110612855,
          0.704647676161919,
          0.706766917293233,
          0.7088989441930619,
          0.7110438729198184,
          0.7132018209408194,
          0.7142857142857143,
          0.7164634146341463,
          0.7186544342507645,
          0.7197549770290965,
          0.7208588957055214,
          0.7219662058371735,
          0.7230769230769231,
          0.7226502311248074,
          0.7248840803709428,
          0.7260061919504643,
          0.7282608695652174,
          0.7293934681181959,
          0.7305295950155763,
          0.7316692667706708,
          0.7328125,
          0.7351097178683386,
          0.7362637362637363,
          0.7374213836477987,
          0.7385826771653543,
          0.740916271721959,
          0.7420886075949367,
          0.7432646592709984,
          0.7444444444444445,
          0.7456279809220986,
          0.7468152866242038,
          0.748006379585327,
          0.7492012779552716,
          0.7516025641025641,
          0.7540192926045016,
          0.7536231884057971,
          0.7548387096774194,
          0.7572815533980582,
          0.7585089141004863,
          0.7597402597402597,
          0.7609756097560976,
          0.762214983713355,
          0.763458401305057,
          0.7647058823529411,
          0.7672131147540984,
          0.7684729064039408,
          0.771004942339374,
          0.7722772277227723,
          0.7735537190082644,
          0.7748344370860927,
          0.7761194029850746,
          0.778702163061564,
          0.78,
          0.7813021702838063,
          0.7809364548494984,
          0.7822445561139029,
          0.7835570469798657,
          0.7848739495798319,
          0.7845117845117845,
          0.7858347386172007,
          0.7884940778341794,
          0.7898305084745763,
          0.7925170068027211,
          0.7938671209540034,
          0.7935153583617748,
          0.7948717948717948,
          0.7962328767123288,
          0.7975986277873071,
          0.7989690721649485,
          0.8003442340791739,
          0.8017241379310345,
          0.8031088082901554,
          0.8058925476603119,
          0.8072916666666666,
          0.8101045296167247,
          0.8115183246073299,
          0.8129370629370629,
          0.8143607705779334,
          0.8157894736842105,
          0.8172231985940246,
          0.8169014084507042,
          0.818342151675485,
          0.8212389380530973,
          0.8241563055062167,
          0.8256227758007118,
          0.8270944741532977,
          0.8285714285714286,
          0.8300536672629696,
          0.8315412186379928,
          0.8330341113105925,
          0.8327338129496403,
          0.8342342342342343,
          0.8357400722021661,
          0.8354430379746836,
          0.838475499092559,
          0.8381818181818181,
          0.8378870673952641,
          0.8394160583941606,
          0.8409506398537477,
          0.8440366972477065,
          0.8455882352941176,
          0.8453038674033149,
          0.8450184501845018,
          0.8481481481481481,
          0.849721706864564,
          0.8528864059590316,
          0.8544776119402985,
          0.8560747663551402,
          0.8592870544090057,
          0.8609022556390977,
          0.8603773584905661,
          0.8620037807183365,
          0.8636363636363636,
          0.8652751423149905,
          0.8650190114068441,
          0.8666666666666667,
          0.8683206106870229,
          0.869980879541109,
          0.8697318007662835,
          0.8730769230769231,
          0.8747591522157996,
          0.8781431334622823,
          0.877906976744186,
          0.8776699029126214,
          0.8793774319066148,
          0.8828125,
          0.8825831702544031,
          0.884313725490196,
          0.8860510805500982,
          0.8877952755905512,
          0.8875739644970414,
          0.8893280632411067,
          0.8910891089108911,
          0.8928571428571429,
          0.8946322067594433,
          0.8982035928143712,
          0.898,
          0.8997995991983968,
          0.903420523138833,
          0.907070707070707,
          0.9068825910931174,
          0.9066937119675457,
          0.9085365853658537,
          0.9103869653767821,
          0.9102040816326531,
          0.9120654396728016,
          0.9158110882956879,
          0.9156378600823045,
          0.9154639175257732,
          0.9152892561983471,
          0.917184265010352,
          0.91701244813278,
          0.9168399168399168,
          0.91875,
          0.9206680584551148,
          0.9225941422594143,
          0.9245283018867925,
          0.9264705882352942,
          0.9284210526315789,
          0.930379746835443,
          0.9302325581395349,
          0.9322033898305084,
          0.9319148936170213,
          0.9317697228144989,
          0.9337606837606838,
          0.9336188436830836,
          0.9376344086021505,
          0.9375,
          0.937365010799136,
          0.9393939393939394,
          0.9414316702819957,
          0.941304347826087,
          0.9433551198257081,
          0.9454148471615721,
          0.9452954048140044,
          0.9451754385964912,
          0.945054945054945,
          0.9449339207048458,
          0.9491150442477876,
          0.9512195121951219,
          0.9511111111111111,
          0.9532293986636972,
          0.953125,
          0.9552572706935123,
          0.9550561797752809,
          0.9548532731376975,
          0.9547511312217195,
          0.9546485260770975,
          0.9545454545454546,
          0.9544419134396356,
          0.954337899543379,
          0.9541284403669725,
          0.9563218390804598,
          0.956221198156682,
          0.9561200923787528,
          0.9560185185185185,
          0.9559164733178654,
          0.9558139534883721,
          0.9557109557109557,
          0.955607476635514,
          0.955503512880562,
          0.9552941176470588,
          0.9575471698113207,
          0.9574468085106383,
          0.957345971563981,
          0.9619047619047619,
          0.9617224880382775,
          0.9663461538461539,
          0.9662650602409638,
          0.9685990338164251,
          0.9685230024213075,
          0.9684466019417476,
          0.9682926829268292,
          0.9681372549019608,
          0.9680589680589681,
          0.9704433497536946,
          0.9703703703703703,
          0.9702970297029703,
          0.9727047146401985,
          0.972636815920398,
          0.972568578553616,
          0.975,
          0.974937343358396,
          0.9748743718592965,
          0.9747474747474747,
          0.9746835443037974,
          0.9746192893401016,
          0.9744897959183674,
          0.9744245524296675,
          0.9743589743589743,
          0.974293059125964,
          0.9768041237113402,
          0.9767441860465116,
          0.9766839378238342,
          0.9765625,
          0.981675392670157,
          0.9816272965879265,
          0.9815789473684211,
          0.9815303430079155,
          0.9814814814814815,
          0.9814323607427056,
          0.9813829787234043,
          0.9812834224598931,
          0.9811827956989247,
          0.9811320754716981,
          0.981081081081081,
          0.981029810298103,
          0.9809782608695652,
          0.9808743169398907,
          0.9808219178082191,
          0.9807692307692307,
          0.9861878453038674,
          0.9861111111111112,
          0.9860724233983287,
          0.9860335195530726,
          0.9859550561797753,
          0.9859154929577465,
          0.9858757062146892,
          0.9857954545454546,
          0.9857549857549858,
          0.9857142857142858,
          0.9856733524355301,
          0.985632183908046,
          0.9855491329479769,
          0.9855072463768116,
          0.9854227405247813,
          0.9853801169590644,
          0.9852941176470589,
          0.9882005899705014,
          0.9881656804733728,
          0.9880952380952381,
          0.9880597014925373,
          0.987987987987988,
          0.9879518072289156,
          0.9879154078549849,
          0.9878787878787879,
          0.9878048780487805,
          0.9877675840978594,
          0.9877300613496932,
          0.9876923076923076,
          0.9876543209876543,
          0.9876160990712074,
          0.9875776397515528,
          0.9875,
          0.987460815047022,
          0.9874213836477987,
          0.9873417721518988,
          0.9873015873015873,
          0.9872611464968153,
          0.987220447284345,
          0.9871382636655949,
          0.9870967741935484,
          0.987012987012987,
          0.9869706840390879,
          0.9869281045751634,
          0.9868852459016394,
          0.9867986798679867,
          0.9867549668874173,
          0.9933333333333333,
          0.9932885906040269,
          0.9932659932659933,
          0.9932432432432432,
          0.9932203389830508,
          0.9931972789115646,
          0.9931740614334471,
          0.9931506849315068,
          0.993103448275862,
          1,
          1,
          1,
          1,
          1
         ]
        },
        {
         "mode": "lines",
         "name": "Class 1 (AP=0.93)",
         "type": "scatter",
         "x": [
          1,
          0.9775784753363229,
          0.9753363228699552,
          0.9730941704035875,
          0.9730941704035875,
          0.9730941704035875,
          0.9730941704035875,
          0.9730941704035875,
          0.9730941704035875,
          0.9730941704035875,
          0.9730941704035875,
          0.9730941704035875,
          0.9708520179372198,
          0.9708520179372198,
          0.9708520179372198,
          0.9708520179372198,
          0.9708520179372198,
          0.9708520179372198,
          0.9708520179372198,
          0.9708520179372198,
          0.9708520179372198,
          0.9708520179372198,
          0.9708520179372198,
          0.9708520179372198,
          0.9708520179372198,
          0.9708520179372198,
          0.9708520179372198,
          0.9708520179372198,
          0.9708520179372198,
          0.9708520179372198,
          0.9708520179372198,
          0.9708520179372198,
          0.9708520179372198,
          0.9708520179372198,
          0.968609865470852,
          0.968609865470852,
          0.968609865470852,
          0.968609865470852,
          0.968609865470852,
          0.968609865470852,
          0.968609865470852,
          0.968609865470852,
          0.968609865470852,
          0.968609865470852,
          0.968609865470852,
          0.968609865470852,
          0.968609865470852,
          0.968609865470852,
          0.968609865470852,
          0.9663677130044843,
          0.9641255605381166,
          0.9641255605381166,
          0.9641255605381166,
          0.9618834080717489,
          0.9618834080717489,
          0.9618834080717489,
          0.9618834080717489,
          0.9618834080717489,
          0.9618834080717489,
          0.9618834080717489,
          0.9618834080717489,
          0.9618834080717489,
          0.9618834080717489,
          0.9618834080717489,
          0.9618834080717489,
          0.9618834080717489,
          0.9618834080717489,
          0.9618834080717489,
          0.9618834080717489,
          0.9618834080717489,
          0.9618834080717489,
          0.9618834080717489,
          0.9618834080717489,
          0.9618834080717489,
          0.9618834080717489,
          0.9618834080717489,
          0.9618834080717489,
          0.9618834080717489,
          0.9618834080717489,
          0.9618834080717489,
          0.9618834080717489,
          0.9573991031390134,
          0.9573991031390134,
          0.9573991031390134,
          0.9573991031390134,
          0.9573991031390134,
          0.9573991031390134,
          0.9573991031390134,
          0.9573991031390134,
          0.9573991031390134,
          0.9551569506726457,
          0.9551569506726457,
          0.9551569506726457,
          0.9551569506726457,
          0.9551569506726457,
          0.9551569506726457,
          0.9551569506726457,
          0.952914798206278,
          0.952914798206278,
          0.952914798206278,
          0.952914798206278,
          0.952914798206278,
          0.952914798206278,
          0.952914798206278,
          0.9506726457399103,
          0.9506726457399103,
          0.9461883408071748,
          0.9461883408071748,
          0.9461883408071748,
          0.9461883408071748,
          0.9439461883408071,
          0.9439461883408071,
          0.9439461883408071,
          0.9439461883408071,
          0.9439461883408071,
          0.9439461883408071,
          0.9439461883408071,
          0.9439461883408071,
          0.9439461883408071,
          0.9439461883408071,
          0.9417040358744395,
          0.9394618834080718,
          0.9394618834080718,
          0.9372197309417041,
          0.9372197309417041,
          0.9349775784753364,
          0.9349775784753364,
          0.9349775784753364,
          0.9349775784753364,
          0.9349775784753364,
          0.9327354260089686,
          0.9327354260089686,
          0.9304932735426009,
          0.9304932735426009,
          0.9304932735426009,
          0.9304932735426009,
          0.9304932735426009,
          0.9282511210762332,
          0.9282511210762332,
          0.9282511210762332,
          0.9282511210762332,
          0.9282511210762332,
          0.9282511210762332,
          0.9282511210762332,
          0.9260089686098655,
          0.9260089686098655,
          0.9260089686098655,
          0.9260089686098655,
          0.9237668161434978,
          0.9237668161434978,
          0.9237668161434978,
          0.9237668161434978,
          0.9237668161434978,
          0.9237668161434978,
          0.9237668161434978,
          0.9237668161434978,
          0.9237668161434978,
          0.9237668161434978,
          0.9237668161434978,
          0.92152466367713,
          0.92152466367713,
          0.92152466367713,
          0.9192825112107623,
          0.9192825112107623,
          0.9170403587443946,
          0.9170403587443946,
          0.9170403587443946,
          0.9170403587443946,
          0.9170403587443946,
          0.9170403587443946,
          0.9170403587443946,
          0.9170403587443946,
          0.9170403587443946,
          0.9170403587443946,
          0.9170403587443946,
          0.9170403587443946,
          0.9170403587443946,
          0.9170403587443946,
          0.9170403587443946,
          0.9170403587443946,
          0.9147982062780269,
          0.9147982062780269,
          0.9125560538116592,
          0.9125560538116592,
          0.9125560538116592,
          0.9125560538116592,
          0.9103139013452914,
          0.9103139013452914,
          0.9080717488789237,
          0.9080717488789237,
          0.9080717488789237,
          0.9080717488789237,
          0.9080717488789237,
          0.905829596412556,
          0.905829596412556,
          0.905829596412556,
          0.905829596412556,
          0.905829596412556,
          0.905829596412556,
          0.9035874439461884,
          0.9013452914798207,
          0.899103139013453,
          0.899103139013453,
          0.8968609865470852,
          0.8968609865470852,
          0.8946188340807175,
          0.8923766816143498,
          0.8923766816143498,
          0.8923766816143498,
          0.8923766816143498,
          0.8923766816143498,
          0.8923766816143498,
          0.8923766816143498,
          0.8923766816143498,
          0.8923766816143498,
          0.8901345291479821,
          0.8901345291479821,
          0.8878923766816144,
          0.8878923766816144,
          0.8878923766816144,
          0.8856502242152466,
          0.8834080717488789,
          0.8789237668161435,
          0.8789237668161435,
          0.8789237668161435,
          0.8789237668161435,
          0.874439461883408,
          0.874439461883408,
          0.874439461883408,
          0.8699551569506726,
          0.8699551569506726,
          0.8699551569506726,
          0.8699551569506726,
          0.8677130044843049,
          0.8677130044843049,
          0.8677130044843049,
          0.8677130044843049,
          0.8654708520179372,
          0.8654708520179372,
          0.8654708520179372,
          0.8632286995515696,
          0.8609865470852018,
          0.8609865470852018,
          0.8609865470852018,
          0.8609865470852018,
          0.8587443946188341,
          0.8565022421524664,
          0.8542600896860987,
          0.8542600896860987,
          0.8542600896860987,
          0.8542600896860987,
          0.8542600896860987,
          0.852017937219731,
          0.8497757847533632,
          0.8497757847533632,
          0.8497757847533632,
          0.8497757847533632,
          0.8497757847533632,
          0.8475336322869955,
          0.8475336322869955,
          0.8452914798206278,
          0.8408071748878924,
          0.8408071748878924,
          0.8408071748878924,
          0.8385650224215246,
          0.8385650224215246,
          0.8385650224215246,
          0.8363228699551569,
          0.8363228699551569,
          0.8363228699551569,
          0.8340807174887892,
          0.8318385650224215,
          0.8318385650224215,
          0.8295964125560538,
          0.8295964125560538,
          0.827354260089686,
          0.8228699551569507,
          0.820627802690583,
          0.820627802690583,
          0.820627802690583,
          0.8183856502242153,
          0.8161434977578476,
          0.8139013452914798,
          0.8139013452914798,
          0.8116591928251121,
          0.8116591928251121,
          0.8116591928251121,
          0.8116591928251121,
          0.8071748878923767,
          0.8071748878923767,
          0.8071748878923767,
          0.8071748878923767,
          0.804932735426009,
          0.804932735426009,
          0.804932735426009,
          0.8026905829596412,
          0.8026905829596412,
          0.8026905829596412,
          0.8004484304932735,
          0.7982062780269058,
          0.7959641255605381,
          0.7959641255605381,
          0.7914798206278026,
          0.7892376681614349,
          0.7892376681614349,
          0.7847533632286996,
          0.7847533632286996,
          0.7847533632286996,
          0.7847533632286996,
          0.7825112107623319,
          0.7825112107623319,
          0.7825112107623319,
          0.7802690582959642,
          0.7757847533632287,
          0.7757847533632287,
          0.7757847533632287,
          0.7757847533632287,
          0.773542600896861,
          0.773542600896861,
          0.773542600896861,
          0.7713004484304933,
          0.7668161434977578,
          0.7668161434977578,
          0.7645739910313901,
          0.7645739910313901,
          0.7623318385650224,
          0.7600896860986547,
          0.7600896860986547,
          0.7600896860986547,
          0.757847533632287,
          0.7556053811659192,
          0.7556053811659192,
          0.7556053811659192,
          0.7556053811659192,
          0.7556053811659192,
          0.7533632286995515,
          0.7533632286995515,
          0.7511210762331838,
          0.7488789237668162,
          0.7466367713004485,
          0.7443946188340808,
          0.7443946188340808,
          0.742152466367713,
          0.742152466367713,
          0.7399103139013453,
          0.7376681614349776,
          0.7376681614349776,
          0.7354260089686099,
          0.7331838565022422,
          0.7309417040358744,
          0.7286995515695067,
          0.7286995515695067,
          0.7286995515695067,
          0.7286995515695067,
          0.726457399103139,
          0.7242152466367713,
          0.7219730941704036,
          0.7197309417040358,
          0.7197309417040358,
          0.7174887892376681,
          0.7152466367713004,
          0.7130044843049327,
          0.7130044843049327,
          0.7130044843049327,
          0.7107623318385651,
          0.7085201793721974,
          0.7062780269058296,
          0.7040358744394619,
          0.7040358744394619,
          0.7017937219730942,
          0.7017937219730942,
          0.7017937219730942,
          0.6995515695067265,
          0.6973094170403588,
          0.6973094170403588,
          0.6928251121076233,
          0.6905829596412556,
          0.6905829596412556,
          0.6905829596412556,
          0.6905829596412556,
          0.6860986547085202,
          0.6860986547085202,
          0.6838565022421524,
          0.6816143497757847,
          0.6771300448430493,
          0.6771300448430493,
          0.6771300448430493,
          0.6748878923766816,
          0.672645739910314,
          0.6704035874439462,
          0.6681614349775785,
          0.6659192825112108,
          0.6636771300448431,
          0.6614349775784754,
          0.6591928251121076,
          0.6569506726457399,
          0.6547085201793722,
          0.6547085201793722,
          0.6502242152466368,
          0.6502242152466368,
          0.647982062780269,
          0.6457399103139013,
          0.6434977578475336,
          0.6434977578475336,
          0.6412556053811659,
          0.6390134529147982,
          0.6390134529147982,
          0.6390134529147982,
          0.6367713004484304,
          0.6345291479820628,
          0.6322869955156951,
          0.6300448430493274,
          0.6300448430493274,
          0.6278026905829597,
          0.625560538116592,
          0.6233183856502242,
          0.6210762331838565,
          0.6188340807174888,
          0.6143497757847534,
          0.6098654708520179,
          0.6053811659192825,
          0.600896860986547,
          0.5986547085201793,
          0.5964125560538116,
          0.594170403587444,
          0.5919282511210763,
          0.5896860986547086,
          0.5874439461883408,
          0.5852017937219731,
          0.5829596412556054,
          0.57847533632287,
          0.5739910313901345,
          0.5717488789237668,
          0.5695067264573991,
          0.5672645739910314,
          0.5627802690582959,
          0.5627802690582959,
          0.5582959641255605,
          0.5538116591928252,
          0.5493273542600897,
          0.547085201793722,
          0.5426008968609866,
          0.5403587443946188,
          0.5381165919282511,
          0.5358744394618834,
          0
         ],
         "y": [
          0.18429752066115704,
          0.5891891891891892,
          0.5886332882273342,
          0.5880758807588076,
          0.5888738127544098,
          0.5896739130434783,
          0.5904761904761905,
          0.5912806539509536,
          0.592087312414734,
          0.592896174863388,
          0.5937072503419972,
          0.5945205479452055,
          0.5939643347050755,
          0.5947802197802198,
          0.5955983493810179,
          0.5972413793103448,
          0.5980662983425414,
          0.598893499308437,
          0.5997229916897507,
          0.6005547850208044,
          0.6013888888888889,
          0.6022253129346314,
          0.603905160390516,
          0.6055944055944056,
          0.6064425770308123,
          0.6072931276297335,
          0.6081460674157303,
          0.6090014064697609,
          0.6098591549295774,
          0.610719322990127,
          0.6115819209039548,
          0.6124469589816125,
          0.613314447592068,
          0.6141843971631206,
          0.6136363636363636,
          0.6153846153846154,
          0.6162624821683309,
          0.6171428571428571,
          0.6189111747851003,
          0.6197991391678622,
          0.6206896551724138,
          0.622478386167147,
          0.6233766233766234,
          0.6242774566473989,
          0.6251808972503617,
          0.6260869565217392,
          0.6269956458635704,
          0.627906976744186,
          0.62882096069869,
          0.6282798833819242,
          0.6277372262773723,
          0.6295754026354319,
          0.6304985337243402,
          0.6299559471365639,
          0.6308823529411764,
          0.6318114874815906,
          0.6327433628318584,
          0.6346153846153846,
          0.6355555555555555,
          0.6364985163204748,
          0.637444279346211,
          0.6383928571428571,
          0.639344262295082,
          0.6402985074626866,
          0.6412556053811659,
          0.6422155688622755,
          0.6431784107946027,
          0.6441441441441441,
          0.6460843373493976,
          0.6470588235294118,
          0.648036253776435,
          0.65,
          0.6519756838905775,
          0.6529680365296804,
          0.6539634146341463,
          0.6549618320610687,
          0.6559633027522935,
          0.6569678407350689,
          0.6579754601226994,
          0.6589861751152074,
          0.66,
          0.6589506172839507,
          0.6599690880989181,
          0.6609907120743034,
          0.662015503875969,
          0.6630434782608695,
          0.6651090342679128,
          0.6661466458658346,
          0.6682316118935837,
          0.6692789968652038,
          0.6687598116169545,
          0.6698113207547169,
          0.6708661417322834,
          0.6719242902208202,
          0.6729857819905213,
          0.6751188589540412,
          0.6772655007949125,
          0.6767515923566879,
          0.6778309409888357,
          0.6789137380191693,
          0.68,
          0.6810897435897436,
          0.6821829855537721,
          0.6832797427652733,
          0.6827697262479872,
          0.6838709677419355,
          0.6828478964401294,
          0.6839546191247974,
          0.685064935064935,
          0.6861788617886179,
          0.6856677524429967,
          0.6867862969004894,
          0.6879084967320261,
          0.6890343698854338,
          0.6901639344262295,
          0.6912972085385879,
          0.6924342105263158,
          0.6935749588138386,
          0.6947194719471947,
          0.6970198675496688,
          0.6965174129353234,
          0.6960132890365448,
          0.6983333333333334,
          0.6978297161936561,
          0.6989966555183946,
          0.6984924623115578,
          0.6996644295302014,
          0.7008403361344537,
          0.7032040472175379,
          0.7055837563451777,
          0.7050847457627119,
          0.7062818336162988,
          0.70578231292517,
          0.706984667802385,
          0.7081911262798635,
          0.7094017094017094,
          0.7106164383561644,
          0.7101200686106347,
          0.711340206185567,
          0.7125645438898451,
          0.7137931034482758,
          0.7150259067357513,
          0.7175043327556326,
          0.71875,
          0.7182608695652174,
          0.7195121951219512,
          0.7207678883071553,
          0.722027972027972,
          0.7215411558669002,
          0.7228070175438597,
          0.7240773286467487,
          0.7253521126760564,
          0.7266313932980599,
          0.7292035398230089,
          0.7304964539007093,
          0.7317939609236235,
          0.7330960854092526,
          0.7344028520499108,
          0.7357142857142858,
          0.7352415026833632,
          0.7365591397849462,
          0.7378815080789947,
          0.737410071942446,
          0.7387387387387387,
          0.7382671480144405,
          0.7396021699819169,
          0.7409420289855072,
          0.7422867513611615,
          0.7449908925318761,
          0.7463503649635036,
          0.7477148080438757,
          0.7490842490842491,
          0.7504587155963303,
          0.7532228360957642,
          0.7546125461254612,
          0.756007393715342,
          0.7588126159554731,
          0.7602230483271375,
          0.7616387337057728,
          0.7630597014925373,
          0.7626168224299066,
          0.7640449438202247,
          0.7636022514071295,
          0.7650375939849624,
          0.7664783427495292,
          0.7679245283018868,
          0.7674858223062382,
          0.7689393939393939,
          0.7685009487666035,
          0.7699619771863118,
          0.7714285714285715,
          0.7729007633587787,
          0.7743785850860421,
          0.7739463601532567,
          0.7769230769230769,
          0.7784200385356455,
          0.7799227799227799,
          0.781431334622824,
          0.7829457364341085,
          0.7825242718446602,
          0.7821011673151751,
          0.7816764132553606,
          0.783203125,
          0.7827788649706457,
          0.7843137254901961,
          0.7838899803536346,
          0.7834645669291339,
          0.7850098619329389,
          0.7865612648221344,
          0.7896825396825397,
          0.7912524850894632,
          0.7928286852589641,
          0.7944111776447106,
          0.796,
          0.7975951903807615,
          0.7971887550200804,
          0.7987927565392354,
          0.7983870967741935,
          0.8,
          0.8016194331983806,
          0.8012170385395537,
          0.8008130081300813,
          0.8,
          0.8016359918200409,
          0.8032786885245902,
          0.8049281314168378,
          0.8041237113402062,
          0.8057851239669421,
          0.8074534161490683,
          0.8066528066528067,
          0.8083333333333333,
          0.8100208768267223,
          0.8117154811715481,
          0.8113207547169812,
          0.8130252100840336,
          0.8147368421052632,
          0.8164556962025317,
          0.8160676532769556,
          0.8177966101694916,
          0.8195329087048833,
          0.8191489361702128,
          0.8187633262260128,
          0.8205128205128205,
          0.8240343347639485,
          0.8258064516129032,
          0.8254310344827587,
          0.8250539956803455,
          0.8246753246753247,
          0.8264642082429501,
          0.8282608695652174,
          0.8300653594771242,
          0.8318777292576419,
          0.8315098468271335,
          0.831140350877193,
          0.8348017621145375,
          0.8366445916114791,
          0.838495575221239,
          0.8403547671840355,
          0.84,
          0.8418708240534521,
          0.8415178571428571,
          0.8408071748878924,
          0.8426966292134831,
          0.8445945945945946,
          0.8442437923250564,
          0.8461538461538461,
          0.8480725623582767,
          0.8477272727272728,
          0.8496583143507973,
          0.8515981735159818,
          0.851258581235698,
          0.8509174311926605,
          0.8528735632183908,
          0.8525345622119815,
          0.8545034642032333,
          0.8541666666666666,
          0.8534883720930233,
          0.8531468531468531,
          0.8571428571428571,
          0.8591549295774648,
          0.8588235294117647,
          0.8584905660377359,
          0.8581560283687943,
          0.8601895734597157,
          0.8598574821852731,
          0.861904761904762,
          0.863961813842482,
          0.8660287081339713,
          0.8653846153846154,
          0.8695652173913043,
          0.8716707021791767,
          0.8737864077669902,
          0.8734793187347932,
          0.875609756097561,
          0.8777506112469438,
          0.8774509803921569,
          0.8796068796068796,
          0.8817733990147784,
          0.8814814814814815,
          0.8811881188118812,
          0.8808933002481389,
          0.8830845771144279,
          0.8825,
          0.8822055137844611,
          0.8844221105527639,
          0.8838383838383839,
          0.8860759493670886,
          0.8905852417302799,
          0.8928571428571429,
          0.8925831202046036,
          0.8948717948717949,
          0.897172236503856,
          0.8969072164948454,
          0.8963730569948186,
          0.8987012987012987,
          0.9010416666666666,
          0.9033942558746736,
          0.9031413612565445,
          0.905511811023622,
          0.9078947368421053,
          0.9076517150395779,
          0.9071618037135278,
          0.9095744680851063,
          0.9093333333333333,
          0.9117647058823529,
          0.9115281501340483,
          0.9112903225806451,
          0.9137466307277629,
          0.9162162162162162,
          0.9159891598915989,
          0.9157608695652174,
          0.9182561307901907,
          0.9207650273224044,
          0.9232876712328767,
          0.9258241758241759,
          0.9256198347107438,
          0.9281767955801105,
          0.9279778393351801,
          0.9277777777777778,
          0.9275766016713092,
          0.9273743016759777,
          0.9299719887955182,
          0.9297752808988764,
          0.9323943661971831,
          0.9322033898305084,
          0.9320113314447592,
          0.9346590909090909,
          0.9344729344729344,
          0.9342857142857143,
          0.9340974212034384,
          0.9339080459770115,
          0.9365994236311239,
          0.9393063583815029,
          0.9420289855072463,
          0.9418604651162791,
          0.9416909620991254,
          0.9415204678362573,
          0.9413489736070382,
          0.9441176470588235,
          0.943952802359882,
          0.9437869822485208,
          0.9436201780415431,
          0.9464285714285714,
          0.9492537313432836,
          0.9491017964071856,
          0.948948948948949,
          0.9487951807228916,
          0.9486404833836858,
          0.9515151515151515,
          0.9513677811550152,
          0.9542682926829268,
          0.9571865443425076,
          0.9570552147239264,
          0.9569230769230769,
          0.9598765432098766,
          0.9596273291925466,
          0.9595015576323987,
          0.9625,
          0.9655172413793104,
          0.9685534591194969,
          0.9683544303797469,
          0.9714285714285714,
          0.9713375796178344,
          0.9712460063897763,
          0.9710610932475884,
          0.9741935483870968,
          0.9773462783171522,
          0.9772727272727273,
          0.9771986970684039,
          0.9771241830065359,
          0.9770491803278688,
          0.9769736842105263,
          0.976897689768977,
          0.9768211920529801,
          0.9767441860465116,
          0.9766666666666667,
          0.9765886287625418,
          0.9798657718120806,
          0.9797297297297297,
          0.9830508474576272,
          0.9829931972789115,
          0.9829351535836177,
          0.9828767123287672,
          0.9862542955326461,
          0.9862068965517241,
          0.986159169550173,
          0.9895833333333334,
          0.9930313588850174,
          0.993006993006993,
          0.9929824561403509,
          0.9929577464788732,
          0.9929328621908127,
          0.9964539007092199,
          0.99644128113879,
          0.9964285714285714,
          0.996415770609319,
          0.9964028776978417,
          0.9963898916967509,
          0.9963636363636363,
          0.9963369963369964,
          0.996309963099631,
          0.9962825278810409,
          0.996268656716418,
          0.9962546816479401,
          0.9962406015037594,
          0.9962264150943396,
          0.9962121212121212,
          0.9961977186311787,
          0.9961832061068703,
          0.9961685823754789,
          0.9961389961389961,
          0.9961089494163424,
          0.99609375,
          0.996078431372549,
          0.9960629921259843,
          0.996031746031746,
          1,
          1,
          1,
          1,
          1,
          1,
          1,
          1,
          1,
          1
         ]
        },
        {
         "mode": "lines",
         "name": "Class 2 (AP=0.96)",
         "type": "scatter",
         "x": [
          1,
          1,
          1,
          1,
          1,
          1,
          1,
          1,
          1,
          1,
          1,
          1,
          1,
          1,
          1,
          1,
          1,
          1,
          1,
          1,
          1,
          1,
          1,
          1,
          1,
          1,
          1,
          1,
          1,
          1,
          1,
          1,
          1,
          1,
          1,
          1,
          1,
          1,
          1,
          1,
          1,
          1,
          1,
          1,
          1,
          1,
          1,
          1,
          1,
          1,
          1,
          1,
          1,
          1,
          1,
          1,
          1,
          1,
          0.9981718464351006,
          0.9981718464351006,
          0.9981718464351006,
          0.9981718464351006,
          0.9981718464351006,
          0.9981718464351006,
          0.9963436928702011,
          0.9963436928702011,
          0.9963436928702011,
          0.9963436928702011,
          0.9963436928702011,
          0.9963436928702011,
          0.9963436928702011,
          0.9963436928702011,
          0.9945155393053017,
          0.9945155393053017,
          0.9945155393053017,
          0.9945155393053017,
          0.9945155393053017,
          0.9908592321755028,
          0.9908592321755028,
          0.9908592321755028,
          0.9908592321755028,
          0.9908592321755028,
          0.9908592321755028,
          0.9908592321755028,
          0.9908592321755028,
          0.9908592321755028,
          0.9908592321755028,
          0.9908592321755028,
          0.9908592321755028,
          0.9908592321755028,
          0.9890310786106032,
          0.9890310786106032,
          0.9890310786106032,
          0.9890310786106032,
          0.9890310786106032,
          0.9890310786106032,
          0.9890310786106032,
          0.9890310786106032,
          0.9890310786106032,
          0.9890310786106032,
          0.9890310786106032,
          0.9890310786106032,
          0.9890310786106032,
          0.9890310786106032,
          0.9890310786106032,
          0.9890310786106032,
          0.9890310786106032,
          0.9872029250457038,
          0.9872029250457038,
          0.9872029250457038,
          0.9872029250457038,
          0.9872029250457038,
          0.9872029250457038,
          0.9872029250457038,
          0.9872029250457038,
          0.9853747714808044,
          0.9853747714808044,
          0.9853747714808044,
          0.9835466179159049,
          0.9835466179159049,
          0.9835466179159049,
          0.9817184643510055,
          0.9817184643510055,
          0.979890310786106,
          0.9780621572212066,
          0.9780621572212066,
          0.9780621572212066,
          0.9780621572212066,
          0.9780621572212066,
          0.9780621572212066,
          0.9780621572212066,
          0.9780621572212066,
          0.9780621572212066,
          0.9780621572212066,
          0.9780621572212066,
          0.9780621572212066,
          0.9780621572212066,
          0.9780621572212066,
          0.9762340036563071,
          0.9744058500914077,
          0.9744058500914077,
          0.9744058500914077,
          0.9744058500914077,
          0.9744058500914077,
          0.9744058500914077,
          0.9744058500914077,
          0.9744058500914077,
          0.9744058500914077,
          0.9744058500914077,
          0.9744058500914077,
          0.9744058500914077,
          0.9725776965265083,
          0.9725776965265083,
          0.9725776965265083,
          0.9707495429616088,
          0.9707495429616088,
          0.9707495429616088,
          0.9707495429616088,
          0.9707495429616088,
          0.9707495429616088,
          0.9707495429616088,
          0.9707495429616088,
          0.9707495429616088,
          0.9707495429616088,
          0.9670932358318098,
          0.9670932358318098,
          0.9652650822669104,
          0.9634369287020109,
          0.9634369287020109,
          0.9616087751371115,
          0.9616087751371115,
          0.9579524680073126,
          0.9579524680073126,
          0.9579524680073126,
          0.9561243144424132,
          0.9524680073126143,
          0.9524680073126143,
          0.9524680073126143,
          0.9524680073126143,
          0.9524680073126143,
          0.9524680073126143,
          0.9506398537477148,
          0.9506398537477148,
          0.946983546617916,
          0.946983546617916,
          0.946983546617916,
          0.946983546617916,
          0.9451553930530164,
          0.9451553930530164,
          0.9451553930530164,
          0.9451553930530164,
          0.9451553930530164,
          0.943327239488117,
          0.943327239488117,
          0.943327239488117,
          0.943327239488117,
          0.943327239488117,
          0.943327239488117,
          0.9414990859232175,
          0.9414990859232175,
          0.9414990859232175,
          0.9378427787934186,
          0.9378427787934186,
          0.9360146252285192,
          0.9360146252285192,
          0.9360146252285192,
          0.9360146252285192,
          0.9360146252285192,
          0.9360146252285192,
          0.9360146252285192,
          0.9341864716636198,
          0.9341864716636198,
          0.9341864716636198,
          0.9323583180987203,
          0.9323583180987203,
          0.9323583180987203,
          0.9305301645338209,
          0.9305301645338209,
          0.9287020109689214,
          0.9287020109689214,
          0.9287020109689214,
          0.9287020109689214,
          0.9287020109689214,
          0.9287020109689214,
          0.926873857404022,
          0.9250457038391224,
          0.9250457038391224,
          0.9250457038391224,
          0.923217550274223,
          0.9195612431444241,
          0.9195612431444241,
          0.9195612431444241,
          0.9177330895795247,
          0.9159049360146252,
          0.9159049360146252,
          0.9159049360146252,
          0.9159049360146252,
          0.9159049360146252,
          0.9159049360146252,
          0.9159049360146252,
          0.9159049360146252,
          0.9159049360146252,
          0.9159049360146252,
          0.9140767824497258,
          0.9104204753199269,
          0.9085923217550275,
          0.906764168190128,
          0.9049360146252285,
          0.9049360146252285,
          0.9012797074954296,
          0.8994515539305301,
          0.8994515539305301,
          0.8994515539305301,
          0.8976234003656307,
          0.8976234003656307,
          0.8976234003656307,
          0.8957952468007313,
          0.8939670932358318,
          0.8939670932358318,
          0.8921389396709324,
          0.8884826325411335,
          0.8884826325411335,
          0.886654478976234,
          0.8848263254113345,
          0.8848263254113345,
          0.8848263254113345,
          0.8848263254113345,
          0.8829981718464351,
          0.8793418647166362,
          0.8775137111517367,
          0.8738574040219378,
          0.8720292504570384,
          0.870201096892139,
          0.870201096892139,
          0.870201096892139,
          0.8665447897623401,
          0.8647166361974405,
          0.8647166361974405,
          0.8647166361974405,
          0.8647166361974405,
          0.8628884826325411,
          0.8628884826325411,
          0.8628884826325411,
          0.8628884826325411,
          0.8628884826325411,
          0.8610603290676416,
          0.8574040219378428,
          0.8555758683729433,
          0.8555758683729433,
          0.8519195612431444,
          0.8519195612431444,
          0.8482632541133455,
          0.8482632541133455,
          0.8464351005484461,
          0.8446069469835467,
          0.8409506398537477,
          0.8409506398537477,
          0.8409506398537477,
          0.8391224862888482,
          0.8391224862888482,
          0.8354661791590493,
          0.8318098720292505,
          0.829981718464351,
          0.8281535648994516,
          0.8281535648994516,
          0.8244972577696527,
          0.8244972577696527,
          0.8208409506398537,
          0.8190127970749543,
          0.8190127970749543,
          0.8171846435100548,
          0.8171846435100548,
          0.8135283363802559,
          0.8135283363802559,
          0.8135283363802559,
          0.8117001828153565,
          0.8117001828153565,
          0.8080438756855576,
          0.8043875685557587,
          0.8025594149908593,
          0.7989031078610603,
          0.7970749542961609,
          0.7970749542961609,
          0.7952468007312614,
          0.7952468007312614,
          0.793418647166362,
          0.7897623400365631,
          0.7879341864716636,
          0.7842778793418648,
          0.7806215722120659,
          0.7769652650822669,
          0.7751371115173674,
          0.7714808043875686,
          0.7678244972577697,
          0.7641681901279708,
          0.7623400365630713,
          0.7586837294332724,
          0.7586837294332724,
          0.7586837294332724,
          0.7550274223034735,
          0.7513711151736746,
          0.7477148080438757,
          0.7458866544789763,
          0.7422303473491774,
          0.7385740402193784,
          0.7349177330895795,
          0.7330895795246801,
          0.7312614259597806,
          0
         ],
         "y": [
          0.22603305785123967,
          0.6687041564792175,
          0.6695226438188494,
          0.6703431372549019,
          0.6711656441717792,
          0.671990171990172,
          0.6728167281672817,
          0.6736453201970444,
          0.6744759556103576,
          0.6753086419753086,
          0.6761433868974042,
          0.676980198019802,
          0.677819083023544,
          0.6786600496277916,
          0.6795031055900621,
          0.6811955168119551,
          0.6820448877805486,
          0.682896379525593,
          0.68375,
          0.6846057571964956,
          0.6854636591478697,
          0.6871859296482412,
          0.6880503144654088,
          0.6889168765743073,
          0.6897856242118537,
          0.6906565656565656,
          0.6915297092288243,
          0.6932826362484157,
          0.6941624365482234,
          0.6950444726810674,
          0.6959287531806616,
          0.6968152866242038,
          0.6977040816326531,
          0.698595146871009,
          0.6994884910485933,
          0.7003841229193342,
          0.7012820512820512,
          0.7030848329048843,
          0.703989703989704,
          0.7048969072164949,
          0.7067183462532299,
          0.7085492227979274,
          0.7094682230869002,
          0.7103896103896103,
          0.7113133940182055,
          0.7122395833333334,
          0.7131681877444589,
          0.7140992167101827,
          0.7150326797385621,
          0.7159685863874345,
          0.7169069462647444,
          0.7187910643889619,
          0.7197368421052631,
          0.7206851119894598,
          0.7216358839050132,
          0.7235449735449735,
          0.7245033112582782,
          0.7254641909814323,
          0.7250996015936255,
          0.726063829787234,
          0.7270306258322237,
          0.728,
          0.7289719626168224,
          0.7299465240641712,
          0.7295850066934404,
          0.7305630026809652,
          0.7315436241610739,
          0.7325268817204301,
          0.7335127860026918,
          0.7345013477088949,
          0.7354925775978407,
          0.7364864864864865,
          0.7361299052774019,
          0.7371273712737128,
          0.7381275440976933,
          0.7391304347826086,
          0.7401360544217687,
          0.7394270122783083,
          0.7404371584699454,
          0.7414500683994528,
          0.7434842249657064,
          0.7445054945054945,
          0.7455295735900963,
          0.7465564738292011,
          0.7475862068965518,
          0.7486187845303868,
          0.7496542185338866,
          0.7506925207756233,
          0.7527777777777778,
          0.7538247566063978,
          0.7534818941504178,
          0.7545327754532776,
          0.755586592178771,
          0.757703081232493,
          0.758765778401122,
          0.7598314606741573,
          0.7609001406469761,
          0.7619718309859155,
          0.763046544428773,
          0.7641242937853108,
          0.7652050919377652,
          0.7662889518413598,
          0.7673758865248227,
          0.7684659090909091,
          0.7695590327169275,
          0.7706552706552706,
          0.7717546362339515,
          0.7714285714285715,
          0.7725321888412017,
          0.7736389684813754,
          0.7747489239598279,
          0.7769784172661871,
          0.7780979827089337,
          0.7792207792207793,
          0.7803468208092486,
          0.7800289435600579,
          0.7811594202898551,
          0.7822931785195936,
          0.7819767441860465,
          0.7831149927219796,
          0.7842565597667639,
          0.7839416058394161,
          0.7850877192982456,
          0.7847730600292826,
          0.7844574780058651,
          0.7856093979441997,
          0.7867647058823529,
          0.7879234167893961,
          0.7890855457227138,
          0.7902511078286558,
          0.7914201183431953,
          0.7925925925925926,
          0.7937685459940653,
          0.7949479940564635,
          0.7961309523809523,
          0.797317436661699,
          0.7985074626865671,
          0.7997010463378177,
          0.7994011976047904,
          0.7991004497751124,
          0.8003003003003003,
          0.8015037593984963,
          0.802710843373494,
          0.803921568627451,
          0.8051359516616314,
          0.8063540090771558,
          0.8075757575757576,
          0.8088012139605463,
          0.8100303951367781,
          0.8112633181126332,
          0.8125,
          0.8122137404580153,
          0.8134556574923547,
          0.8147013782542113,
          0.8144171779141104,
          0.816923076923077,
          0.8181818181818182,
          0.8194444444444444,
          0.8207109737248841,
          0.8219814241486069,
          0.8232558139534883,
          0.8245341614906833,
          0.8258164852255054,
          0.8271028037383178,
          0.8265625,
          0.8278560250391236,
          0.8275862068965517,
          0.8273155416012559,
          0.8286163522012578,
          0.8283464566929134,
          0.8296529968454258,
          0.8291139240506329,
          0.8304278922345484,
          0.8317460317460318,
          0.8314785373608903,
          0.8309409888357256,
          0.8322683706070287,
          0.8336,
          0.8362760834670947,
          0.837620578778135,
          0.8389694041867954,
          0.8387096774193549,
          0.840064620355412,
          0.839546191247974,
          0.8409090909090909,
          0.8436482084690554,
          0.8464052287581699,
          0.8461538461538461,
          0.8475409836065574,
          0.8489326765188834,
          0.850328947368421,
          0.8517298187808896,
          0.8514851485148515,
          0.8528925619834711,
          0.8543046357615894,
          0.8557213930348259,
          0.8571428571428571,
          0.86,
          0.8597662771285476,
          0.8612040133779264,
          0.8626465661641541,
          0.8621848739495799,
          0.8636363636363636,
          0.863406408094435,
          0.8663282571912013,
          0.8677966101694915,
          0.8692699490662139,
          0.8707482993197279,
          0.8722316865417377,
          0.8737201365187713,
          0.8735042735042735,
          0.875,
          0.8765008576329331,
          0.8762886597938144,
          0.8777969018932874,
          0.8793103448275862,
          0.8791018998272885,
          0.8806228373702422,
          0.8804159445407279,
          0.8834782608695653,
          0.8850174216027874,
          0.8865619546247818,
          0.8881118881118881,
          0.8896672504378283,
          0.8894736842105263,
          0.8892794376098418,
          0.8908450704225352,
          0.892416225749559,
          0.892226148409894,
          0.8918439716312057,
          0.8934280639431617,
          0.895017793594306,
          0.8948306595365418,
          0.8946428571428572,
          0.8962432915921288,
          0.8978494623655914,
          0.8994614003590664,
          0.9010791366906474,
          0.9043321299638989,
          0.907608695652174,
          0.9092558983666061,
          0.9109090909090909,
          0.912568306010929,
          0.9124087591240876,
          0.9120879120879121,
          0.9119266055045872,
          0.9117647058823529,
          0.9116022099447514,
          0.9132841328413284,
          0.912962962962963,
          0.9128014842300557,
          0.9144981412639405,
          0.9162011173184358,
          0.9160447761194029,
          0.9177570093457944,
          0.9194756554307116,
          0.9193245778611632,
          0.9191729323308271,
          0.9209039548022598,
          0.9207547169811321,
          0.9204545454545454,
          0.9222011385199241,
          0.9220532319391636,
          0.9219047619047619,
          0.9236641221374046,
          0.9254302103250478,
          0.9272030651340997,
          0.927063339731286,
          0.9267822736030829,
          0.9266409266409267,
          0.9263565891472868,
          0.9262135922330097,
          0.9260700389105059,
          0.9278752436647173,
          0.9296875,
          0.9294117647058824,
          0.9292730844793713,
          0.9311023622047244,
          0.9329388560157791,
          0.9347826086956522,
          0.9346534653465347,
          0.9365079365079365,
          0.9383697813121272,
          0.9402390438247012,
          0.9421157684630739,
          0.942,
          0.9417670682730924,
          0.9416498993963782,
          0.9435483870967742,
          0.9433198380566802,
          0.9452332657200812,
          0.945010183299389,
          0.9469387755102041,
          0.9468302658486708,
          0.9467213114754098,
          0.9465020576131687,
          0.9504132231404959,
          0.9523809523809523,
          0.9522821576763485,
          0.9542619542619543,
          0.954070981210856,
          0.9538784067085954,
          0.9537815126050421,
          0.9536842105263158,
          0.9556962025316456,
          0.9555084745762712,
          0.9575371549893843,
          0.9573560767590619,
          0.9572649572649573,
          0.9593147751605996,
          0.9592274678111588,
          0.9633620689655172,
          0.9632034632034632,
          0.96529284164859,
          0.967391304347826,
          0.9673202614379085,
          0.9694323144104804,
          0.9692982456140351,
          0.9691629955947136,
          0.9690949227373068,
          0.9689578713968958,
          0.9688888888888889,
          0.9710467706013363,
          0.9709821428571429,
          0.9753363228699552,
          0.9752808988764045,
          0.9751693002257337,
          0.9751131221719457,
          0.975,
          0.9748858447488584,
          0.9747706422018348,
          0.9747126436781609,
          0.9745958429561201,
          0.974477958236659,
          0.9743589743589743,
          0.9742990654205608,
          0.9741784037558685,
          0.9764705882352941,
          0.9787735849056604,
          0.9786729857819905,
          0.9785714285714285,
          0.9784688995215312,
          0.9784172661870504,
          0.9783132530120482,
          0.9782082324455206,
          0.9781021897810219,
          0.9780487804878049,
          0.9779951100244498,
          1
         ]
        },
        {
         "mode": "lines",
         "name": "Class 3 (AP=0.89)",
         "type": "scatter",
         "x": [
          1,
          0.9801324503311258,
          0.9801324503311258,
          0.9801324503311258,
          0.9801324503311258,
          0.9801324503311258,
          0.9801324503311258,
          0.9801324503311258,
          0.9801324503311258,
          0.9801324503311258,
          0.9801324503311258,
          0.9801324503311258,
          0.9801324503311258,
          0.9801324503311258,
          0.9801324503311258,
          0.9801324503311258,
          0.9801324503311258,
          0.9801324503311258,
          0.9801324503311258,
          0.9801324503311258,
          0.9801324503311258,
          0.9801324503311258,
          0.9801324503311258,
          0.9801324503311258,
          0.9801324503311258,
          0.9801324503311258,
          0.9801324503311258,
          0.9801324503311258,
          0.9801324503311258,
          0.9801324503311258,
          0.9801324503311258,
          0.9801324503311258,
          0.9801324503311258,
          0.9801324503311258,
          0.9801324503311258,
          0.9801324503311258,
          0.9801324503311258,
          0.9801324503311258,
          0.9801324503311258,
          0.9801324503311258,
          0.9735099337748344,
          0.9668874172185431,
          0.9668874172185431,
          0.9668874172185431,
          0.9668874172185431,
          0.9668874172185431,
          0.9668874172185431,
          0.9668874172185431,
          0.9668874172185431,
          0.9602649006622517,
          0.9602649006622517,
          0.9602649006622517,
          0.9536423841059603,
          0.9536423841059603,
          0.9536423841059603,
          0.9536423841059603,
          0.9536423841059603,
          0.9536423841059603,
          0.9470198675496688,
          0.9470198675496688,
          0.9470198675496688,
          0.9470198675496688,
          0.9470198675496688,
          0.9470198675496688,
          0.9470198675496688,
          0.9470198675496688,
          0.9403973509933775,
          0.9403973509933775,
          0.9337748344370861,
          0.9337748344370861,
          0.9337748344370861,
          0.9337748344370861,
          0.9337748344370861,
          0.9337748344370861,
          0.9337748344370861,
          0.9337748344370861,
          0.9337748344370861,
          0.9337748344370861,
          0.9337748344370861,
          0.9337748344370861,
          0.9337748344370861,
          0.9337748344370861,
          0.9337748344370861,
          0.9271523178807947,
          0.9271523178807947,
          0.9271523178807947,
          0.9205298013245033,
          0.9205298013245033,
          0.9205298013245033,
          0.9205298013245033,
          0.9205298013245033,
          0.9205298013245033,
          0.9139072847682119,
          0.9139072847682119,
          0.9072847682119205,
          0.9072847682119205,
          0.9072847682119205,
          0.9072847682119205,
          0.9006622516556292,
          0.9006622516556292,
          0.9006622516556292,
          0.8940397350993378,
          0.8874172185430463,
          0.8807947019867549,
          0.8807947019867549,
          0.8741721854304636,
          0.8741721854304636,
          0.8675496688741722,
          0.8675496688741722,
          0.8675496688741722,
          0.8609271523178808,
          0.8609271523178808,
          0.8543046357615894,
          0.847682119205298,
          0.8410596026490066,
          0.8410596026490066,
          0.8410596026490066,
          0.8410596026490066,
          0.8344370860927153,
          0.8278145695364238,
          0.8211920529801324,
          0.8145695364238411,
          0.8145695364238411,
          0.8079470198675497,
          0.8079470198675497,
          0.8079470198675497,
          0.8079470198675497,
          0.8013245033112583,
          0.7947019867549668,
          0.7880794701986755,
          0.7814569536423841,
          0.7748344370860927,
          0.7748344370860927,
          0.7682119205298014,
          0.7682119205298014,
          0.7682119205298014,
          0.7682119205298014,
          0.7682119205298014,
          0.7615894039735099,
          0.7549668874172185,
          0.7549668874172185,
          0.7483443708609272,
          0.7417218543046358,
          0.7417218543046358,
          0.7350993377483444,
          0.7284768211920529,
          0.7218543046357616,
          0.7152317880794702,
          0.7152317880794702,
          0.7086092715231788,
          0.7019867549668874,
          0.7019867549668874,
          0.695364238410596,
          0.6887417218543046,
          0.6821192052980133,
          0.6821192052980133,
          0.6754966887417219,
          0.6754966887417219,
          0.6688741721854304,
          0.6622516556291391,
          0.6556291390728477,
          0.6490066225165563,
          0.6490066225165563,
          0.6423841059602649,
          0.6357615894039735,
          0.6291390728476821,
          0.6225165562913907,
          0.6158940397350994,
          0.609271523178808,
          0.6026490066225165,
          0.5960264900662252,
          0.5960264900662252,
          0.5894039735099338,
          0.5827814569536424,
          0.5761589403973509,
          0.5695364238410596,
          0.5629139072847682,
          0.5562913907284768,
          0.5496688741721855,
          0.543046357615894,
          0.5364238410596026,
          0.5298013245033113,
          0.5231788079470199,
          0.5165562913907285,
          0.5099337748344371,
          0.5099337748344371,
          0.5033112582781457,
          0.4966887417218543,
          0.4900662251655629,
          0.4900662251655629,
          0.4900662251655629,
          0.48344370860927155,
          0.4768211920529801,
          0.47019867549668876,
          0.46357615894039733,
          0.45695364238410596,
          0.45695364238410596,
          0.4503311258278146,
          0.44370860927152317,
          0.4370860927152318,
          0.4304635761589404,
          0.423841059602649,
          0.41721854304635764,
          0.41721854304635764,
          0.41721854304635764,
          0.41721854304635764,
          0.4105960264900662,
          0.40397350993377484,
          0.3973509933774834,
          0.39072847682119205,
          0.3841059602649007,
          0.37748344370860926,
          0.3708609271523179,
          0.3708609271523179,
          0.36423841059602646,
          0.3576158940397351,
          0.3509933774834437,
          0.3443708609271523,
          0.33774834437086093,
          0.33112582781456956,
          0.32450331125827814,
          0.31788079470198677,
          0.31125827814569534,
          0.304635761589404,
          0.2980132450331126,
          0.2913907284768212,
          0.2847682119205298,
          0.2781456953642384,
          0.271523178807947,
          0.26490066225165565,
          0.2582781456953642,
          0.25165562913907286,
          0.24503311258278146,
          0.23841059602649006,
          0.23178807947019867,
          0.23178807947019867,
          0.2251655629139073,
          0.2185430463576159,
          0.2119205298013245,
          0.2052980132450331,
          0.1986754966887417,
          0.19205298013245034,
          0.18543046357615894,
          0.17880794701986755,
          0.17218543046357615,
          0.16556291390728478,
          0.15894039735099338,
          0.152317880794702,
          0.1456953642384106,
          0.1390728476821192,
          0.13245033112582782,
          0.12582781456953643,
          0.11920529801324503,
          0.11258278145695365,
          0.10596026490066225,
          0.09933774834437085,
          0.09271523178807947,
          0.08609271523178808,
          0.07947019867549669,
          0
         ],
         "y": [
          0.062396694214876036,
          0.5121107266435986,
          0.5138888888888888,
          0.5156794425087108,
          0.5174825174825175,
          0.519298245614035,
          0.5229681978798587,
          0.524822695035461,
          0.5266903914590747,
          0.5304659498207885,
          0.5342960288808665,
          0.5362318840579711,
          0.5381818181818182,
          0.5421245421245421,
          0.5441176470588235,
          0.5461254612546126,
          0.5481481481481482,
          0.550185873605948,
          0.5522388059701493,
          0.5543071161048689,
          0.5584905660377358,
          0.5606060606060606,
          0.5648854961832062,
          0.5670498084291188,
          0.5714285714285714,
          0.5736434108527132,
          0.5758754863813229,
          0.578125,
          0.5803921568627451,
          0.5826771653543307,
          0.5849802371541502,
          0.5873015873015873,
          0.592,
          0.5943775100401606,
          0.5991902834008097,
          0.6040816326530613,
          0.6065573770491803,
          0.6090534979423868,
          0.6115702479338843,
          0.6141078838174274,
          0.6125,
          0.6108786610878661,
          0.6134453781512605,
          0.6160337552742616,
          0.6186440677966102,
          0.6212765957446809,
          0.6239316239316239,
          0.6266094420600858,
          0.6320346320346321,
          0.6304347826086957,
          0.6331877729257642,
          0.6359649122807017,
          0.6343612334801763,
          0.6371681415929203,
          0.64,
          0.6428571428571429,
          0.6457399103139013,
          0.6486486486486487,
          0.6470588235294118,
          0.65,
          0.6529680365296804,
          0.6559633027522935,
          0.6589861751152074,
          0.6620370370370371,
          0.6682242990654206,
          0.6713615023474179,
          0.6698113207547169,
          0.6729857819905213,
          0.6714285714285714,
          0.6746411483253588,
          0.6811594202898551,
          0.6844660194174758,
          0.6878048780487804,
          0.6945812807881774,
          0.698019801980198,
          0.705,
          0.7085427135678392,
          0.7121212121212122,
          0.7157360406091371,
          0.7193877551020408,
          0.7268041237113402,
          0.7305699481865285,
          0.734375,
          0.7329842931937173,
          0.7368421052631579,
          0.7407407407407407,
          0.7393617021276596,
          0.7433155080213903,
          0.7473118279569892,
          0.7513513513513513,
          0.7554347826086957,
          0.7637362637362637,
          0.7624309392265194,
          0.7666666666666667,
          0.7653631284916201,
          0.7696629213483146,
          0.7740112994350282,
          0.7784090909090909,
          0.7771428571428571,
          0.7816091954022989,
          0.7861271676300579,
          0.7848837209302325,
          0.783625730994152,
          0.7823529411764706,
          0.7869822485207101,
          0.7857142857142857,
          0.7904191616766467,
          0.7891566265060241,
          0.793939393939394,
          0.7987804878048781,
          0.7975460122699386,
          0.8024691358024691,
          0.8012422360248447,
          0.8,
          0.7987421383647799,
          0.8089171974522293,
          0.8141025641025641,
          0.8193548387096774,
          0.8181818181818182,
          0.8169934640522876,
          0.8157894736842105,
          0.8145695364238411,
          0.82,
          0.8187919463087249,
          0.8243243243243243,
          0.8299319727891157,
          0.8356164383561644,
          0.8344827586206897,
          0.8333333333333334,
          0.8321678321678322,
          0.8309859154929577,
          0.8297872340425532,
          0.8357142857142857,
          0.8345323741007195,
          0.8405797101449275,
          0.8467153284671532,
          0.8529411764705882,
          0.8592592592592593,
          0.8582089552238806,
          0.8571428571428571,
          0.8636363636363636,
          0.8625954198473282,
          0.8615384615384616,
          0.8682170542635659,
          0.8671875,
          0.8661417322834646,
          0.8650793650793651,
          0.864,
          0.8709677419354839,
          0.8699186991869918,
          0.8688524590163934,
          0.8760330578512396,
          0.875,
          0.8739495798319328,
          0.8728813559322034,
          0.8803418803418803,
          0.8793103448275862,
          0.8869565217391304,
          0.8859649122807017,
          0.8849557522123894,
          0.8839285714285714,
          0.8828828828828829,
          0.8990825688073395,
          0.8981481481481481,
          0.897196261682243,
          0.8962264150943396,
          0.8952380952380953,
          0.8942307692307693,
          0.8932038834951457,
          0.8921568627450981,
          0.8910891089108911,
          0.9,
          0.898989898989899,
          0.8979591836734694,
          0.8969072164948454,
          0.8958333333333334,
          0.8947368421052632,
          0.8936170212765957,
          0.8924731182795699,
          0.8913043478260869,
          0.8901098901098901,
          0.8888888888888888,
          0.8876404494382022,
          0.8863636363636364,
          0.8850574712643678,
          0.8953488372093024,
          0.8941176470588236,
          0.8928571428571429,
          0.891566265060241,
          0.9024390243902439,
          0.925,
          0.9240506329113924,
          0.9230769230769231,
          0.922077922077922,
          0.9210526315789473,
          0.92,
          0.9324324324324325,
          0.9315068493150684,
          0.9305555555555556,
          0.9295774647887324,
          0.9285714285714286,
          0.927536231884058,
          0.9264705882352942,
          0.9402985074626866,
          0.9545454545454546,
          0.9692307692307692,
          0.96875,
          0.9682539682539683,
          0.967741935483871,
          0.9672131147540983,
          0.9666666666666667,
          0.9661016949152542,
          0.9655172413793104,
          0.9824561403508771,
          0.9821428571428571,
          0.9818181818181818,
          0.9814814814814815,
          0.9811320754716981,
          0.9807692307692307,
          0.9803921568627451,
          0.98,
          0.9795918367346939,
          0.9791666666666666,
          0.9787234042553191,
          0.9782608695652174,
          0.9777777777777777,
          0.9772727272727273,
          0.9767441860465116,
          0.9761904761904762,
          0.975609756097561,
          0.975,
          0.9743589743589743,
          0.9736842105263158,
          0.972972972972973,
          0.9722222222222222,
          1,
          1,
          1,
          1,
          1,
          1,
          1,
          1,
          1,
          1,
          1,
          1,
          1,
          1,
          1,
          1,
          1,
          1,
          1,
          1,
          1,
          1,
          1,
          1,
          1
         ]
        },
        {
         "mode": "lines",
         "name": "Class 4 (AP=1.00)",
         "type": "scatter",
         "x": [
          1,
          1,
          1,
          1,
          1,
          1,
          0.9975062344139651,
          0.9975062344139651,
          0.9975062344139651,
          0.9962593516209476,
          0.9937655860349127,
          0.9937655860349127,
          0.9937655860349127,
          0.9937655860349127,
          0.9937655860349127,
          0.9937655860349127,
          0.9937655860349127,
          0.9925187032418953,
          0.9925187032418953,
          0.9925187032418953,
          0.9925187032418953,
          0.9925187032418953,
          0.9925187032418953,
          0.9925187032418953,
          0.9925187032418953,
          0.9925187032418953,
          0.9925187032418953,
          0.9925187032418953,
          0.9925187032418953,
          0.9925187032418953,
          0.9925187032418953,
          0.9925187032418953,
          0.9925187032418953,
          0.9925187032418953,
          0.9925187032418953,
          0.9925187032418953,
          0.9912718204488778,
          0.9912718204488778,
          0.9912718204488778,
          0.9912718204488778,
          0.9912718204488778,
          0.9912718204488778,
          0.9912718204488778,
          0.9912718204488778,
          0.9912718204488778,
          0.9912718204488778,
          0.9912718204488778,
          0.9912718204488778,
          0.9912718204488778,
          0.9887780548628429,
          0.9887780548628429,
          0.9887780548628429,
          0.9887780548628429,
          0.9887780548628429,
          0.9887780548628429,
          0.9887780548628429,
          0.9887780548628429,
          0.9887780548628429,
          0.9887780548628429,
          0.986284289276808,
          0.986284289276808,
          0.986284289276808,
          0.986284289276808,
          0.986284289276808,
          0.986284289276808,
          0.986284289276808,
          0.986284289276808,
          0.986284289276808,
          0.986284289276808,
          0.986284289276808,
          0.986284289276808,
          0.986284289276808,
          0.986284289276808,
          0.983790523690773,
          0.983790523690773,
          0.9812967581047382,
          0.9812967581047382,
          0.9812967581047382,
          0.9812967581047382,
          0.9812967581047382,
          0.9812967581047382,
          0.9812967581047382,
          0.9812967581047382,
          0.9812967581047382,
          0.9788029925187033,
          0.9775561097256857,
          0.9750623441396509,
          0.9750623441396509,
          0.9750623441396509,
          0.9738154613466334,
          0.9738154613466334,
          0.9713216957605985,
          0.9713216957605985,
          0.9688279301745636,
          0.9663341645885287,
          0.9663341645885287,
          0.9638403990024937,
          0.9625935162094763,
          0.9625935162094763,
          0.9600997506234414,
          0.9576059850374065,
          0.956359102244389,
          0.9538653366583542,
          0.9526184538653366,
          0.9513715710723192,
          0.9501246882793017,
          0.9501246882793017,
          0.9476309226932669,
          0.9463840399002493,
          0.9438902743142145,
          0.9413965087281796,
          0.940149625935162,
          0.940149625935162,
          0.9376558603491272,
          0.9376558603491272,
          0.9364089775561097,
          0.9339152119700748,
          0.9326683291770573,
          0.9314214463840399,
          0.9301745635910225,
          0.9276807980049875,
          0.92643391521197,
          0.9239401496259352,
          0.9214463840399002,
          0.9189526184538653,
          0.9164588528678305,
          0.9139650872817955,
          0.9114713216957606,
          0.9089775561097256,
          0.9064837905236908,
          0.9039900249376559,
          0.9014962593516209,
          0.899002493765586,
          0
         ],
         "y": [
          0.33140495867768593,
          0.8793859649122807,
          0.8803512623490669,
          0.8813186813186813,
          0.8822882288228823,
          0.8832599118942731,
          0.8830022075055187,
          0.8839779005524862,
          0.8849557522123894,
          0.884828349944629,
          0.8845726970033296,
          0.8855555555555555,
          0.8865406006674083,
          0.8875278396436526,
          0.8885172798216276,
          0.8905027932960894,
          0.8914988814317674,
          0.8913773796192609,
          0.8933782267115601,
          0.8943820224719101,
          0.8953880764904387,
          0.8974069898534386,
          0.8984198645598194,
          0.8994350282485876,
          0.9014722536806342,
          0.9024943310657596,
          0.9035187287173666,
          0.9045454545454545,
          0.9055745164960182,
          0.9076396807297605,
          0.908675799086758,
          0.9097142857142857,
          0.9107551487414187,
          0.9128440366972477,
          0.9138920780711826,
          0.9159953970080552,
          0.9158986175115207,
          0.916955017301038,
          0.9190751445086706,
          0.9201388888888888,
          0.9222737819025522,
          0.9244186046511628,
          0.9254947613504074,
          0.9276546091015169,
          0.9287383177570093,
          0.9309133489461359,
          0.9320046893317703,
          0.9330985915492958,
          0.9352941176470588,
          0.9351415094339622,
          0.9362455726092089,
          0.9373522458628841,
          0.9384615384615385,
          0.9406880189798339,
          0.9429250891795482,
          0.944047619047619,
          0.9451728247914184,
          0.9463007159904535,
          0.9474313022700119,
          0.9473053892215569,
          0.9495798319327731,
          0.9507211538461539,
          0.9518652226233454,
          0.9530120481927711,
          0.9541616405307599,
          0.9564691656590084,
          0.9576271186440678,
          0.9599514563106796,
          0.9611178614823815,
          0.9634591961023142,
          0.9658119658119658,
          0.9669926650366748,
          0.9681762545899633,
          0.9680981595092024,
          0.9704797047970479,
          0.9704069050554871,
          0.9728059332509271,
          0.974009900990099,
          0.9752168525402726,
          0.977639751552795,
          0.9788557213930348,
          0.9812967581047382,
          0.98375,
          0.9849812265331664,
          0.9849435382685069,
          0.9849246231155779,
          0.9848866498740554,
          0.9861286254728878,
          0.988621997471555,
          0.9886075949367089,
          0.9898605830164765,
          0.9898348157560356,
          0.9910941475826972,
          0.9910714285714286,
          0.9910485933503836,
          0.9923175416133163,
          0.9922978177150192,
          0.9922879177377892,
          0.9935649935649936,
          0.9935483870967742,
          0.9935316946959897,
          0.9935233160621761,
          0.9935064935064936,
          0.9934980494148244,
          0.9934895833333334,
          0.9934810951760105,
          0.996078431372549,
          0.9960681520314548,
          0.9960629921259843,
          0.9960526315789474,
          0.996042216358839,
          0.9960369881109643,
          0.9973544973544973,
          0.9973474801061007,
          0.99867197875166,
          0.9986702127659575,
          0.9986666666666667,
          0.9986648865153538,
          0.9986631016042781,
          0.998661311914324,
          0.9986577181208054,
          0.9986559139784946,
          0.9986522911051213,
          0.9986486486486487,
          0.9986449864498645,
          0.998641304347826,
          0.9986376021798365,
          0.9986338797814208,
          0.9986301369863013,
          0.9986263736263736,
          0.9986225895316805,
          0.9986187845303868,
          0.9986149584487535,
          1
         ]
        }
       ],
       "layout": {
        "height": 800,
        "legend": {
         "title": {
          "text": "Classes"
         }
        },
        "template": {
         "data": {
          "bar": [
           {
            "error_x": {
             "color": "#2a3f5f"
            },
            "error_y": {
             "color": "#2a3f5f"
            },
            "marker": {
             "line": {
              "color": "#E5ECF6",
              "width": 0.5
             },
             "pattern": {
              "fillmode": "overlay",
              "size": 10,
              "solidity": 0.2
             }
            },
            "type": "bar"
           }
          ],
          "barpolar": [
           {
            "marker": {
             "line": {
              "color": "#E5ECF6",
              "width": 0.5
             },
             "pattern": {
              "fillmode": "overlay",
              "size": 10,
              "solidity": 0.2
             }
            },
            "type": "barpolar"
           }
          ],
          "carpet": [
           {
            "aaxis": {
             "endlinecolor": "#2a3f5f",
             "gridcolor": "white",
             "linecolor": "white",
             "minorgridcolor": "white",
             "startlinecolor": "#2a3f5f"
            },
            "baxis": {
             "endlinecolor": "#2a3f5f",
             "gridcolor": "white",
             "linecolor": "white",
             "minorgridcolor": "white",
             "startlinecolor": "#2a3f5f"
            },
            "type": "carpet"
           }
          ],
          "choropleth": [
           {
            "colorbar": {
             "outlinewidth": 0,
             "ticks": ""
            },
            "type": "choropleth"
           }
          ],
          "contour": [
           {
            "colorbar": {
             "outlinewidth": 0,
             "ticks": ""
            },
            "colorscale": [
             [
              0,
              "#0d0887"
             ],
             [
              0.1111111111111111,
              "#46039f"
             ],
             [
              0.2222222222222222,
              "#7201a8"
             ],
             [
              0.3333333333333333,
              "#9c179e"
             ],
             [
              0.4444444444444444,
              "#bd3786"
             ],
             [
              0.5555555555555556,
              "#d8576b"
             ],
             [
              0.6666666666666666,
              "#ed7953"
             ],
             [
              0.7777777777777778,
              "#fb9f3a"
             ],
             [
              0.8888888888888888,
              "#fdca26"
             ],
             [
              1,
              "#f0f921"
             ]
            ],
            "type": "contour"
           }
          ],
          "contourcarpet": [
           {
            "colorbar": {
             "outlinewidth": 0,
             "ticks": ""
            },
            "type": "contourcarpet"
           }
          ],
          "heatmap": [
           {
            "colorbar": {
             "outlinewidth": 0,
             "ticks": ""
            },
            "colorscale": [
             [
              0,
              "#0d0887"
             ],
             [
              0.1111111111111111,
              "#46039f"
             ],
             [
              0.2222222222222222,
              "#7201a8"
             ],
             [
              0.3333333333333333,
              "#9c179e"
             ],
             [
              0.4444444444444444,
              "#bd3786"
             ],
             [
              0.5555555555555556,
              "#d8576b"
             ],
             [
              0.6666666666666666,
              "#ed7953"
             ],
             [
              0.7777777777777778,
              "#fb9f3a"
             ],
             [
              0.8888888888888888,
              "#fdca26"
             ],
             [
              1,
              "#f0f921"
             ]
            ],
            "type": "heatmap"
           }
          ],
          "heatmapgl": [
           {
            "colorbar": {
             "outlinewidth": 0,
             "ticks": ""
            },
            "colorscale": [
             [
              0,
              "#0d0887"
             ],
             [
              0.1111111111111111,
              "#46039f"
             ],
             [
              0.2222222222222222,
              "#7201a8"
             ],
             [
              0.3333333333333333,
              "#9c179e"
             ],
             [
              0.4444444444444444,
              "#bd3786"
             ],
             [
              0.5555555555555556,
              "#d8576b"
             ],
             [
              0.6666666666666666,
              "#ed7953"
             ],
             [
              0.7777777777777778,
              "#fb9f3a"
             ],
             [
              0.8888888888888888,
              "#fdca26"
             ],
             [
              1,
              "#f0f921"
             ]
            ],
            "type": "heatmapgl"
           }
          ],
          "histogram": [
           {
            "marker": {
             "pattern": {
              "fillmode": "overlay",
              "size": 10,
              "solidity": 0.2
             }
            },
            "type": "histogram"
           }
          ],
          "histogram2d": [
           {
            "colorbar": {
             "outlinewidth": 0,
             "ticks": ""
            },
            "colorscale": [
             [
              0,
              "#0d0887"
             ],
             [
              0.1111111111111111,
              "#46039f"
             ],
             [
              0.2222222222222222,
              "#7201a8"
             ],
             [
              0.3333333333333333,
              "#9c179e"
             ],
             [
              0.4444444444444444,
              "#bd3786"
             ],
             [
              0.5555555555555556,
              "#d8576b"
             ],
             [
              0.6666666666666666,
              "#ed7953"
             ],
             [
              0.7777777777777778,
              "#fb9f3a"
             ],
             [
              0.8888888888888888,
              "#fdca26"
             ],
             [
              1,
              "#f0f921"
             ]
            ],
            "type": "histogram2d"
           }
          ],
          "histogram2dcontour": [
           {
            "colorbar": {
             "outlinewidth": 0,
             "ticks": ""
            },
            "colorscale": [
             [
              0,
              "#0d0887"
             ],
             [
              0.1111111111111111,
              "#46039f"
             ],
             [
              0.2222222222222222,
              "#7201a8"
             ],
             [
              0.3333333333333333,
              "#9c179e"
             ],
             [
              0.4444444444444444,
              "#bd3786"
             ],
             [
              0.5555555555555556,
              "#d8576b"
             ],
             [
              0.6666666666666666,
              "#ed7953"
             ],
             [
              0.7777777777777778,
              "#fb9f3a"
             ],
             [
              0.8888888888888888,
              "#fdca26"
             ],
             [
              1,
              "#f0f921"
             ]
            ],
            "type": "histogram2dcontour"
           }
          ],
          "mesh3d": [
           {
            "colorbar": {
             "outlinewidth": 0,
             "ticks": ""
            },
            "type": "mesh3d"
           }
          ],
          "parcoords": [
           {
            "line": {
             "colorbar": {
              "outlinewidth": 0,
              "ticks": ""
             }
            },
            "type": "parcoords"
           }
          ],
          "pie": [
           {
            "automargin": true,
            "type": "pie"
           }
          ],
          "scatter": [
           {
            "fillpattern": {
             "fillmode": "overlay",
             "size": 10,
             "solidity": 0.2
            },
            "type": "scatter"
           }
          ],
          "scatter3d": [
           {
            "line": {
             "colorbar": {
              "outlinewidth": 0,
              "ticks": ""
             }
            },
            "marker": {
             "colorbar": {
              "outlinewidth": 0,
              "ticks": ""
             }
            },
            "type": "scatter3d"
           }
          ],
          "scattercarpet": [
           {
            "marker": {
             "colorbar": {
              "outlinewidth": 0,
              "ticks": ""
             }
            },
            "type": "scattercarpet"
           }
          ],
          "scattergeo": [
           {
            "marker": {
             "colorbar": {
              "outlinewidth": 0,
              "ticks": ""
             }
            },
            "type": "scattergeo"
           }
          ],
          "scattergl": [
           {
            "marker": {
             "colorbar": {
              "outlinewidth": 0,
              "ticks": ""
             }
            },
            "type": "scattergl"
           }
          ],
          "scattermapbox": [
           {
            "marker": {
             "colorbar": {
              "outlinewidth": 0,
              "ticks": ""
             }
            },
            "type": "scattermapbox"
           }
          ],
          "scatterpolar": [
           {
            "marker": {
             "colorbar": {
              "outlinewidth": 0,
              "ticks": ""
             }
            },
            "type": "scatterpolar"
           }
          ],
          "scatterpolargl": [
           {
            "marker": {
             "colorbar": {
              "outlinewidth": 0,
              "ticks": ""
             }
            },
            "type": "scatterpolargl"
           }
          ],
          "scatterternary": [
           {
            "marker": {
             "colorbar": {
              "outlinewidth": 0,
              "ticks": ""
             }
            },
            "type": "scatterternary"
           }
          ],
          "surface": [
           {
            "colorbar": {
             "outlinewidth": 0,
             "ticks": ""
            },
            "colorscale": [
             [
              0,
              "#0d0887"
             ],
             [
              0.1111111111111111,
              "#46039f"
             ],
             [
              0.2222222222222222,
              "#7201a8"
             ],
             [
              0.3333333333333333,
              "#9c179e"
             ],
             [
              0.4444444444444444,
              "#bd3786"
             ],
             [
              0.5555555555555556,
              "#d8576b"
             ],
             [
              0.6666666666666666,
              "#ed7953"
             ],
             [
              0.7777777777777778,
              "#fb9f3a"
             ],
             [
              0.8888888888888888,
              "#fdca26"
             ],
             [
              1,
              "#f0f921"
             ]
            ],
            "type": "surface"
           }
          ],
          "table": [
           {
            "cells": {
             "fill": {
              "color": "#EBF0F8"
             },
             "line": {
              "color": "white"
             }
            },
            "header": {
             "fill": {
              "color": "#C8D4E3"
             },
             "line": {
              "color": "white"
             }
            },
            "type": "table"
           }
          ]
         },
         "layout": {
          "annotationdefaults": {
           "arrowcolor": "#2a3f5f",
           "arrowhead": 0,
           "arrowwidth": 1
          },
          "autotypenumbers": "strict",
          "coloraxis": {
           "colorbar": {
            "outlinewidth": 0,
            "ticks": ""
           }
          },
          "colorscale": {
           "diverging": [
            [
             0,
             "#8e0152"
            ],
            [
             0.1,
             "#c51b7d"
            ],
            [
             0.2,
             "#de77ae"
            ],
            [
             0.3,
             "#f1b6da"
            ],
            [
             0.4,
             "#fde0ef"
            ],
            [
             0.5,
             "#f7f7f7"
            ],
            [
             0.6,
             "#e6f5d0"
            ],
            [
             0.7,
             "#b8e186"
            ],
            [
             0.8,
             "#7fbc41"
            ],
            [
             0.9,
             "#4d9221"
            ],
            [
             1,
             "#276419"
            ]
           ],
           "sequential": [
            [
             0,
             "#0d0887"
            ],
            [
             0.1111111111111111,
             "#46039f"
            ],
            [
             0.2222222222222222,
             "#7201a8"
            ],
            [
             0.3333333333333333,
             "#9c179e"
            ],
            [
             0.4444444444444444,
             "#bd3786"
            ],
            [
             0.5555555555555556,
             "#d8576b"
            ],
            [
             0.6666666666666666,
             "#ed7953"
            ],
            [
             0.7777777777777778,
             "#fb9f3a"
            ],
            [
             0.8888888888888888,
             "#fdca26"
            ],
            [
             1,
             "#f0f921"
            ]
           ],
           "sequentialminus": [
            [
             0,
             "#0d0887"
            ],
            [
             0.1111111111111111,
             "#46039f"
            ],
            [
             0.2222222222222222,
             "#7201a8"
            ],
            [
             0.3333333333333333,
             "#9c179e"
            ],
            [
             0.4444444444444444,
             "#bd3786"
            ],
            [
             0.5555555555555556,
             "#d8576b"
            ],
            [
             0.6666666666666666,
             "#ed7953"
            ],
            [
             0.7777777777777778,
             "#fb9f3a"
            ],
            [
             0.8888888888888888,
             "#fdca26"
            ],
            [
             1,
             "#f0f921"
            ]
           ]
          },
          "colorway": [
           "#636efa",
           "#EF553B",
           "#00cc96",
           "#ab63fa",
           "#FFA15A",
           "#19d3f3",
           "#FF6692",
           "#B6E880",
           "#FF97FF",
           "#FECB52"
          ],
          "font": {
           "color": "#2a3f5f"
          },
          "geo": {
           "bgcolor": "white",
           "lakecolor": "white",
           "landcolor": "#E5ECF6",
           "showlakes": true,
           "showland": true,
           "subunitcolor": "white"
          },
          "hoverlabel": {
           "align": "left"
          },
          "hovermode": "closest",
          "mapbox": {
           "style": "light"
          },
          "paper_bgcolor": "white",
          "plot_bgcolor": "#E5ECF6",
          "polar": {
           "angularaxis": {
            "gridcolor": "white",
            "linecolor": "white",
            "ticks": ""
           },
           "bgcolor": "#E5ECF6",
           "radialaxis": {
            "gridcolor": "white",
            "linecolor": "white",
            "ticks": ""
           }
          },
          "scene": {
           "xaxis": {
            "backgroundcolor": "#E5ECF6",
            "gridcolor": "white",
            "gridwidth": 2,
            "linecolor": "white",
            "showbackground": true,
            "ticks": "",
            "zerolinecolor": "white"
           },
           "yaxis": {
            "backgroundcolor": "#E5ECF6",
            "gridcolor": "white",
            "gridwidth": 2,
            "linecolor": "white",
            "showbackground": true,
            "ticks": "",
            "zerolinecolor": "white"
           },
           "zaxis": {
            "backgroundcolor": "#E5ECF6",
            "gridcolor": "white",
            "gridwidth": 2,
            "linecolor": "white",
            "showbackground": true,
            "ticks": "",
            "zerolinecolor": "white"
           }
          },
          "shapedefaults": {
           "line": {
            "color": "#2a3f5f"
           }
          },
          "ternary": {
           "aaxis": {
            "gridcolor": "white",
            "linecolor": "white",
            "ticks": ""
           },
           "baxis": {
            "gridcolor": "white",
            "linecolor": "white",
            "ticks": ""
           },
           "bgcolor": "#E5ECF6",
           "caxis": {
            "gridcolor": "white",
            "linecolor": "white",
            "ticks": ""
           }
          },
          "title": {
           "x": 0.05
          },
          "xaxis": {
           "automargin": true,
           "gridcolor": "white",
           "linecolor": "white",
           "ticks": "",
           "title": {
            "standoff": 15
           },
           "zerolinecolor": "white",
           "zerolinewidth": 2
          },
          "yaxis": {
           "automargin": true,
           "gridcolor": "white",
           "linecolor": "white",
           "ticks": "",
           "title": {
            "standoff": 15
           },
           "zerolinecolor": "white",
           "zerolinewidth": 2
          }
         }
        },
        "title": {
         "text": "Precision-Recall curve"
        },
        "width": 1000,
        "xaxis": {
         "title": {
          "text": "Recall"
         }
        },
        "yaxis": {
         "title": {
          "text": "Precision"
         }
        }
       }
      }
     },
     "metadata": {},
     "output_type": "display_data"
    }
   ],
   "source": [
    "import plotly.graph_objects as go\n",
    "from sklearn.preprocessing import label_binarize\n",
    "from sklearn.metrics import precision_recall_curve, average_precision_score\n",
    "\n",
    "# Binarizza le etichette in un formato one-vs-rest e calcola i punteggi di probabilità per le classi\n",
    "Y = label_binarize(y_test, classes=np.unique(y_test))\n",
    "y_scores = clf.predict_proba(X_test_norm)\n",
    "\n",
    "# Inizializza dizionari per precision e recall\n",
    "precision = dict()\n",
    "recall = dict()\n",
    "average_precision = dict()\n",
    "\n",
    "# Calcola precision e recall per ogni classe\n",
    "for i in range(len(np.unique(y_test))):\n",
    "    precision[i], recall[i], _ = precision_recall_curve(Y[:, i], y_scores[:, i])\n",
    "    average_precision[i] = average_precision_score(Y[:, i], y_scores[:, i])\n",
    "\n",
    "# Crea un grafico Plotly\n",
    "fig = go.Figure()\n",
    "\n",
    "# Aggiunge una linea per ogni classe\n",
    "for i, genre in enumerate(np.unique(y_test)):\n",
    "    fig.add_trace(go.Scatter(x=recall[i], y=precision[i], mode='lines', name=f'Class {i} (AP={average_precision[i]:0.2f})'))\n",
    "\n",
    "# Aggiorna il layout\n",
    "fig.update_layout(\n",
    "    title=\"Precision-Recall curve\",\n",
    "    xaxis_title=\"Recall\",\n",
    "     width=1000,  # Larghezza del plot\n",
    "    height=800,  \n",
    "    yaxis_title=\"Precision\",\n",
    "    legend_title=\"Classes\"\n",
    ")\n",
    "\n",
    "# Mostra il grafico\n",
    "fig.show()\n"
   ]
  },
  {
   "cell_type": "code",
   "execution_count": 232,
   "metadata": {},
   "outputs": [
    {
     "data": {
      "application/vnd.plotly.v1+json": {
       "config": {
        "plotlyServerURL": "https://plot.ly"
       },
       "data": [
        {
         "mode": "lines",
         "name": "Class 0 (AUC=0.99)",
         "type": "scatter",
         "x": [
          0,
          0,
          0,
          0.0010277492291880781,
          0.0010277492291880781,
          0.0010277492291880781,
          0.0010277492291880781,
          0.0020554984583761563,
          0.0020554984583761563,
          0.0020554984583761563,
          0.0020554984583761563,
          0.0020554984583761563,
          0.0020554984583761563,
          0.0020554984583761563,
          0.0020554984583761563,
          0.0020554984583761563,
          0.0020554984583761563,
          0.0020554984583761563,
          0.0020554984583761563,
          0.0020554984583761563,
          0.0020554984583761563,
          0.0020554984583761563,
          0.0020554984583761563,
          0.0020554984583761563,
          0.0020554984583761563,
          0.0025693730729701952,
          0.0025693730729701952,
          0.0025693730729701952,
          0.0025693730729701952,
          0.0025693730729701952,
          0.0025693730729701952,
          0.0025693730729701952,
          0.0025693730729701952,
          0.0025693730729701952,
          0.0025693730729701952,
          0.0025693730729701952,
          0.0025693730729701952,
          0.0035971223021582736,
          0.0035971223021582736,
          0.0035971223021582736,
          0.0035971223021582736,
          0.0035971223021582736,
          0.0035971223021582736,
          0.0046248715313463515,
          0.0046248715313463515,
          0.0046248715313463515,
          0.0051387461459403904,
          0.0051387461459403904,
          0.0051387461459403904,
          0.0051387461459403904,
          0.0051387461459403904,
          0.0051387461459403904,
          0.005652620760534429,
          0.005652620760534429,
          0.006166495375128468,
          0.006166495375128468,
          0.006680369989722507,
          0.006680369989722507,
          0.006680369989722507,
          0.006680369989722507,
          0.007194244604316547,
          0.007194244604316547,
          0.008221993833504625,
          0.008221993833504625,
          0.009249743062692703,
          0.009249743062692703,
          0.009763617677286743,
          0.009763617677286743,
          0.009763617677286743,
          0.010277492291880781,
          0.010277492291880781,
          0.010277492291880781,
          0.010277492291880781,
          0.01079136690647482,
          0.01079136690647482,
          0.011305241521068859,
          0.011305241521068859,
          0.011819116135662899,
          0.012846865364850977,
          0.012846865364850977,
          0.013874614594039054,
          0.013874614594039054,
          0.014902363823227132,
          0.014902363823227132,
          0.01593011305241521,
          0.01593011305241521,
          0.01644398766700925,
          0.01644398766700925,
          0.01644398766700925,
          0.01695786228160329,
          0.01695786228160329,
          0.020554984583761562,
          0.020554984583761562,
          0.0210688591983556,
          0.0210688591983556,
          0.022096608427543678,
          0.022610483042137718,
          0.022610483042137718,
          0.023638232271325797,
          0.023638232271325797,
          0.025693730729701953,
          0.026207605344295993,
          0.026207605344295993,
          0.02723535457348407,
          0.029290853031860225,
          0.029290853031860225,
          0.030832476875642344,
          0.030832476875642344,
          0.03186022610483042,
          0.03237410071942446,
          0.03237410071942446,
          0.03340184994861254,
          0.03391572456320658,
          0.03494347379239465,
          0.03494347379239465,
          0.03648509763617677,
          0.03648509763617677,
          0.03802672147995889,
          0.03802672147995889,
          0.03854059609455293,
          0.039568345323741004,
          0.040596094552929084,
          0.04162384378211716,
          0.0421377183967112,
          0.04316546762589928,
          0.04316546762589928,
          0.04367934224049332,
          0.044707091469681395,
          0.045734840698869475,
          0.045734840698869475,
          0.046762589928057555,
          0.046762589928057555,
          0.047790339157245634,
          0.047790339157245634,
          0.050873586844809866,
          0.052929085303186026,
          0.05344295991778006,
          0.05344295991778006,
          0.05601233299075026,
          0.05704008221993834,
          0.05755395683453238,
          0.05858170606372045,
          0.06217882836587873,
          0.06217882836587873,
          0.06269270298047276,
          0.06372045220966084,
          0.06423432682425488,
          0.06526207605344296,
          0.065775950668037,
          0.065775950668037,
          0.06731757451181912,
          0.06731757451181912,
          0.0683453237410072,
          0.06937307297019528,
          0.07142857142857142,
          0.0724563206577595,
          0.07297019527235354,
          0.07399794450154162,
          0.07708119218910586,
          0.07810894141829394,
          0.07862281603288798,
          0.07862281603288798,
          0.08067831449126413,
          0.0842754367934224,
          0.08530318602261049,
          0.0868448098663926,
          0.08787255909558069,
          0.08992805755395683,
          0.09095580678314491,
          0.09146968139773895,
          0.09249743062692703,
          0.09249743062692703,
          0.09455292908530319,
          0.09660842754367935,
          0.09712230215827339,
          0.10328879753340185,
          1
         ],
         "y": [
          0,
          0.6012658227848101,
          0.6075949367088608,
          0.6075949367088608,
          0.6118143459915611,
          0.6244725738396625,
          0.6286919831223629,
          0.6286919831223629,
          0.630801687763713,
          0.6350210970464135,
          0.6413502109704642,
          0.6455696202531646,
          0.6476793248945147,
          0.6518987341772152,
          0.6582278481012658,
          0.6624472573839663,
          0.6666666666666666,
          0.6708860759493671,
          0.6835443037974683,
          0.6877637130801688,
          0.6940928270042194,
          0.6983122362869199,
          0.70042194092827,
          0.7046413502109705,
          0.7067510548523207,
          0.7067510548523207,
          0.7109704641350211,
          0.7130801687763713,
          0.7172995780590717,
          0.7194092827004219,
          0.7236286919831224,
          0.7320675105485233,
          0.7362869198312236,
          0.740506329113924,
          0.7447257383966245,
          0.7489451476793249,
          0.7531645569620253,
          0.7531645569620253,
          0.7573839662447257,
          0.7616033755274262,
          0.770042194092827,
          0.7784810126582279,
          0.7911392405063291,
          0.7911392405063291,
          0.7953586497890295,
          0.79957805907173,
          0.79957805907173,
          0.8059071729957806,
          0.810126582278481,
          0.8143459915611815,
          0.8185654008438819,
          0.8227848101265823,
          0.8227848101265823,
          0.8270042194092827,
          0.8270042194092827,
          0.8312236286919831,
          0.8312236286919831,
          0.8333333333333334,
          0.8417721518987342,
          0.8459915611814346,
          0.8459915611814346,
          0.8481012658227848,
          0.8481012658227848,
          0.8523206751054853,
          0.8523206751054853,
          0.8565400843881856,
          0.8565400843881856,
          0.8607594936708861,
          0.8776371308016878,
          0.8776371308016878,
          0.8818565400843882,
          0.8924050632911392,
          0.9008438818565401,
          0.9008438818565401,
          0.9029535864978903,
          0.9029535864978903,
          0.9050632911392406,
          0.9050632911392406,
          0.9050632911392406,
          0.9135021097046413,
          0.9135021097046413,
          0.9156118143459916,
          0.9156118143459916,
          0.919831223628692,
          0.919831223628692,
          0.9219409282700421,
          0.9219409282700421,
          0.9240506329113924,
          0.9282700421940928,
          0.9282700421940928,
          0.930379746835443,
          0.930379746835443,
          0.9345991561181435,
          0.9345991561181435,
          0.9409282700421941,
          0.9409282700421941,
          0.9409282700421941,
          0.9430379746835443,
          0.9430379746835443,
          0.9472573839662447,
          0.9472573839662447,
          0.9472573839662447,
          0.9493670886075949,
          0.9493670886075949,
          0.9493670886075949,
          0.9514767932489452,
          0.9514767932489452,
          0.9535864978902954,
          0.9535864978902954,
          0.9535864978902954,
          0.9578059071729957,
          0.9578059071729957,
          0.9578059071729957,
          0.9578059071729957,
          0.959915611814346,
          0.959915611814346,
          0.9620253164556962,
          0.9620253164556962,
          0.9662447257383966,
          0.9662447257383966,
          0.9662447257383966,
          0.9662447257383966,
          0.9662447257383966,
          0.9662447257383966,
          0.9662447257383966,
          0.9704641350210971,
          0.9704641350210971,
          0.9704641350210971,
          0.9704641350210971,
          0.9746835443037974,
          0.9746835443037974,
          0.9767932489451476,
          0.9767932489451476,
          0.9789029535864979,
          0.9789029535864979,
          0.9789029535864979,
          0.9789029535864979,
          0.9810126582278481,
          0.9810126582278481,
          0.9810126582278481,
          0.9810126582278481,
          0.9810126582278481,
          0.9810126582278481,
          0.9831223628691983,
          0.9831223628691983,
          0.9831223628691983,
          0.9831223628691983,
          0.9831223628691983,
          0.9831223628691983,
          0.9852320675105485,
          0.9852320675105485,
          0.9873417721518988,
          0.9873417721518988,
          0.9873417721518988,
          0.9873417721518988,
          0.9873417721518988,
          0.9873417721518988,
          0.9873417721518988,
          0.9873417721518988,
          0.9873417721518988,
          0.9873417721518988,
          0.989451476793249,
          0.989451476793249,
          0.989451476793249,
          0.989451476793249,
          0.989451476793249,
          0.989451476793249,
          0.989451476793249,
          0.989451476793249,
          0.989451476793249,
          0.989451476793249,
          0.9915611814345991,
          0.9915611814345991,
          0.9915611814345991,
          0.9915611814345991,
          0.9915611814345991,
          1
         ]
        },
        {
         "mode": "lines",
         "name": "Class 1 (AUC=0.97)",
         "type": "scatter",
         "x": [
          0,
          0,
          0,
          0,
          0,
          0,
          0.0005065856129685917,
          0.0005065856129685917,
          0.0005065856129685917,
          0.0005065856129685917,
          0.0005065856129685917,
          0.0005065856129685917,
          0.0005065856129685917,
          0.0010131712259371835,
          0.0010131712259371835,
          0.002026342451874367,
          0.002026342451874367,
          0.0025329280648429585,
          0.0025329280648429585,
          0.00303951367781155,
          0.00303951367781155,
          0.0035460992907801418,
          0.0035460992907801418,
          0.004559270516717325,
          0.004559270516717325,
          0.004559270516717325,
          0.005065856129685917,
          0.005065856129685917,
          0.006585612968591692,
          0.006585612968591692,
          0.006585612968591692,
          0.0070921985815602835,
          0.0070921985815602835,
          0.008105369807497468,
          0.008105369807497468,
          0.008611955420466059,
          0.008611955420466059,
          0.009625126646403243,
          0.009625126646403243,
          0.010131712259371834,
          0.010131712259371834,
          0.01165146909827761,
          0.01165146909827761,
          0.0121580547112462,
          0.0121580547112462,
          0.012664640324214792,
          0.012664640324214792,
          0.013171225937183385,
          0.013171225937183385,
          0.013677811550151976,
          0.013677811550151976,
          0.015704154002026342,
          0.015704154002026342,
          0.016717325227963525,
          0.016717325227963525,
          0.017223910840932118,
          0.017223910840932118,
          0.01773049645390071,
          0.01773049645390071,
          0.01773049645390071,
          0.018743667679837893,
          0.018743667679837893,
          0.020263424518743668,
          0.020263424518743668,
          0.020263424518743668,
          0.02127659574468085,
          0.02127659574468085,
          0.021783181357649443,
          0.022796352583586626,
          0.02330293819655522,
          0.02330293819655522,
          0.023809523809523808,
          0.023809523809523808,
          0.023809523809523808,
          0.0243161094224924,
          0.0243161094224924,
          0.025329280648429583,
          0.025329280648429583,
          0.02634245187436677,
          0.02634245187436677,
          0.02735562310030395,
          0.028368794326241134,
          0.028368794326241134,
          0.02988855116514691,
          0.02988855116514691,
          0.030395136778115502,
          0.030395136778115502,
          0.03090172239108409,
          0.031914893617021274,
          0.031914893617021274,
          0.031914893617021274,
          0.031914893617021274,
          0.03242147922998987,
          0.03242147922998987,
          0.03292806484295846,
          0.03292806484295846,
          0.033941236068895646,
          0.033941236068895646,
          0.034954407294832825,
          0.034954407294832825,
          0.03596757852077001,
          0.03596757852077001,
          0.03596757852077001,
          0.0364741641337386,
          0.0364741641337386,
          0.037993920972644375,
          0.03900709219858156,
          0.03900709219858156,
          0.041033434650455926,
          0.041033434650455926,
          0.04154002026342452,
          0.0425531914893617,
          0.04305977710233029,
          0.04305977710233029,
          0.044072948328267476,
          0.044072948328267476,
          0.04559270516717325,
          0.04559270516717325,
          0.04711246200607903,
          0.04711246200607903,
          0.04812563323201621,
          0.04812563323201621,
          0.04964539007092199,
          0.04964539007092199,
          0.04964539007092199,
          0.05065856129685917,
          0.05065856129685917,
          0.05116514690982776,
          0.05116514690982776,
          0.05369807497467072,
          0.0547112462006079,
          0.05572441742654509,
          0.05572441742654509,
          0.05623100303951368,
          0.05623100303951368,
          0.05673758865248227,
          0.05673758865248227,
          0.05876393110435663,
          0.05977710233029382,
          0.05977710233029382,
          0.06180344478216818,
          0.06180344478216818,
          0.06231003039513678,
          0.06231003039513678,
          0.06382978723404255,
          0.06382978723404255,
          0.06433637284701114,
          0.06433637284701114,
          0.06585612968591692,
          0.0668693009118541,
          0.06788247213779129,
          0.06889564336372847,
          0.07092198581560284,
          0.07193515704154002,
          0.0734549138804458,
          0.0734549138804458,
          0.07396149949341439,
          0.07396149949341439,
          0.07497467071935157,
          0.07497467071935157,
          0.07750759878419453,
          0.07852077001013172,
          0.08054711246200608,
          0.08054711246200608,
          0.08206686930091185,
          0.08206686930091185,
          0.08257345491388045,
          0.08358662613981763,
          0.085612968591692,
          0.085612968591692,
          0.08763931104356636,
          0.08763931104356636,
          0.08814589665653495,
          0.08814589665653495,
          0.09017223910840932,
          0.0911854103343465,
          0.0911854103343465,
          0.0916919959473151,
          0.0916919959473151,
          0.09270516717325228,
          0.09270516717325228,
          0.09371833839918946,
          0.0977710233029382,
          0.0977710233029382,
          0.09929078014184398,
          0.09929078014184398,
          0.09979736575481256,
          0.09979736575481256,
          0.10283687943262411,
          0.10283687943262411,
          0.10486322188449848,
          0.10688956433637285,
          0.10688956433637285,
          0.10739614994934144,
          0.10840932117527863,
          0.10891590678824721,
          0.1099290780141844,
          0.11195542046605876,
          0.11195542046605876,
          0.1160081053698075,
          0.11803444782168186,
          0.11904761904761904,
          0.12006079027355623,
          0.12512664640324214,
          0.12613981762917933,
          0.1276595744680851,
          0.1276595744680851,
          0.1281661600810537,
          0.12917933130699089,
          0.12917933130699089,
          0.13272543059777103,
          0.1337386018237082,
          0.1347517730496454,
          0.13576494427558258,
          0.13677811550151975,
          0.13779128672745694,
          0.13779128672745694,
          0.14285714285714285,
          0.14488348530901723,
          0.14792299898682879,
          0.14893617021276595,
          0.14994934143870314,
          0.14994934143870314,
          0.1540020263424519,
          0.1540020263424519,
          1
         ],
         "y": [
          0,
          0.5358744394618834,
          0.5426008968609866,
          0.547085201793722,
          0.5493273542600897,
          0.5627802690582959,
          0.5627802690582959,
          0.5672645739910314,
          0.5739910313901345,
          0.5829596412556054,
          0.600896860986547,
          0.6188340807174888,
          0.6300448430493274,
          0.6300448430493274,
          0.6390134529147982,
          0.6390134529147982,
          0.6434977578475336,
          0.6434977578475336,
          0.6502242152466368,
          0.6502242152466368,
          0.6547085201793722,
          0.6547085201793722,
          0.6771300448430493,
          0.6771300448430493,
          0.6816143497757847,
          0.6860986547085202,
          0.6860986547085202,
          0.6905829596412556,
          0.6905829596412556,
          0.6928251121076233,
          0.6973094170403588,
          0.6973094170403588,
          0.7017937219730942,
          0.7017937219730942,
          0.7040358744394619,
          0.7040358744394619,
          0.7130044843049327,
          0.7130044843049327,
          0.7197309417040358,
          0.7197309417040358,
          0.7286995515695067,
          0.7286995515695067,
          0.7376681614349776,
          0.7376681614349776,
          0.742152466367713,
          0.742152466367713,
          0.7443946188340808,
          0.7443946188340808,
          0.7533632286995515,
          0.7533632286995515,
          0.7556053811659192,
          0.7556053811659192,
          0.7600896860986547,
          0.7600896860986547,
          0.7645739910313901,
          0.7645739910313901,
          0.7668161434977578,
          0.7668161434977578,
          0.7713004484304933,
          0.773542600896861,
          0.773542600896861,
          0.7757847533632287,
          0.7757847533632287,
          0.7802690582959642,
          0.7825112107623319,
          0.7825112107623319,
          0.7847533632286996,
          0.7847533632286996,
          0.7847533632286996,
          0.7847533632286996,
          0.7892376681614349,
          0.7892376681614349,
          0.7914798206278026,
          0.7959641255605381,
          0.7959641255605381,
          0.8026905829596412,
          0.8026905829596412,
          0.804932735426009,
          0.804932735426009,
          0.8071748878923767,
          0.8071748878923767,
          0.8071748878923767,
          0.8116591928251121,
          0.8116591928251121,
          0.8139013452914798,
          0.8139013452914798,
          0.820627802690583,
          0.820627802690583,
          0.820627802690583,
          0.8228699551569507,
          0.827354260089686,
          0.8295964125560538,
          0.8295964125560538,
          0.8318385650224215,
          0.8318385650224215,
          0.8363228699551569,
          0.8363228699551569,
          0.8385650224215246,
          0.8385650224215246,
          0.8408071748878924,
          0.8408071748878924,
          0.8452914798206278,
          0.8475336322869955,
          0.8475336322869955,
          0.8497757847533632,
          0.8497757847533632,
          0.8497757847533632,
          0.8542600896860987,
          0.8542600896860987,
          0.8609865470852018,
          0.8609865470852018,
          0.8609865470852018,
          0.8609865470852018,
          0.8654708520179372,
          0.8654708520179372,
          0.8677130044843049,
          0.8677130044843049,
          0.8699551569506726,
          0.8699551569506726,
          0.874439461883408,
          0.874439461883408,
          0.8789237668161435,
          0.8789237668161435,
          0.8834080717488789,
          0.8878923766816144,
          0.8878923766816144,
          0.8901345291479821,
          0.8901345291479821,
          0.8923766816143498,
          0.8923766816143498,
          0.8923766816143498,
          0.8923766816143498,
          0.8968609865470852,
          0.8968609865470852,
          0.899103139013453,
          0.899103139013453,
          0.905829596412556,
          0.905829596412556,
          0.905829596412556,
          0.9080717488789237,
          0.9080717488789237,
          0.9103139013452914,
          0.9103139013452914,
          0.9125560538116592,
          0.9125560538116592,
          0.9147982062780269,
          0.9147982062780269,
          0.9170403587443946,
          0.9170403587443946,
          0.9170403587443946,
          0.9170403587443946,
          0.9170403587443946,
          0.9170403587443946,
          0.9170403587443946,
          0.9170403587443946,
          0.9192825112107623,
          0.9192825112107623,
          0.92152466367713,
          0.92152466367713,
          0.9237668161434978,
          0.9237668161434978,
          0.9237668161434978,
          0.9237668161434978,
          0.9260089686098655,
          0.9260089686098655,
          0.9282511210762332,
          0.9282511210762332,
          0.9282511210762332,
          0.9282511210762332,
          0.9304932735426009,
          0.9304932735426009,
          0.9327354260089686,
          0.9327354260089686,
          0.9349775784753364,
          0.9349775784753364,
          0.9349775784753364,
          0.9372197309417041,
          0.9372197309417041,
          0.9394618834080718,
          0.9394618834080718,
          0.9439461883408071,
          0.9439461883408071,
          0.9439461883408071,
          0.9461883408071748,
          0.9461883408071748,
          0.9506726457399103,
          0.9506726457399103,
          0.952914798206278,
          0.952914798206278,
          0.9551569506726457,
          0.9551569506726457,
          0.9551569506726457,
          0.9573991031390134,
          0.9573991031390134,
          0.9573991031390134,
          0.9573991031390134,
          0.9573991031390134,
          0.9573991031390134,
          0.9618834080717489,
          0.9618834080717489,
          0.9618834080717489,
          0.9618834080717489,
          0.9618834080717489,
          0.9618834080717489,
          0.9618834080717489,
          0.9618834080717489,
          0.9641255605381166,
          0.9641255605381166,
          0.9641255605381166,
          0.968609865470852,
          0.968609865470852,
          0.968609865470852,
          0.968609865470852,
          0.968609865470852,
          0.968609865470852,
          0.968609865470852,
          0.9708520179372198,
          0.9708520179372198,
          0.9708520179372198,
          0.9708520179372198,
          0.9708520179372198,
          0.9708520179372198,
          0.9730941704035875,
          0.9730941704035875,
          0.9775784753363229,
          1
         ]
        },
        {
         "mode": "lines",
         "name": "Class 2 (AUC=0.99)",
         "type": "scatter",
         "x": [
          0,
          0.004805125467164976,
          0.004805125467164976,
          0.004805125467164976,
          0.004805125467164976,
          0.004805125467164976,
          0.0058729311265349705,
          0.0058729311265349705,
          0.0058729311265349705,
          0.0058729311265349705,
          0.0058729311265349705,
          0.0058729311265349705,
          0.0058729311265349705,
          0.0058729311265349705,
          0.0058729311265349705,
          0.0069407367859049655,
          0.0069407367859049655,
          0.007474639615589963,
          0.007474639615589963,
          0.007474639615589963,
          0.007474639615589963,
          0.007474639615589963,
          0.00800854244527496,
          0.00800854244527496,
          0.009076348104644954,
          0.009076348104644954,
          0.01014415376401495,
          0.01014415376401495,
          0.010678056593699947,
          0.010678056593699947,
          0.010678056593699947,
          0.011211959423384944,
          0.011211959423384944,
          0.011745862253069941,
          0.011745862253069941,
          0.011745862253069941,
          0.012279765082754938,
          0.012279765082754938,
          0.012813667912439935,
          0.013881473571809931,
          0.013881473571809931,
          0.013881473571809931,
          0.014415376401494928,
          0.014415376401494928,
          0.014949279231179925,
          0.014949279231179925,
          0.015483182060864922,
          0.015483182060864922,
          0.015483182060864922,
          0.015483182060864922,
          0.01761879337960491,
          0.01761879337960491,
          0.019220501868659905,
          0.019220501868659905,
          0.019220501868659905,
          0.0202883075280299,
          0.0202883075280299,
          0.0202883075280299,
          0.0202883075280299,
          0.0202883075280299,
          0.0202883075280299,
          0.02189001601708489,
          0.02189001601708489,
          0.022423918846769888,
          0.022423918846769888,
          0.022423918846769888,
          0.022957821676454885,
          0.022957821676454885,
          0.02402562733582488,
          0.02402562733582488,
          0.025093432995194873,
          0.025093432995194873,
          0.025093432995194873,
          0.02562733582487987,
          0.02562733582487987,
          0.02562733582487987,
          0.02562733582487987,
          0.027229044313934865,
          0.029364655632674853,
          0.03150026695141484,
          0.03150026695141484,
          0.032568072610784836,
          0.032568072610784836,
          0.032568072610784836,
          0.03363587827015483,
          0.03363587827015483,
          0.03577148958889482,
          0.03683929524826481,
          0.03683929524826481,
          0.03737319807794982,
          0.03737319807794982,
          0.03844100373731981,
          0.03844100373731981,
          0.039508809396689805,
          0.039508809396689805,
          0.04217832354511479,
          0.043246129204484784,
          0.043246129204484784,
          0.04378003203416978,
          0.04378003203416978,
          0.044847837693539776,
          0.044847837693539776,
          0.04591564335290977,
          0.04805125467164976,
          0.04805125467164976,
          0.05018686599038975,
          0.05018686599038975,
          0.05232247730912974,
          0.05285638013881474,
          0.05285638013881474,
          0.053390282968499736,
          0.053390282968499736,
          0.05445808862786973,
          0.055525894287239724,
          0.05659369994660972,
          0.05659369994660972,
          0.05659369994660972,
          0.05766150560597971,
          0.05766150560597971,
          0.05819540843566471,
          0.05819540843566471,
          0.05872931126534971,
          0.05872931126534971,
          0.059263214095034704,
          0.059263214095034704,
          0.06353443673251469,
          0.06460224239188468,
          0.06460224239188468,
          0.06567004805125468,
          0.06567004805125468,
          0.07154297917778964,
          0.07154297917778964,
          0.0784837159636946,
          0.0784837159636946,
          0.07901761879337961,
          0.07901761879337961,
          0.0800854244527496,
          0.0800854244527496,
          0.0811532301121196,
          0.0811532301121196,
          0.08275493860117458,
          0.08382274426054458,
          0.08542445274959957,
          0.08542445274959957,
          0.09236518953550454,
          0.09343299519487454,
          0.09450080085424453,
          0.09450080085424453,
          0.09503470368392952,
          0.09610250934329952,
          0.0998398291510945,
          0.1009076348104645,
          0.10197544046983449,
          0.10197544046983449,
          0.10411105178857448,
          0.10411105178857448,
          0.10784837159636947,
          0.10784837159636947,
          0.11051788574479444,
          0.11051788574479444,
          0.11158569140416444,
          0.11265349706353443,
          0.11425520555258943,
          0.11532301121195943,
          0.1201281366791244,
          0.1222637479978644,
          0.12333155365723439,
          0.12439935931660438,
          0.12920448478376936,
          0.13027229044313934,
          0.13294180459156432,
          0.13400961025093433,
          0.1366791243993593,
          0.13774693005872932,
          0.14468766684463427,
          1
         ],
         "y": [
          0,
          0.7312614259597806,
          0.7349177330895795,
          0.7458866544789763,
          0.7477148080438757,
          0.7586837294332724,
          0.7586837294332724,
          0.7623400365630713,
          0.7641681901279708,
          0.7751371115173674,
          0.7769652650822669,
          0.7879341864716636,
          0.7897623400365631,
          0.793418647166362,
          0.7952468007312614,
          0.7952468007312614,
          0.7970749542961609,
          0.7970749542961609,
          0.7989031078610603,
          0.8025594149908593,
          0.8043875685557587,
          0.8117001828153565,
          0.8117001828153565,
          0.8135283363802559,
          0.8135283363802559,
          0.8171846435100548,
          0.8171846435100548,
          0.8190127970749543,
          0.8190127970749543,
          0.8208409506398537,
          0.8244972577696527,
          0.8244972577696527,
          0.8281535648994516,
          0.8281535648994516,
          0.8318098720292505,
          0.8391224862888482,
          0.8391224862888482,
          0.8409506398537477,
          0.8409506398537477,
          0.8409506398537477,
          0.8446069469835467,
          0.8482632541133455,
          0.8482632541133455,
          0.8519195612431444,
          0.8519195612431444,
          0.8555758683729433,
          0.8555758683729433,
          0.8574040219378428,
          0.8610603290676416,
          0.8628884826325411,
          0.8628884826325411,
          0.8647166361974405,
          0.8647166361974405,
          0.8665447897623401,
          0.870201096892139,
          0.870201096892139,
          0.8738574040219378,
          0.8775137111517367,
          0.8793418647166362,
          0.8829981718464351,
          0.8848263254113345,
          0.8848263254113345,
          0.8884826325411335,
          0.8884826325411335,
          0.8921389396709324,
          0.8939670932358318,
          0.8939670932358318,
          0.8976234003656307,
          0.8976234003656307,
          0.8994515539305301,
          0.8994515539305301,
          0.9012797074954296,
          0.9049360146252285,
          0.9049360146252285,
          0.9104204753199269,
          0.9140767824497258,
          0.9159049360146252,
          0.9159049360146252,
          0.9159049360146252,
          0.9159049360146252,
          0.9195612431444241,
          0.9195612431444241,
          0.923217550274223,
          0.9250457038391224,
          0.9250457038391224,
          0.9287020109689214,
          0.9287020109689214,
          0.9287020109689214,
          0.9305301645338209,
          0.9305301645338209,
          0.9323583180987203,
          0.9323583180987203,
          0.9341864716636198,
          0.9341864716636198,
          0.9360146252285192,
          0.9360146252285192,
          0.9360146252285192,
          0.9378427787934186,
          0.9378427787934186,
          0.9414990859232175,
          0.9414990859232175,
          0.943327239488117,
          0.943327239488117,
          0.943327239488117,
          0.9451553930530164,
          0.9451553930530164,
          0.946983546617916,
          0.946983546617916,
          0.946983546617916,
          0.9506398537477148,
          0.9506398537477148,
          0.9524680073126143,
          0.9524680073126143,
          0.9524680073126143,
          0.9524680073126143,
          0.9561243144424132,
          0.9579524680073126,
          0.9579524680073126,
          0.9616087751371115,
          0.9616087751371115,
          0.9634369287020109,
          0.9634369287020109,
          0.9670932358318098,
          0.9670932358318098,
          0.9707495429616088,
          0.9707495429616088,
          0.9707495429616088,
          0.9725776965265083,
          0.9725776965265083,
          0.9744058500914077,
          0.9744058500914077,
          0.9780621572212066,
          0.9780621572212066,
          0.9817184643510055,
          0.9817184643510055,
          0.9835466179159049,
          0.9835466179159049,
          0.9853747714808044,
          0.9853747714808044,
          0.9872029250457038,
          0.9872029250457038,
          0.9872029250457038,
          0.9872029250457038,
          0.9890310786106032,
          0.9890310786106032,
          0.9890310786106032,
          0.9890310786106032,
          0.9908592321755028,
          0.9908592321755028,
          0.9908592321755028,
          0.9908592321755028,
          0.9908592321755028,
          0.9908592321755028,
          0.9945155393053017,
          0.9945155393053017,
          0.9963436928702011,
          0.9963436928702011,
          0.9981718464351006,
          0.9981718464351006,
          1,
          1,
          1,
          1,
          1,
          1,
          1,
          1,
          1,
          1,
          1,
          1,
          1,
          1,
          1,
          1,
          1
         ]
        },
        {
         "mode": "lines",
         "name": "Class 3 (AUC=0.98)",
         "type": "scatter",
         "x": [
          0,
          0,
          0,
          0.00044072278536800354,
          0.00044072278536800354,
          0.0008814455707360071,
          0.0008814455707360071,
          0.0022036139268400176,
          0.0022036139268400176,
          0.002644336712208021,
          0.002644336712208021,
          0.0035257822829440283,
          0.003966505068312032,
          0.003966505068312032,
          0.004407227853680035,
          0.004407227853680035,
          0.004847950639048039,
          0.004847950639048039,
          0.0057293962097840455,
          0.0057293962097840455,
          0.00617011899515205,
          0.00617011899515205,
          0.006610841780520053,
          0.006610841780520053,
          0.007051564565888057,
          0.007051564565888057,
          0.00749228735125606,
          0.00749228735125606,
          0.007933010136624064,
          0.007933010136624064,
          0.008373732921992068,
          0.008373732921992068,
          0.010136624063464082,
          0.010136624063464082,
          0.010577346848832084,
          0.010577346848832084,
          0.011899515204936095,
          0.011899515204936095,
          0.0123402379903041,
          0.0123402379903041,
          0.013221683561040106,
          0.014103129131776113,
          0.014103129131776113,
          0.014543851917144116,
          0.014543851917144116,
          0.015425297487880123,
          0.015425297487880123,
          0.015866020273248127,
          0.015866020273248127,
          0.01630674305861613,
          0.01630674305861613,
          0.017188188629352136,
          0.017188188629352136,
          0.01851035698545615,
          0.01851035698545615,
          0.01895107977082415,
          0.01895107977082415,
          0.01983252534156016,
          0.021595416483032173,
          0.021595416483032173,
          0.02247686205376818,
          0.02247686205376818,
          0.023358307624504186,
          0.024239753195240195,
          0.02600264433671221,
          0.026884089907448214,
          0.027324812692816218,
          0.028206258263552227,
          0.02908770383428823,
          0.02996914940502424,
          0.030409872190392245,
          0.030409872190392245,
          0.030850594975760245,
          0.030850594975760245,
          0.03129131776112825,
          0.03217276333186426,
          0.03437637725870427,
          0.03437637725870427,
          0.036579991185544294,
          0.036579991185544294,
          0.0374614367562803,
          0.0374614367562803,
          0.038342882327016305,
          0.04098721903922433,
          0.04098721903922433,
          0.04275011018069634,
          0.04451300132216836,
          0.04495372410753636,
          0.045835169678272364,
          0.048920229175848394,
          0.049801674746584396,
          0.0502423975319524,
          0.05112384310268841,
          0.05156456588805641,
          0.05244601145879242,
          0.05509034817100044,
          0.05597179374173645,
          0.05685323931247246,
          0.05861613045394447,
          0.059497576024680476,
          0.060379021595416485,
          0.062141912736888495,
          1
         ],
         "y": [
          0,
          0.07947019867549669,
          0.23178807947019867,
          0.23178807947019867,
          0.3708609271523179,
          0.3708609271523179,
          0.41721854304635764,
          0.41721854304635764,
          0.45695364238410596,
          0.45695364238410596,
          0.4900662251655629,
          0.4900662251655629,
          0.4900662251655629,
          0.5099337748344371,
          0.5099337748344371,
          0.5960264900662252,
          0.5960264900662252,
          0.6490066225165563,
          0.6490066225165563,
          0.6754966887417219,
          0.6754966887417219,
          0.6821192052980133,
          0.6821192052980133,
          0.7019867549668874,
          0.7019867549668874,
          0.7152317880794702,
          0.7152317880794702,
          0.7417218543046358,
          0.7417218543046358,
          0.7549668874172185,
          0.7549668874172185,
          0.7682119205298014,
          0.7682119205298014,
          0.7748344370860927,
          0.7748344370860927,
          0.8079470198675497,
          0.8079470198675497,
          0.8145695364238411,
          0.8145695364238411,
          0.8410596026490066,
          0.8410596026490066,
          0.8410596026490066,
          0.8609271523178808,
          0.8609271523178808,
          0.8675496688741722,
          0.8675496688741722,
          0.8741721854304636,
          0.8741721854304636,
          0.8807947019867549,
          0.8807947019867549,
          0.9006622516556292,
          0.9006622516556292,
          0.9072847682119205,
          0.9072847682119205,
          0.9139072847682119,
          0.9139072847682119,
          0.9205298013245033,
          0.9205298013245033,
          0.9205298013245033,
          0.9271523178807947,
          0.9271523178807947,
          0.9337748344370861,
          0.9337748344370861,
          0.9337748344370861,
          0.9337748344370861,
          0.9337748344370861,
          0.9337748344370861,
          0.9337748344370861,
          0.9337748344370861,
          0.9337748344370861,
          0.9337748344370861,
          0.9403973509933775,
          0.9403973509933775,
          0.9470198675496688,
          0.9470198675496688,
          0.9470198675496688,
          0.9470198675496688,
          0.9536423841059603,
          0.9536423841059603,
          0.9602649006622517,
          0.9602649006622517,
          0.9668874172185431,
          0.9668874172185431,
          0.9668874172185431,
          0.9801324503311258,
          0.9801324503311258,
          0.9801324503311258,
          0.9801324503311258,
          0.9801324503311258,
          0.9801324503311258,
          0.9801324503311258,
          0.9801324503311258,
          0.9801324503311258,
          0.9801324503311258,
          0.9801324503311258,
          0.9801324503311258,
          0.9801324503311258,
          0.9801324503311258,
          0.9801324503311258,
          0.9801324503311258,
          0.9801324503311258,
          0.9801324503311258,
          1
         ]
        },
        {
         "mode": "lines",
         "name": "Class 4 (AUC=1.00)",
         "type": "scatter",
         "x": [
          0,
          0.0006180469715698393,
          0.0006180469715698393,
          0.0006180469715698393,
          0.0006180469715698393,
          0.0006180469715698393,
          0.0006180469715698393,
          0.0006180469715698393,
          0.0012360939431396785,
          0.0012360939431396785,
          0.001854140914709518,
          0.001854140914709518,
          0.001854140914709518,
          0.001854140914709518,
          0.001854140914709518,
          0.0030902348578491965,
          0.0030902348578491965,
          0.0030902348578491965,
          0.0030902348578491965,
          0.0030902348578491965,
          0.003708281829419036,
          0.003708281829419036,
          0.003708281829419036,
          0.004326328800988875,
          0.004326328800988875,
          0.004944375772558714,
          0.004944375772558714,
          0.005562422744128554,
          0.005562422744128554,
          0.006798516687268232,
          0.007416563658838072,
          0.007416563658838072,
          0.007416563658838072,
          0.007416563658838072,
          0.008034610630407911,
          0.010506798516687269,
          0.011124845488257108,
          0.012360939431396786,
          0.013597033374536464,
          0.014833127317676144,
          0.014833127317676144,
          0.016069221260815822,
          0.016069221260815822,
          0.0173053152039555,
          0.019777503090234856,
          0.0203955500618047,
          0.021631644004944377,
          0.022249690976514216,
          0.023485784919653894,
          0.02595797280593325,
          0.027194066749072928,
          0.027194066749072928,
          0.029666254635352288,
          0.032138442521631644,
          0.033992583436341164,
          0.033992583436341164,
          0.03522867737948084,
          0.03646477132262052,
          0.0377008652657602,
          0.038318912237330034,
          0.03955500618046971,
          0.040173053152039555,
          0.04264524103831891,
          0.04326328800988875,
          0.04449938195302843,
          0.04511742892459827,
          0.04511742892459827,
          0.046353522867737945,
          0.04697156983930779,
          0.048207663782447466,
          0.050061804697156986,
          0.051297898640296664,
          0.05377008652657602,
          0.0550061804697157,
          0.05624227441285538,
          0.057478368355995055,
          0.05871446229913473,
          0.05995055624227441,
          0.05995055624227441,
          0.06056860321384425,
          0.06180469715698393,
          0.06427688504326329,
          0.06427688504326329,
          0.06427688504326329,
          0.06551297898640297,
          0.06551297898640297,
          0.06798516687268233,
          1
         ],
         "y": [
          0,
          0.899002493765586,
          0.92643391521197,
          0.9276807980049875,
          0.9301745635910225,
          0.9339152119700748,
          0.9364089775561097,
          0.9376558603491272,
          0.9376558603491272,
          0.940149625935162,
          0.940149625935162,
          0.9413965087281796,
          0.9463840399002493,
          0.9476309226932669,
          0.9501246882793017,
          0.9501246882793017,
          0.9538653366583542,
          0.956359102244389,
          0.9576059850374065,
          0.9625935162094763,
          0.9625935162094763,
          0.9638403990024937,
          0.9663341645885287,
          0.9663341645885287,
          0.9713216957605985,
          0.9713216957605985,
          0.9738154613466334,
          0.9738154613466334,
          0.9750623441396509,
          0.9750623441396509,
          0.9750623441396509,
          0.9775561097256857,
          0.9788029925187033,
          0.9812967581047382,
          0.9812967581047382,
          0.9812967581047382,
          0.9812967581047382,
          0.9812967581047382,
          0.9812967581047382,
          0.9812967581047382,
          0.983790523690773,
          0.983790523690773,
          0.986284289276808,
          0.986284289276808,
          0.986284289276808,
          0.986284289276808,
          0.986284289276808,
          0.986284289276808,
          0.986284289276808,
          0.986284289276808,
          0.986284289276808,
          0.9887780548628429,
          0.9887780548628429,
          0.9887780548628429,
          0.9887780548628429,
          0.9912718204488778,
          0.9912718204488778,
          0.9912718204488778,
          0.9912718204488778,
          0.9912718204488778,
          0.9912718204488778,
          0.9912718204488778,
          0.9912718204488778,
          0.9912718204488778,
          0.9912718204488778,
          0.9912718204488778,
          0.9925187032418953,
          0.9925187032418953,
          0.9925187032418953,
          0.9925187032418953,
          0.9925187032418953,
          0.9925187032418953,
          0.9925187032418953,
          0.9925187032418953,
          0.9925187032418953,
          0.9925187032418953,
          0.9925187032418953,
          0.9925187032418953,
          0.9937655860349127,
          0.9937655860349127,
          0.9937655860349127,
          0.9937655860349127,
          0.9962593516209476,
          0.9975062344139651,
          0.9975062344139651,
          1,
          1,
          1
         ]
        },
        {
         "line": {
          "dash": "dash"
         },
         "mode": "lines",
         "name": "Random Guessing",
         "type": "scatter",
         "x": [
          0,
          1
         ],
         "y": [
          0,
          1
         ]
        }
       ],
       "layout": {
        "height": 800,
        "legend": {
         "title": {
          "text": "Classes"
         }
        },
        "template": {
         "data": {
          "bar": [
           {
            "error_x": {
             "color": "#2a3f5f"
            },
            "error_y": {
             "color": "#2a3f5f"
            },
            "marker": {
             "line": {
              "color": "#E5ECF6",
              "width": 0.5
             },
             "pattern": {
              "fillmode": "overlay",
              "size": 10,
              "solidity": 0.2
             }
            },
            "type": "bar"
           }
          ],
          "barpolar": [
           {
            "marker": {
             "line": {
              "color": "#E5ECF6",
              "width": 0.5
             },
             "pattern": {
              "fillmode": "overlay",
              "size": 10,
              "solidity": 0.2
             }
            },
            "type": "barpolar"
           }
          ],
          "carpet": [
           {
            "aaxis": {
             "endlinecolor": "#2a3f5f",
             "gridcolor": "white",
             "linecolor": "white",
             "minorgridcolor": "white",
             "startlinecolor": "#2a3f5f"
            },
            "baxis": {
             "endlinecolor": "#2a3f5f",
             "gridcolor": "white",
             "linecolor": "white",
             "minorgridcolor": "white",
             "startlinecolor": "#2a3f5f"
            },
            "type": "carpet"
           }
          ],
          "choropleth": [
           {
            "colorbar": {
             "outlinewidth": 0,
             "ticks": ""
            },
            "type": "choropleth"
           }
          ],
          "contour": [
           {
            "colorbar": {
             "outlinewidth": 0,
             "ticks": ""
            },
            "colorscale": [
             [
              0,
              "#0d0887"
             ],
             [
              0.1111111111111111,
              "#46039f"
             ],
             [
              0.2222222222222222,
              "#7201a8"
             ],
             [
              0.3333333333333333,
              "#9c179e"
             ],
             [
              0.4444444444444444,
              "#bd3786"
             ],
             [
              0.5555555555555556,
              "#d8576b"
             ],
             [
              0.6666666666666666,
              "#ed7953"
             ],
             [
              0.7777777777777778,
              "#fb9f3a"
             ],
             [
              0.8888888888888888,
              "#fdca26"
             ],
             [
              1,
              "#f0f921"
             ]
            ],
            "type": "contour"
           }
          ],
          "contourcarpet": [
           {
            "colorbar": {
             "outlinewidth": 0,
             "ticks": ""
            },
            "type": "contourcarpet"
           }
          ],
          "heatmap": [
           {
            "colorbar": {
             "outlinewidth": 0,
             "ticks": ""
            },
            "colorscale": [
             [
              0,
              "#0d0887"
             ],
             [
              0.1111111111111111,
              "#46039f"
             ],
             [
              0.2222222222222222,
              "#7201a8"
             ],
             [
              0.3333333333333333,
              "#9c179e"
             ],
             [
              0.4444444444444444,
              "#bd3786"
             ],
             [
              0.5555555555555556,
              "#d8576b"
             ],
             [
              0.6666666666666666,
              "#ed7953"
             ],
             [
              0.7777777777777778,
              "#fb9f3a"
             ],
             [
              0.8888888888888888,
              "#fdca26"
             ],
             [
              1,
              "#f0f921"
             ]
            ],
            "type": "heatmap"
           }
          ],
          "heatmapgl": [
           {
            "colorbar": {
             "outlinewidth": 0,
             "ticks": ""
            },
            "colorscale": [
             [
              0,
              "#0d0887"
             ],
             [
              0.1111111111111111,
              "#46039f"
             ],
             [
              0.2222222222222222,
              "#7201a8"
             ],
             [
              0.3333333333333333,
              "#9c179e"
             ],
             [
              0.4444444444444444,
              "#bd3786"
             ],
             [
              0.5555555555555556,
              "#d8576b"
             ],
             [
              0.6666666666666666,
              "#ed7953"
             ],
             [
              0.7777777777777778,
              "#fb9f3a"
             ],
             [
              0.8888888888888888,
              "#fdca26"
             ],
             [
              1,
              "#f0f921"
             ]
            ],
            "type": "heatmapgl"
           }
          ],
          "histogram": [
           {
            "marker": {
             "pattern": {
              "fillmode": "overlay",
              "size": 10,
              "solidity": 0.2
             }
            },
            "type": "histogram"
           }
          ],
          "histogram2d": [
           {
            "colorbar": {
             "outlinewidth": 0,
             "ticks": ""
            },
            "colorscale": [
             [
              0,
              "#0d0887"
             ],
             [
              0.1111111111111111,
              "#46039f"
             ],
             [
              0.2222222222222222,
              "#7201a8"
             ],
             [
              0.3333333333333333,
              "#9c179e"
             ],
             [
              0.4444444444444444,
              "#bd3786"
             ],
             [
              0.5555555555555556,
              "#d8576b"
             ],
             [
              0.6666666666666666,
              "#ed7953"
             ],
             [
              0.7777777777777778,
              "#fb9f3a"
             ],
             [
              0.8888888888888888,
              "#fdca26"
             ],
             [
              1,
              "#f0f921"
             ]
            ],
            "type": "histogram2d"
           }
          ],
          "histogram2dcontour": [
           {
            "colorbar": {
             "outlinewidth": 0,
             "ticks": ""
            },
            "colorscale": [
             [
              0,
              "#0d0887"
             ],
             [
              0.1111111111111111,
              "#46039f"
             ],
             [
              0.2222222222222222,
              "#7201a8"
             ],
             [
              0.3333333333333333,
              "#9c179e"
             ],
             [
              0.4444444444444444,
              "#bd3786"
             ],
             [
              0.5555555555555556,
              "#d8576b"
             ],
             [
              0.6666666666666666,
              "#ed7953"
             ],
             [
              0.7777777777777778,
              "#fb9f3a"
             ],
             [
              0.8888888888888888,
              "#fdca26"
             ],
             [
              1,
              "#f0f921"
             ]
            ],
            "type": "histogram2dcontour"
           }
          ],
          "mesh3d": [
           {
            "colorbar": {
             "outlinewidth": 0,
             "ticks": ""
            },
            "type": "mesh3d"
           }
          ],
          "parcoords": [
           {
            "line": {
             "colorbar": {
              "outlinewidth": 0,
              "ticks": ""
             }
            },
            "type": "parcoords"
           }
          ],
          "pie": [
           {
            "automargin": true,
            "type": "pie"
           }
          ],
          "scatter": [
           {
            "fillpattern": {
             "fillmode": "overlay",
             "size": 10,
             "solidity": 0.2
            },
            "type": "scatter"
           }
          ],
          "scatter3d": [
           {
            "line": {
             "colorbar": {
              "outlinewidth": 0,
              "ticks": ""
             }
            },
            "marker": {
             "colorbar": {
              "outlinewidth": 0,
              "ticks": ""
             }
            },
            "type": "scatter3d"
           }
          ],
          "scattercarpet": [
           {
            "marker": {
             "colorbar": {
              "outlinewidth": 0,
              "ticks": ""
             }
            },
            "type": "scattercarpet"
           }
          ],
          "scattergeo": [
           {
            "marker": {
             "colorbar": {
              "outlinewidth": 0,
              "ticks": ""
             }
            },
            "type": "scattergeo"
           }
          ],
          "scattergl": [
           {
            "marker": {
             "colorbar": {
              "outlinewidth": 0,
              "ticks": ""
             }
            },
            "type": "scattergl"
           }
          ],
          "scattermapbox": [
           {
            "marker": {
             "colorbar": {
              "outlinewidth": 0,
              "ticks": ""
             }
            },
            "type": "scattermapbox"
           }
          ],
          "scatterpolar": [
           {
            "marker": {
             "colorbar": {
              "outlinewidth": 0,
              "ticks": ""
             }
            },
            "type": "scatterpolar"
           }
          ],
          "scatterpolargl": [
           {
            "marker": {
             "colorbar": {
              "outlinewidth": 0,
              "ticks": ""
             }
            },
            "type": "scatterpolargl"
           }
          ],
          "scatterternary": [
           {
            "marker": {
             "colorbar": {
              "outlinewidth": 0,
              "ticks": ""
             }
            },
            "type": "scatterternary"
           }
          ],
          "surface": [
           {
            "colorbar": {
             "outlinewidth": 0,
             "ticks": ""
            },
            "colorscale": [
             [
              0,
              "#0d0887"
             ],
             [
              0.1111111111111111,
              "#46039f"
             ],
             [
              0.2222222222222222,
              "#7201a8"
             ],
             [
              0.3333333333333333,
              "#9c179e"
             ],
             [
              0.4444444444444444,
              "#bd3786"
             ],
             [
              0.5555555555555556,
              "#d8576b"
             ],
             [
              0.6666666666666666,
              "#ed7953"
             ],
             [
              0.7777777777777778,
              "#fb9f3a"
             ],
             [
              0.8888888888888888,
              "#fdca26"
             ],
             [
              1,
              "#f0f921"
             ]
            ],
            "type": "surface"
           }
          ],
          "table": [
           {
            "cells": {
             "fill": {
              "color": "#EBF0F8"
             },
             "line": {
              "color": "white"
             }
            },
            "header": {
             "fill": {
              "color": "#C8D4E3"
             },
             "line": {
              "color": "white"
             }
            },
            "type": "table"
           }
          ]
         },
         "layout": {
          "annotationdefaults": {
           "arrowcolor": "#2a3f5f",
           "arrowhead": 0,
           "arrowwidth": 1
          },
          "autotypenumbers": "strict",
          "coloraxis": {
           "colorbar": {
            "outlinewidth": 0,
            "ticks": ""
           }
          },
          "colorscale": {
           "diverging": [
            [
             0,
             "#8e0152"
            ],
            [
             0.1,
             "#c51b7d"
            ],
            [
             0.2,
             "#de77ae"
            ],
            [
             0.3,
             "#f1b6da"
            ],
            [
             0.4,
             "#fde0ef"
            ],
            [
             0.5,
             "#f7f7f7"
            ],
            [
             0.6,
             "#e6f5d0"
            ],
            [
             0.7,
             "#b8e186"
            ],
            [
             0.8,
             "#7fbc41"
            ],
            [
             0.9,
             "#4d9221"
            ],
            [
             1,
             "#276419"
            ]
           ],
           "sequential": [
            [
             0,
             "#0d0887"
            ],
            [
             0.1111111111111111,
             "#46039f"
            ],
            [
             0.2222222222222222,
             "#7201a8"
            ],
            [
             0.3333333333333333,
             "#9c179e"
            ],
            [
             0.4444444444444444,
             "#bd3786"
            ],
            [
             0.5555555555555556,
             "#d8576b"
            ],
            [
             0.6666666666666666,
             "#ed7953"
            ],
            [
             0.7777777777777778,
             "#fb9f3a"
            ],
            [
             0.8888888888888888,
             "#fdca26"
            ],
            [
             1,
             "#f0f921"
            ]
           ],
           "sequentialminus": [
            [
             0,
             "#0d0887"
            ],
            [
             0.1111111111111111,
             "#46039f"
            ],
            [
             0.2222222222222222,
             "#7201a8"
            ],
            [
             0.3333333333333333,
             "#9c179e"
            ],
            [
             0.4444444444444444,
             "#bd3786"
            ],
            [
             0.5555555555555556,
             "#d8576b"
            ],
            [
             0.6666666666666666,
             "#ed7953"
            ],
            [
             0.7777777777777778,
             "#fb9f3a"
            ],
            [
             0.8888888888888888,
             "#fdca26"
            ],
            [
             1,
             "#f0f921"
            ]
           ]
          },
          "colorway": [
           "#636efa",
           "#EF553B",
           "#00cc96",
           "#ab63fa",
           "#FFA15A",
           "#19d3f3",
           "#FF6692",
           "#B6E880",
           "#FF97FF",
           "#FECB52"
          ],
          "font": {
           "color": "#2a3f5f"
          },
          "geo": {
           "bgcolor": "white",
           "lakecolor": "white",
           "landcolor": "#E5ECF6",
           "showlakes": true,
           "showland": true,
           "subunitcolor": "white"
          },
          "hoverlabel": {
           "align": "left"
          },
          "hovermode": "closest",
          "mapbox": {
           "style": "light"
          },
          "paper_bgcolor": "white",
          "plot_bgcolor": "#E5ECF6",
          "polar": {
           "angularaxis": {
            "gridcolor": "white",
            "linecolor": "white",
            "ticks": ""
           },
           "bgcolor": "#E5ECF6",
           "radialaxis": {
            "gridcolor": "white",
            "linecolor": "white",
            "ticks": ""
           }
          },
          "scene": {
           "xaxis": {
            "backgroundcolor": "#E5ECF6",
            "gridcolor": "white",
            "gridwidth": 2,
            "linecolor": "white",
            "showbackground": true,
            "ticks": "",
            "zerolinecolor": "white"
           },
           "yaxis": {
            "backgroundcolor": "#E5ECF6",
            "gridcolor": "white",
            "gridwidth": 2,
            "linecolor": "white",
            "showbackground": true,
            "ticks": "",
            "zerolinecolor": "white"
           },
           "zaxis": {
            "backgroundcolor": "#E5ECF6",
            "gridcolor": "white",
            "gridwidth": 2,
            "linecolor": "white",
            "showbackground": true,
            "ticks": "",
            "zerolinecolor": "white"
           }
          },
          "shapedefaults": {
           "line": {
            "color": "#2a3f5f"
           }
          },
          "ternary": {
           "aaxis": {
            "gridcolor": "white",
            "linecolor": "white",
            "ticks": ""
           },
           "baxis": {
            "gridcolor": "white",
            "linecolor": "white",
            "ticks": ""
           },
           "bgcolor": "#E5ECF6",
           "caxis": {
            "gridcolor": "white",
            "linecolor": "white",
            "ticks": ""
           }
          },
          "title": {
           "x": 0.05
          },
          "xaxis": {
           "automargin": true,
           "gridcolor": "white",
           "linecolor": "white",
           "ticks": "",
           "title": {
            "standoff": 15
           },
           "zerolinecolor": "white",
           "zerolinewidth": 2
          },
          "yaxis": {
           "automargin": true,
           "gridcolor": "white",
           "linecolor": "white",
           "ticks": "",
           "title": {
            "standoff": 15
           },
           "zerolinecolor": "white",
           "zerolinewidth": 2
          }
         }
        },
        "title": {
         "text": "ROC curve per classe"
        },
        "width": 1000,
        "xaxis": {
         "title": {
          "text": "False Positive Rate"
         }
        },
        "yaxis": {
         "title": {
          "text": "True Positive Rate"
         }
        }
       }
      }
     },
     "metadata": {},
     "output_type": "display_data"
    }
   ],
   "source": [
    "from sklearn.metrics import roc_curve, auc\n",
    "import plotly.graph_objects as go\n",
    "\n",
    "# Calcola ROC curve e AUC per ogni classe\n",
    "fpr = dict()\n",
    "tpr = dict()\n",
    "roc_auc = dict()\n",
    "for i in range(len(np.unique(y_test))):\n",
    "    fpr[i], tpr[i], _ = roc_curve(Y[:, i], y_scores[:, i])\n",
    "    roc_auc[i] = auc(fpr[i], tpr[i])\n",
    "\n",
    "# Crea un grafico Plotly\n",
    "fig = go.Figure()\n",
    "\n",
    "# Aggiunge una linea per ogni classe\n",
    "for i, genre in enumerate(np.unique(y_test)):\n",
    "    fig.add_trace(go.Scatter(x=fpr[i], y=tpr[i], mode='lines', name=f'Class {i} (AUC={roc_auc[i]:0.2f})'))\n",
    "\n",
    "# Aggiunge la linea diagonale per il random guessing\n",
    "fig.add_trace(go.Scatter(x=[0, 1], y=[0, 1], mode='lines', name='Random Guessing', line=dict(dash='dash')))\n",
    "\n",
    "# Aggiorna il layout\n",
    "fig.update_layout(\n",
    "    title=\"ROC curve per classe\",\n",
    "    xaxis_title=\"False Positive Rate\",\n",
    "     width=1000,  # Larghezza del plot\n",
    "    height=800,  \n",
    "    yaxis_title=\"True Positive Rate\",\n",
    "    legend_title=\"Classes\"\n",
    ")\n",
    "\n",
    "# Mostra il grafico\n",
    "fig.show()\n"
   ]
  },
  {
   "cell_type": "code",
   "execution_count": 233,
   "metadata": {},
   "outputs": [
    {
     "data": {
      "text/plain": [
       "0.9086776859504132"
      ]
     },
     "execution_count": 233,
     "metadata": {},
     "output_type": "execute_result"
    }
   ],
   "source": [
    "clf.score(X_test_norm, y_test)"
   ]
  },
  {
   "cell_type": "code",
   "execution_count": 234,
   "metadata": {},
   "outputs": [
    {
     "data": {
      "text/plain": [
       "0.9086776859504132"
      ]
     },
     "execution_count": 234,
     "metadata": {},
     "output_type": "execute_result"
    }
   ],
   "source": [
    "(y_test_pred == y_test).sum() / len(y_test)"
   ]
  },
  {
   "cell_type": "code",
   "execution_count": 235,
   "metadata": {},
   "outputs": [
    {
     "name": "stdout",
     "output_type": "stream",
     "text": [
      "Accuracy: 0.9086776859504132\n"
     ]
    }
   ],
   "source": [
    "print(\"Accuracy:\", accuracy_score(y_test, y_test_pred))"
   ]
  },
  {
   "cell_type": "code",
   "execution_count": 236,
   "metadata": {},
   "outputs": [],
   "source": [
    "from sklearn.model_selection import learning_curve"
   ]
  },
  {
   "cell_type": "code",
   "execution_count": 237,
   "metadata": {},
   "outputs": [
    {
     "name": "stdout",
     "output_type": "stream",
     "text": [
      "F1 macro: 0.8810100766173198 \n",
      "\n",
      "F1 micro: 0.9086776859504131 \n",
      "\n",
      "F1 macro for label 0: 0.9035874439461883\n",
      "F1 macro for label 1: 0.8444444444444444\n",
      "F1 macro for label 2: 0.8993875765529309\n",
      "F1 macro for label 3: 0.7816901408450704\n",
      "F1 macro for label 4: 0.9759407772979644\n",
      "\n",
      "\n",
      "F1 micro for label 0: 0.9035874439461883\n",
      "F1 micro for label 1: 0.8444444444444444\n",
      "F1 micro for label 2: 0.8993875765529309\n",
      "F1 micro for label 3: 0.7816901408450704\n",
      "F1 micro for label 4: 0.9759407772979644\n"
     ]
    }
   ],
   "source": [
    "print(\"F1 macro:\", f1_score(y_test, y_test_pred, average=\"macro\"), \"\\n\")\n",
    "print(\"F1 micro:\", f1_score(y_test, y_test_pred, average=\"micro\"), \"\\n\")\n",
    "unique_labels = np.unique(y_test)\n",
    "\n",
    "for label in unique_labels:\n",
    "    print(f\"F1 macro for label {label}:\", f1_score(y_test, y_test_pred, labels=[label], average=\"macro\"))\n",
    "print(\"\\n\")\n",
    "for label in unique_labels:\n",
    "    print(f\"F1 micro for label {label}:\", f1_score(y_test, y_test_pred, labels=[label], average=\"micro\"))"
   ]
  },
  {
   "cell_type": "code",
   "execution_count": 238,
   "metadata": {},
   "outputs": [
    {
     "name": "stdout",
     "output_type": "stream",
     "text": [
      "              precision    recall  f1-score   support\n",
      "\n",
      "           0       0.96      0.85      0.90       474\n",
      "           1       0.84      0.85      0.84       446\n",
      "           2       0.86      0.94      0.90       547\n",
      "           3       0.83      0.74      0.78       151\n",
      "           4       0.97      0.99      0.98       802\n",
      "\n",
      "    accuracy                           0.91      2420\n",
      "   macro avg       0.89      0.87      0.88      2420\n",
      "weighted avg       0.91      0.91      0.91      2420\n",
      "\n"
     ]
    }
   ],
   "source": [
    "print(classification_report(y_test, y_test_pred))"
   ]
  },
  {
   "cell_type": "markdown",
   "metadata": {},
   "source": [
    "## Cross validation"
   ]
  },
  {
   "cell_type": "code",
   "execution_count": 239,
   "metadata": {},
   "outputs": [],
   "source": [
    "from sklearn.model_selection import cross_val_score\n",
    "k = 10"
   ]
  },
  {
   "cell_type": "code",
   "execution_count": 240,
   "metadata": {},
   "outputs": [
    {
     "data": {
      "text/plain": [
       "array([0.88849558, 0.86017699, 0.87256637, 0.89557522, 0.88297872,\n",
       "       0.87234043, 0.86702128, 0.86170213, 0.88829787, 0.89007092])"
      ]
     },
     "execution_count": 240,
     "metadata": {},
     "output_type": "execute_result"
    }
   ],
   "source": [
    "clf = KNeighborsClassifier(n_neighbors=8, metric=\"cityblock\", weights=\"uniform\")\n",
    "\n",
    "scores = cross_val_score(clf, X_train_norm, y_train, cv=k) # we call the 10 cross validation only on the training portion of our data\n",
    "scores"
   ]
  },
  {
   "cell_type": "code",
   "execution_count": 241,
   "metadata": {},
   "outputs": [
    {
     "name": "stdout",
     "output_type": "stream",
     "text": [
      "Overall error estimate: 0.12207744931902342\n"
     ]
    }
   ],
   "source": [
    "print(\"Overall error estimate:\", 1 - scores.mean()) "
   ]
  },
  {
   "cell_type": "code",
   "execution_count": 242,
   "metadata": {},
   "outputs": [
    {
     "name": "stdout",
     "output_type": "stream",
     "text": [
      "Accuracy: 0.8779 (+/- 0.01)\n"
     ]
    }
   ],
   "source": [
    "print('Accuracy: %0.4f (+/- %0.2f)' % (scores.mean(), scores.std()))"
   ]
  },
  {
   "cell_type": "code",
   "execution_count": 243,
   "metadata": {},
   "outputs": [
    {
     "data": {
      "text/plain": [
       "array([0.87263333, 0.82763047, 0.84743167, 0.87591098, 0.87145164,\n",
       "       0.84263036, 0.82533031, 0.83208027, 0.85053638, 0.86591566])"
      ]
     },
     "execution_count": 243,
     "metadata": {},
     "output_type": "execute_result"
    }
   ],
   "source": [
    "cross_val_score(clf, X_train_norm, y_train, cv=k, scoring='f1_macro')"
   ]
  },
  {
   "cell_type": "markdown",
   "metadata": {},
   "source": [
    "### Hyperparameters Tuning"
   ]
  },
  {
   "cell_type": "code",
   "execution_count": 244,
   "metadata": {},
   "outputs": [
    {
     "data": {
      "image/png": "[encoded data removed]",
      "text/plain": [
       "<Figure size 640x480 with 1 Axes>"
      ]
     },
     "metadata": {},
     "output_type": "display_data"
    }
   ],
   "source": [
    "n_neighbors = range(1,20)\n",
    "scores = list()\n",
    "\n",
    "for n in n_neighbors:\n",
    "    clf = KNeighborsClassifier(n_neighbors=n, metric=\"cityblock\", weights=\"distance\")\n",
    "    clf.fit(X_train_norm, y_train)\n",
    "    scores.append(clf.score(X_test_norm, y_test))\n",
    "\n",
    "plt.plot(scores)\n",
    "plt.xticks(range(len(n_neighbors)), n_neighbors)\n",
    "plt.xlabel(\"n_neighbors\")\n",
    "plt.ylabel(\"accuracy\")\n",
    "plt.show()"
   ]
  },
  {
   "cell_type": "code",
   "execution_count": 245,
   "metadata": {},
   "outputs": [
    {
     "data": {
      "image/png": "[encoded data removed]",
      "text/plain": [
       "<Figure size 640x480 with 1 Axes>"
      ]
     },
     "metadata": {},
     "output_type": "display_data"
    }
   ],
   "source": [
    "n_neighbors = range(1,20)\n",
    "avg_scores = list()\n",
    "std_scores = list()\n",
    "\n",
    "for n in n_neighbors:\n",
    "    clf = KNeighborsClassifier(n_neighbors=n, metric=\"cityblock\", weights=\"distance\")\n",
    "    scores = cross_val_score(clf, X_train_norm, y_train, cv=k)\n",
    "    avg_scores.append(np.mean(scores))\n",
    "    std_scores.append(np.std(scores))\n",
    "\n",
    "#plt.plot(avg_scores)\n",
    "plt.errorbar(range(len(n_neighbors)), y=avg_scores, yerr=std_scores, marker='o')\n",
    "plt.xticks(range(len(n_neighbors)), n_neighbors)\n",
    "plt.xlabel(\"n_neighbors\")\n",
    "plt.ylabel(\"accuracy\")\n",
    "plt.show()"
   ]
  },
  {
   "cell_type": "code",
   "execution_count": 246,
   "metadata": {},
   "outputs": [],
   "source": [
    "# clf = KNeighborsClassifier(n_neighbors=12, metric=\"euclidean\", weights=\"uniform\")\n",
    "# clf.fit(X_train_norm, y_train)\n",
    "# y_test_pred = clf.predict(X_test_norm)\n",
    "# print(\"Accuracy:\", accuracy_score(y_test, y_test_pred))"
   ]
  },
  {
   "cell_type": "markdown",
   "metadata": {},
   "source": [
    "# Grid Search"
   ]
  },
  {
   "cell_type": "code",
   "execution_count": 247,
   "metadata": {},
   "outputs": [],
   "source": [
    "from sklearn.model_selection import RepeatedStratifiedKFold\n",
    "from sklearn.model_selection import RandomizedSearchCV, GridSearchCV"
   ]
  },
  {
   "cell_type": "code",
   "execution_count": 248,
   "metadata": {},
   "outputs": [],
   "source": [
    "param_grid = {\n",
    "    \"n_neighbors\": np.arange(2, 15), \n",
    "    \"weights\": [\"uniform\", \"distance\"],\n",
    "    \"metric\": [\"euclidean\", \"cityblock\"],\n",
    "}\n",
    "\n",
    "grid = GridSearchCV(\n",
    "    KNeighborsClassifier(),\n",
    "    param_grid=param_grid,\n",
    "    cv=RepeatedStratifiedKFold(random_state=0),\n",
    "    n_jobs=-1,\n",
    "    refit=True, \n",
    "    # verbose=2\n",
    ") \n",
    "\n",
    "grid.fit(X_train_norm, y_train)\n",
    "clf = grid.best_estimator_"
   ]
  },
  {
   "cell_type": "code",
   "execution_count": 249,
   "metadata": {},
   "outputs": [
    {
     "name": "stdout",
     "output_type": "stream",
     "text": [
      "{'metric': 'cityblock', 'n_neighbors': 6, 'weights': 'distance'} 0.904695958891632\n"
     ]
    }
   ],
   "source": [
    "print(grid.best_params_, grid.best_score_)"
   ]
  },
  {
   "cell_type": "markdown",
   "metadata": {},
   "source": [
    "# Learning curve"
   ]
  },
  {
   "cell_type": "markdown",
   "metadata": {},
   "source": [
    "train_sizes = np.linspace(0.1, 1.0, 10)\n",
    "\n",
    "Questa riga crea un array di dieci numeri che sono equamente spaziati tra 0.1 e 1.0. Questi numeri rappresenteranno le proporzioni del set di allenamento che verranno utilizzate per generare la curva di apprendimento. Ad esempio, se hai 1000 esempi di allenamento, il primo punto della curva di apprendimento userà il 10% di questi dati, cioè 100 esempi.\n",
    "\n",
    "estimator=clf\n",
    "\n",
    "Qui, stai assegnando il tuo modello k-NN, che hai chiamato clf nello screenshot precedente, alla variabile estimator. Questo modello verrà utilizzato dalla funzione learning_curve per allenare e testare il modello.\n",
    "\n",
    "X = df.drop('genre', axis=1)\n",
    "y = df['genre']\n",
    "\n",
    "Queste due righe selezionano le features e il target dal tuo DataFrame. X contiene tutte le colonne tranne 'genre', che è la colonna del target che si presume tu voglia prevedere. y contiene i valori della colonna 'genre'.\n",
    "\n",
    "scaler = StandardScaler()\n",
    "X_norm = scaler.fit_transform(X)\n",
    "\n",
    "Qui, crei un oggetto StandardScaler, che normalizza i dati delle features sottraendo la media e dividendo per la deviazione standard. Poi utilizzi questo oggetto per trasformare i tuoi dati in X_norm, che sono i dati delle features normalizzati.\n",
    "\n",
    "train_sizes, train_scores, test_scores = learning_curve(...)\n",
    "\n",
    "Questa funzione calcola la curva di apprendimento. Allena il tuo modello (clf) su diverse porzioni del set di dati (definite da train_sizes) e calcola i punteggi di accuratezza sul training set e sul test set. La cross-validation a 10 fold (cv=10) è utilizzata per valutare l'accuratezza del modello, che significa che i dati vengono divisi in 10 parti, con 9 utilizzate per l'allenamento e 1 per il test, e questo processo è ripetuto 10 volte con parti diverse utilizzate come test set.\n",
    "\n",
    "train_mean = np.mean(train_scores, axis=1)\n",
    "train_std = np.std(train_scores, axis=1)\n",
    "test_mean = np.mean(test_scores, axis=1)\n",
    "test_std = np.std(test_scores, axis=1)\n",
    "\n",
    "Queste righe calcolano la media e la deviazione standard delle accuratezze ottenute durante la cross-validation sia per il training set sia per il test set. Ti permettono di vedere non solo come l'accuratezza cambia con diversi set di dati di allenamento, ma anche quanto sono variabili i risultati (indicati dalla deviazione standard).\n",
    "\n",
    "Le ultime righe di codice (plt.figure(figsize=(10, 6)) fino a plt.show()) generano un grafico che mostra la curva di apprendimento. Mostrano l'accuratezza media sul training set e sul test set (anche chiamato validation set) in funzione della dimensione del training set, con le aree ombreggiate che rappresentano la deviazione standard. Il grafico è intitolato \"Learning Curve for k-NN Classifier\" e ha le etichette sugli assi appropriate per la dimensione dei dati di allenamento e l'accuratezza."
   ]
  },
  {
   "cell_type": "code",
   "execution_count": 250,
   "metadata": {},
   "outputs": [],
   "source": [
    "df_test= pd.read_csv(\"../../our_analyses/dataset_test_prepared.csv\")\n",
    "\n",
    "df_test=df_test.drop(['name', 'artists', 'album_name'], axis=1)\n",
    "df_test['genre_group'] = df_test['genre'].map(genre_groups).astype(int)\n",
    "df_test['explicit'] = le.transform(df_test['explicit'])\n",
    "\n"
   ]
  }
 ],
 "metadata": {
  "kernelspec": {
   "display_name": "base",
   "language": "python",
   "name": "python3"
  },
  "language_info": {
   "codemirror_mode": {
    "name": "ipython",
    "version": 3
   },
   "file_extension": ".py",
   "mimetype": "text/x-python",
   "name": "python",
   "nbconvert_exporter": "python",
   "pygments_lexer": "ipython3",
   "version": "3.11.5"
  }
 },
 "nbformat": 4,
 "nbformat_minor": 2
}
