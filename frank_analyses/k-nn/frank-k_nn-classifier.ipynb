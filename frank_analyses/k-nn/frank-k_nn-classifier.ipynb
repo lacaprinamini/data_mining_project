{
 "cells": [
  {
   "cell_type": "code",
   "execution_count": 35,
   "metadata": {},
   "outputs": [],
   "source": [
    "import numpy as np\n",
    "import matplotlib.pyplot as plt\n",
    "import seaborn as sns\n",
    "import pandas as pd"
   ]
  },
  {
   "cell_type": "code",
   "execution_count": 36,
   "metadata": {},
   "outputs": [],
   "source": [
    "from sklearn.metrics import (\n",
    "    accuracy_score, \n",
    "    f1_score, \n",
    "    classification_report, \n",
    "    confusion_matrix, \n",
    "    roc_auc_score, \n",
    "    precision_score, \n",
    "    recall_score,\n",
    ")\n",
    "from scikitplot.metrics import plot_roc\n",
    "from scikitplot.metrics import plot_precision_recall"
   ]
  },
  {
   "cell_type": "code",
   "execution_count": 37,
   "metadata": {},
   "outputs": [],
   "source": [
    "df = pd.read_csv(\"../our_analyses/dataset_prepared.csv\")"
   ]
  },
  {
   "cell_type": "code",
   "execution_count": 38,
   "metadata": {},
   "outputs": [
    {
     "data": {
      "text/html": [
       "<div>\n",
       "<style scoped>\n",
       "    .dataframe tbody tr th:only-of-type {\n",
       "        vertical-align: middle;\n",
       "    }\n",
       "\n",
       "    .dataframe tbody tr th {\n",
       "        vertical-align: top;\n",
       "    }\n",
       "\n",
       "    .dataframe thead th {\n",
       "        text-align: right;\n",
       "    }\n",
       "</style>\n",
       "<table border=\"1\" class=\"dataframe\">\n",
       "  <thead>\n",
       "    <tr style=\"text-align: right;\">\n",
       "      <th></th>\n",
       "      <th>name</th>\n",
       "      <th>duration_ms</th>\n",
       "      <th>explicit</th>\n",
       "      <th>popularity</th>\n",
       "      <th>artists</th>\n",
       "      <th>album_name</th>\n",
       "      <th>danceability</th>\n",
       "      <th>energy</th>\n",
       "      <th>key</th>\n",
       "      <th>loudness</th>\n",
       "      <th>mode</th>\n",
       "      <th>speechiness</th>\n",
       "      <th>acousticness</th>\n",
       "      <th>instrumentalness</th>\n",
       "      <th>liveness</th>\n",
       "      <th>valence</th>\n",
       "      <th>tempo</th>\n",
       "      <th>time_signature</th>\n",
       "      <th>genre</th>\n",
       "    </tr>\n",
       "  </thead>\n",
       "  <tbody>\n",
       "    <tr>\n",
       "      <th>0</th>\n",
       "      <td>Love Came Down</td>\n",
       "      <td>293106</td>\n",
       "      <td>False</td>\n",
       "      <td>50</td>\n",
       "      <td>Kari Jobe</td>\n",
       "      <td>Where I Find You</td>\n",
       "      <td>0.401</td>\n",
       "      <td>0.683</td>\n",
       "      <td>8</td>\n",
       "      <td>-5.722</td>\n",
       "      <td>1</td>\n",
       "      <td>0.0401</td>\n",
       "      <td>0.181</td>\n",
       "      <td>0.000000</td>\n",
       "      <td>0.0837</td>\n",
       "      <td>0.226</td>\n",
       "      <td>135.951</td>\n",
       "      <td>4.0</td>\n",
       "      <td>afrobeat</td>\n",
       "    </tr>\n",
       "    <tr>\n",
       "      <th>1</th>\n",
       "      <td>PIMP</td>\n",
       "      <td>194972</td>\n",
       "      <td>False</td>\n",
       "      <td>52</td>\n",
       "      <td>Bacao Rhythm &amp; Steel Band</td>\n",
       "      <td>55</td>\n",
       "      <td>0.672</td>\n",
       "      <td>0.858</td>\n",
       "      <td>3</td>\n",
       "      <td>-5.233</td>\n",
       "      <td>1</td>\n",
       "      <td>0.1450</td>\n",
       "      <td>0.456</td>\n",
       "      <td>0.811000</td>\n",
       "      <td>0.1040</td>\n",
       "      <td>0.963</td>\n",
       "      <td>166.689</td>\n",
       "      <td>4.0</td>\n",
       "      <td>afrobeat</td>\n",
       "    </tr>\n",
       "    <tr>\n",
       "      <th>2</th>\n",
       "      <td>Soul Saxes Meeting</td>\n",
       "      <td>178428</td>\n",
       "      <td>False</td>\n",
       "      <td>22</td>\n",
       "      <td>Manu Dibango</td>\n",
       "      <td>African Voodoo</td>\n",
       "      <td>0.636</td>\n",
       "      <td>0.826</td>\n",
       "      <td>3</td>\n",
       "      <td>-7.486</td>\n",
       "      <td>1</td>\n",
       "      <td>0.0585</td>\n",
       "      <td>0.461</td>\n",
       "      <td>0.271000</td>\n",
       "      <td>0.1410</td>\n",
       "      <td>0.731</td>\n",
       "      <td>102.809</td>\n",
       "      <td>4.0</td>\n",
       "      <td>afrobeat</td>\n",
       "    </tr>\n",
       "    <tr>\n",
       "      <th>3</th>\n",
       "      <td>Reino Animal</td>\n",
       "      <td>238373</td>\n",
       "      <td>False</td>\n",
       "      <td>20</td>\n",
       "      <td>Los Amigos Invisibles</td>\n",
       "      <td>Repeat After Me</td>\n",
       "      <td>0.733</td>\n",
       "      <td>0.862</td>\n",
       "      <td>7</td>\n",
       "      <td>-5.813</td>\n",
       "      <td>1</td>\n",
       "      <td>0.0604</td>\n",
       "      <td>0.287</td>\n",
       "      <td>0.000532</td>\n",
       "      <td>0.4660</td>\n",
       "      <td>0.745</td>\n",
       "      <td>107.981</td>\n",
       "      <td>4.0</td>\n",
       "      <td>afrobeat</td>\n",
       "    </tr>\n",
       "    <tr>\n",
       "      <th>4</th>\n",
       "      <td>La luna de espejos</td>\n",
       "      <td>221893</td>\n",
       "      <td>False</td>\n",
       "      <td>22</td>\n",
       "      <td>Jorge Drexler</td>\n",
       "      <td>Sus primeras grabaciones 1992-1994 (La luz que...</td>\n",
       "      <td>0.712</td>\n",
       "      <td>0.225</td>\n",
       "      <td>5</td>\n",
       "      <td>-10.017</td>\n",
       "      <td>1</td>\n",
       "      <td>0.0533</td>\n",
       "      <td>0.930</td>\n",
       "      <td>0.001000</td>\n",
       "      <td>0.1230</td>\n",
       "      <td>0.429</td>\n",
       "      <td>87.520</td>\n",
       "      <td>4.0</td>\n",
       "      <td>afrobeat</td>\n",
       "    </tr>\n",
       "  </tbody>\n",
       "</table>\n",
       "</div>"
      ],
      "text/plain": [
       "                 name  duration_ms  explicit  popularity  \\\n",
       "0      Love Came Down       293106     False          50   \n",
       "1                PIMP       194972     False          52   \n",
       "2  Soul Saxes Meeting       178428     False          22   \n",
       "3        Reino Animal       238373     False          20   \n",
       "4  La luna de espejos       221893     False          22   \n",
       "\n",
       "                     artists  \\\n",
       "0                  Kari Jobe   \n",
       "1  Bacao Rhythm & Steel Band   \n",
       "2               Manu Dibango   \n",
       "3      Los Amigos Invisibles   \n",
       "4              Jorge Drexler   \n",
       "\n",
       "                                          album_name  danceability  energy  \\\n",
       "0                                   Where I Find You         0.401   0.683   \n",
       "1                                                 55         0.672   0.858   \n",
       "2                                     African Voodoo         0.636   0.826   \n",
       "3                                    Repeat After Me         0.733   0.862   \n",
       "4  Sus primeras grabaciones 1992-1994 (La luz que...         0.712   0.225   \n",
       "\n",
       "   key  loudness  mode  speechiness  acousticness  instrumentalness  liveness  \\\n",
       "0    8    -5.722     1       0.0401         0.181          0.000000    0.0837   \n",
       "1    3    -5.233     1       0.1450         0.456          0.811000    0.1040   \n",
       "2    3    -7.486     1       0.0585         0.461          0.271000    0.1410   \n",
       "3    7    -5.813     1       0.0604         0.287          0.000532    0.4660   \n",
       "4    5   -10.017     1       0.0533         0.930          0.001000    0.1230   \n",
       "\n",
       "   valence    tempo  time_signature     genre  \n",
       "0    0.226  135.951             4.0  afrobeat  \n",
       "1    0.963  166.689             4.0  afrobeat  \n",
       "2    0.731  102.809             4.0  afrobeat  \n",
       "3    0.745  107.981             4.0  afrobeat  \n",
       "4    0.429   87.520             4.0  afrobeat  "
      ]
     },
     "execution_count": 38,
     "metadata": {},
     "output_type": "execute_result"
    }
   ],
   "source": [
    "df.head()"
   ]
  },
  {
   "cell_type": "code",
   "execution_count": 39,
   "metadata": {},
   "outputs": [
    {
     "data": {
      "text/plain": [
       "array(['afrobeat', 'black-metal', 'bluegrass', 'brazil', 'breakbeat',\n",
       "       'chicago-house', 'disney', 'forro', 'happy', 'idm', 'indian',\n",
       "       'industrial', 'iranian', 'j-dance', 'j-idol', 'mandopop', 'sleep',\n",
       "       'spanish', 'study', 'techno'], dtype=object)"
      ]
     },
     "execution_count": 39,
     "metadata": {},
     "output_type": "execute_result"
    }
   ],
   "source": [
    "df[\"genre\"].unique()"
   ]
  },
  {
   "cell_type": "code",
   "execution_count": 40,
   "metadata": {},
   "outputs": [
    {
     "name": "stdout",
     "output_type": "stream",
     "text": [
      "[4 3 2 0 1 5]\n"
     ]
    }
   ],
   "source": [
    "from sklearn.preprocessing import LabelEncoder\n",
    "\n",
    "df=df.drop(['name', 'artists', 'album_name'], axis=1)\n",
    "\n",
    "# genre_groups = {\n",
    "#     'j-dance': 0, 'techno': 0, 'mandopop': 0, 'idm': 0, 'chicago-house': 0, 'breakbeat': 0,  # Elettronica/Dance\n",
    "#     'black-metal': 1,  # Metal/Rock\n",
    "#     'bluegrass': 2,  # Country/Folk\n",
    "#     'j-idol': 3, 'spanish': 3, 'disney': 3, 'brazil': 3,  # Pop/Commerciale\n",
    "#     'iranian': 4, 'afrobeat': 4, 'indian': 4, 'forro': 4,  # World\n",
    "#     'happy': 5, 'sleep': 5, 'study': 5,  # Ambient/New Age\n",
    "#     'industrial': 6  # Other\n",
    "# }\n",
    "genre_groups = {\n",
    "    'j-dance': 0, 'techno': 0, 'chicago-house': 0, 'breakbeat': 0, \n",
    "        'happy': 1, 'sleep': 1, 'study': 1, 'disney': 1, \n",
    "        'bluegrass': 2, 'forro': 2, 'mandopop': 2, 'iranian': 2, 'indian': 2, 'brazil': 2, \n",
    "        'black-metal': 3, 'industrial': 3, \n",
    "        'j-idol': 4, 'spanish': 4, 'afrobeat': 4, \n",
    "        'idm': 5\n",
    "}\n",
    "genre_labels = ['Metal and Related', 'Metal/Rock', 'Country/Folk', 'Pop/Commercial', 'World', 'Ambient/New Age', 'Other', 'Indian']\n",
    "\n",
    "\n",
    "# Mappatura dei generi del dataframe ai gruppi di generi\n",
    "df['genre_group'] = df['genre'].map(genre_groups).astype(int)\n",
    "\n",
    "# Stampa del mapping dei generi ai numeri corrispondenti\n",
    "print(df['genre_group'].unique())\n",
    "\n",
    "le = LabelEncoder()\n",
    "df['explicit'] = le.fit_transform(df['explicit'])"
   ]
  },
  {
   "cell_type": "code",
   "execution_count": 41,
   "metadata": {},
   "outputs": [
    {
     "data": {
      "text/html": [
       "<div>\n",
       "<style scoped>\n",
       "    .dataframe tbody tr th:only-of-type {\n",
       "        vertical-align: middle;\n",
       "    }\n",
       "\n",
       "    .dataframe tbody tr th {\n",
       "        vertical-align: top;\n",
       "    }\n",
       "\n",
       "    .dataframe thead th {\n",
       "        text-align: right;\n",
       "    }\n",
       "</style>\n",
       "<table border=\"1\" class=\"dataframe\">\n",
       "  <thead>\n",
       "    <tr style=\"text-align: right;\">\n",
       "      <th></th>\n",
       "      <th>duration_ms</th>\n",
       "      <th>explicit</th>\n",
       "      <th>popularity</th>\n",
       "      <th>danceability</th>\n",
       "      <th>energy</th>\n",
       "      <th>key</th>\n",
       "      <th>loudness</th>\n",
       "      <th>mode</th>\n",
       "      <th>speechiness</th>\n",
       "      <th>acousticness</th>\n",
       "      <th>instrumentalness</th>\n",
       "      <th>liveness</th>\n",
       "      <th>valence</th>\n",
       "      <th>tempo</th>\n",
       "      <th>time_signature</th>\n",
       "      <th>genre</th>\n",
       "      <th>genre_group</th>\n",
       "    </tr>\n",
       "  </thead>\n",
       "  <tbody>\n",
       "    <tr>\n",
       "      <th>0</th>\n",
       "      <td>293106</td>\n",
       "      <td>0</td>\n",
       "      <td>50</td>\n",
       "      <td>0.401</td>\n",
       "      <td>0.683</td>\n",
       "      <td>8</td>\n",
       "      <td>-5.722</td>\n",
       "      <td>1</td>\n",
       "      <td>0.0401</td>\n",
       "      <td>0.181</td>\n",
       "      <td>0.000000</td>\n",
       "      <td>0.0837</td>\n",
       "      <td>0.226</td>\n",
       "      <td>135.951</td>\n",
       "      <td>4.0</td>\n",
       "      <td>afrobeat</td>\n",
       "      <td>4</td>\n",
       "    </tr>\n",
       "    <tr>\n",
       "      <th>1</th>\n",
       "      <td>194972</td>\n",
       "      <td>0</td>\n",
       "      <td>52</td>\n",
       "      <td>0.672</td>\n",
       "      <td>0.858</td>\n",
       "      <td>3</td>\n",
       "      <td>-5.233</td>\n",
       "      <td>1</td>\n",
       "      <td>0.1450</td>\n",
       "      <td>0.456</td>\n",
       "      <td>0.811000</td>\n",
       "      <td>0.1040</td>\n",
       "      <td>0.963</td>\n",
       "      <td>166.689</td>\n",
       "      <td>4.0</td>\n",
       "      <td>afrobeat</td>\n",
       "      <td>4</td>\n",
       "    </tr>\n",
       "    <tr>\n",
       "      <th>2</th>\n",
       "      <td>178428</td>\n",
       "      <td>0</td>\n",
       "      <td>22</td>\n",
       "      <td>0.636</td>\n",
       "      <td>0.826</td>\n",
       "      <td>3</td>\n",
       "      <td>-7.486</td>\n",
       "      <td>1</td>\n",
       "      <td>0.0585</td>\n",
       "      <td>0.461</td>\n",
       "      <td>0.271000</td>\n",
       "      <td>0.1410</td>\n",
       "      <td>0.731</td>\n",
       "      <td>102.809</td>\n",
       "      <td>4.0</td>\n",
       "      <td>afrobeat</td>\n",
       "      <td>4</td>\n",
       "    </tr>\n",
       "    <tr>\n",
       "      <th>3</th>\n",
       "      <td>238373</td>\n",
       "      <td>0</td>\n",
       "      <td>20</td>\n",
       "      <td>0.733</td>\n",
       "      <td>0.862</td>\n",
       "      <td>7</td>\n",
       "      <td>-5.813</td>\n",
       "      <td>1</td>\n",
       "      <td>0.0604</td>\n",
       "      <td>0.287</td>\n",
       "      <td>0.000532</td>\n",
       "      <td>0.4660</td>\n",
       "      <td>0.745</td>\n",
       "      <td>107.981</td>\n",
       "      <td>4.0</td>\n",
       "      <td>afrobeat</td>\n",
       "      <td>4</td>\n",
       "    </tr>\n",
       "    <tr>\n",
       "      <th>4</th>\n",
       "      <td>221893</td>\n",
       "      <td>0</td>\n",
       "      <td>22</td>\n",
       "      <td>0.712</td>\n",
       "      <td>0.225</td>\n",
       "      <td>5</td>\n",
       "      <td>-10.017</td>\n",
       "      <td>1</td>\n",
       "      <td>0.0533</td>\n",
       "      <td>0.930</td>\n",
       "      <td>0.001000</td>\n",
       "      <td>0.1230</td>\n",
       "      <td>0.429</td>\n",
       "      <td>87.520</td>\n",
       "      <td>4.0</td>\n",
       "      <td>afrobeat</td>\n",
       "      <td>4</td>\n",
       "    </tr>\n",
       "  </tbody>\n",
       "</table>\n",
       "</div>"
      ],
      "text/plain": [
       "   duration_ms  explicit  popularity  danceability  energy  key  loudness  \\\n",
       "0       293106         0          50         0.401   0.683    8    -5.722   \n",
       "1       194972         0          52         0.672   0.858    3    -5.233   \n",
       "2       178428         0          22         0.636   0.826    3    -7.486   \n",
       "3       238373         0          20         0.733   0.862    7    -5.813   \n",
       "4       221893         0          22         0.712   0.225    5   -10.017   \n",
       "\n",
       "   mode  speechiness  acousticness  instrumentalness  liveness  valence  \\\n",
       "0     1       0.0401         0.181          0.000000    0.0837    0.226   \n",
       "1     1       0.1450         0.456          0.811000    0.1040    0.963   \n",
       "2     1       0.0585         0.461          0.271000    0.1410    0.731   \n",
       "3     1       0.0604         0.287          0.000532    0.4660    0.745   \n",
       "4     1       0.0533         0.930          0.001000    0.1230    0.429   \n",
       "\n",
       "     tempo  time_signature     genre  genre_group  \n",
       "0  135.951             4.0  afrobeat            4  \n",
       "1  166.689             4.0  afrobeat            4  \n",
       "2  102.809             4.0  afrobeat            4  \n",
       "3  107.981             4.0  afrobeat            4  \n",
       "4   87.520             4.0  afrobeat            4  "
      ]
     },
     "execution_count": 41,
     "metadata": {},
     "output_type": "execute_result"
    }
   ],
   "source": [
    "df.head()"
   ]
  },
  {
   "cell_type": "code",
   "execution_count": 42,
   "metadata": {},
   "outputs": [],
   "source": [
    "X = df.values\n",
    "y = np.array(df['genre_group'])\n",
    "X = df.drop('genre_group', axis=1)\n",
    "X = df.drop('genre', axis=1)"
   ]
  },
  {
   "cell_type": "markdown",
   "metadata": {},
   "source": [
    "## Partitioning"
   ]
  },
  {
   "cell_type": "code",
   "execution_count": 43,
   "metadata": {},
   "outputs": [],
   "source": [
    "from sklearn.model_selection import train_test_split\n",
    "\n",
    "random_state = 0"
   ]
  },
  {
   "cell_type": "code",
   "execution_count": 44,
   "metadata": {},
   "outputs": [
    {
     "name": "stdout",
     "output_type": "stream",
     "text": [
      "[0.2  0.2  0.3  0.1  0.15 0.05]\n",
      "[0.2  0.2  0.3  0.1  0.15 0.05]\n",
      "[0.2  0.2  0.3  0.1  0.15 0.05] \n",
      "\n",
      "(10500, 16) (4500, 16) (10500,) (4500,)\n"
     ]
    }
   ],
   "source": [
    "X_train, X_test, y_train, y_test = train_test_split(\n",
    "    X, y, test_size=0.3, stratify=y, random_state=random_state\n",
    ")\n",
    "\n",
    "print(np.unique(y, return_counts=True)[1] / len(y))\n",
    "print(np.unique(y_train, return_counts=True)[1] / len(y_train))\n",
    "print(np.unique(y_test, return_counts=True)[1] / len(y_test), (\"\\n\"))\n",
    "print(X_train.shape, X_test.shape, y_train.shape, y_test.shape)"
   ]
  },
  {
   "cell_type": "markdown",
   "metadata": {},
   "source": [
    "## normalization"
   ]
  },
  {
   "cell_type": "code",
   "execution_count": 45,
   "metadata": {},
   "outputs": [],
   "source": [
    "from sklearn.preprocessing import StandardScaler"
   ]
  },
  {
   "cell_type": "code",
   "execution_count": 46,
   "metadata": {},
   "outputs": [],
   "source": [
    "norm = StandardScaler()\n",
    "norm.fit(X_train)\n",
    "\n",
    "X_train_norm = norm.transform(X_train)\n",
    "X_test_norm = norm.transform(X_test)"
   ]
  },
  {
   "cell_type": "markdown",
   "metadata": {},
   "source": [
    "## K-NN"
   ]
  },
  {
   "cell_type": "code",
   "execution_count": 47,
   "metadata": {},
   "outputs": [],
   "source": [
    "from sklearn.neighbors import KNeighborsClassifier"
   ]
  },
  {
   "cell_type": "code",
   "execution_count": 48,
   "metadata": {},
   "outputs": [
    {
     "data": {
      "text/html": [
       "<style>#sk-container-id-2 {color: black;}#sk-container-id-2 pre{padding: 0;}#sk-container-id-2 div.sk-toggleable {background-color: white;}#sk-container-id-2 label.sk-toggleable__label {cursor: pointer;display: block;width: 100%;margin-bottom: 0;padding: 0.3em;box-sizing: border-box;text-align: center;}#sk-container-id-2 label.sk-toggleable__label-arrow:before {content: \"▸\";float: left;margin-right: 0.25em;color: #696969;}#sk-container-id-2 label.sk-toggleable__label-arrow:hover:before {color: black;}#sk-container-id-2 div.sk-estimator:hover label.sk-toggleable__label-arrow:before {color: black;}#sk-container-id-2 div.sk-toggleable__content {max-height: 0;max-width: 0;overflow: hidden;text-align: left;background-color: #f0f8ff;}#sk-container-id-2 div.sk-toggleable__content pre {margin: 0.2em;color: black;border-radius: 0.25em;background-color: #f0f8ff;}#sk-container-id-2 input.sk-toggleable__control:checked~div.sk-toggleable__content {max-height: 200px;max-width: 100%;overflow: auto;}#sk-container-id-2 input.sk-toggleable__control:checked~label.sk-toggleable__label-arrow:before {content: \"▾\";}#sk-container-id-2 div.sk-estimator input.sk-toggleable__control:checked~label.sk-toggleable__label {background-color: #d4ebff;}#sk-container-id-2 div.sk-label input.sk-toggleable__control:checked~label.sk-toggleable__label {background-color: #d4ebff;}#sk-container-id-2 input.sk-hidden--visually {border: 0;clip: rect(1px 1px 1px 1px);clip: rect(1px, 1px, 1px, 1px);height: 1px;margin: -1px;overflow: hidden;padding: 0;position: absolute;width: 1px;}#sk-container-id-2 div.sk-estimator {font-family: monospace;background-color: #f0f8ff;border: 1px dotted black;border-radius: 0.25em;box-sizing: border-box;margin-bottom: 0.5em;}#sk-container-id-2 div.sk-estimator:hover {background-color: #d4ebff;}#sk-container-id-2 div.sk-parallel-item::after {content: \"\";width: 100%;border-bottom: 1px solid gray;flex-grow: 1;}#sk-container-id-2 div.sk-label:hover label.sk-toggleable__label {background-color: #d4ebff;}#sk-container-id-2 div.sk-serial::before {content: \"\";position: absolute;border-left: 1px solid gray;box-sizing: border-box;top: 0;bottom: 0;left: 50%;z-index: 0;}#sk-container-id-2 div.sk-serial {display: flex;flex-direction: column;align-items: center;background-color: white;padding-right: 0.2em;padding-left: 0.2em;position: relative;}#sk-container-id-2 div.sk-item {position: relative;z-index: 1;}#sk-container-id-2 div.sk-parallel {display: flex;align-items: stretch;justify-content: center;background-color: white;position: relative;}#sk-container-id-2 div.sk-item::before, #sk-container-id-2 div.sk-parallel-item::before {content: \"\";position: absolute;border-left: 1px solid gray;box-sizing: border-box;top: 0;bottom: 0;left: 50%;z-index: -1;}#sk-container-id-2 div.sk-parallel-item {display: flex;flex-direction: column;z-index: 1;position: relative;background-color: white;}#sk-container-id-2 div.sk-parallel-item:first-child::after {align-self: flex-end;width: 50%;}#sk-container-id-2 div.sk-parallel-item:last-child::after {align-self: flex-start;width: 50%;}#sk-container-id-2 div.sk-parallel-item:only-child::after {width: 0;}#sk-container-id-2 div.sk-dashed-wrapped {border: 1px dashed gray;margin: 0 0.4em 0.5em 0.4em;box-sizing: border-box;padding-bottom: 0.4em;background-color: white;}#sk-container-id-2 div.sk-label label {font-family: monospace;font-weight: bold;display: inline-block;line-height: 1.2em;}#sk-container-id-2 div.sk-label-container {text-align: center;}#sk-container-id-2 div.sk-container {/* jupyter's `normalize.less` sets `[hidden] { display: none; }` but bootstrap.min.css set `[hidden] { display: none !important; }` so we also need the `!important` here to be able to override the default hidden behavior on the sphinx rendered scikit-learn.org. See: https://github.com/scikit-learn/scikit-learn/issues/21755 */display: inline-block !important;position: relative;}#sk-container-id-2 div.sk-text-repr-fallback {display: none;}</style><div id=\"sk-container-id-2\" class=\"sk-top-container\"><div class=\"sk-text-repr-fallback\"><pre>KNeighborsClassifier(metric=&#x27;cityblock&#x27;, n_neighbors=8, weights=&#x27;distance&#x27;)</pre><b>In a Jupyter environment, please rerun this cell to show the HTML representation or trust the notebook. <br />On GitHub, the HTML representation is unable to render, please try loading this page with nbviewer.org.</b></div><div class=\"sk-container\" hidden><div class=\"sk-item\"><div class=\"sk-estimator sk-toggleable\"><input class=\"sk-toggleable__control sk-hidden--visually\" id=\"sk-estimator-id-2\" type=\"checkbox\" checked><label for=\"sk-estimator-id-2\" class=\"sk-toggleable__label sk-toggleable__label-arrow\">KNeighborsClassifier</label><div class=\"sk-toggleable__content\"><pre>KNeighborsClassifier(metric=&#x27;cityblock&#x27;, n_neighbors=8, weights=&#x27;distance&#x27;)</pre></div></div></div></div></div>"
      ],
      "text/plain": [
       "KNeighborsClassifier(metric='cityblock', n_neighbors=8, weights='distance')"
      ]
     },
     "execution_count": 48,
     "metadata": {},
     "output_type": "execute_result"
    }
   ],
   "source": [
    "clf = KNeighborsClassifier(n_neighbors=8, metric=\"cityblock\", weights=\"distance\")\n",
    "clf.fit(X_train_norm, y_train)"
   ]
  },
  {
   "cell_type": "code",
   "execution_count": 49,
   "metadata": {},
   "outputs": [
    {
     "data": {
      "text/plain": [
       "array([1, 3, 0, ..., 2, 2, 0])"
      ]
     },
     "execution_count": 49,
     "metadata": {},
     "output_type": "execute_result"
    }
   ],
   "source": [
    "y_test_pred = clf.predict(X_test_norm)\n",
    "y_test_pred"
   ]
  },
  {
   "cell_type": "code",
   "execution_count": 50,
   "metadata": {},
   "outputs": [
    {
     "data": {
      "text/plain": [
       "0.9213333333333333"
      ]
     },
     "execution_count": 50,
     "metadata": {},
     "output_type": "execute_result"
    }
   ],
   "source": [
    "clf.score(X_test_norm, y_test)"
   ]
  },
  {
   "cell_type": "code",
   "execution_count": 51,
   "metadata": {},
   "outputs": [
    {
     "data": {
      "text/plain": [
       "0.9213333333333333"
      ]
     },
     "execution_count": 51,
     "metadata": {},
     "output_type": "execute_result"
    }
   ],
   "source": [
    "(y_test_pred == y_test).sum() / len(y_test)"
   ]
  },
  {
   "cell_type": "code",
   "execution_count": 52,
   "metadata": {},
   "outputs": [
    {
     "name": "stdout",
     "output_type": "stream",
     "text": [
      "Accuracy: 0.9213333333333333\n"
     ]
    }
   ],
   "source": [
    "print(\"Accuracy:\", accuracy_score(y_test, y_test_pred))"
   ]
  },
  {
   "cell_type": "code",
   "execution_count": 53,
   "metadata": {},
   "outputs": [],
   "source": [
    "from sklearn.model_selection import learning_curve"
   ]
  },
  {
   "cell_type": "code",
   "execution_count": 54,
   "metadata": {},
   "outputs": [
    {
     "name": "stdout",
     "output_type": "stream",
     "text": [
      "F1 macro: 0.9143771993237856 \n",
      "\n",
      "F1 micro: 0.9213333333333333 \n",
      "\n",
      "F1 macro for label 0: 0.9474847982310669\n",
      "F1 macro for label 1: 0.8975386376645679\n",
      "F1 macro for label 2: 0.9327580007191657\n",
      "F1 macro for label 3: 0.8878822197055493\n",
      "F1 macro for label 4: 0.922737306843267\n",
      "F1 macro for label 5: 0.8978622327790974\n",
      "\n",
      "\n",
      "F1 micro for label 0: 0.9474847982310669\n",
      "F1 micro for label 1: 0.8975386376645679\n",
      "F1 micro for label 2: 0.9327580007191657\n",
      "F1 micro for label 3: 0.8878822197055493\n",
      "F1 micro for label 4: 0.922737306843267\n",
      "F1 micro for label 5: 0.8978622327790974\n"
     ]
    }
   ],
   "source": [
    "print(\"F1 macro:\", f1_score(y_test, y_test_pred, average=\"macro\"), \"\\n\")\n",
    "print(\"F1 micro:\", f1_score(y_test, y_test_pred, average=\"micro\"), \"\\n\")\n",
    "unique_labels = np.unique(y_test)\n",
    "\n",
    "for label in unique_labels:\n",
    "    print(f\"F1 macro for label {label}:\", f1_score(y_test, y_test_pred, labels=[label], average=\"macro\"))\n",
    "print(\"\\n\")\n",
    "for label in unique_labels:\n",
    "    print(f\"F1 micro for label {label}:\", f1_score(y_test, y_test_pred, labels=[label], average=\"micro\"))"
   ]
  },
  {
   "cell_type": "code",
   "execution_count": 55,
   "metadata": {},
   "outputs": [
    {
     "name": "stdout",
     "output_type": "stream",
     "text": [
      "              precision    recall  f1-score   support\n",
      "\n",
      "           0       0.94      0.95      0.95       900\n",
      "           1       0.93      0.87      0.90       900\n",
      "           2       0.91      0.96      0.93      1350\n",
      "           3       0.91      0.87      0.89       450\n",
      "           4       0.92      0.93      0.92       675\n",
      "           5       0.96      0.84      0.90       225\n",
      "\n",
      "    accuracy                           0.92      4500\n",
      "   macro avg       0.93      0.90      0.91      4500\n",
      "weighted avg       0.92      0.92      0.92      4500\n",
      "\n"
     ]
    }
   ],
   "source": [
    "print(classification_report(y_test, y_test_pred))"
   ]
  },
  {
   "cell_type": "code",
   "execution_count": 69,
   "metadata": {},
   "outputs": [
    {
     "data": {
      "application/vnd.plotly.v1+json": {
       "config": {
        "plotlyServerURL": "https://plot.ly"
       },
       "data": [
        {
         "colorscale": [
          [
           0,
           "rgb(247,252,245)"
          ],
          [
           0.125,
           "rgb(229,245,224)"
          ],
          [
           0.25,
           "rgb(199,233,192)"
          ],
          [
           0.375,
           "rgb(161,217,155)"
          ],
          [
           0.5,
           "rgb(116,196,118)"
          ],
          [
           0.625,
           "rgb(65,171,93)"
          ],
          [
           0.75,
           "rgb(35,139,69)"
          ],
          [
           0.875,
           "rgb(0,109,44)"
          ],
          [
           1,
           "rgb(0,68,27)"
          ]
         ],
         "reversescale": false,
         "showscale": false,
         "type": "heatmap",
         "x": [
          "Dance/Electronic",
          "Ambient/Relaxing",
          "Global/Traditional",
          "Metal/Industrial",
          "Pop/World",
          "Experimental/Electronic"
         ],
         "y": [
          "Dance/Electronic",
          "Ambient/Relaxing",
          "Global/Traditional",
          "Metal/Industrial",
          "Pop/World",
          "Experimental/Electronic"
         ],
         "z": [
          [
           857,
           26,
           17,
           0,
           0,
           0
          ],
          [
           42,
           784,
           72,
           2,
           0,
           0
          ],
          [
           6,
           28,
           1297,
           17,
           2,
           0
          ],
          [
           3,
           4,
           23,
           392,
           27,
           1
          ],
          [
           1,
           3,
           20,
           18,
           627,
           6
          ],
          [
           0,
           2,
           2,
           4,
           28,
           189
          ]
         ]
        }
       ],
       "layout": {
        "annotations": [
         {
          "font": {
           "color": "#FFFFFF"
          },
          "showarrow": false,
          "text": "857",
          "x": "Dance/Electronic",
          "xref": "x",
          "y": "Dance/Electronic",
          "yref": "y"
         },
         {
          "font": {
           "color": "#000000"
          },
          "showarrow": false,
          "text": "26",
          "x": "Ambient/Relaxing",
          "xref": "x",
          "y": "Dance/Electronic",
          "yref": "y"
         },
         {
          "font": {
           "color": "#000000"
          },
          "showarrow": false,
          "text": "17",
          "x": "Global/Traditional",
          "xref": "x",
          "y": "Dance/Electronic",
          "yref": "y"
         },
         {
          "font": {
           "color": "#000000"
          },
          "showarrow": false,
          "text": "0",
          "x": "Metal/Industrial",
          "xref": "x",
          "y": "Dance/Electronic",
          "yref": "y"
         },
         {
          "font": {
           "color": "#000000"
          },
          "showarrow": false,
          "text": "0",
          "x": "Pop/World",
          "xref": "x",
          "y": "Dance/Electronic",
          "yref": "y"
         },
         {
          "font": {
           "color": "#000000"
          },
          "showarrow": false,
          "text": "0",
          "x": "Experimental/Electronic",
          "xref": "x",
          "y": "Dance/Electronic",
          "yref": "y"
         },
         {
          "font": {
           "color": "#000000"
          },
          "showarrow": false,
          "text": "42",
          "x": "Dance/Electronic",
          "xref": "x",
          "y": "Ambient/Relaxing",
          "yref": "y"
         },
         {
          "font": {
           "color": "#FFFFFF"
          },
          "showarrow": false,
          "text": "784",
          "x": "Ambient/Relaxing",
          "xref": "x",
          "y": "Ambient/Relaxing",
          "yref": "y"
         },
         {
          "font": {
           "color": "#000000"
          },
          "showarrow": false,
          "text": "72",
          "x": "Global/Traditional",
          "xref": "x",
          "y": "Ambient/Relaxing",
          "yref": "y"
         },
         {
          "font": {
           "color": "#000000"
          },
          "showarrow": false,
          "text": "2",
          "x": "Metal/Industrial",
          "xref": "x",
          "y": "Ambient/Relaxing",
          "yref": "y"
         },
         {
          "font": {
           "color": "#000000"
          },
          "showarrow": false,
          "text": "0",
          "x": "Pop/World",
          "xref": "x",
          "y": "Ambient/Relaxing",
          "yref": "y"
         },
         {
          "font": {
           "color": "#000000"
          },
          "showarrow": false,
          "text": "0",
          "x": "Experimental/Electronic",
          "xref": "x",
          "y": "Ambient/Relaxing",
          "yref": "y"
         },
         {
          "font": {
           "color": "#000000"
          },
          "showarrow": false,
          "text": "6",
          "x": "Dance/Electronic",
          "xref": "x",
          "y": "Global/Traditional",
          "yref": "y"
         },
         {
          "font": {
           "color": "#000000"
          },
          "showarrow": false,
          "text": "28",
          "x": "Ambient/Relaxing",
          "xref": "x",
          "y": "Global/Traditional",
          "yref": "y"
         },
         {
          "font": {
           "color": "#FFFFFF"
          },
          "showarrow": false,
          "text": "1297",
          "x": "Global/Traditional",
          "xref": "x",
          "y": "Global/Traditional",
          "yref": "y"
         },
         {
          "font": {
           "color": "#000000"
          },
          "showarrow": false,
          "text": "17",
          "x": "Metal/Industrial",
          "xref": "x",
          "y": "Global/Traditional",
          "yref": "y"
         },
         {
          "font": {
           "color": "#000000"
          },
          "showarrow": false,
          "text": "2",
          "x": "Pop/World",
          "xref": "x",
          "y": "Global/Traditional",
          "yref": "y"
         },
         {
          "font": {
           "color": "#000000"
          },
          "showarrow": false,
          "text": "0",
          "x": "Experimental/Electronic",
          "xref": "x",
          "y": "Global/Traditional",
          "yref": "y"
         },
         {
          "font": {
           "color": "#000000"
          },
          "showarrow": false,
          "text": "3",
          "x": "Dance/Electronic",
          "xref": "x",
          "y": "Metal/Industrial",
          "yref": "y"
         },
         {
          "font": {
           "color": "#000000"
          },
          "showarrow": false,
          "text": "4",
          "x": "Ambient/Relaxing",
          "xref": "x",
          "y": "Metal/Industrial",
          "yref": "y"
         },
         {
          "font": {
           "color": "#000000"
          },
          "showarrow": false,
          "text": "23",
          "x": "Global/Traditional",
          "xref": "x",
          "y": "Metal/Industrial",
          "yref": "y"
         },
         {
          "font": {
           "color": "#000000"
          },
          "showarrow": false,
          "text": "392",
          "x": "Metal/Industrial",
          "xref": "x",
          "y": "Metal/Industrial",
          "yref": "y"
         },
         {
          "font": {
           "color": "#000000"
          },
          "showarrow": false,
          "text": "27",
          "x": "Pop/World",
          "xref": "x",
          "y": "Metal/Industrial",
          "yref": "y"
         },
         {
          "font": {
           "color": "#000000"
          },
          "showarrow": false,
          "text": "1",
          "x": "Experimental/Electronic",
          "xref": "x",
          "y": "Metal/Industrial",
          "yref": "y"
         },
         {
          "font": {
           "color": "#000000"
          },
          "showarrow": false,
          "text": "1",
          "x": "Dance/Electronic",
          "xref": "x",
          "y": "Pop/World",
          "yref": "y"
         },
         {
          "font": {
           "color": "#000000"
          },
          "showarrow": false,
          "text": "3",
          "x": "Ambient/Relaxing",
          "xref": "x",
          "y": "Pop/World",
          "yref": "y"
         },
         {
          "font": {
           "color": "#000000"
          },
          "showarrow": false,
          "text": "20",
          "x": "Global/Traditional",
          "xref": "x",
          "y": "Pop/World",
          "yref": "y"
         },
         {
          "font": {
           "color": "#000000"
          },
          "showarrow": false,
          "text": "18",
          "x": "Metal/Industrial",
          "xref": "x",
          "y": "Pop/World",
          "yref": "y"
         },
         {
          "font": {
           "color": "#000000"
          },
          "showarrow": false,
          "text": "627",
          "x": "Pop/World",
          "xref": "x",
          "y": "Pop/World",
          "yref": "y"
         },
         {
          "font": {
           "color": "#000000"
          },
          "showarrow": false,
          "text": "6",
          "x": "Experimental/Electronic",
          "xref": "x",
          "y": "Pop/World",
          "yref": "y"
         },
         {
          "font": {
           "color": "#000000"
          },
          "showarrow": false,
          "text": "0",
          "x": "Dance/Electronic",
          "xref": "x",
          "y": "Experimental/Electronic",
          "yref": "y"
         },
         {
          "font": {
           "color": "#000000"
          },
          "showarrow": false,
          "text": "2",
          "x": "Ambient/Relaxing",
          "xref": "x",
          "y": "Experimental/Electronic",
          "yref": "y"
         },
         {
          "font": {
           "color": "#000000"
          },
          "showarrow": false,
          "text": "2",
          "x": "Global/Traditional",
          "xref": "x",
          "y": "Experimental/Electronic",
          "yref": "y"
         },
         {
          "font": {
           "color": "#000000"
          },
          "showarrow": false,
          "text": "4",
          "x": "Metal/Industrial",
          "xref": "x",
          "y": "Experimental/Electronic",
          "yref": "y"
         },
         {
          "font": {
           "color": "#000000"
          },
          "showarrow": false,
          "text": "28",
          "x": "Pop/World",
          "xref": "x",
          "y": "Experimental/Electronic",
          "yref": "y"
         },
         {
          "font": {
           "color": "#000000"
          },
          "showarrow": false,
          "text": "189",
          "x": "Experimental/Electronic",
          "xref": "x",
          "y": "Experimental/Electronic",
          "yref": "y"
         }
        ],
        "template": {
         "data": {
          "bar": [
           {
            "error_x": {
             "color": "#2a3f5f"
            },
            "error_y": {
             "color": "#2a3f5f"
            },
            "marker": {
             "line": {
              "color": "#E5ECF6",
              "width": 0.5
             },
             "pattern": {
              "fillmode": "overlay",
              "size": 10,
              "solidity": 0.2
             }
            },
            "type": "bar"
           }
          ],
          "barpolar": [
           {
            "marker": {
             "line": {
              "color": "#E5ECF6",
              "width": 0.5
             },
             "pattern": {
              "fillmode": "overlay",
              "size": 10,
              "solidity": 0.2
             }
            },
            "type": "barpolar"
           }
          ],
          "carpet": [
           {
            "aaxis": {
             "endlinecolor": "#2a3f5f",
             "gridcolor": "white",
             "linecolor": "white",
             "minorgridcolor": "white",
             "startlinecolor": "#2a3f5f"
            },
            "baxis": {
             "endlinecolor": "#2a3f5f",
             "gridcolor": "white",
             "linecolor": "white",
             "minorgridcolor": "white",
             "startlinecolor": "#2a3f5f"
            },
            "type": "carpet"
           }
          ],
          "choropleth": [
           {
            "colorbar": {
             "outlinewidth": 0,
             "ticks": ""
            },
            "type": "choropleth"
           }
          ],
          "contour": [
           {
            "colorbar": {
             "outlinewidth": 0,
             "ticks": ""
            },
            "colorscale": [
             [
              0,
              "#0d0887"
             ],
             [
              0.1111111111111111,
              "#46039f"
             ],
             [
              0.2222222222222222,
              "#7201a8"
             ],
             [
              0.3333333333333333,
              "#9c179e"
             ],
             [
              0.4444444444444444,
              "#bd3786"
             ],
             [
              0.5555555555555556,
              "#d8576b"
             ],
             [
              0.6666666666666666,
              "#ed7953"
             ],
             [
              0.7777777777777778,
              "#fb9f3a"
             ],
             [
              0.8888888888888888,
              "#fdca26"
             ],
             [
              1,
              "#f0f921"
             ]
            ],
            "type": "contour"
           }
          ],
          "contourcarpet": [
           {
            "colorbar": {
             "outlinewidth": 0,
             "ticks": ""
            },
            "type": "contourcarpet"
           }
          ],
          "heatmap": [
           {
            "colorbar": {
             "outlinewidth": 0,
             "ticks": ""
            },
            "colorscale": [
             [
              0,
              "#0d0887"
             ],
             [
              0.1111111111111111,
              "#46039f"
             ],
             [
              0.2222222222222222,
              "#7201a8"
             ],
             [
              0.3333333333333333,
              "#9c179e"
             ],
             [
              0.4444444444444444,
              "#bd3786"
             ],
             [
              0.5555555555555556,
              "#d8576b"
             ],
             [
              0.6666666666666666,
              "#ed7953"
             ],
             [
              0.7777777777777778,
              "#fb9f3a"
             ],
             [
              0.8888888888888888,
              "#fdca26"
             ],
             [
              1,
              "#f0f921"
             ]
            ],
            "type": "heatmap"
           }
          ],
          "heatmapgl": [
           {
            "colorbar": {
             "outlinewidth": 0,
             "ticks": ""
            },
            "colorscale": [
             [
              0,
              "#0d0887"
             ],
             [
              0.1111111111111111,
              "#46039f"
             ],
             [
              0.2222222222222222,
              "#7201a8"
             ],
             [
              0.3333333333333333,
              "#9c179e"
             ],
             [
              0.4444444444444444,
              "#bd3786"
             ],
             [
              0.5555555555555556,
              "#d8576b"
             ],
             [
              0.6666666666666666,
              "#ed7953"
             ],
             [
              0.7777777777777778,
              "#fb9f3a"
             ],
             [
              0.8888888888888888,
              "#fdca26"
             ],
             [
              1,
              "#f0f921"
             ]
            ],
            "type": "heatmapgl"
           }
          ],
          "histogram": [
           {
            "marker": {
             "pattern": {
              "fillmode": "overlay",
              "size": 10,
              "solidity": 0.2
             }
            },
            "type": "histogram"
           }
          ],
          "histogram2d": [
           {
            "colorbar": {
             "outlinewidth": 0,
             "ticks": ""
            },
            "colorscale": [
             [
              0,
              "#0d0887"
             ],
             [
              0.1111111111111111,
              "#46039f"
             ],
             [
              0.2222222222222222,
              "#7201a8"
             ],
             [
              0.3333333333333333,
              "#9c179e"
             ],
             [
              0.4444444444444444,
              "#bd3786"
             ],
             [
              0.5555555555555556,
              "#d8576b"
             ],
             [
              0.6666666666666666,
              "#ed7953"
             ],
             [
              0.7777777777777778,
              "#fb9f3a"
             ],
             [
              0.8888888888888888,
              "#fdca26"
             ],
             [
              1,
              "#f0f921"
             ]
            ],
            "type": "histogram2d"
           }
          ],
          "histogram2dcontour": [
           {
            "colorbar": {
             "outlinewidth": 0,
             "ticks": ""
            },
            "colorscale": [
             [
              0,
              "#0d0887"
             ],
             [
              0.1111111111111111,
              "#46039f"
             ],
             [
              0.2222222222222222,
              "#7201a8"
             ],
             [
              0.3333333333333333,
              "#9c179e"
             ],
             [
              0.4444444444444444,
              "#bd3786"
             ],
             [
              0.5555555555555556,
              "#d8576b"
             ],
             [
              0.6666666666666666,
              "#ed7953"
             ],
             [
              0.7777777777777778,
              "#fb9f3a"
             ],
             [
              0.8888888888888888,
              "#fdca26"
             ],
             [
              1,
              "#f0f921"
             ]
            ],
            "type": "histogram2dcontour"
           }
          ],
          "mesh3d": [
           {
            "colorbar": {
             "outlinewidth": 0,
             "ticks": ""
            },
            "type": "mesh3d"
           }
          ],
          "parcoords": [
           {
            "line": {
             "colorbar": {
              "outlinewidth": 0,
              "ticks": ""
             }
            },
            "type": "parcoords"
           }
          ],
          "pie": [
           {
            "automargin": true,
            "type": "pie"
           }
          ],
          "scatter": [
           {
            "fillpattern": {
             "fillmode": "overlay",
             "size": 10,
             "solidity": 0.2
            },
            "type": "scatter"
           }
          ],
          "scatter3d": [
           {
            "line": {
             "colorbar": {
              "outlinewidth": 0,
              "ticks": ""
             }
            },
            "marker": {
             "colorbar": {
              "outlinewidth": 0,
              "ticks": ""
             }
            },
            "type": "scatter3d"
           }
          ],
          "scattercarpet": [
           {
            "marker": {
             "colorbar": {
              "outlinewidth": 0,
              "ticks": ""
             }
            },
            "type": "scattercarpet"
           }
          ],
          "scattergeo": [
           {
            "marker": {
             "colorbar": {
              "outlinewidth": 0,
              "ticks": ""
             }
            },
            "type": "scattergeo"
           }
          ],
          "scattergl": [
           {
            "marker": {
             "colorbar": {
              "outlinewidth": 0,
              "ticks": ""
             }
            },
            "type": "scattergl"
           }
          ],
          "scattermapbox": [
           {
            "marker": {
             "colorbar": {
              "outlinewidth": 0,
              "ticks": ""
             }
            },
            "type": "scattermapbox"
           }
          ],
          "scatterpolar": [
           {
            "marker": {
             "colorbar": {
              "outlinewidth": 0,
              "ticks": ""
             }
            },
            "type": "scatterpolar"
           }
          ],
          "scatterpolargl": [
           {
            "marker": {
             "colorbar": {
              "outlinewidth": 0,
              "ticks": ""
             }
            },
            "type": "scatterpolargl"
           }
          ],
          "scatterternary": [
           {
            "marker": {
             "colorbar": {
              "outlinewidth": 0,
              "ticks": ""
             }
            },
            "type": "scatterternary"
           }
          ],
          "surface": [
           {
            "colorbar": {
             "outlinewidth": 0,
             "ticks": ""
            },
            "colorscale": [
             [
              0,
              "#0d0887"
             ],
             [
              0.1111111111111111,
              "#46039f"
             ],
             [
              0.2222222222222222,
              "#7201a8"
             ],
             [
              0.3333333333333333,
              "#9c179e"
             ],
             [
              0.4444444444444444,
              "#bd3786"
             ],
             [
              0.5555555555555556,
              "#d8576b"
             ],
             [
              0.6666666666666666,
              "#ed7953"
             ],
             [
              0.7777777777777778,
              "#fb9f3a"
             ],
             [
              0.8888888888888888,
              "#fdca26"
             ],
             [
              1,
              "#f0f921"
             ]
            ],
            "type": "surface"
           }
          ],
          "table": [
           {
            "cells": {
             "fill": {
              "color": "#EBF0F8"
             },
             "line": {
              "color": "white"
             }
            },
            "header": {
             "fill": {
              "color": "#C8D4E3"
             },
             "line": {
              "color": "white"
             }
            },
            "type": "table"
           }
          ]
         },
         "layout": {
          "annotationdefaults": {
           "arrowcolor": "#2a3f5f",
           "arrowhead": 0,
           "arrowwidth": 1
          },
          "autotypenumbers": "strict",
          "coloraxis": {
           "colorbar": {
            "outlinewidth": 0,
            "ticks": ""
           }
          },
          "colorscale": {
           "diverging": [
            [
             0,
             "#8e0152"
            ],
            [
             0.1,
             "#c51b7d"
            ],
            [
             0.2,
             "#de77ae"
            ],
            [
             0.3,
             "#f1b6da"
            ],
            [
             0.4,
             "#fde0ef"
            ],
            [
             0.5,
             "#f7f7f7"
            ],
            [
             0.6,
             "#e6f5d0"
            ],
            [
             0.7,
             "#b8e186"
            ],
            [
             0.8,
             "#7fbc41"
            ],
            [
             0.9,
             "#4d9221"
            ],
            [
             1,
             "#276419"
            ]
           ],
           "sequential": [
            [
             0,
             "#0d0887"
            ],
            [
             0.1111111111111111,
             "#46039f"
            ],
            [
             0.2222222222222222,
             "#7201a8"
            ],
            [
             0.3333333333333333,
             "#9c179e"
            ],
            [
             0.4444444444444444,
             "#bd3786"
            ],
            [
             0.5555555555555556,
             "#d8576b"
            ],
            [
             0.6666666666666666,
             "#ed7953"
            ],
            [
             0.7777777777777778,
             "#fb9f3a"
            ],
            [
             0.8888888888888888,
             "#fdca26"
            ],
            [
             1,
             "#f0f921"
            ]
           ],
           "sequentialminus": [
            [
             0,
             "#0d0887"
            ],
            [
             0.1111111111111111,
             "#46039f"
            ],
            [
             0.2222222222222222,
             "#7201a8"
            ],
            [
             0.3333333333333333,
             "#9c179e"
            ],
            [
             0.4444444444444444,
             "#bd3786"
            ],
            [
             0.5555555555555556,
             "#d8576b"
            ],
            [
             0.6666666666666666,
             "#ed7953"
            ],
            [
             0.7777777777777778,
             "#fb9f3a"
            ],
            [
             0.8888888888888888,
             "#fdca26"
            ],
            [
             1,
             "#f0f921"
            ]
           ]
          },
          "colorway": [
           "#636efa",
           "#EF553B",
           "#00cc96",
           "#ab63fa",
           "#FFA15A",
           "#19d3f3",
           "#FF6692",
           "#B6E880",
           "#FF97FF",
           "#FECB52"
          ],
          "font": {
           "color": "#2a3f5f"
          },
          "geo": {
           "bgcolor": "white",
           "lakecolor": "white",
           "landcolor": "#E5ECF6",
           "showlakes": true,
           "showland": true,
           "subunitcolor": "white"
          },
          "hoverlabel": {
           "align": "left"
          },
          "hovermode": "closest",
          "mapbox": {
           "style": "light"
          },
          "paper_bgcolor": "white",
          "plot_bgcolor": "#E5ECF6",
          "polar": {
           "angularaxis": {
            "gridcolor": "white",
            "linecolor": "white",
            "ticks": ""
           },
           "bgcolor": "#E5ECF6",
           "radialaxis": {
            "gridcolor": "white",
            "linecolor": "white",
            "ticks": ""
           }
          },
          "scene": {
           "xaxis": {
            "backgroundcolor": "#E5ECF6",
            "gridcolor": "white",
            "gridwidth": 2,
            "linecolor": "white",
            "showbackground": true,
            "ticks": "",
            "zerolinecolor": "white"
           },
           "yaxis": {
            "backgroundcolor": "#E5ECF6",
            "gridcolor": "white",
            "gridwidth": 2,
            "linecolor": "white",
            "showbackground": true,
            "ticks": "",
            "zerolinecolor": "white"
           },
           "zaxis": {
            "backgroundcolor": "#E5ECF6",
            "gridcolor": "white",
            "gridwidth": 2,
            "linecolor": "white",
            "showbackground": true,
            "ticks": "",
            "zerolinecolor": "white"
           }
          },
          "shapedefaults": {
           "line": {
            "color": "#2a3f5f"
           }
          },
          "ternary": {
           "aaxis": {
            "gridcolor": "white",
            "linecolor": "white",
            "ticks": ""
           },
           "baxis": {
            "gridcolor": "white",
            "linecolor": "white",
            "ticks": ""
           },
           "bgcolor": "#E5ECF6",
           "caxis": {
            "gridcolor": "white",
            "linecolor": "white",
            "ticks": ""
           }
          },
          "title": {
           "x": 0.05
          },
          "xaxis": {
           "automargin": true,
           "gridcolor": "white",
           "linecolor": "white",
           "ticks": "",
           "title": {
            "standoff": 15
           },
           "zerolinecolor": "white",
           "zerolinewidth": 2
          },
          "yaxis": {
           "automargin": true,
           "gridcolor": "white",
           "linecolor": "white",
           "ticks": "",
           "title": {
            "standoff": 15
           },
           "zerolinecolor": "white",
           "zerolinewidth": 2
          }
         }
        },
        "title": {
         "text": "Confusion Matrix",
         "x": 0.5
        },
        "xaxis": {
         "dtick": 1,
         "gridcolor": "rgb(0, 0, 0)",
         "side": "top",
         "tickangle": 45,
         "ticks": "",
         "title": {
          "text": "Predicted Labels"
         }
        },
        "yaxis": {
         "autorange": "reversed",
         "dtick": 1,
         "tickmode": "array",
         "ticks": "",
         "ticksuffix": "  ",
         "ticktext": [
          "Dance/Electronic",
          "Ambient/Relaxing",
          "Global/Traditional",
          "Metal/Industrial",
          "Pop/World",
          "Experimental/Electronic"
         ],
         "tickvals": [
          0,
          1,
          2,
          3,
          4,
          5
         ],
         "title": {
          "text": "True Labels"
         }
        }
       }
      }
     },
     "metadata": {},
     "output_type": "display_data"
    }
   ],
   "source": [
    "import plotly.figure_factory as ff\n",
    "from sklearn.metrics import confusion_matrix\n",
    "\n",
    "# Assumiamo che 'y_test' e 'y_test_pred' siano già definiti e contengano le etichette vere e predette dal tuo modello\n",
    "\n",
    "# Genera la matrice di confusione\n",
    "cf = confusion_matrix(y_test, y_test_pred)\n",
    "\n",
    "# Definisci le etichette per i generi in base ai raggruppamenti definiti\n",
    "genre_labels = ['Dance/Electronic', 'Ambient/Relaxing', 'Global/Traditional', 'Metal/Industrial', 'Pop/World', 'Experimental/Electronic']\n",
    "\n",
    "# Crea la heatmap usando plotly\n",
    "fig = ff.create_annotated_heatmap(z=cf, x=genre_labels, y=genre_labels,\n",
    "                                  annotation_text=cf.astype(str), colorscale='Greens')\n",
    "\n",
    "# Aggiorna il layout\n",
    "fig.update_layout(title_text='Confusion Matrix', title_x=0.5,\n",
    "                  xaxis=dict(title='Predicted Labels', tickangle=45),\n",
    "                  yaxis=dict(title='True Labels', tickmode='array', tickvals=list(range(len(genre_labels))), ticktext=genre_labels),\n",
    "                  yaxis_autorange='reversed')  # Reverse the y-axis to have the first class at the top\n",
    "\n",
    "# Mostra il grafico\n",
    "fig.show()\n"
   ]
  },
  {
   "cell_type": "markdown",
   "metadata": {},
   "source": [
    "## Cross validation"
   ]
  },
  {
   "cell_type": "code",
   "execution_count": 57,
   "metadata": {},
   "outputs": [],
   "source": [
    "from sklearn.model_selection import cross_val_score\n",
    "k = 10"
   ]
  },
  {
   "cell_type": "code",
   "execution_count": 58,
   "metadata": {},
   "outputs": [
    {
     "data": {
      "text/plain": [
       "array([0.91714286, 0.90190476, 0.92      , 0.92190476, 0.92190476,\n",
       "       0.91142857, 0.9152381 , 0.92      , 0.89714286, 0.9352381 ])"
      ]
     },
     "execution_count": 58,
     "metadata": {},
     "output_type": "execute_result"
    }
   ],
   "source": [
    "clf = KNeighborsClassifier(n_neighbors=8, metric=\"cityblock\", weights=\"uniform\")\n",
    "\n",
    "scores = cross_val_score(clf, X_train_norm, y_train, cv=k) # we call the 10 cross validation only on the training portion of our data\n",
    "scores"
   ]
  },
  {
   "cell_type": "code",
   "execution_count": 59,
   "metadata": {},
   "outputs": [
    {
     "name": "stdout",
     "output_type": "stream",
     "text": [
      "Overall error estimate: 0.08380952380952389\n"
     ]
    }
   ],
   "source": [
    "print(\"Overall error estimate:\", 1 - scores.mean()) "
   ]
  },
  {
   "cell_type": "code",
   "execution_count": 60,
   "metadata": {},
   "outputs": [
    {
     "name": "stdout",
     "output_type": "stream",
     "text": [
      "Accuracy: 0.9162 (+/- 0.01)\n"
     ]
    }
   ],
   "source": [
    "print('Accuracy: %0.4f (+/- %0.2f)' % (scores.mean(), scores.std()))"
   ]
  },
  {
   "cell_type": "code",
   "execution_count": 61,
   "metadata": {},
   "outputs": [
    {
     "data": {
      "text/plain": [
       "array([0.90430037, 0.8995351 , 0.91643074, 0.91852527, 0.90866573,\n",
       "       0.90108089, 0.90900017, 0.9004873 , 0.86598926, 0.93391989])"
      ]
     },
     "execution_count": 61,
     "metadata": {},
     "output_type": "execute_result"
    }
   ],
   "source": [
    "cross_val_score(clf, X_train_norm, y_train, cv=k, scoring='f1_macro')"
   ]
  },
  {
   "cell_type": "markdown",
   "metadata": {},
   "source": [
    "### Hyperparameters Tuning"
   ]
  },
  {
   "cell_type": "code",
   "execution_count": 62,
   "metadata": {},
   "outputs": [
    {
     "data": {
      "image/png": "[encoded data removed]",
      "text/plain": [
       "<Figure size 640x480 with 1 Axes>"
      ]
     },
     "metadata": {},
     "output_type": "display_data"
    }
   ],
   "source": [
    "n_neighbors = range(1,20)\n",
    "scores = list()\n",
    "\n",
    "for n in n_neighbors:\n",
    "    clf = KNeighborsClassifier(n_neighbors=n, metric=\"euclidean\", weights=\"uniform\")\n",
    "    clf.fit(X_train_norm, y_train)\n",
    "    scores.append(clf.score(X_test_norm, y_test))\n",
    "\n",
    "plt.plot(scores)\n",
    "plt.xticks(range(len(n_neighbors)), n_neighbors)\n",
    "plt.xlabel(\"n_neighbors\")\n",
    "plt.ylabel(\"accuracy\")\n",
    "plt.show()"
   ]
  },
  {
   "cell_type": "code",
   "execution_count": 63,
   "metadata": {},
   "outputs": [
    {
     "data": {
      "image/png": "[encoded data removed]",
      "text/plain": [
       "<Figure size 640x480 with 1 Axes>"
      ]
     },
     "metadata": {},
     "output_type": "display_data"
    }
   ],
   "source": [
    "n_neighbors = range(1,20)\n",
    "avg_scores = list()\n",
    "std_scores = list()\n",
    "\n",
    "for n in n_neighbors:\n",
    "    clf = KNeighborsClassifier(n_neighbors=n, metric=\"euclidean\", weights=\"uniform\")\n",
    "    scores = cross_val_score(clf, X_train_norm, y_train, cv=k)\n",
    "    avg_scores.append(np.mean(scores))\n",
    "    std_scores.append(np.std(scores))\n",
    "\n",
    "#plt.plot(avg_scores)\n",
    "plt.errorbar(range(len(n_neighbors)), y=avg_scores, yerr=std_scores, marker='o')\n",
    "plt.xticks(range(len(n_neighbors)), n_neighbors)\n",
    "plt.xlabel(\"n_neighbors\")\n",
    "plt.ylabel(\"accuracy\")\n",
    "plt.show()"
   ]
  },
  {
   "cell_type": "code",
   "execution_count": 64,
   "metadata": {},
   "outputs": [],
   "source": [
    "# clf = KNeighborsClassifier(n_neighbors=12, metric=\"euclidean\", weights=\"uniform\")\n",
    "# clf.fit(X_train_norm, y_train)\n",
    "# y_test_pred = clf.predict(X_test_norm)\n",
    "# print(\"Accuracy:\", accuracy_score(y_test, y_test_pred))"
   ]
  },
  {
   "cell_type": "markdown",
   "metadata": {},
   "source": [
    "# Grid Search"
   ]
  },
  {
   "cell_type": "code",
   "execution_count": 65,
   "metadata": {},
   "outputs": [],
   "source": [
    "from sklearn.model_selection import RepeatedStratifiedKFold\n",
    "from sklearn.model_selection import RandomizedSearchCV, GridSearchCV"
   ]
  },
  {
   "cell_type": "code",
   "execution_count": 66,
   "metadata": {},
   "outputs": [],
   "source": [
    "param_grid = {\n",
    "    \"n_neighbors\": np.arange(2, 15), \n",
    "    \"weights\": [\"uniform\", \"distance\"],\n",
    "    \"metric\": [\"euclidean\", \"cityblock\"],\n",
    "}\n",
    "\n",
    "grid = GridSearchCV(\n",
    "    KNeighborsClassifier(),\n",
    "    param_grid=param_grid,\n",
    "    cv=RepeatedStratifiedKFold(random_state=0),\n",
    "    n_jobs=-1,\n",
    "    refit=True, \n",
    "    # verbose=2\n",
    ") \n",
    "\n",
    "grid.fit(X_train_norm, y_train)\n",
    "clf = grid.best_estimator_"
   ]
  },
  {
   "cell_type": "code",
   "execution_count": 67,
   "metadata": {},
   "outputs": [
    {
     "name": "stdout",
     "output_type": "stream",
     "text": [
      "{'metric': 'cityblock', 'n_neighbors': 8, 'weights': 'distance'} 0.9179904761904761\n"
     ]
    }
   ],
   "source": [
    "print(grid.best_params_, grid.best_score_)"
   ]
  },
  {
   "cell_type": "markdown",
   "metadata": {},
   "source": [
    "# Learning curve"
   ]
  },
  {
   "cell_type": "markdown",
   "metadata": {},
   "source": [
    "train_sizes = np.linspace(0.1, 1.0, 10)\n",
    "\n",
    "Questa riga crea un array di dieci numeri che sono equamente spaziati tra 0.1 e 1.0. Questi numeri rappresenteranno le proporzioni del set di allenamento che verranno utilizzate per generare la curva di apprendimento. Ad esempio, se hai 1000 esempi di allenamento, il primo punto della curva di apprendimento userà il 10% di questi dati, cioè 100 esempi.\n",
    "\n",
    "estimator=clf\n",
    "\n",
    "Qui, stai assegnando il tuo modello k-NN, che hai chiamato clf nello screenshot precedente, alla variabile estimator. Questo modello verrà utilizzato dalla funzione learning_curve per allenare e testare il modello.\n",
    "\n",
    "X = df.drop('genre', axis=1)\n",
    "y = df['genre']\n",
    "\n",
    "Queste due righe selezionano le features e il target dal tuo DataFrame. X contiene tutte le colonne tranne 'genre', che è la colonna del target che si presume tu voglia prevedere. y contiene i valori della colonna 'genre'.\n",
    "\n",
    "scaler = StandardScaler()\n",
    "X_norm = scaler.fit_transform(X)\n",
    "\n",
    "Qui, crei un oggetto StandardScaler, che normalizza i dati delle features sottraendo la media e dividendo per la deviazione standard. Poi utilizzi questo oggetto per trasformare i tuoi dati in X_norm, che sono i dati delle features normalizzati.\n",
    "\n",
    "train_sizes, train_scores, test_scores = learning_curve(...)\n",
    "\n",
    "Questa funzione calcola la curva di apprendimento. Allena il tuo modello (clf) su diverse porzioni del set di dati (definite da train_sizes) e calcola i punteggi di accuratezza sul training set e sul test set. La cross-validation a 10 fold (cv=10) è utilizzata per valutare l'accuratezza del modello, che significa che i dati vengono divisi in 10 parti, con 9 utilizzate per l'allenamento e 1 per il test, e questo processo è ripetuto 10 volte con parti diverse utilizzate come test set.\n",
    "\n",
    "train_mean = np.mean(train_scores, axis=1)\n",
    "train_std = np.std(train_scores, axis=1)\n",
    "test_mean = np.mean(test_scores, axis=1)\n",
    "test_std = np.std(test_scores, axis=1)\n",
    "\n",
    "Queste righe calcolano la media e la deviazione standard delle accuratezze ottenute durante la cross-validation sia per il training set sia per il test set. Ti permettono di vedere non solo come l'accuratezza cambia con diversi set di dati di allenamento, ma anche quanto sono variabili i risultati (indicati dalla deviazione standard).\n",
    "\n",
    "Le ultime righe di codice (plt.figure(figsize=(10, 6)) fino a plt.show()) generano un grafico che mostra la curva di apprendimento. Mostrano l'accuratezza media sul training set e sul test set (anche chiamato validation set) in funzione della dimensione del training set, con le aree ombreggiate che rappresentano la deviazione standard. Il grafico è intitolato \"Learning Curve for k-NN Classifier\" e ha le etichette sugli assi appropriate per la dimensione dei dati di allenamento e l'accuratezza."
   ]
  },
  {
   "cell_type": "code",
   "execution_count": 68,
   "metadata": {},
   "outputs": [
    {
     "data": {
      "application/vnd.plotly.v1+json": {
       "config": {
        "plotlyServerURL": "https://plot.ly"
       },
       "data": [
        {
         "mode": "lines",
         "name": "Class 0 (AUC = 0.99)",
         "type": "scatter",
         "x": [
          0,
          0,
          0,
          0.0002777777777777778,
          0.0002777777777777778,
          0.0005555555555555556,
          0.0005555555555555556,
          0.0008333333333333334,
          0.0008333333333333334,
          0.0011111111111111111,
          0.0011111111111111111,
          0.001388888888888889,
          0.001388888888888889,
          0.0019444444444444444,
          0.0019444444444444444,
          0.0022222222222222222,
          0.0022222222222222222,
          0.0025,
          0.0025,
          0.002777777777777778,
          0.002777777777777778,
          0.0030555555555555557,
          0.0030555555555555557,
          0.0033333333333333335,
          0.0033333333333333335,
          0.003611111111111111,
          0.003611111111111111,
          0.0038888888888888888,
          0.0038888888888888888,
          0.004166666666666667,
          0.004166666666666667,
          0.0044444444444444444,
          0.0044444444444444444,
          0.004722222222222222,
          0.004722222222222222,
          0.005,
          0.005,
          0.006111111111111111,
          0.006111111111111111,
          0.006388888888888889,
          0.006388888888888889,
          0.006666666666666667,
          0.006666666666666667,
          0.006944444444444444,
          0.006944444444444444,
          0.008333333333333333,
          0.008333333333333333,
          0.008888888888888889,
          0.008888888888888889,
          0.009166666666666667,
          0.009166666666666667,
          0.009444444444444445,
          0.009444444444444445,
          0.01138888888888889,
          0.01138888888888889,
          0.011666666666666667,
          0.011666666666666667,
          0.011944444444444445,
          0.011944444444444445,
          0.012222222222222223,
          0.012222222222222223,
          0.012777777777777779,
          0.012777777777777779,
          0.013333333333333334,
          0.013333333333333334,
          0.01361111111111111,
          0.01361111111111111,
          0.014166666666666666,
          0.014166666666666666,
          0.014444444444444444,
          0.014444444444444444,
          0.014722222222222222,
          0.014722222222222222,
          0.015833333333333335,
          0.015833333333333335,
          0.016666666666666666,
          0.016666666666666666,
          0.018055555555555554,
          0.018055555555555554,
          0.01861111111111111,
          0.01861111111111111,
          0.020833333333333332,
          0.020833333333333332,
          0.02277777777777778,
          0.02277777777777778,
          0.028055555555555556,
          0.028055555555555556,
          0.03,
          0.03,
          0.030833333333333334,
          0.030833333333333334,
          0.03138888888888889,
          0.03138888888888889,
          0.035555555555555556,
          0.035555555555555556,
          0.03638888888888889,
          0.03638888888888889,
          0.03666666666666667,
          0.03666666666666667,
          0.036944444444444446,
          0.036944444444444446,
          0.043333333333333335,
          0.043333333333333335,
          0.04694444444444444,
          0.04694444444444444,
          0.05444444444444444,
          0.05444444444444444,
          0.05611111111111111,
          0.05611111111111111,
          0.0625,
          0.0625,
          0.07055555555555555,
          0.07055555555555555,
          0.07916666666666666,
          0.07916666666666666,
          0.08222222222222222,
          0.08222222222222222,
          0.08333333333333333,
          0.08333333333333333,
          0.12083333333333333,
          1
         ],
         "y": [
          0,
          0.6333333333333333,
          0.68,
          0.68,
          0.7777777777777778,
          0.7777777777777778,
          0.8433333333333334,
          0.8433333333333334,
          0.85,
          0.85,
          0.8555555555555555,
          0.8555555555555555,
          0.8844444444444445,
          0.8844444444444445,
          0.8944444444444445,
          0.8944444444444445,
          0.8955555555555555,
          0.8955555555555555,
          0.9,
          0.9,
          0.9044444444444445,
          0.9044444444444445,
          0.9077777777777778,
          0.9077777777777778,
          0.9088888888888889,
          0.9088888888888889,
          0.9111111111111111,
          0.9111111111111111,
          0.9122222222222223,
          0.9122222222222223,
          0.9177777777777778,
          0.9177777777777778,
          0.9211111111111111,
          0.9211111111111111,
          0.9244444444444444,
          0.9244444444444444,
          0.9288888888888889,
          0.9288888888888889,
          0.93,
          0.93,
          0.9311111111111111,
          0.9311111111111111,
          0.9322222222222222,
          0.9322222222222222,
          0.9333333333333333,
          0.9333333333333333,
          0.9366666666666666,
          0.9366666666666666,
          0.94,
          0.94,
          0.9411111111111111,
          0.9411111111111111,
          0.9433333333333334,
          0.9433333333333334,
          0.9455555555555556,
          0.9455555555555556,
          0.9477777777777778,
          0.9477777777777778,
          0.95,
          0.95,
          0.9511111111111111,
          0.9511111111111111,
          0.9522222222222222,
          0.9522222222222222,
          0.9533333333333334,
          0.9533333333333334,
          0.9544444444444444,
          0.9544444444444444,
          0.9555555555555556,
          0.9555555555555556,
          0.9566666666666667,
          0.9566666666666667,
          0.9577777777777777,
          0.9577777777777777,
          0.9633333333333334,
          0.9633333333333334,
          0.9655555555555555,
          0.9655555555555555,
          0.9666666666666667,
          0.9666666666666667,
          0.9688888888888889,
          0.9688888888888889,
          0.97,
          0.97,
          0.9711111111111111,
          0.9711111111111111,
          0.9733333333333334,
          0.9733333333333334,
          0.9744444444444444,
          0.9744444444444444,
          0.9755555555555555,
          0.9755555555555555,
          0.9766666666666667,
          0.9766666666666667,
          0.9777777777777777,
          0.9777777777777777,
          0.9788888888888889,
          0.9788888888888889,
          0.98,
          0.98,
          0.9811111111111112,
          0.9811111111111112,
          0.9833333333333333,
          0.9833333333333333,
          0.9844444444444445,
          0.9844444444444445,
          0.9855555555555555,
          0.9855555555555555,
          0.9866666666666667,
          0.9866666666666667,
          0.9877777777777778,
          0.9877777777777778,
          0.9888888888888889,
          0.9888888888888889,
          0.99,
          0.99,
          0.9911111111111112,
          0.9911111111111112,
          0.9922222222222222,
          0.9922222222222222,
          1
         ]
        },
        {
         "mode": "lines",
         "name": "Class 1 (AUC = 0.99)",
         "type": "scatter",
         "x": [
          0,
          0.0011111111111111111,
          0.0011111111111111111,
          0.001388888888888889,
          0.001388888888888889,
          0.0016666666666666668,
          0.0016666666666666668,
          0.0016666666666666668,
          0.0016666666666666668,
          0.0019444444444444444,
          0.0019444444444444444,
          0.0022222222222222222,
          0.0022222222222222222,
          0.0025,
          0.0025,
          0.002777777777777778,
          0.002777777777777778,
          0.0030555555555555557,
          0.0030555555555555557,
          0.0033333333333333335,
          0.0033333333333333335,
          0.003611111111111111,
          0.003611111111111111,
          0.003611111111111111,
          0.003611111111111111,
          0.0038888888888888888,
          0.0038888888888888888,
          0.004166666666666667,
          0.004166666666666667,
          0.0044444444444444444,
          0.0044444444444444444,
          0.004722222222222222,
          0.004722222222222222,
          0.005,
          0.005,
          0.005277777777777778,
          0.005277777777777778,
          0.005555555555555556,
          0.005555555555555556,
          0.005833333333333334,
          0.005833333333333334,
          0.006944444444444444,
          0.006944444444444444,
          0.007222222222222222,
          0.007222222222222222,
          0.0075,
          0.0075,
          0.0077777777777777776,
          0.0077777777777777776,
          0.008055555555555555,
          0.008055555555555555,
          0.008333333333333333,
          0.008333333333333333,
          0.008888888888888889,
          0.008888888888888889,
          0.009166666666666667,
          0.009166666666666667,
          0.009444444444444445,
          0.009444444444444445,
          0.009722222222222222,
          0.009722222222222222,
          0.010277777777777778,
          0.010277777777777778,
          0.010555555555555556,
          0.010555555555555556,
          0.010833333333333334,
          0.010833333333333334,
          0.011111111111111112,
          0.011111111111111112,
          0.01138888888888889,
          0.01138888888888889,
          0.011666666666666667,
          0.011666666666666667,
          0.0125,
          0.0125,
          0.013333333333333334,
          0.013333333333333334,
          0.013888888888888888,
          0.013888888888888888,
          0.014166666666666666,
          0.014166666666666666,
          0.014444444444444444,
          0.014444444444444444,
          0.015277777777777777,
          0.015277777777777777,
          0.016666666666666666,
          0.016666666666666666,
          0.016944444444444446,
          0.016944444444444446,
          0.017222222222222222,
          0.017222222222222222,
          0.0175,
          0.0175,
          0.018333333333333333,
          0.018333333333333333,
          0.01861111111111111,
          0.01861111111111111,
          0.01888888888888889,
          0.01888888888888889,
          0.019166666666666665,
          0.019166666666666665,
          0.019444444444444445,
          0.019444444444444445,
          0.01972222222222222,
          0.01972222222222222,
          0.020277777777777777,
          0.020277777777777777,
          0.020555555555555556,
          0.020555555555555556,
          0.020833333333333332,
          0.020833333333333332,
          0.021111111111111112,
          0.021111111111111112,
          0.021388888888888888,
          0.021388888888888888,
          0.021666666666666667,
          0.021666666666666667,
          0.0225,
          0.0225,
          0.02277777777777778,
          0.02277777777777778,
          0.024166666666666666,
          0.024166666666666666,
          0.024722222222222222,
          0.024722222222222222,
          0.025,
          0.025,
          0.025833333333333333,
          0.025833333333333333,
          0.026111111111111113,
          0.026111111111111113,
          0.02638888888888889,
          0.02638888888888889,
          0.02666666666666667,
          0.02666666666666667,
          0.02722222222222222,
          0.02722222222222222,
          0.0275,
          0.0275,
          0.028333333333333332,
          0.028333333333333332,
          0.028888888888888888,
          0.028888888888888888,
          0.029444444444444443,
          0.029444444444444443,
          0.029722222222222223,
          0.029722222222222223,
          0.03,
          0.03,
          0.030833333333333334,
          0.030833333333333334,
          0.03277777777777778,
          0.03277777777777778,
          0.03305555555555555,
          0.03305555555555555,
          0.03333333333333333,
          0.03333333333333333,
          0.034722222222222224,
          0.034722222222222224,
          0.035,
          0.035,
          0.035277777777777776,
          0.035277777777777776,
          0.035555555555555556,
          0.035555555555555556,
          0.03611111111111111,
          0.03611111111111111,
          0.03666666666666667,
          0.03666666666666667,
          0.036944444444444446,
          0.036944444444444446,
          0.0375,
          0.0375,
          0.03833333333333333,
          0.03833333333333333,
          0.03972222222222222,
          0.03972222222222222,
          0.04027777777777778,
          0.04027777777777778,
          0.041944444444444444,
          0.041944444444444444,
          0.043333333333333335,
          0.043333333333333335,
          0.04472222222222222,
          0.04472222222222222,
          0.04583333333333333,
          0.04583333333333333,
          0.04611111111111111,
          0.04611111111111111,
          0.0475,
          0.0475,
          0.052222222222222225,
          0.052222222222222225,
          0.05444444444444444,
          0.05444444444444444,
          0.05638888888888889,
          0.05638888888888889,
          0.058055555555555555,
          0.058055555555555555,
          0.06111111111111111,
          0.06111111111111111,
          0.0625,
          0.0625,
          0.06305555555555556,
          0.06305555555555556,
          0.06388888888888888,
          0.06388888888888888,
          0.06666666666666667,
          0.06666666666666667,
          0.06722222222222222,
          0.06722222222222222,
          0.07333333333333333,
          0.07333333333333333,
          0.0825,
          0.0825,
          0.09083333333333334,
          0.09083333333333334,
          0.0975,
          0.0975,
          0.09972222222222223,
          0.09972222222222223,
          0.10055555555555555,
          0.10055555555555555,
          0.10444444444444445,
          0.10444444444444445,
          0.1111111111111111,
          0.1111111111111111,
          0.11861111111111111,
          0.11861111111111111,
          0.12222222222222222,
          0.12222222222222222,
          0.125,
          0.125,
          0.1502777777777778,
          0.1502777777777778,
          0.155,
          0.155,
          0.15694444444444444,
          0.15694444444444444,
          0.16666666666666666,
          0.16666666666666666,
          0.17,
          0.17,
          0.1938888888888889,
          1
         ],
         "y": [
          0,
          0.4222222222222222,
          0.46,
          0.46,
          0.48333333333333334,
          0.48333333333333334,
          0.49666666666666665,
          0.4988888888888889,
          0.5144444444444445,
          0.5144444444444445,
          0.5311111111111111,
          0.5311111111111111,
          0.5533333333333333,
          0.5533333333333333,
          0.5911111111111111,
          0.5911111111111111,
          0.5922222222222222,
          0.5922222222222222,
          0.5944444444444444,
          0.5944444444444444,
          0.5955555555555555,
          0.5955555555555555,
          0.61,
          0.6122222222222222,
          0.6177777777777778,
          0.6177777777777778,
          0.6688888888888889,
          0.6688888888888889,
          0.6722222222222223,
          0.6722222222222223,
          0.6766666666666666,
          0.6766666666666666,
          0.6788888888888889,
          0.6788888888888889,
          0.6955555555555556,
          0.6955555555555556,
          0.7,
          0.7,
          0.7044444444444444,
          0.7044444444444444,
          0.7055555555555556,
          0.7055555555555556,
          0.7211111111111111,
          0.7211111111111111,
          0.7366666666666667,
          0.7366666666666667,
          0.74,
          0.74,
          0.7466666666666667,
          0.7466666666666667,
          0.7522222222222222,
          0.7522222222222222,
          0.7755555555555556,
          0.7755555555555556,
          0.7766666666666666,
          0.7766666666666666,
          0.78,
          0.78,
          0.7888888888888889,
          0.7888888888888889,
          0.79,
          0.79,
          0.7977777777777778,
          0.7977777777777778,
          0.8033333333333333,
          0.8033333333333333,
          0.8244444444444444,
          0.8244444444444444,
          0.8255555555555556,
          0.8255555555555556,
          0.8311111111111111,
          0.8311111111111111,
          0.84,
          0.84,
          0.8411111111111111,
          0.8411111111111111,
          0.8444444444444444,
          0.8444444444444444,
          0.8522222222222222,
          0.8522222222222222,
          0.8555555555555555,
          0.8555555555555555,
          0.8577777777777778,
          0.8577777777777778,
          0.8588888888888889,
          0.8588888888888889,
          0.8633333333333333,
          0.8633333333333333,
          0.8655555555555555,
          0.8655555555555555,
          0.8688888888888889,
          0.8688888888888889,
          0.8711111111111111,
          0.8711111111111111,
          0.8755555555555555,
          0.8755555555555555,
          0.8777777777777778,
          0.8777777777777778,
          0.8788888888888889,
          0.8788888888888889,
          0.8822222222222222,
          0.8822222222222222,
          0.8833333333333333,
          0.8833333333333333,
          0.8844444444444445,
          0.8844444444444445,
          0.8855555555555555,
          0.8855555555555555,
          0.89,
          0.89,
          0.8911111111111111,
          0.8911111111111111,
          0.8944444444444445,
          0.8944444444444445,
          0.8977777777777778,
          0.8977777777777778,
          0.8988888888888888,
          0.8988888888888888,
          0.9,
          0.9,
          0.9011111111111111,
          0.9011111111111111,
          0.9033333333333333,
          0.9033333333333333,
          0.9044444444444445,
          0.9044444444444445,
          0.9055555555555556,
          0.9055555555555556,
          0.9133333333333333,
          0.9133333333333333,
          0.9144444444444444,
          0.9144444444444444,
          0.9155555555555556,
          0.9155555555555556,
          0.9166666666666666,
          0.9166666666666666,
          0.9177777777777778,
          0.9177777777777778,
          0.9188888888888889,
          0.9188888888888889,
          0.92,
          0.92,
          0.9222222222222223,
          0.9222222222222223,
          0.9233333333333333,
          0.9233333333333333,
          0.9255555555555556,
          0.9255555555555556,
          0.9277777777777778,
          0.9277777777777778,
          0.93,
          0.93,
          0.9311111111111111,
          0.9311111111111111,
          0.9322222222222222,
          0.9322222222222222,
          0.9333333333333333,
          0.9333333333333333,
          0.9355555555555556,
          0.9355555555555556,
          0.9377777777777778,
          0.9377777777777778,
          0.9388888888888889,
          0.9388888888888889,
          0.94,
          0.94,
          0.9411111111111111,
          0.9411111111111111,
          0.9422222222222222,
          0.9422222222222222,
          0.9433333333333334,
          0.9433333333333334,
          0.9455555555555556,
          0.9455555555555556,
          0.9477777777777778,
          0.9477777777777778,
          0.9488888888888889,
          0.9488888888888889,
          0.95,
          0.95,
          0.9522222222222222,
          0.9522222222222222,
          0.9555555555555556,
          0.9555555555555556,
          0.9566666666666667,
          0.9566666666666667,
          0.9577777777777777,
          0.9577777777777777,
          0.9588888888888889,
          0.9588888888888889,
          0.96,
          0.96,
          0.9611111111111111,
          0.9611111111111111,
          0.9622222222222222,
          0.9622222222222222,
          0.9633333333333334,
          0.9633333333333334,
          0.9644444444444444,
          0.9644444444444444,
          0.9655555555555555,
          0.9655555555555555,
          0.9677777777777777,
          0.9677777777777777,
          0.9688888888888889,
          0.9688888888888889,
          0.97,
          0.97,
          0.9711111111111111,
          0.9711111111111111,
          0.9733333333333334,
          0.9733333333333334,
          0.9744444444444444,
          0.9744444444444444,
          0.9755555555555555,
          0.9755555555555555,
          0.9766666666666667,
          0.9766666666666667,
          0.9777777777777777,
          0.9777777777777777,
          0.9788888888888889,
          0.9788888888888889,
          0.98,
          0.98,
          0.9811111111111112,
          0.9811111111111112,
          0.9822222222222222,
          0.9822222222222222,
          0.9833333333333333,
          0.9833333333333333,
          0.9844444444444445,
          0.9844444444444445,
          0.9855555555555555,
          0.9855555555555555,
          0.9866666666666667,
          0.9866666666666667,
          0.9877777777777778,
          0.9877777777777778,
          0.9888888888888889,
          0.9888888888888889,
          0.99,
          0.99,
          0.9911111111111112,
          0.9911111111111112,
          1
         ]
        },
        {
         "mode": "lines",
         "name": "Class 2 (AUC = 0.99)",
         "type": "scatter",
         "x": [
          0,
          0.0012698412698412698,
          0.0012698412698412698,
          0.0015873015873015873,
          0.0015873015873015873,
          0.0019047619047619048,
          0.0019047619047619048,
          0.0022222222222222222,
          0.0022222222222222222,
          0.0025396825396825397,
          0.0025396825396825397,
          0.002857142857142857,
          0.002857142857142857,
          0.003492063492063492,
          0.003492063492063492,
          0.0038095238095238095,
          0.0038095238095238095,
          0.004126984126984127,
          0.004126984126984127,
          0.0044444444444444444,
          0.0044444444444444444,
          0.004761904761904762,
          0.004761904761904762,
          0.005079365079365079,
          0.005079365079365079,
          0.005396825396825397,
          0.005396825396825397,
          0.005714285714285714,
          0.005714285714285714,
          0.006031746031746032,
          0.006031746031746032,
          0.006349206349206349,
          0.006349206349206349,
          0.006666666666666667,
          0.006666666666666667,
          0.006984126984126984,
          0.006984126984126984,
          0.007301587301587302,
          0.007301587301587302,
          0.007619047619047619,
          0.007619047619047619,
          0.007936507936507936,
          0.007936507936507936,
          0.008253968253968255,
          0.008253968253968255,
          0.009206349206349206,
          0.009206349206349206,
          0.009523809523809525,
          0.009523809523809525,
          0.009841269841269842,
          0.009841269841269842,
          0.010158730158730159,
          0.010158730158730159,
          0.010476190476190476,
          0.010476190476190476,
          0.010793650793650795,
          0.010793650793650795,
          0.011111111111111112,
          0.011111111111111112,
          0.011746031746031746,
          0.011746031746031746,
          0.012063492063492064,
          0.012063492063492064,
          0.012380952380952381,
          0.012380952380952381,
          0.012698412698412698,
          0.012698412698412698,
          0.013015873015873015,
          0.013015873015873015,
          0.013333333333333334,
          0.013333333333333334,
          0.013650793650793651,
          0.013650793650793651,
          0.013968253968253968,
          0.013968253968253968,
          0.014603174603174604,
          0.014603174603174604,
          0.014920634920634921,
          0.014920634920634921,
          0.015238095238095238,
          0.015238095238095238,
          0.015873015873015872,
          0.015873015873015872,
          0.01650793650793651,
          0.01650793650793651,
          0.017142857142857144,
          0.017142857142857144,
          0.017777777777777778,
          0.017777777777777778,
          0.01873015873015873,
          0.01873015873015873,
          0.01904761904761905,
          0.01904761904761905,
          0.02,
          0.02,
          0.020634920634920634,
          0.020634920634920634,
          0.02095238095238095,
          0.02095238095238095,
          0.02158730158730159,
          0.02158730158730159,
          0.022857142857142857,
          0.022857142857142857,
          0.02412698412698413,
          0.02412698412698413,
          0.024444444444444446,
          0.024444444444444446,
          0.024761904761904763,
          0.024761904761904763,
          0.025396825396825397,
          0.025396825396825397,
          0.025714285714285714,
          0.025714285714285714,
          0.026349206349206348,
          0.026349206349206348,
          0.026984126984126985,
          0.026984126984126985,
          0.028888888888888888,
          0.028888888888888888,
          0.029841269841269842,
          0.029841269841269842,
          0.03111111111111111,
          0.03111111111111111,
          0.03238095238095238,
          0.03238095238095238,
          0.035555555555555556,
          0.035555555555555556,
          0.035873015873015876,
          0.035873015873015876,
          0.03650793650793651,
          0.03650793650793651,
          0.037142857142857144,
          0.037142857142857144,
          0.03841269841269841,
          0.03841269841269841,
          0.040634920634920635,
          0.040634920634920635,
          0.044444444444444446,
          0.044444444444444446,
          0.04507936507936508,
          0.04507936507936508,
          0.04634920634920635,
          0.04634920634920635,
          0.0473015873015873,
          0.0473015873015873,
          0.047619047619047616,
          0.047619047619047616,
          0.049206349206349205,
          0.049206349206349205,
          0.05015873015873016,
          0.05015873015873016,
          0.054285714285714284,
          0.054285714285714284,
          0.05714285714285714,
          0.05714285714285714,
          0.06571428571428571,
          0.06571428571428571,
          0.06793650793650793,
          0.06793650793650793,
          0.06825396825396825,
          0.06825396825396825,
          0.06984126984126984,
          0.06984126984126984,
          0.07206349206349207,
          0.07206349206349207,
          0.07555555555555556,
          0.07555555555555556,
          0.0784126984126984,
          0.0784126984126984,
          0.08063492063492063,
          0.08063492063492063,
          0.08095238095238096,
          0.08095238095238096,
          0.08126984126984127,
          0.08126984126984127,
          0.08571428571428572,
          0.08571428571428572,
          0.08603174603174603,
          0.08603174603174603,
          0.08888888888888889,
          0.08888888888888889,
          0.08984126984126985,
          0.08984126984126985,
          0.09111111111111111,
          0.09111111111111111,
          0.09619047619047619,
          0.09619047619047619,
          0.09746031746031746,
          0.09746031746031746,
          0.09841269841269841,
          0.09841269841269841,
          0.10095238095238095,
          0.10095238095238095,
          0.10444444444444445,
          0.10444444444444445,
          0.10825396825396826,
          0.10825396825396826,
          0.11555555555555555,
          0.11555555555555555,
          0.12031746031746032,
          0.12031746031746032,
          0.13555555555555557,
          0.1361904761904762,
          0.14253968253968255,
          0.14253968253968255,
          0.1434920634920635,
          0.1434920634920635,
          0.15047619047619049,
          0.15047619047619049,
          0.16444444444444445,
          0.16444444444444445,
          0.17015873015873015,
          0.17015873015873015,
          0.20253968253968255,
          0.20253968253968255,
          0.2165079365079365,
          0.2165079365079365,
          0.22285714285714286,
          0.22285714285714286,
          0.24031746031746032,
          0.24095238095238095,
          0.2714285714285714,
          0.2714285714285714,
          0.2873015873015873,
          1
         ],
         "y": [
          0,
          0.5962962962962963,
          0.702962962962963,
          0.702962962962963,
          0.7214814814814815,
          0.7214814814814815,
          0.7459259259259259,
          0.7459259259259259,
          0.7525925925925926,
          0.7525925925925926,
          0.7577777777777778,
          0.7577777777777778,
          0.7666666666666667,
          0.7666666666666667,
          0.7888888888888889,
          0.7888888888888889,
          0.8051851851851852,
          0.8051851851851852,
          0.8066666666666666,
          0.8066666666666666,
          0.8148148148148148,
          0.8148148148148148,
          0.825925925925926,
          0.825925925925926,
          0.8274074074074074,
          0.8274074074074074,
          0.8311111111111111,
          0.8311111111111111,
          0.8340740740740741,
          0.8340740740740741,
          0.8362962962962963,
          0.8362962962962963,
          0.837037037037037,
          0.837037037037037,
          0.8481481481481481,
          0.8481481481481481,
          0.8488888888888889,
          0.8488888888888889,
          0.8525925925925926,
          0.8525925925925926,
          0.8562962962962963,
          0.8562962962962963,
          0.8614814814814815,
          0.8614814814814815,
          0.8622222222222222,
          0.8622222222222222,
          0.8644444444444445,
          0.8644444444444445,
          0.8651851851851852,
          0.8651851851851852,
          0.8674074074074074,
          0.8674074074074074,
          0.8711111111111111,
          0.8711111111111111,
          0.8718518518518519,
          0.8718518518518519,
          0.8748148148148148,
          0.8748148148148148,
          0.8770370370370371,
          0.8770370370370371,
          0.882962962962963,
          0.882962962962963,
          0.8903703703703704,
          0.8903703703703704,
          0.8977777777777778,
          0.8977777777777778,
          0.9,
          0.9,
          0.9044444444444445,
          0.9044444444444445,
          0.9059259259259259,
          0.9059259259259259,
          0.9096296296296297,
          0.9096296296296297,
          0.9125925925925926,
          0.9125925925925926,
          0.914074074074074,
          0.914074074074074,
          0.9155555555555556,
          0.9155555555555556,
          0.92,
          0.92,
          0.9214814814814815,
          0.9214814814814815,
          0.9222222222222223,
          0.9222222222222223,
          0.9237037037037037,
          0.9237037037037037,
          0.9251851851851852,
          0.9251851851851852,
          0.9281481481481482,
          0.9281481481481482,
          0.9288888888888889,
          0.9288888888888889,
          0.9311111111111111,
          0.9311111111111111,
          0.9325925925925926,
          0.9325925925925926,
          0.9333333333333333,
          0.9333333333333333,
          0.9340740740740741,
          0.9340740740740741,
          0.9348148148148148,
          0.9348148148148148,
          0.9355555555555556,
          0.9355555555555556,
          0.9377777777777778,
          0.9377777777777778,
          0.9422222222222222,
          0.9422222222222222,
          0.9437037037037037,
          0.9437037037037037,
          0.9451851851851852,
          0.9451851851851852,
          0.9466666666666667,
          0.9466666666666667,
          0.9474074074074074,
          0.9474074074074074,
          0.9496296296296296,
          0.9496296296296296,
          0.9511111111111111,
          0.9511111111111111,
          0.9525925925925925,
          0.9525925925925925,
          0.9533333333333334,
          0.9533333333333334,
          0.9540740740740741,
          0.9540740740740741,
          0.9555555555555556,
          0.9555555555555556,
          0.957037037037037,
          0.957037037037037,
          0.9585185185185185,
          0.9585185185185185,
          0.96,
          0.96,
          0.9607407407407408,
          0.9607407407407408,
          0.9614814814814815,
          0.9614814814814815,
          0.9622222222222222,
          0.9622222222222222,
          0.9637037037037037,
          0.9637037037037037,
          0.9644444444444444,
          0.9644444444444444,
          0.9651851851851851,
          0.9651851851851851,
          0.965925925925926,
          0.965925925925926,
          0.9666666666666667,
          0.9666666666666667,
          0.9674074074074074,
          0.9674074074074074,
          0.9681481481481482,
          0.9681481481481482,
          0.9688888888888889,
          0.9688888888888889,
          0.9696296296296296,
          0.9696296296296296,
          0.9703703703703703,
          0.9703703703703703,
          0.9711111111111111,
          0.9711111111111111,
          0.9718518518518519,
          0.9718518518518519,
          0.9725925925925926,
          0.9725925925925926,
          0.9733333333333334,
          0.9733333333333334,
          0.9748148148148148,
          0.9748148148148148,
          0.977037037037037,
          0.977037037037037,
          0.9777777777777777,
          0.9777777777777777,
          0.9785185185185186,
          0.9785185185185186,
          0.9792592592592593,
          0.9792592592592593,
          0.98,
          0.98,
          0.9807407407407407,
          0.9807407407407407,
          0.9814814814814815,
          0.9814814814814815,
          0.9822222222222222,
          0.9822222222222222,
          0.9829629629629629,
          0.9829629629629629,
          0.9837037037037037,
          0.9837037037037037,
          0.9851851851851852,
          0.9851851851851852,
          0.9859259259259259,
          0.9859259259259259,
          0.9874074074074074,
          0.9874074074074074,
          0.9881481481481481,
          0.9881481481481481,
          0.9888888888888889,
          0.9888888888888889,
          0.9888888888888889,
          0.9888888888888889,
          0.9896296296296296,
          0.9896296296296296,
          0.9911111111111112,
          0.9911111111111112,
          0.9918518518518519,
          0.9918518518518519,
          0.9925925925925926,
          0.9925925925925926,
          0.9933333333333333,
          0.9933333333333333,
          0.9940740740740741,
          0.9940740740740741,
          0.9948148148148148,
          0.9948148148148148,
          0.9955555555555555,
          0.9955555555555555,
          0.9955555555555555,
          0.9955555555555555,
          0.9962962962962963,
          0.9962962962962963,
          1
         ]
        },
        {
         "mode": "lines",
         "name": "Class 3 (AUC = 0.99)",
         "type": "scatter",
         "x": [
          0,
          0,
          0,
          0.0002469135802469136,
          0.0002469135802469136,
          0.0004938271604938272,
          0.0004938271604938272,
          0.0007407407407407407,
          0.0007407407407407407,
          0.0012345679012345679,
          0.0012345679012345679,
          0.0014814814814814814,
          0.0014814814814814814,
          0.0019753086419753087,
          0.0019753086419753087,
          0.0022222222222222222,
          0.0022222222222222222,
          0.0024691358024691358,
          0.0024691358024691358,
          0.0027160493827160493,
          0.0027160493827160493,
          0.002962962962962963,
          0.002962962962962963,
          0.0032098765432098763,
          0.0032098765432098763,
          0.003703703703703704,
          0.003703703703703704,
          0.003950617283950617,
          0.003950617283950617,
          0.004197530864197531,
          0.004197530864197531,
          0.0044444444444444444,
          0.0044444444444444444,
          0.004691358024691358,
          0.004691358024691358,
          0.005679012345679012,
          0.005679012345679012,
          0.005925925925925926,
          0.005925925925925926,
          0.006172839506172839,
          0.006172839506172839,
          0.006419753086419753,
          0.006419753086419753,
          0.006666666666666667,
          0.006666666666666667,
          0.006913580246913581,
          0.006913580246913581,
          0.007654320987654321,
          0.007654320987654321,
          0.007901234567901235,
          0.007901234567901235,
          0.008148148148148147,
          0.008148148148148147,
          0.008888888888888889,
          0.008888888888888889,
          0.009382716049382716,
          0.009382716049382716,
          0.00962962962962963,
          0.00962962962962963,
          0.009876543209876543,
          0.009876543209876543,
          0.010123456790123457,
          0.010123456790123457,
          0.01037037037037037,
          0.01037037037037037,
          0.010617283950617284,
          0.010617283950617284,
          0.010864197530864197,
          0.010864197530864197,
          0.011111111111111112,
          0.011111111111111112,
          0.011358024691358024,
          0.011358024691358024,
          0.012839506172839505,
          0.012839506172839505,
          0.013333333333333334,
          0.013333333333333334,
          0.013827160493827161,
          0.013827160493827161,
          0.014320987654320988,
          0.014320987654320988,
          0.015061728395061728,
          0.015061728395061728,
          0.01654320987654321,
          0.01654320987654321,
          0.018271604938271607,
          0.018271604938271607,
          0.01925925925925926,
          0.01925925925925926,
          0.01950617283950617,
          0.01950617283950617,
          0.020493827160493826,
          0.020493827160493826,
          0.02074074074074074,
          0.02074074074074074,
          0.020987654320987655,
          0.020987654320987655,
          0.022469135802469137,
          0.022469135802469137,
          0.024444444444444446,
          0.024444444444444446,
          0.0254320987654321,
          0.0254320987654321,
          0.025925925925925925,
          0.025925925925925925,
          0.027407407407407408,
          0.027407407407407408,
          0.032839506172839504,
          0.032839506172839504,
          0.03358024691358025,
          0.03358024691358025,
          0.041728395061728395,
          0.041728395061728395,
          0.04567901234567901,
          0.04567901234567901,
          0.047407407407407405,
          0.047407407407407405,
          0.055308641975308645,
          0.055308641975308645,
          0.05555555555555555,
          0.05555555555555555,
          0.05802469135802469,
          0.05802469135802469,
          0.062469135802469135,
          0.062469135802469135,
          0.06617283950617284,
          0.06617283950617284,
          0.08296296296296296,
          0.08296296296296296,
          0.0854320987654321,
          0.0854320987654321,
          0.08888888888888889,
          0.08888888888888889,
          0.09135802469135802,
          0.09135802469135802,
          0.09283950617283951,
          0.09283950617283951,
          0.12296296296296297,
          1
         ],
         "y": [
          0,
          0.3288888888888889,
          0.5222222222222223,
          0.5222222222222223,
          0.5466666666666666,
          0.5466666666666666,
          0.5866666666666667,
          0.5866666666666667,
          0.6488888888888888,
          0.6488888888888888,
          0.6666666666666666,
          0.6666666666666666,
          0.6755555555555556,
          0.6755555555555556,
          0.6822222222222222,
          0.6822222222222222,
          0.6911111111111111,
          0.6911111111111111,
          0.7066666666666667,
          0.7066666666666667,
          0.7111111111111111,
          0.7111111111111111,
          0.7133333333333334,
          0.7133333333333334,
          0.7222222222222222,
          0.7222222222222222,
          0.7244444444444444,
          0.7244444444444444,
          0.74,
          0.74,
          0.7422222222222222,
          0.7422222222222222,
          0.7511111111111111,
          0.7511111111111111,
          0.78,
          0.78,
          0.7933333333333333,
          0.7933333333333333,
          0.8044444444444444,
          0.8044444444444444,
          0.8066666666666666,
          0.8066666666666666,
          0.8111111111111111,
          0.8111111111111111,
          0.8177777777777778,
          0.8177777777777778,
          0.8266666666666667,
          0.8266666666666667,
          0.8288888888888889,
          0.8288888888888889,
          0.8311111111111111,
          0.8311111111111111,
          0.8377777777777777,
          0.8377777777777777,
          0.8422222222222222,
          0.8422222222222222,
          0.8488888888888889,
          0.8488888888888889,
          0.8555555555555555,
          0.8555555555555555,
          0.8688888888888889,
          0.8688888888888889,
          0.8711111111111111,
          0.8711111111111111,
          0.8755555555555555,
          0.8755555555555555,
          0.8844444444444445,
          0.8844444444444445,
          0.8955555555555555,
          0.8955555555555555,
          0.8977777777777778,
          0.8977777777777778,
          0.9,
          0.9,
          0.9022222222222223,
          0.9022222222222223,
          0.9044444444444445,
          0.9044444444444445,
          0.9088888888888889,
          0.9088888888888889,
          0.9133333333333333,
          0.9133333333333333,
          0.9155555555555556,
          0.9155555555555556,
          0.9177777777777778,
          0.9177777777777778,
          0.92,
          0.92,
          0.9222222222222223,
          0.9222222222222223,
          0.9266666666666666,
          0.9266666666666666,
          0.9288888888888889,
          0.9288888888888889,
          0.9311111111111111,
          0.9311111111111111,
          0.9333333333333333,
          0.9333333333333333,
          0.9355555555555556,
          0.9355555555555556,
          0.9377777777777778,
          0.9377777777777778,
          0.9444444444444444,
          0.9444444444444444,
          0.9466666666666667,
          0.9466666666666667,
          0.9488888888888889,
          0.9488888888888889,
          0.9511111111111111,
          0.9511111111111111,
          0.9533333333333334,
          0.9533333333333334,
          0.9555555555555556,
          0.9555555555555556,
          0.9577777777777777,
          0.9577777777777777,
          0.96,
          0.96,
          0.9622222222222222,
          0.9622222222222222,
          0.9644444444444444,
          0.9644444444444444,
          0.9666666666666667,
          0.9666666666666667,
          0.9688888888888889,
          0.9688888888888889,
          0.9711111111111111,
          0.9711111111111111,
          0.9733333333333334,
          0.9733333333333334,
          0.9755555555555555,
          0.9755555555555555,
          0.9777777777777777,
          0.9777777777777777,
          0.98,
          0.98,
          0.9822222222222222,
          0.9822222222222222,
          1
         ]
        },
        {
         "mode": "lines",
         "name": "Class 4 (AUC = 0.99)",
         "type": "scatter",
         "x": [
          0,
          0.000784313725490196,
          0.000784313725490196,
          0.0010457516339869282,
          0.0010457516339869282,
          0.00130718954248366,
          0.00130718954248366,
          0.001568627450980392,
          0.001568627450980392,
          0.0018300653594771241,
          0.0018300653594771241,
          0.0020915032679738564,
          0.0020915032679738564,
          0.002352941176470588,
          0.002352941176470588,
          0.00261437908496732,
          0.00261437908496732,
          0.002875816993464052,
          0.002875816993464052,
          0.003137254901960784,
          0.003137254901960784,
          0.0033986928104575162,
          0.0033986928104575162,
          0.0036601307189542483,
          0.0036601307189542483,
          0.00392156862745098,
          0.00392156862745098,
          0.0044444444444444444,
          0.0044444444444444444,
          0.0049673202614379085,
          0.0049673202614379085,
          0.00522875816993464,
          0.00522875816993464,
          0.005490196078431373,
          0.005490196078431373,
          0.005751633986928104,
          0.005751633986928104,
          0.006274509803921568,
          0.006274509803921568,
          0.0067973856209150325,
          0.0067973856209150325,
          0.007058823529411765,
          0.007058823529411765,
          0.007320261437908497,
          0.007320261437908497,
          0.00784313725490196,
          0.00784313725490196,
          0.008104575163398693,
          0.008104575163398693,
          0.008366013071895426,
          0.008366013071895426,
          0.008627450980392156,
          0.008627450980392156,
          0.009411764705882352,
          0.009411764705882352,
          0.009673202614379085,
          0.009673202614379085,
          0.009934640522875817,
          0.009934640522875817,
          0.01019607843137255,
          0.01019607843137255,
          0.01045751633986928,
          0.01045751633986928,
          0.010718954248366013,
          0.010718954248366013,
          0.011241830065359478,
          0.011241830065359478,
          0.011503267973856209,
          0.011503267973856209,
          0.013333333333333334,
          0.013333333333333334,
          0.014901960784313726,
          0.014901960784313726,
          0.016209150326797386,
          0.016209150326797386,
          0.01673202614379085,
          0.01673202614379085,
          0.01699346405228758,
          0.01699346405228758,
          0.017254901960784313,
          0.017254901960784313,
          0.017516339869281045,
          0.017516339869281045,
          0.018300653594771243,
          0.018300653594771243,
          0.01934640522875817,
          0.01934640522875817,
          0.022745098039215685,
          0.022745098039215685,
          0.023006535947712417,
          0.023006535947712417,
          0.02326797385620915,
          0.02326797385620915,
          0.023529411764705882,
          0.023529411764705882,
          0.024052287581699347,
          0.024052287581699347,
          0.024575163398692812,
          0.024575163398692812,
          0.02483660130718954,
          0.02483660130718954,
          0.025098039215686273,
          0.025098039215686273,
          0.02718954248366013,
          0.02718954248366013,
          0.027450980392156862,
          0.027450980392156862,
          0.027973856209150327,
          0.027973856209150327,
          0.02823529411764706,
          0.02823529411764706,
          0.02954248366013072,
          0.02954248366013072,
          0.02980392156862745,
          0.02980392156862745,
          0.03294117647058824,
          0.03294117647058824,
          0.03424836601307189,
          0.03424836601307189,
          0.03816993464052287,
          0.03816993464052287,
          0.04130718954248366,
          0.04130718954248366,
          0.04549019607843137,
          0.04549019607843137,
          0.052026143790849674,
          0.052026143790849674,
          0.05542483660130719,
          0.05542483660130719,
          0.057777777777777775,
          0.057777777777777775,
          0.06640522875816994,
          0.06640522875816994,
          0.07660130718954249,
          0.07660130718954249,
          0.10901960784313726,
          0.10901960784313726,
          0.12104575163398693,
          1
         ],
         "y": [
          0,
          0.46074074074074073,
          0.5407407407407407,
          0.5407407407407407,
          0.5525925925925926,
          0.5525925925925926,
          0.557037037037037,
          0.557037037037037,
          0.5733333333333334,
          0.5733333333333334,
          0.674074074074074,
          0.674074074074074,
          0.7511111111111111,
          0.7511111111111111,
          0.7525925925925926,
          0.7525925925925926,
          0.7748148148148148,
          0.7748148148148148,
          0.8059259259259259,
          0.8059259259259259,
          0.8118518518518518,
          0.8118518518518518,
          0.845925925925926,
          0.845925925925926,
          0.8518518518518519,
          0.8518518518518519,
          0.8577777777777778,
          0.8577777777777778,
          0.8607407407407407,
          0.8607407407407407,
          0.8666666666666667,
          0.8666666666666667,
          0.8681481481481481,
          0.8681481481481481,
          0.8740740740740741,
          0.8740740740740741,
          0.88,
          0.88,
          0.882962962962963,
          0.882962962962963,
          0.8844444444444445,
          0.8844444444444445,
          0.8874074074074074,
          0.8874074074074074,
          0.8888888888888888,
          0.8888888888888888,
          0.8933333333333333,
          0.8933333333333333,
          0.8948148148148148,
          0.8948148148148148,
          0.8992592592592593,
          0.8992592592592593,
          0.9081481481481481,
          0.9081481481481481,
          0.9111111111111111,
          0.9111111111111111,
          0.9125925925925926,
          0.9125925925925926,
          0.9155555555555556,
          0.9155555555555556,
          0.917037037037037,
          0.917037037037037,
          0.9185185185185185,
          0.9185185185185185,
          0.92,
          0.92,
          0.9214814814814815,
          0.9214814814814815,
          0.922962962962963,
          0.922962962962963,
          0.9244444444444444,
          0.9244444444444444,
          0.9259259259259259,
          0.9259259259259259,
          0.9274074074074075,
          0.9274074074074075,
          0.9348148148148148,
          0.9348148148148148,
          0.9362962962962963,
          0.9362962962962963,
          0.9422222222222222,
          0.9422222222222222,
          0.9437037037037037,
          0.9437037037037037,
          0.9466666666666667,
          0.9466666666666667,
          0.9481481481481482,
          0.9481481481481482,
          0.9511111111111111,
          0.9511111111111111,
          0.9525925925925925,
          0.9525925925925925,
          0.9540740740740741,
          0.9540740740740741,
          0.9555555555555556,
          0.9555555555555556,
          0.957037037037037,
          0.957037037037037,
          0.9585185185185185,
          0.9585185185185185,
          0.9614814814814815,
          0.9614814814814815,
          0.9629629629629629,
          0.9629629629629629,
          0.9644444444444444,
          0.9644444444444444,
          0.965925925925926,
          0.965925925925926,
          0.9688888888888889,
          0.9688888888888889,
          0.9718518518518519,
          0.9718518518518519,
          0.9733333333333334,
          0.9733333333333334,
          0.9748148148148148,
          0.9748148148148148,
          0.9762962962962963,
          0.9762962962962963,
          0.9777777777777777,
          0.9777777777777777,
          0.9837037037037037,
          0.9837037037037037,
          0.9851851851851852,
          0.9851851851851852,
          0.9866666666666667,
          0.9866666666666667,
          0.9881481481481481,
          0.9881481481481481,
          0.9896296296296296,
          0.9896296296296296,
          0.9911111111111112,
          0.9911111111111112,
          0.9925925925925926,
          0.9925925925925926,
          0.9940740740740741,
          0.9940740740740741,
          0.9955555555555555,
          0.9955555555555555,
          1
         ]
        },
        {
         "mode": "lines",
         "name": "Class 5 (AUC = 0.99)",
         "type": "scatter",
         "x": [
          0,
          0,
          0,
          0.00023391812865497077,
          0.00023391812865497077,
          0.00046783625730994154,
          0.00046783625730994154,
          0.0007017543859649122,
          0.0007017543859649122,
          0.0009356725146198831,
          0.0009356725146198831,
          0.0014035087719298245,
          0.0014035087719298245,
          0.0016374269005847953,
          0.0016374269005847953,
          0.0032748538011695906,
          0.0032748538011695906,
          0.0035087719298245615,
          0.0035087719298245615,
          0.003976608187134503,
          0.003976608187134503,
          0.004210526315789474,
          0.004210526315789474,
          0.004678362573099415,
          0.004678362573099415,
          0.005146198830409357,
          0.005146198830409357,
          0.005380116959064328,
          0.005380116959064328,
          0.00631578947368421,
          0.00631578947368421,
          0.006783625730994152,
          0.006783625730994152,
          0.007017543859649123,
          0.007017543859649123,
          0.008187134502923977,
          0.008187134502923977,
          0.008888888888888889,
          0.008888888888888889,
          0.009824561403508772,
          0.009824561403508772,
          0.010058479532163742,
          0.010058479532163742,
          0.01263157894736842,
          0.01263157894736842,
          0.013333333333333334,
          0.013333333333333334,
          0.013567251461988304,
          0.013567251461988304,
          0.017309941520467838,
          0.017309941520467838,
          0.018245614035087718,
          0.018245614035087718,
          0.020350877192982456,
          0.020350877192982456,
          0.02409356725146199,
          0.02409356725146199,
          0.02666666666666667,
          1
         ],
         "y": [
          0,
          0.29333333333333333,
          0.3244444444444444,
          0.3244444444444444,
          0.7244444444444444,
          0.7244444444444444,
          0.7866666666666666,
          0.7866666666666666,
          0.8133333333333334,
          0.8133333333333334,
          0.8266666666666667,
          0.8266666666666667,
          0.8711111111111111,
          0.8711111111111111,
          0.8755555555555555,
          0.8755555555555555,
          0.8844444444444445,
          0.8844444444444445,
          0.8888888888888888,
          0.8888888888888888,
          0.8933333333333333,
          0.8933333333333333,
          0.9066666666666666,
          0.9066666666666666,
          0.9111111111111111,
          0.9111111111111111,
          0.9155555555555556,
          0.9155555555555556,
          0.92,
          0.92,
          0.9244444444444444,
          0.9244444444444444,
          0.9288888888888889,
          0.9288888888888889,
          0.9333333333333333,
          0.9333333333333333,
          0.9377777777777778,
          0.9377777777777778,
          0.9422222222222222,
          0.9422222222222222,
          0.9466666666666667,
          0.9466666666666667,
          0.9511111111111111,
          0.9511111111111111,
          0.9555555555555556,
          0.9555555555555556,
          0.96,
          0.96,
          0.9644444444444444,
          0.9644444444444444,
          0.9688888888888889,
          0.9688888888888889,
          0.9733333333333334,
          0.9733333333333334,
          0.9777777777777777,
          0.9777777777777777,
          0.9822222222222222,
          0.9822222222222222,
          1
         ]
        },
        {
         "line": {
          "dash": "dash"
         },
         "mode": "lines",
         "name": "Chance",
         "type": "scatter",
         "x": [
          0,
          1
         ],
         "y": [
          0,
          1
         ]
        }
       ],
       "layout": {
        "height": 800,
        "legend": {
         "orientation": "h",
         "x": 1,
         "xanchor": "right",
         "y": 1.02,
         "yanchor": "bottom"
        },
        "showlegend": true,
        "template": {
         "data": {
          "bar": [
           {
            "error_x": {
             "color": "#2a3f5f"
            },
            "error_y": {
             "color": "#2a3f5f"
            },
            "marker": {
             "line": {
              "color": "#E5ECF6",
              "width": 0.5
             },
             "pattern": {
              "fillmode": "overlay",
              "size": 10,
              "solidity": 0.2
             }
            },
            "type": "bar"
           }
          ],
          "barpolar": [
           {
            "marker": {
             "line": {
              "color": "#E5ECF6",
              "width": 0.5
             },
             "pattern": {
              "fillmode": "overlay",
              "size": 10,
              "solidity": 0.2
             }
            },
            "type": "barpolar"
           }
          ],
          "carpet": [
           {
            "aaxis": {
             "endlinecolor": "#2a3f5f",
             "gridcolor": "white",
             "linecolor": "white",
             "minorgridcolor": "white",
             "startlinecolor": "#2a3f5f"
            },
            "baxis": {
             "endlinecolor": "#2a3f5f",
             "gridcolor": "white",
             "linecolor": "white",
             "minorgridcolor": "white",
             "startlinecolor": "#2a3f5f"
            },
            "type": "carpet"
           }
          ],
          "choropleth": [
           {
            "colorbar": {
             "outlinewidth": 0,
             "ticks": ""
            },
            "type": "choropleth"
           }
          ],
          "contour": [
           {
            "colorbar": {
             "outlinewidth": 0,
             "ticks": ""
            },
            "colorscale": [
             [
              0,
              "#0d0887"
             ],
             [
              0.1111111111111111,
              "#46039f"
             ],
             [
              0.2222222222222222,
              "#7201a8"
             ],
             [
              0.3333333333333333,
              "#9c179e"
             ],
             [
              0.4444444444444444,
              "#bd3786"
             ],
             [
              0.5555555555555556,
              "#d8576b"
             ],
             [
              0.6666666666666666,
              "#ed7953"
             ],
             [
              0.7777777777777778,
              "#fb9f3a"
             ],
             [
              0.8888888888888888,
              "#fdca26"
             ],
             [
              1,
              "#f0f921"
             ]
            ],
            "type": "contour"
           }
          ],
          "contourcarpet": [
           {
            "colorbar": {
             "outlinewidth": 0,
             "ticks": ""
            },
            "type": "contourcarpet"
           }
          ],
          "heatmap": [
           {
            "colorbar": {
             "outlinewidth": 0,
             "ticks": ""
            },
            "colorscale": [
             [
              0,
              "#0d0887"
             ],
             [
              0.1111111111111111,
              "#46039f"
             ],
             [
              0.2222222222222222,
              "#7201a8"
             ],
             [
              0.3333333333333333,
              "#9c179e"
             ],
             [
              0.4444444444444444,
              "#bd3786"
             ],
             [
              0.5555555555555556,
              "#d8576b"
             ],
             [
              0.6666666666666666,
              "#ed7953"
             ],
             [
              0.7777777777777778,
              "#fb9f3a"
             ],
             [
              0.8888888888888888,
              "#fdca26"
             ],
             [
              1,
              "#f0f921"
             ]
            ],
            "type": "heatmap"
           }
          ],
          "heatmapgl": [
           {
            "colorbar": {
             "outlinewidth": 0,
             "ticks": ""
            },
            "colorscale": [
             [
              0,
              "#0d0887"
             ],
             [
              0.1111111111111111,
              "#46039f"
             ],
             [
              0.2222222222222222,
              "#7201a8"
             ],
             [
              0.3333333333333333,
              "#9c179e"
             ],
             [
              0.4444444444444444,
              "#bd3786"
             ],
             [
              0.5555555555555556,
              "#d8576b"
             ],
             [
              0.6666666666666666,
              "#ed7953"
             ],
             [
              0.7777777777777778,
              "#fb9f3a"
             ],
             [
              0.8888888888888888,
              "#fdca26"
             ],
             [
              1,
              "#f0f921"
             ]
            ],
            "type": "heatmapgl"
           }
          ],
          "histogram": [
           {
            "marker": {
             "pattern": {
              "fillmode": "overlay",
              "size": 10,
              "solidity": 0.2
             }
            },
            "type": "histogram"
           }
          ],
          "histogram2d": [
           {
            "colorbar": {
             "outlinewidth": 0,
             "ticks": ""
            },
            "colorscale": [
             [
              0,
              "#0d0887"
             ],
             [
              0.1111111111111111,
              "#46039f"
             ],
             [
              0.2222222222222222,
              "#7201a8"
             ],
             [
              0.3333333333333333,
              "#9c179e"
             ],
             [
              0.4444444444444444,
              "#bd3786"
             ],
             [
              0.5555555555555556,
              "#d8576b"
             ],
             [
              0.6666666666666666,
              "#ed7953"
             ],
             [
              0.7777777777777778,
              "#fb9f3a"
             ],
             [
              0.8888888888888888,
              "#fdca26"
             ],
             [
              1,
              "#f0f921"
             ]
            ],
            "type": "histogram2d"
           }
          ],
          "histogram2dcontour": [
           {
            "colorbar": {
             "outlinewidth": 0,
             "ticks": ""
            },
            "colorscale": [
             [
              0,
              "#0d0887"
             ],
             [
              0.1111111111111111,
              "#46039f"
             ],
             [
              0.2222222222222222,
              "#7201a8"
             ],
             [
              0.3333333333333333,
              "#9c179e"
             ],
             [
              0.4444444444444444,
              "#bd3786"
             ],
             [
              0.5555555555555556,
              "#d8576b"
             ],
             [
              0.6666666666666666,
              "#ed7953"
             ],
             [
              0.7777777777777778,
              "#fb9f3a"
             ],
             [
              0.8888888888888888,
              "#fdca26"
             ],
             [
              1,
              "#f0f921"
             ]
            ],
            "type": "histogram2dcontour"
           }
          ],
          "mesh3d": [
           {
            "colorbar": {
             "outlinewidth": 0,
             "ticks": ""
            },
            "type": "mesh3d"
           }
          ],
          "parcoords": [
           {
            "line": {
             "colorbar": {
              "outlinewidth": 0,
              "ticks": ""
             }
            },
            "type": "parcoords"
           }
          ],
          "pie": [
           {
            "automargin": true,
            "type": "pie"
           }
          ],
          "scatter": [
           {
            "fillpattern": {
             "fillmode": "overlay",
             "size": 10,
             "solidity": 0.2
            },
            "type": "scatter"
           }
          ],
          "scatter3d": [
           {
            "line": {
             "colorbar": {
              "outlinewidth": 0,
              "ticks": ""
             }
            },
            "marker": {
             "colorbar": {
              "outlinewidth": 0,
              "ticks": ""
             }
            },
            "type": "scatter3d"
           }
          ],
          "scattercarpet": [
           {
            "marker": {
             "colorbar": {
              "outlinewidth": 0,
              "ticks": ""
             }
            },
            "type": "scattercarpet"
           }
          ],
          "scattergeo": [
           {
            "marker": {
             "colorbar": {
              "outlinewidth": 0,
              "ticks": ""
             }
            },
            "type": "scattergeo"
           }
          ],
          "scattergl": [
           {
            "marker": {
             "colorbar": {
              "outlinewidth": 0,
              "ticks": ""
             }
            },
            "type": "scattergl"
           }
          ],
          "scattermapbox": [
           {
            "marker": {
             "colorbar": {
              "outlinewidth": 0,
              "ticks": ""
             }
            },
            "type": "scattermapbox"
           }
          ],
          "scatterpolar": [
           {
            "marker": {
             "colorbar": {
              "outlinewidth": 0,
              "ticks": ""
             }
            },
            "type": "scatterpolar"
           }
          ],
          "scatterpolargl": [
           {
            "marker": {
             "colorbar": {
              "outlinewidth": 0,
              "ticks": ""
             }
            },
            "type": "scatterpolargl"
           }
          ],
          "scatterternary": [
           {
            "marker": {
             "colorbar": {
              "outlinewidth": 0,
              "ticks": ""
             }
            },
            "type": "scatterternary"
           }
          ],
          "surface": [
           {
            "colorbar": {
             "outlinewidth": 0,
             "ticks": ""
            },
            "colorscale": [
             [
              0,
              "#0d0887"
             ],
             [
              0.1111111111111111,
              "#46039f"
             ],
             [
              0.2222222222222222,
              "#7201a8"
             ],
             [
              0.3333333333333333,
              "#9c179e"
             ],
             [
              0.4444444444444444,
              "#bd3786"
             ],
             [
              0.5555555555555556,
              "#d8576b"
             ],
             [
              0.6666666666666666,
              "#ed7953"
             ],
             [
              0.7777777777777778,
              "#fb9f3a"
             ],
             [
              0.8888888888888888,
              "#fdca26"
             ],
             [
              1,
              "#f0f921"
             ]
            ],
            "type": "surface"
           }
          ],
          "table": [
           {
            "cells": {
             "fill": {
              "color": "#EBF0F8"
             },
             "line": {
              "color": "white"
             }
            },
            "header": {
             "fill": {
              "color": "#C8D4E3"
             },
             "line": {
              "color": "white"
             }
            },
            "type": "table"
           }
          ]
         },
         "layout": {
          "annotationdefaults": {
           "arrowcolor": "#2a3f5f",
           "arrowhead": 0,
           "arrowwidth": 1
          },
          "autotypenumbers": "strict",
          "coloraxis": {
           "colorbar": {
            "outlinewidth": 0,
            "ticks": ""
           }
          },
          "colorscale": {
           "diverging": [
            [
             0,
             "#8e0152"
            ],
            [
             0.1,
             "#c51b7d"
            ],
            [
             0.2,
             "#de77ae"
            ],
            [
             0.3,
             "#f1b6da"
            ],
            [
             0.4,
             "#fde0ef"
            ],
            [
             0.5,
             "#f7f7f7"
            ],
            [
             0.6,
             "#e6f5d0"
            ],
            [
             0.7,
             "#b8e186"
            ],
            [
             0.8,
             "#7fbc41"
            ],
            [
             0.9,
             "#4d9221"
            ],
            [
             1,
             "#276419"
            ]
           ],
           "sequential": [
            [
             0,
             "#0d0887"
            ],
            [
             0.1111111111111111,
             "#46039f"
            ],
            [
             0.2222222222222222,
             "#7201a8"
            ],
            [
             0.3333333333333333,
             "#9c179e"
            ],
            [
             0.4444444444444444,
             "#bd3786"
            ],
            [
             0.5555555555555556,
             "#d8576b"
            ],
            [
             0.6666666666666666,
             "#ed7953"
            ],
            [
             0.7777777777777778,
             "#fb9f3a"
            ],
            [
             0.8888888888888888,
             "#fdca26"
            ],
            [
             1,
             "#f0f921"
            ]
           ],
           "sequentialminus": [
            [
             0,
             "#0d0887"
            ],
            [
             0.1111111111111111,
             "#46039f"
            ],
            [
             0.2222222222222222,
             "#7201a8"
            ],
            [
             0.3333333333333333,
             "#9c179e"
            ],
            [
             0.4444444444444444,
             "#bd3786"
            ],
            [
             0.5555555555555556,
             "#d8576b"
            ],
            [
             0.6666666666666666,
             "#ed7953"
            ],
            [
             0.7777777777777778,
             "#fb9f3a"
            ],
            [
             0.8888888888888888,
             "#fdca26"
            ],
            [
             1,
             "#f0f921"
            ]
           ]
          },
          "colorway": [
           "#636efa",
           "#EF553B",
           "#00cc96",
           "#ab63fa",
           "#FFA15A",
           "#19d3f3",
           "#FF6692",
           "#B6E880",
           "#FF97FF",
           "#FECB52"
          ],
          "font": {
           "color": "#2a3f5f"
          },
          "geo": {
           "bgcolor": "white",
           "lakecolor": "white",
           "landcolor": "#E5ECF6",
           "showlakes": true,
           "showland": true,
           "subunitcolor": "white"
          },
          "hoverlabel": {
           "align": "left"
          },
          "hovermode": "closest",
          "mapbox": {
           "style": "light"
          },
          "paper_bgcolor": "white",
          "plot_bgcolor": "#E5ECF6",
          "polar": {
           "angularaxis": {
            "gridcolor": "white",
            "linecolor": "white",
            "ticks": ""
           },
           "bgcolor": "#E5ECF6",
           "radialaxis": {
            "gridcolor": "white",
            "linecolor": "white",
            "ticks": ""
           }
          },
          "scene": {
           "xaxis": {
            "backgroundcolor": "#E5ECF6",
            "gridcolor": "white",
            "gridwidth": 2,
            "linecolor": "white",
            "showbackground": true,
            "ticks": "",
            "zerolinecolor": "white"
           },
           "yaxis": {
            "backgroundcolor": "#E5ECF6",
            "gridcolor": "white",
            "gridwidth": 2,
            "linecolor": "white",
            "showbackground": true,
            "ticks": "",
            "zerolinecolor": "white"
           },
           "zaxis": {
            "backgroundcolor": "#E5ECF6",
            "gridcolor": "white",
            "gridwidth": 2,
            "linecolor": "white",
            "showbackground": true,
            "ticks": "",
            "zerolinecolor": "white"
           }
          },
          "shapedefaults": {
           "line": {
            "color": "#2a3f5f"
           }
          },
          "ternary": {
           "aaxis": {
            "gridcolor": "white",
            "linecolor": "white",
            "ticks": ""
           },
           "baxis": {
            "gridcolor": "white",
            "linecolor": "white",
            "ticks": ""
           },
           "bgcolor": "#E5ECF6",
           "caxis": {
            "gridcolor": "white",
            "linecolor": "white",
            "ticks": ""
           }
          },
          "title": {
           "x": 0.05
          },
          "xaxis": {
           "automargin": true,
           "gridcolor": "white",
           "linecolor": "white",
           "ticks": "",
           "title": {
            "standoff": 15
           },
           "zerolinecolor": "white",
           "zerolinewidth": 2
          },
          "yaxis": {
           "automargin": true,
           "gridcolor": "white",
           "linecolor": "white",
           "ticks": "",
           "title": {
            "standoff": 15
           },
           "zerolinecolor": "white",
           "zerolinewidth": 2
          }
         }
        },
        "title": {
         "text": "Multiclass ROC Curve"
        },
        "width": 1000,
        "xaxis": {
         "title": {
          "text": "False Positive Rate"
         }
        },
        "yaxis": {
         "title": {
          "text": "True Positive Rate"
         }
        }
       }
      }
     },
     "metadata": {},
     "output_type": "display_data"
    }
   ],
   "source": [
    "import plotly.graph_objs as go\n",
    "from sklearn.metrics import roc_curve, auc\n",
    "from sklearn.preprocessing import label_binarize\n",
    "from sklearn.model_selection import train_test_split\n",
    "from sklearn.neighbors import KNeighborsClassifier\n",
    "import numpy as np\n",
    "\n",
    "# Assicurati che Z_train, Z_test, t_train, e t_test siano definiti e che i tuoi dati siano già preelaborati\n",
    "# Z_train, Z_test, t_train, t_test = ...\n",
    "\n",
    "# Previsione delle probabilità per il set di test\n",
    "y_score = clf.predict_proba(X_test_norm)\n",
    "\n",
    "# Binarizza il vettore delle etichette in un formato \"one-vs-all\"\n",
    "y_test_binarize = label_binarize(y_test, classes=np.unique(y_train))\n",
    "\n",
    "# Calcola ROC curve e AUC per ciascuna classe\n",
    "fpr = dict()\n",
    "tpr = dict()\n",
    "roc_auc = dict()\n",
    "n_classes = y_score.shape[1]\n",
    "\n",
    "# Preparare i dati per il plot\n",
    "traces = []\n",
    "\n",
    "# Calcola la ROC curve per ogni classe\n",
    "for i in range(n_classes):\n",
    "    fpr[i], tpr[i], _ = roc_curve(y_test_binarize[:, i], y_score[:, i])\n",
    "    roc_auc[i] = auc(fpr[i], tpr[i])\n",
    "    traces.append(go.Scatter(x=fpr[i], y=tpr[i], mode='lines', \n",
    "                             name=f'Class {i} (AUC = {roc_auc[i]:.2f})'))\n",
    "\n",
    "# Aggiungi la linea diagonale che rappresenta il caso di \"indovinare casualmente\"\n",
    "traces.append(go.Scatter(x=[0, 1], y=[0, 1], mode='lines', name='Chance', \n",
    "                         line=dict(dash='dash')))\n",
    "\n",
    "# Crea il layout del plot\n",
    "layout = go.Layout(title='Multiclass ROC Curve',\n",
    "                   xaxis=dict(title='False Positive Rate'),\n",
    "                   yaxis=dict(title='True Positive Rate'),\n",
    "                   width=1000,\n",
    "                   height=800,\n",
    "                   showlegend=True,\n",
    "                   legend=dict(orientation=\"h\", yanchor=\"bottom\", y=1.02, xanchor=\"right\", x=1))\n",
    "\n",
    "fig = go.Figure(data=traces, layout=layout)\n",
    "fig.show()\n"
   ]
  }
 ],
 "metadata": {
  "kernelspec": {
   "display_name": "base",
   "language": "python",
   "name": "python3"
  },
  "language_info": {
   "codemirror_mode": {
    "name": "ipython",
    "version": 3
   },
   "file_extension": ".py",
   "mimetype": "text/x-python",
   "name": "python",
   "nbconvert_exporter": "python",
   "pygments_lexer": "ipython3",
   "version": "3.9.18"
  }
 },
 "nbformat": 4,
 "nbformat_minor": 2
}
