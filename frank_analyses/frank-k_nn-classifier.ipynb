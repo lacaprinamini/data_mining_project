{
 "cells": [
  {
   "cell_type": "code",
   "execution_count": 495,
   "metadata": {},
   "outputs": [],
   "source": [
    "import numpy as np\n",
    "import matplotlib.pyplot as plt\n",
    "import seaborn as sns\n",
    "import pandas as pd"
   ]
  },
  {
   "cell_type": "code",
   "execution_count": 496,
   "metadata": {},
   "outputs": [],
   "source": [
    "from sklearn.metrics import (\n",
    "    accuracy_score, \n",
    "    f1_score, \n",
    "    classification_report, \n",
    "    confusion_matrix, \n",
    "    roc_auc_score, \n",
    "    precision_score, \n",
    "    recall_score,\n",
    ")\n",
    "from scikitplot.metrics import plot_roc\n",
    "from scikitplot.metrics import plot_precision_recall"
   ]
  },
  {
   "cell_type": "code",
   "execution_count": 497,
   "metadata": {},
   "outputs": [],
   "source": [
    "df = pd.read_csv(\"../our_analyses/dataset_prepared.csv\")"
   ]
  },
  {
   "cell_type": "code",
   "execution_count": 498,
   "metadata": {},
   "outputs": [
    {
     "data": {
      "text/html": [
       "<div>\n",
       "<style scoped>\n",
       "    .dataframe tbody tr th:only-of-type {\n",
       "        vertical-align: middle;\n",
       "    }\n",
       "\n",
       "    .dataframe tbody tr th {\n",
       "        vertical-align: top;\n",
       "    }\n",
       "\n",
       "    .dataframe thead th {\n",
       "        text-align: right;\n",
       "    }\n",
       "</style>\n",
       "<table border=\"1\" class=\"dataframe\">\n",
       "  <thead>\n",
       "    <tr style=\"text-align: right;\">\n",
       "      <th></th>\n",
       "      <th>name</th>\n",
       "      <th>duration_ms</th>\n",
       "      <th>explicit</th>\n",
       "      <th>popularity</th>\n",
       "      <th>artists</th>\n",
       "      <th>album_name</th>\n",
       "      <th>danceability</th>\n",
       "      <th>energy</th>\n",
       "      <th>key</th>\n",
       "      <th>loudness</th>\n",
       "      <th>mode</th>\n",
       "      <th>speechiness</th>\n",
       "      <th>acousticness</th>\n",
       "      <th>instrumentalness</th>\n",
       "      <th>liveness</th>\n",
       "      <th>valence</th>\n",
       "      <th>tempo</th>\n",
       "      <th>time_signature</th>\n",
       "      <th>genre</th>\n",
       "    </tr>\n",
       "  </thead>\n",
       "  <tbody>\n",
       "    <tr>\n",
       "      <th>0</th>\n",
       "      <td>Love Came Down</td>\n",
       "      <td>293106</td>\n",
       "      <td>False</td>\n",
       "      <td>50</td>\n",
       "      <td>Kari Jobe</td>\n",
       "      <td>Where I Find You</td>\n",
       "      <td>0.401</td>\n",
       "      <td>0.683</td>\n",
       "      <td>8</td>\n",
       "      <td>-5.722</td>\n",
       "      <td>1</td>\n",
       "      <td>0.0401</td>\n",
       "      <td>0.181</td>\n",
       "      <td>0.000000</td>\n",
       "      <td>0.0837</td>\n",
       "      <td>0.226</td>\n",
       "      <td>135.951</td>\n",
       "      <td>4.0</td>\n",
       "      <td>afrobeat</td>\n",
       "    </tr>\n",
       "    <tr>\n",
       "      <th>1</th>\n",
       "      <td>PIMP</td>\n",
       "      <td>194972</td>\n",
       "      <td>False</td>\n",
       "      <td>52</td>\n",
       "      <td>Bacao Rhythm &amp; Steel Band</td>\n",
       "      <td>55</td>\n",
       "      <td>0.672</td>\n",
       "      <td>0.858</td>\n",
       "      <td>3</td>\n",
       "      <td>-5.233</td>\n",
       "      <td>1</td>\n",
       "      <td>0.1450</td>\n",
       "      <td>0.456</td>\n",
       "      <td>0.811000</td>\n",
       "      <td>0.1040</td>\n",
       "      <td>0.963</td>\n",
       "      <td>166.689</td>\n",
       "      <td>4.0</td>\n",
       "      <td>afrobeat</td>\n",
       "    </tr>\n",
       "    <tr>\n",
       "      <th>2</th>\n",
       "      <td>Soul Saxes Meeting</td>\n",
       "      <td>178428</td>\n",
       "      <td>False</td>\n",
       "      <td>22</td>\n",
       "      <td>Manu Dibango</td>\n",
       "      <td>African Voodoo</td>\n",
       "      <td>0.636</td>\n",
       "      <td>0.826</td>\n",
       "      <td>3</td>\n",
       "      <td>-7.486</td>\n",
       "      <td>1</td>\n",
       "      <td>0.0585</td>\n",
       "      <td>0.461</td>\n",
       "      <td>0.271000</td>\n",
       "      <td>0.1410</td>\n",
       "      <td>0.731</td>\n",
       "      <td>102.809</td>\n",
       "      <td>4.0</td>\n",
       "      <td>afrobeat</td>\n",
       "    </tr>\n",
       "    <tr>\n",
       "      <th>3</th>\n",
       "      <td>Reino Animal</td>\n",
       "      <td>238373</td>\n",
       "      <td>False</td>\n",
       "      <td>20</td>\n",
       "      <td>Los Amigos Invisibles</td>\n",
       "      <td>Repeat After Me</td>\n",
       "      <td>0.733</td>\n",
       "      <td>0.862</td>\n",
       "      <td>7</td>\n",
       "      <td>-5.813</td>\n",
       "      <td>1</td>\n",
       "      <td>0.0604</td>\n",
       "      <td>0.287</td>\n",
       "      <td>0.000532</td>\n",
       "      <td>0.4660</td>\n",
       "      <td>0.745</td>\n",
       "      <td>107.981</td>\n",
       "      <td>4.0</td>\n",
       "      <td>afrobeat</td>\n",
       "    </tr>\n",
       "    <tr>\n",
       "      <th>4</th>\n",
       "      <td>La luna de espejos</td>\n",
       "      <td>221893</td>\n",
       "      <td>False</td>\n",
       "      <td>22</td>\n",
       "      <td>Jorge Drexler</td>\n",
       "      <td>Sus primeras grabaciones 1992-1994 (La luz que...</td>\n",
       "      <td>0.712</td>\n",
       "      <td>0.225</td>\n",
       "      <td>5</td>\n",
       "      <td>-10.017</td>\n",
       "      <td>1</td>\n",
       "      <td>0.0533</td>\n",
       "      <td>0.930</td>\n",
       "      <td>0.001000</td>\n",
       "      <td>0.1230</td>\n",
       "      <td>0.429</td>\n",
       "      <td>87.520</td>\n",
       "      <td>4.0</td>\n",
       "      <td>afrobeat</td>\n",
       "    </tr>\n",
       "  </tbody>\n",
       "</table>\n",
       "</div>"
      ],
      "text/plain": [
       "                 name  duration_ms  explicit  popularity  \\\n",
       "0      Love Came Down       293106     False          50   \n",
       "1                PIMP       194972     False          52   \n",
       "2  Soul Saxes Meeting       178428     False          22   \n",
       "3        Reino Animal       238373     False          20   \n",
       "4  La luna de espejos       221893     False          22   \n",
       "\n",
       "                     artists  \\\n",
       "0                  Kari Jobe   \n",
       "1  Bacao Rhythm & Steel Band   \n",
       "2               Manu Dibango   \n",
       "3      Los Amigos Invisibles   \n",
       "4              Jorge Drexler   \n",
       "\n",
       "                                          album_name  danceability  energy  \\\n",
       "0                                   Where I Find You         0.401   0.683   \n",
       "1                                                 55         0.672   0.858   \n",
       "2                                     African Voodoo         0.636   0.826   \n",
       "3                                    Repeat After Me         0.733   0.862   \n",
       "4  Sus primeras grabaciones 1992-1994 (La luz que...         0.712   0.225   \n",
       "\n",
       "   key  loudness  mode  speechiness  acousticness  instrumentalness  liveness  \\\n",
       "0    8    -5.722     1       0.0401         0.181          0.000000    0.0837   \n",
       "1    3    -5.233     1       0.1450         0.456          0.811000    0.1040   \n",
       "2    3    -7.486     1       0.0585         0.461          0.271000    0.1410   \n",
       "3    7    -5.813     1       0.0604         0.287          0.000532    0.4660   \n",
       "4    5   -10.017     1       0.0533         0.930          0.001000    0.1230   \n",
       "\n",
       "   valence    tempo  time_signature     genre  \n",
       "0    0.226  135.951             4.0  afrobeat  \n",
       "1    0.963  166.689             4.0  afrobeat  \n",
       "2    0.731  102.809             4.0  afrobeat  \n",
       "3    0.745  107.981             4.0  afrobeat  \n",
       "4    0.429   87.520             4.0  afrobeat  "
      ]
     },
     "execution_count": 498,
     "metadata": {},
     "output_type": "execute_result"
    }
   ],
   "source": [
    "df.head()"
   ]
  },
  {
   "cell_type": "code",
   "execution_count": 499,
   "metadata": {},
   "outputs": [
    {
     "name": "stdout",
     "output_type": "stream",
     "text": [
      "[4 1 2 3 0 5 6]\n"
     ]
    }
   ],
   "source": [
    "from sklearn.preprocessing import LabelEncoder\n",
    "\n",
    "df=df.drop(['name', 'artists', 'album_name'], axis=1)\n",
    "\n",
    "genre_groups = {\n",
    "    'j-dance': 0, 'techno': 0, 'mandopop': 0, 'idm': 0, 'chicago-house': 0, 'breakbeat': 0,  # Elettronica/Dance\n",
    "    'black-metal': 1,  # Metal/Rock\n",
    "    'bluegrass': 2,  # Country/Folk\n",
    "    'j-idol': 3, 'spanish': 3, 'disney': 3, 'brazil': 3,  # Pop/Commerciale\n",
    "    'iranian': 4, 'afrobeat': 4, 'indian': 4, 'forro': 4,  # World\n",
    "    'happy': 5, 'sleep': 5, 'study': 5,  # Ambient/New Age\n",
    "    'industrial': 6  # Other\n",
    "}\n",
    "\n",
    "# Mappatura dei generi del dataframe ai gruppi di generi\n",
    "df['genre_group'] = df['genre'].map(genre_groups).astype(int)\n",
    "\n",
    "# Stampa del mapping dei generi ai numeri corrispondenti\n",
    "print(df['genre_group'].unique())\n",
    "\n",
    "le = LabelEncoder()\n",
    "df['explicit'] = le.fit_transform(df['explicit'])"
   ]
  },
  {
   "cell_type": "code",
   "execution_count": 500,
   "metadata": {},
   "outputs": [
    {
     "data": {
      "text/html": [
       "<div>\n",
       "<style scoped>\n",
       "    .dataframe tbody tr th:only-of-type {\n",
       "        vertical-align: middle;\n",
       "    }\n",
       "\n",
       "    .dataframe tbody tr th {\n",
       "        vertical-align: top;\n",
       "    }\n",
       "\n",
       "    .dataframe thead th {\n",
       "        text-align: right;\n",
       "    }\n",
       "</style>\n",
       "<table border=\"1\" class=\"dataframe\">\n",
       "  <thead>\n",
       "    <tr style=\"text-align: right;\">\n",
       "      <th></th>\n",
       "      <th>duration_ms</th>\n",
       "      <th>explicit</th>\n",
       "      <th>popularity</th>\n",
       "      <th>danceability</th>\n",
       "      <th>energy</th>\n",
       "      <th>key</th>\n",
       "      <th>loudness</th>\n",
       "      <th>mode</th>\n",
       "      <th>speechiness</th>\n",
       "      <th>acousticness</th>\n",
       "      <th>instrumentalness</th>\n",
       "      <th>liveness</th>\n",
       "      <th>valence</th>\n",
       "      <th>tempo</th>\n",
       "      <th>time_signature</th>\n",
       "      <th>genre</th>\n",
       "      <th>genre_group</th>\n",
       "    </tr>\n",
       "  </thead>\n",
       "  <tbody>\n",
       "    <tr>\n",
       "      <th>0</th>\n",
       "      <td>293106</td>\n",
       "      <td>0</td>\n",
       "      <td>50</td>\n",
       "      <td>0.401</td>\n",
       "      <td>0.683</td>\n",
       "      <td>8</td>\n",
       "      <td>-5.722</td>\n",
       "      <td>1</td>\n",
       "      <td>0.0401</td>\n",
       "      <td>0.181</td>\n",
       "      <td>0.000000</td>\n",
       "      <td>0.0837</td>\n",
       "      <td>0.226</td>\n",
       "      <td>135.951</td>\n",
       "      <td>4.0</td>\n",
       "      <td>afrobeat</td>\n",
       "      <td>4</td>\n",
       "    </tr>\n",
       "    <tr>\n",
       "      <th>1</th>\n",
       "      <td>194972</td>\n",
       "      <td>0</td>\n",
       "      <td>52</td>\n",
       "      <td>0.672</td>\n",
       "      <td>0.858</td>\n",
       "      <td>3</td>\n",
       "      <td>-5.233</td>\n",
       "      <td>1</td>\n",
       "      <td>0.1450</td>\n",
       "      <td>0.456</td>\n",
       "      <td>0.811000</td>\n",
       "      <td>0.1040</td>\n",
       "      <td>0.963</td>\n",
       "      <td>166.689</td>\n",
       "      <td>4.0</td>\n",
       "      <td>afrobeat</td>\n",
       "      <td>4</td>\n",
       "    </tr>\n",
       "    <tr>\n",
       "      <th>2</th>\n",
       "      <td>178428</td>\n",
       "      <td>0</td>\n",
       "      <td>22</td>\n",
       "      <td>0.636</td>\n",
       "      <td>0.826</td>\n",
       "      <td>3</td>\n",
       "      <td>-7.486</td>\n",
       "      <td>1</td>\n",
       "      <td>0.0585</td>\n",
       "      <td>0.461</td>\n",
       "      <td>0.271000</td>\n",
       "      <td>0.1410</td>\n",
       "      <td>0.731</td>\n",
       "      <td>102.809</td>\n",
       "      <td>4.0</td>\n",
       "      <td>afrobeat</td>\n",
       "      <td>4</td>\n",
       "    </tr>\n",
       "    <tr>\n",
       "      <th>3</th>\n",
       "      <td>238373</td>\n",
       "      <td>0</td>\n",
       "      <td>20</td>\n",
       "      <td>0.733</td>\n",
       "      <td>0.862</td>\n",
       "      <td>7</td>\n",
       "      <td>-5.813</td>\n",
       "      <td>1</td>\n",
       "      <td>0.0604</td>\n",
       "      <td>0.287</td>\n",
       "      <td>0.000532</td>\n",
       "      <td>0.4660</td>\n",
       "      <td>0.745</td>\n",
       "      <td>107.981</td>\n",
       "      <td>4.0</td>\n",
       "      <td>afrobeat</td>\n",
       "      <td>4</td>\n",
       "    </tr>\n",
       "    <tr>\n",
       "      <th>4</th>\n",
       "      <td>221893</td>\n",
       "      <td>0</td>\n",
       "      <td>22</td>\n",
       "      <td>0.712</td>\n",
       "      <td>0.225</td>\n",
       "      <td>5</td>\n",
       "      <td>-10.017</td>\n",
       "      <td>1</td>\n",
       "      <td>0.0533</td>\n",
       "      <td>0.930</td>\n",
       "      <td>0.001000</td>\n",
       "      <td>0.1230</td>\n",
       "      <td>0.429</td>\n",
       "      <td>87.520</td>\n",
       "      <td>4.0</td>\n",
       "      <td>afrobeat</td>\n",
       "      <td>4</td>\n",
       "    </tr>\n",
       "  </tbody>\n",
       "</table>\n",
       "</div>"
      ],
      "text/plain": [
       "   duration_ms  explicit  popularity  danceability  energy  key  loudness  \\\n",
       "0       293106         0          50         0.401   0.683    8    -5.722   \n",
       "1       194972         0          52         0.672   0.858    3    -5.233   \n",
       "2       178428         0          22         0.636   0.826    3    -7.486   \n",
       "3       238373         0          20         0.733   0.862    7    -5.813   \n",
       "4       221893         0          22         0.712   0.225    5   -10.017   \n",
       "\n",
       "   mode  speechiness  acousticness  instrumentalness  liveness  valence  \\\n",
       "0     1       0.0401         0.181          0.000000    0.0837    0.226   \n",
       "1     1       0.1450         0.456          0.811000    0.1040    0.963   \n",
       "2     1       0.0585         0.461          0.271000    0.1410    0.731   \n",
       "3     1       0.0604         0.287          0.000532    0.4660    0.745   \n",
       "4     1       0.0533         0.930          0.001000    0.1230    0.429   \n",
       "\n",
       "     tempo  time_signature     genre  genre_group  \n",
       "0  135.951             4.0  afrobeat            4  \n",
       "1  166.689             4.0  afrobeat            4  \n",
       "2  102.809             4.0  afrobeat            4  \n",
       "3  107.981             4.0  afrobeat            4  \n",
       "4   87.520             4.0  afrobeat            4  "
      ]
     },
     "execution_count": 500,
     "metadata": {},
     "output_type": "execute_result"
    }
   ],
   "source": [
    "df.head()"
   ]
  },
  {
   "cell_type": "code",
   "execution_count": 501,
   "metadata": {},
   "outputs": [],
   "source": [
    "X = df.values\n",
    "y = np.array(df['genre_group'])\n",
    "X = df.drop('genre_group', axis=1)\n",
    "X = df.drop('genre', axis=1)"
   ]
  },
  {
   "cell_type": "markdown",
   "metadata": {},
   "source": [
    "## Partitioning"
   ]
  },
  {
   "cell_type": "code",
   "execution_count": 502,
   "metadata": {},
   "outputs": [],
   "source": [
    "from sklearn.model_selection import train_test_split\n",
    "\n",
    "random_state = 0"
   ]
  },
  {
   "cell_type": "code",
   "execution_count": 503,
   "metadata": {},
   "outputs": [],
   "source": [
    "X_train, X_test, y_train, y_test = train_test_split(\n",
    "    X, y, test_size=0.3, stratify=y, random_state=random_state\n",
    ")"
   ]
  },
  {
   "cell_type": "markdown",
   "metadata": {},
   "source": [
    "## normalization"
   ]
  },
  {
   "cell_type": "code",
   "execution_count": 504,
   "metadata": {},
   "outputs": [],
   "source": [
    "from sklearn.preprocessing import StandardScaler"
   ]
  },
  {
   "cell_type": "code",
   "execution_count": 505,
   "metadata": {},
   "outputs": [],
   "source": [
    "norm = StandardScaler()\n",
    "norm.fit(X_train)\n",
    "\n",
    "X_train_norm = norm.transform(X_train)\n",
    "X_test_norm = norm.transform(X_test)"
   ]
  },
  {
   "cell_type": "markdown",
   "metadata": {},
   "source": [
    "## K-NN"
   ]
  },
  {
   "cell_type": "code",
   "execution_count": 506,
   "metadata": {},
   "outputs": [],
   "source": [
    "from sklearn.neighbors import KNeighborsClassifier"
   ]
  },
  {
   "cell_type": "code",
   "execution_count": 507,
   "metadata": {},
   "outputs": [
    {
     "data": {
      "text/html": [
       "<style>#sk-container-id-15 {color: black;}#sk-container-id-15 pre{padding: 0;}#sk-container-id-15 div.sk-toggleable {background-color: white;}#sk-container-id-15 label.sk-toggleable__label {cursor: pointer;display: block;width: 100%;margin-bottom: 0;padding: 0.3em;box-sizing: border-box;text-align: center;}#sk-container-id-15 label.sk-toggleable__label-arrow:before {content: \"▸\";float: left;margin-right: 0.25em;color: #696969;}#sk-container-id-15 label.sk-toggleable__label-arrow:hover:before {color: black;}#sk-container-id-15 div.sk-estimator:hover label.sk-toggleable__label-arrow:before {color: black;}#sk-container-id-15 div.sk-toggleable__content {max-height: 0;max-width: 0;overflow: hidden;text-align: left;background-color: #f0f8ff;}#sk-container-id-15 div.sk-toggleable__content pre {margin: 0.2em;color: black;border-radius: 0.25em;background-color: #f0f8ff;}#sk-container-id-15 input.sk-toggleable__control:checked~div.sk-toggleable__content {max-height: 200px;max-width: 100%;overflow: auto;}#sk-container-id-15 input.sk-toggleable__control:checked~label.sk-toggleable__label-arrow:before {content: \"▾\";}#sk-container-id-15 div.sk-estimator input.sk-toggleable__control:checked~label.sk-toggleable__label {background-color: #d4ebff;}#sk-container-id-15 div.sk-label input.sk-toggleable__control:checked~label.sk-toggleable__label {background-color: #d4ebff;}#sk-container-id-15 input.sk-hidden--visually {border: 0;clip: rect(1px 1px 1px 1px);clip: rect(1px, 1px, 1px, 1px);height: 1px;margin: -1px;overflow: hidden;padding: 0;position: absolute;width: 1px;}#sk-container-id-15 div.sk-estimator {font-family: monospace;background-color: #f0f8ff;border: 1px dotted black;border-radius: 0.25em;box-sizing: border-box;margin-bottom: 0.5em;}#sk-container-id-15 div.sk-estimator:hover {background-color: #d4ebff;}#sk-container-id-15 div.sk-parallel-item::after {content: \"\";width: 100%;border-bottom: 1px solid gray;flex-grow: 1;}#sk-container-id-15 div.sk-label:hover label.sk-toggleable__label {background-color: #d4ebff;}#sk-container-id-15 div.sk-serial::before {content: \"\";position: absolute;border-left: 1px solid gray;box-sizing: border-box;top: 0;bottom: 0;left: 50%;z-index: 0;}#sk-container-id-15 div.sk-serial {display: flex;flex-direction: column;align-items: center;background-color: white;padding-right: 0.2em;padding-left: 0.2em;position: relative;}#sk-container-id-15 div.sk-item {position: relative;z-index: 1;}#sk-container-id-15 div.sk-parallel {display: flex;align-items: stretch;justify-content: center;background-color: white;position: relative;}#sk-container-id-15 div.sk-item::before, #sk-container-id-15 div.sk-parallel-item::before {content: \"\";position: absolute;border-left: 1px solid gray;box-sizing: border-box;top: 0;bottom: 0;left: 50%;z-index: -1;}#sk-container-id-15 div.sk-parallel-item {display: flex;flex-direction: column;z-index: 1;position: relative;background-color: white;}#sk-container-id-15 div.sk-parallel-item:first-child::after {align-self: flex-end;width: 50%;}#sk-container-id-15 div.sk-parallel-item:last-child::after {align-self: flex-start;width: 50%;}#sk-container-id-15 div.sk-parallel-item:only-child::after {width: 0;}#sk-container-id-15 div.sk-dashed-wrapped {border: 1px dashed gray;margin: 0 0.4em 0.5em 0.4em;box-sizing: border-box;padding-bottom: 0.4em;background-color: white;}#sk-container-id-15 div.sk-label label {font-family: monospace;font-weight: bold;display: inline-block;line-height: 1.2em;}#sk-container-id-15 div.sk-label-container {text-align: center;}#sk-container-id-15 div.sk-container {/* jupyter's `normalize.less` sets `[hidden] { display: none; }` but bootstrap.min.css set `[hidden] { display: none !important; }` so we also need the `!important` here to be able to override the default hidden behavior on the sphinx rendered scikit-learn.org. See: https://github.com/scikit-learn/scikit-learn/issues/21755 */display: inline-block !important;position: relative;}#sk-container-id-15 div.sk-text-repr-fallback {display: none;}</style><div id=\"sk-container-id-15\" class=\"sk-top-container\"><div class=\"sk-text-repr-fallback\"><pre>KNeighborsClassifier(metric=&#x27;cityblock&#x27;, weights=&#x27;distance&#x27;)</pre><b>In a Jupyter environment, please rerun this cell to show the HTML representation or trust the notebook. <br />On GitHub, the HTML representation is unable to render, please try loading this page with nbviewer.org.</b></div><div class=\"sk-container\" hidden><div class=\"sk-item\"><div class=\"sk-estimator sk-toggleable\"><input class=\"sk-toggleable__control sk-hidden--visually\" id=\"sk-estimator-id-15\" type=\"checkbox\" checked><label for=\"sk-estimator-id-15\" class=\"sk-toggleable__label sk-toggleable__label-arrow\">KNeighborsClassifier</label><div class=\"sk-toggleable__content\"><pre>KNeighborsClassifier(metric=&#x27;cityblock&#x27;, weights=&#x27;distance&#x27;)</pre></div></div></div></div></div>"
      ],
      "text/plain": [
       "KNeighborsClassifier(metric='cityblock', weights='distance')"
      ]
     },
     "execution_count": 507,
     "metadata": {},
     "output_type": "execute_result"
    }
   ],
   "source": [
    "clf = KNeighborsClassifier(n_neighbors=5, metric=\"cityblock\", weights=\"distance\")\n",
    "clf.fit(X_train_norm, y_train)"
   ]
  },
  {
   "cell_type": "code",
   "execution_count": 508,
   "metadata": {},
   "outputs": [
    {
     "data": {
      "text/plain": [
       "array([0, 0, 4, ..., 6, 0, 0])"
      ]
     },
     "execution_count": 508,
     "metadata": {},
     "output_type": "execute_result"
    }
   ],
   "source": [
    "y_test_pred = clf.predict(X_test_norm)\n",
    "y_test_pred"
   ]
  },
  {
   "cell_type": "code",
   "execution_count": 509,
   "metadata": {},
   "outputs": [],
   "source": [
    "from sklearn.model_selection import learning_curve"
   ]
  },
  {
   "cell_type": "code",
   "execution_count": 510,
   "metadata": {},
   "outputs": [
    {
     "data": {
      "image/png": "[encoded data removed]",
      "text/plain": [
       "<Figure size 1000x600 with 1 Axes>"
      ]
     },
     "metadata": {},
     "output_type": "display_data"
    }
   ],
   "source": [
    "train_sizes = np.linspace(0.1, 1.0, 10)\n",
    "\n",
    "# Utilizza l'oggetto classificatore 'clf' che hai definito nel tuo screenshot\n",
    "estimator=clf\n",
    "\n",
    "X = df.drop('genre_group', axis=1)\n",
    "\n",
    "X = df.drop('genre', axis=1)\n",
    "y = df['genre_group']\n",
    "\n",
    "# Normalizza l'intero dataset prima di passarlo alla funzione 'learning_curve'\n",
    "scaler = StandardScaler()\n",
    "X_norm = scaler.fit_transform(X)\n",
    "\n",
    "# Ora puoi utilizzare 'X_norm' e 'y' nella funzione 'learning_curve'\n",
    "train_sizes, train_scores, test_scores = learning_curve(\n",
    "    estimator=clf, X=X_norm, y=y, train_sizes=train_sizes, cv=10,\n",
    "    scoring='accuracy', n_jobs=-1, shuffle=True, random_state=0\n",
    ")\n",
    "\n",
    "\n",
    "# Calcola la media e la deviazione standard dell'accuratezza del training set\n",
    "train_mean = np.mean(train_scores, axis=1)\n",
    "train_std = np.std(train_scores, axis=1)\n",
    "\n",
    "# Calcola la media e la deviazione standard dell'accuratezza del test set\n",
    "test_mean = np.mean(test_scores, axis=1)\n",
    "test_std = np.std(test_scores, axis=1)\n",
    "\n",
    "# Plotta la curva di apprendimento\n",
    "plt.figure(figsize=(10, 6))\n",
    "plt.plot(train_sizes, train_mean, 'o-', color='blue', label='Training accuracy')\n",
    "plt.plot(train_sizes, test_mean, 'o-', color='green', label='Validation accuracy')\n",
    "plt.fill_between(train_sizes, train_mean - train_std, train_mean + train_std, color='blue', alpha=0.1)\n",
    "plt.fill_between(train_sizes, test_mean - test_std, test_mean + test_std, color='green', alpha=0.1)\n",
    "\n",
    "# Calcola la dimensione del set di addestramento al punto di partizionamento\n",
    "# Presumendo che 'X' sia il tuo intero set di dati e y il vettore target\n",
    "partition_point = len(X) * 0.6\n",
    "\n",
    "# Aggiungi la linea verticale\n",
    "plt.axvline(x=partition_point, color='red', linestyle='--', label='60% Training Data Cut-off')\n",
    "\n",
    "plt.title('Learning Curve for k-NN Classifier')\n",
    "plt.xlabel('Training Data Size')\n",
    "plt.ylabel('Accuracy')\n",
    "plt.legend(loc='best')\n",
    "plt.grid()\n",
    "plt.show()"
   ]
  }
 ],
 "metadata": {
  "kernelspec": {
   "display_name": "base",
   "language": "python",
   "name": "python3"
  },
  "language_info": {
   "codemirror_mode": {
    "name": "ipython",
    "version": 3
   },
   "file_extension": ".py",
   "mimetype": "text/x-python",
   "name": "python",
   "nbconvert_exporter": "python",
   "pygments_lexer": "ipython3",
   "version": "3.9.18"
  }
 },
 "nbformat": 4,
 "nbformat_minor": 2
}
