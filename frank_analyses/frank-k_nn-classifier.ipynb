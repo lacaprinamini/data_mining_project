{
 "cells": [
  {
   "cell_type": "code",
   "execution_count": 515,
   "metadata": {},
   "outputs": [],
   "source": [
    "import numpy as np\n",
    "import matplotlib.pyplot as plt\n",
    "import seaborn as sns\n",
    "import pandas as pd"
   ]
  },
  {
   "cell_type": "code",
   "execution_count": 516,
   "metadata": {},
   "outputs": [],
   "source": [
    "from sklearn.metrics import (\n",
    "    accuracy_score, \n",
    "    f1_score, \n",
    "    classification_report, \n",
    "    confusion_matrix, \n",
    "    roc_auc_score, \n",
    "    precision_score, \n",
    "    recall_score,\n",
    ")\n",
    "from scikitplot.metrics import plot_roc\n",
    "from scikitplot.metrics import plot_precision_recall"
   ]
  },
  {
   "cell_type": "code",
   "execution_count": 517,
   "metadata": {},
   "outputs": [],
   "source": [
    "df = pd.read_csv(\"../our_analyses/dataset_prepared.csv\")"
   ]
  },
  {
   "cell_type": "code",
   "execution_count": 518,
   "metadata": {},
   "outputs": [
    {
     "data": {
      "text/html": [
       "<div>\n",
       "<style scoped>\n",
       "    .dataframe tbody tr th:only-of-type {\n",
       "        vertical-align: middle;\n",
       "    }\n",
       "\n",
       "    .dataframe tbody tr th {\n",
       "        vertical-align: top;\n",
       "    }\n",
       "\n",
       "    .dataframe thead th {\n",
       "        text-align: right;\n",
       "    }\n",
       "</style>\n",
       "<table border=\"1\" class=\"dataframe\">\n",
       "  <thead>\n",
       "    <tr style=\"text-align: right;\">\n",
       "      <th></th>\n",
       "      <th>name</th>\n",
       "      <th>duration_ms</th>\n",
       "      <th>explicit</th>\n",
       "      <th>popularity</th>\n",
       "      <th>artists</th>\n",
       "      <th>album_name</th>\n",
       "      <th>danceability</th>\n",
       "      <th>energy</th>\n",
       "      <th>key</th>\n",
       "      <th>loudness</th>\n",
       "      <th>mode</th>\n",
       "      <th>speechiness</th>\n",
       "      <th>acousticness</th>\n",
       "      <th>instrumentalness</th>\n",
       "      <th>liveness</th>\n",
       "      <th>valence</th>\n",
       "      <th>tempo</th>\n",
       "      <th>time_signature</th>\n",
       "      <th>genre</th>\n",
       "    </tr>\n",
       "  </thead>\n",
       "  <tbody>\n",
       "    <tr>\n",
       "      <th>0</th>\n",
       "      <td>Love Came Down</td>\n",
       "      <td>293106</td>\n",
       "      <td>False</td>\n",
       "      <td>50</td>\n",
       "      <td>Kari Jobe</td>\n",
       "      <td>Where I Find You</td>\n",
       "      <td>0.401</td>\n",
       "      <td>0.683</td>\n",
       "      <td>8</td>\n",
       "      <td>-5.722</td>\n",
       "      <td>1</td>\n",
       "      <td>0.0401</td>\n",
       "      <td>0.181</td>\n",
       "      <td>0.000000</td>\n",
       "      <td>0.0837</td>\n",
       "      <td>0.226</td>\n",
       "      <td>135.951</td>\n",
       "      <td>4.0</td>\n",
       "      <td>afrobeat</td>\n",
       "    </tr>\n",
       "    <tr>\n",
       "      <th>1</th>\n",
       "      <td>PIMP</td>\n",
       "      <td>194972</td>\n",
       "      <td>False</td>\n",
       "      <td>52</td>\n",
       "      <td>Bacao Rhythm &amp; Steel Band</td>\n",
       "      <td>55</td>\n",
       "      <td>0.672</td>\n",
       "      <td>0.858</td>\n",
       "      <td>3</td>\n",
       "      <td>-5.233</td>\n",
       "      <td>1</td>\n",
       "      <td>0.1450</td>\n",
       "      <td>0.456</td>\n",
       "      <td>0.811000</td>\n",
       "      <td>0.1040</td>\n",
       "      <td>0.963</td>\n",
       "      <td>166.689</td>\n",
       "      <td>4.0</td>\n",
       "      <td>afrobeat</td>\n",
       "    </tr>\n",
       "    <tr>\n",
       "      <th>2</th>\n",
       "      <td>Soul Saxes Meeting</td>\n",
       "      <td>178428</td>\n",
       "      <td>False</td>\n",
       "      <td>22</td>\n",
       "      <td>Manu Dibango</td>\n",
       "      <td>African Voodoo</td>\n",
       "      <td>0.636</td>\n",
       "      <td>0.826</td>\n",
       "      <td>3</td>\n",
       "      <td>-7.486</td>\n",
       "      <td>1</td>\n",
       "      <td>0.0585</td>\n",
       "      <td>0.461</td>\n",
       "      <td>0.271000</td>\n",
       "      <td>0.1410</td>\n",
       "      <td>0.731</td>\n",
       "      <td>102.809</td>\n",
       "      <td>4.0</td>\n",
       "      <td>afrobeat</td>\n",
       "    </tr>\n",
       "    <tr>\n",
       "      <th>3</th>\n",
       "      <td>Reino Animal</td>\n",
       "      <td>238373</td>\n",
       "      <td>False</td>\n",
       "      <td>20</td>\n",
       "      <td>Los Amigos Invisibles</td>\n",
       "      <td>Repeat After Me</td>\n",
       "      <td>0.733</td>\n",
       "      <td>0.862</td>\n",
       "      <td>7</td>\n",
       "      <td>-5.813</td>\n",
       "      <td>1</td>\n",
       "      <td>0.0604</td>\n",
       "      <td>0.287</td>\n",
       "      <td>0.000532</td>\n",
       "      <td>0.4660</td>\n",
       "      <td>0.745</td>\n",
       "      <td>107.981</td>\n",
       "      <td>4.0</td>\n",
       "      <td>afrobeat</td>\n",
       "    </tr>\n",
       "    <tr>\n",
       "      <th>4</th>\n",
       "      <td>La luna de espejos</td>\n",
       "      <td>221893</td>\n",
       "      <td>False</td>\n",
       "      <td>22</td>\n",
       "      <td>Jorge Drexler</td>\n",
       "      <td>Sus primeras grabaciones 1992-1994 (La luz que...</td>\n",
       "      <td>0.712</td>\n",
       "      <td>0.225</td>\n",
       "      <td>5</td>\n",
       "      <td>-10.017</td>\n",
       "      <td>1</td>\n",
       "      <td>0.0533</td>\n",
       "      <td>0.930</td>\n",
       "      <td>0.001000</td>\n",
       "      <td>0.1230</td>\n",
       "      <td>0.429</td>\n",
       "      <td>87.520</td>\n",
       "      <td>4.0</td>\n",
       "      <td>afrobeat</td>\n",
       "    </tr>\n",
       "  </tbody>\n",
       "</table>\n",
       "</div>"
      ],
      "text/plain": [
       "                 name  duration_ms  explicit  popularity  \\\n",
       "0      Love Came Down       293106     False          50   \n",
       "1                PIMP       194972     False          52   \n",
       "2  Soul Saxes Meeting       178428     False          22   \n",
       "3        Reino Animal       238373     False          20   \n",
       "4  La luna de espejos       221893     False          22   \n",
       "\n",
       "                     artists  \\\n",
       "0                  Kari Jobe   \n",
       "1  Bacao Rhythm & Steel Band   \n",
       "2               Manu Dibango   \n",
       "3      Los Amigos Invisibles   \n",
       "4              Jorge Drexler   \n",
       "\n",
       "                                          album_name  danceability  energy  \\\n",
       "0                                   Where I Find You         0.401   0.683   \n",
       "1                                                 55         0.672   0.858   \n",
       "2                                     African Voodoo         0.636   0.826   \n",
       "3                                    Repeat After Me         0.733   0.862   \n",
       "4  Sus primeras grabaciones 1992-1994 (La luz que...         0.712   0.225   \n",
       "\n",
       "   key  loudness  mode  speechiness  acousticness  instrumentalness  liveness  \\\n",
       "0    8    -5.722     1       0.0401         0.181          0.000000    0.0837   \n",
       "1    3    -5.233     1       0.1450         0.456          0.811000    0.1040   \n",
       "2    3    -7.486     1       0.0585         0.461          0.271000    0.1410   \n",
       "3    7    -5.813     1       0.0604         0.287          0.000532    0.4660   \n",
       "4    5   -10.017     1       0.0533         0.930          0.001000    0.1230   \n",
       "\n",
       "   valence    tempo  time_signature     genre  \n",
       "0    0.226  135.951             4.0  afrobeat  \n",
       "1    0.963  166.689             4.0  afrobeat  \n",
       "2    0.731  102.809             4.0  afrobeat  \n",
       "3    0.745  107.981             4.0  afrobeat  \n",
       "4    0.429   87.520             4.0  afrobeat  "
      ]
     },
     "execution_count": 518,
     "metadata": {},
     "output_type": "execute_result"
    }
   ],
   "source": [
    "df.head()"
   ]
  },
  {
   "cell_type": "code",
   "execution_count": 519,
   "metadata": {},
   "outputs": [
    {
     "name": "stdout",
     "output_type": "stream",
     "text": [
      "[2 0 4 1 6 7 3 5]\n"
     ]
    }
   ],
   "source": [
    "from sklearn.preprocessing import LabelEncoder\n",
    "\n",
    "df=df.drop(['name', 'artists', 'album_name'], axis=1)\n",
    "\n",
    "# genre_groups = {\n",
    "#     'j-dance': 0, 'techno': 0, 'mandopop': 0, 'idm': 0, 'chicago-house': 0, 'breakbeat': 0,  # Elettronica/Dance\n",
    "#     'black-metal': 1,  # Metal/Rock\n",
    "#     'bluegrass': 2,  # Country/Folk\n",
    "#     'j-idol': 3, 'spanish': 3, 'disney': 3, 'brazil': 3,  # Pop/Commerciale\n",
    "#     'iranian': 4, 'afrobeat': 4, 'indian': 4, 'forro': 4,  # World\n",
    "#     'happy': 5, 'sleep': 5, 'study': 5,  # Ambient/New Age\n",
    "#     'industrial': 6  # Other\n",
    "# }\n",
    "genre_groups = {\n",
    "    # Energetic and Intense Rhythms\n",
    "    'black-metal': 0, 'industrial': 0,  # Metal and Related\n",
    "    'breakbeat': 1, 'techno': 1, 'chicago-house': 1,  # Intense Electronic\n",
    "\n",
    "    # Traditional and Regional Rhythms\n",
    "    'afrobeat': 2, 'brazil': 2, 'forro': 2, 'iranian': 2, 'spanish': 2,  # Traditional and Regional Music\n",
    "    'j-dance': 3, 'j-idol': 3, 'mandopop': 3,  # Asian Pop\n",
    "\n",
    "    # Acoustic and Instrumental Music\n",
    "    'bluegrass': 4,  # Bluegrass and Related\n",
    "    'study': 5, 'sleep': 5,  # Music for Concentration (though \"sleep\" might be more ambient)\n",
    "\n",
    "    # Cross-Cultural or Niche Genres\n",
    "    'idm': 6, 'disney':6, 'happy': 6,  # Experimental and Niche\n",
    "    'indian': 7  # Indian (which can vary but often has a distinct set of rhythmic and melodic features)\n",
    "}\n",
    "genre_labels = ['Metal and Related', 'Metal/Rock', 'Country/Folk', 'Pop/Commercial', 'World', 'Ambient/New Age', 'Other', 'Indian']\n",
    "\n",
    "\n",
    "# Mappatura dei generi del dataframe ai gruppi di generi\n",
    "df['genre_group'] = df['genre'].map(genre_groups).astype(int)\n",
    "\n",
    "# Stampa del mapping dei generi ai numeri corrispondenti\n",
    "print(df['genre_group'].unique())\n",
    "\n",
    "le = LabelEncoder()\n",
    "df['explicit'] = le.fit_transform(df['explicit'])"
   ]
  },
  {
   "cell_type": "code",
   "execution_count": 520,
   "metadata": {},
   "outputs": [
    {
     "data": {
      "text/html": [
       "<div>\n",
       "<style scoped>\n",
       "    .dataframe tbody tr th:only-of-type {\n",
       "        vertical-align: middle;\n",
       "    }\n",
       "\n",
       "    .dataframe tbody tr th {\n",
       "        vertical-align: top;\n",
       "    }\n",
       "\n",
       "    .dataframe thead th {\n",
       "        text-align: right;\n",
       "    }\n",
       "</style>\n",
       "<table border=\"1\" class=\"dataframe\">\n",
       "  <thead>\n",
       "    <tr style=\"text-align: right;\">\n",
       "      <th></th>\n",
       "      <th>duration_ms</th>\n",
       "      <th>explicit</th>\n",
       "      <th>popularity</th>\n",
       "      <th>danceability</th>\n",
       "      <th>energy</th>\n",
       "      <th>key</th>\n",
       "      <th>loudness</th>\n",
       "      <th>mode</th>\n",
       "      <th>speechiness</th>\n",
       "      <th>acousticness</th>\n",
       "      <th>instrumentalness</th>\n",
       "      <th>liveness</th>\n",
       "      <th>valence</th>\n",
       "      <th>tempo</th>\n",
       "      <th>time_signature</th>\n",
       "      <th>genre</th>\n",
       "      <th>genre_group</th>\n",
       "    </tr>\n",
       "  </thead>\n",
       "  <tbody>\n",
       "    <tr>\n",
       "      <th>0</th>\n",
       "      <td>293106</td>\n",
       "      <td>0</td>\n",
       "      <td>50</td>\n",
       "      <td>0.401</td>\n",
       "      <td>0.683</td>\n",
       "      <td>8</td>\n",
       "      <td>-5.722</td>\n",
       "      <td>1</td>\n",
       "      <td>0.0401</td>\n",
       "      <td>0.181</td>\n",
       "      <td>0.000000</td>\n",
       "      <td>0.0837</td>\n",
       "      <td>0.226</td>\n",
       "      <td>135.951</td>\n",
       "      <td>4.0</td>\n",
       "      <td>afrobeat</td>\n",
       "      <td>2</td>\n",
       "    </tr>\n",
       "    <tr>\n",
       "      <th>1</th>\n",
       "      <td>194972</td>\n",
       "      <td>0</td>\n",
       "      <td>52</td>\n",
       "      <td>0.672</td>\n",
       "      <td>0.858</td>\n",
       "      <td>3</td>\n",
       "      <td>-5.233</td>\n",
       "      <td>1</td>\n",
       "      <td>0.1450</td>\n",
       "      <td>0.456</td>\n",
       "      <td>0.811000</td>\n",
       "      <td>0.1040</td>\n",
       "      <td>0.963</td>\n",
       "      <td>166.689</td>\n",
       "      <td>4.0</td>\n",
       "      <td>afrobeat</td>\n",
       "      <td>2</td>\n",
       "    </tr>\n",
       "    <tr>\n",
       "      <th>2</th>\n",
       "      <td>178428</td>\n",
       "      <td>0</td>\n",
       "      <td>22</td>\n",
       "      <td>0.636</td>\n",
       "      <td>0.826</td>\n",
       "      <td>3</td>\n",
       "      <td>-7.486</td>\n",
       "      <td>1</td>\n",
       "      <td>0.0585</td>\n",
       "      <td>0.461</td>\n",
       "      <td>0.271000</td>\n",
       "      <td>0.1410</td>\n",
       "      <td>0.731</td>\n",
       "      <td>102.809</td>\n",
       "      <td>4.0</td>\n",
       "      <td>afrobeat</td>\n",
       "      <td>2</td>\n",
       "    </tr>\n",
       "    <tr>\n",
       "      <th>3</th>\n",
       "      <td>238373</td>\n",
       "      <td>0</td>\n",
       "      <td>20</td>\n",
       "      <td>0.733</td>\n",
       "      <td>0.862</td>\n",
       "      <td>7</td>\n",
       "      <td>-5.813</td>\n",
       "      <td>1</td>\n",
       "      <td>0.0604</td>\n",
       "      <td>0.287</td>\n",
       "      <td>0.000532</td>\n",
       "      <td>0.4660</td>\n",
       "      <td>0.745</td>\n",
       "      <td>107.981</td>\n",
       "      <td>4.0</td>\n",
       "      <td>afrobeat</td>\n",
       "      <td>2</td>\n",
       "    </tr>\n",
       "    <tr>\n",
       "      <th>4</th>\n",
       "      <td>221893</td>\n",
       "      <td>0</td>\n",
       "      <td>22</td>\n",
       "      <td>0.712</td>\n",
       "      <td>0.225</td>\n",
       "      <td>5</td>\n",
       "      <td>-10.017</td>\n",
       "      <td>1</td>\n",
       "      <td>0.0533</td>\n",
       "      <td>0.930</td>\n",
       "      <td>0.001000</td>\n",
       "      <td>0.1230</td>\n",
       "      <td>0.429</td>\n",
       "      <td>87.520</td>\n",
       "      <td>4.0</td>\n",
       "      <td>afrobeat</td>\n",
       "      <td>2</td>\n",
       "    </tr>\n",
       "  </tbody>\n",
       "</table>\n",
       "</div>"
      ],
      "text/plain": [
       "   duration_ms  explicit  popularity  danceability  energy  key  loudness  \\\n",
       "0       293106         0          50         0.401   0.683    8    -5.722   \n",
       "1       194972         0          52         0.672   0.858    3    -5.233   \n",
       "2       178428         0          22         0.636   0.826    3    -7.486   \n",
       "3       238373         0          20         0.733   0.862    7    -5.813   \n",
       "4       221893         0          22         0.712   0.225    5   -10.017   \n",
       "\n",
       "   mode  speechiness  acousticness  instrumentalness  liveness  valence  \\\n",
       "0     1       0.0401         0.181          0.000000    0.0837    0.226   \n",
       "1     1       0.1450         0.456          0.811000    0.1040    0.963   \n",
       "2     1       0.0585         0.461          0.271000    0.1410    0.731   \n",
       "3     1       0.0604         0.287          0.000532    0.4660    0.745   \n",
       "4     1       0.0533         0.930          0.001000    0.1230    0.429   \n",
       "\n",
       "     tempo  time_signature     genre  genre_group  \n",
       "0  135.951             4.0  afrobeat            2  \n",
       "1  166.689             4.0  afrobeat            2  \n",
       "2  102.809             4.0  afrobeat            2  \n",
       "3  107.981             4.0  afrobeat            2  \n",
       "4   87.520             4.0  afrobeat            2  "
      ]
     },
     "execution_count": 520,
     "metadata": {},
     "output_type": "execute_result"
    }
   ],
   "source": [
    "df.head()"
   ]
  },
  {
   "cell_type": "code",
   "execution_count": 521,
   "metadata": {},
   "outputs": [],
   "source": [
    "X = df.values\n",
    "y = np.array(df['genre_group'])\n",
    "X = df.drop('genre_group', axis=1)\n",
    "X = df.drop('genre', axis=1)"
   ]
  },
  {
   "cell_type": "markdown",
   "metadata": {},
   "source": [
    "## Partitioning"
   ]
  },
  {
   "cell_type": "code",
   "execution_count": 522,
   "metadata": {},
   "outputs": [],
   "source": [
    "from sklearn.model_selection import train_test_split\n",
    "\n",
    "random_state = 0"
   ]
  },
  {
   "cell_type": "code",
   "execution_count": 523,
   "metadata": {},
   "outputs": [
    {
     "name": "stdout",
     "output_type": "stream",
     "text": [
      "[0.1  0.15 0.25 0.15 0.05 0.1  0.15 0.05]\n",
      "[0.1  0.15 0.25 0.15 0.05 0.1  0.15 0.05]\n",
      "[0.1  0.15 0.25 0.15 0.05 0.1  0.15 0.05] \n",
      "\n",
      "(10500, 16) (4500, 16) (10500,) (4500,)\n"
     ]
    }
   ],
   "source": [
    "X_train, X_test, y_train, y_test = train_test_split(\n",
    "    X, y, test_size=0.3, stratify=y, random_state=random_state\n",
    ")\n",
    "\n",
    "print(np.unique(y, return_counts=True)[1] / len(y))\n",
    "print(np.unique(y_train, return_counts=True)[1] / len(y_train))\n",
    "print(np.unique(y_test, return_counts=True)[1] / len(y_test), (\"\\n\"))\n",
    "print(X_train.shape, X_test.shape, y_train.shape, y_test.shape)"
   ]
  },
  {
   "cell_type": "markdown",
   "metadata": {},
   "source": [
    "## normalization"
   ]
  },
  {
   "cell_type": "code",
   "execution_count": 524,
   "metadata": {},
   "outputs": [],
   "source": [
    "from sklearn.preprocessing import StandardScaler"
   ]
  },
  {
   "cell_type": "code",
   "execution_count": 525,
   "metadata": {},
   "outputs": [],
   "source": [
    "norm = StandardScaler()\n",
    "norm.fit(X_train)\n",
    "\n",
    "X_train_norm = norm.transform(X_train)\n",
    "X_test_norm = norm.transform(X_test)"
   ]
  },
  {
   "cell_type": "markdown",
   "metadata": {},
   "source": [
    "## K-NN"
   ]
  },
  {
   "cell_type": "code",
   "execution_count": 526,
   "metadata": {},
   "outputs": [],
   "source": [
    "from sklearn.neighbors import KNeighborsClassifier"
   ]
  },
  {
   "cell_type": "code",
   "execution_count": 527,
   "metadata": {},
   "outputs": [
    {
     "data": {
      "text/html": [
       "<style>#sk-container-id-17 {color: black;}#sk-container-id-17 pre{padding: 0;}#sk-container-id-17 div.sk-toggleable {background-color: white;}#sk-container-id-17 label.sk-toggleable__label {cursor: pointer;display: block;width: 100%;margin-bottom: 0;padding: 0.3em;box-sizing: border-box;text-align: center;}#sk-container-id-17 label.sk-toggleable__label-arrow:before {content: \"▸\";float: left;margin-right: 0.25em;color: #696969;}#sk-container-id-17 label.sk-toggleable__label-arrow:hover:before {color: black;}#sk-container-id-17 div.sk-estimator:hover label.sk-toggleable__label-arrow:before {color: black;}#sk-container-id-17 div.sk-toggleable__content {max-height: 0;max-width: 0;overflow: hidden;text-align: left;background-color: #f0f8ff;}#sk-container-id-17 div.sk-toggleable__content pre {margin: 0.2em;color: black;border-radius: 0.25em;background-color: #f0f8ff;}#sk-container-id-17 input.sk-toggleable__control:checked~div.sk-toggleable__content {max-height: 200px;max-width: 100%;overflow: auto;}#sk-container-id-17 input.sk-toggleable__control:checked~label.sk-toggleable__label-arrow:before {content: \"▾\";}#sk-container-id-17 div.sk-estimator input.sk-toggleable__control:checked~label.sk-toggleable__label {background-color: #d4ebff;}#sk-container-id-17 div.sk-label input.sk-toggleable__control:checked~label.sk-toggleable__label {background-color: #d4ebff;}#sk-container-id-17 input.sk-hidden--visually {border: 0;clip: rect(1px 1px 1px 1px);clip: rect(1px, 1px, 1px, 1px);height: 1px;margin: -1px;overflow: hidden;padding: 0;position: absolute;width: 1px;}#sk-container-id-17 div.sk-estimator {font-family: monospace;background-color: #f0f8ff;border: 1px dotted black;border-radius: 0.25em;box-sizing: border-box;margin-bottom: 0.5em;}#sk-container-id-17 div.sk-estimator:hover {background-color: #d4ebff;}#sk-container-id-17 div.sk-parallel-item::after {content: \"\";width: 100%;border-bottom: 1px solid gray;flex-grow: 1;}#sk-container-id-17 div.sk-label:hover label.sk-toggleable__label {background-color: #d4ebff;}#sk-container-id-17 div.sk-serial::before {content: \"\";position: absolute;border-left: 1px solid gray;box-sizing: border-box;top: 0;bottom: 0;left: 50%;z-index: 0;}#sk-container-id-17 div.sk-serial {display: flex;flex-direction: column;align-items: center;background-color: white;padding-right: 0.2em;padding-left: 0.2em;position: relative;}#sk-container-id-17 div.sk-item {position: relative;z-index: 1;}#sk-container-id-17 div.sk-parallel {display: flex;align-items: stretch;justify-content: center;background-color: white;position: relative;}#sk-container-id-17 div.sk-item::before, #sk-container-id-17 div.sk-parallel-item::before {content: \"\";position: absolute;border-left: 1px solid gray;box-sizing: border-box;top: 0;bottom: 0;left: 50%;z-index: -1;}#sk-container-id-17 div.sk-parallel-item {display: flex;flex-direction: column;z-index: 1;position: relative;background-color: white;}#sk-container-id-17 div.sk-parallel-item:first-child::after {align-self: flex-end;width: 50%;}#sk-container-id-17 div.sk-parallel-item:last-child::after {align-self: flex-start;width: 50%;}#sk-container-id-17 div.sk-parallel-item:only-child::after {width: 0;}#sk-container-id-17 div.sk-dashed-wrapped {border: 1px dashed gray;margin: 0 0.4em 0.5em 0.4em;box-sizing: border-box;padding-bottom: 0.4em;background-color: white;}#sk-container-id-17 div.sk-label label {font-family: monospace;font-weight: bold;display: inline-block;line-height: 1.2em;}#sk-container-id-17 div.sk-label-container {text-align: center;}#sk-container-id-17 div.sk-container {/* jupyter's `normalize.less` sets `[hidden] { display: none; }` but bootstrap.min.css set `[hidden] { display: none !important; }` so we also need the `!important` here to be able to override the default hidden behavior on the sphinx rendered scikit-learn.org. See: https://github.com/scikit-learn/scikit-learn/issues/21755 */display: inline-block !important;position: relative;}#sk-container-id-17 div.sk-text-repr-fallback {display: none;}</style><div id=\"sk-container-id-17\" class=\"sk-top-container\"><div class=\"sk-text-repr-fallback\"><pre>KNeighborsClassifier(metric=&#x27;cityblock&#x27;, weights=&#x27;distance&#x27;)</pre><b>In a Jupyter environment, please rerun this cell to show the HTML representation or trust the notebook. <br />On GitHub, the HTML representation is unable to render, please try loading this page with nbviewer.org.</b></div><div class=\"sk-container\" hidden><div class=\"sk-item\"><div class=\"sk-estimator sk-toggleable\"><input class=\"sk-toggleable__control sk-hidden--visually\" id=\"sk-estimator-id-17\" type=\"checkbox\" checked><label for=\"sk-estimator-id-17\" class=\"sk-toggleable__label sk-toggleable__label-arrow\">KNeighborsClassifier</label><div class=\"sk-toggleable__content\"><pre>KNeighborsClassifier(metric=&#x27;cityblock&#x27;, weights=&#x27;distance&#x27;)</pre></div></div></div></div></div>"
      ],
      "text/plain": [
       "KNeighborsClassifier(metric='cityblock', weights='distance')"
      ]
     },
     "execution_count": 527,
     "metadata": {},
     "output_type": "execute_result"
    }
   ],
   "source": [
    "clf = KNeighborsClassifier(n_neighbors=14, metric=\"cityblock\", weights=\"distance\")\n",
    "clf.fit(X_train_norm, y_train)"
   ]
  },
  {
   "cell_type": "code",
   "execution_count": 528,
   "metadata": {},
   "outputs": [
    {
     "data": {
      "text/plain": [
       "array([2, 3, 6, ..., 3, 2, 3])"
      ]
     },
     "execution_count": 528,
     "metadata": {},
     "output_type": "execute_result"
    }
   ],
   "source": [
    "y_test_pred = clf.predict(X_test_norm)\n",
    "y_test_pred"
   ]
  },
  {
   "cell_type": "code",
   "execution_count": 529,
   "metadata": {},
   "outputs": [
    {
     "data": {
      "text/plain": [
       "0.8731111111111111"
      ]
     },
     "execution_count": 529,
     "metadata": {},
     "output_type": "execute_result"
    }
   ],
   "source": [
    "clf.score(X_test_norm, y_test)"
   ]
  },
  {
   "cell_type": "code",
   "execution_count": 530,
   "metadata": {},
   "outputs": [
    {
     "data": {
      "text/plain": [
       "0.8731111111111111"
      ]
     },
     "execution_count": 530,
     "metadata": {},
     "output_type": "execute_result"
    }
   ],
   "source": [
    "(y_test_pred == y_test).sum() / len(y_test)"
   ]
  },
  {
   "cell_type": "code",
   "execution_count": 531,
   "metadata": {},
   "outputs": [
    {
     "name": "stdout",
     "output_type": "stream",
     "text": [
      "Accuracy: 0.8731111111111111\n"
     ]
    }
   ],
   "source": [
    "print(\"Accuracy:\", accuracy_score(y_test, y_test_pred))"
   ]
  },
  {
   "cell_type": "code",
   "execution_count": 532,
   "metadata": {},
   "outputs": [],
   "source": [
    "from sklearn.model_selection import learning_curve"
   ]
  },
  {
   "cell_type": "code",
   "execution_count": 533,
   "metadata": {},
   "outputs": [
    {
     "name": "stdout",
     "output_type": "stream",
     "text": [
      "F1 macro: 0.8728991053623157 \n",
      "\n",
      "F1 micro: 0.8731111111111111 \n",
      "\n",
      "F1 macro for label 0: 0.8678815489749431\n",
      "F1 macro for label 1: 0.8543543543543544\n",
      "F1 macro for label 2: 0.8639157155399473\n",
      "F1 macro for label 3: 0.8376068376068376\n",
      "F1 macro for label 4: 0.8361045130641331\n",
      "F1 macro for label 5: 0.9104972375690608\n",
      "F1 macro for label 6: 0.9311621021465581\n",
      "F1 macro for label 7: 0.8816705336426914\n",
      "\n",
      "\n",
      "F1 micro for label 0: 0.8678815489749431\n",
      "F1 micro for label 1: 0.8543543543543544\n",
      "F1 micro for label 2: 0.8639157155399473\n",
      "F1 micro for label 3: 0.8376068376068376\n",
      "F1 micro for label 4: 0.8361045130641331\n",
      "F1 micro for label 5: 0.9104972375690608\n",
      "F1 micro for label 6: 0.9311621021465581\n",
      "F1 micro for label 7: 0.8816705336426914\n"
     ]
    }
   ],
   "source": [
    "print(\"F1 macro:\", f1_score(y_test, y_test_pred, average=\"macro\"), \"\\n\")\n",
    "print(\"F1 micro:\", f1_score(y_test, y_test_pred, average=\"micro\"), \"\\n\")\n",
    "unique_labels = np.unique(y_test)\n",
    "\n",
    "for label in unique_labels:\n",
    "    print(f\"F1 macro for label {label}:\", f1_score(y_test, y_test_pred, labels=[label], average=\"macro\"))\n",
    "print(\"\\n\")\n",
    "for label in unique_labels:\n",
    "    print(f\"F1 micro for label {label}:\", f1_score(y_test, y_test_pred, labels=[label], average=\"micro\"))"
   ]
  },
  {
   "cell_type": "code",
   "execution_count": 534,
   "metadata": {},
   "outputs": [
    {
     "name": "stdout",
     "output_type": "stream",
     "text": [
      "              precision    recall  f1-score   support\n",
      "\n",
      "           0       0.89      0.85      0.87       450\n",
      "           1       0.87      0.84      0.85       675\n",
      "           2       0.85      0.87      0.86      1125\n",
      "           3       0.81      0.87      0.84       675\n",
      "           4       0.90      0.78      0.84       225\n",
      "           5       0.91      0.92      0.91       450\n",
      "           6       0.93      0.93      0.93       675\n",
      "           7       0.92      0.84      0.88       225\n",
      "\n",
      "    accuracy                           0.87      4500\n",
      "   macro avg       0.88      0.86      0.87      4500\n",
      "weighted avg       0.87      0.87      0.87      4500\n",
      "\n"
     ]
    }
   ],
   "source": [
    "print(classification_report(y_test, y_test_pred))"
   ]
  },
  {
   "cell_type": "code",
   "execution_count": 535,
   "metadata": {},
   "outputs": [
    {
     "data": {
      "application/vnd.plotly.v1+json": {
       "config": {
        "plotlyServerURL": "https://plot.ly"
       },
       "data": [
        {
         "colorscale": [
          [
           0,
           "rgb(247,252,245)"
          ],
          [
           0.125,
           "rgb(229,245,224)"
          ],
          [
           0.25,
           "rgb(199,233,192)"
          ],
          [
           0.375,
           "rgb(161,217,155)"
          ],
          [
           0.5,
           "rgb(116,196,118)"
          ],
          [
           0.625,
           "rgb(65,171,93)"
          ],
          [
           0.75,
           "rgb(35,139,69)"
          ],
          [
           0.875,
           "rgb(0,109,44)"
          ],
          [
           1,
           "rgb(0,68,27)"
          ]
         ],
         "reversescale": false,
         "showscale": false,
         "type": "heatmap",
         "x": [
          "Electronica/Dance",
          "Metal/Rock",
          "Country/Folk",
          "Pop/Commercial",
          "World",
          "Ambient/New Age",
          "Other"
         ],
         "y": [
          "Electronica/Dance",
          "Metal/Rock",
          "Country/Folk",
          "Pop/Commercial",
          "World",
          "Ambient/New Age",
          "Other"
         ],
         "z": [
          [
           381,
           48,
           19,
           2,
           0,
           0,
           0
          ],
          [
           36,
           569,
           58,
           11,
           1,
           0,
           0
          ],
          [
           11,
           33,
           984,
           84,
           4,
           9,
           0
          ],
          [
           0,
           6,
           72,
           588,
           5,
           3,
           1
          ],
          [
           0,
           0,
           9,
           33,
           176,
           5,
           1
          ],
          [
           0,
           0,
           8,
           6,
           6,
           412,
           18
          ],
          [
           0,
           1,
           2,
           3,
           3,
           22,
           629
          ]
         ]
        }
       ],
       "layout": {
        "annotations": [
         {
          "font": {
           "color": "#000000"
          },
          "showarrow": false,
          "text": "381",
          "x": "Electronica/Dance",
          "xref": "x",
          "y": "Electronica/Dance",
          "yref": "y"
         },
         {
          "font": {
           "color": "#000000"
          },
          "showarrow": false,
          "text": "48",
          "x": "Metal/Rock",
          "xref": "x",
          "y": "Electronica/Dance",
          "yref": "y"
         },
         {
          "font": {
           "color": "#000000"
          },
          "showarrow": false,
          "text": "19",
          "x": "Country/Folk",
          "xref": "x",
          "y": "Electronica/Dance",
          "yref": "y"
         },
         {
          "font": {
           "color": "#000000"
          },
          "showarrow": false,
          "text": "2",
          "x": "Pop/Commercial",
          "xref": "x",
          "y": "Electronica/Dance",
          "yref": "y"
         },
         {
          "font": {
           "color": "#000000"
          },
          "showarrow": false,
          "text": "0",
          "x": "World",
          "xref": "x",
          "y": "Electronica/Dance",
          "yref": "y"
         },
         {
          "font": {
           "color": "#000000"
          },
          "showarrow": false,
          "text": "0",
          "x": "Ambient/New Age",
          "xref": "x",
          "y": "Electronica/Dance",
          "yref": "y"
         },
         {
          "font": {
           "color": "#000000"
          },
          "showarrow": false,
          "text": "0",
          "x": "Other",
          "xref": "x",
          "y": "Electronica/Dance",
          "yref": "y"
         },
         {
          "font": {
           "color": "#000000"
          },
          "showarrow": false,
          "text": "36",
          "x": "Electronica/Dance",
          "xref": "x",
          "y": "Metal/Rock",
          "yref": "y"
         },
         {
          "font": {
           "color": "#FFFFFF"
          },
          "showarrow": false,
          "text": "569",
          "x": "Metal/Rock",
          "xref": "x",
          "y": "Metal/Rock",
          "yref": "y"
         },
         {
          "font": {
           "color": "#000000"
          },
          "showarrow": false,
          "text": "58",
          "x": "Country/Folk",
          "xref": "x",
          "y": "Metal/Rock",
          "yref": "y"
         },
         {
          "font": {
           "color": "#000000"
          },
          "showarrow": false,
          "text": "11",
          "x": "Pop/Commercial",
          "xref": "x",
          "y": "Metal/Rock",
          "yref": "y"
         },
         {
          "font": {
           "color": "#000000"
          },
          "showarrow": false,
          "text": "1",
          "x": "World",
          "xref": "x",
          "y": "Metal/Rock",
          "yref": "y"
         },
         {
          "font": {
           "color": "#000000"
          },
          "showarrow": false,
          "text": "0",
          "x": "Ambient/New Age",
          "xref": "x",
          "y": "Metal/Rock",
          "yref": "y"
         },
         {
          "font": {
           "color": "#000000"
          },
          "showarrow": false,
          "text": "0",
          "x": "Other",
          "xref": "x",
          "y": "Metal/Rock",
          "yref": "y"
         },
         {
          "font": {
           "color": "#000000"
          },
          "showarrow": false,
          "text": "11",
          "x": "Electronica/Dance",
          "xref": "x",
          "y": "Country/Folk",
          "yref": "y"
         },
         {
          "font": {
           "color": "#000000"
          },
          "showarrow": false,
          "text": "33",
          "x": "Metal/Rock",
          "xref": "x",
          "y": "Country/Folk",
          "yref": "y"
         },
         {
          "font": {
           "color": "#FFFFFF"
          },
          "showarrow": false,
          "text": "984",
          "x": "Country/Folk",
          "xref": "x",
          "y": "Country/Folk",
          "yref": "y"
         },
         {
          "font": {
           "color": "#000000"
          },
          "showarrow": false,
          "text": "84",
          "x": "Pop/Commercial",
          "xref": "x",
          "y": "Country/Folk",
          "yref": "y"
         },
         {
          "font": {
           "color": "#000000"
          },
          "showarrow": false,
          "text": "4",
          "x": "World",
          "xref": "x",
          "y": "Country/Folk",
          "yref": "y"
         },
         {
          "font": {
           "color": "#000000"
          },
          "showarrow": false,
          "text": "9",
          "x": "Ambient/New Age",
          "xref": "x",
          "y": "Country/Folk",
          "yref": "y"
         },
         {
          "font": {
           "color": "#000000"
          },
          "showarrow": false,
          "text": "0",
          "x": "Other",
          "xref": "x",
          "y": "Country/Folk",
          "yref": "y"
         },
         {
          "font": {
           "color": "#000000"
          },
          "showarrow": false,
          "text": "0",
          "x": "Electronica/Dance",
          "xref": "x",
          "y": "Pop/Commercial",
          "yref": "y"
         },
         {
          "font": {
           "color": "#000000"
          },
          "showarrow": false,
          "text": "6",
          "x": "Metal/Rock",
          "xref": "x",
          "y": "Pop/Commercial",
          "yref": "y"
         },
         {
          "font": {
           "color": "#000000"
          },
          "showarrow": false,
          "text": "72",
          "x": "Country/Folk",
          "xref": "x",
          "y": "Pop/Commercial",
          "yref": "y"
         },
         {
          "font": {
           "color": "#FFFFFF"
          },
          "showarrow": false,
          "text": "588",
          "x": "Pop/Commercial",
          "xref": "x",
          "y": "Pop/Commercial",
          "yref": "y"
         },
         {
          "font": {
           "color": "#000000"
          },
          "showarrow": false,
          "text": "5",
          "x": "World",
          "xref": "x",
          "y": "Pop/Commercial",
          "yref": "y"
         },
         {
          "font": {
           "color": "#000000"
          },
          "showarrow": false,
          "text": "3",
          "x": "Ambient/New Age",
          "xref": "x",
          "y": "Pop/Commercial",
          "yref": "y"
         },
         {
          "font": {
           "color": "#000000"
          },
          "showarrow": false,
          "text": "1",
          "x": "Other",
          "xref": "x",
          "y": "Pop/Commercial",
          "yref": "y"
         },
         {
          "font": {
           "color": "#000000"
          },
          "showarrow": false,
          "text": "0",
          "x": "Electronica/Dance",
          "xref": "x",
          "y": "World",
          "yref": "y"
         },
         {
          "font": {
           "color": "#000000"
          },
          "showarrow": false,
          "text": "0",
          "x": "Metal/Rock",
          "xref": "x",
          "y": "World",
          "yref": "y"
         },
         {
          "font": {
           "color": "#000000"
          },
          "showarrow": false,
          "text": "9",
          "x": "Country/Folk",
          "xref": "x",
          "y": "World",
          "yref": "y"
         },
         {
          "font": {
           "color": "#000000"
          },
          "showarrow": false,
          "text": "33",
          "x": "Pop/Commercial",
          "xref": "x",
          "y": "World",
          "yref": "y"
         },
         {
          "font": {
           "color": "#000000"
          },
          "showarrow": false,
          "text": "176",
          "x": "World",
          "xref": "x",
          "y": "World",
          "yref": "y"
         },
         {
          "font": {
           "color": "#000000"
          },
          "showarrow": false,
          "text": "5",
          "x": "Ambient/New Age",
          "xref": "x",
          "y": "World",
          "yref": "y"
         },
         {
          "font": {
           "color": "#000000"
          },
          "showarrow": false,
          "text": "1",
          "x": "Other",
          "xref": "x",
          "y": "World",
          "yref": "y"
         },
         {
          "font": {
           "color": "#000000"
          },
          "showarrow": false,
          "text": "0",
          "x": "Electronica/Dance",
          "xref": "x",
          "y": "Ambient/New Age",
          "yref": "y"
         },
         {
          "font": {
           "color": "#000000"
          },
          "showarrow": false,
          "text": "0",
          "x": "Metal/Rock",
          "xref": "x",
          "y": "Ambient/New Age",
          "yref": "y"
         },
         {
          "font": {
           "color": "#000000"
          },
          "showarrow": false,
          "text": "8",
          "x": "Country/Folk",
          "xref": "x",
          "y": "Ambient/New Age",
          "yref": "y"
         },
         {
          "font": {
           "color": "#000000"
          },
          "showarrow": false,
          "text": "6",
          "x": "Pop/Commercial",
          "xref": "x",
          "y": "Ambient/New Age",
          "yref": "y"
         },
         {
          "font": {
           "color": "#000000"
          },
          "showarrow": false,
          "text": "6",
          "x": "World",
          "xref": "x",
          "y": "Ambient/New Age",
          "yref": "y"
         },
         {
          "font": {
           "color": "#000000"
          },
          "showarrow": false,
          "text": "412",
          "x": "Ambient/New Age",
          "xref": "x",
          "y": "Ambient/New Age",
          "yref": "y"
         },
         {
          "font": {
           "color": "#000000"
          },
          "showarrow": false,
          "text": "18",
          "x": "Other",
          "xref": "x",
          "y": "Ambient/New Age",
          "yref": "y"
         },
         {
          "font": {
           "color": "#000000"
          },
          "showarrow": false,
          "text": "0",
          "x": "Electronica/Dance",
          "xref": "x",
          "y": "Other",
          "yref": "y"
         },
         {
          "font": {
           "color": "#000000"
          },
          "showarrow": false,
          "text": "1",
          "x": "Metal/Rock",
          "xref": "x",
          "y": "Other",
          "yref": "y"
         },
         {
          "font": {
           "color": "#000000"
          },
          "showarrow": false,
          "text": "2",
          "x": "Country/Folk",
          "xref": "x",
          "y": "Other",
          "yref": "y"
         },
         {
          "font": {
           "color": "#000000"
          },
          "showarrow": false,
          "text": "3",
          "x": "Pop/Commercial",
          "xref": "x",
          "y": "Other",
          "yref": "y"
         },
         {
          "font": {
           "color": "#000000"
          },
          "showarrow": false,
          "text": "3",
          "x": "World",
          "xref": "x",
          "y": "Other",
          "yref": "y"
         },
         {
          "font": {
           "color": "#000000"
          },
          "showarrow": false,
          "text": "22",
          "x": "Ambient/New Age",
          "xref": "x",
          "y": "Other",
          "yref": "y"
         },
         {
          "font": {
           "color": "#FFFFFF"
          },
          "showarrow": false,
          "text": "629",
          "x": "Other",
          "xref": "x",
          "y": "Other",
          "yref": "y"
         }
        ],
        "template": {
         "data": {
          "bar": [
           {
            "error_x": {
             "color": "#2a3f5f"
            },
            "error_y": {
             "color": "#2a3f5f"
            },
            "marker": {
             "line": {
              "color": "#E5ECF6",
              "width": 0.5
             },
             "pattern": {
              "fillmode": "overlay",
              "size": 10,
              "solidity": 0.2
             }
            },
            "type": "bar"
           }
          ],
          "barpolar": [
           {
            "marker": {
             "line": {
              "color": "#E5ECF6",
              "width": 0.5
             },
             "pattern": {
              "fillmode": "overlay",
              "size": 10,
              "solidity": 0.2
             }
            },
            "type": "barpolar"
           }
          ],
          "carpet": [
           {
            "aaxis": {
             "endlinecolor": "#2a3f5f",
             "gridcolor": "white",
             "linecolor": "white",
             "minorgridcolor": "white",
             "startlinecolor": "#2a3f5f"
            },
            "baxis": {
             "endlinecolor": "#2a3f5f",
             "gridcolor": "white",
             "linecolor": "white",
             "minorgridcolor": "white",
             "startlinecolor": "#2a3f5f"
            },
            "type": "carpet"
           }
          ],
          "choropleth": [
           {
            "colorbar": {
             "outlinewidth": 0,
             "ticks": ""
            },
            "type": "choropleth"
           }
          ],
          "contour": [
           {
            "colorbar": {
             "outlinewidth": 0,
             "ticks": ""
            },
            "colorscale": [
             [
              0,
              "#0d0887"
             ],
             [
              0.1111111111111111,
              "#46039f"
             ],
             [
              0.2222222222222222,
              "#7201a8"
             ],
             [
              0.3333333333333333,
              "#9c179e"
             ],
             [
              0.4444444444444444,
              "#bd3786"
             ],
             [
              0.5555555555555556,
              "#d8576b"
             ],
             [
              0.6666666666666666,
              "#ed7953"
             ],
             [
              0.7777777777777778,
              "#fb9f3a"
             ],
             [
              0.8888888888888888,
              "#fdca26"
             ],
             [
              1,
              "#f0f921"
             ]
            ],
            "type": "contour"
           }
          ],
          "contourcarpet": [
           {
            "colorbar": {
             "outlinewidth": 0,
             "ticks": ""
            },
            "type": "contourcarpet"
           }
          ],
          "heatmap": [
           {
            "colorbar": {
             "outlinewidth": 0,
             "ticks": ""
            },
            "colorscale": [
             [
              0,
              "#0d0887"
             ],
             [
              0.1111111111111111,
              "#46039f"
             ],
             [
              0.2222222222222222,
              "#7201a8"
             ],
             [
              0.3333333333333333,
              "#9c179e"
             ],
             [
              0.4444444444444444,
              "#bd3786"
             ],
             [
              0.5555555555555556,
              "#d8576b"
             ],
             [
              0.6666666666666666,
              "#ed7953"
             ],
             [
              0.7777777777777778,
              "#fb9f3a"
             ],
             [
              0.8888888888888888,
              "#fdca26"
             ],
             [
              1,
              "#f0f921"
             ]
            ],
            "type": "heatmap"
           }
          ],
          "heatmapgl": [
           {
            "colorbar": {
             "outlinewidth": 0,
             "ticks": ""
            },
            "colorscale": [
             [
              0,
              "#0d0887"
             ],
             [
              0.1111111111111111,
              "#46039f"
             ],
             [
              0.2222222222222222,
              "#7201a8"
             ],
             [
              0.3333333333333333,
              "#9c179e"
             ],
             [
              0.4444444444444444,
              "#bd3786"
             ],
             [
              0.5555555555555556,
              "#d8576b"
             ],
             [
              0.6666666666666666,
              "#ed7953"
             ],
             [
              0.7777777777777778,
              "#fb9f3a"
             ],
             [
              0.8888888888888888,
              "#fdca26"
             ],
             [
              1,
              "#f0f921"
             ]
            ],
            "type": "heatmapgl"
           }
          ],
          "histogram": [
           {
            "marker": {
             "pattern": {
              "fillmode": "overlay",
              "size": 10,
              "solidity": 0.2
             }
            },
            "type": "histogram"
           }
          ],
          "histogram2d": [
           {
            "colorbar": {
             "outlinewidth": 0,
             "ticks": ""
            },
            "colorscale": [
             [
              0,
              "#0d0887"
             ],
             [
              0.1111111111111111,
              "#46039f"
             ],
             [
              0.2222222222222222,
              "#7201a8"
             ],
             [
              0.3333333333333333,
              "#9c179e"
             ],
             [
              0.4444444444444444,
              "#bd3786"
             ],
             [
              0.5555555555555556,
              "#d8576b"
             ],
             [
              0.6666666666666666,
              "#ed7953"
             ],
             [
              0.7777777777777778,
              "#fb9f3a"
             ],
             [
              0.8888888888888888,
              "#fdca26"
             ],
             [
              1,
              "#f0f921"
             ]
            ],
            "type": "histogram2d"
           }
          ],
          "histogram2dcontour": [
           {
            "colorbar": {
             "outlinewidth": 0,
             "ticks": ""
            },
            "colorscale": [
             [
              0,
              "#0d0887"
             ],
             [
              0.1111111111111111,
              "#46039f"
             ],
             [
              0.2222222222222222,
              "#7201a8"
             ],
             [
              0.3333333333333333,
              "#9c179e"
             ],
             [
              0.4444444444444444,
              "#bd3786"
             ],
             [
              0.5555555555555556,
              "#d8576b"
             ],
             [
              0.6666666666666666,
              "#ed7953"
             ],
             [
              0.7777777777777778,
              "#fb9f3a"
             ],
             [
              0.8888888888888888,
              "#fdca26"
             ],
             [
              1,
              "#f0f921"
             ]
            ],
            "type": "histogram2dcontour"
           }
          ],
          "mesh3d": [
           {
            "colorbar": {
             "outlinewidth": 0,
             "ticks": ""
            },
            "type": "mesh3d"
           }
          ],
          "parcoords": [
           {
            "line": {
             "colorbar": {
              "outlinewidth": 0,
              "ticks": ""
             }
            },
            "type": "parcoords"
           }
          ],
          "pie": [
           {
            "automargin": true,
            "type": "pie"
           }
          ],
          "scatter": [
           {
            "fillpattern": {
             "fillmode": "overlay",
             "size": 10,
             "solidity": 0.2
            },
            "type": "scatter"
           }
          ],
          "scatter3d": [
           {
            "line": {
             "colorbar": {
              "outlinewidth": 0,
              "ticks": ""
             }
            },
            "marker": {
             "colorbar": {
              "outlinewidth": 0,
              "ticks": ""
             }
            },
            "type": "scatter3d"
           }
          ],
          "scattercarpet": [
           {
            "marker": {
             "colorbar": {
              "outlinewidth": 0,
              "ticks": ""
             }
            },
            "type": "scattercarpet"
           }
          ],
          "scattergeo": [
           {
            "marker": {
             "colorbar": {
              "outlinewidth": 0,
              "ticks": ""
             }
            },
            "type": "scattergeo"
           }
          ],
          "scattergl": [
           {
            "marker": {
             "colorbar": {
              "outlinewidth": 0,
              "ticks": ""
             }
            },
            "type": "scattergl"
           }
          ],
          "scattermapbox": [
           {
            "marker": {
             "colorbar": {
              "outlinewidth": 0,
              "ticks": ""
             }
            },
            "type": "scattermapbox"
           }
          ],
          "scatterpolar": [
           {
            "marker": {
             "colorbar": {
              "outlinewidth": 0,
              "ticks": ""
             }
            },
            "type": "scatterpolar"
           }
          ],
          "scatterpolargl": [
           {
            "marker": {
             "colorbar": {
              "outlinewidth": 0,
              "ticks": ""
             }
            },
            "type": "scatterpolargl"
           }
          ],
          "scatterternary": [
           {
            "marker": {
             "colorbar": {
              "outlinewidth": 0,
              "ticks": ""
             }
            },
            "type": "scatterternary"
           }
          ],
          "surface": [
           {
            "colorbar": {
             "outlinewidth": 0,
             "ticks": ""
            },
            "colorscale": [
             [
              0,
              "#0d0887"
             ],
             [
              0.1111111111111111,
              "#46039f"
             ],
             [
              0.2222222222222222,
              "#7201a8"
             ],
             [
              0.3333333333333333,
              "#9c179e"
             ],
             [
              0.4444444444444444,
              "#bd3786"
             ],
             [
              0.5555555555555556,
              "#d8576b"
             ],
             [
              0.6666666666666666,
              "#ed7953"
             ],
             [
              0.7777777777777778,
              "#fb9f3a"
             ],
             [
              0.8888888888888888,
              "#fdca26"
             ],
             [
              1,
              "#f0f921"
             ]
            ],
            "type": "surface"
           }
          ],
          "table": [
           {
            "cells": {
             "fill": {
              "color": "#EBF0F8"
             },
             "line": {
              "color": "white"
             }
            },
            "header": {
             "fill": {
              "color": "#C8D4E3"
             },
             "line": {
              "color": "white"
             }
            },
            "type": "table"
           }
          ]
         },
         "layout": {
          "annotationdefaults": {
           "arrowcolor": "#2a3f5f",
           "arrowhead": 0,
           "arrowwidth": 1
          },
          "autotypenumbers": "strict",
          "coloraxis": {
           "colorbar": {
            "outlinewidth": 0,
            "ticks": ""
           }
          },
          "colorscale": {
           "diverging": [
            [
             0,
             "#8e0152"
            ],
            [
             0.1,
             "#c51b7d"
            ],
            [
             0.2,
             "#de77ae"
            ],
            [
             0.3,
             "#f1b6da"
            ],
            [
             0.4,
             "#fde0ef"
            ],
            [
             0.5,
             "#f7f7f7"
            ],
            [
             0.6,
             "#e6f5d0"
            ],
            [
             0.7,
             "#b8e186"
            ],
            [
             0.8,
             "#7fbc41"
            ],
            [
             0.9,
             "#4d9221"
            ],
            [
             1,
             "#276419"
            ]
           ],
           "sequential": [
            [
             0,
             "#0d0887"
            ],
            [
             0.1111111111111111,
             "#46039f"
            ],
            [
             0.2222222222222222,
             "#7201a8"
            ],
            [
             0.3333333333333333,
             "#9c179e"
            ],
            [
             0.4444444444444444,
             "#bd3786"
            ],
            [
             0.5555555555555556,
             "#d8576b"
            ],
            [
             0.6666666666666666,
             "#ed7953"
            ],
            [
             0.7777777777777778,
             "#fb9f3a"
            ],
            [
             0.8888888888888888,
             "#fdca26"
            ],
            [
             1,
             "#f0f921"
            ]
           ],
           "sequentialminus": [
            [
             0,
             "#0d0887"
            ],
            [
             0.1111111111111111,
             "#46039f"
            ],
            [
             0.2222222222222222,
             "#7201a8"
            ],
            [
             0.3333333333333333,
             "#9c179e"
            ],
            [
             0.4444444444444444,
             "#bd3786"
            ],
            [
             0.5555555555555556,
             "#d8576b"
            ],
            [
             0.6666666666666666,
             "#ed7953"
            ],
            [
             0.7777777777777778,
             "#fb9f3a"
            ],
            [
             0.8888888888888888,
             "#fdca26"
            ],
            [
             1,
             "#f0f921"
            ]
           ]
          },
          "colorway": [
           "#636efa",
           "#EF553B",
           "#00cc96",
           "#ab63fa",
           "#FFA15A",
           "#19d3f3",
           "#FF6692",
           "#B6E880",
           "#FF97FF",
           "#FECB52"
          ],
          "font": {
           "color": "#2a3f5f"
          },
          "geo": {
           "bgcolor": "white",
           "lakecolor": "white",
           "landcolor": "#E5ECF6",
           "showlakes": true,
           "showland": true,
           "subunitcolor": "white"
          },
          "hoverlabel": {
           "align": "left"
          },
          "hovermode": "closest",
          "mapbox": {
           "style": "light"
          },
          "paper_bgcolor": "white",
          "plot_bgcolor": "#E5ECF6",
          "polar": {
           "angularaxis": {
            "gridcolor": "white",
            "linecolor": "white",
            "ticks": ""
           },
           "bgcolor": "#E5ECF6",
           "radialaxis": {
            "gridcolor": "white",
            "linecolor": "white",
            "ticks": ""
           }
          },
          "scene": {
           "xaxis": {
            "backgroundcolor": "#E5ECF6",
            "gridcolor": "white",
            "gridwidth": 2,
            "linecolor": "white",
            "showbackground": true,
            "ticks": "",
            "zerolinecolor": "white"
           },
           "yaxis": {
            "backgroundcolor": "#E5ECF6",
            "gridcolor": "white",
            "gridwidth": 2,
            "linecolor": "white",
            "showbackground": true,
            "ticks": "",
            "zerolinecolor": "white"
           },
           "zaxis": {
            "backgroundcolor": "#E5ECF6",
            "gridcolor": "white",
            "gridwidth": 2,
            "linecolor": "white",
            "showbackground": true,
            "ticks": "",
            "zerolinecolor": "white"
           }
          },
          "shapedefaults": {
           "line": {
            "color": "#2a3f5f"
           }
          },
          "ternary": {
           "aaxis": {
            "gridcolor": "white",
            "linecolor": "white",
            "ticks": ""
           },
           "baxis": {
            "gridcolor": "white",
            "linecolor": "white",
            "ticks": ""
           },
           "bgcolor": "#E5ECF6",
           "caxis": {
            "gridcolor": "white",
            "linecolor": "white",
            "ticks": ""
           }
          },
          "title": {
           "x": 0.05
          },
          "xaxis": {
           "automargin": true,
           "gridcolor": "white",
           "linecolor": "white",
           "ticks": "",
           "title": {
            "standoff": 15
           },
           "zerolinecolor": "white",
           "zerolinewidth": 2
          },
          "yaxis": {
           "automargin": true,
           "gridcolor": "white",
           "linecolor": "white",
           "ticks": "",
           "title": {
            "standoff": 15
           },
           "zerolinecolor": "white",
           "zerolinewidth": 2
          }
         }
        },
        "title": {
         "text": "Confusion Matrix",
         "x": 0.05
        },
        "xaxis": {
         "dtick": 1,
         "gridcolor": "rgb(0, 0, 0)",
         "side": "top",
         "ticks": "",
         "title": {
          "text": "True Labels"
         }
        },
        "yaxis": {
         "dtick": 1,
         "ticks": "",
         "ticksuffix": "  ",
         "title": {
          "text": "Predicted Labels"
         }
        }
       }
      }
     },
     "metadata": {},
     "output_type": "display_data"
    }
   ],
   "source": [
    "import plotly.figure_factory as ff\n",
    "\n",
    "# Generate the confusion matrix\n",
    "cf = confusion_matrix(y_test, y_test_pred, labels=[0, 1, 2, 3, 4, 5, 6, 7])\n",
    "\n",
    "# Define labels for the genres\n",
    "genre_labels = ['Electronica/Dance', 'Metal/Rock', 'Country/Folk', 'Pop/Commercial', 'World', 'Ambient/New Age', 'Other', 'Indian']\n",
    "\n",
    "# Create the heatmap using plotly\n",
    "fig = ff.create_annotated_heatmap(z=cf, x=genre_labels, y=genre_labels,\n",
    "                                  annotation_text=cf.astype(str), colorscale='Greens')\n",
    "\n",
    "# Update the layout\n",
    "fig.update_layout(title_text='Confusion Matrix', title_x=0.05,\n",
    "                  xaxis=dict(title='True Labels'),\n",
    "                  yaxis=dict(title='Predicted Labels'))\n",
    "\n",
    "# Show the plot\n",
    "fig.show()\n"
   ]
  },
  {
   "cell_type": "markdown",
   "metadata": {},
   "source": [
    "## Cross validation"
   ]
  },
  {
   "cell_type": "code",
   "execution_count": 552,
   "metadata": {},
   "outputs": [],
   "source": [
    "from sklearn.model_selection import cross_val_score\n",
    "k = 10"
   ]
  },
  {
   "cell_type": "code",
   "execution_count": 553,
   "metadata": {},
   "outputs": [
    {
     "data": {
      "text/plain": [
       "array([0.88933333, 0.88266667, 0.86266667, 0.87066667, 0.86      ,\n",
       "       0.87733333, 0.85866667, 0.856     , 0.89466667, 0.86533333,\n",
       "       0.86933333, 0.892     , 0.884     , 0.88      ])"
      ]
     },
     "execution_count": 553,
     "metadata": {},
     "output_type": "execute_result"
    }
   ],
   "source": [
    "clf = KNeighborsClassifier(n_neighbors=5, metric=\"cityblock\", weights=\"distance\")\n",
    "\n",
    "scores = cross_val_score(clf, X_train_norm, y_train, cv=k) # we call the 10 cross validation only on the training portion of our data\n",
    "scores"
   ]
  },
  {
   "cell_type": "code",
   "execution_count": 554,
   "metadata": {},
   "outputs": [
    {
     "name": "stdout",
     "output_type": "stream",
     "text": [
      "Overall error estimate: 0.12552380952380937\n"
     ]
    }
   ],
   "source": [
    "print(\"Overall error estimate:\", 1 - scores.mean()) "
   ]
  },
  {
   "cell_type": "code",
   "execution_count": 539,
   "metadata": {},
   "outputs": [
    {
     "name": "stdout",
     "output_type": "stream",
     "text": [
      "Accuracy: 0.8732 (+/- 0.01)\n"
     ]
    }
   ],
   "source": [
    "print('Accuracy: %0.4f (+/- %0.2f)' % (scores.mean(), scores.std()))"
   ]
  },
  {
   "cell_type": "code",
   "execution_count": 540,
   "metadata": {},
   "outputs": [
    {
     "data": {
      "text/plain": [
       "array([0.87467437, 0.8733051 , 0.86473122, 0.86962344, 0.86250777,\n",
       "       0.87069412, 0.87486938, 0.86962379, 0.88969914, 0.88268611])"
      ]
     },
     "execution_count": 540,
     "metadata": {},
     "output_type": "execute_result"
    }
   ],
   "source": [
    "cross_val_score(clf, X_train_norm, y_train, cv=k, scoring='f1_macro')"
   ]
  },
  {
   "cell_type": "markdown",
   "metadata": {},
   "source": [
    "### Hyperparameters Tuning"
   ]
  },
  {
   "cell_type": "code",
   "execution_count": 541,
   "metadata": {},
   "outputs": [
    {
     "data": {
      "image/png": "[encoded data removed]",
      "text/plain": [
       "<Figure size 640x480 with 1 Axes>"
      ]
     },
     "metadata": {},
     "output_type": "display_data"
    }
   ],
   "source": [
    "n_neighbors = range(1,20)\n",
    "scores = list()\n",
    "\n",
    "for n in n_neighbors:\n",
    "    clf = KNeighborsClassifier(n_neighbors=n, metric=\"euclidean\", weights=\"uniform\")\n",
    "    clf.fit(X_train_norm, y_train)\n",
    "    scores.append(clf.score(X_test_norm, y_test))\n",
    "\n",
    "plt.plot(scores)\n",
    "plt.xticks(range(len(n_neighbors)), n_neighbors)\n",
    "plt.xlabel(\"n_neighbors\")\n",
    "plt.ylabel(\"accuracy\")\n",
    "plt.show()"
   ]
  },
  {
   "cell_type": "code",
   "execution_count": 542,
   "metadata": {},
   "outputs": [
    {
     "data": {
      "image/png": "[encoded data removed]",
      "text/plain": [
       "<Figure size 640x480 with 1 Axes>"
      ]
     },
     "metadata": {},
     "output_type": "display_data"
    }
   ],
   "source": [
    "n_neighbors = range(1,20)\n",
    "avg_scores = list()\n",
    "std_scores = list()\n",
    "\n",
    "for n in n_neighbors:\n",
    "    clf = KNeighborsClassifier(n_neighbors=n, metric=\"euclidean\", weights=\"uniform\")\n",
    "    scores = cross_val_score(clf, X_train_norm, y_train, cv=k)\n",
    "    avg_scores.append(np.mean(scores))\n",
    "    std_scores.append(np.std(scores))\n",
    "\n",
    "#plt.plot(avg_scores)\n",
    "plt.errorbar(range(len(n_neighbors)), y=avg_scores, yerr=std_scores, marker='o')\n",
    "plt.xticks(range(len(n_neighbors)), n_neighbors)\n",
    "plt.xlabel(\"n_neighbors\")\n",
    "plt.ylabel(\"accuracy\")\n",
    "plt.show()"
   ]
  },
  {
   "cell_type": "code",
   "execution_count": 543,
   "metadata": {},
   "outputs": [],
   "source": [
    "# clf = KNeighborsClassifier(n_neighbors=12, metric=\"euclidean\", weights=\"uniform\")\n",
    "# clf.fit(X_train_norm, y_train)\n",
    "# y_test_pred = clf.predict(X_test_norm)\n",
    "# print(\"Accuracy:\", accuracy_score(y_test, y_test_pred))"
   ]
  },
  {
   "cell_type": "markdown",
   "metadata": {},
   "source": [
    "# Grid Search"
   ]
  },
  {
   "cell_type": "code",
   "execution_count": 544,
   "metadata": {},
   "outputs": [],
   "source": [
    "from sklearn.model_selection import RepeatedStratifiedKFold\n",
    "from sklearn.model_selection import RandomizedSearchCV, GridSearchCV"
   ]
  },
  {
   "cell_type": "code",
   "execution_count": 545,
   "metadata": {},
   "outputs": [],
   "source": [
    "param_grid = {\n",
    "    \"n_neighbors\": np.arange(2, 15), \n",
    "    \"weights\": [\"uniform\", \"distance\"],\n",
    "    \"metric\": [\"euclidean\", \"cityblock\"],\n",
    "}\n",
    "\n",
    "grid = GridSearchCV(\n",
    "    KNeighborsClassifier(),\n",
    "    param_grid=param_grid,\n",
    "    cv=RepeatedStratifiedKFold(random_state=0),\n",
    "    n_jobs=-1,\n",
    "    refit=True, \n",
    "    # verbose=2\n",
    ") \n",
    "\n",
    "grid.fit(X_train_norm, y_train)\n",
    "clf = grid.best_estimator_"
   ]
  },
  {
   "cell_type": "code",
   "execution_count": 546,
   "metadata": {},
   "outputs": [
    {
     "name": "stdout",
     "output_type": "stream",
     "text": [
      "{'metric': 'cityblock', 'n_neighbors': 14, 'weights': 'distance'} 0.8831238095238095\n"
     ]
    }
   ],
   "source": [
    "print(grid.best_params_, grid.best_score_)"
   ]
  },
  {
   "cell_type": "markdown",
   "metadata": {},
   "source": [
    "# Learning curve"
   ]
  },
  {
   "cell_type": "markdown",
   "metadata": {},
   "source": [
    "train_sizes = np.linspace(0.1, 1.0, 10)\n",
    "\n",
    "Questa riga crea un array di dieci numeri che sono equamente spaziati tra 0.1 e 1.0. Questi numeri rappresenteranno le proporzioni del set di allenamento che verranno utilizzate per generare la curva di apprendimento. Ad esempio, se hai 1000 esempi di allenamento, il primo punto della curva di apprendimento userà il 10% di questi dati, cioè 100 esempi.\n",
    "\n",
    "estimator=clf\n",
    "\n",
    "Qui, stai assegnando il tuo modello k-NN, che hai chiamato clf nello screenshot precedente, alla variabile estimator. Questo modello verrà utilizzato dalla funzione learning_curve per allenare e testare il modello.\n",
    "\n",
    "X = df.drop('genre', axis=1)\n",
    "y = df['genre']\n",
    "\n",
    "Queste due righe selezionano le features e il target dal tuo DataFrame. X contiene tutte le colonne tranne 'genre', che è la colonna del target che si presume tu voglia prevedere. y contiene i valori della colonna 'genre'.\n",
    "\n",
    "scaler = StandardScaler()\n",
    "X_norm = scaler.fit_transform(X)\n",
    "\n",
    "Qui, crei un oggetto StandardScaler, che normalizza i dati delle features sottraendo la media e dividendo per la deviazione standard. Poi utilizzi questo oggetto per trasformare i tuoi dati in X_norm, che sono i dati delle features normalizzati.\n",
    "\n",
    "train_sizes, train_scores, test_scores = learning_curve(...)\n",
    "\n",
    "Questa funzione calcola la curva di apprendimento. Allena il tuo modello (clf) su diverse porzioni del set di dati (definite da train_sizes) e calcola i punteggi di accuratezza sul training set e sul test set. La cross-validation a 10 fold (cv=10) è utilizzata per valutare l'accuratezza del modello, che significa che i dati vengono divisi in 10 parti, con 9 utilizzate per l'allenamento e 1 per il test, e questo processo è ripetuto 10 volte con parti diverse utilizzate come test set.\n",
    "\n",
    "train_mean = np.mean(train_scores, axis=1)\n",
    "train_std = np.std(train_scores, axis=1)\n",
    "test_mean = np.mean(test_scores, axis=1)\n",
    "test_std = np.std(test_scores, axis=1)\n",
    "\n",
    "Queste righe calcolano la media e la deviazione standard delle accuratezze ottenute durante la cross-validation sia per il training set sia per il test set. Ti permettono di vedere non solo come l'accuratezza cambia con diversi set di dati di allenamento, ma anche quanto sono variabili i risultati (indicati dalla deviazione standard).\n",
    "\n",
    "Le ultime righe di codice (plt.figure(figsize=(10, 6)) fino a plt.show()) generano un grafico che mostra la curva di apprendimento. Mostrano l'accuratezza media sul training set e sul test set (anche chiamato validation set) in funzione della dimensione del training set, con le aree ombreggiate che rappresentano la deviazione standard. Il grafico è intitolato \"Learning Curve for k-NN Classifier\" e ha le etichette sugli assi appropriate per la dimensione dei dati di allenamento e l'accuratezza."
   ]
  },
  {
   "cell_type": "code",
   "execution_count": 547,
   "metadata": {},
   "outputs": [
    {
     "data": {
      "image/png": "[encoded data removed]",
      "text/plain": [
       "<Figure size 1000x600 with 1 Axes>"
      ]
     },
     "metadata": {},
     "output_type": "display_data"
    }
   ],
   "source": []
  },
  {
   "cell_type": "code",
   "execution_count": 551,
   "metadata": {},
   "outputs": [
    {
     "data": {
      "application/vnd.plotly.v1+json": {
       "config": {
        "plotlyServerURL": "https://plot.ly"
       },
       "data": [
        {
         "mode": "lines",
         "name": "Class 0 (AUC = 0.99)",
         "type": "scatter",
         "x": [
          0,
          0,
          0,
          0.0002469135802469136,
          0.0002469135802469136,
          0.0004938271604938272,
          0.0004938271604938272,
          0.0007407407407407407,
          0.0007407407407407407,
          0.0009876543209876543,
          0.0009876543209876543,
          0.0012345679012345679,
          0.0012345679012345679,
          0.0014814814814814814,
          0.0014814814814814814,
          0.0017283950617283952,
          0.0017283950617283952,
          0.0019753086419753087,
          0.0019753086419753087,
          0.0022222222222222222,
          0.0022222222222222222,
          0.0024691358024691358,
          0.0024691358024691358,
          0.0027160493827160493,
          0.0027160493827160493,
          0.002962962962962963,
          0.002962962962962963,
          0.0032098765432098763,
          0.0032098765432098763,
          0.003703703703703704,
          0.003703703703703704,
          0.004691358024691358,
          0.004691358024691358,
          0.0049382716049382715,
          0.0049382716049382715,
          0.005185185185185185,
          0.005185185185185185,
          0.005432098765432099,
          0.005432098765432099,
          0.005679012345679012,
          0.005679012345679012,
          0.006172839506172839,
          0.006172839506172839,
          0.006419753086419753,
          0.006419753086419753,
          0.006666666666666667,
          0.006666666666666667,
          0.006913580246913581,
          0.006913580246913581,
          0.007407407407407408,
          0.007407407407407408,
          0.007654320987654321,
          0.007654320987654321,
          0.007901234567901235,
          0.007901234567901235,
          0.008395061728395062,
          0.008395061728395062,
          0.008641975308641974,
          0.008641975308641974,
          0.009135802469135803,
          0.009135802469135803,
          0.00962962962962963,
          0.00962962962962963,
          0.010864197530864197,
          0.010864197530864197,
          0.011358024691358024,
          0.011358024691358024,
          0.011604938271604939,
          0.011604938271604939,
          0.012592592592592593,
          0.012592592592592593,
          0.013333333333333334,
          0.013333333333333334,
          0.013827160493827161,
          0.013827160493827161,
          0.014074074074074074,
          0.014074074074074074,
          0.014814814814814815,
          0.014814814814814815,
          0.015061728395061728,
          0.015061728395061728,
          0.015308641975308642,
          0.015308641975308642,
          0.016049382716049384,
          0.016049382716049384,
          0.016296296296296295,
          0.016296296296296295,
          0.018518518518518517,
          0.018518518518518517,
          0.018765432098765432,
          0.018765432098765432,
          0.019012345679012346,
          0.019012345679012346,
          0.01950617283950617,
          0.01950617283950617,
          0.02,
          0.02,
          0.020246913580246915,
          0.020246913580246915,
          0.02074074074074074,
          0.02074074074074074,
          0.020987654320987655,
          0.020987654320987655,
          0.02123456790123457,
          0.02123456790123457,
          0.021728395061728394,
          0.021728395061728394,
          0.02271604938271605,
          0.02271604938271605,
          0.02691358024691358,
          0.02691358024691358,
          0.028395061728395062,
          0.028395061728395062,
          0.02962962962962963,
          0.02962962962962963,
          0.030123456790123456,
          0.030123456790123456,
          0.03160493827160494,
          0.03160493827160494,
          0.03185185185185185,
          0.03185185185185185,
          0.03259259259259259,
          0.03259259259259259,
          0.03580246913580247,
          0.03580246913580247,
          0.037037037037037035,
          0.037037037037037035,
          0.037530864197530864,
          0.037530864197530864,
          0.03876543209876543,
          0.03876543209876543,
          0.03925925925925926,
          0.03925925925925926,
          0.03950617283950617,
          0.03950617283950617,
          0.042222222222222223,
          0.042222222222222223,
          0.0691358024691358,
          0.0691358024691358,
          0.07679012345679012,
          0.07679012345679012,
          0.0817283950617284,
          0.0817283950617284,
          0.08271604938271605,
          0.08271604938271605,
          0.09382716049382717,
          0.09382716049382717,
          0.10123456790123457,
          0.10123456790123457,
          0.10987654320987654,
          0.10987654320987654,
          0.1254320987654321,
          0.1254320987654321,
          0.15481481481481482,
          1
         ],
         "y": [
          0,
          0.1711111111111111,
          0.4088888888888889,
          0.4088888888888889,
          0.43777777777777777,
          0.43777777777777777,
          0.48,
          0.48,
          0.5755555555555556,
          0.5755555555555556,
          0.5977777777777777,
          0.5977777777777777,
          0.6133333333333333,
          0.6133333333333333,
          0.6844444444444444,
          0.6844444444444444,
          0.6866666666666666,
          0.6866666666666666,
          0.6888888888888889,
          0.6888888888888889,
          0.6955555555555556,
          0.6955555555555556,
          0.7111111111111111,
          0.7111111111111111,
          0.7422222222222222,
          0.7422222222222222,
          0.7466666666666667,
          0.7466666666666667,
          0.7777777777777778,
          0.7777777777777778,
          0.78,
          0.78,
          0.7866666666666666,
          0.7866666666666666,
          0.8022222222222222,
          0.8022222222222222,
          0.8066666666666666,
          0.8066666666666666,
          0.8155555555555556,
          0.8155555555555556,
          0.8288888888888889,
          0.8288888888888889,
          0.8311111111111111,
          0.8311111111111111,
          0.8333333333333334,
          0.8333333333333334,
          0.8444444444444444,
          0.8444444444444444,
          0.8466666666666667,
          0.8466666666666667,
          0.8488888888888889,
          0.8488888888888889,
          0.8555555555555555,
          0.8555555555555555,
          0.8666666666666667,
          0.8666666666666667,
          0.8688888888888889,
          0.8688888888888889,
          0.8711111111111111,
          0.8711111111111111,
          0.8733333333333333,
          0.8733333333333333,
          0.8755555555555555,
          0.8755555555555555,
          0.8777777777777778,
          0.8777777777777778,
          0.8844444444444445,
          0.8844444444444445,
          0.8911111111111111,
          0.8911111111111111,
          0.8933333333333333,
          0.8933333333333333,
          0.9022222222222223,
          0.9022222222222223,
          0.9044444444444445,
          0.9044444444444445,
          0.9066666666666666,
          0.9066666666666666,
          0.9088888888888889,
          0.9088888888888889,
          0.9111111111111111,
          0.9111111111111111,
          0.9133333333333333,
          0.9133333333333333,
          0.9155555555555556,
          0.9155555555555556,
          0.92,
          0.92,
          0.9244444444444444,
          0.9244444444444444,
          0.9266666666666666,
          0.9266666666666666,
          0.9288888888888889,
          0.9288888888888889,
          0.9333333333333333,
          0.9333333333333333,
          0.9355555555555556,
          0.9355555555555556,
          0.9377777777777778,
          0.9377777777777778,
          0.94,
          0.94,
          0.9422222222222222,
          0.9422222222222222,
          0.9444444444444444,
          0.9444444444444444,
          0.9466666666666667,
          0.9466666666666667,
          0.9488888888888889,
          0.9488888888888889,
          0.9511111111111111,
          0.9511111111111111,
          0.9533333333333334,
          0.9533333333333334,
          0.9555555555555556,
          0.9555555555555556,
          0.9577777777777777,
          0.9577777777777777,
          0.96,
          0.96,
          0.9622222222222222,
          0.9622222222222222,
          0.9644444444444444,
          0.9644444444444444,
          0.9666666666666667,
          0.9666666666666667,
          0.9688888888888889,
          0.9688888888888889,
          0.9711111111111111,
          0.9711111111111111,
          0.9755555555555555,
          0.9755555555555555,
          0.9777777777777777,
          0.9777777777777777,
          0.98,
          0.98,
          0.9822222222222222,
          0.9822222222222222,
          0.9844444444444445,
          0.9844444444444445,
          0.9866666666666667,
          0.9866666666666667,
          0.9888888888888889,
          0.9888888888888889,
          0.9911111111111112,
          0.9911111111111112,
          0.9933333333333333,
          0.9933333333333333,
          0.9955555555555555,
          0.9955555555555555,
          0.9977777777777778,
          0.9977777777777778,
          1,
          1,
          1
         ]
        },
        {
         "mode": "lines",
         "name": "Class 1 (AUC = 0.98)",
         "type": "scatter",
         "x": [
          0,
          0,
          0,
          0.00026143790849673205,
          0.00026143790849673205,
          0.0005228758169934641,
          0.0005228758169934641,
          0.0010457516339869282,
          0.0010457516339869282,
          0.00130718954248366,
          0.00130718954248366,
          0.001568627450980392,
          0.001568627450980392,
          0.0020915032679738564,
          0.0020915032679738564,
          0.002352941176470588,
          0.002352941176470588,
          0.002875816993464052,
          0.002875816993464052,
          0.0033986928104575162,
          0.0033986928104575162,
          0.0036601307189542483,
          0.0036601307189542483,
          0.0044444444444444444,
          0.0044444444444444444,
          0.004705882352941176,
          0.004705882352941176,
          0.0049673202614379085,
          0.0049673202614379085,
          0.00522875816993464,
          0.00522875816993464,
          0.005490196078431373,
          0.005490196078431373,
          0.005751633986928104,
          0.005751633986928104,
          0.006013071895424837,
          0.006013071895424837,
          0.007058823529411765,
          0.007058823529411765,
          0.007320261437908497,
          0.007320261437908497,
          0.007581699346405229,
          0.007581699346405229,
          0.00784313725490196,
          0.00784313725490196,
          0.008104575163398693,
          0.008104575163398693,
          0.008366013071895426,
          0.008366013071895426,
          0.008888888888888889,
          0.008888888888888889,
          0.009150326797385621,
          0.009150326797385621,
          0.009411764705882352,
          0.009411764705882352,
          0.009673202614379085,
          0.009673202614379085,
          0.009934640522875817,
          0.009934640522875817,
          0.01019607843137255,
          0.01019607843137255,
          0.01045751633986928,
          0.01045751633986928,
          0.010718954248366013,
          0.010718954248366013,
          0.011241830065359478,
          0.011241830065359478,
          0.011503267973856209,
          0.011503267973856209,
          0.012026143790849673,
          0.012026143790849673,
          0.012287581699346406,
          0.012287581699346406,
          0.012549019607843137,
          0.012549019607843137,
          0.01281045751633987,
          0.01281045751633987,
          0.013071895424836602,
          0.013071895424836602,
          0.013333333333333334,
          0.013333333333333334,
          0.013594771241830065,
          0.013594771241830065,
          0.013856209150326797,
          0.013856209150326797,
          0.01437908496732026,
          0.01437908496732026,
          0.015424836601307189,
          0.015424836601307189,
          0.01568627450980392,
          0.01568627450980392,
          0.015947712418300654,
          0.015947712418300654,
          0.01647058823529412,
          0.01647058823529412,
          0.01673202614379085,
          0.01673202614379085,
          0.01699346405228758,
          0.01699346405228758,
          0.017254901960784313,
          0.017254901960784313,
          0.01803921568627451,
          0.01803921568627451,
          0.018562091503267975,
          0.018562091503267975,
          0.019084967320261437,
          0.019084967320261437,
          0.021176470588235293,
          0.021176470588235293,
          0.021699346405228758,
          0.021699346405228758,
          0.02196078431372549,
          0.02196078431372549,
          0.022483660130718956,
          0.022483660130718956,
          0.022745098039215685,
          0.022745098039215685,
          0.023006535947712417,
          0.023006535947712417,
          0.023529411764705882,
          0.023529411764705882,
          0.024575163398692812,
          0.024575163398692812,
          0.02483660130718954,
          0.02483660130718954,
          0.025098039215686273,
          0.025098039215686273,
          0.02562091503267974,
          0.02562091503267974,
          0.027712418300653595,
          0.027712418300653595,
          0.027973856209150327,
          0.027973856209150327,
          0.028496732026143792,
          0.028496732026143792,
          0.02875816993464052,
          0.02875816993464052,
          0.029281045751633986,
          0.029281045751633986,
          0.02980392156862745,
          0.02980392156862745,
          0.030065359477124184,
          0.030065359477124184,
          0.03111111111111111,
          0.03111111111111111,
          0.03137254901960784,
          0.03137254901960784,
          0.03320261437908497,
          0.03320261437908497,
          0.0334640522875817,
          0.0334640522875817,
          0.03503267973856209,
          0.03503267973856209,
          0.036601307189542485,
          0.036601307189542485,
          0.03712418300653595,
          0.03712418300653595,
          0.0392156862745098,
          0.0392156862745098,
          0.04,
          0.04,
          0.0407843137254902,
          0.0407843137254902,
          0.04156862745098039,
          0.04156862745098039,
          0.04183006535947712,
          0.04183006535947712,
          0.04392156862745098,
          0.04392156862745098,
          0.044444444444444446,
          0.044444444444444446,
          0.04549019607843137,
          0.04549019607843137,
          0.046013071895424834,
          0.046013071895424834,
          0.04627450980392157,
          0.04627450980392157,
          0.047058823529411764,
          0.047058823529411764,
          0.0473202614379085,
          0.0473202614379085,
          0.048104575163398694,
          0.048104575163398694,
          0.04888888888888889,
          0.04888888888888889,
          0.053856209150326795,
          0.053856209150326795,
          0.05411764705882353,
          0.05411764705882353,
          0.05437908496732026,
          0.05437908496732026,
          0.054901960784313725,
          0.054901960784313725,
          0.05542483660130719,
          0.05542483660130719,
          0.05620915032679739,
          0.05620915032679739,
          0.057777777777777775,
          0.057777777777777775,
          0.0596078431372549,
          0.0596078431372549,
          0.061699346405228755,
          0.061699346405228755,
          0.06222222222222222,
          0.06222222222222222,
          0.06509803921568627,
          0.06509803921568627,
          0.06562091503267974,
          0.06562091503267974,
          0.07058823529411765,
          0.07058823529411765,
          0.0726797385620915,
          0.0726797385620915,
          0.07450980392156863,
          0.07450980392156863,
          0.0784313725490196,
          0.0784313725490196,
          0.08130718954248366,
          0.08130718954248366,
          0.08209150326797386,
          0.08209150326797386,
          0.08261437908496733,
          0.08261437908496733,
          0.08366013071895424,
          0.08366013071895424,
          0.08496732026143791,
          0.08496732026143791,
          0.09098039215686274,
          0.09098039215686274,
          0.09124183006535948,
          0.09124183006535948,
          0.09254901960784313,
          0.09254901960784313,
          0.0938562091503268,
          0.0938562091503268,
          0.0988235294117647,
          0.0988235294117647,
          0.09934640522875816,
          0.09934640522875816,
          0.1069281045751634,
          0.1069281045751634,
          0.1315032679738562,
          0.1315032679738562,
          0.1322875816993464,
          0.1322875816993464,
          0.1330718954248366,
          0.1330718954248366,
          0.1349019607843137,
          0.1349019607843137,
          0.18823529411764706,
          0.18823529411764706,
          0.19215686274509805,
          0.19215686274509805,
          0.1950326797385621,
          0.1950326797385621,
          0.20026143790849674,
          0.20026143790849674,
          0.20366013071895425,
          0.20366013071895425,
          0.21176470588235294,
          0.21176470588235294,
          0.23346405228758169,
          0.23346405228758169,
          0.2611764705882353,
          1
         ],
         "y": [
          0,
          0.2874074074074074,
          0.38814814814814813,
          0.38814814814814813,
          0.4577777777777778,
          0.4577777777777778,
          0.46814814814814815,
          0.46814814814814815,
          0.4962962962962963,
          0.4962962962962963,
          0.5155555555555555,
          0.5155555555555555,
          0.5362962962962963,
          0.5362962962962963,
          0.5437037037037037,
          0.5437037037037037,
          0.5733333333333334,
          0.5733333333333334,
          0.5851851851851851,
          0.5851851851851851,
          0.6014814814814815,
          0.6014814814814815,
          0.6311111111111111,
          0.6311111111111111,
          0.6577777777777778,
          0.6577777777777778,
          0.6696296296296296,
          0.6696296296296296,
          0.674074074074074,
          0.674074074074074,
          0.68,
          0.68,
          0.682962962962963,
          0.682962962962963,
          0.6962962962962963,
          0.6962962962962963,
          0.6977777777777778,
          0.6977777777777778,
          0.6992592592592592,
          0.6992592592592592,
          0.7111111111111111,
          0.7111111111111111,
          0.7125925925925926,
          0.7125925925925926,
          0.717037037037037,
          0.717037037037037,
          0.7185185185185186,
          0.7185185185185186,
          0.7214814814814815,
          0.7214814814814815,
          0.7229629629629629,
          0.7229629629629629,
          0.7333333333333333,
          0.7333333333333333,
          0.7407407407407407,
          0.7407407407407407,
          0.7437037037037038,
          0.7437037037037038,
          0.7466666666666667,
          0.7466666666666667,
          0.7496296296296296,
          0.7496296296296296,
          0.7525925925925926,
          0.7525925925925926,
          0.7555555555555555,
          0.7555555555555555,
          0.7674074074074074,
          0.7674074074074074,
          0.7688888888888888,
          0.7688888888888888,
          0.7718518518518519,
          0.7718518518518519,
          0.7777777777777778,
          0.7777777777777778,
          0.7881481481481482,
          0.7881481481481482,
          0.7911111111111111,
          0.7911111111111111,
          0.794074074074074,
          0.794074074074074,
          0.797037037037037,
          0.797037037037037,
          0.7985185185185185,
          0.7985185185185185,
          0.8014814814814815,
          0.8014814814814815,
          0.802962962962963,
          0.802962962962963,
          0.8044444444444444,
          0.8044444444444444,
          0.8074074074074075,
          0.8074074074074075,
          0.8148148148148148,
          0.8148148148148148,
          0.8296296296296296,
          0.8296296296296296,
          0.8311111111111111,
          0.8311111111111111,
          0.8355555555555556,
          0.8355555555555556,
          0.8414814814814815,
          0.8414814814814815,
          0.8429629629629629,
          0.8429629629629629,
          0.8444444444444444,
          0.8444444444444444,
          0.8474074074074074,
          0.8474074074074074,
          0.8488888888888889,
          0.8488888888888889,
          0.8503703703703703,
          0.8503703703703703,
          0.8518518518518519,
          0.8518518518518519,
          0.8533333333333334,
          0.8533333333333334,
          0.8562962962962963,
          0.8562962962962963,
          0.8622222222222222,
          0.8622222222222222,
          0.8637037037037038,
          0.8637037037037038,
          0.8651851851851852,
          0.8651851851851852,
          0.8666666666666667,
          0.8666666666666667,
          0.8681481481481481,
          0.8681481481481481,
          0.8711111111111111,
          0.8711111111111111,
          0.8725925925925926,
          0.8725925925925926,
          0.8755555555555555,
          0.8755555555555555,
          0.8770370370370371,
          0.8770370370370371,
          0.8785185185185185,
          0.8785185185185185,
          0.882962962962963,
          0.882962962962963,
          0.8844444444444445,
          0.8844444444444445,
          0.8859259259259259,
          0.8859259259259259,
          0.8874074074074074,
          0.8874074074074074,
          0.8888888888888888,
          0.8888888888888888,
          0.8903703703703704,
          0.8903703703703704,
          0.8933333333333333,
          0.8933333333333333,
          0.8948148148148148,
          0.8948148148148148,
          0.8962962962962963,
          0.8962962962962963,
          0.8977777777777778,
          0.8977777777777778,
          0.8992592592592593,
          0.8992592592592593,
          0.9007407407407407,
          0.9007407407407407,
          0.9022222222222223,
          0.9022222222222223,
          0.9037037037037037,
          0.9037037037037037,
          0.9051851851851852,
          0.9051851851851852,
          0.9081481481481481,
          0.9081481481481481,
          0.9111111111111111,
          0.9111111111111111,
          0.914074074074074,
          0.914074074074074,
          0.9155555555555556,
          0.9155555555555556,
          0.917037037037037,
          0.917037037037037,
          0.92,
          0.92,
          0.922962962962963,
          0.922962962962963,
          0.9244444444444444,
          0.9244444444444444,
          0.9259259259259259,
          0.9259259259259259,
          0.9274074074074075,
          0.9274074074074075,
          0.9288888888888889,
          0.9288888888888889,
          0.9303703703703704,
          0.9303703703703704,
          0.9318518518518518,
          0.9318518518518518,
          0.9333333333333333,
          0.9333333333333333,
          0.9348148148148148,
          0.9348148148148148,
          0.9362962962962963,
          0.9362962962962963,
          0.9377777777777778,
          0.9377777777777778,
          0.9392592592592592,
          0.9392592592592592,
          0.9407407407407408,
          0.9407407407407408,
          0.9422222222222222,
          0.9422222222222222,
          0.9437037037037037,
          0.9437037037037037,
          0.9451851851851852,
          0.9451851851851852,
          0.9481481481481482,
          0.9481481481481482,
          0.9496296296296296,
          0.9496296296296296,
          0.9511111111111111,
          0.9511111111111111,
          0.9525925925925925,
          0.9525925925925925,
          0.9540740740740741,
          0.9540740740740741,
          0.9555555555555556,
          0.9555555555555556,
          0.957037037037037,
          0.957037037037037,
          0.9585185185185185,
          0.9585185185185185,
          0.96,
          0.96,
          0.9614814814814815,
          0.9614814814814815,
          0.9629629629629629,
          0.9629629629629629,
          0.965925925925926,
          0.965925925925926,
          0.9674074074074074,
          0.9674074074074074,
          0.9688888888888889,
          0.9688888888888889,
          0.9703703703703703,
          0.9703703703703703,
          0.9718518518518519,
          0.9718518518518519,
          0.9733333333333334,
          0.9733333333333334,
          0.9748148148148148,
          0.9748148148148148,
          0.9762962962962963,
          0.9762962962962963,
          0.9777777777777777,
          0.9777777777777777,
          0.9792592592592593,
          0.9792592592592593,
          0.9807407407407407,
          0.9807407407407407,
          0.9822222222222222,
          0.9822222222222222,
          0.9837037037037037,
          0.9837037037037037,
          0.9851851851851852,
          0.9851851851851852,
          0.9866666666666667,
          0.9866666666666667,
          1
         ]
        },
        {
         "mode": "lines",
         "name": "Class 2 (AUC = 0.98)",
         "type": "scatter",
         "x": [
          0,
          0,
          0,
          0.0002962962962962963,
          0.0002962962962962963,
          0.0005925925925925926,
          0.0005925925925925926,
          0.0008888888888888889,
          0.0008888888888888889,
          0.0011851851851851852,
          0.0011851851851851852,
          0.0014814814814814814,
          0.0014814814814814814,
          0.0017777777777777779,
          0.0017777777777777779,
          0.0023703703703703703,
          0.0023703703703703703,
          0.0026666666666666666,
          0.0026666666666666666,
          0.002962962962962963,
          0.002962962962962963,
          0.003259259259259259,
          0.003259259259259259,
          0.0035555555555555557,
          0.0035555555555555557,
          0.004148148148148148,
          0.004148148148148148,
          0.0044444444444444444,
          0.0044444444444444444,
          0.004740740740740741,
          0.004740740740740741,
          0.005037037037037037,
          0.005037037037037037,
          0.005333333333333333,
          0.005333333333333333,
          0.005925925925925926,
          0.005925925925925926,
          0.006222222222222222,
          0.006222222222222222,
          0.006814814814814815,
          0.006814814814814815,
          0.0071111111111111115,
          0.0071111111111111115,
          0.007407407407407408,
          0.007407407407407408,
          0.007703703703703704,
          0.007703703703703704,
          0.008,
          0.008,
          0.008296296296296296,
          0.008296296296296296,
          0.008592592592592593,
          0.008592592592592593,
          0.008888888888888889,
          0.008888888888888889,
          0.009185185185185185,
          0.009185185185185185,
          0.009481481481481481,
          0.009481481481481481,
          0.009777777777777778,
          0.009777777777777778,
          0.010074074074074074,
          0.010074074074074074,
          0.01037037037037037,
          0.01037037037037037,
          0.010666666666666666,
          0.010666666666666666,
          0.010962962962962963,
          0.010962962962962963,
          0.011259259259259259,
          0.011259259259259259,
          0.012148148148148148,
          0.012148148148148148,
          0.012444444444444444,
          0.012444444444444444,
          0.01274074074074074,
          0.01274074074074074,
          0.013037037037037036,
          0.013037037037037036,
          0.013333333333333334,
          0.013333333333333334,
          0.01362962962962963,
          0.01362962962962963,
          0.013925925925925927,
          0.013925925925925927,
          0.014222222222222223,
          0.014222222222222223,
          0.01451851851851852,
          0.01451851851851852,
          0.015111111111111112,
          0.015111111111111112,
          0.015703703703703702,
          0.015703703703703702,
          0.016,
          0.016,
          0.016592592592592593,
          0.016592592592592593,
          0.016888888888888887,
          0.016888888888888887,
          0.017185185185185185,
          0.017185185185185185,
          0.01748148148148148,
          0.01748148148148148,
          0.017777777777777778,
          0.017777777777777778,
          0.018074074074074076,
          0.018074074074074076,
          0.01837037037037037,
          0.01837037037037037,
          0.018962962962962963,
          0.018962962962962963,
          0.019555555555555555,
          0.019555555555555555,
          0.020148148148148148,
          0.020148148148148148,
          0.02074074074074074,
          0.02074074074074074,
          0.021037037037037038,
          0.021037037037037038,
          0.021333333333333333,
          0.021333333333333333,
          0.02162962962962963,
          0.02162962962962963,
          0.021925925925925925,
          0.021925925925925925,
          0.022222222222222223,
          0.022222222222222223,
          0.022518518518518518,
          0.022518518518518518,
          0.023407407407407408,
          0.023407407407407408,
          0.024,
          0.024,
          0.024296296296296295,
          0.024296296296296295,
          0.024592592592592593,
          0.024592592592592593,
          0.024888888888888887,
          0.024888888888888887,
          0.025185185185185185,
          0.025185185185185185,
          0.025777777777777778,
          0.025777777777777778,
          0.026074074074074072,
          0.026074074074074072,
          0.02637037037037037,
          0.02637037037037037,
          0.026962962962962963,
          0.026962962962962963,
          0.02725925925925926,
          0.02725925925925926,
          0.027851851851851853,
          0.027851851851851853,
          0.028148148148148148,
          0.028148148148148148,
          0.02874074074074074,
          0.02874074074074074,
          0.02903703703703704,
          0.02903703703703704,
          0.029333333333333333,
          0.029333333333333333,
          0.02962962962962963,
          0.02962962962962963,
          0.030222222222222223,
          0.030222222222222223,
          0.030518518518518518,
          0.030518518518518518,
          0.030814814814814816,
          0.030814814814814816,
          0.03111111111111111,
          0.03111111111111111,
          0.031703703703703706,
          0.031703703703703706,
          0.032296296296296295,
          0.032296296296296295,
          0.03288888888888889,
          0.03288888888888889,
          0.035555555555555556,
          0.035555555555555556,
          0.03585185185185185,
          0.03585185185185185,
          0.036444444444444446,
          0.036444444444444446,
          0.03674074074074074,
          0.03674074074074074,
          0.037037037037037035,
          0.037037037037037035,
          0.03762962962962963,
          0.03762962962962963,
          0.037925925925925925,
          0.037925925925925925,
          0.03822222222222222,
          0.03822222222222222,
          0.039407407407407405,
          0.039407407407407405,
          0.04,
          0.04,
          0.040296296296296295,
          0.040296296296296295,
          0.04088888888888889,
          0.04088888888888889,
          0.043555555555555556,
          0.043555555555555556,
          0.044148148148148145,
          0.044148148148148145,
          0.04474074074074074,
          0.04474074074074074,
          0.045925925925925926,
          0.045925925925925926,
          0.046814814814814816,
          0.046814814814814816,
          0.048,
          0.048,
          0.048296296296296296,
          0.048296296296296296,
          0.04859259259259259,
          0.04859259259259259,
          0.050666666666666665,
          0.050666666666666665,
          0.05096296296296296,
          0.05096296296296296,
          0.05125925925925926,
          0.05125925925925926,
          0.051555555555555556,
          0.051555555555555556,
          0.05274074074074074,
          0.05274074074074074,
          0.053037037037037035,
          0.053037037037037035,
          0.053925925925925926,
          0.053925925925925926,
          0.05422222222222222,
          0.05422222222222222,
          0.05451851851851852,
          0.05451851851851852,
          0.055407407407407405,
          0.055407407407407405,
          0.05837037037037037,
          0.05837037037037037,
          0.058666666666666666,
          0.058666666666666666,
          0.05925925925925926,
          0.05925925925925926,
          0.060148148148148145,
          0.060148148148148145,
          0.060444444444444446,
          0.060444444444444446,
          0.06074074074074074,
          0.06074074074074074,
          0.061037037037037035,
          0.061037037037037035,
          0.06222222222222222,
          0.06222222222222222,
          0.06251851851851851,
          0.06251851851851851,
          0.06311111111111112,
          0.06311111111111112,
          0.06340740740740741,
          0.06340740740740741,
          0.0642962962962963,
          0.0642962962962963,
          0.06459259259259259,
          0.06459259259259259,
          0.06607407407407408,
          0.06607407407407408,
          0.06874074074074074,
          0.06874074074074074,
          0.06903703703703704,
          0.06903703703703704,
          0.0722962962962963,
          0.0722962962962963,
          0.07348148148148148,
          0.07348148148148148,
          0.07437037037037036,
          0.07437037037037036,
          0.07851851851851852,
          0.07851851851851852,
          0.07940740740740741,
          0.07940740740740741,
          0.08,
          0.08,
          0.08177777777777778,
          0.08177777777777778,
          0.08266666666666667,
          0.08266666666666667,
          0.08355555555555555,
          0.08355555555555555,
          0.08385185185185186,
          0.08385185185185186,
          0.08562962962962962,
          0.08562962962962962,
          0.08622222222222223,
          0.08622222222222223,
          0.08681481481481482,
          0.08681481481481482,
          0.08711111111111111,
          0.08711111111111111,
          0.0877037037037037,
          0.0877037037037037,
          0.08829629629629629,
          0.08829629629629629,
          0.08977777777777778,
          0.08977777777777778,
          0.09540740740740741,
          0.09540740740740741,
          0.09925925925925926,
          0.09925925925925926,
          0.10696296296296297,
          0.10696296296296297,
          0.11140740740740741,
          0.11140740740740741,
          0.1197037037037037,
          0.1197037037037037,
          0.12148148148148148,
          0.12148148148148148,
          0.128,
          0.128,
          0.1351111111111111,
          0.1351111111111111,
          0.1362962962962963,
          0.1362962962962963,
          0.1368888888888889,
          0.1368888888888889,
          0.1431111111111111,
          0.1431111111111111,
          0.14725925925925926,
          0.14725925925925926,
          0.15674074074074074,
          0.15674074074074074,
          0.15733333333333333,
          0.15733333333333333,
          0.1674074074074074,
          0.1674074074074074,
          0.17214814814814816,
          0.17214814814814816,
          0.1768888888888889,
          0.1768888888888889,
          0.18874074074074074,
          0.18874074074074074,
          0.19644444444444445,
          0.19644444444444445,
          0.19792592592592592,
          0.19792592592592592,
          0.20237037037037037,
          0.20237037037037037,
          0.20474074074074075,
          0.20474074074074075,
          0.20859259259259258,
          0.20859259259259258,
          0.2248888888888889,
          0.2248888888888889,
          0.26281481481481483,
          0.26281481481481483,
          0.2776296296296296,
          0.2776296296296296,
          0.2805925925925926,
          0.2805925925925926,
          0.2983703703703704,
          0.2983703703703704,
          0.30637037037037035,
          0.30637037037037035,
          0.3348148148148148,
          0.3348148148148148,
          0.4059259259259259,
          0.4059259259259259,
          0.4231111111111111,
          0.4231111111111111,
          0.4737777777777778,
          1
         ],
         "y": [
          0,
          0.12088888888888889,
          0.30666666666666664,
          0.30666666666666664,
          0.36977777777777776,
          0.36977777777777776,
          0.3928888888888889,
          0.3928888888888889,
          0.4186666666666667,
          0.4186666666666667,
          0.42488888888888887,
          0.42488888888888887,
          0.44533333333333336,
          0.44533333333333336,
          0.5191111111111111,
          0.5191111111111111,
          0.5297777777777778,
          0.5297777777777778,
          0.536,
          0.536,
          0.5537777777777778,
          0.5537777777777778,
          0.5555555555555556,
          0.5555555555555556,
          0.56,
          0.56,
          0.5786666666666667,
          0.5786666666666667,
          0.5884444444444444,
          0.5884444444444444,
          0.6044444444444445,
          0.6044444444444445,
          0.616,
          0.616,
          0.6524444444444445,
          0.6524444444444445,
          0.6551111111111111,
          0.6551111111111111,
          0.656,
          0.656,
          0.6613333333333333,
          0.6613333333333333,
          0.6693333333333333,
          0.6693333333333333,
          0.6826666666666666,
          0.6826666666666666,
          0.6835555555555556,
          0.6835555555555556,
          0.6871111111111111,
          0.6871111111111111,
          0.6995555555555556,
          0.6995555555555556,
          0.7013333333333334,
          0.7013333333333334,
          0.7084444444444444,
          0.7084444444444444,
          0.712,
          0.712,
          0.7164444444444444,
          0.7164444444444444,
          0.7244444444444444,
          0.7244444444444444,
          0.7253333333333334,
          0.7253333333333334,
          0.7333333333333333,
          0.7333333333333333,
          0.7377777777777778,
          0.7377777777777778,
          0.7386666666666667,
          0.7386666666666667,
          0.7395555555555555,
          0.7395555555555555,
          0.7448888888888889,
          0.7448888888888889,
          0.7493333333333333,
          0.7493333333333333,
          0.7608888888888888,
          0.7608888888888888,
          0.7626666666666667,
          0.7626666666666667,
          0.7653333333333333,
          0.7653333333333333,
          0.7715555555555556,
          0.7715555555555556,
          0.7724444444444445,
          0.7724444444444445,
          0.7733333333333333,
          0.7733333333333333,
          0.7822222222222223,
          0.7822222222222223,
          0.7866666666666666,
          0.7866666666666666,
          0.7875555555555556,
          0.7875555555555556,
          0.7884444444444444,
          0.7884444444444444,
          0.7946666666666666,
          0.7946666666666666,
          0.8017777777777778,
          0.8017777777777778,
          0.808,
          0.808,
          0.8115555555555556,
          0.8115555555555556,
          0.8133333333333334,
          0.8133333333333334,
          0.8151111111111111,
          0.8151111111111111,
          0.8195555555555556,
          0.8195555555555556,
          0.8257777777777778,
          0.8257777777777778,
          0.8275555555555556,
          0.8275555555555556,
          0.8302222222222222,
          0.8302222222222222,
          0.8337777777777777,
          0.8337777777777777,
          0.8355555555555556,
          0.8355555555555556,
          0.8364444444444444,
          0.8364444444444444,
          0.8373333333333334,
          0.8373333333333334,
          0.8417777777777777,
          0.8417777777777777,
          0.8444444444444444,
          0.8444444444444444,
          0.8453333333333334,
          0.8453333333333334,
          0.848,
          0.848,
          0.8506666666666667,
          0.8506666666666667,
          0.8515555555555555,
          0.8515555555555555,
          0.8533333333333334,
          0.8533333333333334,
          0.8551111111111112,
          0.8551111111111112,
          0.856,
          0.856,
          0.8568888888888889,
          0.8568888888888889,
          0.8577777777777778,
          0.8577777777777778,
          0.8586666666666667,
          0.8586666666666667,
          0.8622222222222222,
          0.8622222222222222,
          0.8648888888888889,
          0.8648888888888889,
          0.8666666666666667,
          0.8666666666666667,
          0.8693333333333333,
          0.8693333333333333,
          0.872,
          0.872,
          0.8728888888888889,
          0.8728888888888889,
          0.8764444444444445,
          0.8764444444444445,
          0.8773333333333333,
          0.8773333333333333,
          0.88,
          0.88,
          0.8808888888888889,
          0.8808888888888889,
          0.888,
          0.888,
          0.8897777777777778,
          0.8897777777777778,
          0.8906666666666667,
          0.8906666666666667,
          0.8924444444444445,
          0.8924444444444445,
          0.8942222222222223,
          0.8942222222222223,
          0.8968888888888888,
          0.8968888888888888,
          0.8986666666666666,
          0.8986666666666666,
          0.8995555555555556,
          0.8995555555555556,
          0.9013333333333333,
          0.9013333333333333,
          0.9022222222222223,
          0.9022222222222223,
          0.9048888888888889,
          0.9048888888888889,
          0.9057777777777778,
          0.9057777777777778,
          0.9066666666666666,
          0.9066666666666666,
          0.9075555555555556,
          0.9075555555555556,
          0.9102222222222223,
          0.9102222222222223,
          0.9111111111111111,
          0.9111111111111111,
          0.912,
          0.912,
          0.9128888888888889,
          0.9128888888888889,
          0.9137777777777778,
          0.9137777777777778,
          0.9155555555555556,
          0.9155555555555556,
          0.9173333333333333,
          0.9173333333333333,
          0.9182222222222223,
          0.9182222222222223,
          0.9191111111111111,
          0.9191111111111111,
          0.92,
          0.92,
          0.9208888888888889,
          0.9208888888888889,
          0.9217777777777778,
          0.9217777777777778,
          0.9235555555555556,
          0.9235555555555556,
          0.9253333333333333,
          0.9253333333333333,
          0.9262222222222222,
          0.9262222222222222,
          0.9271111111111111,
          0.9271111111111111,
          0.928,
          0.928,
          0.9288888888888889,
          0.9288888888888889,
          0.9297777777777778,
          0.9297777777777778,
          0.9306666666666666,
          0.9306666666666666,
          0.9315555555555556,
          0.9315555555555556,
          0.9324444444444444,
          0.9324444444444444,
          0.9333333333333333,
          0.9333333333333333,
          0.9342222222222222,
          0.9342222222222222,
          0.9351111111111111,
          0.9351111111111111,
          0.9377777777777778,
          0.9377777777777778,
          0.9395555555555556,
          0.9395555555555556,
          0.9413333333333334,
          0.9413333333333334,
          0.944,
          0.944,
          0.9448888888888889,
          0.9448888888888889,
          0.9457777777777778,
          0.9457777777777778,
          0.9466666666666667,
          0.9466666666666667,
          0.9484444444444444,
          0.9484444444444444,
          0.9493333333333334,
          0.9493333333333334,
          0.9502222222222222,
          0.9502222222222222,
          0.9511111111111111,
          0.9511111111111111,
          0.952,
          0.952,
          0.9528888888888889,
          0.9528888888888889,
          0.9537777777777777,
          0.9537777777777777,
          0.9546666666666667,
          0.9546666666666667,
          0.9555555555555556,
          0.9555555555555556,
          0.9564444444444444,
          0.9564444444444444,
          0.9573333333333334,
          0.9573333333333334,
          0.9582222222222222,
          0.9582222222222222,
          0.9591111111111111,
          0.9591111111111111,
          0.96,
          0.96,
          0.9617777777777777,
          0.9617777777777777,
          0.9626666666666667,
          0.9626666666666667,
          0.9635555555555556,
          0.9635555555555556,
          0.9644444444444444,
          0.9644444444444444,
          0.9653333333333334,
          0.9653333333333334,
          0.9671111111111111,
          0.9671111111111111,
          0.968,
          0.968,
          0.9688888888888889,
          0.9688888888888889,
          0.9697777777777777,
          0.9697777777777777,
          0.9706666666666667,
          0.9706666666666667,
          0.9715555555555555,
          0.9715555555555555,
          0.9724444444444444,
          0.9724444444444444,
          0.9733333333333334,
          0.9733333333333334,
          0.9742222222222222,
          0.9742222222222222,
          0.9751111111111112,
          0.9751111111111112,
          0.976,
          0.976,
          0.9768888888888889,
          0.9768888888888889,
          0.9777777777777777,
          0.9777777777777777,
          0.9786666666666667,
          0.9786666666666667,
          0.9795555555555555,
          0.9795555555555555,
          0.9804444444444445,
          0.9804444444444445,
          0.9813333333333333,
          0.9813333333333333,
          0.9822222222222222,
          0.9822222222222222,
          0.9831111111111112,
          0.9831111111111112,
          0.984,
          0.984,
          0.9848888888888889,
          0.9848888888888889,
          0.9857777777777778,
          0.9857777777777778,
          0.9866666666666667,
          0.9866666666666667,
          0.9875555555555555,
          0.9875555555555555,
          0.9884444444444445,
          0.9884444444444445,
          0.9893333333333333,
          0.9893333333333333,
          0.9902222222222222,
          0.9902222222222222,
          0.9911111111111112,
          0.9911111111111112,
          0.992,
          0.992,
          0.9928888888888889,
          0.9928888888888889,
          0.9937777777777778,
          0.9937777777777778,
          0.9946666666666667,
          0.9946666666666667,
          0.9955555555555555,
          0.9955555555555555,
          0.9964444444444445,
          0.9964444444444445,
          0.9973333333333333,
          0.9973333333333333,
          1
         ]
        },
        {
         "mode": "lines",
         "name": "Class 3 (AUC = 0.98)",
         "type": "scatter",
         "x": [
          0,
          0,
          0,
          0.00026143790849673205,
          0.00026143790849673205,
          0.0005228758169934641,
          0.0005228758169934641,
          0.000784313725490196,
          0.000784313725490196,
          0.0010457516339869282,
          0.0010457516339869282,
          0.00130718954248366,
          0.00130718954248366,
          0.001568627450980392,
          0.001568627450980392,
          0.0018300653594771241,
          0.0018300653594771241,
          0.0020915032679738564,
          0.0020915032679738564,
          0.002352941176470588,
          0.002352941176470588,
          0.00261437908496732,
          0.00261437908496732,
          0.002875816993464052,
          0.002875816993464052,
          0.003137254901960784,
          0.003137254901960784,
          0.0033986928104575162,
          0.0033986928104575162,
          0.0036601307189542483,
          0.0036601307189542483,
          0.00392156862745098,
          0.00392156862745098,
          0.004183006535947713,
          0.004183006535947713,
          0.0044444444444444444,
          0.0044444444444444444,
          0.004705882352941176,
          0.004705882352941176,
          0.0049673202614379085,
          0.0049673202614379085,
          0.005490196078431373,
          0.005490196078431373,
          0.006013071895424837,
          0.006013071895424837,
          0.006274509803921568,
          0.006274509803921568,
          0.006535947712418301,
          0.006535947712418301,
          0.0067973856209150325,
          0.0067973856209150325,
          0.007058823529411765,
          0.007058823529411765,
          0.007320261437908497,
          0.007320261437908497,
          0.007581699346405229,
          0.007581699346405229,
          0.00784313725490196,
          0.00784313725490196,
          0.008104575163398693,
          0.008104575163398693,
          0.008366013071895426,
          0.008366013071895426,
          0.008627450980392156,
          0.008627450980392156,
          0.008888888888888889,
          0.008888888888888889,
          0.009411764705882352,
          0.009411764705882352,
          0.009673202614379085,
          0.009673202614379085,
          0.009934640522875817,
          0.009934640522875817,
          0.01019607843137255,
          0.01019607843137255,
          0.010718954248366013,
          0.010718954248366013,
          0.010980392156862745,
          0.010980392156862745,
          0.011241830065359478,
          0.011241830065359478,
          0.011503267973856209,
          0.011503267973856209,
          0.011764705882352941,
          0.011764705882352941,
          0.012287581699346406,
          0.012287581699346406,
          0.01281045751633987,
          0.01281045751633987,
          0.013071895424836602,
          0.013071895424836602,
          0.013856209150326797,
          0.013856209150326797,
          0.01411764705882353,
          0.01411764705882353,
          0.014640522875816993,
          0.014640522875816993,
          0.014901960784313726,
          0.014901960784313726,
          0.015163398692810458,
          0.015163398692810458,
          0.015424836601307189,
          0.015424836601307189,
          0.01647058823529412,
          0.01647058823529412,
          0.017254901960784313,
          0.017254901960784313,
          0.017516339869281045,
          0.017516339869281045,
          0.01803921568627451,
          0.01803921568627451,
          0.018562091503267975,
          0.018562091503267975,
          0.018823529411764704,
          0.018823529411764704,
          0.0196078431372549,
          0.0196078431372549,
          0.020130718954248367,
          0.020130718954248367,
          0.02065359477124183,
          0.02065359477124183,
          0.02091503267973856,
          0.02091503267973856,
          0.021437908496732026,
          0.021437908496732026,
          0.02196078431372549,
          0.02196078431372549,
          0.022222222222222223,
          0.022222222222222223,
          0.022483660130718956,
          0.022483660130718956,
          0.022745098039215685,
          0.022745098039215685,
          0.023790849673202615,
          0.023790849673202615,
          0.024575163398692812,
          0.024575163398692812,
          0.025359477124183006,
          0.025359477124183006,
          0.02562091503267974,
          0.02562091503267974,
          0.02588235294117647,
          0.02588235294117647,
          0.026928104575163397,
          0.026928104575163397,
          0.027450980392156862,
          0.027450980392156862,
          0.028496732026143792,
          0.028496732026143792,
          0.02875816993464052,
          0.02875816993464052,
          0.03137254901960784,
          0.03137254901960784,
          0.032679738562091505,
          0.032679738562091505,
          0.03320261437908497,
          0.03320261437908497,
          0.03398692810457516,
          0.03398692810457516,
          0.03477124183006536,
          0.03477124183006536,
          0.03581699346405229,
          0.03581699346405229,
          0.03607843137254902,
          0.03607843137254902,
          0.03633986928104575,
          0.03633986928104575,
          0.03816993464052287,
          0.03816993464052287,
          0.04,
          0.04,
          0.04104575163398693,
          0.04104575163398693,
          0.04156862745098039,
          0.04156862745098039,
          0.0457516339869281,
          0.0457516339869281,
          0.04941176470588235,
          0.04941176470588235,
          0.05071895424836601,
          0.05071895424836601,
          0.05464052287581699,
          0.05464052287581699,
          0.05830065359477124,
          0.05830065359477124,
          0.06483660130718955,
          0.06483660130718955,
          0.06588235294117648,
          0.06588235294117648,
          0.0669281045751634,
          0.0669281045751634,
          0.06718954248366013,
          0.06718954248366013,
          0.07058823529411765,
          0.07058823529411765,
          0.07111111111111111,
          0.07111111111111111,
          0.07450980392156863,
          0.07450980392156863,
          0.07555555555555556,
          0.07555555555555556,
          0.07869281045751635,
          0.07869281045751635,
          0.08104575163398693,
          0.08104575163398693,
          0.08130718954248366,
          0.08130718954248366,
          0.08261437908496733,
          0.08261437908496733,
          0.0873202614379085,
          0.0873202614379085,
          0.09098039215686274,
          0.09098039215686274,
          0.09124183006535948,
          0.09124183006535948,
          0.10222222222222223,
          0.10222222222222223,
          0.10666666666666667,
          0.10666666666666667,
          0.10745098039215686,
          0.10745098039215686,
          0.11006535947712419,
          0.11006535947712419,
          0.11032679738562091,
          0.11032679738562091,
          0.11450980392156863,
          0.11450980392156863,
          0.11895424836601307,
          0.11895424836601307,
          0.11973856209150327,
          0.11973856209150327,
          0.12601307189542485,
          0.12601307189542485,
          0.15764705882352942,
          0.15764705882352942,
          0.16261437908496731,
          0.16261437908496731,
          0.16392156862745097,
          0.16392156862745097,
          0.19555555555555557,
          0.19555555555555557,
          0.19895424836601308,
          0.19895424836601308,
          0.21568627450980393,
          0.21568627450980393,
          0.24679738562091502,
          0.24679738562091502,
          0.27320261437908494,
          0.27320261437908494,
          0.28705882352941176,
          0.28705882352941176,
          0.36183006535947715,
          0.36183006535947715,
          0.3626143790849673,
          0.3626143790849673,
          0.4031372549019608,
          1
         ],
         "y": [
          0,
          0.13037037037037036,
          0.1985185185185185,
          0.1985185185185185,
          0.2311111111111111,
          0.2311111111111111,
          0.28444444444444444,
          0.28444444444444444,
          0.29185185185185186,
          0.29185185185185186,
          0.36148148148148146,
          0.36148148148148146,
          0.42518518518518517,
          0.42518518518518517,
          0.4562962962962963,
          0.4562962962962963,
          0.45925925925925926,
          0.45925925925925926,
          0.48148148148148145,
          0.48148148148148145,
          0.5155555555555555,
          0.5155555555555555,
          0.5214814814814814,
          0.5214814814814814,
          0.5703703703703704,
          0.5703703703703704,
          0.5866666666666667,
          0.5866666666666667,
          0.5896296296296296,
          0.5896296296296296,
          0.6237037037037036,
          0.6237037037037036,
          0.6488888888888888,
          0.6488888888888888,
          0.6548148148148148,
          0.6548148148148148,
          0.677037037037037,
          0.677037037037037,
          0.6785185185185185,
          0.6785185185185185,
          0.6844444444444444,
          0.6844444444444444,
          0.6962962962962963,
          0.6962962962962963,
          0.6977777777777778,
          0.6977777777777778,
          0.6992592592592592,
          0.6992592592592592,
          0.7037037037037037,
          0.7037037037037037,
          0.7096296296296296,
          0.7096296296296296,
          0.72,
          0.72,
          0.7229629629629629,
          0.7229629629629629,
          0.7274074074074074,
          0.7274074074074074,
          0.7570370370370371,
          0.7570370370370371,
          0.7585185185185185,
          0.7585185185185185,
          0.7614814814814815,
          0.7614814814814815,
          0.7674074074074074,
          0.7674074074074074,
          0.7688888888888888,
          0.7688888888888888,
          0.7718518518518519,
          0.7718518518518519,
          0.7777777777777778,
          0.7777777777777778,
          0.7822222222222223,
          0.7822222222222223,
          0.7896296296296297,
          0.7896296296296297,
          0.797037037037037,
          0.797037037037037,
          0.7985185185185185,
          0.7985185185185185,
          0.8014814814814815,
          0.8014814814814815,
          0.8044444444444444,
          0.8044444444444444,
          0.8059259259259259,
          0.8059259259259259,
          0.8074074074074075,
          0.8074074074074075,
          0.8118518518518518,
          0.8118518518518518,
          0.8148148148148148,
          0.8148148148148148,
          0.8177777777777778,
          0.8177777777777778,
          0.8207407407407408,
          0.8207407407407408,
          0.8355555555555556,
          0.8355555555555556,
          0.837037037037037,
          0.837037037037037,
          0.8414814814814815,
          0.8414814814814815,
          0.8474074074074074,
          0.8474074074074074,
          0.8503703703703703,
          0.8503703703703703,
          0.8533333333333334,
          0.8533333333333334,
          0.8548148148148148,
          0.8548148148148148,
          0.8562962962962963,
          0.8562962962962963,
          0.8607407407407407,
          0.8607407407407407,
          0.8666666666666667,
          0.8666666666666667,
          0.8711111111111111,
          0.8711111111111111,
          0.8725925925925926,
          0.8725925925925926,
          0.8755555555555555,
          0.8755555555555555,
          0.8770370370370371,
          0.8770370370370371,
          0.8785185185185185,
          0.8785185185185185,
          0.88,
          0.88,
          0.8844444444444445,
          0.8844444444444445,
          0.8888888888888888,
          0.8888888888888888,
          0.8918518518518519,
          0.8918518518518519,
          0.8948148148148148,
          0.8948148148148148,
          0.8977777777777778,
          0.8977777777777778,
          0.8992592592592593,
          0.8992592592592593,
          0.9007407407407407,
          0.9007407407407407,
          0.9022222222222223,
          0.9022222222222223,
          0.9066666666666666,
          0.9066666666666666,
          0.9125925925925926,
          0.9125925925925926,
          0.914074074074074,
          0.914074074074074,
          0.9155555555555556,
          0.9155555555555556,
          0.917037037037037,
          0.917037037037037,
          0.9185185185185185,
          0.9185185185185185,
          0.92,
          0.92,
          0.9214814814814815,
          0.9214814814814815,
          0.922962962962963,
          0.922962962962963,
          0.9244444444444444,
          0.9244444444444444,
          0.9259259259259259,
          0.9259259259259259,
          0.9274074074074075,
          0.9274074074074075,
          0.9288888888888889,
          0.9288888888888889,
          0.9303703703703704,
          0.9303703703703704,
          0.9318518518518518,
          0.9318518518518518,
          0.9333333333333333,
          0.9333333333333333,
          0.9348148148148148,
          0.9348148148148148,
          0.9362962962962963,
          0.9362962962962963,
          0.9377777777777778,
          0.9377777777777778,
          0.9392592592592592,
          0.9392592592592592,
          0.9407407407407408,
          0.9407407407407408,
          0.9422222222222222,
          0.9422222222222222,
          0.9437037037037037,
          0.9437037037037037,
          0.9451851851851852,
          0.9451851851851852,
          0.9466666666666667,
          0.9466666666666667,
          0.9481481481481482,
          0.9481481481481482,
          0.9496296296296296,
          0.9496296296296296,
          0.9511111111111111,
          0.9511111111111111,
          0.9525925925925925,
          0.9525925925925925,
          0.9540740740740741,
          0.9540740740740741,
          0.9555555555555556,
          0.9555555555555556,
          0.9585185185185185,
          0.9585185185185185,
          0.96,
          0.96,
          0.9614814814814815,
          0.9614814814814815,
          0.9629629629629629,
          0.9629629629629629,
          0.9644444444444444,
          0.9644444444444444,
          0.965925925925926,
          0.965925925925926,
          0.9674074074074074,
          0.9674074074074074,
          0.9688888888888889,
          0.9688888888888889,
          0.9703703703703703,
          0.9703703703703703,
          0.9718518518518519,
          0.9718518518518519,
          0.9733333333333334,
          0.9733333333333334,
          0.9748148148148148,
          0.9748148148148148,
          0.9762962962962963,
          0.9762962962962963,
          0.9777777777777777,
          0.9777777777777777,
          0.9792592592592593,
          0.9792592592592593,
          0.9807407407407407,
          0.9807407407407407,
          0.9822222222222222,
          0.9822222222222222,
          0.9837037037037037,
          0.9837037037037037,
          0.9851851851851852,
          0.9851851851851852,
          0.9866666666666667,
          0.9866666666666667,
          0.9881481481481481,
          0.9881481481481481,
          0.9896296296296296,
          0.9896296296296296,
          0.9911111111111112,
          0.9911111111111112,
          0.9925925925925926,
          0.9925925925925926,
          0.9940740740740741,
          0.9940740740740741,
          1
         ]
        },
        {
         "mode": "lines",
         "name": "Class 4 (AUC = 0.98)",
         "type": "scatter",
         "x": [
          0,
          0,
          0,
          0.00023391812865497077,
          0.00023391812865497077,
          0.00046783625730994154,
          0.00046783625730994154,
          0.0009356725146198831,
          0.0009356725146198831,
          0.0011695906432748538,
          0.0011695906432748538,
          0.0014035087719298245,
          0.0014035087719298245,
          0.0018713450292397662,
          0.0018713450292397662,
          0.002105263157894737,
          0.002105263157894737,
          0.0032748538011695906,
          0.0032748538011695906,
          0.0035087719298245615,
          0.0035087719298245615,
          0.003976608187134503,
          0.003976608187134503,
          0.004210526315789474,
          0.004210526315789474,
          0.0044444444444444444,
          0.0044444444444444444,
          0.004678362573099415,
          0.004678362573099415,
          0.005146198830409357,
          0.005146198830409357,
          0.005614035087719298,
          0.005614035087719298,
          0.006783625730994152,
          0.006783625730994152,
          0.008654970760233919,
          0.008654970760233919,
          0.008888888888888889,
          0.008888888888888889,
          0.009122807017543859,
          0.009122807017543859,
          0.00935672514619883,
          0.00935672514619883,
          0.009824561403508772,
          0.009824561403508772,
          0.012163742690058479,
          0.012163742690058479,
          0.01239766081871345,
          0.01239766081871345,
          0.01497076023391813,
          0.01497076023391813,
          0.017076023391812866,
          0.017076023391812866,
          0.019415204678362573,
          0.019415204678362573,
          0.02128654970760234,
          0.02128654970760234,
          0.02456140350877193,
          0.02456140350877193,
          0.025730994152046785,
          0.025730994152046785,
          0.026432748538011697,
          0.026432748538011697,
          0.033216374269005845,
          0.033216374269005845,
          0.0343859649122807,
          0.0343859649122807,
          0.037894736842105266,
          0.037894736842105266,
          0.042339181286549704,
          0.042339181286549704,
          0.047719298245614036,
          0.047719298245614036,
          0.059415204678362574,
          0.059415204678362574,
          0.06339181286549708,
          0.06339181286549708,
          0.0912280701754386,
          0.0912280701754386,
          0.09497076023391812,
          0.09497076023391812,
          0.11742690058479532,
          0.11742690058479532,
          0.1342690058479532,
          0.1342690058479532,
          0.1408187134502924,
          0.1408187134502924,
          0.1504093567251462,
          1
         ],
         "y": [
          0,
          0.08888888888888889,
          0.5777777777777777,
          0.5777777777777777,
          0.6444444444444445,
          0.6444444444444445,
          0.6666666666666666,
          0.6666666666666666,
          0.6888888888888889,
          0.6888888888888889,
          0.7288888888888889,
          0.7288888888888889,
          0.7333333333333333,
          0.7333333333333333,
          0.7511111111111111,
          0.7511111111111111,
          0.7733333333333333,
          0.7733333333333333,
          0.7777777777777778,
          0.7777777777777778,
          0.7866666666666666,
          0.7866666666666666,
          0.7911111111111111,
          0.7911111111111111,
          0.7955555555555556,
          0.7955555555555556,
          0.8,
          0.8,
          0.8088888888888889,
          0.8088888888888889,
          0.8133333333333334,
          0.8133333333333334,
          0.8311111111111111,
          0.8311111111111111,
          0.8355555555555556,
          0.8355555555555556,
          0.84,
          0.84,
          0.8488888888888889,
          0.8488888888888889,
          0.8711111111111111,
          0.8711111111111111,
          0.88,
          0.88,
          0.8844444444444445,
          0.8844444444444445,
          0.8888888888888888,
          0.8888888888888888,
          0.8933333333333333,
          0.8933333333333333,
          0.8977777777777778,
          0.8977777777777778,
          0.9022222222222223,
          0.9022222222222223,
          0.9066666666666666,
          0.9066666666666666,
          0.9111111111111111,
          0.9111111111111111,
          0.9155555555555556,
          0.9155555555555556,
          0.92,
          0.92,
          0.9244444444444444,
          0.9244444444444444,
          0.9288888888888889,
          0.9288888888888889,
          0.9333333333333333,
          0.9333333333333333,
          0.9377777777777778,
          0.9377777777777778,
          0.9422222222222222,
          0.9422222222222222,
          0.9511111111111111,
          0.9511111111111111,
          0.9555555555555556,
          0.9555555555555556,
          0.96,
          0.96,
          0.9644444444444444,
          0.9644444444444444,
          0.9688888888888889,
          0.9688888888888889,
          0.9733333333333334,
          0.9733333333333334,
          0.9777777777777777,
          0.9777777777777777,
          0.9822222222222222,
          0.9822222222222222,
          1
         ]
        },
        {
         "mode": "lines",
         "name": "Class 5 (AUC = 0.99)",
         "type": "scatter",
         "x": [
          0,
          0,
          0,
          0.0007407407407407407,
          0.0007407407407407407,
          0.0009876543209876543,
          0.0009876543209876543,
          0.0014814814814814814,
          0.0014814814814814814,
          0.0017283950617283952,
          0.0017283950617283952,
          0.0019753086419753087,
          0.0019753086419753087,
          0.0022222222222222222,
          0.0022222222222222222,
          0.0024691358024691358,
          0.0024691358024691358,
          0.0027160493827160493,
          0.0027160493827160493,
          0.002962962962962963,
          0.002962962962962963,
          0.0032098765432098763,
          0.0032098765432098763,
          0.0034567901234567903,
          0.0034567901234567903,
          0.003703703703703704,
          0.003703703703703704,
          0.003950617283950617,
          0.003950617283950617,
          0.003950617283950617,
          0.004197530864197531,
          0.004197530864197531,
          0.0044444444444444444,
          0.0044444444444444444,
          0.004691358024691358,
          0.004691358024691358,
          0.0049382716049382715,
          0.0049382716049382715,
          0.005432098765432099,
          0.005432098765432099,
          0.005679012345679012,
          0.005679012345679012,
          0.005925925925925926,
          0.005925925925925926,
          0.006172839506172839,
          0.006172839506172839,
          0.006419753086419753,
          0.006419753086419753,
          0.006666666666666667,
          0.006666666666666667,
          0.007160493827160494,
          0.007160493827160494,
          0.008148148148148147,
          0.008148148148148147,
          0.008395061728395062,
          0.008395061728395062,
          0.008641975308641974,
          0.008641975308641974,
          0.008888888888888889,
          0.008888888888888889,
          0.009135802469135803,
          0.009135802469135803,
          0.01037037037037037,
          0.01037037037037037,
          0.011111111111111112,
          0.011111111111111112,
          0.012098765432098766,
          0.012098765432098766,
          0.013580246913580247,
          0.013580246913580247,
          0.015308641975308642,
          0.015308641975308642,
          0.015555555555555555,
          0.015555555555555555,
          0.01580246913580247,
          0.01580246913580247,
          0.01654320987654321,
          0.01654320987654321,
          0.016790123456790124,
          0.016790123456790124,
          0.017037037037037038,
          0.017037037037037038,
          0.01728395061728395,
          0.01728395061728395,
          0.01950617283950617,
          0.01950617283950617,
          0.020987654320987655,
          0.020987654320987655,
          0.02148148148148148,
          0.02148148148148148,
          0.023950617283950617,
          0.023950617283950617,
          0.02419753086419753,
          0.02419753086419753,
          0.025185185185185185,
          0.025185185185185185,
          0.0254320987654321,
          0.0254320987654321,
          0.028148148148148148,
          0.028148148148148148,
          0.029382716049382716,
          0.029382716049382716,
          0.030123456790123456,
          0.030123456790123456,
          0.030617283950617285,
          0.030617283950617285,
          0.032839506172839504,
          0.032839506172839504,
          0.03827160493827161,
          0.03827160493827161,
          0.04395061728395062,
          0.04395061728395062,
          0.04419753086419753,
          0.04419753086419753,
          0.044444444444444446,
          0.044444444444444446,
          0.04518518518518518,
          0.04518518518518518,
          0.046419753086419754,
          0.046419753086419754,
          0.047407407407407405,
          0.047407407407407405,
          0.04864197530864198,
          0.04864197530864198,
          0.053580246913580244,
          0.053580246913580244,
          0.06296296296296296,
          0.06296296296296296,
          0.11901234567901235,
          1
         ],
         "y": [
          0,
          0.3711111111111111,
          0.56,
          0.56,
          0.6288888888888889,
          0.6288888888888889,
          0.6622222222222223,
          0.6622222222222223,
          0.7333333333333333,
          0.7333333333333333,
          0.7511111111111111,
          0.7511111111111111,
          0.7622222222222222,
          0.7622222222222222,
          0.7822222222222223,
          0.7822222222222223,
          0.8,
          0.8,
          0.8066666666666666,
          0.8066666666666666,
          0.8133333333333334,
          0.8133333333333334,
          0.8177777777777778,
          0.8177777777777778,
          0.8222222222222222,
          0.8222222222222222,
          0.8244444444444444,
          0.8244444444444444,
          0.8288888888888889,
          0.8444444444444444,
          0.8444444444444444,
          0.8466666666666667,
          0.8466666666666667,
          0.8533333333333334,
          0.8533333333333334,
          0.8555555555555555,
          0.8555555555555555,
          0.8577777777777778,
          0.8577777777777778,
          0.8622222222222222,
          0.8622222222222222,
          0.8688888888888889,
          0.8688888888888889,
          0.8711111111111111,
          0.8711111111111111,
          0.8777777777777778,
          0.8777777777777778,
          0.88,
          0.88,
          0.8822222222222222,
          0.8822222222222222,
          0.8844444444444445,
          0.8844444444444445,
          0.8866666666666667,
          0.8866666666666667,
          0.8888888888888888,
          0.8888888888888888,
          0.8955555555555555,
          0.8955555555555555,
          0.8977777777777778,
          0.8977777777777778,
          0.9,
          0.9,
          0.9066666666666666,
          0.9066666666666666,
          0.9111111111111111,
          0.9111111111111111,
          0.9155555555555556,
          0.9155555555555556,
          0.9177777777777778,
          0.9177777777777778,
          0.9222222222222223,
          0.9222222222222223,
          0.9266666666666666,
          0.9266666666666666,
          0.9288888888888889,
          0.9288888888888889,
          0.9311111111111111,
          0.9311111111111111,
          0.9355555555555556,
          0.9355555555555556,
          0.9377777777777778,
          0.9377777777777778,
          0.9422222222222222,
          0.9422222222222222,
          0.9444444444444444,
          0.9444444444444444,
          0.9488888888888889,
          0.9488888888888889,
          0.9511111111111111,
          0.9511111111111111,
          0.9533333333333334,
          0.9533333333333334,
          0.9555555555555556,
          0.9555555555555556,
          0.9577777777777777,
          0.9577777777777777,
          0.96,
          0.96,
          0.9622222222222222,
          0.9622222222222222,
          0.9644444444444444,
          0.9644444444444444,
          0.9666666666666667,
          0.9666666666666667,
          0.9688888888888889,
          0.9688888888888889,
          0.9711111111111111,
          0.9711111111111111,
          0.9733333333333334,
          0.9733333333333334,
          0.9755555555555555,
          0.9755555555555555,
          0.9777777777777777,
          0.9777777777777777,
          0.98,
          0.98,
          0.9822222222222222,
          0.9822222222222222,
          0.9844444444444445,
          0.9844444444444445,
          0.9866666666666667,
          0.9866666666666667,
          0.9888888888888889,
          0.9888888888888889,
          0.9911111111111112,
          0.9911111111111112,
          0.9933333333333333,
          0.9933333333333333,
          1
         ]
        },
        {
         "mode": "lines",
         "name": "Class 6 (AUC = 1.00)",
         "type": "scatter",
         "x": [
          0,
          0,
          0,
          0.00026143790849673205,
          0.00026143790849673205,
          0.0005228758169934641,
          0.0005228758169934641,
          0.000784313725490196,
          0.000784313725490196,
          0.0010457516339869282,
          0.0010457516339869282,
          0.00130718954248366,
          0.00130718954248366,
          0.0018300653594771241,
          0.0018300653594771241,
          0.0020915032679738564,
          0.0020915032679738564,
          0.002352941176470588,
          0.002352941176470588,
          0.00261437908496732,
          0.00261437908496732,
          0.002875816993464052,
          0.002875816993464052,
          0.003137254901960784,
          0.003137254901960784,
          0.0033986928104575162,
          0.0033986928104575162,
          0.0036601307189542483,
          0.0036601307189542483,
          0.004183006535947713,
          0.004183006535947713,
          0.0044444444444444444,
          0.0044444444444444444,
          0.004705882352941176,
          0.004705882352941176,
          0.0049673202614379085,
          0.0049673202614379085,
          0.00522875816993464,
          0.00522875816993464,
          0.005490196078431373,
          0.005490196078431373,
          0.005751633986928104,
          0.005751633986928104,
          0.006013071895424837,
          0.006013071895424837,
          0.006274509803921568,
          0.006274509803921568,
          0.006535947712418301,
          0.006535947712418301,
          0.0067973856209150325,
          0.0067973856209150325,
          0.007058823529411765,
          0.007058823529411765,
          0.007320261437908497,
          0.007320261437908497,
          0.007581699346405229,
          0.007581699346405229,
          0.00784313725490196,
          0.00784313725490196,
          0.008366013071895426,
          0.008366013071895426,
          0.008888888888888889,
          0.008888888888888889,
          0.009411764705882352,
          0.009411764705882352,
          0.009673202614379085,
          0.009673202614379085,
          0.010980392156862745,
          0.010980392156862745,
          0.011241830065359478,
          0.011241830065359478,
          0.012549019607843137,
          0.012549019607843137,
          0.01281045751633987,
          0.01281045751633987,
          0.013333333333333334,
          0.013856209150326797,
          0.01437908496732026,
          0.01437908496732026,
          0.014640522875816993,
          0.014640522875816993,
          0.014901960784313726,
          0.014901960784313726,
          0.015163398692810458,
          0.015163398692810458,
          0.016209150326797386,
          0.016209150326797386,
          0.017254901960784313,
          0.017254901960784313,
          0.017777777777777778,
          0.017777777777777778,
          0.018562091503267975,
          0.018562091503267975,
          0.018823529411764704,
          0.018823529411764704,
          0.019084967320261437,
          0.019084967320261437,
          0.021699346405228758,
          0.021699346405228758,
          0.022222222222222223,
          0.022222222222222223,
          0.023529411764705882,
          0.023529411764705882,
          0.024575163398692812,
          0.024575163398692812,
          0.025359477124183006,
          0.025359477124183006,
          0.02588235294117647,
          0.02588235294117647,
          0.026928104575163397,
          0.026928104575163397,
          0.027973856209150327,
          0.027973856209150327,
          0.02954248366013072,
          0.02954248366013072,
          0.031633986928104575,
          0.031633986928104575,
          0.03241830065359477,
          0.03241830065359477,
          0.03294117647058824,
          0.03294117647058824,
          0.038431372549019606,
          0.038431372549019606,
          0.05124183006535948,
          0.05124183006535948,
          0.05437908496732026,
          0.05437908496732026,
          0.05568627450980392,
          0.05568627450980392,
          0.05673202614379085,
          0.05673202614379085,
          0.061699346405228755,
          0.061699346405228755,
          0.0677124183006536,
          0.0677124183006536,
          0.06849673202614379,
          0.06849673202614379,
          0.08758169934640522,
          0.08758169934640522,
          0.09045751633986929,
          0.09045751633986929,
          0.1265359477124183,
          0.1265359477124183,
          0.18143790849673203,
          1
         ],
         "y": [
          0,
          0.21037037037037037,
          0.22518518518518518,
          0.22518518518518518,
          0.3985185185185185,
          0.3985185185185185,
          0.4666666666666667,
          0.4666666666666667,
          0.557037037037037,
          0.557037037037037,
          0.6118518518518519,
          0.6118518518518519,
          0.6459259259259259,
          0.6459259259259259,
          0.6503703703703704,
          0.6503703703703704,
          0.6533333333333333,
          0.6533333333333333,
          0.674074074074074,
          0.674074074074074,
          0.6755555555555556,
          0.6755555555555556,
          0.6874074074074074,
          0.6874074074074074,
          0.7703703703703704,
          0.7703703703703704,
          0.7851851851851852,
          0.7851851851851852,
          0.7955555555555556,
          0.7955555555555556,
          0.8133333333333334,
          0.8133333333333334,
          0.84,
          0.84,
          0.845925925925926,
          0.845925925925926,
          0.8474074074074074,
          0.8474074074074074,
          0.8503703703703703,
          0.8503703703703703,
          0.8637037037037038,
          0.8637037037037038,
          0.8696296296296296,
          0.8696296296296296,
          0.8740740740740741,
          0.8740740740740741,
          0.8933333333333333,
          0.8933333333333333,
          0.8948148148148148,
          0.8948148148148148,
          0.8992592592592593,
          0.8992592592592593,
          0.9066666666666666,
          0.9066666666666666,
          0.9096296296296297,
          0.9096296296296297,
          0.9125925925925926,
          0.9125925925925926,
          0.9214814814814815,
          0.9214814814814815,
          0.922962962962963,
          0.922962962962963,
          0.9259259259259259,
          0.9259259259259259,
          0.9288888888888889,
          0.9288888888888889,
          0.9318518518518518,
          0.9318518518518518,
          0.9348148148148148,
          0.9348148148148148,
          0.9377777777777778,
          0.9377777777777778,
          0.9392592592592592,
          0.9392592592592592,
          0.9407407407407408,
          0.9407407407407408,
          0.9407407407407408,
          0.9407407407407408,
          0.9422222222222222,
          0.9422222222222222,
          0.9437037037037037,
          0.9437037037037037,
          0.9451851851851852,
          0.9451851851851852,
          0.9466666666666667,
          0.9466666666666667,
          0.9481481481481482,
          0.9481481481481482,
          0.9511111111111111,
          0.9511111111111111,
          0.9525925925925925,
          0.9525925925925925,
          0.9540740740740741,
          0.9540740740740741,
          0.9555555555555556,
          0.9555555555555556,
          0.96,
          0.96,
          0.9644444444444444,
          0.9644444444444444,
          0.965925925925926,
          0.965925925925926,
          0.9674074074074074,
          0.9674074074074074,
          0.9688888888888889,
          0.9688888888888889,
          0.9703703703703703,
          0.9703703703703703,
          0.9718518518518519,
          0.9718518518518519,
          0.9733333333333334,
          0.9733333333333334,
          0.9748148148148148,
          0.9748148148148148,
          0.9762962962962963,
          0.9762962962962963,
          0.9777777777777777,
          0.9777777777777777,
          0.9807407407407407,
          0.9807407407407407,
          0.9822222222222222,
          0.9822222222222222,
          0.9837037037037037,
          0.9837037037037037,
          0.9851851851851852,
          0.9851851851851852,
          0.9866666666666667,
          0.9866666666666667,
          0.9881481481481481,
          0.9881481481481481,
          0.9896296296296296,
          0.9896296296296296,
          0.9911111111111112,
          0.9911111111111112,
          0.9925925925925926,
          0.9925925925925926,
          0.9940740740740741,
          0.9940740740740741,
          0.9955555555555555,
          0.9955555555555555,
          0.9985185185185185,
          0.9985185185185185,
          1,
          1,
          1
         ]
        },
        {
         "mode": "lines",
         "name": "Class 7 (AUC = 0.99)",
         "type": "scatter",
         "x": [
          0,
          0,
          0,
          0.00023391812865497077,
          0.00023391812865497077,
          0.00046783625730994154,
          0.00046783625730994154,
          0.0007017543859649122,
          0.0007017543859649122,
          0.0009356725146198831,
          0.0009356725146198831,
          0.0011695906432748538,
          0.0011695906432748538,
          0.0016374269005847953,
          0.0016374269005847953,
          0.0018713450292397662,
          0.0018713450292397662,
          0.002105263157894737,
          0.002105263157894737,
          0.002807017543859649,
          0.002807017543859649,
          0.0030409356725146198,
          0.0030409356725146198,
          0.0032748538011695906,
          0.0032748538011695906,
          0.0035087719298245615,
          0.0035087719298245615,
          0.0037426900584795323,
          0.0037426900584795323,
          0.004912280701754386,
          0.004912280701754386,
          0.005146198830409357,
          0.005146198830409357,
          0.005380116959064328,
          0.005380116959064328,
          0.007251461988304094,
          0.007251461988304094,
          0.007485380116959065,
          0.007485380116959065,
          0.007953216374269005,
          0.007953216374269005,
          0.008654970760233919,
          0.008654970760233919,
          0.009122807017543859,
          0.009122807017543859,
          0.009824561403508772,
          0.009824561403508772,
          0.011461988304093567,
          0.011461988304093567,
          0.011929824561403509,
          0.011929824561403509,
          0.012163742690058479,
          0.012163742690058479,
          0.01239766081871345,
          0.01239766081871345,
          0.013333333333333334,
          0.013333333333333334,
          0.013801169590643274,
          0.013801169590643274,
          0.016608187134502923,
          0.016608187134502923,
          0.019649122807017545,
          0.019649122807017545,
          0.02760233918128655,
          0.02760233918128655,
          0.028304093567251463,
          0.028304093567251463,
          0.028771929824561403,
          0.028771929824561403,
          0.041169590643274856,
          0.041169590643274856,
          0.04280701754385965,
          0.04280701754385965,
          0.0456140350877193,
          0.0456140350877193,
          0.06900584795321638,
          1
         ],
         "y": [
          0,
          0.14222222222222222,
          0.4488888888888889,
          0.4488888888888889,
          0.7333333333333333,
          0.7333333333333333,
          0.7733333333333333,
          0.7733333333333333,
          0.8,
          0.8,
          0.8177777777777778,
          0.8177777777777778,
          0.8266666666666667,
          0.8266666666666667,
          0.8355555555555556,
          0.8355555555555556,
          0.8488888888888889,
          0.8488888888888889,
          0.8533333333333334,
          0.8533333333333334,
          0.8622222222222222,
          0.8622222222222222,
          0.8666666666666667,
          0.8666666666666667,
          0.8711111111111111,
          0.8711111111111111,
          0.8755555555555555,
          0.8755555555555555,
          0.88,
          0.88,
          0.8844444444444445,
          0.8844444444444445,
          0.8888888888888888,
          0.8888888888888888,
          0.8933333333333333,
          0.8933333333333333,
          0.8977777777777778,
          0.8977777777777778,
          0.9022222222222223,
          0.9022222222222223,
          0.9066666666666666,
          0.9066666666666666,
          0.9111111111111111,
          0.9111111111111111,
          0.9155555555555556,
          0.9155555555555556,
          0.92,
          0.92,
          0.9288888888888889,
          0.9288888888888889,
          0.9333333333333333,
          0.9333333333333333,
          0.9377777777777778,
          0.9377777777777778,
          0.9422222222222222,
          0.9422222222222222,
          0.9466666666666667,
          0.9466666666666667,
          0.9511111111111111,
          0.9511111111111111,
          0.9555555555555556,
          0.9555555555555556,
          0.96,
          0.96,
          0.9644444444444444,
          0.9644444444444444,
          0.9688888888888889,
          0.9688888888888889,
          0.9733333333333334,
          0.9733333333333334,
          0.9777777777777777,
          0.9777777777777777,
          0.9822222222222222,
          0.9822222222222222,
          0.9866666666666667,
          0.9866666666666667,
          1
         ]
        },
        {
         "line": {
          "dash": "dash"
         },
         "mode": "lines",
         "name": "Chance",
         "type": "scatter",
         "x": [
          0,
          1
         ],
         "y": [
          0,
          1
         ]
        }
       ],
       "layout": {
        "height": 800,
        "legend": {
         "orientation": "h",
         "x": 1,
         "xanchor": "right",
         "y": 1.02,
         "yanchor": "bottom"
        },
        "showlegend": true,
        "template": {
         "data": {
          "bar": [
           {
            "error_x": {
             "color": "#2a3f5f"
            },
            "error_y": {
             "color": "#2a3f5f"
            },
            "marker": {
             "line": {
              "color": "#E5ECF6",
              "width": 0.5
             },
             "pattern": {
              "fillmode": "overlay",
              "size": 10,
              "solidity": 0.2
             }
            },
            "type": "bar"
           }
          ],
          "barpolar": [
           {
            "marker": {
             "line": {
              "color": "#E5ECF6",
              "width": 0.5
             },
             "pattern": {
              "fillmode": "overlay",
              "size": 10,
              "solidity": 0.2
             }
            },
            "type": "barpolar"
           }
          ],
          "carpet": [
           {
            "aaxis": {
             "endlinecolor": "#2a3f5f",
             "gridcolor": "white",
             "linecolor": "white",
             "minorgridcolor": "white",
             "startlinecolor": "#2a3f5f"
            },
            "baxis": {
             "endlinecolor": "#2a3f5f",
             "gridcolor": "white",
             "linecolor": "white",
             "minorgridcolor": "white",
             "startlinecolor": "#2a3f5f"
            },
            "type": "carpet"
           }
          ],
          "choropleth": [
           {
            "colorbar": {
             "outlinewidth": 0,
             "ticks": ""
            },
            "type": "choropleth"
           }
          ],
          "contour": [
           {
            "colorbar": {
             "outlinewidth": 0,
             "ticks": ""
            },
            "colorscale": [
             [
              0,
              "#0d0887"
             ],
             [
              0.1111111111111111,
              "#46039f"
             ],
             [
              0.2222222222222222,
              "#7201a8"
             ],
             [
              0.3333333333333333,
              "#9c179e"
             ],
             [
              0.4444444444444444,
              "#bd3786"
             ],
             [
              0.5555555555555556,
              "#d8576b"
             ],
             [
              0.6666666666666666,
              "#ed7953"
             ],
             [
              0.7777777777777778,
              "#fb9f3a"
             ],
             [
              0.8888888888888888,
              "#fdca26"
             ],
             [
              1,
              "#f0f921"
             ]
            ],
            "type": "contour"
           }
          ],
          "contourcarpet": [
           {
            "colorbar": {
             "outlinewidth": 0,
             "ticks": ""
            },
            "type": "contourcarpet"
           }
          ],
          "heatmap": [
           {
            "colorbar": {
             "outlinewidth": 0,
             "ticks": ""
            },
            "colorscale": [
             [
              0,
              "#0d0887"
             ],
             [
              0.1111111111111111,
              "#46039f"
             ],
             [
              0.2222222222222222,
              "#7201a8"
             ],
             [
              0.3333333333333333,
              "#9c179e"
             ],
             [
              0.4444444444444444,
              "#bd3786"
             ],
             [
              0.5555555555555556,
              "#d8576b"
             ],
             [
              0.6666666666666666,
              "#ed7953"
             ],
             [
              0.7777777777777778,
              "#fb9f3a"
             ],
             [
              0.8888888888888888,
              "#fdca26"
             ],
             [
              1,
              "#f0f921"
             ]
            ],
            "type": "heatmap"
           }
          ],
          "heatmapgl": [
           {
            "colorbar": {
             "outlinewidth": 0,
             "ticks": ""
            },
            "colorscale": [
             [
              0,
              "#0d0887"
             ],
             [
              0.1111111111111111,
              "#46039f"
             ],
             [
              0.2222222222222222,
              "#7201a8"
             ],
             [
              0.3333333333333333,
              "#9c179e"
             ],
             [
              0.4444444444444444,
              "#bd3786"
             ],
             [
              0.5555555555555556,
              "#d8576b"
             ],
             [
              0.6666666666666666,
              "#ed7953"
             ],
             [
              0.7777777777777778,
              "#fb9f3a"
             ],
             [
              0.8888888888888888,
              "#fdca26"
             ],
             [
              1,
              "#f0f921"
             ]
            ],
            "type": "heatmapgl"
           }
          ],
          "histogram": [
           {
            "marker": {
             "pattern": {
              "fillmode": "overlay",
              "size": 10,
              "solidity": 0.2
             }
            },
            "type": "histogram"
           }
          ],
          "histogram2d": [
           {
            "colorbar": {
             "outlinewidth": 0,
             "ticks": ""
            },
            "colorscale": [
             [
              0,
              "#0d0887"
             ],
             [
              0.1111111111111111,
              "#46039f"
             ],
             [
              0.2222222222222222,
              "#7201a8"
             ],
             [
              0.3333333333333333,
              "#9c179e"
             ],
             [
              0.4444444444444444,
              "#bd3786"
             ],
             [
              0.5555555555555556,
              "#d8576b"
             ],
             [
              0.6666666666666666,
              "#ed7953"
             ],
             [
              0.7777777777777778,
              "#fb9f3a"
             ],
             [
              0.8888888888888888,
              "#fdca26"
             ],
             [
              1,
              "#f0f921"
             ]
            ],
            "type": "histogram2d"
           }
          ],
          "histogram2dcontour": [
           {
            "colorbar": {
             "outlinewidth": 0,
             "ticks": ""
            },
            "colorscale": [
             [
              0,
              "#0d0887"
             ],
             [
              0.1111111111111111,
              "#46039f"
             ],
             [
              0.2222222222222222,
              "#7201a8"
             ],
             [
              0.3333333333333333,
              "#9c179e"
             ],
             [
              0.4444444444444444,
              "#bd3786"
             ],
             [
              0.5555555555555556,
              "#d8576b"
             ],
             [
              0.6666666666666666,
              "#ed7953"
             ],
             [
              0.7777777777777778,
              "#fb9f3a"
             ],
             [
              0.8888888888888888,
              "#fdca26"
             ],
             [
              1,
              "#f0f921"
             ]
            ],
            "type": "histogram2dcontour"
           }
          ],
          "mesh3d": [
           {
            "colorbar": {
             "outlinewidth": 0,
             "ticks": ""
            },
            "type": "mesh3d"
           }
          ],
          "parcoords": [
           {
            "line": {
             "colorbar": {
              "outlinewidth": 0,
              "ticks": ""
             }
            },
            "type": "parcoords"
           }
          ],
          "pie": [
           {
            "automargin": true,
            "type": "pie"
           }
          ],
          "scatter": [
           {
            "fillpattern": {
             "fillmode": "overlay",
             "size": 10,
             "solidity": 0.2
            },
            "type": "scatter"
           }
          ],
          "scatter3d": [
           {
            "line": {
             "colorbar": {
              "outlinewidth": 0,
              "ticks": ""
             }
            },
            "marker": {
             "colorbar": {
              "outlinewidth": 0,
              "ticks": ""
             }
            },
            "type": "scatter3d"
           }
          ],
          "scattercarpet": [
           {
            "marker": {
             "colorbar": {
              "outlinewidth": 0,
              "ticks": ""
             }
            },
            "type": "scattercarpet"
           }
          ],
          "scattergeo": [
           {
            "marker": {
             "colorbar": {
              "outlinewidth": 0,
              "ticks": ""
             }
            },
            "type": "scattergeo"
           }
          ],
          "scattergl": [
           {
            "marker": {
             "colorbar": {
              "outlinewidth": 0,
              "ticks": ""
             }
            },
            "type": "scattergl"
           }
          ],
          "scattermapbox": [
           {
            "marker": {
             "colorbar": {
              "outlinewidth": 0,
              "ticks": ""
             }
            },
            "type": "scattermapbox"
           }
          ],
          "scatterpolar": [
           {
            "marker": {
             "colorbar": {
              "outlinewidth": 0,
              "ticks": ""
             }
            },
            "type": "scatterpolar"
           }
          ],
          "scatterpolargl": [
           {
            "marker": {
             "colorbar": {
              "outlinewidth": 0,
              "ticks": ""
             }
            },
            "type": "scatterpolargl"
           }
          ],
          "scatterternary": [
           {
            "marker": {
             "colorbar": {
              "outlinewidth": 0,
              "ticks": ""
             }
            },
            "type": "scatterternary"
           }
          ],
          "surface": [
           {
            "colorbar": {
             "outlinewidth": 0,
             "ticks": ""
            },
            "colorscale": [
             [
              0,
              "#0d0887"
             ],
             [
              0.1111111111111111,
              "#46039f"
             ],
             [
              0.2222222222222222,
              "#7201a8"
             ],
             [
              0.3333333333333333,
              "#9c179e"
             ],
             [
              0.4444444444444444,
              "#bd3786"
             ],
             [
              0.5555555555555556,
              "#d8576b"
             ],
             [
              0.6666666666666666,
              "#ed7953"
             ],
             [
              0.7777777777777778,
              "#fb9f3a"
             ],
             [
              0.8888888888888888,
              "#fdca26"
             ],
             [
              1,
              "#f0f921"
             ]
            ],
            "type": "surface"
           }
          ],
          "table": [
           {
            "cells": {
             "fill": {
              "color": "#EBF0F8"
             },
             "line": {
              "color": "white"
             }
            },
            "header": {
             "fill": {
              "color": "#C8D4E3"
             },
             "line": {
              "color": "white"
             }
            },
            "type": "table"
           }
          ]
         },
         "layout": {
          "annotationdefaults": {
           "arrowcolor": "#2a3f5f",
           "arrowhead": 0,
           "arrowwidth": 1
          },
          "autotypenumbers": "strict",
          "coloraxis": {
           "colorbar": {
            "outlinewidth": 0,
            "ticks": ""
           }
          },
          "colorscale": {
           "diverging": [
            [
             0,
             "#8e0152"
            ],
            [
             0.1,
             "#c51b7d"
            ],
            [
             0.2,
             "#de77ae"
            ],
            [
             0.3,
             "#f1b6da"
            ],
            [
             0.4,
             "#fde0ef"
            ],
            [
             0.5,
             "#f7f7f7"
            ],
            [
             0.6,
             "#e6f5d0"
            ],
            [
             0.7,
             "#b8e186"
            ],
            [
             0.8,
             "#7fbc41"
            ],
            [
             0.9,
             "#4d9221"
            ],
            [
             1,
             "#276419"
            ]
           ],
           "sequential": [
            [
             0,
             "#0d0887"
            ],
            [
             0.1111111111111111,
             "#46039f"
            ],
            [
             0.2222222222222222,
             "#7201a8"
            ],
            [
             0.3333333333333333,
             "#9c179e"
            ],
            [
             0.4444444444444444,
             "#bd3786"
            ],
            [
             0.5555555555555556,
             "#d8576b"
            ],
            [
             0.6666666666666666,
             "#ed7953"
            ],
            [
             0.7777777777777778,
             "#fb9f3a"
            ],
            [
             0.8888888888888888,
             "#fdca26"
            ],
            [
             1,
             "#f0f921"
            ]
           ],
           "sequentialminus": [
            [
             0,
             "#0d0887"
            ],
            [
             0.1111111111111111,
             "#46039f"
            ],
            [
             0.2222222222222222,
             "#7201a8"
            ],
            [
             0.3333333333333333,
             "#9c179e"
            ],
            [
             0.4444444444444444,
             "#bd3786"
            ],
            [
             0.5555555555555556,
             "#d8576b"
            ],
            [
             0.6666666666666666,
             "#ed7953"
            ],
            [
             0.7777777777777778,
             "#fb9f3a"
            ],
            [
             0.8888888888888888,
             "#fdca26"
            ],
            [
             1,
             "#f0f921"
            ]
           ]
          },
          "colorway": [
           "#636efa",
           "#EF553B",
           "#00cc96",
           "#ab63fa",
           "#FFA15A",
           "#19d3f3",
           "#FF6692",
           "#B6E880",
           "#FF97FF",
           "#FECB52"
          ],
          "font": {
           "color": "#2a3f5f"
          },
          "geo": {
           "bgcolor": "white",
           "lakecolor": "white",
           "landcolor": "#E5ECF6",
           "showlakes": true,
           "showland": true,
           "subunitcolor": "white"
          },
          "hoverlabel": {
           "align": "left"
          },
          "hovermode": "closest",
          "mapbox": {
           "style": "light"
          },
          "paper_bgcolor": "white",
          "plot_bgcolor": "#E5ECF6",
          "polar": {
           "angularaxis": {
            "gridcolor": "white",
            "linecolor": "white",
            "ticks": ""
           },
           "bgcolor": "#E5ECF6",
           "radialaxis": {
            "gridcolor": "white",
            "linecolor": "white",
            "ticks": ""
           }
          },
          "scene": {
           "xaxis": {
            "backgroundcolor": "#E5ECF6",
            "gridcolor": "white",
            "gridwidth": 2,
            "linecolor": "white",
            "showbackground": true,
            "ticks": "",
            "zerolinecolor": "white"
           },
           "yaxis": {
            "backgroundcolor": "#E5ECF6",
            "gridcolor": "white",
            "gridwidth": 2,
            "linecolor": "white",
            "showbackground": true,
            "ticks": "",
            "zerolinecolor": "white"
           },
           "zaxis": {
            "backgroundcolor": "#E5ECF6",
            "gridcolor": "white",
            "gridwidth": 2,
            "linecolor": "white",
            "showbackground": true,
            "ticks": "",
            "zerolinecolor": "white"
           }
          },
          "shapedefaults": {
           "line": {
            "color": "#2a3f5f"
           }
          },
          "ternary": {
           "aaxis": {
            "gridcolor": "white",
            "linecolor": "white",
            "ticks": ""
           },
           "baxis": {
            "gridcolor": "white",
            "linecolor": "white",
            "ticks": ""
           },
           "bgcolor": "#E5ECF6",
           "caxis": {
            "gridcolor": "white",
            "linecolor": "white",
            "ticks": ""
           }
          },
          "title": {
           "x": 0.05
          },
          "xaxis": {
           "automargin": true,
           "gridcolor": "white",
           "linecolor": "white",
           "ticks": "",
           "title": {
            "standoff": 15
           },
           "zerolinecolor": "white",
           "zerolinewidth": 2
          },
          "yaxis": {
           "automargin": true,
           "gridcolor": "white",
           "linecolor": "white",
           "ticks": "",
           "title": {
            "standoff": 15
           },
           "zerolinecolor": "white",
           "zerolinewidth": 2
          }
         }
        },
        "title": {
         "text": "Multiclass ROC Curve"
        },
        "width": 1000,
        "xaxis": {
         "title": {
          "text": "False Positive Rate"
         }
        },
        "yaxis": {
         "title": {
          "text": "True Positive Rate"
         }
        }
       }
      }
     },
     "metadata": {},
     "output_type": "display_data"
    }
   ],
   "source": [
    "import plotly.graph_objs as go\n",
    "from sklearn.metrics import roc_curve, auc\n",
    "from sklearn.preprocessing import label_binarize\n",
    "from sklearn.model_selection import train_test_split\n",
    "from sklearn.neighbors import KNeighborsClassifier\n",
    "import numpy as np\n",
    "\n",
    "# Assicurati che Z_train, Z_test, t_train, e t_test siano definiti e che i tuoi dati siano già preelaborati\n",
    "# Z_train, Z_test, t_train, t_test = ...\n",
    "\n",
    "# Previsione delle probabilità per il set di test\n",
    "y_score = clf.predict_proba(X_test_norm)\n",
    "\n",
    "# Binarizza il vettore delle etichette in un formato \"one-vs-all\"\n",
    "y_test_binarize = label_binarize(y_test, classes=np.unique(y_train))\n",
    "\n",
    "# Calcola ROC curve e AUC per ciascuna classe\n",
    "fpr = dict()\n",
    "tpr = dict()\n",
    "roc_auc = dict()\n",
    "n_classes = y_score.shape[1]\n",
    "\n",
    "# Preparare i dati per il plot\n",
    "traces = []\n",
    "\n",
    "# Calcola la ROC curve per ogni classe\n",
    "for i in range(n_classes):\n",
    "    fpr[i], tpr[i], _ = roc_curve(y_test_binarize[:, i], y_score[:, i])\n",
    "    roc_auc[i] = auc(fpr[i], tpr[i])\n",
    "    traces.append(go.Scatter(x=fpr[i], y=tpr[i], mode='lines', \n",
    "                             name=f'Class {i} (AUC = {roc_auc[i]:.2f})'))\n",
    "\n",
    "# Aggiungi la linea diagonale che rappresenta il caso di \"indovinare casualmente\"\n",
    "traces.append(go.Scatter(x=[0, 1], y=[0, 1], mode='lines', name='Chance', \n",
    "                         line=dict(dash='dash')))\n",
    "\n",
    "# Crea il layout del plot\n",
    "layout = go.Layout(title='Multiclass ROC Curve',\n",
    "                   xaxis=dict(title='False Positive Rate'),\n",
    "                   yaxis=dict(title='True Positive Rate'),\n",
    "                   width=1000,\n",
    "                   height=800,\n",
    "                   showlegend=True,\n",
    "                   legend=dict(orientation=\"h\", yanchor=\"bottom\", y=1.02, xanchor=\"right\", x=1))\n",
    "\n",
    "fig = go.Figure(data=traces, layout=layout)\n",
    "fig.show()\n"
   ]
  }
 ],
 "metadata": {
  "kernelspec": {
   "display_name": "base",
   "language": "python",
   "name": "python3"
  },
  "language_info": {
   "codemirror_mode": {
    "name": "ipython",
    "version": 3
   },
   "file_extension": ".py",
   "mimetype": "text/x-python",
   "name": "python",
   "nbconvert_exporter": "python",
   "pygments_lexer": "ipython3",
   "version": "3.9.18"
  }
 },
 "nbformat": 4,
 "nbformat_minor": 2
}
